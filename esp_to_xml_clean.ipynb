{
 "cells": [
  {
   "cell_type": "code",
   "execution_count": 1,
   "id": "538feb4b",
   "metadata": {
    "collapsed": true
   },
   "outputs": [
    {
     "name": "stderr",
     "output_type": "stream",
     "text": [
      "Warning: importing 'simtk.openmm' is deprecated.  Import 'openmm' instead.\n",
      "/home/madilyn/miniconda3/envs/esp/lib/python3.10/site-packages/numexpr/expressions.py:21: DeprecationWarning: distutils Version classes are deprecated. Use packaging.version instead.\n",
      "  _np_version_forbids_neg_powint = LooseVersion(numpy.__version__) >= LooseVersion('1.12.0b1')\n",
      "/home/madilyn/miniconda3/envs/esp/lib/python3.10/site-packages/numexpr/expressions.py:21: DeprecationWarning: distutils Version classes are deprecated. Use packaging.version instead.\n",
      "  _np_version_forbids_neg_powint = LooseVersion(numpy.__version__) >= LooseVersion('1.12.0b1')\n",
      "/home/madilyn/miniconda3/envs/esp/lib/python3.10/site-packages/qcelemental/models/results.py:788: DeprecationWarning: ResultProtocols has been renamed to AtomicResultProtocols and will be removed as soon as v0.13.0\n",
      "  warn(\n",
      "/home/madilyn/miniconda3/envs/esp/lib/python3.10/site-packages/qcelemental/models/results.py:788: DeprecationWarning: ResultProtocols has been renamed to AtomicResultProtocols and will be removed as soon as v0.13.0\n",
      "  warn(\n",
      "LICENSE: Could not open license file \"oe_license.txt\" in local directory\n",
      "LICENSE: N.B. OE_LICENSE environment variable is not set\n",
      "LICENSE: N.B. OE_DIR environment variable is not set\n",
      "LICENSE: No product keys!\n",
      "LICENSE: No product keys!\n",
      "LICENSE: No product keys!\n",
      "Warning: Unable to load toolkit 'OpenEye Toolkit'. The Open Force Field Toolkit does not require the OpenEye Toolkits, and can use RDKit/AmberTools instead. However, if you have a valid license for the OpenEye Toolkits, consider installing them for faster performance and additional file format support: https://docs.eyesopen.com/toolkits/python/quickstart-python/linuxosx.html OpenEye offers free Toolkit licenses for academics: https://www.eyesopen.com/academic-licensing\n",
      "LICENSE: No product keys!\n"
     ]
    }
   ],
   "source": [
    "from writers import foyer_xml_writer\n",
    "from writers.foyer_xml_writer import parmed_to_foyer_xml, mbuild_to_foyer_xml\n",
    "\n",
    "\n",
    "import ele\n",
    "import espaloma as esp\n",
    "import forcefield_utilities as ffutils\n",
    "import foyer\n",
    "import gmso\n",
    "import mbuild as mb\n",
    "from mbuild.lib.recipes import Polymer\n",
    "from mbuild.formats.hoomd_forcefield import create_hoomd_forcefield\n",
    "import numpy as np\n",
    "from openff.toolkit.topology import Molecule\n",
    "import torch\n",
    "from mbuild.formats.hoomd_forcefield import create_hoomd_forcefield\n",
    "import hoomd\n",
    "import gsd.hoomd\n",
    "import matplotlib.pyplot as plt\n",
    "\n",
    "import numpy as np\n",
    "import os\n",
    "import warnings\n",
    "warnings.filterwarnings(\"ignore\")\n",
    "\n",
    "if not os.path.exists(\"espaloma_model.pt\"):\n",
    "    os.system(\"wget http://data.wangyq.net/espaloma_model.pt\")"
   ]
  },
  {
   "cell_type": "code",
   "execution_count": 2,
   "id": "741725c0",
   "metadata": {},
   "outputs": [],
   "source": [
    "import mbuild as mb\n",
    "from openff.toolkit.topology import Molecule\n",
    "import random\n",
    "import numpy\n",
    "import random\n",
    "import warnings\n",
    "warnings.filterwarnings(\"ignore\")\n",
    "\n",
    "octet = {        6 : 4, 7 : 3,1 : 1,8 : 2,16 : 2}\n",
    "atom_type = {6:\"C\",7:\"N\",8:\"O\",1:\"H\",16:\"S\"}\n",
    "\n",
    "class MadAtom():\n",
    "    \n",
    "    def check_happy(self):\n",
    "        if self.desired_order == self.current_order:\n",
    "            self.happy = True\n",
    "            return\n",
    "        self.happy= False\n",
    "    \n",
    "    def add_order(self,o):\n",
    "        self.current_order += o\n",
    "        self.check_happy()\n",
    "        for b in self.bonds:\n",
    "            b.check_done()\n",
    "    \n",
    "    def status(self):\n",
    "        return self.desired_order - self.current_order\n",
    "    \n",
    "    def __str__(self):\n",
    "        return \"{}{}: {}-{}, {}\".format(atom_type[self.atomic_number],self.index,self.desired_order,self.current_order,self.happy)\n",
    "    \n",
    "    def __init__(self, i, an, do, co ):\n",
    "        self.index = i\n",
    "        self.atomic_number = an\n",
    "        self.desired_order = do \n",
    "        self.current_order = co\n",
    "        self.happy = False\n",
    "        self.check_happy()\n",
    "        self.bonds = []\n",
    "\n",
    "class MadBond():\n",
    "    def __init__(self,a1,a2,bo,i):\n",
    "        self.atom1 = a1\n",
    "        self.atom2 = a2\n",
    "        self.order = bo\n",
    "        self.happy = False\n",
    "        self.index = i\n",
    "        \n",
    "    def __repr__(self):\n",
    "        return \"Bond {} {}{}-{}{} O={}, {}. \".format(self.index,atom_type[self.atom1.atomic_number],self.atom1.index,atom_type[self.atom2.atomic_number],self.atom2.index,self.order,self.happy)\n",
    "    \n",
    "    def check_done(self):\n",
    "        if self.atom1.atomic_number == 1:\n",
    "            self.happy = True\n",
    "            return\n",
    "        if self.atom2.atomic_number == 1:\n",
    "            self.happy = True\n",
    "            return\n",
    "        if self.atom1.happy and self.atom2.happy:\n",
    "            self.happy = True\n",
    "            return\n",
    "        self.happy = False\n",
    "    \n",
    "    def add_order(self,o):\n",
    "        self.order += o\n",
    "        self.atom1.add_order(o)\n",
    "        self.atom2.add_order(o)\n",
    "        self.check_done()\n",
    "        \n",
    "class BondWalker():\n",
    "\n",
    "    def __init__(self, mol):\n",
    "        self.mol = mol\n",
    "        self.atom_list = []\n",
    "        for atom in mol.atoms:\n",
    "            self.atom_list.append(MadAtom(atom.molecule_atom_index, atom.atomic_number, octet[atom.atomic_number], len([b for b in mol.bonds if atom.molecule_atom_index in [b.atom1_index,b.atom2_index]]) )) #assumes we have no double bonds at the start\n",
    "        self.bond_list = [MadBond(self.atom_list[b.atom1_index],self.atom_list[b.atom2_index],b.bond_order,i) for i,b in enumerate(mol.bonds)] # .bond_order inside each of these, and can use atom1_index atom2_index\n",
    "        for b in self.bond_list: \n",
    "            b.atom1.bonds.append(b)\n",
    "            b.atom2.bonds.append(b)\n",
    "            b.check_done()\n",
    "            \n",
    "    def done(self):\n",
    "        for i in self.atom_list:\n",
    "            if i.happy == False:\n",
    "                return False\n",
    "        for i in self.bond_list:\n",
    "            if i.happy == False:\n",
    "                return False\n",
    "        return True\n",
    "    \n",
    "    def bond_increasable(self, b):\n",
    "        if not b.atom1.happy and not b.atom2.happy:\n",
    "            if b.atom1.status() > 0:\n",
    "                if b.atom2.status() >0:\n",
    "                    b.add_order(1) #this triggers each atom to increment, and *their* bonds to check happiness\n",
    "                    if self.done():\n",
    "                        return True\n",
    "                    for a in self.atom_list:\n",
    "                        if a.happy == False:\n",
    "                            for bx in a.bonds:\n",
    "                                if self.bond_increasable(bx):\n",
    "                                    return True\n",
    "                            #no bonds around this unhappy atom \"a\" are increasable\n",
    "                            b.add_order(-1)\n",
    "                            return False\n",
    "                        \n",
    "    def fill_in_bonds(self):        \n",
    "        for a in self.atom_list: #since some of the unhappy bonds might end up being OK, let's iterate atoms\n",
    "            if a.happy == False:\n",
    "                for b in a.bonds: #try incrementing every bond around every unhappy atom\n",
    "                    if self.bond_increasable(b):\n",
    "                        print(\"Done!\")\n",
    "                        for b1,b2 in zip(self.bond_list, self.mol.bonds):\n",
    "                            b2.bond_order=b1.order \n",
    "                        return self.mol\n",
    "        print(\"Sorry- I couldn't solve this\")"
   ]
  },
  {
   "cell_type": "code",
   "execution_count": 4,
   "id": "a1cdf10b",
   "metadata": {},
   "outputs": [
    {
     "name": "stdout",
     "output_type": "stream",
     "text": [
      "Done!\n"
     ]
    },
    {
     "data": {
      "image/svg+xml": [
       "<svg xmlns=\"http://www.w3.org/2000/svg\" xmlns:rdkit=\"http://www.rdkit.org/xml\" xmlns:xlink=\"http://www.w3.org/1999/xlink\" version=\"1.1\" baseProfile=\"full\" xml:space=\"preserve\" width=\"500px\" height=\"300px\" viewBox=\"0 0 500 300\">\n",
       "<!-- END OF HEADER -->\n",
       "<rect style=\"opacity:1.0;fill:#FFFFFF;stroke:none\" width=\"500.0\" height=\"300.0\" x=\"0.0\" y=\"0.0\"> </rect>\n",
       "<path class=\"bond-0 atom-1 atom-0\" d=\"M 307.1,142.4 L 250.4,101.0\" style=\"fill:none;fill-rule:evenodd;stroke:#000000;stroke-width:2.0px;stroke-linecap:butt;stroke-linejoin:miter;stroke-opacity:1\"/>\n",
       "<path class=\"bond-1 atom-1 atom-5\" d=\"M 307.1,142.4 L 377.4,142.7\" style=\"fill:none;fill-rule:evenodd;stroke:#000000;stroke-width:2.0px;stroke-linecap:butt;stroke-linejoin:miter;stroke-opacity:1\"/>\n",
       "<path class=\"bond-2 atom-2 atom-1\" d=\"M 285.2,209.2 L 307.1,142.4\" style=\"fill:none;fill-rule:evenodd;stroke:#000000;stroke-width:2.0px;stroke-linecap:butt;stroke-linejoin:miter;stroke-opacity:1\"/>\n",
       "<path class=\"bond-2 atom-2 atom-1\" d=\"M 277.6,198.6 L 294.7,146.4\" style=\"fill:none;fill-rule:evenodd;stroke:#000000;stroke-width:2.0px;stroke-linecap:butt;stroke-linejoin:miter;stroke-opacity:1\"/>\n",
       "<path class=\"bond-3 atom-2 atom-3\" d=\"M 285.2,209.2 L 307.8,225.8\" style=\"fill:none;fill-rule:evenodd;stroke:#000000;stroke-width:2.0px;stroke-linecap:butt;stroke-linejoin:miter;stroke-opacity:1\"/>\n",
       "<path class=\"bond-3 atom-2 atom-3\" d=\"M 307.8,225.8 L 330.5,242.3\" style=\"fill:none;fill-rule:evenodd;stroke:#CCCC00;stroke-width:2.0px;stroke-linecap:butt;stroke-linejoin:miter;stroke-opacity:1\"/>\n",
       "<path class=\"bond-4 atom-4 atom-3\" d=\"M 398.9,209.6 L 376.1,226.0\" style=\"fill:none;fill-rule:evenodd;stroke:#000000;stroke-width:2.0px;stroke-linecap:butt;stroke-linejoin:miter;stroke-opacity:1\"/>\n",
       "<path class=\"bond-4 atom-4 atom-3\" d=\"M 376.1,226.0 L 353.3,242.4\" style=\"fill:none;fill-rule:evenodd;stroke:#CCCC00;stroke-width:2.0px;stroke-linecap:butt;stroke-linejoin:miter;stroke-opacity:1\"/>\n",
       "<path class=\"bond-5 atom-5 atom-4\" d=\"M 377.4,142.7 L 398.9,209.6\" style=\"fill:none;fill-rule:evenodd;stroke:#000000;stroke-width:2.0px;stroke-linecap:butt;stroke-linejoin:miter;stroke-opacity:1\"/>\n",
       "<path class=\"bond-5 atom-5 atom-4\" d=\"M 369.7,153.2 L 386.5,205.5\" style=\"fill:none;fill-rule:evenodd;stroke:#000000;stroke-width:2.0px;stroke-linecap:butt;stroke-linejoin:miter;stroke-opacity:1\"/>\n",
       "<path class=\"bond-6 atom-6 atom-2\" d=\"M 214.9,209.0 L 285.2,209.2\" style=\"fill:none;fill-rule:evenodd;stroke:#000000;stroke-width:2.0px;stroke-linecap:butt;stroke-linejoin:miter;stroke-opacity:1\"/>\n",
       "<path class=\"bond-7 atom-6 atom-10\" d=\"M 214.9,209.0 L 192.2,225.4\" style=\"fill:none;fill-rule:evenodd;stroke:#000000;stroke-width:2.0px;stroke-linecap:butt;stroke-linejoin:miter;stroke-opacity:1\"/>\n",
       "<path class=\"bond-7 atom-6 atom-10\" d=\"M 192.2,225.4 L 169.4,241.8\" style=\"fill:none;fill-rule:evenodd;stroke:#CCCC00;stroke-width:2.0px;stroke-linecap:butt;stroke-linejoin:miter;stroke-opacity:1\"/>\n",
       "<path class=\"bond-8 atom-7 atom-0\" d=\"M 193.5,142.1 L 250.4,101.0\" style=\"fill:none;fill-rule:evenodd;stroke:#000000;stroke-width:2.0px;stroke-linecap:butt;stroke-linejoin:miter;stroke-opacity:1\"/>\n",
       "<path class=\"bond-9 atom-7 atom-6\" d=\"M 193.5,142.1 L 214.9,209.0\" style=\"fill:none;fill-rule:evenodd;stroke:#000000;stroke-width:2.0px;stroke-linecap:butt;stroke-linejoin:miter;stroke-opacity:1\"/>\n",
       "<path class=\"bond-9 atom-7 atom-6\" d=\"M 205.8,146.1 L 222.6,198.4\" style=\"fill:none;fill-rule:evenodd;stroke:#000000;stroke-width:2.0px;stroke-linecap:butt;stroke-linejoin:miter;stroke-opacity:1\"/>\n",
       "<path class=\"bond-10 atom-7 atom-8\" d=\"M 193.5,142.1 L 123.2,141.9\" style=\"fill:none;fill-rule:evenodd;stroke:#000000;stroke-width:2.0px;stroke-linecap:butt;stroke-linejoin:miter;stroke-opacity:1\"/>\n",
       "<path class=\"bond-11 atom-9 atom-8\" d=\"M 101.3,208.6 L 123.2,141.9\" style=\"fill:none;fill-rule:evenodd;stroke:#000000;stroke-width:2.0px;stroke-linecap:butt;stroke-linejoin:miter;stroke-opacity:1\"/>\n",
       "<path class=\"bond-11 atom-9 atom-8\" d=\"M 113.7,204.6 L 130.8,152.4\" style=\"fill:none;fill-rule:evenodd;stroke:#000000;stroke-width:2.0px;stroke-linecap:butt;stroke-linejoin:miter;stroke-opacity:1\"/>\n",
       "<path class=\"bond-12 atom-10 atom-9\" d=\"M 146.6,241.7 L 123.9,225.2\" style=\"fill:none;fill-rule:evenodd;stroke:#CCCC00;stroke-width:2.0px;stroke-linecap:butt;stroke-linejoin:miter;stroke-opacity:1\"/>\n",
       "<path class=\"bond-12 atom-10 atom-9\" d=\"M 123.9,225.2 L 101.3,208.6\" style=\"fill:none;fill-rule:evenodd;stroke:#000000;stroke-width:2.0px;stroke-linecap:butt;stroke-linejoin:miter;stroke-opacity:1\"/>\n",
       "<path class=\"bond-13 atom-11 atom-0\" d=\"M 284.2,63.7 L 250.4,101.0\" style=\"fill:none;fill-rule:evenodd;stroke:#000000;stroke-width:2.0px;stroke-linecap:butt;stroke-linejoin:miter;stroke-opacity:1\"/>\n",
       "<path class=\"bond-14 atom-12 atom-0\" d=\"M 217.0,63.6 L 250.4,101.0\" style=\"fill:none;fill-rule:evenodd;stroke:#000000;stroke-width:2.0px;stroke-linecap:butt;stroke-linejoin:miter;stroke-opacity:1\"/>\n",
       "<path class=\"bond-15 atom-13 atom-4\" d=\"M 452.2,227.1 L 398.9,209.6\" style=\"fill:none;fill-rule:evenodd;stroke:#000000;stroke-width:2.0px;stroke-linecap:butt;stroke-linejoin:miter;stroke-opacity:1\"/>\n",
       "<path class=\"bond-16 atom-14 atom-5\" d=\"M 406.8,102.5 L 377.4,142.7\" style=\"fill:none;fill-rule:evenodd;stroke:#000000;stroke-width:2.0px;stroke-linecap:butt;stroke-linejoin:miter;stroke-opacity:1\"/>\n",
       "<path class=\"bond-17 atom-15 atom-8\" d=\"M 94.0,101.4 L 123.2,141.9\" style=\"fill:none;fill-rule:evenodd;stroke:#000000;stroke-width:2.0px;stroke-linecap:butt;stroke-linejoin:miter;stroke-opacity:1\"/>\n",
       "<path class=\"bond-18 atom-16 atom-9\" d=\"M 47.8,225.8 L 101.3,208.6\" style=\"fill:none;fill-rule:evenodd;stroke:#000000;stroke-width:2.0px;stroke-linecap:butt;stroke-linejoin:miter;stroke-opacity:1\"/>\n",
       "<path class=\"atom-3\" d=\"M 333.9 260.4 Q 334.2 260.5, 335.5 261.1 Q 336.9 261.6, 338.3 262.0 Q 339.8 262.3, 341.2 262.3 Q 343.9 262.3, 345.5 261.0 Q 347.0 259.7, 347.0 257.4 Q 347.0 255.9, 346.2 254.9 Q 345.5 254.0, 344.3 253.4 Q 343.1 252.9, 341.1 252.3 Q 338.5 251.6, 337.0 250.8 Q 335.5 250.1, 334.5 248.6 Q 333.4 247.1, 333.4 244.5 Q 333.4 241.0, 335.8 238.8 Q 338.3 236.6, 343.1 236.6 Q 346.3 236.6, 350.1 238.1 L 349.1 241.2 Q 345.7 239.8, 343.2 239.8 Q 340.4 239.8, 338.9 241.0 Q 337.4 242.1, 337.4 244.0 Q 337.4 245.6, 338.2 246.5 Q 339.0 247.4, 340.1 247.9 Q 341.3 248.4, 343.2 249.0 Q 345.7 249.8, 347.3 250.6 Q 348.8 251.4, 349.9 253.1 Q 351.0 254.7, 351.0 257.4 Q 351.0 261.4, 348.3 263.5 Q 345.7 265.6, 341.4 265.6 Q 338.9 265.6, 336.9 265.0 Q 335.1 264.5, 332.8 263.6 L 333.9 260.4 \" fill=\"#CCCC00\"/>\n",
       "<path class=\"atom-10\" d=\"M 150.0 259.8 Q 150.3 259.9, 151.6 260.5 Q 152.9 261.0, 154.4 261.4 Q 155.9 261.7, 157.3 261.7 Q 160.0 261.7, 161.5 260.4 Q 163.1 259.1, 163.1 256.8 Q 163.1 255.3, 162.3 254.3 Q 161.5 253.3, 160.3 252.8 Q 159.1 252.3, 157.1 251.7 Q 154.6 250.9, 153.1 250.2 Q 151.6 249.5, 150.5 248.0 Q 149.5 246.5, 149.5 243.9 Q 149.5 240.3, 151.9 238.1 Q 154.3 235.9, 159.1 235.9 Q 162.4 235.9, 166.1 237.5 L 165.2 240.6 Q 161.8 239.2, 159.3 239.2 Q 156.5 239.2, 155.0 240.3 Q 153.5 241.5, 153.5 243.4 Q 153.5 244.9, 154.3 245.9 Q 155.1 246.8, 156.2 247.3 Q 157.3 247.8, 159.3 248.4 Q 161.8 249.2, 163.3 250.0 Q 164.9 250.8, 165.9 252.5 Q 167.1 254.1, 167.1 256.8 Q 167.1 260.7, 164.4 262.9 Q 161.8 264.9, 157.5 264.9 Q 154.9 264.9, 153.0 264.4 Q 151.1 263.9, 148.9 262.9 L 150.0 259.8 \" fill=\"#CCCC00\"/>\n",
       "<path class=\"atom-11\" d=\"M 286.5 34.8 L 290.4 34.8 L 290.4 46.8 L 304.9 46.8 L 304.9 34.8 L 308.7 34.8 L 308.7 63.1 L 304.9 63.1 L 304.9 50.0 L 290.4 50.0 L 290.4 63.1 L 286.5 63.1 L 286.5 34.8 \" fill=\"#000000\"/>\n",
       "<path class=\"atom-12\" d=\"M 192.5 34.4 L 196.4 34.4 L 196.4 46.5 L 210.8 46.5 L 210.8 34.4 L 214.7 34.4 L 214.7 62.8 L 210.8 62.8 L 210.8 49.7 L 196.4 49.7 L 196.4 62.8 L 192.5 62.8 L 192.5 34.4 \" fill=\"#000000\"/>\n",
       "<path class=\"atom-13\" d=\"M 454.5 217.3 L 458.4 217.3 L 458.4 229.4 L 472.8 229.4 L 472.8 217.3 L 476.7 217.3 L 476.7 245.7 L 472.8 245.7 L 472.8 232.6 L 458.4 232.6 L 458.4 245.7 L 454.5 245.7 L 454.5 217.3 \" fill=\"#000000\"/>\n",
       "<path class=\"atom-14\" d=\"M 407.8 71.8 L 411.6 71.8 L 411.6 83.9 L 426.1 83.9 L 426.1 71.8 L 429.9 71.8 L 429.9 100.1 L 426.1 100.1 L 426.1 87.1 L 411.6 87.1 L 411.6 100.1 L 407.8 100.1 L 407.8 71.8 \" fill=\"#000000\"/>\n",
       "<path class=\"atom-15\" d=\"M 71.0 70.7 L 74.9 70.7 L 74.9 82.8 L 89.4 82.8 L 89.4 70.7 L 93.2 70.7 L 93.2 99.0 L 89.4 99.0 L 89.4 86.0 L 74.9 86.0 L 74.9 99.0 L 71.0 99.0 L 71.0 70.7 \" fill=\"#000000\"/>\n",
       "<path class=\"atom-16\" d=\"M 23.3 215.9 L 27.2 215.9 L 27.2 228.0 L 41.6 228.0 L 41.6 215.9 L 45.5 215.9 L 45.5 244.2 L 41.6 244.2 L 41.6 231.2 L 27.2 231.2 L 27.2 244.2 L 23.3 244.2 L 23.3 215.9 \" fill=\"#000000\"/>\n",
       "</svg>"
      ],
      "text/plain": [
       "<IPython.core.display.SVG object>"
      ]
     },
     "execution_count": 4,
     "metadata": {},
     "output_type": "execute_result"
    }
   ],
   "source": [
    "b= BondWalker(Molecule.from_file(\"/home/madilyn/Projects/repos/forcefields/CPDT.sdf\",file_format = \"sdf\"))\n",
    "compound = b.fill_in_bonds()\n",
    "compound.visualize()"
   ]
  },
  {
   "cell_type": "code",
   "execution_count": 5,
   "id": "c3eebc8a",
   "metadata": {
    "scrolled": true
   },
   "outputs": [],
   "source": [
    "#Change input file for molecule\n",
    "#This one needs to be .sdf file!\n",
    "\n",
    "molecule = compound\n",
    "\n",
    "molecule_graph = esp.Graph(molecule)\n",
    "\n",
    "espaloma_model = torch.load(\"espaloma_model.pt\")\n",
    "espaloma_model(molecule_graph.heterograph)\n",
    "openmm_system = esp.graphs.deploy.openmm_system_from_graph(molecule_graph)\n",
    "\n",
    "# Store the results for each in something more accessible\n",
    "pair_forces = openmm_system.getForces()[1]\n",
    "angle_forces = openmm_system.getForces()[3]\n",
    "bond_forces = openmm_system.getForces()[2]\n",
    "torsion_forces = openmm_system.getForces()[0]"
   ]
  },
  {
   "cell_type": "code",
   "execution_count": 27,
   "id": "ec6cfe57",
   "metadata": {},
   "outputs": [],
   "source": [
    "# get a parmed structure from openmm \n",
    "import parmed as pmd\n",
    "topology = molecule.to_topology()\n",
    "openmm_topology = topology.to_openmm()\n",
    "\n",
    "structure = pmd.openmm.load_topology(topology=openmm_topology, system=openmm_system)\n",
    "structure.bonds.sort(key=lambda x: x.atom1.idx)"
   ]
  },
  {
   "cell_type": "code",
   "execution_count": 28,
   "id": "1b98eb25",
   "metadata": {},
   "outputs": [],
   "source": [
    "# step 1: how to get bond parameters\n",
    "\n",
    "bond_parameters = {}\n",
    "\n",
    "for bond in structure.bonds:\n",
    "    bond_parameters[(bond.atom1.name, bond.atom2.name)] = {\"k\":[bond.type.k] , \"l0\":[bond.type.req]}\n",
    "    \n",
    "# step 2: get angle parameters\n",
    "\n",
    "angle_parameters = {}\n",
    "\n",
    "for angle in structure.angles:\n",
    "    angle_parameters[(angle.atom1.name, angle.atom2.name,angle.atom3.name)] = {\"k\":[angle.type.k], \n",
    "                                                                               \"t0\":[angle.type.theteq]}\n",
    "    \n",
    "# step 3: dihedral parameters\n",
    "\n",
    "dihedral_parameters = {}\n",
    "\n",
    "for dihedral in structure.dihedrals:\n",
    "    dihedral_parameters[(dihedral.atom1.name, dihedral.atom2.name,dihedral.atom3.name,\n",
    "                         dihedral.atom4.name)] = {\"periodicity\":[dihedral.type.per],\n",
    "                                                  \"k\":[dihedral.type.phi_k],\"phase\":[dihedral.type.phase]}\n",
    "    \n",
    "# step 4: non-bonding parameters\n",
    "\n",
    "nonbonded_parameters = {}\n",
    "\n",
    "for nonbonded in structure.adjusts:\n",
    "    nonbonded_parameters[(nonbonded.atom1.name,nonbonded.atom2.name)] = {\"sigma\":[nonbonded.type.rmin],\n",
    "                                                    \"epsilon\":[nonbonded.type.epsilon],\n",
    "                                                    \"charge\":[nonbonded.type.chgscale]}"
   ]
  },
  {
   "cell_type": "code",
   "execution_count": 114,
   "id": "ee6de8bc",
   "metadata": {
    "scrolled": true
   },
   "outputs": [],
   "source": [
    "for i in range(len(compound.atoms)):\n",
    "    if compound.atoms[i].atomic_number == 6:\n",
    "        compound.atoms[i].name = 'C'\n",
    "    if compound.atoms[i].atomic_number == 1:\n",
    "        compound.atoms[i].name = 'H'\n",
    "    if compound.atoms[i].atomic_number == 7:\n",
    "        compound.atoms[i].name = 'N'\n",
    "    if compound.atoms[i].atomic_number == 16:\n",
    "        compound.atoms[i].name = 'S'\n",
    "    if compound.atoms[i].atomic_number == 8:\n",
    "        compound.atoms[i].name = 'O'\n",
    "    #print(compound.atoms[i].name)"
   ]
  },
  {
   "cell_type": "code",
   "execution_count": 103,
   "id": "31a33eae",
   "metadata": {},
   "outputs": [
    {
     "name": "stdout",
     "output_type": "stream",
     "text": [
      "{0: 'C0', 1: 'C1', 2: 'C2', 3: 'S3', 4: 'C4', 5: 'C5', 6: 'C2', 7: 'C1', 8: 'C5', 9: 'C4', 10: 'S3', 11: 'H6', 12: 'H6', 13: 'H7', 14: 'H8', 15: 'H8', 16: 'H7'}\n"
     ]
    }
   ],
   "source": [
    "particle_types = []\n",
    "type_map = dict()\n",
    "\n",
    "for i in range(pair_forces.getNumParticles()):\n",
    "    pair_parms = pair_forces.getParticleParameters(index=i)\n",
    "    charge = pair_parms[0]\n",
    "    sigma = pair_parms[1]\n",
    "    epsilon = pair_parms[2]\n",
    "    if (charge, sigma, epsilon) not in particle_types: \n",
    "        particle_types.append((charge, sigma, epsilon))\n",
    "\n",
    "    type_map[compound.atoms[i].molecule_atom_index] = \"\".join([compound.atoms[i].name , str(particle_types.index((charge, sigma, epsilon)))])\n",
    "\n",
    "print(type_map)"
   ]
  },
  {
   "cell_type": "code",
   "execution_count": 32,
   "id": "4de400b7",
   "metadata": {},
   "outputs": [
    {
     "name": "stdout",
     "output_type": "stream",
     "text": [
      "{1: 'C2', 0: 'C1', 5: 'C2', 2: 'C2', 3: 'S1', 4: 'C2', 6: 'C2', 10: 'S1', 7: 'C2', 8: 'C2', 9: 'C2', 11: 'H1', 12: 'H1', 13: 'H2', 14: 'H3', 15: 'H3', 16: 'H2'}\n"
     ]
    }
   ],
   "source": [
    "#\"\"\" type map is where our error is coming from \"\"\"\n",
    "#\n",
    "#\n",
    "#import networkx  as nx\n",
    "#Gopenmm = nx.Graph()\n",
    "#Gparmed = nx.Graph()\n",
    "##openmm:\n",
    "#for i in range(bond_forces.getNumBonds()):\n",
    "#    Gopenmm.add_edge(bond_forces.getBondParameters(index=i)[0],bond_forces.getBondParameters(index=i)[1])\n",
    "##parmed\n",
    "#for b in structure.bonds:\n",
    "#    Gparmed.add_edge(b.atom1.idx,b.atom2.idx)\n",
    "#type_map = {}\n",
    "##nx.rooted_tree_isomorphism\n",
    "##in here we still need to check that one known index on one corresponds to the same index on the other....\n",
    "#tree_openmm = nx.bfs_tree(Gopenmm,0)\n",
    "#tree_parmed = nx.bfs_tree(Gparmed,0)\n",
    "#if nx.is_isomorphic(Gopenmm,Gparmed):\n",
    "##if nx.isomorphism.tree_isomorphism(tree_openmm,tree_parmed):  <- want this work\n",
    "#    for b in structure.bonds:\n",
    "#        type_map[b.atom1.idx] = b.atom1.atom_type.__str__()\n",
    "#        type_map[b.atom2.idx] = b.atom2.atom_type.__str__()\n",
    "#print(type_map)"
   ]
  },
  {
   "cell_type": "code",
   "execution_count": 105,
   "id": "c07909e7",
   "metadata": {},
   "outputs": [],
   "source": [
    "# Rename the particle types so that they match the xml file\n",
    "# This is needed when we aren't using SMARTS matching with Foyer.\n",
    "\n",
    "CPDT = mb.load(\"/home/madilyn/Projects/repos/forcefields/CPDT.mol2\")\n",
    "\n",
    "for index in type_map:\n",
    "    CPDT[index].name = type_map[index]"
   ]
  },
  {
   "cell_type": "code",
   "execution_count": 106,
   "id": "d7bce47f",
   "metadata": {},
   "outputs": [
    {
     "name": "stdout",
     "output_type": "stream",
     "text": [
      "{('C0', 'C1'): {'k': 62091.073771214, 'l0': 0.16370454794869382}, ('C0', 'H6'): {'k': 89975.28480830675, 'l0': 0.12312252469607743}, ('C1', 'C2'): {'k': 95343.41173604075, 'l0': 0.14504711691383798}, ('C1', 'C5'): {'k': 62916.00285306054, 'l0': 0.15603395224722857}, ('C2', 'S3'): {'k': 14838.714944712952, 'l0': 0.20129187741816149}, ('C2', 'C2'): {'k': 119899.52420781607, 'l0': 0.1431114199881313}, ('S3', 'C4'): {'k': 16832.664956906985, 'l0': 0.2090723255760851}, ('C4', 'C5'): {'k': 88798.90636082878, 'l0': 0.15396539024526562}, ('C4', 'H7'): {'k': 234207.8104130059, 'l0': 0.1035506322053171}, ('C5', 'H8'): {'k': 67288.62086433225, 'l0': 0.12226254158024269}, ('C2', 'C1'): {'k': 95343.43269265257, 'l0': 0.1450471042972701}, ('C5', 'C4'): {'k': 88798.90636082878, 'l0': 0.15396539024526562}, ('C4', 'S3'): {'k': 16832.671942444256, 'l0': 0.20907235080922085}}\n"
     ]
    }
   ],
   "source": [
    "bond_types = []\n",
    "bond_dict = dict() \n",
    "\n",
    "for i in range(bond_forces.getNumBonds()):\n",
    "    bond_parms = bond_forces.getBondParameters(index=i)\n",
    "    l0 = bond_parms[2]/bond_parms[2].unit\n",
    "    k = bond_parms[3]/bond_parms[3].unit\n",
    "    bond_dict[type_map[bond_parms[0]],type_map[bond_parms[1]]] = {'k':k,'l0':l0}\n",
    "print(bond_dict)"
   ]
  },
  {
   "cell_type": "code",
   "execution_count": 107,
   "id": "569a6335",
   "metadata": {
    "scrolled": true
   },
   "outputs": [
    {
     "name": "stdout",
     "output_type": "stream",
     "text": [
      "{('C0', 'C1', 'C2'): {'k': 379.10931710139346, 't0': 2.177652597427368}, ('C0', 'C1', 'C5'): {'k': 428.2724833480933, 't0': 2.2276835441589355}, ('C1', 'C0', 'C1'): {'k': 615.1941644468548, 't0': 2.1875996589660645}, ('C1', 'C0', 'H6'): {'k': 542.7076692271827, 't0': 2.2062010765075684}, ('C1', 'C2', 'S3'): {'k': 470.7665094117085, 't0': 2.2712974548339844}, ('C1', 'C2', 'C2'): {'k': 471.8351930978462, 't0': 2.4441423416137695}, ('C1', 'C5', 'C4'): {'k': 538.6140739418067, 't0': 2.1330296993255615}, ('C1', 'C5', 'H8'): {'k': 569.5446342322249, 't0': 2.1879079341888428}, ('C2', 'C1', 'C5'): {'k': 422.1543122802479, 't0': 2.240173578262329}, ('C2', 'S3', 'C4'): {'k': 433.8851070959699, 't0': 1.7351200580596924}, ('C2', 'C2', 'C1'): {'k': 471.83527134383286, 't0': 2.4441423416137695}, ('C2', 'C2', 'S3'): {'k': 408.8791764253329, 't0': 2.442430019378662}, ('S3', 'C2', 'C2'): {'k': 408.8790981793462, 't0': 2.442430257797241}, ('S3', 'C4', 'C5'): {'k': 489.7426478564602, 't0': 2.2854719161987305}, ('S3', 'C4', 'H7'): {'k': 546.9485625824922, 't0': 2.3533806800842285}, ('C4', 'C5', 'H8'): {'k': 475.47378797065136, 't0': 2.293156147003174}, ('C5', 'C4', 'H7'): {'k': 593.7404842027166, 't0': 2.430001974105835}, ('C5', 'C4', 'S3'): {'k': 489.74249136448685, 't0': 2.2854721546173096}, ('H6', 'C0', 'H6'): {'k': 482.22590802261504, 't0': 2.1558918952941895}}\n"
     ]
    }
   ],
   "source": [
    "angle_types = []\n",
    "angle_dict = dict()\n",
    "\n",
    "for i in range(angle_forces.getNumAngles()):\n",
    "    angle_parms = angle_forces.getAngleParameters(index=i)\n",
    "    k = angle_parms[4]/angle_parms[4].unit\n",
    "    t0 = angle_parms[3]/angle_parms[3].unit  \n",
    "    angle_dict[type_map[angle_parms[0]],type_map[angle_parms[1]],type_map[angle_parms[2]]] = {'k':k,'t0':t0}\n",
    "print(angle_dict)"
   ]
  },
  {
   "cell_type": "code",
   "execution_count": 108,
   "id": "83bacdda",
   "metadata": {},
   "outputs": [
    {
     "name": "stdout",
     "output_type": "stream",
     "text": [
      "{('C0', 'C1', 'C2', 'S3'): {'periodicity': [1, 2, 3, 4, 5, 6], 'k': [3.3956313034013226, 5.358254603319817, 0.3513929454520035, 0.5797049538492011, 2.1823392531222683, 0.10450240559139175], 'phase': [0.0, 3.141592653589793, 3.141592653589793, 0.0, 0.0, 3.141592653589793]}, ('C0', 'C1', 'C2', 'C2'): {'periodicity': [1, 2, 3, 4, 5, 6], 'k': [0.2079778326075487, 5.989132432460718, 0.16017931549162082, 0.6180063643312911, 1.1644274315945493, 0.3958672307273797], 'phase': [0.0, 3.141592653589793, 3.141592653589793, 0.0, 0.0, 3.141592653589793]}, ('C0', 'C1', 'C5', 'C4'): {'periodicity': [1, 2, 3, 4, 5, 6], 'k': [0.13421387384776784, 2.7680874868493093, 0.09594914117193627, 0.9558334118418598, 0.9807645393492262, 0.10474325651915516], 'phase': [0.0, 3.141592653589793, 3.141592653589793, 0.0, 3.141592653589793, 3.141592653589793]}, ('C0', 'C1', 'C5', 'H8'): {'periodicity': [1, 2, 3, 4, 5, 6], 'k': [0.09253321481573865, 3.5598097223686493, 0.2732154240057969, 0.6732675924272584, 0.5582362112526261, 0.024887114139856458], 'phase': [3.141592653589793, 3.141592653589793, 0.0, 3.141592653589793, 0.0, 0.0]}, ('C1', 'C0', 'C1', 'C2'): {'periodicity': [1, 2, 3, 4, 5, 6], 'k': [2.1288825730942134, 2.454741652422671, 0.62039286692517, 0.8862336066859475, 1.7145358409803173, 0.0027679517789661536], 'phase': [0.0, 3.141592653589793, 3.141592653589793, 0.0, 0.0, 0.0]}, ('C1', 'C0', 'C1', 'C5'): {'periodicity': [1, 2, 3, 4, 5, 6], 'k': [2.42909775288035, 3.088108682014974, 0.12707148237571825, 0.34293259814173593, 0.585680991082234, 0.01517360844909405], 'phase': [0.0, 3.141592653589793, 3.141592653589793, 3.141592653589793, 0.0, 0.0]}, ('C1', 'C2', 'S3', 'C4'): {'periodicity': [1, 2, 3, 4, 5, 6], 'k': [0.04836580051939091, 3.106486708137509, 0.6502339300969924, 0.529275415431005, 0.3960322808555425, 0.3023473829232905], 'phase': [3.141592653589793, 3.141592653589793, 0.0, 0.0, 3.141592653589793, 3.141592653589793]}, ('C1', 'C2', 'C2', 'C1'): {'periodicity': [1, 2, 3, 4, 5, 6], 'k': [2.2814084530132512, 5.422235368556945, 0.5486021741420902, 0.45801288305804605, 0.4743076097851047, 0.251837153331326], 'phase': [0.0, 3.141592653589793, 3.141592653589793, 0.0, 0.0, 0.0]}, ('C1', 'C2', 'C2', 'S3'): {'periodicity': [1, 2, 3, 4, 5, 6], 'k': [0.37942212499466166, 1.282945649550812, 0.26134037293287365, 0.7344363925179097, 0.14557665822661564, 1.8069247897581062], 'phase': [3.141592653589793, 3.141592653589793, 3.141592653589793, 0.0, 3.141592653589793, 0.0]}, ('C1', 'C5', 'C4', 'S3'): {'periodicity': [1, 2, 3, 4, 5, 6], 'k': [1.917170939809561, 2.5652885604854445, 0.3543271699526743, 1.2503904287158691, 0.33713261437874326, 0.5187036490737964], 'phase': [0.0, 3.141592653589793, 3.141592653589793, 0.0, 0.0, 3.141592653589793]}, ('C1', 'C5', 'C4', 'H7'): {'periodicity': [1, 2, 3, 4, 5, 6], 'k': [4.492715837518392, 3.087580521604853, 0.055417720069336485, 1.2736686097545245, 1.0550004192161984, 0.11020947224519652], 'phase': [0.0, 3.141592653589793, 3.141592653589793, 3.141592653589793, 3.141592653589793, 3.141592653589793]}, ('C2', 'C1', 'C0', 'C1'): {'periodicity': [1, 2, 3, 4, 5, 6], 'k': [2.128875237532962, 2.4547367620485034, 0.62039286692517, 0.8862727296792898, 1.7145358409803173, 0.002756948437088638], 'phase': [0.0, 3.141592653589793, 3.141592653589793, 0.0, 0.0, 0.0]}, ('C2', 'C1', 'C0', 'H6'): {'periodicity': [1, 2, 3, 4, 5, 6], 'k': [1.0827997511729706, 2.135845243315597, 0.36751161870902194, 0.11038552571523677, 0.8040655399188287, 0.03309438458694117], 'phase': [0.0, 3.141592653589793, 3.141592653589793, 0.0, 0.0, 3.141592653589793]}, ('C2', 'C1', 'C5', 'C4'): {'periodicity': [1, 2, 3, 4, 5, 6], 'k': [2.636816395657006, 2.2414675445914116, 0.5246589022166163, 1.1775825381058902, 1.2060542965107328, 0.1916060824873474], 'phase': [0.0, 3.141592653589793, 3.141592653589793, 0.0, 3.141592653589793, 3.141592653589793]}, ('C2', 'C1', 'C5', 'H8'): {'periodicity': [1, 2, 3, 4, 5, 6], 'k': [3.7433417971049843, 3.7715042393437144, 0.33358220273293154, 0.978407379000354, 0.209425383361213, 0.22210001061056905], 'phase': [0.0, 3.141592653589793, 3.141592653589793, 3.141592653589793, 3.141592653589793, 3.141592653589793]}, ('C2', 'S3', 'C4', 'C5'): {'periodicity': [1, 2, 3, 4, 5, 6], 'k': [0.7546776511983707, 2.431551498119036, 0.6699519187415004, 1.541485060679087, 2.181234028560349, 0.07739506157936103], 'phase': [0.0, 3.141592653589793, 0.0, 3.141592653589793, 3.141592653589793, 3.141592653589793]}, ('C2', 'S3', 'C4', 'H7'): {'periodicity': [1, 2, 3, 4, 5, 6], 'k': [4.454592925693427, 3.0564728515235746, 0.264354066013771, 1.9808167144161954, 1.7510962782586759, 0.14939237267102967], 'phase': [0.0, 3.141592653589793, 0.0, 3.141592653589793, 3.141592653589793, 0.0]}, ('C2', 'C2', 'C1', 'C5'): {'periodicity': [1, 2, 3, 4, 5, 6], 'k': [4.632751701812908, 5.511103247933929, 0.8351878811226107, 0.4211785848262915, 1.2826668982232483, 0.08231966836632025], 'phase': [0.0, 3.141592653589793, 3.141592653589793, 0.0, 0.0, 3.141592653589793]}, ('C2', 'C2', 'S3', 'C4'): {'periodicity': [1, 2, 3, 4, 5, 6], 'k': [1.9603162659048419, 3.6822500204074755, 0.15552367928388977, 0.012284619909475224, 0.25623604489524837, 0.61744030352137], 'phase': [0.0, 3.141592653589793, 3.141592653589793, 0.0, 0.0, 3.141592653589793]}, ('S3', 'C2', 'C1', 'C5'): {'periodicity': [1, 2, 3, 4, 5, 6], 'k': [6.206031530143847, 6.022949369830949, 0.2654788520723615, 0.9129546111387233, 2.1918754827494484, 0.25983902806336373], 'phase': [0.0, 3.141592653589793, 3.141592653589793, 0.0, 0.0, 3.141592653589793]}, ('S3', 'C2', 'C2', 'C1'): {'periodicity': [1, 2, 3, 4, 5, 6], 'k': [3.250925131776573, 0.8693715965554258, 3.600207880775177, 0.05113864267252485, 0.9405558829417002, 1.158480736606523], 'phase': [0.0, 0.0, 0.0, 3.141592653589793, 3.141592653589793, 3.141592653589793]}, ('S3', 'C2', 'C2', 'S3'): {'periodicity': [1, 2, 3, 4, 5, 6], 'k': [2.7852343612751045, 2.1312434012237116, 0.203723207081576, 0.9491238184836591, 3.3363599684877716, 0.310286905384689], 'phase': [0.0, 3.141592653589793, 3.141592653589793, 3.141592653589793, 0.0, 3.141592653589793]}, ('S3', 'C4', 'C5', 'H8'): {'periodicity': [1, 2, 3, 4, 5, 6], 'k': [2.830678163229244, 1.7506304701191944, 0.6118347121315467, 0.21034477370475652, 0.7292036921583801, 0.36769623033385584], 'phase': [0.0, 3.141592653589793, 0.0, 3.141592653589793, 0.0, 3.141592653589793]}, ('C4', 'S3', 'C2', 'C2'): {'periodicity': [1, 2, 3, 4, 5, 6], 'k': [1.9603284918402613, 3.68224023965914, 0.15553346003222535, 0.012245496916132947, 0.25623604489524837, 0.6174476390826217], 'phase': [0.0, 3.141592653589793, 3.141592653589793, 0.0, 0.0, 3.141592653589793]}, ('C5', 'C1', 'C0', 'C1'): {'periodicity': [1, 2, 3, 4, 5, 6], 'k': [2.42909775288035, 3.088103791640806, 0.12707148237571825, 0.3429130366450648, 0.585680991082234, 0.015168718074926266], 'phase': [0.0, 3.141592653589793, 3.141592653589793, 3.141592653589793, 0.0, 0.0]}, ('C5', 'C1', 'C0', 'H6'): {'periodicity': [1, 2, 3, 4, 5, 6], 'k': [1.183292049946779, 3.0936592566954095, 0.12064553071924912, 0.5695720985735512, 0.4154177240566411, 0.07244600292156289], 'phase': [0.0, 3.141592653589793, 0.0, 3.141592653589793, 0.0, 3.141592653589793]}, ('C5', 'C1', 'C2', 'C2'): {'periodicity': [1, 2, 3, 4, 5, 6], 'k': [4.6327394758774885, 5.5111179190564314, 0.8351878811226107, 0.42115902332962035, 1.282676678971584, 0.08232700392757192], 'phase': [0.0, 3.141592653589793, 3.141592653589793, 0.0, 0.0, 3.141592653589793]}, ('C5', 'C1', 'C2', 'S3'): {'periodicity': [1, 2, 3, 4, 5, 6], 'k': [6.206068207950106, 6.022944479456781, 0.2654690713240259, 0.9129546111387233, 2.1918754827494484, 0.2598316925021121], 'phase': [0.0, 3.141592653589793, 3.141592653589793, 0.0, 0.0, 3.141592653589793]}, ('H7', 'C4', 'C5', 'H8'): {'periodicity': [1, 2, 3, 4, 5, 6], 'k': [4.209115703967305, 1.048940023028771, 0.3411525019446623, 1.484600228359415, 1.0327394360044424, 0.09257600558970676], 'phase': [0.0, 3.141592653589793, 0.0, 3.141592653589793, 3.141592653589793, 3.141592653589793]}, ('H8', 'C5', 'C4', 'H7'): {'periodicity': [1, 2, 3, 4, 5, 6], 'k': [4.209130375089808, 1.0489498037771068, 0.34117206344133344, 1.4846197898560862, 1.0327394360044424, 0.09258334115095844], 'phase': [0.0, 3.141592653589793, 0.0, 3.141592653589793, 3.141592653589793, 3.141592653589793]}, ('C0', 'C1', 'C5', 'C2'): {'periodicity': [1, 2, 3, 4, 5, 6], 'k': [0.2331681499458078, 0.0660102705167582, 0.5101088164739147, 0.9238748166553866, 1.1929774359860765, 0.2470372510856453], 'phase': [3.141592653589793, 0.0, 0.0, 0.0, 3.141592653589793, 3.141592653589793]}, ('C0', 'C1', 'C2', 'C5'): {'periodicity': [1, 2, 3, 4, 5, 6], 'k': [0.19425544269274478, 0.23150053235459322, 0.2592925287501138, 1.9008297545279085, 0.5628625052153505, 0.290796319138983], 'phase': [3.141592653589793, 0.0, 3.141592653589793, 0.0, 3.141592653589793, 3.141592653589793]}, ('C1', 'C5', 'C4', 'H8'): {'periodicity': [1, 2, 3, 4, 5, 6], 'k': [0.47348113655074914, 0.07319423016923396, 0.3723897669413872, 0.7716130169414092, 0.7369793870851578, 0.8801157486020489], 'phase': [3.141592653589793, 0.0, 0.0, 0.0, 3.141592653589793, 0.0]}, ('C1', 'C5', 'H8', 'C4'): {'periodicity': [1, 2, 3, 4, 5, 6], 'k': [0.2593023094984494, 0.5748292508039198, 0.21263224622173782, 1.650912073057438, 0.6355921498386449, 0.2704181299818241], 'phase': [3.141592653589793, 0.0, 3.141592653589793, 0.0, 3.141592653589793, 3.141592653589793]}, ('C1', 'C2', 'S3', 'C2'): {'periodicity': [1, 2, 3, 4, 5, 6], 'k': [0.3794245701817455, 1.282945649550812, 0.2613428181199576, 0.7344363925179097, 0.14557665822661564, 1.8069247897581062], 'phase': [3.141592653589793, 3.141592653589793, 3.141592653589793, 0.0, 3.141592653589793, 0.0]}, ('C2', 'C1', 'C0', 'C5'): {'periodicity': [1, 2, 3, 4, 5, 6], 'k': [0.844993081329019, 0.9533539921387929, 0.2912633498720064, 0.23724672200174027, 0.0699127891026504, 0.7190855080052335], 'phase': [0.0, 0.0, 3.141592653589793, 3.141592653589793, 0.0, 3.141592653589793]}, ('C2', 'C1', 'C5', 'C0'): {'periodicity': [1, 2, 3, 4, 5, 6], 'k': [0.9290268258411478, 0.7015926396070675, 0.8493699662091864, 0.027361643468755525, 0.11797538642363867, 0.1752905716700756], 'phase': [0.0, 0.0, 3.141592653589793, 3.141592653589793, 3.141592653589793, 3.141592653589793]}, ('C2', 'C2', 'S3', 'C1'): {'periodicity': [1, 2, 3, 4, 5, 6], 'k': [0.1586804158091948, 0.1559589225848226, 0.29385280299384847, 0.7460510311663985, 0.4034754303389108, 1.3946515762913507], 'phase': [3.141592653589793, 0.0, 3.141592653589793, 0.0, 0.0, 0.0]}, ('C2', 'C2', 'C1', 'S3'): {'periodicity': [1, 2, 3, 4, 5, 6], 'k': [0.5800350541055266, 0.07515527021051563, 0.9101096359666145, 0.38315592567176526, 0.825250640813672, 0.7205526202555689], 'phase': [0.0, 3.141592653589793, 3.141592653589793, 0.0, 0.0, 0.0]}, ('S3', 'C2', 'C1', 'C2'): {'periodicity': [1, 2, 3, 4, 5, 6], 'k': [3.2509300221507402, 0.869366706181258, 3.6001993226203832, 0.05113864267252485, 0.9405558829417002, 1.1584709558581876], 'phase': [0.0, 0.0, 0.0, 3.141592653589793, 3.141592653589793, 3.141592653589793]}, ('S3', 'C4', 'C5', 'H7'): {'periodicity': [1, 2, 3, 4, 5, 6], 'k': [1.6767552553470964, 0.2845464209525541, 2.4370776209286324, 1.9293601974227645, 0.5175189559316505, 0.4141462267730171], 'phase': [0.0, 3.141592653589793, 0.0, 3.141592653589793, 0.0, 0.0]}, ('S3', 'C4', 'H7', 'C5'): {'periodicity': [1, 2, 3, 4, 5, 6], 'k': [2.3544388556478646, 0.7038911154659263, 2.909577014865199, 2.2780438755858152, 0.5267617631087637, 0.6803244023513718], 'phase': [0.0, 3.141592653589793, 0.0, 3.141592653589793, 0.0, 0.0]}, ('C4', 'C5', 'C1', 'H8'): {'periodicity': [1, 2, 3, 4, 5, 6], 'k': [0.03154291338221146, 1.7740272427314185, 0.6131502227826808, 1.1112641740165616, 0.6054478834684199, 0.005120221753670605], 'phase': [0.0, 0.0, 3.141592653589793, 0.0, 0.0, 0.0]}, ('C4', 'C5', 'H8', 'C1'): {'periodicity': [1, 2, 3, 4, 5, 6], 'k': [0.6551634272581194, 0.9872785177407155, 0.9995863669274877, 1.7308599099523827, 0.341044913712971, 0.9597163689310808], 'phase': [3.141592653589793, 0.0, 3.141592653589793, 0.0, 0.0, 3.141592653589793]}, ('C5', 'C1', 'C0', 'C2'): {'periodicity': [1, 2, 3, 4, 5, 6], 'k': [0.20872850504230367, 0.4267829536225728, 0.3772287921804102, 0.2670095391868781, 1.9760437092284375, 0.7223033742076358], 'phase': [0.0, 3.141592653589793, 0.0, 0.0, 3.141592653589793, 0.0]}, ('C5', 'C1', 'C2', 'C0'): {'periodicity': [1, 2, 3, 4, 5, 6], 'k': [1.070820779648982, 0.7142684894499656, 0.5649947083525046, 1.4753182981889597, 1.109528091186998, 0.612602500875889], 'phase': [3.141592653589793, 0.0, 3.141592653589793, 0.0, 3.141592653589793, 0.0]}, ('C5', 'C4', 'S3', 'H7'): {'periodicity': [1, 2, 3, 4, 5, 6], 'k': [0.574120146549591, 0.9482288800109545, 0.4850811040767345, 0.030515934806976674, 0.334775454029871, 0.6189110835523313], 'phase': [0.0, 3.141592653589793, 0.0, 3.141592653589793, 0.0, 0.0]}, ('C5', 'C4', 'H7', 'S3'): {'periodicity': [1, 2, 3, 4, 5, 6], 'k': [1.269592482885676, 1.0054462577740357, 0.23926522393949343, 1.8580829939273023, 1.5442627932063888, 0.7849784095419648], 'phase': [3.141592653589793, 3.141592653589793, 3.141592653589793, 3.141592653589793, 0.0, 0.0]}, ('H7', 'C4', 'S3', 'C5'): {'periodicity': [1, 2, 3, 4, 5, 6], 'k': [0.5335764995115717, 1.1717287602270519, 0.28394123714929076, 2.3237444221837635, 0.41821501808061395, 0.22880104581397606], 'phase': [3.141592653589793, 0.0, 3.141592653589793, 0.0, 3.141592653589793, 3.141592653589793]}, ('H7', 'C4', 'C5', 'S3'): {'periodicity': [1, 2, 3, 4, 5, 6], 'k': [1.3526848303705061, 1.4081441186202688, 0.1131339159975318, 0.9039612130441672, 0.08046621655672984, 1.22992421282369], 'phase': [3.141592653589793, 0.0, 0.0, 0.0, 0.0, 0.0]}, ('H8', 'C5', 'C1', 'C4'): {'periodicity': [1, 2, 3, 4, 5, 6], 'k': [0.15274839194367193, 1.2643182143457201, 1.0502714273959506, 1.3794376222553724, 0.2998875247168948, 0.8446849877564485], 'phase': [0.0, 0.0, 3.141592653589793, 0.0, 0.0, 3.141592653589793]}, ('H8', 'C5', 'C4', 'C1'): {'periodicity': [1, 2, 3, 4, 5, 6], 'k': [0.0797424411798977, 0.19323824486584557, 1.6748290592217603, 1.5080300109972717, 0.1948911913345568, 0.9486152195702094], 'phase': [3.141592653589793, 0.0, 3.141592653589793, 0.0, 0.0, 3.141592653589793]}}\n"
     ]
    }
   ],
   "source": [
    "dihedral_types = []\n",
    "dihedral_dict = {}\n",
    "\n",
    "for i in range(torsion_forces.getNumTorsions()):\n",
    "    if i%6==0:\n",
    "        periodicity=[]\n",
    "        phase = []\n",
    "        k = []\n",
    "    dihedral_parms = torsion_forces.getTorsionParameters(index=i)\n",
    "    periodicity.append(dihedral_parms[4])  \n",
    "    phase.append( dihedral_parms[5]/dihedral_parms[5].unit)\n",
    "    k.append(dihedral_parms[6]/dihedral_parms[6].unit)\n",
    "    dt = (type_map[dihedral_parms[0]],type_map[dihedral_parms[1]],type_map[dihedral_parms[2]],\n",
    "                  type_map[dihedral_parms[3]])\n",
    "   \n",
    "\n",
    "    if periodicity[-1]==6:\n",
    "        #print(dt,periodicity,phase)\n",
    "        dihedral_dict[dt] = {'periodicity':periodicity,'k':k,'phase':phase}\n",
    "print(dihedral_dict)"
   ]
  },
  {
   "cell_type": "code",
   "execution_count": 109,
   "id": "eed592f7",
   "metadata": {
    "scrolled": true
   },
   "outputs": [
    {
     "name": "stdout",
     "output_type": "stream",
     "text": [
      "{'C0': {'charge': 0.05519999999999999, 'sigma': 0.3399669508423535, 'epsilon': 0.4577296}, 'C1': {'charge': -0.1303, 'sigma': 0.3399669508423535, 'epsilon': 0.359824}, 'C2': {'charge': -0.07610000000000001, 'sigma': 0.3399669508423535, 'epsilon': 0.359824}, 'S3': {'charge': 0.09019999999999999, 'sigma': 0.35635948725613575, 'epsilon': 1.046}, 'C4': {'charge': -0.1911, 'sigma': 0.3399669508423535, 'epsilon': 0.359824}, 'C5': {'charge': -0.12100000000000001, 'sigma': 0.3399669508423535, 'epsilon': 0.359824}, 'H6': {'charge': 0.07569999999999999, 'sigma': 0.2649532787749369, 'epsilon': 0.06568879999999999}, 'H7': {'charge': 0.17, 'sigma': 0.2510552587719476, 'epsilon': 0.06276}, 'H8': {'charge': 0.155, 'sigma': 0.25996424595335105, 'epsilon': 0.06276}}\n"
     ]
    }
   ],
   "source": [
    "nonbonded_types = []\n",
    "nonbonded_dict = {}\n",
    "\n",
    "for i in range(pair_forces.getNumParticles()):\n",
    "    nonbonded_parms = pair_forces.getParticleParameters(index=i)\n",
    "    charge = nonbonded_parms[0]/nonbonded_parms[0].unit\n",
    "    sigma = nonbonded_parms[1]/nonbonded_parms[1].unit\n",
    "    epsilon = nonbonded_parms[2]/nonbonded_parms[2].unit\n",
    "    #if (charge,sigma,epsilon) not in nonbonded_types:\n",
    "    nonbonded_types.append((charge,sigma,epsilon))\n",
    "    nonbonded_dict[(type_map[i])]={'charge':charge,'sigma':sigma,'epsilon':epsilon}\n",
    "print(nonbonded_dict)"
   ]
  },
  {
   "cell_type": "code",
   "execution_count": 112,
   "id": "dda945e2",
   "metadata": {},
   "outputs": [],
   "source": [
    "# Save the forcefield XML file for future use, so that we don't have to repeat the espaloma process everytime\n",
    "mbuild_to_foyer_xml(\n",
    "    file_name=\"CPDT.xml\", #change this to whatever you want to save your xml file as\n",
    "    compound=CPDT,\n",
    "    bond_params=bond_dict,\n",
    "    angle_params=angle_dict,\n",
    "    dihedral_params=dihedral_dict,\n",
    "    dihedral_type=\"periodic\",\n",
    "    non_bonded_params=nonbonded_dict,\n",
    "    combining_rule=\"geometric\",\n",
    "    name=\"\",\n",
    "    version=\"\",\n",
    "    coulomb14scale=1.0,\n",
    "    lj14scale=1.0)\n",
    "\n",
    "# Save the mb.Compound with the new atom type names for future use.\n",
    "CPDT.save(\"/home/madilyn/Projects/repos/forcefields/CPDT_typed.mol2\", overwrite=True) #change this to match your molecule name. "
   ]
  },
  {
   "cell_type": "code",
   "execution_count": null,
   "id": "c95c45ec",
   "metadata": {},
   "outputs": [],
   "source": []
  }
 ],
 "metadata": {
  "kernelspec": {
   "display_name": "Python 3 (ipykernel)",
   "language": "python",
   "name": "python3"
  },
  "language_info": {
   "codemirror_mode": {
    "name": "ipython",
    "version": 3
   },
   "file_extension": ".py",
   "mimetype": "text/x-python",
   "name": "python",
   "nbconvert_exporter": "python",
   "pygments_lexer": "ipython3",
   "version": "3.10.8"
  }
 },
 "nbformat": 4,
 "nbformat_minor": 5
}
