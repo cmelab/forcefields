{
 "cells": [
  {
   "cell_type": "code",
   "execution_count": 1,
   "id": "538feb4b",
   "metadata": {},
   "outputs": [
    {
     "name": "stderr",
     "output_type": "stream",
     "text": [
      "Warning: importing 'simtk.openmm' is deprecated.  Import 'openmm' instead.\n",
      "/home/madilyn/miniconda3/envs/esp/lib/python3.10/site-packages/numexpr/expressions.py:21: DeprecationWarning: distutils Version classes are deprecated. Use packaging.version instead.\n",
      "  _np_version_forbids_neg_powint = LooseVersion(numpy.__version__) >= LooseVersion('1.12.0b1')\n",
      "/home/madilyn/miniconda3/envs/esp/lib/python3.10/site-packages/numexpr/expressions.py:21: DeprecationWarning: distutils Version classes are deprecated. Use packaging.version instead.\n",
      "  _np_version_forbids_neg_powint = LooseVersion(numpy.__version__) >= LooseVersion('1.12.0b1')\n",
      "/home/madilyn/miniconda3/envs/esp/lib/python3.10/site-packages/qcelemental/models/results.py:788: DeprecationWarning: ResultProtocols has been renamed to AtomicResultProtocols and will be removed as soon as v0.13.0\n",
      "  warn(\n",
      "/home/madilyn/miniconda3/envs/esp/lib/python3.10/site-packages/qcelemental/models/results.py:788: DeprecationWarning: ResultProtocols has been renamed to AtomicResultProtocols and will be removed as soon as v0.13.0\n",
      "  warn(\n",
      "LICENSE: Could not open license file \"oe_license.txt\" in local directory\n",
      "LICENSE: N.B. OE_LICENSE environment variable is not set\n",
      "LICENSE: N.B. OE_DIR environment variable is not set\n",
      "LICENSE: No product keys!\n",
      "LICENSE: No product keys!\n",
      "LICENSE: No product keys!\n",
      "Warning: Unable to load toolkit 'OpenEye Toolkit'. The Open Force Field Toolkit does not require the OpenEye Toolkits, and can use RDKit/AmberTools instead. However, if you have a valid license for the OpenEye Toolkits, consider installing them for faster performance and additional file format support: https://docs.eyesopen.com/toolkits/python/quickstart-python/linuxosx.html OpenEye offers free Toolkit licenses for academics: https://www.eyesopen.com/academic-licensing\n",
      "LICENSE: No product keys!\n"
     ]
    }
   ],
   "source": [
    "from writers import foyer_xml_writer\n",
    "from writers.foyer_xml_writer import parmed_to_foyer_xml, mbuild_to_foyer_xml\n",
    "\n",
    "\n",
    "import ele\n",
    "import espaloma as esp\n",
    "import forcefield_utilities as ffutils\n",
    "import foyer\n",
    "import gmso\n",
    "import mbuild as mb\n",
    "from mbuild.lib.recipes import Polymer\n",
    "from mbuild.formats.hoomd_forcefield import create_hoomd_forcefield\n",
    "import numpy as np\n",
    "from openff.toolkit.topology import Molecule\n",
    "import torch\n",
    "from mbuild.formats.hoomd_forcefield import create_hoomd_forcefield\n",
    "import hoomd\n",
    "import gsd.hoomd\n",
    "import matplotlib.pyplot as plt\n",
    "\n",
    "import numpy as np\n",
    "import os\n",
    "import warnings\n",
    "warnings.filterwarnings(\"ignore\")\n",
    "\n",
    "if not os.path.exists(\"espaloma_model.pt\"):\n",
    "    os.system(\"wget http://data.wangyq.net/espaloma_model.pt\")"
   ]
  },
  {
   "cell_type": "code",
   "execution_count": 2,
   "id": "741725c0",
   "metadata": {},
   "outputs": [],
   "source": [
    "import mbuild as mb\n",
    "from openff.toolkit.topology import Molecule\n",
    "import random\n",
    "import numpy\n",
    "import random\n",
    "import warnings\n",
    "warnings.filterwarnings(\"ignore\")\n",
    "\n",
    "octet = {        6 : 4, 7 : 3,1 : 1,8 : 2,16 : 2}\n",
    "atom_type = {6:\"C\",7:\"N\",8:\"O\",1:\"H\",16:\"S\"}\n",
    "\n",
    "class MadAtom():\n",
    "    \n",
    "    def check_happy(self):\n",
    "        if self.desired_order == self.current_order:\n",
    "            self.happy = True\n",
    "            return\n",
    "        self.happy= False\n",
    "    \n",
    "    def add_order(self,o):\n",
    "        self.current_order += o\n",
    "        self.check_happy()\n",
    "        for b in self.bonds:\n",
    "            b.check_done()\n",
    "    \n",
    "    def status(self):\n",
    "        return self.desired_order - self.current_order\n",
    "    \n",
    "    def __str__(self):\n",
    "        return \"{}{}: {}-{}, {}\".format(atom_type[self.atomic_number],self.index,self.desired_order,self.current_order,self.happy)\n",
    "    \n",
    "    def __init__(self, i, an, do, co ):\n",
    "        self.index = i\n",
    "        self.atomic_number = an\n",
    "        self.desired_order = do \n",
    "        self.current_order = co\n",
    "        self.happy = False\n",
    "        self.check_happy()\n",
    "        self.bonds = []\n",
    "\n",
    "class MadBond():\n",
    "    def __init__(self,a1,a2,bo,i):\n",
    "        self.atom1 = a1\n",
    "        self.atom2 = a2\n",
    "        self.order = bo\n",
    "        self.happy = False\n",
    "        self.index = i\n",
    "        \n",
    "    def __repr__(self):\n",
    "        return \"Bond {} {}{}-{}{} O={}, {}. \".format(self.index,atom_type[self.atom1.atomic_number],self.atom1.index,atom_type[self.atom2.atomic_number],self.atom2.index,self.order,self.happy)\n",
    "    \n",
    "    def check_done(self):\n",
    "        if self.atom1.atomic_number == 1:\n",
    "            self.happy = True\n",
    "            return\n",
    "        if self.atom2.atomic_number == 1:\n",
    "            self.happy = True\n",
    "            return\n",
    "        if self.atom1.happy and self.atom2.happy:\n",
    "            self.happy = True\n",
    "            return\n",
    "        self.happy = False\n",
    "    \n",
    "    def add_order(self,o):\n",
    "        self.order += o\n",
    "        self.atom1.add_order(o)\n",
    "        self.atom2.add_order(o)\n",
    "        self.check_done()\n",
    "        \n",
    "class BondWalker():\n",
    "\n",
    "    def __init__(self, mol):\n",
    "        self.mol = mol\n",
    "        self.atom_list = []\n",
    "        for atom in mol.atoms:\n",
    "            self.atom_list.append(MadAtom(atom.molecule_atom_index, atom.atomic_number, octet[atom.atomic_number], len([b for b in mol.bonds if atom.molecule_atom_index in [b.atom1_index,b.atom2_index]]) )) #assumes we have no double bonds at the start\n",
    "        self.bond_list = [MadBond(self.atom_list[b.atom1_index],self.atom_list[b.atom2_index],b.bond_order,i) for i,b in enumerate(mol.bonds)] # .bond_order inside each of these, and can use atom1_index atom2_index\n",
    "        for b in self.bond_list: \n",
    "            b.atom1.bonds.append(b)\n",
    "            b.atom2.bonds.append(b)\n",
    "            b.check_done()\n",
    "            \n",
    "    def done(self):\n",
    "        for i in self.atom_list:\n",
    "            if i.happy == False:\n",
    "                return False\n",
    "        for i in self.bond_list:\n",
    "            if i.happy == False:\n",
    "                return False\n",
    "        return True\n",
    "    \n",
    "    def bond_increasable(self, b):\n",
    "        if not b.atom1.happy and not b.atom2.happy:\n",
    "            if b.atom1.status() > 0:\n",
    "                if b.atom2.status() >0:\n",
    "                    b.add_order(1) #this triggers each atom to increment, and *their* bonds to check happiness\n",
    "                    if self.done():\n",
    "                        return True\n",
    "                    for a in self.atom_list:\n",
    "                        if a.happy == False:\n",
    "                            for bx in a.bonds:\n",
    "                                if self.bond_increasable(bx):\n",
    "                                    return True\n",
    "                            #no bonds around this unhappy atom \"a\" are increasable\n",
    "                            b.add_order(-1)\n",
    "                            return False\n",
    "                        \n",
    "    def fill_in_bonds(self):        \n",
    "        for a in self.atom_list: #since some of the unhappy bonds might end up being OK, let's iterate atoms\n",
    "            if a.happy == False:\n",
    "                for b in a.bonds: #try incrementing every bond around every unhappy atom\n",
    "                    if self.bond_increasable(b):\n",
    "                        print(\"Done!\")\n",
    "                        for b1,b2 in zip(self.bond_list, self.mol.bonds):\n",
    "                            b2.bond_order=b1.order \n",
    "                        return self.mol\n",
    "        print(\"Sorry- I couldn't solve this\")"
   ]
  },
  {
   "cell_type": "code",
   "execution_count": 6,
   "id": "1cfd3775",
   "metadata": {},
   "outputs": [
    {
     "data": {
      "application/3dmoljs_load.v0": "<div id=\"3dmolviewer_16759769135550249\"  style=\"position: relative; width: 640px; height: 480px\">\n        <p id=\"3dmolwarning_16759769135550249\" style=\"background-color:#ffcccc;color:black\">You appear to be running in JupyterLab (or JavaScript failed to load for some other reason).  You need to install the 3dmol extension: <br>\n        <tt>jupyter labextension install jupyterlab_3dmol</tt></p>\n        </div>\n<script>\n\nvar loadScriptAsync = function(uri){\n  return new Promise((resolve, reject) => {\n    var tag = document.createElement('script');\n    tag.src = uri;\n    tag.async = true;\n    tag.onload = () => {\n      resolve();\n    };\n  var firstScriptTag = document.getElementsByTagName('script')[0];\n  firstScriptTag.parentNode.insertBefore(tag, firstScriptTag);\n});\n};\n\nif(typeof $3Dmolpromise === 'undefined') {\n$3Dmolpromise = null;\n  $3Dmolpromise = loadScriptAsync('https://cdn.jsdelivr.net/npm/3dmol@latest/build/3Dmol-min.min.js');\n}\n\nvar viewer_16759769135550249 = null;\nvar warn = document.getElementById(\"3dmolwarning_16759769135550249\");\nif(warn) {\n    warn.parentNode.removeChild(warn);\n}\n$3Dmolpromise.then(function() {\nviewer_16759769135550249 = $3Dmol.createViewer($(\"#3dmolviewer_16759769135550249\"),{backgroundColor:\"white\"});\nviewer_16759769135550249.zoomTo();\n\tviewer_16759769135550249.addModel(\"@<TRIPOS>MOLECULE\\nRES\\n187 198 1 0 1\\nSMALL\\nNO_CHARGES\\n@<TRIPOS>CRYSIN\\n   31.5650    30.6786    23.0142    90.0000    90.0000    90.0000  1  1\\n@<TRIPOS>ATOM\\n       1 C           -1.3900     1.6860    -0.1240 C             1 RES     \\n       2 C           -0.6940     0.4690    -0.0040 C             1 RES     \\n       3 C            0.7430     0.4650     0.0060 C             1 RES     \\n       4 C            1.4460     1.6780     0.1290 C             1 RES     \\n       5 C            0.7450     2.9270     0.0990 C             1 RES     \\n       6 C           -0.6830     2.9320    -0.0910 C             1 RES     \\n       7 N           -1.2070     4.1430    -0.1590 N             1 RES     \\n       8 S            0.0380     5.2000     0.0060 S             1 RES     \\n       9 N            1.2770     4.1350     0.1690 N             1 RES     \\n      10 C           -2.7630     1.3620    -0.1380 C             1 RES     \\n      11 C           -2.8620    -0.0140     0.0080 C             1 RES     \\n      12 N           -1.6030    -0.5690     0.1000 N             1 RES     \\n      13 C            2.8170     1.3450     0.1420 C             1 RES     \\n      14 C            2.9080    -0.0310    -0.0080 C             1 RES     \\n      15 N            1.6460    -0.5780    -0.1010 N             1 RES     \\n      16 C           -4.2010    -0.4690     0.0680 C             1 RES     \\n      17 C           -5.0930     0.5970    -0.0520 C             1 RES     \\n      18 S           -4.3040     2.1600    -0.2290 S             1 RES     \\n      19 C            4.2440    -0.4930    -0.0680 C             1 RES     \\n      20 C            5.1430     0.5680     0.0540 C             1 RES     \\n      21 S            4.3620     2.1340     0.2350 S             1 RES     \\n      22 C           -6.4420     0.2130    -0.0210 C             1 RES     \\n      23 C           -6.5710    -1.1770     0.1360 C             1 RES     \\n      24 S           -4.9990    -1.9820     0.2310 S             1 RES     \\n      25 C            6.4890     0.1760     0.0220 C             1 RES     \\n      26 C            6.6100    -1.2150    -0.1380 C             1 RES     \\n      27 S            5.0340    -2.0100    -0.2350 S             1 RES     \\n      28 C           -7.8570    -1.7740     0.1890 C             1 RES     \\n      29 C           -8.3210    -3.0550     0.3370 C             1 RES     \\n      30 C            7.8930    -1.8190    -0.1930 C             1 RES     \\n      31 C            8.3500    -3.1010    -0.3430 C             1 RES     \\n      32 C           -1.3830    -1.8870     0.6770 C             1 RES     \\n      33 C            1.4180    -1.8930    -0.6800 C             1 RES     \\n      34 C            7.6380     1.1350     0.1430 C             1 RES     \\n      35 C           -7.5860     1.1790    -0.1400 C             1 RES     \\n      36 C           -9.7310    -3.4670     0.3560 C             1 RES     \\n      37 C           -9.7520    -4.9390     0.5700 C             1 RES     \\n      38 C           -8.4370    -5.4000     0.6670 C             1 RES     \\n      39 C           -7.4970    -4.2670     0.5230 C             1 RES     \\n      40 C            9.7570    -3.5210    -0.3640 C             1 RES     \\n      41 C            9.7700    -4.9930    -0.5810 C             1 RES     \\n      42 C            8.4520    -5.4470    -0.6790 C             1 RES     \\n      43 C            7.5180    -4.3080    -0.5320 C             1 RES     \\n      44 C           -8.1160    -6.7320     0.8680 C             1 RES     \\n      45 C           -9.1650    -7.6260     0.9730 C             1 RES     \\n      46 C          -10.4890    -7.1820     0.8780 C             1 RES     \\n      47 C          -10.8060    -5.8490     0.6770 C             1 RES     \\n      48 C            8.1230    -6.7770    -0.8830 C             1 RES     \\n      49 C            9.1670    -7.6760    -0.9910 C             1 RES     \\n      50 C           10.4930    -7.2400    -0.8950 C             1 RES     \\n      51 C           10.8180    -5.9090    -0.6900 C             1 RES     \\n      52 O           -6.2820    -4.3500     0.5570 O             1 RES     \\n      53 O            6.3030    -4.3840    -0.5670 O             1 RES     \\n      54 F          -11.4610    -8.0830     0.9850 F             1 RES     \\n      55 F           -8.9410    -8.9220     1.1670 F             1 RES     \\n      56 F            8.9360    -8.9700    -1.1880 F             1 RES     \\n      57 F           11.4610    -8.1460    -1.0050 F             1 RES     \\n      58 C          -10.8500    -2.6890     0.2030 C             1 RES     \\n      59 C          -12.1800    -3.2160     0.2390 C             1 RES     \\n      60 N          -13.2700    -3.6130     0.2630 N             1 RES     \\n      61 C          -10.8190    -1.2750    -0.0110 C             1 RES     \\n      62 N          -10.8230    -0.1270    -0.1840 N             1 RES     \\n      63 C           10.8810    -2.7510    -0.2090 C             1 RES     \\n      64 C           10.8580    -1.3370     0.0080 C             1 RES     \\n      65 N           10.8680    -0.1900     0.1850 N             1 RES     \\n      66 C           12.2070    -3.2850    -0.2460 C             1 RES     \\n      67 N           13.2950    -3.6890    -0.2710 N             1 RES     \\n      68 H           -8.6260    -1.0180     0.0870 H             1 RES     \\n      69 H            8.6660    -1.0670    -0.0890 H             1 RES     \\n      70 H           -0.3320    -2.1580     0.5780 H             1 RES     \\n      71 H           -2.0070    -2.6500     0.2040 H             1 RES     \\n      72 H            0.3950    -2.2100    -0.4780 H             1 RES     \\n      73 H            2.1180    -2.6380    -0.2930 H             1 RES     \\n      74 H            8.2740     1.1190    -0.7470 H             1 RES     \\n      75 H            8.2770     0.8940     0.9980 H             1 RES     \\n      76 H           -8.2210     1.1640     0.7500 H             1 RES     \\n      77 H           -8.2250     0.9440    -0.9950 H             1 RES     \\n      78 H           -7.0860    -7.0620     0.9400 H             1 RES     \\n      79 H          -11.8500    -5.5780     0.6110 H             1 RES     \\n      80 H            7.0910    -7.1000    -0.9560 H             1 RES     \\n      81 H           11.8640    -5.6440    -0.6240 H             1 RES     \\n      82 C            7.1260     2.5750     0.3300 C             1 RES     \\n      83 H            6.5440     2.8600    -0.5210 H             1 RES     \\n      84 H            6.5200     2.6270     1.2110 H             1 RES     \\n      85 C            8.3250     3.5320     0.4750 C             1 RES     \\n      86 H            8.8980     3.2580     1.3360 H             1 RES     \\n      87 H            8.9400     3.4670    -0.3980 H             1 RES     \\n      88 C            7.8130     4.9750     0.6370 C             1 RES     \\n      89 H            7.2430     5.2500    -0.2260 H             1 RES     \\n      90 H            7.1950     5.0390     1.5080 H             1 RES     \\n      91 C            9.0120     5.9310     0.7860 C             1 RES     \\n      92 H            9.5820     5.6550     1.6480 H             1 RES     \\n      93 H            9.6290     5.8670    -0.0860 H             1 RES     \\n      94 C            8.5000     7.3740     0.9480 C             1 RES     \\n      95 H            7.8810     7.4370     1.8190 H             1 RES     \\n      96 H            7.9310     7.6500     0.0850 H             1 RES     \\n      97 C            9.6980     8.3290     1.1010 C             1 RES     \\n      98 H           10.2670     8.0530     1.9640 H             1 RES     \\n      99 H           10.3170     8.2660     0.2300 H             1 RES     \\n     100 C            9.1870     9.7730     1.2630 C             1 RES     \\n     101 H            8.5670     9.8360     2.1340 H             1 RES     \\n     102 H            8.6180    10.0490     0.4000 H             1 RES     \\n     103 C           10.3850    10.7280     1.4150 C             1 RES     \\n     104 H           10.9540    10.4520     2.2780 H             1 RES     \\n     105 H           11.0040    10.6650     0.5450 H             1 RES     \\n     106 C            9.8730    12.1710     1.5780 C             1 RES     \\n     107 H            9.2550    12.2340     2.4490 H             1 RES     \\n     108 H            9.3040    12.4480     0.7160 H             1 RES     \\n     109 C           11.0720    13.1270     1.7300 C             1 RES     \\n     110 H           10.7160    14.1300     1.8430 H             1 RES     \\n     111 H           11.6410    12.8510     2.5930 H             1 RES     \\n     112 H           11.6900    13.0640     0.8590 H             1 RES     \\n     113 C           -7.0650     2.6170    -0.3230 C             1 RES     \\n     114 H           -6.4810     2.8960     0.5280 H             1 RES     \\n     115 H           -6.4590     2.6670    -1.2040 H             1 RES     \\n     116 C           -8.2580     3.5800    -0.4660 C             1 RES     \\n     117 H           -8.8330     3.3110    -1.3270 H             1 RES     \\n     118 H           -8.8730     3.5170     0.4080 H             1 RES     \\n     119 C           -7.7380     5.0210    -0.6250 C             1 RES     \\n     120 H           -7.1660     5.2910     0.2370 H             1 RES     \\n     121 H           -7.1210     5.0830    -1.4970 H             1 RES     \\n     122 C           -8.9310     5.9840    -0.7720 C             1 RES     \\n     123 H           -9.5490     5.9210     0.0990 H             1 RES     \\n     124 H           -9.5030     5.7140    -1.6360 H             1 RES     \\n     125 C           -8.4110     7.4240    -0.9310 C             1 RES     \\n     126 H           -7.8420     7.6960    -0.0670 H             1 RES     \\n     127 H           -7.7910     7.4860    -1.8010 H             1 RES     \\n     128 C           -9.6040     8.3870    -1.0830 C             1 RES     \\n     129 H          -10.1740     8.1150    -1.9480 H             1 RES     \\n     130 H          -10.2250     8.3260    -0.2140 H             1 RES     \\n     131 C           -9.0840     9.8270    -1.2430 C             1 RES     \\n     132 H           -8.5160    10.0990    -0.3790 H             1 RES     \\n     133 H           -8.4630     9.8880    -2.1120 H             1 RES     \\n     134 C          -10.2770    10.7890    -1.3970 C             1 RES     \\n     135 H          -10.8460    10.5170    -2.2610 H             1 RES     \\n     136 H          -10.8980    10.7290    -0.5280 H             1 RES     \\n     137 C           -9.7570    12.2300    -1.5570 C             1 RES     \\n     138 H           -9.1890    12.5020    -0.6920 H             1 RES     \\n     139 H           -9.1360    12.2900    -2.4260 H             1 RES     \\n     140 C          -10.9500    13.1920    -1.7110 C             1 RES     \\n     141 H          -10.5890    14.1930    -1.8230 H             1 RES     \\n     142 H          -11.5180    12.9200    -2.5760 H             1 RES     \\n     143 H          -11.5710    13.1320    -0.8420 H             1 RES     \\n     144 C            1.4289    -2.9819    -1.7689 C             1 RES     \\n     145 O            0.6997    -3.8309    -2.6445 O             1 RES     \\n     146 C            1.5211    -4.2939    -3.7150 C             1 RES     \\n     147 C            0.7002    -5.1973    -4.6248 C             1 RES     \\n     148 O            1.5248    -5.6584    -5.6941 O             1 RES     \\n     149 C            0.7928    -6.5108    -6.5734 C             1 RES     \\n     150 C            1.7101    -6.9772    -7.6954 C             1 RES     \\n     151 O            0.9815    -7.8299    -8.5768 O             1 RES     \\n     152 C            1.8028    -8.2891    -9.6416 C             1 RES     \\n     153 H            1.7907    -2.1003    -2.3063 H             1 RES     \\n     154 H            2.2685    -3.5240    -1.3238 H             1 RES     \\n     155 H            2.3799    -4.8485    -3.3184 H             1 RES     \\n     156 H            1.9081    -3.4431    -4.2882 H             1 RES     \\n     157 H           -0.1578    -4.6434    -5.0236 H             1 RES     \\n     158 H            0.3141    -6.0495    -4.0533 H             1 RES     \\n     159 H           -0.0643    -5.9712    -6.9933 H             1 RES     \\n     160 H            0.4077    -7.3774    -6.0230 H             1 RES     \\n     161 H            2.5677    -7.5150    -7.2740 H             1 RES     \\n     162 H            2.0959    -6.1096    -8.2438 H             1 RES     \\n     163 H            1.2016    -8.9356   -10.2863 H             1 RES     \\n     164 H            2.6451    -8.8678    -9.2511 H             1 RES     \\n     165 H            2.1672    -7.4441   -10.2335 H             1 RES     \\n     166 C           -1.3721    -2.9759     1.7659 C             1 RES     \\n     167 O           -2.1015    -3.8336     2.6327 O             1 RES     \\n     168 C           -1.2953    -4.9237     3.0764 C             1 RES     \\n     169 C           -2.1158    -5.8135     3.9998 C             1 RES     \\n     170 O           -1.3064    -6.9024     4.4414 O             1 RES     \\n     171 C           -2.0386    -7.7639     5.3117 C             1 RES     \\n     172 C           -1.1376    -8.9076     5.7564 C             1 RES     \\n     173 O           -1.8665    -9.7712     6.6269 O             1 RES     \\n     174 C           -1.0603   -10.8556     7.0667 C             1 RES     \\n     175 H           -1.0448    -3.5218     0.8761 H             1 RES     \\n     176 H           -0.5091    -2.5513     2.2873 H             1 RES     \\n     177 H           -0.4140    -4.5480     3.6099 H             1 RES     \\n     178 H           -0.9429    -5.5060     2.2167 H             1 RES     \\n     179 H           -2.9963    -6.1914     3.4669 H             1 RES     \\n     180 H           -2.4673    -5.2329     4.8607 H             1 RES     \\n     181 H           -2.9184    -8.1629     4.7932 H             1 RES     \\n     182 H           -2.3893    -7.2044     6.1870 H             1 RES     \\n     183 H           -0.2574    -8.5071     6.2732 H             1 RES     \\n     184 H           -0.7862    -9.4652     4.8800 H             1 RES     \\n     185 H           -1.6611   -11.4856     7.7279 H             1 RES     \\n     186 H           -0.1951   -10.4856     7.6247 H             1 RES     \\n     187 H           -0.7308   -11.4561     6.2135 H             1 RES     \\n@<TRIPOS>BOND\\n       1        2        1 1\\n       2       10        1 1\\n       3        6        1 1\\n       4        3        2 1\\n       5       12        2 1\\n       6        4        3 1\\n       7       15        3 1\\n       8        5        4 1\\n       9       13        4 1\\n      10        6        5 1\\n      11        9        5 1\\n      12        7        6 1\\n      13        8        7 1\\n      14        9        8 1\\n      15       11       10 1\\n      16       18       10 1\\n      17       12       11 1\\n      18       16       11 1\\n      19       32       12 1\\n      20       14       13 1\\n      21       21       13 1\\n      22       15       14 1\\n      23       19       14 1\\n      24       33       15 1\\n      25       17       16 1\\n      26       24       16 1\\n      27       18       17 1\\n      28       22       17 1\\n      29       20       19 1\\n      30       27       19 1\\n      31       21       20 1\\n      32       25       20 1\\n      33       23       22 1\\n      34       35       22 1\\n      35       24       23 1\\n      36       28       23 1\\n      37       26       25 1\\n      38       34       25 1\\n      39       27       26 1\\n      40       30       26 1\\n      41       29       28 1\\n      42       68       28 1\\n      43       36       29 1\\n      44       39       29 1\\n      45       31       30 1\\n      46       69       30 1\\n      47       40       31 1\\n      48       43       31 1\\n      49       70       32 1\\n      50       71       32 1\\n      51      166       32 1\\n      52       72       33 1\\n      53       73       33 1\\n      54      144       33 1\\n      55       82       34 1\\n      56       74       34 1\\n      57       75       34 1\\n      58      113       35 1\\n      59       77       35 1\\n      60       76       35 1\\n      61       58       36 1\\n      62       37       36 1\\n      63       47       37 1\\n      64       38       37 1\\n      65       39       38 1\\n      66       44       38 1\\n      67       52       39 1\\n      68       63       40 1\\n      69       41       40 1\\n      70       51       41 1\\n      71       42       41 1\\n      72       43       42 1\\n      73       48       42 1\\n      74       53       43 1\\n      75       45       44 1\\n      76       78       44 1\\n      77       46       45 1\\n      78       55       45 1\\n      79       47       46 1\\n      80       54       46 1\\n      81       79       47 1\\n      82       49       48 1\\n      83       80       48 1\\n      84       50       49 1\\n      85       56       49 1\\n      86       51       50 1\\n      87       57       50 1\\n      88       81       51 1\\n      89       61       58 1\\n      90       59       58 1\\n      91       60       59 1\\n      92       62       61 1\\n      93       66       63 1\\n      94       64       63 1\\n      95       65       64 1\\n      96       67       66 1\\n      97       85       82 1\\n      98       83       82 1\\n      99       84       82 1\\n     100       88       85 1\\n     101       87       85 1\\n     102       86       85 1\\n     103       91       88 1\\n     104       90       88 1\\n     105       89       88 1\\n     106       94       91 1\\n     107       92       91 1\\n     108       93       91 1\\n     109       97       94 1\\n     110       96       94 1\\n     111       95       94 1\\n     112      100       97 1\\n     113       98       97 1\\n     114       99       97 1\\n     115      103      100 1\\n     116      102      100 1\\n     117      101      100 1\\n     118      106      103 1\\n     119      105      103 1\\n     120      104      103 1\\n     121      109      106 1\\n     122      108      106 1\\n     123      107      106 1\\n     124      112      109 1\\n     125      111      109 1\\n     126      110      109 1\\n     127      116      113 1\\n     128      114      113 1\\n     129      115      113 1\\n     130      119      116 1\\n     131      117      116 1\\n     132      118      116 1\\n     133      122      119 1\\n     134      120      119 1\\n     135      121      119 1\\n     136      125      122 1\\n     137      123      122 1\\n     138      124      122 1\\n     139      128      125 1\\n     140      126      125 1\\n     141      127      125 1\\n     142      131      128 1\\n     143      130      128 1\\n     144      129      128 1\\n     145      134      131 1\\n     146      132      131 1\\n     147      133      131 1\\n     148      137      134 1\\n     149      135      134 1\\n     150      136      134 1\\n     151      140      137 1\\n     152      139      137 1\\n     153      138      137 1\\n     154      143      140 1\\n     155      142      140 1\\n     156      141      140 1\\n     157      145      144 1\\n     158      153      144 1\\n     159      154      144 1\\n     160      146      145 1\\n     161      147      146 1\\n     162      155      146 1\\n     163      156      146 1\\n     164      148      147 1\\n     165      157      147 1\\n     166      158      147 1\\n     167      149      148 1\\n     168      150      149 1\\n     169      159      149 1\\n     170      160      149 1\\n     171      151      150 1\\n     172      161      150 1\\n     173      162      150 1\\n     174      152      151 1\\n     175      163      152 1\\n     176      164      152 1\\n     177      165      152 1\\n     178      167      166 1\\n     179      175      166 1\\n     180      176      166 1\\n     181      168      167 1\\n     182      169      168 1\\n     183      177      168 1\\n     184      178      168 1\\n     185      170      169 1\\n     186      179      169 1\\n     187      180      169 1\\n     188      171      170 1\\n     189      172      171 1\\n     190      181      171 1\\n     191      182      171 1\\n     192      173      172 1\\n     193      183      172 1\\n     194      184      172 1\\n     195      174      173 1\\n     196      185      174 1\\n     197      186      174 1\\n     198      187      174 1\\n@<TRIPOS>SUBSTRUCTURE\\n       1 RES             1 RESIDUE    0 **** ROOT      0\\n\",\"mol2\");\n\tviewer_16759769135550249.setStyle({\"stick\": {\"radius\": 0.2, \"color\": \"grey\"}, \"sphere\": {\"scale\": 0.3, \"colorscheme\": {}}});\n\tviewer_16759769135550249.zoomTo();\nviewer_16759769135550249.render();\n});\n</script>",
      "text/html": [
       "<div id=\"3dmolviewer_16759769135550249\"  style=\"position: relative; width: 640px; height: 480px\">\n",
       "        <p id=\"3dmolwarning_16759769135550249\" style=\"background-color:#ffcccc;color:black\">You appear to be running in JupyterLab (or JavaScript failed to load for some other reason).  You need to install the 3dmol extension: <br>\n",
       "        <tt>jupyter labextension install jupyterlab_3dmol</tt></p>\n",
       "        </div>\n",
       "<script>\n",
       "\n",
       "var loadScriptAsync = function(uri){\n",
       "  return new Promise((resolve, reject) => {\n",
       "    var tag = document.createElement('script');\n",
       "    tag.src = uri;\n",
       "    tag.async = true;\n",
       "    tag.onload = () => {\n",
       "      resolve();\n",
       "    };\n",
       "  var firstScriptTag = document.getElementsByTagName('script')[0];\n",
       "  firstScriptTag.parentNode.insertBefore(tag, firstScriptTag);\n",
       "});\n",
       "};\n",
       "\n",
       "if(typeof $3Dmolpromise === 'undefined') {\n",
       "$3Dmolpromise = null;\n",
       "  $3Dmolpromise = loadScriptAsync('https://cdn.jsdelivr.net/npm/3dmol@latest/build/3Dmol-min.min.js');\n",
       "}\n",
       "\n",
       "var viewer_16759769135550249 = null;\n",
       "var warn = document.getElementById(\"3dmolwarning_16759769135550249\");\n",
       "if(warn) {\n",
       "    warn.parentNode.removeChild(warn);\n",
       "}\n",
       "$3Dmolpromise.then(function() {\n",
       "viewer_16759769135550249 = $3Dmol.createViewer($(\"#3dmolviewer_16759769135550249\"),{backgroundColor:\"white\"});\n",
       "viewer_16759769135550249.zoomTo();\n",
       "\tviewer_16759769135550249.addModel(\"@<TRIPOS>MOLECULE\\nRES\\n187 198 1 0 1\\nSMALL\\nNO_CHARGES\\n@<TRIPOS>CRYSIN\\n   31.5650    30.6786    23.0142    90.0000    90.0000    90.0000  1  1\\n@<TRIPOS>ATOM\\n       1 C           -1.3900     1.6860    -0.1240 C             1 RES     \\n       2 C           -0.6940     0.4690    -0.0040 C             1 RES     \\n       3 C            0.7430     0.4650     0.0060 C             1 RES     \\n       4 C            1.4460     1.6780     0.1290 C             1 RES     \\n       5 C            0.7450     2.9270     0.0990 C             1 RES     \\n       6 C           -0.6830     2.9320    -0.0910 C             1 RES     \\n       7 N           -1.2070     4.1430    -0.1590 N             1 RES     \\n       8 S            0.0380     5.2000     0.0060 S             1 RES     \\n       9 N            1.2770     4.1350     0.1690 N             1 RES     \\n      10 C           -2.7630     1.3620    -0.1380 C             1 RES     \\n      11 C           -2.8620    -0.0140     0.0080 C             1 RES     \\n      12 N           -1.6030    -0.5690     0.1000 N             1 RES     \\n      13 C            2.8170     1.3450     0.1420 C             1 RES     \\n      14 C            2.9080    -0.0310    -0.0080 C             1 RES     \\n      15 N            1.6460    -0.5780    -0.1010 N             1 RES     \\n      16 C           -4.2010    -0.4690     0.0680 C             1 RES     \\n      17 C           -5.0930     0.5970    -0.0520 C             1 RES     \\n      18 S           -4.3040     2.1600    -0.2290 S             1 RES     \\n      19 C            4.2440    -0.4930    -0.0680 C             1 RES     \\n      20 C            5.1430     0.5680     0.0540 C             1 RES     \\n      21 S            4.3620     2.1340     0.2350 S             1 RES     \\n      22 C           -6.4420     0.2130    -0.0210 C             1 RES     \\n      23 C           -6.5710    -1.1770     0.1360 C             1 RES     \\n      24 S           -4.9990    -1.9820     0.2310 S             1 RES     \\n      25 C            6.4890     0.1760     0.0220 C             1 RES     \\n      26 C            6.6100    -1.2150    -0.1380 C             1 RES     \\n      27 S            5.0340    -2.0100    -0.2350 S             1 RES     \\n      28 C           -7.8570    -1.7740     0.1890 C             1 RES     \\n      29 C           -8.3210    -3.0550     0.3370 C             1 RES     \\n      30 C            7.8930    -1.8190    -0.1930 C             1 RES     \\n      31 C            8.3500    -3.1010    -0.3430 C             1 RES     \\n      32 C           -1.3830    -1.8870     0.6770 C             1 RES     \\n      33 C            1.4180    -1.8930    -0.6800 C             1 RES     \\n      34 C            7.6380     1.1350     0.1430 C             1 RES     \\n      35 C           -7.5860     1.1790    -0.1400 C             1 RES     \\n      36 C           -9.7310    -3.4670     0.3560 C             1 RES     \\n      37 C           -9.7520    -4.9390     0.5700 C             1 RES     \\n      38 C           -8.4370    -5.4000     0.6670 C             1 RES     \\n      39 C           -7.4970    -4.2670     0.5230 C             1 RES     \\n      40 C            9.7570    -3.5210    -0.3640 C             1 RES     \\n      41 C            9.7700    -4.9930    -0.5810 C             1 RES     \\n      42 C            8.4520    -5.4470    -0.6790 C             1 RES     \\n      43 C            7.5180    -4.3080    -0.5320 C             1 RES     \\n      44 C           -8.1160    -6.7320     0.8680 C             1 RES     \\n      45 C           -9.1650    -7.6260     0.9730 C             1 RES     \\n      46 C          -10.4890    -7.1820     0.8780 C             1 RES     \\n      47 C          -10.8060    -5.8490     0.6770 C             1 RES     \\n      48 C            8.1230    -6.7770    -0.8830 C             1 RES     \\n      49 C            9.1670    -7.6760    -0.9910 C             1 RES     \\n      50 C           10.4930    -7.2400    -0.8950 C             1 RES     \\n      51 C           10.8180    -5.9090    -0.6900 C             1 RES     \\n      52 O           -6.2820    -4.3500     0.5570 O             1 RES     \\n      53 O            6.3030    -4.3840    -0.5670 O             1 RES     \\n      54 F          -11.4610    -8.0830     0.9850 F             1 RES     \\n      55 F           -8.9410    -8.9220     1.1670 F             1 RES     \\n      56 F            8.9360    -8.9700    -1.1880 F             1 RES     \\n      57 F           11.4610    -8.1460    -1.0050 F             1 RES     \\n      58 C          -10.8500    -2.6890     0.2030 C             1 RES     \\n      59 C          -12.1800    -3.2160     0.2390 C             1 RES     \\n      60 N          -13.2700    -3.6130     0.2630 N             1 RES     \\n      61 C          -10.8190    -1.2750    -0.0110 C             1 RES     \\n      62 N          -10.8230    -0.1270    -0.1840 N             1 RES     \\n      63 C           10.8810    -2.7510    -0.2090 C             1 RES     \\n      64 C           10.8580    -1.3370     0.0080 C             1 RES     \\n      65 N           10.8680    -0.1900     0.1850 N             1 RES     \\n      66 C           12.2070    -3.2850    -0.2460 C             1 RES     \\n      67 N           13.2950    -3.6890    -0.2710 N             1 RES     \\n      68 H           -8.6260    -1.0180     0.0870 H             1 RES     \\n      69 H            8.6660    -1.0670    -0.0890 H             1 RES     \\n      70 H           -0.3320    -2.1580     0.5780 H             1 RES     \\n      71 H           -2.0070    -2.6500     0.2040 H             1 RES     \\n      72 H            0.3950    -2.2100    -0.4780 H             1 RES     \\n      73 H            2.1180    -2.6380    -0.2930 H             1 RES     \\n      74 H            8.2740     1.1190    -0.7470 H             1 RES     \\n      75 H            8.2770     0.8940     0.9980 H             1 RES     \\n      76 H           -8.2210     1.1640     0.7500 H             1 RES     \\n      77 H           -8.2250     0.9440    -0.9950 H             1 RES     \\n      78 H           -7.0860    -7.0620     0.9400 H             1 RES     \\n      79 H          -11.8500    -5.5780     0.6110 H             1 RES     \\n      80 H            7.0910    -7.1000    -0.9560 H             1 RES     \\n      81 H           11.8640    -5.6440    -0.6240 H             1 RES     \\n      82 C            7.1260     2.5750     0.3300 C             1 RES     \\n      83 H            6.5440     2.8600    -0.5210 H             1 RES     \\n      84 H            6.5200     2.6270     1.2110 H             1 RES     \\n      85 C            8.3250     3.5320     0.4750 C             1 RES     \\n      86 H            8.8980     3.2580     1.3360 H             1 RES     \\n      87 H            8.9400     3.4670    -0.3980 H             1 RES     \\n      88 C            7.8130     4.9750     0.6370 C             1 RES     \\n      89 H            7.2430     5.2500    -0.2260 H             1 RES     \\n      90 H            7.1950     5.0390     1.5080 H             1 RES     \\n      91 C            9.0120     5.9310     0.7860 C             1 RES     \\n      92 H            9.5820     5.6550     1.6480 H             1 RES     \\n      93 H            9.6290     5.8670    -0.0860 H             1 RES     \\n      94 C            8.5000     7.3740     0.9480 C             1 RES     \\n      95 H            7.8810     7.4370     1.8190 H             1 RES     \\n      96 H            7.9310     7.6500     0.0850 H             1 RES     \\n      97 C            9.6980     8.3290     1.1010 C             1 RES     \\n      98 H           10.2670     8.0530     1.9640 H             1 RES     \\n      99 H           10.3170     8.2660     0.2300 H             1 RES     \\n     100 C            9.1870     9.7730     1.2630 C             1 RES     \\n     101 H            8.5670     9.8360     2.1340 H             1 RES     \\n     102 H            8.6180    10.0490     0.4000 H             1 RES     \\n     103 C           10.3850    10.7280     1.4150 C             1 RES     \\n     104 H           10.9540    10.4520     2.2780 H             1 RES     \\n     105 H           11.0040    10.6650     0.5450 H             1 RES     \\n     106 C            9.8730    12.1710     1.5780 C             1 RES     \\n     107 H            9.2550    12.2340     2.4490 H             1 RES     \\n     108 H            9.3040    12.4480     0.7160 H             1 RES     \\n     109 C           11.0720    13.1270     1.7300 C             1 RES     \\n     110 H           10.7160    14.1300     1.8430 H             1 RES     \\n     111 H           11.6410    12.8510     2.5930 H             1 RES     \\n     112 H           11.6900    13.0640     0.8590 H             1 RES     \\n     113 C           -7.0650     2.6170    -0.3230 C             1 RES     \\n     114 H           -6.4810     2.8960     0.5280 H             1 RES     \\n     115 H           -6.4590     2.6670    -1.2040 H             1 RES     \\n     116 C           -8.2580     3.5800    -0.4660 C             1 RES     \\n     117 H           -8.8330     3.3110    -1.3270 H             1 RES     \\n     118 H           -8.8730     3.5170     0.4080 H             1 RES     \\n     119 C           -7.7380     5.0210    -0.6250 C             1 RES     \\n     120 H           -7.1660     5.2910     0.2370 H             1 RES     \\n     121 H           -7.1210     5.0830    -1.4970 H             1 RES     \\n     122 C           -8.9310     5.9840    -0.7720 C             1 RES     \\n     123 H           -9.5490     5.9210     0.0990 H             1 RES     \\n     124 H           -9.5030     5.7140    -1.6360 H             1 RES     \\n     125 C           -8.4110     7.4240    -0.9310 C             1 RES     \\n     126 H           -7.8420     7.6960    -0.0670 H             1 RES     \\n     127 H           -7.7910     7.4860    -1.8010 H             1 RES     \\n     128 C           -9.6040     8.3870    -1.0830 C             1 RES     \\n     129 H          -10.1740     8.1150    -1.9480 H             1 RES     \\n     130 H          -10.2250     8.3260    -0.2140 H             1 RES     \\n     131 C           -9.0840     9.8270    -1.2430 C             1 RES     \\n     132 H           -8.5160    10.0990    -0.3790 H             1 RES     \\n     133 H           -8.4630     9.8880    -2.1120 H             1 RES     \\n     134 C          -10.2770    10.7890    -1.3970 C             1 RES     \\n     135 H          -10.8460    10.5170    -2.2610 H             1 RES     \\n     136 H          -10.8980    10.7290    -0.5280 H             1 RES     \\n     137 C           -9.7570    12.2300    -1.5570 C             1 RES     \\n     138 H           -9.1890    12.5020    -0.6920 H             1 RES     \\n     139 H           -9.1360    12.2900    -2.4260 H             1 RES     \\n     140 C          -10.9500    13.1920    -1.7110 C             1 RES     \\n     141 H          -10.5890    14.1930    -1.8230 H             1 RES     \\n     142 H          -11.5180    12.9200    -2.5760 H             1 RES     \\n     143 H          -11.5710    13.1320    -0.8420 H             1 RES     \\n     144 C            1.4289    -2.9819    -1.7689 C             1 RES     \\n     145 O            0.6997    -3.8309    -2.6445 O             1 RES     \\n     146 C            1.5211    -4.2939    -3.7150 C             1 RES     \\n     147 C            0.7002    -5.1973    -4.6248 C             1 RES     \\n     148 O            1.5248    -5.6584    -5.6941 O             1 RES     \\n     149 C            0.7928    -6.5108    -6.5734 C             1 RES     \\n     150 C            1.7101    -6.9772    -7.6954 C             1 RES     \\n     151 O            0.9815    -7.8299    -8.5768 O             1 RES     \\n     152 C            1.8028    -8.2891    -9.6416 C             1 RES     \\n     153 H            1.7907    -2.1003    -2.3063 H             1 RES     \\n     154 H            2.2685    -3.5240    -1.3238 H             1 RES     \\n     155 H            2.3799    -4.8485    -3.3184 H             1 RES     \\n     156 H            1.9081    -3.4431    -4.2882 H             1 RES     \\n     157 H           -0.1578    -4.6434    -5.0236 H             1 RES     \\n     158 H            0.3141    -6.0495    -4.0533 H             1 RES     \\n     159 H           -0.0643    -5.9712    -6.9933 H             1 RES     \\n     160 H            0.4077    -7.3774    -6.0230 H             1 RES     \\n     161 H            2.5677    -7.5150    -7.2740 H             1 RES     \\n     162 H            2.0959    -6.1096    -8.2438 H             1 RES     \\n     163 H            1.2016    -8.9356   -10.2863 H             1 RES     \\n     164 H            2.6451    -8.8678    -9.2511 H             1 RES     \\n     165 H            2.1672    -7.4441   -10.2335 H             1 RES     \\n     166 C           -1.3721    -2.9759     1.7659 C             1 RES     \\n     167 O           -2.1015    -3.8336     2.6327 O             1 RES     \\n     168 C           -1.2953    -4.9237     3.0764 C             1 RES     \\n     169 C           -2.1158    -5.8135     3.9998 C             1 RES     \\n     170 O           -1.3064    -6.9024     4.4414 O             1 RES     \\n     171 C           -2.0386    -7.7639     5.3117 C             1 RES     \\n     172 C           -1.1376    -8.9076     5.7564 C             1 RES     \\n     173 O           -1.8665    -9.7712     6.6269 O             1 RES     \\n     174 C           -1.0603   -10.8556     7.0667 C             1 RES     \\n     175 H           -1.0448    -3.5218     0.8761 H             1 RES     \\n     176 H           -0.5091    -2.5513     2.2873 H             1 RES     \\n     177 H           -0.4140    -4.5480     3.6099 H             1 RES     \\n     178 H           -0.9429    -5.5060     2.2167 H             1 RES     \\n     179 H           -2.9963    -6.1914     3.4669 H             1 RES     \\n     180 H           -2.4673    -5.2329     4.8607 H             1 RES     \\n     181 H           -2.9184    -8.1629     4.7932 H             1 RES     \\n     182 H           -2.3893    -7.2044     6.1870 H             1 RES     \\n     183 H           -0.2574    -8.5071     6.2732 H             1 RES     \\n     184 H           -0.7862    -9.4652     4.8800 H             1 RES     \\n     185 H           -1.6611   -11.4856     7.7279 H             1 RES     \\n     186 H           -0.1951   -10.4856     7.6247 H             1 RES     \\n     187 H           -0.7308   -11.4561     6.2135 H             1 RES     \\n@<TRIPOS>BOND\\n       1        2        1 1\\n       2       10        1 1\\n       3        6        1 1\\n       4        3        2 1\\n       5       12        2 1\\n       6        4        3 1\\n       7       15        3 1\\n       8        5        4 1\\n       9       13        4 1\\n      10        6        5 1\\n      11        9        5 1\\n      12        7        6 1\\n      13        8        7 1\\n      14        9        8 1\\n      15       11       10 1\\n      16       18       10 1\\n      17       12       11 1\\n      18       16       11 1\\n      19       32       12 1\\n      20       14       13 1\\n      21       21       13 1\\n      22       15       14 1\\n      23       19       14 1\\n      24       33       15 1\\n      25       17       16 1\\n      26       24       16 1\\n      27       18       17 1\\n      28       22       17 1\\n      29       20       19 1\\n      30       27       19 1\\n      31       21       20 1\\n      32       25       20 1\\n      33       23       22 1\\n      34       35       22 1\\n      35       24       23 1\\n      36       28       23 1\\n      37       26       25 1\\n      38       34       25 1\\n      39       27       26 1\\n      40       30       26 1\\n      41       29       28 1\\n      42       68       28 1\\n      43       36       29 1\\n      44       39       29 1\\n      45       31       30 1\\n      46       69       30 1\\n      47       40       31 1\\n      48       43       31 1\\n      49       70       32 1\\n      50       71       32 1\\n      51      166       32 1\\n      52       72       33 1\\n      53       73       33 1\\n      54      144       33 1\\n      55       82       34 1\\n      56       74       34 1\\n      57       75       34 1\\n      58      113       35 1\\n      59       77       35 1\\n      60       76       35 1\\n      61       58       36 1\\n      62       37       36 1\\n      63       47       37 1\\n      64       38       37 1\\n      65       39       38 1\\n      66       44       38 1\\n      67       52       39 1\\n      68       63       40 1\\n      69       41       40 1\\n      70       51       41 1\\n      71       42       41 1\\n      72       43       42 1\\n      73       48       42 1\\n      74       53       43 1\\n      75       45       44 1\\n      76       78       44 1\\n      77       46       45 1\\n      78       55       45 1\\n      79       47       46 1\\n      80       54       46 1\\n      81       79       47 1\\n      82       49       48 1\\n      83       80       48 1\\n      84       50       49 1\\n      85       56       49 1\\n      86       51       50 1\\n      87       57       50 1\\n      88       81       51 1\\n      89       61       58 1\\n      90       59       58 1\\n      91       60       59 1\\n      92       62       61 1\\n      93       66       63 1\\n      94       64       63 1\\n      95       65       64 1\\n      96       67       66 1\\n      97       85       82 1\\n      98       83       82 1\\n      99       84       82 1\\n     100       88       85 1\\n     101       87       85 1\\n     102       86       85 1\\n     103       91       88 1\\n     104       90       88 1\\n     105       89       88 1\\n     106       94       91 1\\n     107       92       91 1\\n     108       93       91 1\\n     109       97       94 1\\n     110       96       94 1\\n     111       95       94 1\\n     112      100       97 1\\n     113       98       97 1\\n     114       99       97 1\\n     115      103      100 1\\n     116      102      100 1\\n     117      101      100 1\\n     118      106      103 1\\n     119      105      103 1\\n     120      104      103 1\\n     121      109      106 1\\n     122      108      106 1\\n     123      107      106 1\\n     124      112      109 1\\n     125      111      109 1\\n     126      110      109 1\\n     127      116      113 1\\n     128      114      113 1\\n     129      115      113 1\\n     130      119      116 1\\n     131      117      116 1\\n     132      118      116 1\\n     133      122      119 1\\n     134      120      119 1\\n     135      121      119 1\\n     136      125      122 1\\n     137      123      122 1\\n     138      124      122 1\\n     139      128      125 1\\n     140      126      125 1\\n     141      127      125 1\\n     142      131      128 1\\n     143      130      128 1\\n     144      129      128 1\\n     145      134      131 1\\n     146      132      131 1\\n     147      133      131 1\\n     148      137      134 1\\n     149      135      134 1\\n     150      136      134 1\\n     151      140      137 1\\n     152      139      137 1\\n     153      138      137 1\\n     154      143      140 1\\n     155      142      140 1\\n     156      141      140 1\\n     157      145      144 1\\n     158      153      144 1\\n     159      154      144 1\\n     160      146      145 1\\n     161      147      146 1\\n     162      155      146 1\\n     163      156      146 1\\n     164      148      147 1\\n     165      157      147 1\\n     166      158      147 1\\n     167      149      148 1\\n     168      150      149 1\\n     169      159      149 1\\n     170      160      149 1\\n     171      151      150 1\\n     172      161      150 1\\n     173      162      150 1\\n     174      152      151 1\\n     175      163      152 1\\n     176      164      152 1\\n     177      165      152 1\\n     178      167      166 1\\n     179      175      166 1\\n     180      176      166 1\\n     181      168      167 1\\n     182      169      168 1\\n     183      177      168 1\\n     184      178      168 1\\n     185      170      169 1\\n     186      179      169 1\\n     187      180      169 1\\n     188      171      170 1\\n     189      172      171 1\\n     190      181      171 1\\n     191      182      171 1\\n     192      173      172 1\\n     193      183      172 1\\n     194      184      172 1\\n     195      174      173 1\\n     196      185      174 1\\n     197      186      174 1\\n     198      187      174 1\\n@<TRIPOS>SUBSTRUCTURE\\n       1 RES             1 RESIDUE    0 **** ROOT      0\\n\",\"mol2\");\n",
       "\tviewer_16759769135550249.setStyle({\"stick\": {\"radius\": 0.2, \"color\": \"grey\"}, \"sphere\": {\"scale\": 0.3, \"colorscheme\": {}}});\n",
       "\tviewer_16759769135550249.zoomTo();\n",
       "viewer_16759769135550249.render();\n",
       "});\n",
       "</script>"
      ]
     },
     "metadata": {},
     "output_type": "display_data"
    },
    {
     "data": {
      "text/plain": [
       "<py3Dmol.view at 0x7f142bc38610>"
      ]
     },
     "execution_count": 6,
     "metadata": {},
     "output_type": "execute_result"
    }
   ],
   "source": [
    "bto = mb.load(\"bto.mol2\")\n",
    "bto.visualize()"
   ]
  },
  {
   "cell_type": "code",
   "execution_count": 3,
   "id": "a1cdf10b",
   "metadata": {},
   "outputs": [
    {
     "ename": "KeyError",
     "evalue": "9",
     "output_type": "error",
     "traceback": [
      "\u001b[0;31m---------------------------------------------------------------------------\u001b[0m",
      "\u001b[0;31mKeyError\u001b[0m                                  Traceback (most recent call last)",
      "Cell \u001b[0;32mIn[3], line 1\u001b[0m\n\u001b[0;32m----> 1\u001b[0m b\u001b[38;5;241m=\u001b[39m \u001b[43mBondWalker\u001b[49m\u001b[43m(\u001b[49m\u001b[43mMolecule\u001b[49m\u001b[38;5;241;43m.\u001b[39;49m\u001b[43mfrom_file\u001b[49m\u001b[43m(\u001b[49m\u001b[38;5;124;43m\"\u001b[39;49m\u001b[38;5;124;43m/home/madilyn/Projects/repos/forcefields/bto/bto.sdf\u001b[39;49m\u001b[38;5;124;43m\"\u001b[39;49m\u001b[43m,\u001b[49m\u001b[43mfile_format\u001b[49m\u001b[43m \u001b[49m\u001b[38;5;241;43m=\u001b[39;49m\u001b[43m \u001b[49m\u001b[38;5;124;43m\"\u001b[39;49m\u001b[38;5;124;43msdf\u001b[39;49m\u001b[38;5;124;43m\"\u001b[39;49m\u001b[43m)\u001b[49m\u001b[43m)\u001b[49m\n\u001b[1;32m      2\u001b[0m compound \u001b[38;5;241m=\u001b[39m b\u001b[38;5;241m.\u001b[39mfill_in_bonds()\n\u001b[1;32m      3\u001b[0m compound\u001b[38;5;241m.\u001b[39mvisualize()\n",
      "Cell \u001b[0;32mIn[2], line 76\u001b[0m, in \u001b[0;36mBondWalker.__init__\u001b[0;34m(self, mol)\u001b[0m\n\u001b[1;32m     74\u001b[0m \u001b[38;5;28mself\u001b[39m\u001b[38;5;241m.\u001b[39matom_list \u001b[38;5;241m=\u001b[39m []\n\u001b[1;32m     75\u001b[0m \u001b[38;5;28;01mfor\u001b[39;00m atom \u001b[38;5;129;01min\u001b[39;00m mol\u001b[38;5;241m.\u001b[39matoms:\n\u001b[0;32m---> 76\u001b[0m     \u001b[38;5;28mself\u001b[39m\u001b[38;5;241m.\u001b[39matom_list\u001b[38;5;241m.\u001b[39mappend(MadAtom(atom\u001b[38;5;241m.\u001b[39mmolecule_atom_index, atom\u001b[38;5;241m.\u001b[39matomic_number, \u001b[43moctet\u001b[49m\u001b[43m[\u001b[49m\u001b[43matom\u001b[49m\u001b[38;5;241;43m.\u001b[39;49m\u001b[43matomic_number\u001b[49m\u001b[43m]\u001b[49m, \u001b[38;5;28mlen\u001b[39m([b \u001b[38;5;28;01mfor\u001b[39;00m b \u001b[38;5;129;01min\u001b[39;00m mol\u001b[38;5;241m.\u001b[39mbonds \u001b[38;5;28;01mif\u001b[39;00m atom\u001b[38;5;241m.\u001b[39mmolecule_atom_index \u001b[38;5;129;01min\u001b[39;00m [b\u001b[38;5;241m.\u001b[39matom1_index,b\u001b[38;5;241m.\u001b[39matom2_index]]) )) \u001b[38;5;66;03m#assumes we have no double bonds at the start\u001b[39;00m\n\u001b[1;32m     77\u001b[0m \u001b[38;5;28mself\u001b[39m\u001b[38;5;241m.\u001b[39mbond_list \u001b[38;5;241m=\u001b[39m [MadBond(\u001b[38;5;28mself\u001b[39m\u001b[38;5;241m.\u001b[39matom_list[b\u001b[38;5;241m.\u001b[39matom1_index],\u001b[38;5;28mself\u001b[39m\u001b[38;5;241m.\u001b[39matom_list[b\u001b[38;5;241m.\u001b[39matom2_index],b\u001b[38;5;241m.\u001b[39mbond_order,i) \u001b[38;5;28;01mfor\u001b[39;00m i,b \u001b[38;5;129;01min\u001b[39;00m \u001b[38;5;28menumerate\u001b[39m(mol\u001b[38;5;241m.\u001b[39mbonds)] \u001b[38;5;66;03m# .bond_order inside each of these, and can use atom1_index atom2_index\u001b[39;00m\n\u001b[1;32m     78\u001b[0m \u001b[38;5;28;01mfor\u001b[39;00m b \u001b[38;5;129;01min\u001b[39;00m \u001b[38;5;28mself\u001b[39m\u001b[38;5;241m.\u001b[39mbond_list: \n",
      "\u001b[0;31mKeyError\u001b[0m: 9"
     ]
    }
   ],
   "source": [
    "b= BondWalker(Molecule.from_file(\"/home/madilyn/Projects/repos/forcefields/bto/bto.sdf\",file_format = \"sdf\"))\n",
    "compound = b.fill_in_bonds()\n",
    "compound.visualize()"
   ]
  },
  {
   "cell_type": "code",
   "execution_count": 5,
   "id": "c3eebc8a",
   "metadata": {
    "scrolled": true
   },
   "outputs": [],
   "source": [
    "#Change input file for molecule\n",
    "#This one needs to be .sdf file!\n",
    "\n",
    "molecule = compound\n",
    "\n",
    "molecule_graph = esp.Graph(molecule)\n",
    "\n",
    "espaloma_model = torch.load(\"espaloma_model.pt\")\n",
    "espaloma_model(molecule_graph.heterograph)\n",
    "openmm_system = esp.graphs.deploy.openmm_system_from_graph(molecule_graph)\n",
    "\n",
    "# Store the results for each in something more accessible\n",
    "pair_forces = openmm_system.getForces()[1]\n",
    "angle_forces = openmm_system.getForces()[3]\n",
    "bond_forces = openmm_system.getForces()[2]\n",
    "torsion_forces = openmm_system.getForces()[0]"
   ]
  },
  {
   "cell_type": "code",
   "execution_count": 27,
   "id": "ec6cfe57",
   "metadata": {},
   "outputs": [],
   "source": [
    "# get a parmed structure from openmm \n",
    "import parmed as pmd\n",
    "topology = molecule.to_topology()\n",
    "openmm_topology = topology.to_openmm()\n",
    "\n",
    "structure = pmd.openmm.load_topology(topology=openmm_topology, system=openmm_system)\n",
    "structure.bonds.sort(key=lambda x: x.atom1.idx)"
   ]
  },
  {
   "cell_type": "code",
   "execution_count": 28,
   "id": "1b98eb25",
   "metadata": {},
   "outputs": [],
   "source": [
    "# step 1: how to get bond parameters\n",
    "\n",
    "bond_parameters = {}\n",
    "\n",
    "for bond in structure.bonds:\n",
    "    bond_parameters[(bond.atom1.name, bond.atom2.name)] = {\"k\":[bond.type.k] , \"l0\":[bond.type.req]}\n",
    "    \n",
    "# step 2: get angle parameters\n",
    "\n",
    "angle_parameters = {}\n",
    "\n",
    "for angle in structure.angles:\n",
    "    angle_parameters[(angle.atom1.name, angle.atom2.name,angle.atom3.name)] = {\"k\":[angle.type.k], \n",
    "                                                                               \"t0\":[angle.type.theteq]}\n",
    "    \n",
    "# step 3: dihedral parameters\n",
    "\n",
    "dihedral_parameters = {}\n",
    "\n",
    "for dihedral in structure.dihedrals:\n",
    "    dihedral_parameters[(dihedral.atom1.name, dihedral.atom2.name,dihedral.atom3.name,\n",
    "                         dihedral.atom4.name)] = {\"periodicity\":[dihedral.type.per],\n",
    "                                                  \"k\":[dihedral.type.phi_k],\"phase\":[dihedral.type.phase]}\n",
    "    \n",
    "# step 4: non-bonding parameters\n",
    "\n",
    "nonbonded_parameters = {}\n",
    "\n",
    "for nonbonded in structure.adjusts:\n",
    "    nonbonded_parameters[(nonbonded.atom1.name,nonbonded.atom2.name)] = {\"sigma\":[nonbonded.type.rmin],\n",
    "                                                    \"epsilon\":[nonbonded.type.epsilon],\n",
    "                                                    \"charge\":[nonbonded.type.chgscale]}"
   ]
  },
  {
   "cell_type": "code",
   "execution_count": 114,
   "id": "ee6de8bc",
   "metadata": {
    "scrolled": true
   },
   "outputs": [],
   "source": [
    "for i in range(len(compound.atoms)):\n",
    "    if compound.atoms[i].atomic_number == 6:\n",
    "        compound.atoms[i].name = 'C'\n",
    "    if compound.atoms[i].atomic_number == 1:\n",
    "        compound.atoms[i].name = 'H'\n",
    "    if compound.atoms[i].atomic_number == 7:\n",
    "        compound.atoms[i].name = 'N'\n",
    "    if compound.atoms[i].atomic_number == 16:\n",
    "        compound.atoms[i].name = 'S'\n",
    "    if compound.atoms[i].atomic_number == 8:\n",
    "        compound.atoms[i].name = 'O'\n",
    "    #print(compound.atoms[i].name)"
   ]
  },
  {
   "cell_type": "code",
   "execution_count": 103,
   "id": "31a33eae",
   "metadata": {},
   "outputs": [
    {
     "name": "stdout",
     "output_type": "stream",
     "text": [
      "{0: 'C0', 1: 'C1', 2: 'C2', 3: 'S3', 4: 'C4', 5: 'C5', 6: 'C2', 7: 'C1', 8: 'C5', 9: 'C4', 10: 'S3', 11: 'H6', 12: 'H6', 13: 'H7', 14: 'H8', 15: 'H8', 16: 'H7'}\n"
     ]
    }
   ],
   "source": [
    "particle_types = []\n",
    "type_map = dict()\n",
    "\n",
    "for i in range(pair_forces.getNumParticles()):\n",
    "    pair_parms = pair_forces.getParticleParameters(index=i)\n",
    "    charge = pair_parms[0]\n",
    "    sigma = pair_parms[1]\n",
    "    epsilon = pair_parms[2]\n",
    "    if (charge, sigma, epsilon) not in particle_types: \n",
    "        particle_types.append((charge, sigma, epsilon))\n",
    "\n",
    "    type_map[compound.atoms[i].molecule_atom_index] = \"\".join([compound.atoms[i].name , str(particle_types.index((charge, sigma, epsilon)))])\n",
    "\n",
    "print(type_map)"
   ]
  },
  {
   "cell_type": "code",
   "execution_count": 32,
   "id": "4de400b7",
   "metadata": {},
   "outputs": [
    {
     "name": "stdout",
     "output_type": "stream",
     "text": [
      "{1: 'C2', 0: 'C1', 5: 'C2', 2: 'C2', 3: 'S1', 4: 'C2', 6: 'C2', 10: 'S1', 7: 'C2', 8: 'C2', 9: 'C2', 11: 'H1', 12: 'H1', 13: 'H2', 14: 'H3', 15: 'H3', 16: 'H2'}\n"
     ]
    }
   ],
   "source": [
    "#\"\"\" type map is where our error is coming from \"\"\"\n",
    "#\n",
    "#\n",
    "#import networkx  as nx\n",
    "#Gopenmm = nx.Graph()\n",
    "#Gparmed = nx.Graph()\n",
    "##openmm:\n",
    "#for i in range(bond_forces.getNumBonds()):\n",
    "#    Gopenmm.add_edge(bond_forces.getBondParameters(index=i)[0],bond_forces.getBondParameters(index=i)[1])\n",
    "##parmed\n",
    "#for b in structure.bonds:\n",
    "#    Gparmed.add_edge(b.atom1.idx,b.atom2.idx)\n",
    "#type_map = {}\n",
    "##nx.rooted_tree_isomorphism\n",
    "##in here we still need to check that one known index on one corresponds to the same index on the other....\n",
    "#tree_openmm = nx.bfs_tree(Gopenmm,0)\n",
    "#tree_parmed = nx.bfs_tree(Gparmed,0)\n",
    "#if nx.is_isomorphic(Gopenmm,Gparmed):\n",
    "##if nx.isomorphism.tree_isomorphism(tree_openmm,tree_parmed):  <- want this work\n",
    "#    for b in structure.bonds:\n",
    "#        type_map[b.atom1.idx] = b.atom1.atom_type.__str__()\n",
    "#        type_map[b.atom2.idx] = b.atom2.atom_type.__str__()\n",
    "#print(type_map)"
   ]
  },
  {
   "cell_type": "code",
   "execution_count": 105,
   "id": "c07909e7",
   "metadata": {},
   "outputs": [],
   "source": [
    "# Rename the particle types so that they match the xml file\n",
    "# This is needed when we aren't using SMARTS matching with Foyer.\n",
    "\n",
    "CPDT = mb.load(\"/home/madilyn/Projects/repos/forcefields/CPDT.mol2\")\n",
    "\n",
    "for index in type_map:\n",
    "    CPDT[index].name = type_map[index]"
   ]
  },
  {
   "cell_type": "code",
   "execution_count": 106,
   "id": "d7bce47f",
   "metadata": {},
   "outputs": [
    {
     "name": "stdout",
     "output_type": "stream",
     "text": [
      "{('C0', 'C1'): {'k': 62091.073771214, 'l0': 0.16370454794869382}, ('C0', 'H6'): {'k': 89975.28480830675, 'l0': 0.12312252469607743}, ('C1', 'C2'): {'k': 95343.41173604075, 'l0': 0.14504711691383798}, ('C1', 'C5'): {'k': 62916.00285306054, 'l0': 0.15603395224722857}, ('C2', 'S3'): {'k': 14838.714944712952, 'l0': 0.20129187741816149}, ('C2', 'C2'): {'k': 119899.52420781607, 'l0': 0.1431114199881313}, ('S3', 'C4'): {'k': 16832.664956906985, 'l0': 0.2090723255760851}, ('C4', 'C5'): {'k': 88798.90636082878, 'l0': 0.15396539024526562}, ('C4', 'H7'): {'k': 234207.8104130059, 'l0': 0.1035506322053171}, ('C5', 'H8'): {'k': 67288.62086433225, 'l0': 0.12226254158024269}, ('C2', 'C1'): {'k': 95343.43269265257, 'l0': 0.1450471042972701}, ('C5', 'C4'): {'k': 88798.90636082878, 'l0': 0.15396539024526562}, ('C4', 'S3'): {'k': 16832.671942444256, 'l0': 0.20907235080922085}}\n"
     ]
    }
   ],
   "source": [
    "bond_types = []\n",
    "bond_dict = dict() \n",
    "\n",
    "for i in range(bond_forces.getNumBonds()):\n",
    "    bond_parms = bond_forces.getBondParameters(index=i)\n",
    "    l0 = bond_parms[2]/bond_parms[2].unit\n",
    "    k = bond_parms[3]/bond_parms[3].unit\n",
    "    bond_dict[type_map[bond_parms[0]],type_map[bond_parms[1]]] = {'k':k,'l0':l0}\n",
    "print(bond_dict)"
   ]
  },
  {
   "cell_type": "code",
   "execution_count": 107,
   "id": "569a6335",
   "metadata": {
    "scrolled": true
   },
   "outputs": [
    {
     "name": "stdout",
     "output_type": "stream",
     "text": [
      "{('C0', 'C1', 'C2'): {'k': 379.10931710139346, 't0': 2.177652597427368}, ('C0', 'C1', 'C5'): {'k': 428.2724833480933, 't0': 2.2276835441589355}, ('C1', 'C0', 'C1'): {'k': 615.1941644468548, 't0': 2.1875996589660645}, ('C1', 'C0', 'H6'): {'k': 542.7076692271827, 't0': 2.2062010765075684}, ('C1', 'C2', 'S3'): {'k': 470.7665094117085, 't0': 2.2712974548339844}, ('C1', 'C2', 'C2'): {'k': 471.8351930978462, 't0': 2.4441423416137695}, ('C1', 'C5', 'C4'): {'k': 538.6140739418067, 't0': 2.1330296993255615}, ('C1', 'C5', 'H8'): {'k': 569.5446342322249, 't0': 2.1879079341888428}, ('C2', 'C1', 'C5'): {'k': 422.1543122802479, 't0': 2.240173578262329}, ('C2', 'S3', 'C4'): {'k': 433.8851070959699, 't0': 1.7351200580596924}, ('C2', 'C2', 'C1'): {'k': 471.83527134383286, 't0': 2.4441423416137695}, ('C2', 'C2', 'S3'): {'k': 408.8791764253329, 't0': 2.442430019378662}, ('S3', 'C2', 'C2'): {'k': 408.8790981793462, 't0': 2.442430257797241}, ('S3', 'C4', 'C5'): {'k': 489.7426478564602, 't0': 2.2854719161987305}, ('S3', 'C4', 'H7'): {'k': 546.9485625824922, 't0': 2.3533806800842285}, ('C4', 'C5', 'H8'): {'k': 475.47378797065136, 't0': 2.293156147003174}, ('C5', 'C4', 'H7'): {'k': 593.7404842027166, 't0': 2.430001974105835}, ('C5', 'C4', 'S3'): {'k': 489.74249136448685, 't0': 2.2854721546173096}, ('H6', 'C0', 'H6'): {'k': 482.22590802261504, 't0': 2.1558918952941895}}\n"
     ]
    }
   ],
   "source": [
    "angle_types = []\n",
    "angle_dict = dict()\n",
    "\n",
    "for i in range(angle_forces.getNumAngles()):\n",
    "    angle_parms = angle_forces.getAngleParameters(index=i)\n",
    "    k = angle_parms[4]/angle_parms[4].unit\n",
    "    t0 = angle_parms[3]/angle_parms[3].unit  \n",
    "    angle_dict[type_map[angle_parms[0]],type_map[angle_parms[1]],type_map[angle_parms[2]]] = {'k':k,'t0':t0}\n",
    "print(angle_dict)"
   ]
  },
  {
   "cell_type": "code",
   "execution_count": 108,
   "id": "83bacdda",
   "metadata": {},
   "outputs": [
    {
     "name": "stdout",
     "output_type": "stream",
     "text": [
      "{('C0', 'C1', 'C2', 'S3'): {'periodicity': [1, 2, 3, 4, 5, 6], 'k': [3.3956313034013226, 5.358254603319817, 0.3513929454520035, 0.5797049538492011, 2.1823392531222683, 0.10450240559139175], 'phase': [0.0, 3.141592653589793, 3.141592653589793, 0.0, 0.0, 3.141592653589793]}, ('C0', 'C1', 'C2', 'C2'): {'periodicity': [1, 2, 3, 4, 5, 6], 'k': [0.2079778326075487, 5.989132432460718, 0.16017931549162082, 0.6180063643312911, 1.1644274315945493, 0.3958672307273797], 'phase': [0.0, 3.141592653589793, 3.141592653589793, 0.0, 0.0, 3.141592653589793]}, ('C0', 'C1', 'C5', 'C4'): {'periodicity': [1, 2, 3, 4, 5, 6], 'k': [0.13421387384776784, 2.7680874868493093, 0.09594914117193627, 0.9558334118418598, 0.9807645393492262, 0.10474325651915516], 'phase': [0.0, 3.141592653589793, 3.141592653589793, 0.0, 3.141592653589793, 3.141592653589793]}, ('C0', 'C1', 'C5', 'H8'): {'periodicity': [1, 2, 3, 4, 5, 6], 'k': [0.09253321481573865, 3.5598097223686493, 0.2732154240057969, 0.6732675924272584, 0.5582362112526261, 0.024887114139856458], 'phase': [3.141592653589793, 3.141592653589793, 0.0, 3.141592653589793, 0.0, 0.0]}, ('C1', 'C0', 'C1', 'C2'): {'periodicity': [1, 2, 3, 4, 5, 6], 'k': [2.1288825730942134, 2.454741652422671, 0.62039286692517, 0.8862336066859475, 1.7145358409803173, 0.0027679517789661536], 'phase': [0.0, 3.141592653589793, 3.141592653589793, 0.0, 0.0, 0.0]}, ('C1', 'C0', 'C1', 'C5'): {'periodicity': [1, 2, 3, 4, 5, 6], 'k': [2.42909775288035, 3.088108682014974, 0.12707148237571825, 0.34293259814173593, 0.585680991082234, 0.01517360844909405], 'phase': [0.0, 3.141592653589793, 3.141592653589793, 3.141592653589793, 0.0, 0.0]}, ('C1', 'C2', 'S3', 'C4'): {'periodicity': [1, 2, 3, 4, 5, 6], 'k': [0.04836580051939091, 3.106486708137509, 0.6502339300969924, 0.529275415431005, 0.3960322808555425, 0.3023473829232905], 'phase': [3.141592653589793, 3.141592653589793, 0.0, 0.0, 3.141592653589793, 3.141592653589793]}, ('C1', 'C2', 'C2', 'C1'): {'periodicity': [1, 2, 3, 4, 5, 6], 'k': [2.2814084530132512, 5.422235368556945, 0.5486021741420902, 0.45801288305804605, 0.4743076097851047, 0.251837153331326], 'phase': [0.0, 3.141592653589793, 3.141592653589793, 0.0, 0.0, 0.0]}, ('C1', 'C2', 'C2', 'S3'): {'periodicity': [1, 2, 3, 4, 5, 6], 'k': [0.37942212499466166, 1.282945649550812, 0.26134037293287365, 0.7344363925179097, 0.14557665822661564, 1.8069247897581062], 'phase': [3.141592653589793, 3.141592653589793, 3.141592653589793, 0.0, 3.141592653589793, 0.0]}, ('C1', 'C5', 'C4', 'S3'): {'periodicity': [1, 2, 3, 4, 5, 6], 'k': [1.917170939809561, 2.5652885604854445, 0.3543271699526743, 1.2503904287158691, 0.33713261437874326, 0.5187036490737964], 'phase': [0.0, 3.141592653589793, 3.141592653589793, 0.0, 0.0, 3.141592653589793]}, ('C1', 'C5', 'C4', 'H7'): {'periodicity': [1, 2, 3, 4, 5, 6], 'k': [4.492715837518392, 3.087580521604853, 0.055417720069336485, 1.2736686097545245, 1.0550004192161984, 0.11020947224519652], 'phase': [0.0, 3.141592653589793, 3.141592653589793, 3.141592653589793, 3.141592653589793, 3.141592653589793]}, ('C2', 'C1', 'C0', 'C1'): {'periodicity': [1, 2, 3, 4, 5, 6], 'k': [2.128875237532962, 2.4547367620485034, 0.62039286692517, 0.8862727296792898, 1.7145358409803173, 0.002756948437088638], 'phase': [0.0, 3.141592653589793, 3.141592653589793, 0.0, 0.0, 0.0]}, ('C2', 'C1', 'C0', 'H6'): {'periodicity': [1, 2, 3, 4, 5, 6], 'k': [1.0827997511729706, 2.135845243315597, 0.36751161870902194, 0.11038552571523677, 0.8040655399188287, 0.03309438458694117], 'phase': [0.0, 3.141592653589793, 3.141592653589793, 0.0, 0.0, 3.141592653589793]}, ('C2', 'C1', 'C5', 'C4'): {'periodicity': [1, 2, 3, 4, 5, 6], 'k': [2.636816395657006, 2.2414675445914116, 0.5246589022166163, 1.1775825381058902, 1.2060542965107328, 0.1916060824873474], 'phase': [0.0, 3.141592653589793, 3.141592653589793, 0.0, 3.141592653589793, 3.141592653589793]}, ('C2', 'C1', 'C5', 'H8'): {'periodicity': [1, 2, 3, 4, 5, 6], 'k': [3.7433417971049843, 3.7715042393437144, 0.33358220273293154, 0.978407379000354, 0.209425383361213, 0.22210001061056905], 'phase': [0.0, 3.141592653589793, 3.141592653589793, 3.141592653589793, 3.141592653589793, 3.141592653589793]}, ('C2', 'S3', 'C4', 'C5'): {'periodicity': [1, 2, 3, 4, 5, 6], 'k': [0.7546776511983707, 2.431551498119036, 0.6699519187415004, 1.541485060679087, 2.181234028560349, 0.07739506157936103], 'phase': [0.0, 3.141592653589793, 0.0, 3.141592653589793, 3.141592653589793, 3.141592653589793]}, ('C2', 'S3', 'C4', 'H7'): {'periodicity': [1, 2, 3, 4, 5, 6], 'k': [4.454592925693427, 3.0564728515235746, 0.264354066013771, 1.9808167144161954, 1.7510962782586759, 0.14939237267102967], 'phase': [0.0, 3.141592653589793, 0.0, 3.141592653589793, 3.141592653589793, 0.0]}, ('C2', 'C2', 'C1', 'C5'): {'periodicity': [1, 2, 3, 4, 5, 6], 'k': [4.632751701812908, 5.511103247933929, 0.8351878811226107, 0.4211785848262915, 1.2826668982232483, 0.08231966836632025], 'phase': [0.0, 3.141592653589793, 3.141592653589793, 0.0, 0.0, 3.141592653589793]}, ('C2', 'C2', 'S3', 'C4'): {'periodicity': [1, 2, 3, 4, 5, 6], 'k': [1.9603162659048419, 3.6822500204074755, 0.15552367928388977, 0.012284619909475224, 0.25623604489524837, 0.61744030352137], 'phase': [0.0, 3.141592653589793, 3.141592653589793, 0.0, 0.0, 3.141592653589793]}, ('S3', 'C2', 'C1', 'C5'): {'periodicity': [1, 2, 3, 4, 5, 6], 'k': [6.206031530143847, 6.022949369830949, 0.2654788520723615, 0.9129546111387233, 2.1918754827494484, 0.25983902806336373], 'phase': [0.0, 3.141592653589793, 3.141592653589793, 0.0, 0.0, 3.141592653589793]}, ('S3', 'C2', 'C2', 'C1'): {'periodicity': [1, 2, 3, 4, 5, 6], 'k': [3.250925131776573, 0.8693715965554258, 3.600207880775177, 0.05113864267252485, 0.9405558829417002, 1.158480736606523], 'phase': [0.0, 0.0, 0.0, 3.141592653589793, 3.141592653589793, 3.141592653589793]}, ('S3', 'C2', 'C2', 'S3'): {'periodicity': [1, 2, 3, 4, 5, 6], 'k': [2.7852343612751045, 2.1312434012237116, 0.203723207081576, 0.9491238184836591, 3.3363599684877716, 0.310286905384689], 'phase': [0.0, 3.141592653589793, 3.141592653589793, 3.141592653589793, 0.0, 3.141592653589793]}, ('S3', 'C4', 'C5', 'H8'): {'periodicity': [1, 2, 3, 4, 5, 6], 'k': [2.830678163229244, 1.7506304701191944, 0.6118347121315467, 0.21034477370475652, 0.7292036921583801, 0.36769623033385584], 'phase': [0.0, 3.141592653589793, 0.0, 3.141592653589793, 0.0, 3.141592653589793]}, ('C4', 'S3', 'C2', 'C2'): {'periodicity': [1, 2, 3, 4, 5, 6], 'k': [1.9603284918402613, 3.68224023965914, 0.15553346003222535, 0.012245496916132947, 0.25623604489524837, 0.6174476390826217], 'phase': [0.0, 3.141592653589793, 3.141592653589793, 0.0, 0.0, 3.141592653589793]}, ('C5', 'C1', 'C0', 'C1'): {'periodicity': [1, 2, 3, 4, 5, 6], 'k': [2.42909775288035, 3.088103791640806, 0.12707148237571825, 0.3429130366450648, 0.585680991082234, 0.015168718074926266], 'phase': [0.0, 3.141592653589793, 3.141592653589793, 3.141592653589793, 0.0, 0.0]}, ('C5', 'C1', 'C0', 'H6'): {'periodicity': [1, 2, 3, 4, 5, 6], 'k': [1.183292049946779, 3.0936592566954095, 0.12064553071924912, 0.5695720985735512, 0.4154177240566411, 0.07244600292156289], 'phase': [0.0, 3.141592653589793, 0.0, 3.141592653589793, 0.0, 3.141592653589793]}, ('C5', 'C1', 'C2', 'C2'): {'periodicity': [1, 2, 3, 4, 5, 6], 'k': [4.6327394758774885, 5.5111179190564314, 0.8351878811226107, 0.42115902332962035, 1.282676678971584, 0.08232700392757192], 'phase': [0.0, 3.141592653589793, 3.141592653589793, 0.0, 0.0, 3.141592653589793]}, ('C5', 'C1', 'C2', 'S3'): {'periodicity': [1, 2, 3, 4, 5, 6], 'k': [6.206068207950106, 6.022944479456781, 0.2654690713240259, 0.9129546111387233, 2.1918754827494484, 0.2598316925021121], 'phase': [0.0, 3.141592653589793, 3.141592653589793, 0.0, 0.0, 3.141592653589793]}, ('H7', 'C4', 'C5', 'H8'): {'periodicity': [1, 2, 3, 4, 5, 6], 'k': [4.209115703967305, 1.048940023028771, 0.3411525019446623, 1.484600228359415, 1.0327394360044424, 0.09257600558970676], 'phase': [0.0, 3.141592653589793, 0.0, 3.141592653589793, 3.141592653589793, 3.141592653589793]}, ('H8', 'C5', 'C4', 'H7'): {'periodicity': [1, 2, 3, 4, 5, 6], 'k': [4.209130375089808, 1.0489498037771068, 0.34117206344133344, 1.4846197898560862, 1.0327394360044424, 0.09258334115095844], 'phase': [0.0, 3.141592653589793, 0.0, 3.141592653589793, 3.141592653589793, 3.141592653589793]}, ('C0', 'C1', 'C5', 'C2'): {'periodicity': [1, 2, 3, 4, 5, 6], 'k': [0.2331681499458078, 0.0660102705167582, 0.5101088164739147, 0.9238748166553866, 1.1929774359860765, 0.2470372510856453], 'phase': [3.141592653589793, 0.0, 0.0, 0.0, 3.141592653589793, 3.141592653589793]}, ('C0', 'C1', 'C2', 'C5'): {'periodicity': [1, 2, 3, 4, 5, 6], 'k': [0.19425544269274478, 0.23150053235459322, 0.2592925287501138, 1.9008297545279085, 0.5628625052153505, 0.290796319138983], 'phase': [3.141592653589793, 0.0, 3.141592653589793, 0.0, 3.141592653589793, 3.141592653589793]}, ('C1', 'C5', 'C4', 'H8'): {'periodicity': [1, 2, 3, 4, 5, 6], 'k': [0.47348113655074914, 0.07319423016923396, 0.3723897669413872, 0.7716130169414092, 0.7369793870851578, 0.8801157486020489], 'phase': [3.141592653589793, 0.0, 0.0, 0.0, 3.141592653589793, 0.0]}, ('C1', 'C5', 'H8', 'C4'): {'periodicity': [1, 2, 3, 4, 5, 6], 'k': [0.2593023094984494, 0.5748292508039198, 0.21263224622173782, 1.650912073057438, 0.6355921498386449, 0.2704181299818241], 'phase': [3.141592653589793, 0.0, 3.141592653589793, 0.0, 3.141592653589793, 3.141592653589793]}, ('C1', 'C2', 'S3', 'C2'): {'periodicity': [1, 2, 3, 4, 5, 6], 'k': [0.3794245701817455, 1.282945649550812, 0.2613428181199576, 0.7344363925179097, 0.14557665822661564, 1.8069247897581062], 'phase': [3.141592653589793, 3.141592653589793, 3.141592653589793, 0.0, 3.141592653589793, 0.0]}, ('C2', 'C1', 'C0', 'C5'): {'periodicity': [1, 2, 3, 4, 5, 6], 'k': [0.844993081329019, 0.9533539921387929, 0.2912633498720064, 0.23724672200174027, 0.0699127891026504, 0.7190855080052335], 'phase': [0.0, 0.0, 3.141592653589793, 3.141592653589793, 0.0, 3.141592653589793]}, ('C2', 'C1', 'C5', 'C0'): {'periodicity': [1, 2, 3, 4, 5, 6], 'k': [0.9290268258411478, 0.7015926396070675, 0.8493699662091864, 0.027361643468755525, 0.11797538642363867, 0.1752905716700756], 'phase': [0.0, 0.0, 3.141592653589793, 3.141592653589793, 3.141592653589793, 3.141592653589793]}, ('C2', 'C2', 'S3', 'C1'): {'periodicity': [1, 2, 3, 4, 5, 6], 'k': [0.1586804158091948, 0.1559589225848226, 0.29385280299384847, 0.7460510311663985, 0.4034754303389108, 1.3946515762913507], 'phase': [3.141592653589793, 0.0, 3.141592653589793, 0.0, 0.0, 0.0]}, ('C2', 'C2', 'C1', 'S3'): {'periodicity': [1, 2, 3, 4, 5, 6], 'k': [0.5800350541055266, 0.07515527021051563, 0.9101096359666145, 0.38315592567176526, 0.825250640813672, 0.7205526202555689], 'phase': [0.0, 3.141592653589793, 3.141592653589793, 0.0, 0.0, 0.0]}, ('S3', 'C2', 'C1', 'C2'): {'periodicity': [1, 2, 3, 4, 5, 6], 'k': [3.2509300221507402, 0.869366706181258, 3.6001993226203832, 0.05113864267252485, 0.9405558829417002, 1.1584709558581876], 'phase': [0.0, 0.0, 0.0, 3.141592653589793, 3.141592653589793, 3.141592653589793]}, ('S3', 'C4', 'C5', 'H7'): {'periodicity': [1, 2, 3, 4, 5, 6], 'k': [1.6767552553470964, 0.2845464209525541, 2.4370776209286324, 1.9293601974227645, 0.5175189559316505, 0.4141462267730171], 'phase': [0.0, 3.141592653589793, 0.0, 3.141592653589793, 0.0, 0.0]}, ('S3', 'C4', 'H7', 'C5'): {'periodicity': [1, 2, 3, 4, 5, 6], 'k': [2.3544388556478646, 0.7038911154659263, 2.909577014865199, 2.2780438755858152, 0.5267617631087637, 0.6803244023513718], 'phase': [0.0, 3.141592653589793, 0.0, 3.141592653589793, 0.0, 0.0]}, ('C4', 'C5', 'C1', 'H8'): {'periodicity': [1, 2, 3, 4, 5, 6], 'k': [0.03154291338221146, 1.7740272427314185, 0.6131502227826808, 1.1112641740165616, 0.6054478834684199, 0.005120221753670605], 'phase': [0.0, 0.0, 3.141592653589793, 0.0, 0.0, 0.0]}, ('C4', 'C5', 'H8', 'C1'): {'periodicity': [1, 2, 3, 4, 5, 6], 'k': [0.6551634272581194, 0.9872785177407155, 0.9995863669274877, 1.7308599099523827, 0.341044913712971, 0.9597163689310808], 'phase': [3.141592653589793, 0.0, 3.141592653589793, 0.0, 0.0, 3.141592653589793]}, ('C5', 'C1', 'C0', 'C2'): {'periodicity': [1, 2, 3, 4, 5, 6], 'k': [0.20872850504230367, 0.4267829536225728, 0.3772287921804102, 0.2670095391868781, 1.9760437092284375, 0.7223033742076358], 'phase': [0.0, 3.141592653589793, 0.0, 0.0, 3.141592653589793, 0.0]}, ('C5', 'C1', 'C2', 'C0'): {'periodicity': [1, 2, 3, 4, 5, 6], 'k': [1.070820779648982, 0.7142684894499656, 0.5649947083525046, 1.4753182981889597, 1.109528091186998, 0.612602500875889], 'phase': [3.141592653589793, 0.0, 3.141592653589793, 0.0, 3.141592653589793, 0.0]}, ('C5', 'C4', 'S3', 'H7'): {'periodicity': [1, 2, 3, 4, 5, 6], 'k': [0.574120146549591, 0.9482288800109545, 0.4850811040767345, 0.030515934806976674, 0.334775454029871, 0.6189110835523313], 'phase': [0.0, 3.141592653589793, 0.0, 3.141592653589793, 0.0, 0.0]}, ('C5', 'C4', 'H7', 'S3'): {'periodicity': [1, 2, 3, 4, 5, 6], 'k': [1.269592482885676, 1.0054462577740357, 0.23926522393949343, 1.8580829939273023, 1.5442627932063888, 0.7849784095419648], 'phase': [3.141592653589793, 3.141592653589793, 3.141592653589793, 3.141592653589793, 0.0, 0.0]}, ('H7', 'C4', 'S3', 'C5'): {'periodicity': [1, 2, 3, 4, 5, 6], 'k': [0.5335764995115717, 1.1717287602270519, 0.28394123714929076, 2.3237444221837635, 0.41821501808061395, 0.22880104581397606], 'phase': [3.141592653589793, 0.0, 3.141592653589793, 0.0, 3.141592653589793, 3.141592653589793]}, ('H7', 'C4', 'C5', 'S3'): {'periodicity': [1, 2, 3, 4, 5, 6], 'k': [1.3526848303705061, 1.4081441186202688, 0.1131339159975318, 0.9039612130441672, 0.08046621655672984, 1.22992421282369], 'phase': [3.141592653589793, 0.0, 0.0, 0.0, 0.0, 0.0]}, ('H8', 'C5', 'C1', 'C4'): {'periodicity': [1, 2, 3, 4, 5, 6], 'k': [0.15274839194367193, 1.2643182143457201, 1.0502714273959506, 1.3794376222553724, 0.2998875247168948, 0.8446849877564485], 'phase': [0.0, 0.0, 3.141592653589793, 0.0, 0.0, 3.141592653589793]}, ('H8', 'C5', 'C4', 'C1'): {'periodicity': [1, 2, 3, 4, 5, 6], 'k': [0.0797424411798977, 0.19323824486584557, 1.6748290592217603, 1.5080300109972717, 0.1948911913345568, 0.9486152195702094], 'phase': [3.141592653589793, 0.0, 3.141592653589793, 0.0, 0.0, 3.141592653589793]}}\n"
     ]
    }
   ],
   "source": [
    "dihedral_types = []\n",
    "dihedral_dict = {}\n",
    "\n",
    "for i in range(torsion_forces.getNumTorsions()):\n",
    "    if i%6==0:\n",
    "        periodicity=[]\n",
    "        phase = []\n",
    "        k = []\n",
    "    dihedral_parms = torsion_forces.getTorsionParameters(index=i)\n",
    "    periodicity.append(dihedral_parms[4])  \n",
    "    phase.append( dihedral_parms[5]/dihedral_parms[5].unit)\n",
    "    k.append(dihedral_parms[6]/dihedral_parms[6].unit)\n",
    "    dt = (type_map[dihedral_parms[0]],type_map[dihedral_parms[1]],type_map[dihedral_parms[2]],\n",
    "                  type_map[dihedral_parms[3]])\n",
    "   \n",
    "\n",
    "    if periodicity[-1]==6:\n",
    "        #print(dt,periodicity,phase)\n",
    "        dihedral_dict[dt] = {'periodicity':periodicity,'k':k,'phase':phase}\n",
    "print(dihedral_dict)"
   ]
  },
  {
   "cell_type": "code",
   "execution_count": 109,
   "id": "eed592f7",
   "metadata": {
    "scrolled": true
   },
   "outputs": [
    {
     "name": "stdout",
     "output_type": "stream",
     "text": [
      "{'C0': {'charge': 0.05519999999999999, 'sigma': 0.3399669508423535, 'epsilon': 0.4577296}, 'C1': {'charge': -0.1303, 'sigma': 0.3399669508423535, 'epsilon': 0.359824}, 'C2': {'charge': -0.07610000000000001, 'sigma': 0.3399669508423535, 'epsilon': 0.359824}, 'S3': {'charge': 0.09019999999999999, 'sigma': 0.35635948725613575, 'epsilon': 1.046}, 'C4': {'charge': -0.1911, 'sigma': 0.3399669508423535, 'epsilon': 0.359824}, 'C5': {'charge': -0.12100000000000001, 'sigma': 0.3399669508423535, 'epsilon': 0.359824}, 'H6': {'charge': 0.07569999999999999, 'sigma': 0.2649532787749369, 'epsilon': 0.06568879999999999}, 'H7': {'charge': 0.17, 'sigma': 0.2510552587719476, 'epsilon': 0.06276}, 'H8': {'charge': 0.155, 'sigma': 0.25996424595335105, 'epsilon': 0.06276}}\n"
     ]
    }
   ],
   "source": [
    "nonbonded_types = []\n",
    "nonbonded_dict = {}\n",
    "\n",
    "for i in range(pair_forces.getNumParticles()):\n",
    "    nonbonded_parms = pair_forces.getParticleParameters(index=i)\n",
    "    charge = nonbonded_parms[0]/nonbonded_parms[0].unit\n",
    "    sigma = nonbonded_parms[1]/nonbonded_parms[1].unit\n",
    "    epsilon = nonbonded_parms[2]/nonbonded_parms[2].unit\n",
    "    #if (charge,sigma,epsilon) not in nonbonded_types:\n",
    "    nonbonded_types.append((charge,sigma,epsilon))\n",
    "    nonbonded_dict[(type_map[i])]={'charge':charge,'sigma':sigma,'epsilon':epsilon}\n",
    "print(nonbonded_dict)"
   ]
  },
  {
   "cell_type": "code",
   "execution_count": 112,
   "id": "dda945e2",
   "metadata": {},
   "outputs": [],
   "source": [
    "# Save the forcefield XML file for future use, so that we don't have to repeat the espaloma process everytime\n",
    "mbuild_to_foyer_xml(\n",
    "    file_name=\"CPDT.xml\", #change this to whatever you want to save your xml file as\n",
    "    compound=CPDT,\n",
    "    bond_params=bond_dict,\n",
    "    angle_params=angle_dict,\n",
    "    dihedral_params=dihedral_dict,\n",
    "    dihedral_type=\"periodic\",\n",
    "    non_bonded_params=nonbonded_dict,\n",
    "    combining_rule=\"geometric\",\n",
    "    name=\"\",\n",
    "    version=\"\",\n",
    "    coulomb14scale=1.0,\n",
    "    lj14scale=1.0)\n",
    "\n",
    "# Save the mb.Compound with the new atom type names for future use.\n",
    "CPDT.save(\"/home/madilyn/Projects/repos/forcefields/CPDT_typed.mol2\", overwrite=True) #change this to match your molecule name. "
   ]
  },
  {
   "cell_type": "code",
   "execution_count": null,
   "id": "c95c45ec",
   "metadata": {},
   "outputs": [],
   "source": []
  }
 ],
 "metadata": {
  "kernelspec": {
   "display_name": "Python 3 (ipykernel)",
   "language": "python",
   "name": "python3"
  },
  "language_info": {
   "codemirror_mode": {
    "name": "ipython",
    "version": 3
   },
   "file_extension": ".py",
   "mimetype": "text/x-python",
   "name": "python",
   "nbconvert_exporter": "python",
   "pygments_lexer": "ipython3",
   "version": "3.10.8"
  }
 },
 "nbformat": 4,
 "nbformat_minor": 5
}
