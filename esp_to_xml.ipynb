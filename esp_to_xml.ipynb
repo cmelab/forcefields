{
 "cells": [
  {
   "cell_type": "code",
   "execution_count": 3,
   "id": "9cf7c828",
   "metadata": {},
   "outputs": [
    {
     "name": "stderr",
     "output_type": "stream",
     "text": [
      "Warning: importing 'simtk.openmm' is deprecated.  Import 'openmm' instead.\n",
      "/Users/madilyn/miniconda3/envs/espaloma/lib/python3.9/site-packages/qcelemental/models/results.py:788: DeprecationWarning: ResultProtocols has been renamed to AtomicResultProtocols and will be removed as soon as v0.13.0\n",
      "  warn(\n",
      "/Users/madilyn/miniconda3/envs/espaloma/lib/python3.9/site-packages/qcelemental/models/results.py:788: DeprecationWarning: ResultProtocols has been renamed to AtomicResultProtocols and will be removed as soon as v0.13.0\n",
      "  warn(\n",
      "LICENSE: Could not open license file \"oe_license.txt\" in local directory\n",
      "LICENSE: N.B. OE_LICENSE environment variable is not set\n",
      "LICENSE: N.B. OE_DIR environment variable is not set\n",
      "LICENSE: No product keys!\n",
      "LICENSE: No product keys!\n",
      "LICENSE: No product keys!\n",
      "Warning: Unable to load toolkit 'OpenEye Toolkit'. The Open Force Field Toolkit does not require the OpenEye Toolkits, and can use RDKit/AmberTools instead. However, if you have a valid license for the OpenEye Toolkits, consider installing them for faster performance and additional file format support: https://docs.eyesopen.com/toolkits/python/quickstart-python/linuxosx.html OpenEye offers free Toolkit licenses for academics: https://www.eyesopen.com/academic-licensing\n",
      "LICENSE: No product keys!\n"
     ]
    }
   ],
   "source": [
    "from writers import foyer_xml_writer\n",
    "from writers.foyer_xml_writer import parmed_to_foyer_xml, mbuild_to_foyer_xml\n",
    "\n",
    "\n",
    "import ele\n",
    "import espaloma as esp\n",
    "import forcefield_utilities as ffutils\n",
    "import foyer\n",
    "import gmso\n",
    "import mbuild as mb\n",
    "from mbuild.lib.recipes import Polymer\n",
    "from mbuild.formats.hoomd_forcefield import create_hoomd_forcefield\n",
    "import numpy as np\n",
    "from openff.toolkit.topology import Molecule\n",
    "import torch\n",
    "\n",
    "\n",
    "import os\n",
    "import warnings\n",
    "warnings.filterwarnings(\"ignore\")\n",
    "\n",
    "if not os.path.exists(\"espaloma_model.pt\"):\n",
    "    os.system(\"wget http://data.wangyq.net/espaloma_model.pt\")"
   ]
  },
  {
   "cell_type": "code",
   "execution_count": 4,
   "id": "bad4a632",
   "metadata": {},
   "outputs": [
    {
     "data": {
      "application/3dmoljs_load.v0": "<div id=\"3dmolviewer_16698410356494489\"  style=\"position: relative; width: 640px; height: 480px\">\n        <p id=\"3dmolwarning_16698410356494489\" style=\"background-color:#ffcccc;color:black\">You appear to be running in JupyterLab (or JavaScript failed to load for some other reason).  You need to install the 3dmol extension: <br>\n        <tt>jupyter labextension install jupyterlab_3dmol</tt></p>\n        </div>\n<script>\n\nvar loadScriptAsync = function(uri){\n  return new Promise((resolve, reject) => {\n    var tag = document.createElement('script');\n    tag.src = uri;\n    tag.async = true;\n    tag.onload = () => {\n      resolve();\n    };\n  var firstScriptTag = document.getElementsByTagName('script')[0];\n  firstScriptTag.parentNode.insertBefore(tag, firstScriptTag);\n});\n};\n\nif(typeof $3Dmolpromise === 'undefined') {\n$3Dmolpromise = null;\n  $3Dmolpromise = loadScriptAsync('https://cdn.jsdelivr.net/npm/3dmol@latest/build/3Dmol-min.min.js');\n}\n\nvar viewer_16698410356494489 = null;\nvar warn = document.getElementById(\"3dmolwarning_16698410356494489\");\nif(warn) {\n    warn.parentNode.removeChild(warn);\n}\n$3Dmolpromise.then(function() {\nviewer_16698410356494489 = $3Dmol.createViewer($(\"#3dmolviewer_16698410356494489\"),{backgroundColor:\"white\"});\nviewer_16698410356494489.zoomTo();\n\tviewer_16698410356494489.addModel(\"@<TRIPOS>MOLECULE\\nRES\\n12 12 1 0 1\\nSMALL\\nNO_CHARGES\\n@<TRIPOS>CRYSIN\\n    9.3455     9.9325     5.5369    90.0000    90.0000    90.0000  1  1\\n@<TRIPOS>ATOM\\n       1 C           -1.2250     0.6633    -0.1287 C             1 RES     \\n       2 C           -1.1950    -0.7272     0.0226 C             1 RES     \\n       3 C            0.0300    -1.3905     0.1513 C             1 RES     \\n       4 C            1.2250    -0.6633     0.1287 C             1 RES     \\n       5 C            1.1950     0.7272    -0.0226 C             1 RES     \\n       6 C           -0.0300     1.3905    -0.1513 C             1 RES     \\n       7 H           -2.1728     1.1765    -0.2283 H             1 RES     \\n       8 H           -2.1195    -1.2897     0.0401 H             1 RES     \\n       9 H            0.0533    -2.4662     0.2684 H             1 RES     \\n      10 H            2.1728    -1.1765     0.2283 H             1 RES     \\n      11 H            2.1195     1.2897    -0.0401 H             1 RES     \\n      12 H           -0.0533     2.4662    -0.2684 H             1 RES     \\n@<TRIPOS>BOND\\n       1        2        1 1\\n       2        6        1 1\\n       3        7        1 1\\n       4        3        2 1\\n       5        8        2 1\\n       6        4        3 1\\n       7        9        3 1\\n       8        5        4 1\\n       9       10        4 1\\n      10        6        5 1\\n      11       11        5 1\\n      12       12        6 1\\n@<TRIPOS>SUBSTRUCTURE\\n       1 RES             1 RESIDUE    0 **** ROOT      0\\n\",\"mol2\");\n\tviewer_16698410356494489.setStyle({\"stick\": {\"radius\": 0.2, \"color\": \"grey\"}, \"sphere\": {\"scale\": 0.3, \"colorscheme\": {}}});\n\tviewer_16698410356494489.zoomTo();\nviewer_16698410356494489.render();\n});\n</script>",
      "text/html": [
       "<div id=\"3dmolviewer_16698410356494489\"  style=\"position: relative; width: 640px; height: 480px\">\n",
       "        <p id=\"3dmolwarning_16698410356494489\" style=\"background-color:#ffcccc;color:black\">You appear to be running in JupyterLab (or JavaScript failed to load for some other reason).  You need to install the 3dmol extension: <br>\n",
       "        <tt>jupyter labextension install jupyterlab_3dmol</tt></p>\n",
       "        </div>\n",
       "<script>\n",
       "\n",
       "var loadScriptAsync = function(uri){\n",
       "  return new Promise((resolve, reject) => {\n",
       "    var tag = document.createElement('script');\n",
       "    tag.src = uri;\n",
       "    tag.async = true;\n",
       "    tag.onload = () => {\n",
       "      resolve();\n",
       "    };\n",
       "  var firstScriptTag = document.getElementsByTagName('script')[0];\n",
       "  firstScriptTag.parentNode.insertBefore(tag, firstScriptTag);\n",
       "});\n",
       "};\n",
       "\n",
       "if(typeof $3Dmolpromise === 'undefined') {\n",
       "$3Dmolpromise = null;\n",
       "  $3Dmolpromise = loadScriptAsync('https://cdn.jsdelivr.net/npm/3dmol@latest/build/3Dmol-min.min.js');\n",
       "}\n",
       "\n",
       "var viewer_16698410356494489 = null;\n",
       "var warn = document.getElementById(\"3dmolwarning_16698410356494489\");\n",
       "if(warn) {\n",
       "    warn.parentNode.removeChild(warn);\n",
       "}\n",
       "$3Dmolpromise.then(function() {\n",
       "viewer_16698410356494489 = $3Dmol.createViewer($(\"#3dmolviewer_16698410356494489\"),{backgroundColor:\"white\"});\n",
       "viewer_16698410356494489.zoomTo();\n",
       "\tviewer_16698410356494489.addModel(\"@<TRIPOS>MOLECULE\\nRES\\n12 12 1 0 1\\nSMALL\\nNO_CHARGES\\n@<TRIPOS>CRYSIN\\n    9.3455     9.9325     5.5369    90.0000    90.0000    90.0000  1  1\\n@<TRIPOS>ATOM\\n       1 C           -1.2250     0.6633    -0.1287 C             1 RES     \\n       2 C           -1.1950    -0.7272     0.0226 C             1 RES     \\n       3 C            0.0300    -1.3905     0.1513 C             1 RES     \\n       4 C            1.2250    -0.6633     0.1287 C             1 RES     \\n       5 C            1.1950     0.7272    -0.0226 C             1 RES     \\n       6 C           -0.0300     1.3905    -0.1513 C             1 RES     \\n       7 H           -2.1728     1.1765    -0.2283 H             1 RES     \\n       8 H           -2.1195    -1.2897     0.0401 H             1 RES     \\n       9 H            0.0533    -2.4662     0.2684 H             1 RES     \\n      10 H            2.1728    -1.1765     0.2283 H             1 RES     \\n      11 H            2.1195     1.2897    -0.0401 H             1 RES     \\n      12 H           -0.0533     2.4662    -0.2684 H             1 RES     \\n@<TRIPOS>BOND\\n       1        2        1 1\\n       2        6        1 1\\n       3        7        1 1\\n       4        3        2 1\\n       5        8        2 1\\n       6        4        3 1\\n       7        9        3 1\\n       8        5        4 1\\n       9       10        4 1\\n      10        6        5 1\\n      11       11        5 1\\n      12       12        6 1\\n@<TRIPOS>SUBSTRUCTURE\\n       1 RES             1 RESIDUE    0 **** ROOT      0\\n\",\"mol2\");\n",
       "\tviewer_16698410356494489.setStyle({\"stick\": {\"radius\": 0.2, \"color\": \"grey\"}, \"sphere\": {\"scale\": 0.3, \"colorscheme\": {}}});\n",
       "\tviewer_16698410356494489.zoomTo();\n",
       "viewer_16698410356494489.render();\n",
       "});\n",
       "</script>"
      ]
     },
     "metadata": {},
     "output_type": "display_data"
    }
   ],
   "source": [
    "# Use espaloma to find the FF parameters for Benzene\n",
    "smiles = \"c1ccccc1\"\n",
    "benzene = mb.load(smiles, smiles=True)\n",
    "benzene.visualize().show()\n",
    "\n",
    "molecule = Molecule.from_smiles(smiles)\n",
    "molecule_graph = esp.Graph(molecule)\n",
    "\n",
    "espaloma_model = torch.load(\"espaloma_model.pt\")\n",
    "espaloma_model(molecule_graph.heterograph)\n",
    "openmm_system = esp.graphs.deploy.openmm_system_from_graph(molecule_graph)\n",
    "\n",
    "# Store the results for each in something more accessible\n",
    "pair_forces = openmm_system.getForces()[1]\n",
    "angle_forces = openmm_system.getForces()[3]\n",
    "bond_forces = openmm_system.getForces()[2]\n",
    "torsion_forces = openmm_system.getForces()[0]"
   ]
  },
  {
   "cell_type": "code",
   "execution_count": 5,
   "id": "9ac2fdf9",
   "metadata": {
    "scrolled": true
   },
   "outputs": [
    {
     "name": "stdout",
     "output_type": "stream",
     "text": [
      "[Quantity(value=-0.13, unit=elementary charge), Quantity(value=0.3399669508423535, unit=nanometer), Quantity(value=0.359824, unit=kilojoule/mole)]\n",
      "[Quantity(value=-0.13, unit=elementary charge), Quantity(value=0.3399669508423535, unit=nanometer), Quantity(value=0.359824, unit=kilojoule/mole)]\n",
      "[Quantity(value=-0.13, unit=elementary charge), Quantity(value=0.3399669508423535, unit=nanometer), Quantity(value=0.359824, unit=kilojoule/mole)]\n",
      "[Quantity(value=-0.13, unit=elementary charge), Quantity(value=0.3399669508423535, unit=nanometer), Quantity(value=0.359824, unit=kilojoule/mole)]\n",
      "[Quantity(value=-0.13, unit=elementary charge), Quantity(value=0.3399669508423535, unit=nanometer), Quantity(value=0.359824, unit=kilojoule/mole)]\n",
      "[Quantity(value=-0.13, unit=elementary charge), Quantity(value=0.3399669508423535, unit=nanometer), Quantity(value=0.359824, unit=kilojoule/mole)]\n",
      "[Quantity(value=0.13, unit=elementary charge), Quantity(value=0.25996424595335105, unit=nanometer), Quantity(value=0.06276, unit=kilojoule/mole)]\n",
      "[Quantity(value=0.13, unit=elementary charge), Quantity(value=0.25996424595335105, unit=nanometer), Quantity(value=0.06276, unit=kilojoule/mole)]\n",
      "[Quantity(value=0.13, unit=elementary charge), Quantity(value=0.25996424595335105, unit=nanometer), Quantity(value=0.06276, unit=kilojoule/mole)]\n",
      "[Quantity(value=0.13, unit=elementary charge), Quantity(value=0.25996424595335105, unit=nanometer), Quantity(value=0.06276, unit=kilojoule/mole)]\n",
      "[Quantity(value=0.13, unit=elementary charge), Quantity(value=0.25996424595335105, unit=nanometer), Quantity(value=0.06276, unit=kilojoule/mole)]\n",
      "[Quantity(value=0.13, unit=elementary charge), Quantity(value=0.25996424595335105, unit=nanometer), Quantity(value=0.06276, unit=kilojoule/mole)]\n"
     ]
    }
   ],
   "source": [
    "particle_types = []\n",
    "particle_type_dict = dict()\n",
    "\n",
    "for i in range(pair_forces.getNumParticles()):\n",
    "    pair_parms = pair_forces.getParticleParameters(index=i)\n",
    "    charge = pair_parms[0]\n",
    "    sigma = pair_parms[1]\n",
    "    epsilon = pair_parms[2]\n",
    "    if (charge) not in particle_types:  #this is adding the charge,sigma, and epsilon to the particle_types, but only once. \n",
    "        particle_types.append((charge))\n",
    "    #particle_type_dict[i] = particle_types.index((charge, sigma, epsilon))#adding only the index of the pair_parms, this gives particle types.\n",
    "    print(pair_parms)\n",
    "\n",
    "#particle_types gives the sigma, charge, and epsilon associated with each unique particle, \n",
    "#particle_type_dict only gives the index associated with each unique particle type"
   ]
  },
  {
   "cell_type": "code",
   "execution_count": 6,
   "id": "a6e012c0",
   "metadata": {},
   "outputs": [
    {
     "name": "stdout",
     "output_type": "stream",
     "text": [
      "(0, 1, Quantity(value=0.14419899337180256, unit=nanometer), Quantity(value=130064.45891205409, unit=kilojoule/(nanometer**2*mole)))\n",
      "(0, 5, Quantity(value=0.14419899337180256, unit=nanometer), Quantity(value=130064.45891205409, unit=kilojoule/(nanometer**2*mole)))\n",
      "(0, 6, Quantity(value=0.11234977990290071, unit=nanometer), Quantity(value=123800.77912066571, unit=kilojoule/(nanometer**2*mole)))\n",
      "(1, 2, Quantity(value=0.14419899337180256, unit=nanometer), Quantity(value=130064.45891205409, unit=kilojoule/(nanometer**2*mole)))\n",
      "(1, 7, Quantity(value=0.11234977990290071, unit=nanometer), Quantity(value=123800.77912066571, unit=kilojoule/(nanometer**2*mole)))\n",
      "(2, 3, Quantity(value=0.14419899337180256, unit=nanometer), Quantity(value=130064.45891205409, unit=kilojoule/(nanometer**2*mole)))\n",
      "(2, 8, Quantity(value=0.11234977990290071, unit=nanometer), Quantity(value=123800.77912066571, unit=kilojoule/(nanometer**2*mole)))\n",
      "(3, 4, Quantity(value=0.14419899337180256, unit=nanometer), Quantity(value=130064.45891205409, unit=kilojoule/(nanometer**2*mole)))\n",
      "(3, 9, Quantity(value=0.11234977990290071, unit=nanometer), Quantity(value=123800.77912066571, unit=kilojoule/(nanometer**2*mole)))\n",
      "(4, 5, Quantity(value=0.14419899337180256, unit=nanometer), Quantity(value=130064.45891205409, unit=kilojoule/(nanometer**2*mole)))\n",
      "(4, 10, Quantity(value=0.11234977990290071, unit=nanometer), Quantity(value=123800.77912066571, unit=kilojoule/(nanometer**2*mole)))\n",
      "(5, 11, Quantity(value=0.11234977990290071, unit=nanometer), Quantity(value=123800.77912066571, unit=kilojoule/(nanometer**2*mole)))\n"
     ]
    }
   ],
   "source": [
    "bond_types = []\n",
    "bond_dict = dict() #creating an empty dictionary to put our parameters in \n",
    "\n",
    "for i in range(bond_forces.getNumBonds()):\n",
    "    bond_parms = bond_forces.getBondParameters(index=i)\n",
    "    atom1 = bond_parms[0]\n",
    "    atom2 = bond_parms[1]\n",
    "    l0 = bond_parms[2]\n",
    "    k = bond_parms[3]\n",
    "    if (atom1, atom2, l0, k) not in bond_types:\n",
    "        bond_types.append((atom1,atom2,l0,k))\n",
    "    bond_dict = bond_types[-1]\n",
    "    print(bond_dict)"
   ]
  },
  {
   "cell_type": "code",
   "execution_count": 7,
   "id": "c751e9ae",
   "metadata": {},
   "outputs": [
    {
     "name": "stdout",
     "output_type": "stream",
     "text": [
      "{'atom1': 0, 'atom2': 1, 'k': Quantity(value=0.14419899337180256, unit=nanometer), 'l0': Quantity(value=130064.45891205409, unit=kilojoule/(nanometer**2*mole))}\n",
      "{'atom1': 0, 'atom2': 5, 'k': Quantity(value=0.14419899337180256, unit=nanometer), 'l0': Quantity(value=130064.45891205409, unit=kilojoule/(nanometer**2*mole))}\n",
      "{'atom1': 0, 'atom2': 6, 'k': Quantity(value=0.11234977990290071, unit=nanometer), 'l0': Quantity(value=123800.77912066571, unit=kilojoule/(nanometer**2*mole))}\n",
      "{'atom1': 1, 'atom2': 2, 'k': Quantity(value=0.14419899337180256, unit=nanometer), 'l0': Quantity(value=130064.45891205409, unit=kilojoule/(nanometer**2*mole))}\n",
      "{'atom1': 1, 'atom2': 7, 'k': Quantity(value=0.11234977990290071, unit=nanometer), 'l0': Quantity(value=123800.77912066571, unit=kilojoule/(nanometer**2*mole))}\n",
      "{'atom1': 2, 'atom2': 3, 'k': Quantity(value=0.14419899337180256, unit=nanometer), 'l0': Quantity(value=130064.45891205409, unit=kilojoule/(nanometer**2*mole))}\n",
      "{'atom1': 2, 'atom2': 8, 'k': Quantity(value=0.11234977990290071, unit=nanometer), 'l0': Quantity(value=123800.77912066571, unit=kilojoule/(nanometer**2*mole))}\n",
      "{'atom1': 3, 'atom2': 4, 'k': Quantity(value=0.14419899337180256, unit=nanometer), 'l0': Quantity(value=130064.45891205409, unit=kilojoule/(nanometer**2*mole))}\n",
      "{'atom1': 3, 'atom2': 9, 'k': Quantity(value=0.11234977990290071, unit=nanometer), 'l0': Quantity(value=123800.77912066571, unit=kilojoule/(nanometer**2*mole))}\n",
      "{'atom1': 4, 'atom2': 5, 'k': Quantity(value=0.14419899337180256, unit=nanometer), 'l0': Quantity(value=130064.45891205409, unit=kilojoule/(nanometer**2*mole))}\n",
      "{'atom1': 4, 'atom2': 10, 'k': Quantity(value=0.11234977990290071, unit=nanometer), 'l0': Quantity(value=123800.77912066571, unit=kilojoule/(nanometer**2*mole))}\n",
      "{'atom1': 5, 'atom2': 11, 'k': Quantity(value=0.11234977990290071, unit=nanometer), 'l0': Quantity(value=123800.77912066571, unit=kilojoule/(nanometer**2*mole))}\n"
     ]
    }
   ],
   "source": [
    "bond_types = []\n",
    "bond_type_dict = dict()\n",
    "\n",
    "for i in range(bond_forces.getNumBonds()):\n",
    "    bond_parms = bond_forces.getBondParameters(index=i)\n",
    "    atom1 = bond_parms[0]\n",
    "    atom2 = bond_parms[1]\n",
    "    l0 = bond_parms[2]\n",
    "    k = bond_parms[3]\n",
    "    if (atom1,atom2,l0,k) not in bond_types: \n",
    "        bond_types.append((atom1,atom2,l0,k))\n",
    "    bond_type_dict = {\"atom1\":bond_types[-1][0],\"atom2\":bond_types[-1][1],\"k\":bond_types[-1][2],\"l0\":bond_types[-1][3]}\n",
    "    print(bond_type_dict)"
   ]
  },
  {
   "cell_type": "code",
   "execution_count": 9,
   "id": "de37e9f3",
   "metadata": {},
   "outputs": [
    {
     "name": "stdout",
     "output_type": "stream",
     "text": [
      "{(0, 1): {'k': [Quantity(value=130064.45891205409, unit=kilojoule/(nanometer**2*mole))], 'l0': [Quantity(value=0.14419899337180256, unit=nanometer)]}, (0, 5): {'k': [Quantity(value=130064.45891205409, unit=kilojoule/(nanometer**2*mole))], 'l0': [Quantity(value=0.14419899337180256, unit=nanometer)]}, (0, 6): {'k': [Quantity(value=123800.77912066571, unit=kilojoule/(nanometer**2*mole))], 'l0': [Quantity(value=0.11234977990290071, unit=nanometer)]}, (1, 2): {'k': [Quantity(value=130064.45891205409, unit=kilojoule/(nanometer**2*mole))], 'l0': [Quantity(value=0.14419899337180256, unit=nanometer)]}, (1, 7): {'k': [Quantity(value=123800.77912066571, unit=kilojoule/(nanometer**2*mole))], 'l0': [Quantity(value=0.11234977990290071, unit=nanometer)]}, (2, 3): {'k': [Quantity(value=130064.45891205409, unit=kilojoule/(nanometer**2*mole))], 'l0': [Quantity(value=0.14419899337180256, unit=nanometer)]}, (2, 8): {'k': [Quantity(value=123800.77912066571, unit=kilojoule/(nanometer**2*mole))], 'l0': [Quantity(value=0.11234977990290071, unit=nanometer)]}, (3, 4): {'k': [Quantity(value=130064.45891205409, unit=kilojoule/(nanometer**2*mole))], 'l0': [Quantity(value=0.14419899337180256, unit=nanometer)]}, (3, 9): {'k': [Quantity(value=123800.77912066571, unit=kilojoule/(nanometer**2*mole))], 'l0': [Quantity(value=0.11234977990290071, unit=nanometer)]}, (4, 5): {'k': [Quantity(value=130064.45891205409, unit=kilojoule/(nanometer**2*mole))], 'l0': [Quantity(value=0.14419899337180256, unit=nanometer)]}, (4, 10): {'k': [Quantity(value=123800.77912066571, unit=kilojoule/(nanometer**2*mole))], 'l0': [Quantity(value=0.11234977990290071, unit=nanometer)]}, (5, 11): {'k': [Quantity(value=123800.77912066571, unit=kilojoule/(nanometer**2*mole))], 'l0': [Quantity(value=0.11234977990290071, unit=nanometer)]}}\n"
     ]
    }
   ],
   "source": [
    "bond_types = []\n",
    "bond_type_dict = dict()\n",
    "\n",
    "for i in range(bond_forces.getNumBonds()):\n",
    "    bond_parms = bond_forces.getBondParameters(index=i)\n",
    "    atom1 = bond_parms[0]\n",
    "    atom2 = bond_parms[1]\n",
    "    l0 = bond_parms[2]\n",
    "    k = bond_parms[3]\n",
    "    bond_type_dict[atom1,atom2]={\"k\":[k],\"l0\":[l0]}\n",
    "print(bond_type_dict)"
   ]
  },
  {
   "cell_type": "code",
   "execution_count": null,
   "id": "9c50d4c1",
   "metadata": {},
   "outputs": [],
   "source": []
  }
 ],
 "metadata": {
  "kernelspec": {
   "display_name": "Python 3 (ipykernel)",
   "language": "python",
   "name": "python3"
  },
  "language_info": {
   "codemirror_mode": {
    "name": "ipython",
    "version": 3
   },
   "file_extension": ".py",
   "mimetype": "text/x-python",
   "name": "python",
   "nbconvert_exporter": "python",
   "pygments_lexer": "ipython3",
   "version": "3.9.13"
  }
 },
 "nbformat": 4,
 "nbformat_minor": 5
}
