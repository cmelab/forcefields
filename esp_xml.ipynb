{
 "cells": [
  {
   "cell_type": "code",
   "execution_count": 10,
   "id": "1d3e1c41",
   "metadata": {},
   "outputs": [],
   "source": [
    "pdb_file = \"./pdbfiles/P3HT.pdb\"\n",
    "mol2file = './mol2files/p3ht.mol2'\n",
    "xml_filename = \"./xml_files/NEW.xml\"\n",
    "typed_mol2 = \"./mol2files/P3HT_typed.mol2\""
   ]
  },
  {
   "cell_type": "code",
   "execution_count": 2,
   "id": "77bdee10",
   "metadata": {},
   "outputs": [
    {
     "name": "stderr",
     "output_type": "stream",
     "text": [
      "LICENSE: Could not open license file \"oe_license.txt\" in local directory\n",
      "LICENSE: N.B. OE_LICENSE environment variable is not set\n",
      "LICENSE: N.B. OE_DIR environment variable is not set\n",
      "LICENSE: No product keys!\n",
      "LICENSE: No product keys!\n",
      "LICENSE: No product keys!\n",
      "The OpenEye Toolkits are found to be installed but not licensed and therefore will not be used.\n",
      "The OpenEye Toolkits require a (free for academics) license, see https://docs.eyesopen.com/toolkits/python/quickstart-python/license.html\n",
      "LICENSE: No product keys!\n"
     ]
    }
   ],
   "source": [
    "from functions import esp_functions\n",
    "from functions.esp_functions import openff_Molecule, espaloma, dictionaries, typing, esp_to_xml"
   ]
  },
  {
   "cell_type": "markdown",
   "id": "98f4d8b7",
   "metadata": {},
   "source": [
    "# To Parameterize a molecule all you need to do is import the functions and run the following line:"
   ]
  },
  {
   "cell_type": "code",
   "execution_count": 6,
   "id": "6c35251e",
   "metadata": {},
   "outputs": [],
   "source": [
    "import rdkit\n",
    "from rdkit import Chem\n"
   ]
  },
  {
   "cell_type": "code",
   "execution_count": null,
   "id": "0d7186fb",
   "metadata": {},
   "outputs": [],
   "source": [
    "def openff_Molecule(MOL2FILEPATH,PDBFILEPATH):\n",
    "    rdmol = Chem.MolFromMol2File(MOL2FILEPATH)\n",
    "    from_rdmol = Molecule.from_rdkit(rdmol)\n",
    "    atom_list = [a for a in from_rdmol.atoms if 1 not in [a.atomic_number]]\n",
    "    for atom in atom_list:\n",
    "        atom.formal_charge = 0\n",
    "    b = BondWalker(from_rdmol)\n",
    "    comp = b.fill_in_bonds()\n",
    "    from_rdmol.to_file(PDBFILEPATH,file_format=\"pdb\")\n",
    "    return comp"
   ]
  },
  {
   "cell_type": "code",
   "execution_count": 11,
   "id": "bc24f79b",
   "metadata": {},
   "outputs": [],
   "source": [
    "rdmol = Chem.MolFromMol2File(mol2file)"
   ]
  },
  {
   "cell_type": "code",
   "execution_count": 16,
   "id": "4297e746",
   "metadata": {},
   "outputs": [
    {
     "data": {
      "image/png": "[encoded data removed]",
      "text/plain": [
       "<rdkit.Chem.rdchem.Mol at 0x185857890>"
      ]
     },
     "execution_count": 16,
     "metadata": {},
     "output_type": "execute_result"
    }
   ],
   "source": [
    "rdmol"
   ]
  },
  {
   "cell_type": "code",
   "execution_count": 15,
   "id": "f3f3d807",
   "metadata": {},
   "outputs": [
    {
     "name": "stdout",
     "output_type": "stream",
     "text": [
      "0 0 SP3\n",
      "1 0 SP3\n",
      "2 0 SP3\n",
      "3 0 SP3\n",
      "4 0 SP3\n",
      "5 0 SP3\n",
      "6 0 SP3\n",
      "7 0 SP3\n",
      "8 0 SP3\n",
      "9 0 SP3\n",
      "10 0 SP3\n"
     ]
    }
   ],
   "source": [
    "for atom in rdmol.GetAtoms():\n",
    "    print(atom.GetIdx(),atom.GetNumRadicalElectrons(),atom.GetHybridization())\n"
   ]
  },
  {
   "cell_type": "code",
   "execution_count": 14,
   "id": "e0e1086c",
   "metadata": {},
   "outputs": [],
   "source": [
    "for atom in rdmol.GetAtoms():\n",
    "    atom.SetNumRadicalElectrons(0)"
   ]
  },
  {
   "cell_type": "code",
   "execution_count": 18,
   "id": "ed720fda",
   "metadata": {},
   "outputs": [
    {
     "data": {
      "image/png": "[encoded data removed]",
      "text/plain": [
       "<rdkit.Chem.rdchem.Mol at 0x185857890>"
      ]
     },
     "execution_count": 18,
     "metadata": {},
     "output_type": "execute_result"
    }
   ],
   "source": [
    "rdmol"
   ]
  },
  {
   "cell_type": "code",
   "execution_count": 17,
   "id": "c670cc0e",
   "metadata": {},
   "outputs": [
    {
     "ename": "RadicalsNotSupportedError",
     "evalue": "The OpenFF Toolkit does not currently support parsing molecules with S- and P-block radicals. Found 1 radical electrons on molecule [H][C]1S[C]([H])[C](C([H])([H])C([H])([H])C([H])([H])C([H])([H])C([H])([H])C([H])([H])[H])[C]1[H].",
     "output_type": "error",
     "traceback": [
      "\u001b[0;31m---------------------------------------------------------------------------\u001b[0m",
      "\u001b[0;31mRadicalsNotSupportedError\u001b[0m                 Traceback (most recent call last)",
      "Cell \u001b[0;32mIn[17], line 2\u001b[0m\n\u001b[1;32m      1\u001b[0m \u001b[38;5;28;01mfrom\u001b[39;00m \u001b[38;5;21;01mopenff\u001b[39;00m\u001b[38;5;21;01m.\u001b[39;00m\u001b[38;5;21;01mtoolkit\u001b[39;00m \u001b[38;5;28;01mimport\u001b[39;00m Molecule\n\u001b[0;32m----> 2\u001b[0m from_rdmol \u001b[38;5;241m=\u001b[39m \u001b[43mMolecule\u001b[49m\u001b[38;5;241;43m.\u001b[39;49m\u001b[43mfrom_rdkit\u001b[49m\u001b[43m(\u001b[49m\u001b[43mrdmol\u001b[49m\u001b[43m)\u001b[49m\n",
      "File \u001b[0;32m~/miniconda3/envs/ff3/lib/python3.9/site-packages/openff/toolkit/utils/base_wrapper.py:55\u001b[0m, in \u001b[0;36mToolkitWrapper.requires_toolkit.<locals>.decorator.<locals>.wrapped_function\u001b[0;34m(*args, **kwargs)\u001b[0m\n\u001b[1;32m     51\u001b[0m     msg \u001b[38;5;241m=\u001b[39m \u001b[38;5;124m\"\u001b[39m\u001b[38;5;124mThis function requires the \u001b[39m\u001b[38;5;132;01m{}\u001b[39;00m\u001b[38;5;124m toolkit\u001b[39m\u001b[38;5;124m\"\u001b[39m\u001b[38;5;241m.\u001b[39mformat(\n\u001b[1;32m     52\u001b[0m         \u001b[38;5;28mcls\u001b[39m\u001b[38;5;241m.\u001b[39m_toolkit_name\n\u001b[1;32m     53\u001b[0m     )\n\u001b[1;32m     54\u001b[0m     \u001b[38;5;28;01mraise\u001b[39;00m ToolkitUnavailableException(msg)\n\u001b[0;32m---> 55\u001b[0m value \u001b[38;5;241m=\u001b[39m \u001b[43mfunc\u001b[49m\u001b[43m(\u001b[49m\u001b[38;5;241;43m*\u001b[39;49m\u001b[43margs\u001b[49m\u001b[43m,\u001b[49m\u001b[43m \u001b[49m\u001b[38;5;241;43m*\u001b[39;49m\u001b[38;5;241;43m*\u001b[39;49m\u001b[43mkwargs\u001b[49m\u001b[43m)\u001b[49m\n\u001b[1;32m     56\u001b[0m \u001b[38;5;28;01mreturn\u001b[39;00m value\n",
      "File \u001b[0;32m~/miniconda3/envs/ff3/lib/python3.9/site-packages/openff/toolkit/topology/molecule.py:4322\u001b[0m, in \u001b[0;36mFrozenMolecule.from_rdkit\u001b[0;34m(cls, rdmol, allow_undefined_stereo, hydrogens_are_explicit)\u001b[0m\n\u001b[1;32m   4291\u001b[0m \u001b[38;5;250m\u001b[39m\u001b[38;5;124;03m\"\"\"\u001b[39;00m\n\u001b[1;32m   4292\u001b[0m \u001b[38;5;124;03mCreate a Molecule from an RDKit molecule.\u001b[39;00m\n\u001b[1;32m   4293\u001b[0m \n\u001b[0;32m   (...)\u001b[0m\n\u001b[1;32m   4319\u001b[0m \n\u001b[1;32m   4320\u001b[0m \u001b[38;5;124;03m\"\"\"\u001b[39;00m\n\u001b[1;32m   4321\u001b[0m toolkit \u001b[38;5;241m=\u001b[39m RDKitToolkitWrapper()\n\u001b[0;32m-> 4322\u001b[0m molecule \u001b[38;5;241m=\u001b[39m \u001b[43mtoolkit\u001b[49m\u001b[38;5;241;43m.\u001b[39;49m\u001b[43mfrom_rdkit\u001b[49m\u001b[43m(\u001b[49m\n\u001b[1;32m   4323\u001b[0m \u001b[43m    \u001b[49m\u001b[43mrdmol\u001b[49m\u001b[43m,\u001b[49m\n\u001b[1;32m   4324\u001b[0m \u001b[43m    \u001b[49m\u001b[43mallow_undefined_stereo\u001b[49m\u001b[38;5;241;43m=\u001b[39;49m\u001b[43mallow_undefined_stereo\u001b[49m\u001b[43m,\u001b[49m\n\u001b[1;32m   4325\u001b[0m \u001b[43m    \u001b[49m\u001b[43mhydrogens_are_explicit\u001b[49m\u001b[38;5;241;43m=\u001b[39;49m\u001b[43mhydrogens_are_explicit\u001b[49m\u001b[43m,\u001b[49m\n\u001b[1;32m   4326\u001b[0m \u001b[43m    \u001b[49m\u001b[43m_cls\u001b[49m\u001b[38;5;241;43m=\u001b[39;49m\u001b[38;5;28;43mcls\u001b[39;49m\u001b[43m,\u001b[49m\n\u001b[1;32m   4327\u001b[0m \u001b[43m\u001b[49m\u001b[43m)\u001b[49m\n\u001b[1;32m   4328\u001b[0m \u001b[38;5;28;01mreturn\u001b[39;00m molecule\n",
      "File \u001b[0;32m~/miniconda3/envs/ff3/lib/python3.9/site-packages/openff/toolkit/utils/rdkit_wrapper.py:1841\u001b[0m, in \u001b[0;36mRDKitToolkitWrapper.from_rdkit\u001b[0;34m(self, rdmol, allow_undefined_stereo, hydrogens_are_explicit, _cls)\u001b[0m\n\u001b[1;32m   1835\u001b[0m \u001b[38;5;28;01mfor\u001b[39;00m rda \u001b[38;5;129;01min\u001b[39;00m rdmol\u001b[38;5;241m.\u001b[39mGetAtoms():\n\u001b[1;32m   1836\u001b[0m     \u001b[38;5;66;03m# See issues #1075 for some discussion on radicals\u001b[39;00m\n\u001b[1;32m   1837\u001b[0m     \u001b[38;5;28;01mif\u001b[39;00m (\n\u001b[1;32m   1838\u001b[0m         rda\u001b[38;5;241m.\u001b[39mGetAtomicNum() \u001b[38;5;129;01mnot\u001b[39;00m \u001b[38;5;129;01min\u001b[39;00m d_and_f_block_elements\n\u001b[1;32m   1839\u001b[0m         \u001b[38;5;129;01mand\u001b[39;00m rda\u001b[38;5;241m.\u001b[39mGetNumRadicalElectrons() \u001b[38;5;241m!=\u001b[39m \u001b[38;5;241m0\u001b[39m\n\u001b[1;32m   1840\u001b[0m     ):\n\u001b[0;32m-> 1841\u001b[0m         \u001b[38;5;28;01mraise\u001b[39;00m RadicalsNotSupportedError(\n\u001b[1;32m   1842\u001b[0m             \u001b[38;5;124m\"\u001b[39m\u001b[38;5;124mThe OpenFF Toolkit does not currently support parsing molecules with S- and P-block radicals. \u001b[39m\u001b[38;5;124m\"\u001b[39m\n\u001b[1;32m   1843\u001b[0m             \u001b[38;5;124mf\u001b[39m\u001b[38;5;124m\"\u001b[39m\u001b[38;5;124mFound \u001b[39m\u001b[38;5;132;01m{\u001b[39;00mrda\u001b[38;5;241m.\u001b[39mGetNumRadicalElectrons()\u001b[38;5;132;01m}\u001b[39;00m\u001b[38;5;124m radical electrons on molecule \u001b[39m\u001b[38;5;132;01m{\u001b[39;00mChem\u001b[38;5;241m.\u001b[39mMolToSmiles(rdmol)\u001b[38;5;132;01m}\u001b[39;00m\u001b[38;5;124m.\u001b[39m\u001b[38;5;124m\"\u001b[39m\n\u001b[1;32m   1844\u001b[0m         )\n\u001b[1;32m   1846\u001b[0m     rd_idx \u001b[38;5;241m=\u001b[39m rda\u001b[38;5;241m.\u001b[39mGetIdx()\n\u001b[1;32m   1847\u001b[0m     \u001b[38;5;66;03m# if the molecule was made from a mapped smiles this has been hidden\u001b[39;00m\n\u001b[1;32m   1848\u001b[0m     \u001b[38;5;66;03m# so that it does not affect the sterochemistry tags\u001b[39;00m\n",
      "\u001b[0;31mRadicalsNotSupportedError\u001b[0m: The OpenFF Toolkit does not currently support parsing molecules with S- and P-block radicals. Found 1 radical electrons on molecule [H][C]1S[C]([H])[C](C([H])([H])C([H])([H])C([H])([H])C([H])([H])C([H])([H])C([H])([H])[H])[C]1[H]."
     ]
    }
   ],
   "source": [
    "from openff.toolkit import Molecule\n",
    "from_rdmol = Molecule.from_rdkit(rdmol)"
   ]
  },
  {
   "cell_type": "code",
   "execution_count": null,
   "id": "5e0704f9",
   "metadata": {},
   "outputs": [],
   "source": []
  },
  {
   "cell_type": "code",
   "execution_count": null,
   "id": "9dddd209",
   "metadata": {},
   "outputs": [],
   "source": [
    "\n",
    "mol = mb.load('mol2files/MD/P3HT.mol2')\n",
    "mol.visualize()"
   ]
  },
  {
   "cell_type": "code",
   "execution_count": null,
   "id": "e2f40381",
   "metadata": {},
   "outputs": [],
   "source": [
    "smiles = mol.to_smiles()"
   ]
  },
  {
   "cell_type": "code",
   "execution_count": 1,
   "id": "d834ea1a",
   "metadata": {},
   "outputs": [
    {
     "name": "stderr",
     "output_type": "stream",
     "text": [
      "LICENSE: Could not open license file \"oe_license.txt\" in local directory\n",
      "LICENSE: N.B. OE_LICENSE environment variable is not set\n",
      "LICENSE: N.B. OE_DIR environment variable is not set\n",
      "LICENSE: No product keys!\n",
      "LICENSE: No product keys!\n",
      "LICENSE: No product keys!\n",
      "The OpenEye Toolkits are found to be installed but not licensed and therefore will not be used.\n",
      "The OpenEye Toolkits require a (free for academics) license, see https://docs.eyesopen.com/toolkits/python/quickstart-python/license.html\n",
      "LICENSE: No product keys!\n"
     ]
    }
   ],
   "source": [
    "\n",
    "molecule = Molecule.from_smiles('CCCCCCc1cscc1.CCCCCCc1csc(c1)c1c(CCCCCC)ccs1')"
   ]
  },
  {
   "cell_type": "code",
   "execution_count": 2,
   "id": "57e01e95",
   "metadata": {},
   "outputs": [
    {
     "data": {
      "image/svg+xml": [
       "<svg xmlns=\"http://www.w3.org/2000/svg\" xmlns:rdkit=\"http://www.rdkit.org/xml\" xmlns:xlink=\"http://www.w3.org/1999/xlink\" version=\"1.1\" baseProfile=\"full\" xml:space=\"preserve\" width=\"500px\" height=\"300px\" viewBox=\"0 0 500 300\">\n",
       "<!-- END OF HEADER -->\n",
       "<rect style=\"opacity:1.0;fill:#FFFFFF;stroke:none\" width=\"500.0\" height=\"300.0\" x=\"0.0\" y=\"0.0\"> </rect>\n",
       "<path class=\"bond-0 atom-0 atom-1\" d=\"M 255.2,42.1 L 254.7,68.8\" style=\"fill:none;fill-rule:evenodd;stroke:#000000;stroke-width:2.0px;stroke-linecap:butt;stroke-linejoin:miter;stroke-opacity:1\"/>\n",
       "<path class=\"bond-1 atom-1 atom-2\" d=\"M 254.7,68.8 L 231.5,82.2\" style=\"fill:none;fill-rule:evenodd;stroke:#000000;stroke-width:2.0px;stroke-linecap:butt;stroke-linejoin:miter;stroke-opacity:1\"/>\n",
       "<path class=\"bond-2 atom-2 atom-3\" d=\"M 231.5,82.2 L 208.1,69.0\" style=\"fill:none;fill-rule:evenodd;stroke:#000000;stroke-width:2.0px;stroke-linecap:butt;stroke-linejoin:miter;stroke-opacity:1\"/>\n",
       "<path class=\"bond-3 atom-3 atom-4\" d=\"M 208.1,69.0 L 184.6,82.3\" style=\"fill:none;fill-rule:evenodd;stroke:#000000;stroke-width:2.0px;stroke-linecap:butt;stroke-linejoin:miter;stroke-opacity:1\"/>\n",
       "<path class=\"bond-4 atom-4 atom-5\" d=\"M 184.6,82.3 L 161.4,69.0\" style=\"fill:none;fill-rule:evenodd;stroke:#000000;stroke-width:2.0px;stroke-linecap:butt;stroke-linejoin:miter;stroke-opacity:1\"/>\n",
       "<path class=\"bond-5 atom-5 atom-6\" d=\"M 161.4,69.0 L 139.0,82.2\" style=\"fill:none;fill-rule:evenodd;stroke:#000000;stroke-width:2.0px;stroke-linecap:butt;stroke-linejoin:miter;stroke-opacity:1\"/>\n",
       "<path class=\"bond-6 atom-6 atom-7\" d=\"M 139.0,82.2 L 136.2,108.7\" style=\"fill:none;fill-rule:evenodd;stroke:#000000;stroke-width:2.0px;stroke-linecap:butt;stroke-linejoin:miter;stroke-opacity:1\"/>\n",
       "<path class=\"bond-6 atom-6 atom-7\" d=\"M 134.8,84.7 L 132.6,105.4\" style=\"fill:none;fill-rule:evenodd;stroke:#000000;stroke-width:2.0px;stroke-linecap:butt;stroke-linejoin:miter;stroke-opacity:1\"/>\n",
       "<path class=\"bond-7 atom-7 atom-8\" d=\"M 136.2,108.7 L 125.5,110.9\" style=\"fill:none;fill-rule:evenodd;stroke:#000000;stroke-width:2.0px;stroke-linecap:butt;stroke-linejoin:miter;stroke-opacity:1\"/>\n",
       "<path class=\"bond-7 atom-7 atom-8\" d=\"M 125.5,110.9 L 114.8,113.2\" style=\"fill:none;fill-rule:evenodd;stroke:#CCCC00;stroke-width:2.0px;stroke-linecap:butt;stroke-linejoin:miter;stroke-opacity:1\"/>\n",
       "<path class=\"bond-8 atom-8 atom-9\" d=\"M 106.5,107.7 L 101.7,99.4\" style=\"fill:none;fill-rule:evenodd;stroke:#CCCC00;stroke-width:2.0px;stroke-linecap:butt;stroke-linejoin:miter;stroke-opacity:1\"/>\n",
       "<path class=\"bond-8 atom-8 atom-9\" d=\"M 101.7,99.4 L 97.0,91.2\" style=\"fill:none;fill-rule:evenodd;stroke:#000000;stroke-width:2.0px;stroke-linecap:butt;stroke-linejoin:miter;stroke-opacity:1\"/>\n",
       "<path class=\"bond-9 atom-9 atom-10\" d=\"M 97.0,91.2 L 114.8,71.4\" style=\"fill:none;fill-rule:evenodd;stroke:#000000;stroke-width:2.0px;stroke-linecap:butt;stroke-linejoin:miter;stroke-opacity:1\"/>\n",
       "<path class=\"bond-9 atom-9 atom-10\" d=\"M 101.9,91.7 L 115.8,76.3\" style=\"fill:none;fill-rule:evenodd;stroke:#000000;stroke-width:2.0px;stroke-linecap:butt;stroke-linejoin:miter;stroke-opacity:1\"/>\n",
       "<path class=\"bond-10 atom-11 atom-12\" d=\"M 150.6,244.5 L 173.3,257.8\" style=\"fill:none;fill-rule:evenodd;stroke:#000000;stroke-width:2.0px;stroke-linecap:butt;stroke-linejoin:miter;stroke-opacity:1\"/>\n",
       "<path class=\"bond-11 atom-12 atom-13\" d=\"M 173.3,257.8 L 196.5,244.4\" style=\"fill:none;fill-rule:evenodd;stroke:#000000;stroke-width:2.0px;stroke-linecap:butt;stroke-linejoin:miter;stroke-opacity:1\"/>\n",
       "<path class=\"bond-12 atom-13 atom-14\" d=\"M 196.5,244.4 L 220.1,257.6\" style=\"fill:none;fill-rule:evenodd;stroke:#000000;stroke-width:2.0px;stroke-linecap:butt;stroke-linejoin:miter;stroke-opacity:1\"/>\n",
       "<path class=\"bond-13 atom-14 atom-15\" d=\"M 220.1,257.6 L 243.6,244.2\" style=\"fill:none;fill-rule:evenodd;stroke:#000000;stroke-width:2.0px;stroke-linecap:butt;stroke-linejoin:miter;stroke-opacity:1\"/>\n",
       "<path class=\"bond-14 atom-15 atom-16\" d=\"M 243.6,244.2 L 266.8,257.3\" style=\"fill:none;fill-rule:evenodd;stroke:#000000;stroke-width:2.0px;stroke-linecap:butt;stroke-linejoin:miter;stroke-opacity:1\"/>\n",
       "<path class=\"bond-15 atom-16 atom-17\" d=\"M 266.8,257.3 L 289.2,243.9\" style=\"fill:none;fill-rule:evenodd;stroke:#000000;stroke-width:2.0px;stroke-linecap:butt;stroke-linejoin:miter;stroke-opacity:1\"/>\n",
       "<path class=\"bond-16 atom-17 atom-18\" d=\"M 289.2,243.9 L 291.9,217.5\" style=\"fill:none;fill-rule:evenodd;stroke:#000000;stroke-width:2.0px;stroke-linecap:butt;stroke-linejoin:miter;stroke-opacity:1\"/>\n",
       "<path class=\"bond-16 atom-17 atom-18\" d=\"M 293.5,241.4 L 295.5,220.8\" style=\"fill:none;fill-rule:evenodd;stroke:#000000;stroke-width:2.0px;stroke-linecap:butt;stroke-linejoin:miter;stroke-opacity:1\"/>\n",
       "<path class=\"bond-17 atom-18 atom-19\" d=\"M 291.9,217.5 L 302.6,215.1\" style=\"fill:none;fill-rule:evenodd;stroke:#000000;stroke-width:2.0px;stroke-linecap:butt;stroke-linejoin:miter;stroke-opacity:1\"/>\n",
       "<path class=\"bond-17 atom-18 atom-19\" d=\"M 302.6,215.1 L 313.3,212.8\" style=\"fill:none;fill-rule:evenodd;stroke:#CCCC00;stroke-width:2.0px;stroke-linecap:butt;stroke-linejoin:miter;stroke-opacity:1\"/>\n",
       "<path class=\"bond-18 atom-19 atom-20\" d=\"M 321.8,218.6 L 326.5,226.7\" style=\"fill:none;fill-rule:evenodd;stroke:#CCCC00;stroke-width:2.0px;stroke-linecap:butt;stroke-linejoin:miter;stroke-opacity:1\"/>\n",
       "<path class=\"bond-18 atom-19 atom-20\" d=\"M 326.5,226.7 L 331.2,234.8\" style=\"fill:none;fill-rule:evenodd;stroke:#000000;stroke-width:2.0px;stroke-linecap:butt;stroke-linejoin:miter;stroke-opacity:1\"/>\n",
       "<path class=\"bond-19 atom-20 atom-21\" d=\"M 331.2,234.8 L 313.5,254.6\" style=\"fill:none;fill-rule:evenodd;stroke:#000000;stroke-width:2.0px;stroke-linecap:butt;stroke-linejoin:miter;stroke-opacity:1\"/>\n",
       "<path class=\"bond-19 atom-20 atom-21\" d=\"M 326.3,234.3 L 312.5,249.8\" style=\"fill:none;fill-rule:evenodd;stroke:#000000;stroke-width:2.0px;stroke-linecap:butt;stroke-linejoin:miter;stroke-opacity:1\"/>\n",
       "<path class=\"bond-20 atom-20 atom-22\" d=\"M 331.2,234.8 L 357.7,237.5\" style=\"fill:none;fill-rule:evenodd;stroke:#000000;stroke-width:2.0px;stroke-linecap:butt;stroke-linejoin:miter;stroke-opacity:1\"/>\n",
       "<path class=\"bond-21 atom-22 atom-23\" d=\"M 357.7,237.5 L 375.4,217.7\" style=\"fill:none;fill-rule:evenodd;stroke:#000000;stroke-width:2.0px;stroke-linecap:butt;stroke-linejoin:miter;stroke-opacity:1\"/>\n",
       "<path class=\"bond-21 atom-22 atom-23\" d=\"M 362.6,238.0 L 376.4,222.5\" style=\"fill:none;fill-rule:evenodd;stroke:#000000;stroke-width:2.0px;stroke-linecap:butt;stroke-linejoin:miter;stroke-opacity:1\"/>\n",
       "<path class=\"bond-22 atom-23 atom-24\" d=\"M 375.4,217.7 L 369.6,192.3\" style=\"fill:none;fill-rule:evenodd;stroke:#000000;stroke-width:2.0px;stroke-linecap:butt;stroke-linejoin:miter;stroke-opacity:1\"/>\n",
       "<path class=\"bond-23 atom-24 atom-25\" d=\"M 369.6,192.3 L 389.2,174.3\" style=\"fill:none;fill-rule:evenodd;stroke:#000000;stroke-width:2.0px;stroke-linecap:butt;stroke-linejoin:miter;stroke-opacity:1\"/>\n",
       "<path class=\"bond-24 atom-25 atom-26\" d=\"M 389.2,174.3 L 383.7,147.9\" style=\"fill:none;fill-rule:evenodd;stroke:#000000;stroke-width:2.0px;stroke-linecap:butt;stroke-linejoin:miter;stroke-opacity:1\"/>\n",
       "<path class=\"bond-25 atom-26 atom-27\" d=\"M 383.7,147.9 L 403.5,129.6\" style=\"fill:none;fill-rule:evenodd;stroke:#000000;stroke-width:2.0px;stroke-linecap:butt;stroke-linejoin:miter;stroke-opacity:1\"/>\n",
       "<path class=\"bond-26 atom-27 atom-28\" d=\"M 403.5,129.6 L 397.8,103.4\" style=\"fill:none;fill-rule:evenodd;stroke:#000000;stroke-width:2.0px;stroke-linecap:butt;stroke-linejoin:miter;stroke-opacity:1\"/>\n",
       "<path class=\"bond-27 atom-28 atom-29\" d=\"M 397.8,103.4 L 372.4,94.8\" style=\"fill:none;fill-rule:evenodd;stroke:#000000;stroke-width:2.0px;stroke-linecap:butt;stroke-linejoin:miter;stroke-opacity:1\"/>\n",
       "<path class=\"bond-28 atom-23 atom-30\" d=\"M 375.4,217.7 L 399.7,228.4\" style=\"fill:none;fill-rule:evenodd;stroke:#000000;stroke-width:2.0px;stroke-linecap:butt;stroke-linejoin:miter;stroke-opacity:1\"/>\n",
       "<path class=\"bond-29 atom-30 atom-31\" d=\"M 399.7,228.4 L 397.0,254.8\" style=\"fill:none;fill-rule:evenodd;stroke:#000000;stroke-width:2.0px;stroke-linecap:butt;stroke-linejoin:miter;stroke-opacity:1\"/>\n",
       "<path class=\"bond-29 atom-30 atom-31\" d=\"M 395.4,230.9 L 393.3,251.5\" style=\"fill:none;fill-rule:evenodd;stroke:#000000;stroke-width:2.0px;stroke-linecap:butt;stroke-linejoin:miter;stroke-opacity:1\"/>\n",
       "<path class=\"bond-30 atom-31 atom-32\" d=\"M 397.0,254.8 L 386.3,257.1\" style=\"fill:none;fill-rule:evenodd;stroke:#000000;stroke-width:2.0px;stroke-linecap:butt;stroke-linejoin:miter;stroke-opacity:1\"/>\n",
       "<path class=\"bond-30 atom-31 atom-32\" d=\"M 386.3,257.1 L 375.5,259.5\" style=\"fill:none;fill-rule:evenodd;stroke:#CCCC00;stroke-width:2.0px;stroke-linecap:butt;stroke-linejoin:miter;stroke-opacity:1\"/>\n",
       "<path class=\"bond-31 atom-10 atom-6\" d=\"M 114.8,71.4 L 139.0,82.2\" style=\"fill:none;fill-rule:evenodd;stroke:#000000;stroke-width:2.0px;stroke-linecap:butt;stroke-linejoin:miter;stroke-opacity:1\"/>\n",
       "<path class=\"bond-32 atom-21 atom-17\" d=\"M 313.5,254.6 L 289.2,243.9\" style=\"fill:none;fill-rule:evenodd;stroke:#000000;stroke-width:2.0px;stroke-linecap:butt;stroke-linejoin:miter;stroke-opacity:1\"/>\n",
       "<path class=\"bond-33 atom-32 atom-22\" d=\"M 367.3,253.9 L 362.5,245.7\" style=\"fill:none;fill-rule:evenodd;stroke:#CCCC00;stroke-width:2.0px;stroke-linecap:butt;stroke-linejoin:miter;stroke-opacity:1\"/>\n",
       "<path class=\"bond-33 atom-32 atom-22\" d=\"M 362.5,245.7 L 357.7,237.5\" style=\"fill:none;fill-rule:evenodd;stroke:#000000;stroke-width:2.0px;stroke-linecap:butt;stroke-linejoin:miter;stroke-opacity:1\"/>\n",
       "<path class=\"bond-34 atom-0 atom-33\" d=\"M 255.2,42.1 L 276.4,42.4\" style=\"fill:none;fill-rule:evenodd;stroke:#000000;stroke-width:2.0px;stroke-linecap:butt;stroke-linejoin:miter;stroke-opacity:1\"/>\n",
       "<path class=\"bond-35 atom-0 atom-34\" d=\"M 255.2,42.1 L 264.8,25.8\" style=\"fill:none;fill-rule:evenodd;stroke:#000000;stroke-width:2.0px;stroke-linecap:butt;stroke-linejoin:miter;stroke-opacity:1\"/>\n",
       "<path class=\"bond-36 atom-0 atom-35\" d=\"M 255.2,42.1 L 238.0,31.8\" style=\"fill:none;fill-rule:evenodd;stroke:#000000;stroke-width:2.0px;stroke-linecap:butt;stroke-linejoin:miter;stroke-opacity:1\"/>\n",
       "<path class=\"bond-37 atom-1 atom-36\" d=\"M 254.7,68.8 L 264.2,85.4\" style=\"fill:none;fill-rule:evenodd;stroke:#000000;stroke-width:2.0px;stroke-linecap:butt;stroke-linejoin:miter;stroke-opacity:1\"/>\n",
       "<path class=\"bond-38 atom-1 atom-37\" d=\"M 254.7,68.8 L 276.0,69.1\" style=\"fill:none;fill-rule:evenodd;stroke:#000000;stroke-width:2.0px;stroke-linecap:butt;stroke-linejoin:miter;stroke-opacity:1\"/>\n",
       "<path class=\"bond-39 atom-2 atom-38\" d=\"M 231.5,82.2 L 222.3,98.8\" style=\"fill:none;fill-rule:evenodd;stroke:#000000;stroke-width:2.0px;stroke-linecap:butt;stroke-linejoin:miter;stroke-opacity:1\"/>\n",
       "<path class=\"bond-40 atom-2 atom-39\" d=\"M 231.5,82.2 L 241.1,98.6\" style=\"fill:none;fill-rule:evenodd;stroke:#000000;stroke-width:2.0px;stroke-linecap:butt;stroke-linejoin:miter;stroke-opacity:1\"/>\n",
       "<path class=\"bond-41 atom-3 atom-40\" d=\"M 208.1,69.0 L 198.9,52.6\" style=\"fill:none;fill-rule:evenodd;stroke:#000000;stroke-width:2.0px;stroke-linecap:butt;stroke-linejoin:miter;stroke-opacity:1\"/>\n",
       "<path class=\"bond-42 atom-3 atom-41\" d=\"M 208.1,69.0 L 217.3,52.8\" style=\"fill:none;fill-rule:evenodd;stroke:#000000;stroke-width:2.0px;stroke-linecap:butt;stroke-linejoin:miter;stroke-opacity:1\"/>\n",
       "<path class=\"bond-43 atom-4 atom-42\" d=\"M 184.6,82.3 L 193.8,98.8\" style=\"fill:none;fill-rule:evenodd;stroke:#000000;stroke-width:2.0px;stroke-linecap:butt;stroke-linejoin:miter;stroke-opacity:1\"/>\n",
       "<path class=\"bond-44 atom-4 atom-43\" d=\"M 184.6,82.3 L 175.0,98.7\" style=\"fill:none;fill-rule:evenodd;stroke:#000000;stroke-width:2.0px;stroke-linecap:butt;stroke-linejoin:miter;stroke-opacity:1\"/>\n",
       "<path class=\"bond-45 atom-5 atom-44\" d=\"M 161.4,69.0 L 170.5,52.5\" style=\"fill:none;fill-rule:evenodd;stroke:#000000;stroke-width:2.0px;stroke-linecap:butt;stroke-linejoin:miter;stroke-opacity:1\"/>\n",
       "<path class=\"bond-46 atom-5 atom-45\" d=\"M 161.4,69.0 L 151.7,52.8\" style=\"fill:none;fill-rule:evenodd;stroke:#000000;stroke-width:2.0px;stroke-linecap:butt;stroke-linejoin:miter;stroke-opacity:1\"/>\n",
       "<path class=\"bond-47 atom-7 atom-46\" d=\"M 136.2,108.7 L 150.7,121.7\" style=\"fill:none;fill-rule:evenodd;stroke:#000000;stroke-width:2.0px;stroke-linecap:butt;stroke-linejoin:miter;stroke-opacity:1\"/>\n",
       "<path class=\"bond-48 atom-9 atom-47\" d=\"M 97.0,91.2 L 75.9,88.9\" style=\"fill:none;fill-rule:evenodd;stroke:#000000;stroke-width:2.0px;stroke-linecap:butt;stroke-linejoin:miter;stroke-opacity:1\"/>\n",
       "<path class=\"bond-49 atom-10 atom-48\" d=\"M 114.8,71.4 L 110.6,52.0\" style=\"fill:none;fill-rule:evenodd;stroke:#000000;stroke-width:2.0px;stroke-linecap:butt;stroke-linejoin:miter;stroke-opacity:1\"/>\n",
       "<path class=\"bond-50 atom-11 atom-49\" d=\"M 150.6,244.5 L 141.0,261.0\" style=\"fill:none;fill-rule:evenodd;stroke:#000000;stroke-width:2.0px;stroke-linecap:butt;stroke-linejoin:miter;stroke-opacity:1\"/>\n",
       "<path class=\"bond-51 atom-11 atom-50\" d=\"M 150.6,244.5 L 129.3,244.5\" style=\"fill:none;fill-rule:evenodd;stroke:#000000;stroke-width:2.0px;stroke-linecap:butt;stroke-linejoin:miter;stroke-opacity:1\"/>\n",
       "<path class=\"bond-52 atom-11 atom-51\" d=\"M 150.6,244.5 L 150.7,224.5\" style=\"fill:none;fill-rule:evenodd;stroke:#000000;stroke-width:2.0px;stroke-linecap:butt;stroke-linejoin:miter;stroke-opacity:1\"/>\n",
       "<path class=\"bond-53 atom-12 atom-52\" d=\"M 173.3,257.8 L 182.5,274.2\" style=\"fill:none;fill-rule:evenodd;stroke:#000000;stroke-width:2.0px;stroke-linecap:butt;stroke-linejoin:miter;stroke-opacity:1\"/>\n",
       "<path class=\"bond-54 atom-12 atom-53\" d=\"M 173.3,257.8 L 163.7,274.1\" style=\"fill:none;fill-rule:evenodd;stroke:#000000;stroke-width:2.0px;stroke-linecap:butt;stroke-linejoin:miter;stroke-opacity:1\"/>\n",
       "<path class=\"bond-55 atom-13 atom-54\" d=\"M 196.5,244.4 L 205.7,227.8\" style=\"fill:none;fill-rule:evenodd;stroke:#000000;stroke-width:2.0px;stroke-linecap:butt;stroke-linejoin:miter;stroke-opacity:1\"/>\n",
       "<path class=\"bond-56 atom-13 atom-55\" d=\"M 196.5,244.4 L 186.9,228.0\" style=\"fill:none;fill-rule:evenodd;stroke:#000000;stroke-width:2.0px;stroke-linecap:butt;stroke-linejoin:miter;stroke-opacity:1\"/>\n",
       "<path class=\"bond-57 atom-14 atom-56\" d=\"M 220.1,257.6 L 229.4,273.9\" style=\"fill:none;fill-rule:evenodd;stroke:#000000;stroke-width:2.0px;stroke-linecap:butt;stroke-linejoin:miter;stroke-opacity:1\"/>\n",
       "<path class=\"bond-58 atom-14 atom-57\" d=\"M 220.1,257.6 L 211.0,274.0\" style=\"fill:none;fill-rule:evenodd;stroke:#000000;stroke-width:2.0px;stroke-linecap:butt;stroke-linejoin:miter;stroke-opacity:1\"/>\n",
       "<path class=\"bond-59 atom-15 atom-58\" d=\"M 243.6,244.2 L 253.1,227.7\" style=\"fill:none;fill-rule:evenodd;stroke:#000000;stroke-width:2.0px;stroke-linecap:butt;stroke-linejoin:miter;stroke-opacity:1\"/>\n",
       "<path class=\"bond-60 atom-15 atom-59\" d=\"M 243.6,244.2 L 234.3,227.7\" style=\"fill:none;fill-rule:evenodd;stroke:#000000;stroke-width:2.0px;stroke-linecap:butt;stroke-linejoin:miter;stroke-opacity:1\"/>\n",
       "<path class=\"bond-61 atom-16 atom-60\" d=\"M 266.8,257.3 L 276.7,273.5\" style=\"fill:none;fill-rule:evenodd;stroke:#000000;stroke-width:2.0px;stroke-linecap:butt;stroke-linejoin:miter;stroke-opacity:1\"/>\n",
       "<path class=\"bond-62 atom-16 atom-61\" d=\"M 266.8,257.3 L 257.9,273.8\" style=\"fill:none;fill-rule:evenodd;stroke:#000000;stroke-width:2.0px;stroke-linecap:butt;stroke-linejoin:miter;stroke-opacity:1\"/>\n",
       "<path class=\"bond-63 atom-18 atom-62\" d=\"M 291.9,217.5 L 277.3,204.5\" style=\"fill:none;fill-rule:evenodd;stroke:#000000;stroke-width:2.0px;stroke-linecap:butt;stroke-linejoin:miter;stroke-opacity:1\"/>\n",
       "<path class=\"bond-64 atom-21 atom-63\" d=\"M 313.5,254.6 L 317.7,274.1\" style=\"fill:none;fill-rule:evenodd;stroke:#000000;stroke-width:2.0px;stroke-linecap:butt;stroke-linejoin:miter;stroke-opacity:1\"/>\n",
       "<path class=\"bond-65 atom-24 atom-64\" d=\"M 369.6,192.3 L 356.8,178.9\" style=\"fill:none;fill-rule:evenodd;stroke:#000000;stroke-width:2.0px;stroke-linecap:butt;stroke-linejoin:miter;stroke-opacity:1\"/>\n",
       "<path class=\"bond-66 atom-24 atom-65\" d=\"M 369.6,192.3 L 349.0,197.1\" style=\"fill:none;fill-rule:evenodd;stroke:#000000;stroke-width:2.0px;stroke-linecap:butt;stroke-linejoin:miter;stroke-opacity:1\"/>\n",
       "<path class=\"bond-67 atom-25 atom-66\" d=\"M 389.2,174.3 L 409.8,170.2\" style=\"fill:none;fill-rule:evenodd;stroke:#000000;stroke-width:2.0px;stroke-linecap:butt;stroke-linejoin:miter;stroke-opacity:1\"/>\n",
       "<path class=\"bond-68 atom-25 atom-67\" d=\"M 389.2,174.3 L 401.7,188.2\" style=\"fill:none;fill-rule:evenodd;stroke:#000000;stroke-width:2.0px;stroke-linecap:butt;stroke-linejoin:miter;stroke-opacity:1\"/>\n",
       "<path class=\"bond-69 atom-26 atom-68\" d=\"M 383.7,147.9 L 363.3,152.0\" style=\"fill:none;fill-rule:evenodd;stroke:#000000;stroke-width:2.0px;stroke-linecap:butt;stroke-linejoin:miter;stroke-opacity:1\"/>\n",
       "<path class=\"bond-70 atom-26 atom-69\" d=\"M 383.7,147.9 L 371.4,134.4\" style=\"fill:none;fill-rule:evenodd;stroke:#000000;stroke-width:2.0px;stroke-linecap:butt;stroke-linejoin:miter;stroke-opacity:1\"/>\n",
       "<path class=\"bond-71 atom-27 atom-70\" d=\"M 403.5,129.6 L 416.2,143.2\" style=\"fill:none;fill-rule:evenodd;stroke:#000000;stroke-width:2.0px;stroke-linecap:butt;stroke-linejoin:miter;stroke-opacity:1\"/>\n",
       "<path class=\"bond-72 atom-27 atom-71\" d=\"M 403.5,129.6 L 424.1,124.9\" style=\"fill:none;fill-rule:evenodd;stroke:#000000;stroke-width:2.0px;stroke-linecap:butt;stroke-linejoin:miter;stroke-opacity:1\"/>\n",
       "<path class=\"bond-73 atom-28 atom-72\" d=\"M 397.8,103.4 L 418.5,99.0\" style=\"fill:none;fill-rule:evenodd;stroke:#000000;stroke-width:2.0px;stroke-linecap:butt;stroke-linejoin:miter;stroke-opacity:1\"/>\n",
       "<path class=\"bond-74 atom-28 atom-73\" d=\"M 397.8,103.4 L 404.0,84.7\" style=\"fill:none;fill-rule:evenodd;stroke:#000000;stroke-width:2.0px;stroke-linecap:butt;stroke-linejoin:miter;stroke-opacity:1\"/>\n",
       "<path class=\"bond-75 atom-29 atom-74\" d=\"M 372.4,94.8 L 378.7,76.2\" style=\"fill:none;fill-rule:evenodd;stroke:#000000;stroke-width:2.0px;stroke-linecap:butt;stroke-linejoin:miter;stroke-opacity:1\"/>\n",
       "<path class=\"bond-76 atom-29 atom-75\" d=\"M 372.4,94.8 L 360.1,81.0\" style=\"fill:none;fill-rule:evenodd;stroke:#000000;stroke-width:2.0px;stroke-linecap:butt;stroke-linejoin:miter;stroke-opacity:1\"/>\n",
       "<path class=\"bond-77 atom-29 atom-76\" d=\"M 372.4,94.8 L 358.0,107.4\" style=\"fill:none;fill-rule:evenodd;stroke:#000000;stroke-width:2.0px;stroke-linecap:butt;stroke-linejoin:miter;stroke-opacity:1\"/>\n",
       "<path class=\"bond-78 atom-30 atom-77\" d=\"M 399.7,228.4 L 417.3,218.1\" style=\"fill:none;fill-rule:evenodd;stroke:#000000;stroke-width:2.0px;stroke-linecap:butt;stroke-linejoin:miter;stroke-opacity:1\"/>\n",
       "<path class=\"bond-79 atom-31 atom-78\" d=\"M 397.0,254.8 L 411.5,267.8\" style=\"fill:none;fill-rule:evenodd;stroke:#000000;stroke-width:2.0px;stroke-linecap:butt;stroke-linejoin:miter;stroke-opacity:1\"/>\n",
       "<path class=\"atom-8\" d=\"M 107.1 118.0 Q 107.2 118.1, 107.7 118.3 Q 108.2 118.5, 108.8 118.7 Q 109.4 118.8, 110.0 118.8 Q 111.1 118.8, 111.7 118.3 Q 112.3 117.8, 112.3 116.9 Q 112.3 116.2, 112.0 115.9 Q 111.7 115.5, 111.2 115.3 Q 110.7 115.1, 109.9 114.8 Q 108.9 114.5, 108.3 114.2 Q 107.7 113.9, 107.3 113.3 Q 106.9 112.7, 106.9 111.7 Q 106.9 110.3, 107.8 109.4 Q 108.8 108.5, 110.7 108.5 Q 112.0 108.5, 113.5 109.2 L 113.1 110.4 Q 111.8 109.8, 110.8 109.8 Q 109.7 109.8, 109.1 110.3 Q 108.5 110.7, 108.5 111.5 Q 108.5 112.1, 108.8 112.5 Q 109.1 112.9, 109.5 113.1 Q 110.0 113.3, 110.8 113.5 Q 111.8 113.8, 112.4 114.1 Q 113.0 114.5, 113.4 115.1 Q 113.9 115.8, 113.9 116.9 Q 113.9 118.4, 112.8 119.3 Q 111.8 120.1, 110.0 120.1 Q 109.0 120.1, 108.3 119.9 Q 107.5 119.7, 106.6 119.3 L 107.1 118.0 \" fill=\"#CCCC00\"/>\n",
       "<path class=\"atom-19\" d=\"M 314.6 215.7 Q 314.8 215.8, 315.3 216.0 Q 315.8 216.2, 316.4 216.3 Q 317.0 216.5, 317.6 216.5 Q 318.6 216.5, 319.3 216.0 Q 319.9 215.4, 319.9 214.5 Q 319.9 213.9, 319.6 213.5 Q 319.3 213.1, 318.8 212.9 Q 318.3 212.7, 317.5 212.5 Q 316.5 212.2, 315.9 211.9 Q 315.3 211.6, 314.9 211.0 Q 314.5 210.4, 314.5 209.4 Q 314.5 208.0, 315.4 207.1 Q 316.4 206.2, 318.3 206.2 Q 319.6 206.2, 321.1 206.8 L 320.7 208.1 Q 319.4 207.5, 318.3 207.5 Q 317.2 207.5, 316.6 208.0 Q 316.0 208.4, 316.0 209.2 Q 316.0 209.8, 316.4 210.2 Q 316.7 210.5, 317.1 210.7 Q 317.6 210.9, 318.3 211.2 Q 319.4 211.5, 320.0 211.8 Q 320.6 212.1, 321.0 212.8 Q 321.5 213.4, 321.5 214.5 Q 321.5 216.1, 320.4 216.9 Q 319.4 217.8, 317.6 217.8 Q 316.6 217.8, 315.9 217.5 Q 315.1 217.3, 314.2 217.0 L 314.6 215.7 \" fill=\"#CCCC00\"/>\n",
       "<path class=\"atom-32\" d=\"M 367.9 264.3 Q 368.0 264.4, 368.5 264.6 Q 369.0 264.8, 369.6 265.0 Q 370.2 265.1, 370.8 265.1 Q 371.9 265.1, 372.5 264.6 Q 373.1 264.1, 373.1 263.1 Q 373.1 262.5, 372.8 262.1 Q 372.5 261.8, 372.0 261.5 Q 371.5 261.3, 370.7 261.1 Q 369.7 260.8, 369.1 260.5 Q 368.5 260.2, 368.1 259.6 Q 367.7 259.0, 367.7 258.0 Q 367.7 256.6, 368.6 255.7 Q 369.6 254.8, 371.5 254.8 Q 372.8 254.8, 374.3 255.4 L 373.9 256.7 Q 372.6 256.1, 371.6 256.1 Q 370.5 256.1, 369.9 256.6 Q 369.3 257.0, 369.3 257.8 Q 369.3 258.4, 369.6 258.8 Q 369.9 259.1, 370.3 259.3 Q 370.8 259.6, 371.6 259.8 Q 372.6 260.1, 373.2 260.4 Q 373.8 260.8, 374.2 261.4 Q 374.7 262.0, 374.7 263.1 Q 374.7 264.7, 373.6 265.5 Q 372.6 266.4, 370.8 266.4 Q 369.8 266.4, 369.1 266.2 Q 368.3 265.9, 367.4 265.6 L 367.9 264.3 \" fill=\"#CCCC00\"/>\n",
       "<path class=\"atom-33\" d=\"M 277.2 36.8 L 278.8 36.8 L 278.8 41.6 L 284.5 41.6 L 284.5 36.8 L 286.1 36.8 L 286.1 48.1 L 284.5 48.1 L 284.5 42.9 L 278.8 42.9 L 278.8 48.1 L 277.2 48.1 L 277.2 36.8 \" fill=\"#000000\"/>\n",
       "<path class=\"atom-34\" d=\"M 264.3 13.6 L 265.8 13.6 L 265.8 18.4 L 271.6 18.4 L 271.6 13.6 L 273.1 13.6 L 273.1 24.9 L 271.6 24.9 L 271.6 19.7 L 265.8 19.7 L 265.8 24.9 L 264.3 24.9 L 264.3 13.6 \" fill=\"#000000\"/>\n",
       "<path class=\"atom-35\" d=\"M 228.3 22.9 L 229.9 22.9 L 229.9 27.7 L 235.6 27.7 L 235.6 22.9 L 237.2 22.9 L 237.2 34.2 L 235.6 34.2 L 235.6 29.0 L 229.9 29.0 L 229.9 34.2 L 228.3 34.2 L 228.3 22.9 \" fill=\"#000000\"/>\n",
       "<path class=\"atom-36\" d=\"M 263.4 86.3 L 265.0 86.3 L 265.0 91.1 L 270.7 91.1 L 270.7 86.3 L 272.3 86.3 L 272.3 97.6 L 270.7 97.6 L 270.7 92.4 L 265.0 92.4 L 265.0 97.6 L 263.4 97.6 L 263.4 86.3 \" fill=\"#000000\"/>\n",
       "<path class=\"atom-37\" d=\"M 276.9 63.5 L 278.4 63.5 L 278.4 68.3 L 284.2 68.3 L 284.2 63.5 L 285.7 63.5 L 285.7 74.8 L 284.2 74.8 L 284.2 69.6 L 278.4 69.6 L 278.4 74.8 L 276.9 74.8 L 276.9 63.5 \" fill=\"#000000\"/>\n",
       "<path class=\"atom-38\" d=\"M 214.2 99.6 L 215.8 99.6 L 215.8 104.4 L 221.5 104.4 L 221.5 99.6 L 223.1 99.6 L 223.1 110.9 L 221.5 110.9 L 221.5 105.7 L 215.8 105.7 L 215.8 110.9 L 214.2 110.9 L 214.2 99.6 \" fill=\"#000000\"/>\n",
       "<path class=\"atom-39\" d=\"M 240.5 99.5 L 242.1 99.5 L 242.1 104.3 L 247.8 104.3 L 247.8 99.5 L 249.4 99.5 L 249.4 110.8 L 247.8 110.8 L 247.8 105.6 L 242.1 105.6 L 242.1 110.8 L 240.5 110.8 L 240.5 99.5 \" fill=\"#000000\"/>\n",
       "<path class=\"atom-40\" d=\"M 190.9 40.4 L 192.4 40.4 L 192.4 45.2 L 198.2 45.2 L 198.2 40.4 L 199.7 40.4 L 199.7 51.7 L 198.2 51.7 L 198.2 46.5 L 192.4 46.5 L 192.4 51.7 L 190.9 51.7 L 190.9 40.4 \" fill=\"#000000\"/>\n",
       "<path class=\"atom-41\" d=\"M 216.6 40.7 L 218.1 40.7 L 218.1 45.5 L 223.9 45.5 L 223.9 40.7 L 225.4 40.7 L 225.4 52.0 L 223.9 52.0 L 223.9 46.7 L 218.1 46.7 L 218.1 52.0 L 216.6 52.0 L 216.6 40.7 \" fill=\"#000000\"/>\n",
       "<path class=\"atom-42\" d=\"M 193.0 99.6 L 194.5 99.6 L 194.5 104.4 L 200.3 104.4 L 200.3 99.6 L 201.8 99.6 L 201.8 110.9 L 200.3 110.9 L 200.3 105.7 L 194.5 105.7 L 194.5 110.9 L 193.0 110.9 L 193.0 99.6 \" fill=\"#000000\"/>\n",
       "<path class=\"atom-43\" d=\"M 166.7 99.5 L 168.3 99.5 L 168.3 104.3 L 174.0 104.3 L 174.0 99.5 L 175.6 99.5 L 175.6 110.8 L 174.0 110.8 L 174.0 105.6 L 168.3 105.6 L 168.3 110.8 L 166.7 110.8 L 166.7 99.5 \" fill=\"#000000\"/>\n",
       "<path class=\"atom-44\" d=\"M 169.6 40.4 L 171.1 40.4 L 171.1 45.2 L 176.9 45.2 L 176.9 40.4 L 178.5 40.4 L 178.5 51.7 L 176.9 51.7 L 176.9 46.4 L 171.1 46.4 L 171.1 51.7 L 169.6 51.7 L 169.6 40.4 \" fill=\"#000000\"/>\n",
       "<path class=\"atom-45\" d=\"M 143.4 40.6 L 144.9 40.6 L 144.9 45.4 L 150.7 45.4 L 150.7 40.6 L 152.2 40.6 L 152.2 51.9 L 150.7 51.9 L 150.7 46.7 L 144.9 46.7 L 144.9 51.9 L 143.4 51.9 L 143.4 40.6 \" fill=\"#000000\"/>\n",
       "<path class=\"atom-46\" d=\"M 151.5 120.8 L 153.1 120.8 L 153.1 125.6 L 158.8 125.6 L 158.8 120.8 L 160.4 120.8 L 160.4 132.1 L 158.8 132.1 L 158.8 126.9 L 153.1 126.9 L 153.1 132.1 L 151.5 132.1 L 151.5 120.8 \" fill=\"#000000\"/>\n",
       "<path class=\"atom-47\" d=\"M 66.2 82.7 L 67.7 82.7 L 67.7 87.5 L 73.5 87.5 L 73.5 82.7 L 75.0 82.7 L 75.0 94.0 L 73.5 94.0 L 73.5 88.8 L 67.7 88.8 L 67.7 94.0 L 66.2 94.0 L 66.2 82.7 \" fill=\"#000000\"/>\n",
       "<path class=\"atom-48\" d=\"M 104.8 39.8 L 106.4 39.8 L 106.4 44.6 L 112.1 44.6 L 112.1 39.8 L 113.7 39.8 L 113.7 51.1 L 112.1 51.1 L 112.1 45.9 L 106.4 45.9 L 106.4 51.1 L 104.8 51.1 L 104.8 39.8 \" fill=\"#000000\"/>\n",
       "<path class=\"atom-49\" d=\"M 132.8 261.8 L 134.4 261.8 L 134.4 266.6 L 140.1 266.6 L 140.1 261.8 L 141.7 261.8 L 141.7 273.1 L 140.1 273.1 L 140.1 267.9 L 134.4 267.9 L 134.4 273.1 L 132.8 273.1 L 132.8 261.8 \" fill=\"#000000\"/>\n",
       "<path class=\"atom-50\" d=\"M 119.6 238.8 L 121.2 238.8 L 121.2 243.6 L 126.9 243.6 L 126.9 238.8 L 128.5 238.8 L 128.5 250.1 L 126.9 250.1 L 126.9 244.9 L 121.2 244.9 L 121.2 250.1 L 119.6 250.1 L 119.6 238.8 \" fill=\"#000000\"/>\n",
       "<path class=\"atom-51\" d=\"M 146.3 212.3 L 147.8 212.3 L 147.8 217.1 L 153.6 217.1 L 153.6 212.3 L 155.1 212.3 L 155.1 223.6 L 153.6 223.6 L 153.6 218.4 L 147.8 218.4 L 147.8 223.6 L 146.3 223.6 L 146.3 212.3 \" fill=\"#000000\"/>\n",
       "<path class=\"atom-52\" d=\"M 181.7 275.1 L 183.2 275.1 L 183.2 279.9 L 189.0 279.9 L 189.0 275.1 L 190.5 275.1 L 190.5 286.4 L 189.0 286.4 L 189.0 281.2 L 183.2 281.2 L 183.2 286.4 L 181.7 286.4 L 181.7 275.1 \" fill=\"#000000\"/>\n",
       "<path class=\"atom-53\" d=\"M 155.4 275.0 L 157.0 275.0 L 157.0 279.8 L 162.7 279.8 L 162.7 275.0 L 164.3 275.0 L 164.3 286.3 L 162.7 286.3 L 162.7 281.1 L 157.0 281.1 L 157.0 286.3 L 155.4 286.3 L 155.4 275.0 \" fill=\"#000000\"/>\n",
       "<path class=\"atom-54\" d=\"M 205.0 215.7 L 206.5 215.7 L 206.5 220.5 L 212.3 220.5 L 212.3 215.7 L 213.8 215.7 L 213.8 227.0 L 212.3 227.0 L 212.3 221.8 L 206.5 221.8 L 206.5 227.0 L 205.0 227.0 L 205.0 215.7 \" fill=\"#000000\"/>\n",
       "<path class=\"atom-55\" d=\"M 178.7 215.8 L 180.2 215.8 L 180.2 220.6 L 186.0 220.6 L 186.0 215.8 L 187.5 215.8 L 187.5 227.1 L 186.0 227.1 L 186.0 221.9 L 180.2 221.9 L 180.2 227.1 L 178.7 227.1 L 178.7 215.8 \" fill=\"#000000\"/>\n",
       "<path class=\"atom-56\" d=\"M 228.7 274.8 L 230.2 274.8 L 230.2 279.6 L 236.0 279.6 L 236.0 274.8 L 237.5 274.8 L 237.5 286.1 L 236.0 286.1 L 236.0 280.9 L 230.2 280.9 L 230.2 286.1 L 228.7 286.1 L 228.7 274.8 \" fill=\"#000000\"/>\n",
       "<path class=\"atom-57\" d=\"M 203.0 274.9 L 204.5 274.9 L 204.5 279.7 L 210.3 279.7 L 210.3 274.9 L 211.8 274.9 L 211.8 286.2 L 210.3 286.2 L 210.3 281.0 L 204.5 281.0 L 204.5 286.2 L 203.0 286.2 L 203.0 274.9 \" fill=\"#000000\"/>\n",
       "<path class=\"atom-58\" d=\"M 252.5 215.5 L 254.0 215.5 L 254.0 220.3 L 259.8 220.3 L 259.8 215.5 L 261.3 215.5 L 261.3 226.8 L 259.8 226.8 L 259.8 221.6 L 254.0 221.6 L 254.0 226.8 L 252.5 226.8 L 252.5 215.5 \" fill=\"#000000\"/>\n",
       "<path class=\"atom-59\" d=\"M 226.2 215.6 L 227.7 215.6 L 227.7 220.4 L 233.5 220.4 L 233.5 215.6 L 235.0 215.6 L 235.0 226.9 L 233.5 226.9 L 233.5 221.6 L 227.7 221.6 L 227.7 226.9 L 226.2 226.9 L 226.2 215.6 \" fill=\"#000000\"/>\n",
       "<path class=\"atom-60\" d=\"M 276.2 274.3 L 277.7 274.3 L 277.7 279.1 L 283.5 279.1 L 283.5 274.3 L 285.0 274.3 L 285.0 285.6 L 283.5 285.6 L 283.5 280.4 L 277.7 280.4 L 277.7 285.6 L 276.2 285.6 L 276.2 274.3 \" fill=\"#000000\"/>\n",
       "<path class=\"atom-61\" d=\"M 250.0 274.7 L 251.5 274.7 L 251.5 279.5 L 257.3 279.5 L 257.3 274.7 L 258.8 274.7 L 258.8 286.0 L 257.3 286.0 L 257.3 280.8 L 251.5 280.8 L 251.5 286.0 L 250.0 286.0 L 250.0 274.7 \" fill=\"#000000\"/>\n",
       "<path class=\"atom-62\" d=\"M 267.6 194.1 L 269.2 194.1 L 269.2 198.9 L 274.9 198.9 L 274.9 194.1 L 276.5 194.1 L 276.5 205.4 L 274.9 205.4 L 274.9 200.2 L 269.2 200.2 L 269.2 205.4 L 267.6 205.4 L 267.6 194.1 \" fill=\"#000000\"/>\n",
       "<path class=\"atom-63\" d=\"M 314.7 274.9 L 316.3 274.9 L 316.3 279.7 L 322.0 279.7 L 322.0 274.9 L 323.6 274.9 L 323.6 286.2 L 322.0 286.2 L 322.0 281.0 L 316.3 281.0 L 316.3 286.2 L 314.7 286.2 L 314.7 274.9 \" fill=\"#000000\"/>\n",
       "<path class=\"atom-64\" d=\"M 347.1 167.7 L 348.6 167.7 L 348.6 172.5 L 354.4 172.5 L 354.4 167.7 L 355.9 167.7 L 355.9 178.9 L 354.4 178.9 L 354.4 173.7 L 348.6 173.7 L 348.6 178.9 L 347.1 178.9 L 347.1 167.7 \" fill=\"#000000\"/>\n",
       "<path class=\"atom-65\" d=\"M 339.3 192.7 L 340.8 192.7 L 340.8 197.5 L 346.6 197.5 L 346.6 192.7 L 348.1 192.7 L 348.1 204.0 L 346.6 204.0 L 346.6 198.8 L 340.8 198.8 L 340.8 204.0 L 339.3 204.0 L 339.3 192.7 \" fill=\"#000000\"/>\n",
       "<path class=\"atom-66\" d=\"M 410.6 163.5 L 412.2 163.5 L 412.2 168.3 L 417.9 168.3 L 417.9 163.5 L 419.5 163.5 L 419.5 174.8 L 417.9 174.8 L 417.9 169.5 L 412.2 169.5 L 412.2 174.8 L 410.6 174.8 L 410.6 163.5 \" fill=\"#000000\"/>\n",
       "<path class=\"atom-67\" d=\"M 402.6 188.4 L 404.1 188.4 L 404.1 193.2 L 409.9 193.2 L 409.9 188.4 L 411.4 188.4 L 411.4 199.7 L 409.9 199.7 L 409.9 194.5 L 404.1 194.5 L 404.1 199.7 L 402.6 199.7 L 402.6 188.4 \" fill=\"#000000\"/>\n",
       "<path class=\"atom-68\" d=\"M 353.6 147.4 L 355.1 147.4 L 355.1 152.2 L 360.9 152.2 L 360.9 147.4 L 362.4 147.4 L 362.4 158.7 L 360.9 158.7 L 360.9 153.5 L 355.1 153.5 L 355.1 158.7 L 353.6 158.7 L 353.6 147.4 \" fill=\"#000000\"/>\n",
       "<path class=\"atom-69\" d=\"M 361.7 123.0 L 363.2 123.0 L 363.2 127.8 L 369.0 127.8 L 369.0 123.0 L 370.5 123.0 L 370.5 134.3 L 369.0 134.3 L 369.0 129.1 L 363.2 129.1 L 363.2 134.3 L 361.7 134.3 L 361.7 123.0 \" fill=\"#000000\"/>\n",
       "<path class=\"atom-70\" d=\"M 417.1 143.2 L 418.7 143.2 L 418.7 148.0 L 424.4 148.0 L 424.4 143.2 L 426.0 143.2 L 426.0 154.4 L 424.4 154.4 L 424.4 149.2 L 418.7 149.2 L 418.7 154.4 L 417.1 154.4 L 417.1 143.2 \" fill=\"#000000\"/>\n",
       "<path class=\"atom-71\" d=\"M 425.0 118.1 L 426.5 118.1 L 426.5 122.9 L 432.3 122.9 L 432.3 118.1 L 433.8 118.1 L 433.8 129.4 L 432.3 129.4 L 432.3 124.2 L 426.5 124.2 L 426.5 129.4 L 425.0 129.4 L 425.0 118.1 \" fill=\"#000000\"/>\n",
       "<path class=\"atom-72\" d=\"M 419.4 92.3 L 420.9 92.3 L 420.9 97.1 L 426.7 97.1 L 426.7 92.3 L 428.2 92.3 L 428.2 103.6 L 426.7 103.6 L 426.7 98.3 L 420.9 98.3 L 420.9 103.6 L 419.4 103.6 L 419.4 92.3 \" fill=\"#000000\"/>\n",
       "<path class=\"atom-73\" d=\"M 401.7 72.6 L 403.3 72.6 L 403.3 77.4 L 409.0 77.4 L 409.0 72.6 L 410.6 72.6 L 410.6 83.8 L 409.0 83.8 L 409.0 78.6 L 403.3 78.6 L 403.3 83.8 L 401.7 83.8 L 401.7 72.6 \" fill=\"#000000\"/>\n",
       "<path class=\"atom-74\" d=\"M 376.4 64.1 L 377.9 64.1 L 377.9 68.9 L 383.7 68.9 L 383.7 64.1 L 385.2 64.1 L 385.2 75.3 L 383.7 75.3 L 383.7 70.1 L 377.9 70.1 L 377.9 75.3 L 376.4 75.3 L 376.4 64.1 \" fill=\"#000000\"/>\n",
       "<path class=\"atom-75\" d=\"M 350.4 69.3 L 352.0 69.3 L 352.0 74.1 L 357.7 74.1 L 357.7 69.3 L 359.3 69.3 L 359.3 80.6 L 357.7 80.6 L 357.7 75.4 L 352.0 75.4 L 352.0 80.6 L 350.4 80.6 L 350.4 69.3 \" fill=\"#000000\"/>\n",
       "<path class=\"atom-76\" d=\"M 348.3 106.4 L 349.9 106.4 L 349.9 111.2 L 355.6 111.2 L 355.6 106.4 L 357.2 106.4 L 357.2 117.7 L 355.6 117.7 L 355.6 112.5 L 349.9 112.5 L 349.9 117.7 L 348.3 117.7 L 348.3 106.4 \" fill=\"#000000\"/>\n",
       "<path class=\"atom-77\" d=\"M 418.2 209.4 L 419.7 209.4 L 419.7 214.2 L 425.5 214.2 L 425.5 209.4 L 427.0 209.4 L 427.0 220.7 L 425.5 220.7 L 425.5 215.4 L 419.7 215.4 L 419.7 220.7 L 418.2 220.7 L 418.2 209.4 \" fill=\"#000000\"/>\n",
       "<path class=\"atom-78\" d=\"M 412.4 266.9 L 414.0 266.9 L 414.0 271.7 L 419.7 271.7 L 419.7 266.9 L 421.3 266.9 L 421.3 278.2 L 419.7 278.2 L 419.7 272.9 L 414.0 272.9 L 414.0 278.2 L 412.4 278.2 L 412.4 266.9 \" fill=\"#000000\"/>\n",
       "</svg>"
      ],
      "text/plain": [
       "<IPython.core.display.SVG object>"
      ]
     },
     "execution_count": 2,
     "metadata": {},
     "output_type": "execute_result"
    }
   ],
   "source": [
    "molecule.visualize()"
   ]
  },
  {
   "cell_type": "code",
   "execution_count": 3,
   "id": "c508186a",
   "metadata": {},
   "outputs": [],
   "source": [
    "molecule.to_file('p3httest.mol',file_format='MOL')"
   ]
  },
  {
   "cell_type": "code",
   "execution_count": 5,
   "id": "47d95a5c",
   "metadata": {},
   "outputs": [],
   "source": [
    "import mbuild as mb"
   ]
  },
  {
   "cell_type": "code",
   "execution_count": 6,
   "id": "cfcc5beb",
   "metadata": {},
   "outputs": [
    {
     "name": "stderr",
     "output_type": "stream",
     "text": [
      "/Users/madilyn/miniconda3/envs/ff3/lib/python3.9/site-packages/mdtraj/core/trajectory.py:438: UserWarning: top= kwargs ignored since this file parser does not support it\n",
      "  warnings.warn('top= kwargs ignored since this file parser does not support it')\n"
     ]
    },
    {
     "data": {
      "application/3dmoljs_load.v0": "<div id=\"3dmolviewer_1687298293274317\"  style=\"position: relative; width: 640px; height: 480px\">\n        <p id=\"3dmolwarning_1687298293274317\" style=\"background-color:#ffcccc;color:black\">You appear to be running in JupyterLab (or JavaScript failed to load for some other reason).  You need to install the 3dmol extension: <br>\n        <tt>jupyter labextension install jupyterlab_3dmol</tt></p>\n        </div>\n<script>\n\nvar loadScriptAsync = function(uri){\n  return new Promise((resolve, reject) => {\n    //this is to ignore the existence of requirejs amd\n    var savedexports, savedmodule;\n    if (typeof exports !== 'undefined') savedexports = exports;\n    else exports = {}\n    if (typeof module !== 'undefined') savedmodule = module;\n    else module = {}\n\n    var tag = document.createElement('script');\n    tag.src = uri;\n    tag.async = true;\n    tag.onload = () => {\n        exports = savedexports;\n        module = savedmodule;\n        resolve();\n    };\n  var firstScriptTag = document.getElementsByTagName('script')[0];\n  firstScriptTag.parentNode.insertBefore(tag, firstScriptTag);\n});\n};\n\nif(typeof $3Dmolpromise === 'undefined') {\n$3Dmolpromise = null;\n  $3Dmolpromise = loadScriptAsync('https://cdnjs.cloudflare.com/ajax/libs/3Dmol/2.0.1/3Dmol-min.js');\n}\n\nvar viewer_1687298293274317 = null;\nvar warn = document.getElementById(\"3dmolwarning_1687298293274317\");\nif(warn) {\n    warn.parentNode.removeChild(warn);\n}\n$3Dmolpromise.then(function() {\nviewer_1687298293274317 = $3Dmol.createViewer(document.getElementById(\"3dmolviewer_1687298293274317\"),{backgroundColor:\"white\"});\nviewer_1687298293274317.zoomTo();\n\tviewer_1687298293274317.addModel(\"@<TRIPOS>MOLECULE\\nUNL1\\n79 80 4 0 1\\nBIOPOLYMER\\nNO_CHARGES\\n@<TRIPOS>CRYSIN\\n   18.5050    14.8397     6.0000    90.0000    90.0000    90.0000 1 1\\n@<TRIPOS>ATOM\\n       1 C           -0.5523     4.7917     0.0000 C             1 UNL1    \\n       2 C           -0.5681     3.7847     0.0000 C             1 UNL1    \\n       3 C           -1.4421     3.2811     0.0000 C             1 UNL1    \\n       4 C           -2.3239     3.7801     0.0000 C             1 UNL1    \\n       5 C           -3.2085     3.2801     0.0000 C             1 UNL1    \\n       6 C           -4.0795     3.7777     0.0000 C             1 UNL1    \\n       7 C           -4.9237     3.2805     0.0000 C             1 UNL1    \\n       8 C           -5.0281     2.2857     0.0000 C             1 UNL1    \\n       9 S           -6.0061     2.0793     0.0000 S             1 UNL1    \\n      10 C           -6.5057     2.9449     0.0000 C             1 UNL1    \\n      11 C           -5.8353     3.6871     0.0000 C             1 UNL1    \\n      12 C           -4.4889    -2.8260     0.0000 C             2 UNL2    \\n      13 C           -3.6331    -3.3256     0.0000 C             2 UNL2    \\n      14 C           -2.7583    -2.8224     0.0000 C             2 UNL2    \\n      15 C           -1.8705    -3.3204     0.0000 C             2 UNL2    \\n      16 C           -0.9875    -2.8140     0.0000 C             2 UNL2    \\n      17 C           -0.1127    -3.3064     0.0000 C             2 UNL2    \\n      18 C            0.7289    -2.8040     0.0000 C             2 UNL2    \\n      19 C            0.8297    -1.8092     0.0000 C             2 UNL2    \\n      20 S            1.8065    -1.5966     0.0000 S             2 UNL2    \\n      21 C            2.3095    -2.4614     0.0000 C             2 UNL2    \\n      22 C            1.6447    -3.2060     0.0000 C             2 UNL2    \\n      23 C            3.3065    -2.5618     0.0000 C             2 UNL2    \\n      24 C            3.9713    -1.8172     0.0000 C             2 UNL2    \\n      25 C            3.7549    -0.8614     0.0000 C             2 UNL2    \\n      26 C            4.4937    -0.1840     0.0000 C             2 UNL2    \\n      27 C            4.2865     0.8110     0.0000 C             2 UNL2    \\n      28 C            5.0307     1.4998     0.0000 C             2 UNL2    \\n      29 C            4.8165     2.4852     0.0000 C             2 UNL2    \\n      30 C            3.8619     2.8066     0.0000 C             2 UNL2    \\n      31 C            4.8871    -2.2194     0.0000 C             2 UNL2    \\n      32 C            4.7861    -3.2140     0.0000 C             2 UNL2    \\n      33 S            3.8095    -3.4264     0.0000 S             2 UNL2    \\n      34 H            0.4449     4.7791     0.0000 H             3 UNL1    \\n      35 H           -0.0423     5.6503     0.0000 H             3 UNL1    \\n      36 H           -1.3957     5.3005     0.0000 H             3 UNL1    \\n      37 H           -0.0745     2.9155     0.0000 H             3 UNL1    \\n      38 H            0.4303     3.7735     0.0000 H             3 UNL1    \\n      39 H           -1.9261     2.4135     0.0000 H             3 UNL1    \\n      40 H           -0.9367     2.4183     0.0000 H             3 UNL1    \\n      41 H           -2.8053     4.6423     0.0000 H             3 UNL1    \\n      42 H           -1.8373     4.6329     0.0000 H             3 UNL1    \\n      43 H           -2.7261     2.4131     0.0000 H             3 UNL1    \\n      44 H           -3.7141     2.4171     0.0000 H             3 UNL1    \\n      45 H           -3.6057     4.6441     0.0000 H             3 UNL1    \\n      46 H           -4.5935     4.6355     0.0000 H             3 UNL1    \\n      47 H           -4.2859     1.6171     0.0000 H             3 UNL1    \\n      48 H           -7.4991     3.0503     0.0000 H             3 UNL1    \\n      49 H           -6.0437     4.6659     0.0000 H             3 UNL1    \\n      50 H           -4.9897    -3.6910     0.0000 H             4 UNL2    \\n      51 H           -5.4867    -2.8240     0.0000 H             4 UNL2    \\n      52 H           -4.4839    -1.8266     0.0000 H             4 UNL2    \\n      53 H           -3.1515    -4.1894     0.0000 H             4 UNL2    \\n      54 H           -4.1397    -4.1866     0.0000 H             4 UNL2    \\n      55 H           -2.2759    -1.9538     0.0000 H             4 UNL2    \\n      56 H           -3.2643    -1.9600     0.0000 H             4 UNL2    \\n      57 H           -1.3817    -4.1784     0.0000 H             4 UNL2    \\n      58 H           -2.3507    -4.1832     0.0000 H             4 UNL2    \\n      59 H           -0.4873    -1.9476     0.0000 H             4 UNL2    \\n      60 H           -1.4759    -1.9496     0.0000 H             4 UNL2    \\n      61 H            0.4057    -4.1616     0.0000 H             4 UNL2    \\n      62 H           -0.5819    -4.1754     0.0000 H             4 UNL2    \\n      63 H            0.0829    -1.1428     0.0000 H             4 UNL2    \\n      64 H            1.8559    -4.1842     0.0000 H             4 UNL2    \\n      65 H            3.0735    -0.1466     0.0000 H             4 UNL2    \\n      66 H            2.7811    -1.0902     0.0000 H             4 UNL2    \\n      67 H            5.4657     0.0110     0.0000 H             4 UNL2    \\n      68 H            5.1619    -0.9276     0.0000 H             4 UNL2    \\n      69 H            3.3187     0.6150     0.0000 H             4 UNL2    \\n      70 H            3.6223     1.5344     0.0000 H             4 UNL2    \\n      71 H            5.7095     0.7756     0.0000 H             4 UNL2    \\n      72 H            6.0059     1.7184     0.0000 H             4 UNL2    \\n      73 H            5.7945     2.6910     0.0000 H             4 UNL2    \\n      74 H            5.1309     3.4328     0.0000 H             4 UNL2    \\n      75 H            4.1773     3.7528     0.0000 H             4 UNL2    \\n      76 H            3.1993     3.5538     0.0000 H             4 UNL2    \\n      77 H            3.1207     2.1580     0.0000 H             4 UNL2    \\n      78 H            5.7501    -1.7162     0.0000 H             4 UNL2    \\n      79 H            5.5327    -3.8806     0.0000 H             4 UNL2    \\n@<TRIPOS>BOND\\n       1        1        2 1\\n       2        1       34 1\\n       3        1       35 1\\n       4        1       36 1\\n       5        2        3 1\\n       6        2       37 1\\n       7        2       38 1\\n       8        3        4 1\\n       9        3       39 1\\n      10        3       40 1\\n      11        4        5 1\\n      12        4       41 1\\n      13        4       42 1\\n      14        5        6 1\\n      15        5       43 1\\n      16        5       44 1\\n      17        6        7 1\\n      18        6       45 1\\n      19        6       46 1\\n      20        7        8 1\\n      21        7       11 1\\n      22        8        9 1\\n      23        8       47 1\\n      24        9       10 1\\n      25       10       11 1\\n      26       10       48 1\\n      27       11       49 1\\n      28       12       13 1\\n      29       12       50 1\\n      30       12       51 1\\n      31       12       52 1\\n      32       13       14 1\\n      33       13       53 1\\n      34       13       54 1\\n      35       14       15 1\\n      36       14       55 1\\n      37       14       56 1\\n      38       15       16 1\\n      39       15       57 1\\n      40       15       58 1\\n      41       16       17 1\\n      42       16       59 1\\n      43       16       60 1\\n      44       17       18 1\\n      45       17       61 1\\n      46       17       62 1\\n      47       18       19 1\\n      48       18       22 1\\n      49       19       20 1\\n      50       19       63 1\\n      51       20       21 1\\n      52       21       22 1\\n      53       21       23 1\\n      54       22       64 1\\n      55       23       24 1\\n      56       23       33 1\\n      57       24       25 1\\n      58       24       31 1\\n      59       25       26 1\\n      60       25       65 1\\n      61       25       66 1\\n      62       26       27 1\\n      63       26       67 1\\n      64       26       68 1\\n      65       27       28 1\\n      66       27       69 1\\n      67       27       70 1\\n      68       28       29 1\\n      69       28       71 1\\n      70       28       72 1\\n      71       29       30 1\\n      72       29       73 1\\n      73       29       74 1\\n      74       30       75 1\\n      75       30       76 1\\n      76       30       77 1\\n      77       31       32 1\\n      78       31       78 1\\n      79       32       33 1\\n      80       32       79 1\\n@<TRIPOS>SUBSTRUCTURE\\n       1 UNL1            1 RESIDUE    0 **** ROOT     16\\n       2 UNL2           12 RESIDUE    0 **** ROOT     30\\n       3 UNL1           34 RESIDUE    0 **** ROOT     16\\n       4 UNL2           50 RESIDUE    0 **** ROOT     30\\n\",\"mol2\");\n\tviewer_1687298293274317.setStyle({\"stick\": {\"radius\": 0.2, \"color\": \"grey\"}, \"sphere\": {\"scale\": 0.3, \"colorscheme\": {}}});\n\tviewer_1687298293274317.zoomTo();\nviewer_1687298293274317.render();\n});\n</script>",
      "text/html": [
       "<div id=\"3dmolviewer_1687298293274317\"  style=\"position: relative; width: 640px; height: 480px\">\n",
       "        <p id=\"3dmolwarning_1687298293274317\" style=\"background-color:#ffcccc;color:black\">You appear to be running in JupyterLab (or JavaScript failed to load for some other reason).  You need to install the 3dmol extension: <br>\n",
       "        <tt>jupyter labextension install jupyterlab_3dmol</tt></p>\n",
       "        </div>\n",
       "<script>\n",
       "\n",
       "var loadScriptAsync = function(uri){\n",
       "  return new Promise((resolve, reject) => {\n",
       "    //this is to ignore the existence of requirejs amd\n",
       "    var savedexports, savedmodule;\n",
       "    if (typeof exports !== 'undefined') savedexports = exports;\n",
       "    else exports = {}\n",
       "    if (typeof module !== 'undefined') savedmodule = module;\n",
       "    else module = {}\n",
       "\n",
       "    var tag = document.createElement('script');\n",
       "    tag.src = uri;\n",
       "    tag.async = true;\n",
       "    tag.onload = () => {\n",
       "        exports = savedexports;\n",
       "        module = savedmodule;\n",
       "        resolve();\n",
       "    };\n",
       "  var firstScriptTag = document.getElementsByTagName('script')[0];\n",
       "  firstScriptTag.parentNode.insertBefore(tag, firstScriptTag);\n",
       "});\n",
       "};\n",
       "\n",
       "if(typeof $3Dmolpromise === 'undefined') {\n",
       "$3Dmolpromise = null;\n",
       "  $3Dmolpromise = loadScriptAsync('https://cdnjs.cloudflare.com/ajax/libs/3Dmol/2.0.1/3Dmol-min.js');\n",
       "}\n",
       "\n",
       "var viewer_1687298293274317 = null;\n",
       "var warn = document.getElementById(\"3dmolwarning_1687298293274317\");\n",
       "if(warn) {\n",
       "    warn.parentNode.removeChild(warn);\n",
       "}\n",
       "$3Dmolpromise.then(function() {\n",
       "viewer_1687298293274317 = $3Dmol.createViewer(document.getElementById(\"3dmolviewer_1687298293274317\"),{backgroundColor:\"white\"});\n",
       "viewer_1687298293274317.zoomTo();\n",
       "\tviewer_1687298293274317.addModel(\"@<TRIPOS>MOLECULE\\nUNL1\\n79 80 4 0 1\\nBIOPOLYMER\\nNO_CHARGES\\n@<TRIPOS>CRYSIN\\n   18.5050    14.8397     6.0000    90.0000    90.0000    90.0000 1 1\\n@<TRIPOS>ATOM\\n       1 C           -0.5523     4.7917     0.0000 C             1 UNL1    \\n       2 C           -0.5681     3.7847     0.0000 C             1 UNL1    \\n       3 C           -1.4421     3.2811     0.0000 C             1 UNL1    \\n       4 C           -2.3239     3.7801     0.0000 C             1 UNL1    \\n       5 C           -3.2085     3.2801     0.0000 C             1 UNL1    \\n       6 C           -4.0795     3.7777     0.0000 C             1 UNL1    \\n       7 C           -4.9237     3.2805     0.0000 C             1 UNL1    \\n       8 C           -5.0281     2.2857     0.0000 C             1 UNL1    \\n       9 S           -6.0061     2.0793     0.0000 S             1 UNL1    \\n      10 C           -6.5057     2.9449     0.0000 C             1 UNL1    \\n      11 C           -5.8353     3.6871     0.0000 C             1 UNL1    \\n      12 C           -4.4889    -2.8260     0.0000 C             2 UNL2    \\n      13 C           -3.6331    -3.3256     0.0000 C             2 UNL2    \\n      14 C           -2.7583    -2.8224     0.0000 C             2 UNL2    \\n      15 C           -1.8705    -3.3204     0.0000 C             2 UNL2    \\n      16 C           -0.9875    -2.8140     0.0000 C             2 UNL2    \\n      17 C           -0.1127    -3.3064     0.0000 C             2 UNL2    \\n      18 C            0.7289    -2.8040     0.0000 C             2 UNL2    \\n      19 C            0.8297    -1.8092     0.0000 C             2 UNL2    \\n      20 S            1.8065    -1.5966     0.0000 S             2 UNL2    \\n      21 C            2.3095    -2.4614     0.0000 C             2 UNL2    \\n      22 C            1.6447    -3.2060     0.0000 C             2 UNL2    \\n      23 C            3.3065    -2.5618     0.0000 C             2 UNL2    \\n      24 C            3.9713    -1.8172     0.0000 C             2 UNL2    \\n      25 C            3.7549    -0.8614     0.0000 C             2 UNL2    \\n      26 C            4.4937    -0.1840     0.0000 C             2 UNL2    \\n      27 C            4.2865     0.8110     0.0000 C             2 UNL2    \\n      28 C            5.0307     1.4998     0.0000 C             2 UNL2    \\n      29 C            4.8165     2.4852     0.0000 C             2 UNL2    \\n      30 C            3.8619     2.8066     0.0000 C             2 UNL2    \\n      31 C            4.8871    -2.2194     0.0000 C             2 UNL2    \\n      32 C            4.7861    -3.2140     0.0000 C             2 UNL2    \\n      33 S            3.8095    -3.4264     0.0000 S             2 UNL2    \\n      34 H            0.4449     4.7791     0.0000 H             3 UNL1    \\n      35 H           -0.0423     5.6503     0.0000 H             3 UNL1    \\n      36 H           -1.3957     5.3005     0.0000 H             3 UNL1    \\n      37 H           -0.0745     2.9155     0.0000 H             3 UNL1    \\n      38 H            0.4303     3.7735     0.0000 H             3 UNL1    \\n      39 H           -1.9261     2.4135     0.0000 H             3 UNL1    \\n      40 H           -0.9367     2.4183     0.0000 H             3 UNL1    \\n      41 H           -2.8053     4.6423     0.0000 H             3 UNL1    \\n      42 H           -1.8373     4.6329     0.0000 H             3 UNL1    \\n      43 H           -2.7261     2.4131     0.0000 H             3 UNL1    \\n      44 H           -3.7141     2.4171     0.0000 H             3 UNL1    \\n      45 H           -3.6057     4.6441     0.0000 H             3 UNL1    \\n      46 H           -4.5935     4.6355     0.0000 H             3 UNL1    \\n      47 H           -4.2859     1.6171     0.0000 H             3 UNL1    \\n      48 H           -7.4991     3.0503     0.0000 H             3 UNL1    \\n      49 H           -6.0437     4.6659     0.0000 H             3 UNL1    \\n      50 H           -4.9897    -3.6910     0.0000 H             4 UNL2    \\n      51 H           -5.4867    -2.8240     0.0000 H             4 UNL2    \\n      52 H           -4.4839    -1.8266     0.0000 H             4 UNL2    \\n      53 H           -3.1515    -4.1894     0.0000 H             4 UNL2    \\n      54 H           -4.1397    -4.1866     0.0000 H             4 UNL2    \\n      55 H           -2.2759    -1.9538     0.0000 H             4 UNL2    \\n      56 H           -3.2643    -1.9600     0.0000 H             4 UNL2    \\n      57 H           -1.3817    -4.1784     0.0000 H             4 UNL2    \\n      58 H           -2.3507    -4.1832     0.0000 H             4 UNL2    \\n      59 H           -0.4873    -1.9476     0.0000 H             4 UNL2    \\n      60 H           -1.4759    -1.9496     0.0000 H             4 UNL2    \\n      61 H            0.4057    -4.1616     0.0000 H             4 UNL2    \\n      62 H           -0.5819    -4.1754     0.0000 H             4 UNL2    \\n      63 H            0.0829    -1.1428     0.0000 H             4 UNL2    \\n      64 H            1.8559    -4.1842     0.0000 H             4 UNL2    \\n      65 H            3.0735    -0.1466     0.0000 H             4 UNL2    \\n      66 H            2.7811    -1.0902     0.0000 H             4 UNL2    \\n      67 H            5.4657     0.0110     0.0000 H             4 UNL2    \\n      68 H            5.1619    -0.9276     0.0000 H             4 UNL2    \\n      69 H            3.3187     0.6150     0.0000 H             4 UNL2    \\n      70 H            3.6223     1.5344     0.0000 H             4 UNL2    \\n      71 H            5.7095     0.7756     0.0000 H             4 UNL2    \\n      72 H            6.0059     1.7184     0.0000 H             4 UNL2    \\n      73 H            5.7945     2.6910     0.0000 H             4 UNL2    \\n      74 H            5.1309     3.4328     0.0000 H             4 UNL2    \\n      75 H            4.1773     3.7528     0.0000 H             4 UNL2    \\n      76 H            3.1993     3.5538     0.0000 H             4 UNL2    \\n      77 H            3.1207     2.1580     0.0000 H             4 UNL2    \\n      78 H            5.7501    -1.7162     0.0000 H             4 UNL2    \\n      79 H            5.5327    -3.8806     0.0000 H             4 UNL2    \\n@<TRIPOS>BOND\\n       1        1        2 1\\n       2        1       34 1\\n       3        1       35 1\\n       4        1       36 1\\n       5        2        3 1\\n       6        2       37 1\\n       7        2       38 1\\n       8        3        4 1\\n       9        3       39 1\\n      10        3       40 1\\n      11        4        5 1\\n      12        4       41 1\\n      13        4       42 1\\n      14        5        6 1\\n      15        5       43 1\\n      16        5       44 1\\n      17        6        7 1\\n      18        6       45 1\\n      19        6       46 1\\n      20        7        8 1\\n      21        7       11 1\\n      22        8        9 1\\n      23        8       47 1\\n      24        9       10 1\\n      25       10       11 1\\n      26       10       48 1\\n      27       11       49 1\\n      28       12       13 1\\n      29       12       50 1\\n      30       12       51 1\\n      31       12       52 1\\n      32       13       14 1\\n      33       13       53 1\\n      34       13       54 1\\n      35       14       15 1\\n      36       14       55 1\\n      37       14       56 1\\n      38       15       16 1\\n      39       15       57 1\\n      40       15       58 1\\n      41       16       17 1\\n      42       16       59 1\\n      43       16       60 1\\n      44       17       18 1\\n      45       17       61 1\\n      46       17       62 1\\n      47       18       19 1\\n      48       18       22 1\\n      49       19       20 1\\n      50       19       63 1\\n      51       20       21 1\\n      52       21       22 1\\n      53       21       23 1\\n      54       22       64 1\\n      55       23       24 1\\n      56       23       33 1\\n      57       24       25 1\\n      58       24       31 1\\n      59       25       26 1\\n      60       25       65 1\\n      61       25       66 1\\n      62       26       27 1\\n      63       26       67 1\\n      64       26       68 1\\n      65       27       28 1\\n      66       27       69 1\\n      67       27       70 1\\n      68       28       29 1\\n      69       28       71 1\\n      70       28       72 1\\n      71       29       30 1\\n      72       29       73 1\\n      73       29       74 1\\n      74       30       75 1\\n      75       30       76 1\\n      76       30       77 1\\n      77       31       32 1\\n      78       31       78 1\\n      79       32       33 1\\n      80       32       79 1\\n@<TRIPOS>SUBSTRUCTURE\\n       1 UNL1            1 RESIDUE    0 **** ROOT     16\\n       2 UNL2           12 RESIDUE    0 **** ROOT     30\\n       3 UNL1           34 RESIDUE    0 **** ROOT     16\\n       4 UNL2           50 RESIDUE    0 **** ROOT     30\\n\",\"mol2\");\n",
       "\tviewer_1687298293274317.setStyle({\"stick\": {\"radius\": 0.2, \"color\": \"grey\"}, \"sphere\": {\"scale\": 0.3, \"colorscheme\": {}}});\n",
       "\tviewer_1687298293274317.zoomTo();\n",
       "viewer_1687298293274317.render();\n",
       "});\n",
       "</script>"
      ]
     },
     "metadata": {},
     "output_type": "display_data"
    },
    {
     "data": {
      "text/plain": [
       "<py3Dmol.view at 0x1762004c0>"
      ]
     },
     "execution_count": 6,
     "metadata": {},
     "output_type": "execute_result"
    }
   ],
   "source": [
    "test = mb.load('p3httest.mol2')\n",
    "test.visualize()"
   ]
  },
  {
   "cell_type": "code",
   "execution_count": 7,
   "id": "1b506d9a",
   "metadata": {},
   "outputs": [
    {
     "name": "stderr",
     "output_type": "stream",
     "text": [
      "/Users/madilyn/miniconda3/envs/ff3/lib/python3.9/site-packages/mbuild/compound.py:2828: UserWarning: Performing energy minimization using the Open Babel package. Please refer to the documentation to find the appropriate citations for Open Babel and the UFF force field\n",
      "  warn(\n"
     ]
    },
    {
     "data": {
      "application/3dmoljs_load.v0": "<div id=\"3dmolviewer_16872983017606258\"  style=\"position: relative; width: 640px; height: 480px\">\n        <p id=\"3dmolwarning_16872983017606258\" style=\"background-color:#ffcccc;color:black\">You appear to be running in JupyterLab (or JavaScript failed to load for some other reason).  You need to install the 3dmol extension: <br>\n        <tt>jupyter labextension install jupyterlab_3dmol</tt></p>\n        </div>\n<script>\n\nvar loadScriptAsync = function(uri){\n  return new Promise((resolve, reject) => {\n    //this is to ignore the existence of requirejs amd\n    var savedexports, savedmodule;\n    if (typeof exports !== 'undefined') savedexports = exports;\n    else exports = {}\n    if (typeof module !== 'undefined') savedmodule = module;\n    else module = {}\n\n    var tag = document.createElement('script');\n    tag.src = uri;\n    tag.async = true;\n    tag.onload = () => {\n        exports = savedexports;\n        module = savedmodule;\n        resolve();\n    };\n  var firstScriptTag = document.getElementsByTagName('script')[0];\n  firstScriptTag.parentNode.insertBefore(tag, firstScriptTag);\n});\n};\n\nif(typeof $3Dmolpromise === 'undefined') {\n$3Dmolpromise = null;\n  $3Dmolpromise = loadScriptAsync('https://cdnjs.cloudflare.com/ajax/libs/3Dmol/2.0.1/3Dmol-min.js');\n}\n\nvar viewer_16872983017606258 = null;\nvar warn = document.getElementById(\"3dmolwarning_16872983017606258\");\nif(warn) {\n    warn.parentNode.removeChild(warn);\n}\n$3Dmolpromise.then(function() {\nviewer_16872983017606258 = $3Dmol.createViewer(document.getElementById(\"3dmolviewer_16872983017606258\"),{backgroundColor:\"white\"});\nviewer_16872983017606258.zoomTo();\n\tviewer_16872983017606258.addModel(\"@<TRIPOS>MOLECULE\\nUNL1\\n79 80 4 0 1\\nBIOPOLYMER\\nNO_CHARGES\\n@<TRIPOS>CRYSIN\\n   21.9191    16.0115     8.3735    90.0000    90.0000    90.0000 1 1\\n@<TRIPOS>ATOM\\n       1 C            0.5886     5.2717    -0.4552 C             1 UNL1    \\n       2 C            0.4083     4.0167     0.3990 C             1 UNL1    \\n       3 C           -0.8458     3.2022     0.0399 C             1 UNL1    \\n       4 C           -2.1535     3.9749     0.2685 C             1 UNL1    \\n       5 C           -3.3720     3.0794     0.0113 C             1 UNL1    \\n       6 C           -4.6782     3.8634     0.2076 C             1 UNL1    \\n       7 C           -5.9275     3.0401     0.0118 C             1 UNL1    \\n       8 C           -5.9686     1.6764    -0.2931 C             1 UNL1    \\n       9 S           -7.5782     1.2065    -0.4075 S             1 UNL1    \\n      10 C           -8.2411     2.7135    -0.0763 C             1 UNL1    \\n      11 C           -7.2046     3.6113     0.1311 C             1 UNL1    \\n      12 C           -6.8909    -2.8054    -0.0953 C             2 UNL2    \\n      13 C           -5.7070    -3.7632    -0.1902 C             2 UNL2    \\n      14 C           -4.3887    -3.0198     0.0323 C             2 UNL2    \\n      15 C           -3.1833    -3.9668    -0.0495 C             2 UNL2    \\n      16 C           -1.8956    -3.1814     0.1922 C             2 UNL2    \\n      17 C           -0.6392    -4.0635     0.1043 C             2 UNL2    \\n      18 C            0.6378    -3.2714     0.2550 C             2 UNL2    \\n      19 C            0.6959    -1.8948     0.4960 C             2 UNL2    \\n      20 S            2.2938    -1.4271     0.5028 S             2 UNL2    \\n      21 C            2.9566    -2.9452     0.2024 C             2 UNL2    \\n      22 C            1.9108    -3.8599     0.1213 C             2 UNL2    \\n      23 C            4.3983    -3.2568     0.0630 C             2 UNL2    \\n      24 C            5.4474    -2.4020    -0.3293 C             2 UNL2    \\n      25 C            5.2816    -0.9875    -0.8286 C             2 UNL2    \\n      26 C            5.9035     0.0610     0.0976 C             2 UNL2    \\n      27 C            5.5338     1.4650    -0.4016 C             2 UNL2    \\n      28 C            6.1533     2.5622     0.4718 C             2 UNL2    \\n      29 C            5.7737     3.9790     0.0037 C             2 UNL2    \\n      30 C            4.2842     4.2911     0.1648 C             2 UNL2    \\n      31 C            6.7033    -3.0283    -0.3043 C             2 UNL2    \\n      32 C            6.6589    -4.3589     0.0808 C             2 UNL2    \\n      33 S            5.0587    -4.7730     0.3817 S             2 UNL2    \\n      34 H            1.5326     5.7793    -0.1670 H             3 UNL1    \\n      35 H            0.6418     5.0030    -1.5311 H             3 UNL1    \\n      36 H           -0.2416     5.9889    -0.2928 H             3 UNL1    \\n      37 H            1.2942     3.3636     0.2477 H             3 UNL1    \\n      38 H            0.3720     4.3055     1.4718 H             3 UNL1    \\n      39 H           -0.7861     2.8718    -1.0199 H             3 UNL1    \\n      40 H           -0.8488     2.2965     0.6859 H             3 UNL1    \\n      41 H           -2.1886     4.3371     1.3197 H             3 UNL1    \\n      42 H           -2.1977     4.8477    -0.4165 H             3 UNL1    \\n      43 H           -3.3420     2.2234     0.7211 H             3 UNL1    \\n      44 H           -3.3330     2.6917    -1.0307 H             3 UNL1    \\n      45 H           -4.6988     4.7066    -0.5165 H             3 UNL1    \\n      46 H           -4.7009     4.2810     1.2375 H             3 UNL1    \\n      47 H           -5.1224     1.0175    -0.4326 H             3 UNL1    \\n      48 H           -9.2964     2.9474    -0.0314 H             3 UNL1    \\n      49 H           -7.3700     4.6553     0.3630 H             3 UNL1    \\n      50 H           -7.8375    -3.3644    -0.2496 H             4 UNL2    \\n      51 H           -6.9202    -2.3264     0.9067 H             4 UNL2    \\n      52 H           -6.8121    -2.0151    -0.8727 H             4 UNL2    \\n      53 H           -5.8220    -4.5554     0.5811 H             4 UNL2    \\n      54 H           -5.7053    -4.2391    -1.1947 H             4 UNL2    \\n      55 H           -4.4079    -2.5401     1.0375 H             4 UNL2    \\n      56 H           -4.2849    -2.2223    -0.7382 H             4 UNL2    \\n      57 H           -3.2803    -4.7666     0.7161 H             4 UNL2    \\n      58 H           -3.1505    -4.4340    -1.0588 H             4 UNL2    \\n      59 H           -1.9382    -2.7112     1.1995 H             4 UNL2    \\n      60 H           -1.8269    -2.3838    -0.5826 H             4 UNL2    \\n      61 H           -0.6212    -4.5456    -0.8986 H             4 UNL2    \\n      62 H           -0.6764    -4.8572     0.8799 H             4 UNL2    \\n      63 H           -0.1359    -1.2180     0.6355 H             4 UNL2    \\n      64 H            2.0554    -4.9166    -0.0730 H             4 UNL2    \\n      65 H            5.7303    -0.9094    -1.8424 H             4 UNL2    \\n      66 H            4.2206    -0.7476    -0.9722 H             4 UNL2    \\n      67 H            7.0076    -0.0728     0.1239 H             4 UNL2    \\n      68 H            5.4978    -0.0687     1.1251 H             4 UNL2    \\n      69 H            5.8840     1.5953    -1.4498 H             4 UNL2    \\n      70 H            4.4272     1.5490    -0.3820 H             4 UNL2    \\n      71 H            5.8436     2.4319     1.5312 H             4 UNL2    \\n      72 H            7.2592     2.4640     0.4156 H             4 UNL2    \\n      73 H            6.3393     4.7087     0.6223 H             4 UNL2    \\n      74 H            6.0712     4.1210    -1.0580 H             4 UNL2    \\n      75 H            4.0922     5.3410    -0.1399 H             4 UNL2    \\n      76 H            3.6601     3.6362    -0.4749 H             4 UNL2    \\n      77 H            3.9775     4.1700     1.2261 H             4 UNL2    \\n      78 H            7.6227    -2.5307    -0.5842 H             4 UNL2    \\n      79 H            7.5106    -5.0226     0.1551 H             4 UNL2    \\n@<TRIPOS>BOND\\n       1        1        2 1\\n       2        1       34 1\\n       3        1       35 1\\n       4        1       36 1\\n       5        2        3 1\\n       6        2       37 1\\n       7        2       38 1\\n       8        3        4 1\\n       9        3       39 1\\n      10        3       40 1\\n      11        4        5 1\\n      12        4       41 1\\n      13        4       42 1\\n      14        5        6 1\\n      15        5       43 1\\n      16        5       44 1\\n      17        6        7 1\\n      18        6       45 1\\n      19        6       46 1\\n      20        7        8 1\\n      21        7       11 1\\n      22        8        9 1\\n      23        8       47 1\\n      24        9       10 1\\n      25       10       11 1\\n      26       10       48 1\\n      27       11       49 1\\n      28       12       13 1\\n      29       12       50 1\\n      30       12       51 1\\n      31       12       52 1\\n      32       13       14 1\\n      33       13       53 1\\n      34       13       54 1\\n      35       14       15 1\\n      36       14       55 1\\n      37       14       56 1\\n      38       15       16 1\\n      39       15       57 1\\n      40       15       58 1\\n      41       16       17 1\\n      42       16       59 1\\n      43       16       60 1\\n      44       17       18 1\\n      45       17       61 1\\n      46       17       62 1\\n      47       18       19 1\\n      48       18       22 1\\n      49       19       20 1\\n      50       19       63 1\\n      51       20       21 1\\n      52       21       22 1\\n      53       21       23 1\\n      54       22       64 1\\n      55       23       24 1\\n      56       23       33 1\\n      57       24       25 1\\n      58       24       31 1\\n      59       25       26 1\\n      60       25       65 1\\n      61       25       66 1\\n      62       26       27 1\\n      63       26       67 1\\n      64       26       68 1\\n      65       27       28 1\\n      66       27       69 1\\n      67       27       70 1\\n      68       28       29 1\\n      69       28       71 1\\n      70       28       72 1\\n      71       29       30 1\\n      72       29       73 1\\n      73       29       74 1\\n      74       30       75 1\\n      75       30       76 1\\n      76       30       77 1\\n      77       31       32 1\\n      78       31       78 1\\n      79       32       33 1\\n      80       32       79 1\\n@<TRIPOS>SUBSTRUCTURE\\n       1 UNL1            1 RESIDUE    0 **** ROOT     16\\n       2 UNL2           12 RESIDUE    0 **** ROOT     30\\n       3 UNL1           34 RESIDUE    0 **** ROOT     16\\n       4 UNL2           50 RESIDUE    0 **** ROOT     30\\n\",\"mol2\");\n\tviewer_16872983017606258.setStyle({\"stick\": {\"radius\": 0.2, \"color\": \"grey\"}, \"sphere\": {\"scale\": 0.3, \"colorscheme\": {}}});\n\tviewer_16872983017606258.zoomTo();\nviewer_16872983017606258.render();\n});\n</script>",
      "text/html": [
       "<div id=\"3dmolviewer_16872983017606258\"  style=\"position: relative; width: 640px; height: 480px\">\n",
       "        <p id=\"3dmolwarning_16872983017606258\" style=\"background-color:#ffcccc;color:black\">You appear to be running in JupyterLab (or JavaScript failed to load for some other reason).  You need to install the 3dmol extension: <br>\n",
       "        <tt>jupyter labextension install jupyterlab_3dmol</tt></p>\n",
       "        </div>\n",
       "<script>\n",
       "\n",
       "var loadScriptAsync = function(uri){\n",
       "  return new Promise((resolve, reject) => {\n",
       "    //this is to ignore the existence of requirejs amd\n",
       "    var savedexports, savedmodule;\n",
       "    if (typeof exports !== 'undefined') savedexports = exports;\n",
       "    else exports = {}\n",
       "    if (typeof module !== 'undefined') savedmodule = module;\n",
       "    else module = {}\n",
       "\n",
       "    var tag = document.createElement('script');\n",
       "    tag.src = uri;\n",
       "    tag.async = true;\n",
       "    tag.onload = () => {\n",
       "        exports = savedexports;\n",
       "        module = savedmodule;\n",
       "        resolve();\n",
       "    };\n",
       "  var firstScriptTag = document.getElementsByTagName('script')[0];\n",
       "  firstScriptTag.parentNode.insertBefore(tag, firstScriptTag);\n",
       "});\n",
       "};\n",
       "\n",
       "if(typeof $3Dmolpromise === 'undefined') {\n",
       "$3Dmolpromise = null;\n",
       "  $3Dmolpromise = loadScriptAsync('https://cdnjs.cloudflare.com/ajax/libs/3Dmol/2.0.1/3Dmol-min.js');\n",
       "}\n",
       "\n",
       "var viewer_16872983017606258 = null;\n",
       "var warn = document.getElementById(\"3dmolwarning_16872983017606258\");\n",
       "if(warn) {\n",
       "    warn.parentNode.removeChild(warn);\n",
       "}\n",
       "$3Dmolpromise.then(function() {\n",
       "viewer_16872983017606258 = $3Dmol.createViewer(document.getElementById(\"3dmolviewer_16872983017606258\"),{backgroundColor:\"white\"});\n",
       "viewer_16872983017606258.zoomTo();\n",
       "\tviewer_16872983017606258.addModel(\"@<TRIPOS>MOLECULE\\nUNL1\\n79 80 4 0 1\\nBIOPOLYMER\\nNO_CHARGES\\n@<TRIPOS>CRYSIN\\n   21.9191    16.0115     8.3735    90.0000    90.0000    90.0000 1 1\\n@<TRIPOS>ATOM\\n       1 C            0.5886     5.2717    -0.4552 C             1 UNL1    \\n       2 C            0.4083     4.0167     0.3990 C             1 UNL1    \\n       3 C           -0.8458     3.2022     0.0399 C             1 UNL1    \\n       4 C           -2.1535     3.9749     0.2685 C             1 UNL1    \\n       5 C           -3.3720     3.0794     0.0113 C             1 UNL1    \\n       6 C           -4.6782     3.8634     0.2076 C             1 UNL1    \\n       7 C           -5.9275     3.0401     0.0118 C             1 UNL1    \\n       8 C           -5.9686     1.6764    -0.2931 C             1 UNL1    \\n       9 S           -7.5782     1.2065    -0.4075 S             1 UNL1    \\n      10 C           -8.2411     2.7135    -0.0763 C             1 UNL1    \\n      11 C           -7.2046     3.6113     0.1311 C             1 UNL1    \\n      12 C           -6.8909    -2.8054    -0.0953 C             2 UNL2    \\n      13 C           -5.7070    -3.7632    -0.1902 C             2 UNL2    \\n      14 C           -4.3887    -3.0198     0.0323 C             2 UNL2    \\n      15 C           -3.1833    -3.9668    -0.0495 C             2 UNL2    \\n      16 C           -1.8956    -3.1814     0.1922 C             2 UNL2    \\n      17 C           -0.6392    -4.0635     0.1043 C             2 UNL2    \\n      18 C            0.6378    -3.2714     0.2550 C             2 UNL2    \\n      19 C            0.6959    -1.8948     0.4960 C             2 UNL2    \\n      20 S            2.2938    -1.4271     0.5028 S             2 UNL2    \\n      21 C            2.9566    -2.9452     0.2024 C             2 UNL2    \\n      22 C            1.9108    -3.8599     0.1213 C             2 UNL2    \\n      23 C            4.3983    -3.2568     0.0630 C             2 UNL2    \\n      24 C            5.4474    -2.4020    -0.3293 C             2 UNL2    \\n      25 C            5.2816    -0.9875    -0.8286 C             2 UNL2    \\n      26 C            5.9035     0.0610     0.0976 C             2 UNL2    \\n      27 C            5.5338     1.4650    -0.4016 C             2 UNL2    \\n      28 C            6.1533     2.5622     0.4718 C             2 UNL2    \\n      29 C            5.7737     3.9790     0.0037 C             2 UNL2    \\n      30 C            4.2842     4.2911     0.1648 C             2 UNL2    \\n      31 C            6.7033    -3.0283    -0.3043 C             2 UNL2    \\n      32 C            6.6589    -4.3589     0.0808 C             2 UNL2    \\n      33 S            5.0587    -4.7730     0.3817 S             2 UNL2    \\n      34 H            1.5326     5.7793    -0.1670 H             3 UNL1    \\n      35 H            0.6418     5.0030    -1.5311 H             3 UNL1    \\n      36 H           -0.2416     5.9889    -0.2928 H             3 UNL1    \\n      37 H            1.2942     3.3636     0.2477 H             3 UNL1    \\n      38 H            0.3720     4.3055     1.4718 H             3 UNL1    \\n      39 H           -0.7861     2.8718    -1.0199 H             3 UNL1    \\n      40 H           -0.8488     2.2965     0.6859 H             3 UNL1    \\n      41 H           -2.1886     4.3371     1.3197 H             3 UNL1    \\n      42 H           -2.1977     4.8477    -0.4165 H             3 UNL1    \\n      43 H           -3.3420     2.2234     0.7211 H             3 UNL1    \\n      44 H           -3.3330     2.6917    -1.0307 H             3 UNL1    \\n      45 H           -4.6988     4.7066    -0.5165 H             3 UNL1    \\n      46 H           -4.7009     4.2810     1.2375 H             3 UNL1    \\n      47 H           -5.1224     1.0175    -0.4326 H             3 UNL1    \\n      48 H           -9.2964     2.9474    -0.0314 H             3 UNL1    \\n      49 H           -7.3700     4.6553     0.3630 H             3 UNL1    \\n      50 H           -7.8375    -3.3644    -0.2496 H             4 UNL2    \\n      51 H           -6.9202    -2.3264     0.9067 H             4 UNL2    \\n      52 H           -6.8121    -2.0151    -0.8727 H             4 UNL2    \\n      53 H           -5.8220    -4.5554     0.5811 H             4 UNL2    \\n      54 H           -5.7053    -4.2391    -1.1947 H             4 UNL2    \\n      55 H           -4.4079    -2.5401     1.0375 H             4 UNL2    \\n      56 H           -4.2849    -2.2223    -0.7382 H             4 UNL2    \\n      57 H           -3.2803    -4.7666     0.7161 H             4 UNL2    \\n      58 H           -3.1505    -4.4340    -1.0588 H             4 UNL2    \\n      59 H           -1.9382    -2.7112     1.1995 H             4 UNL2    \\n      60 H           -1.8269    -2.3838    -0.5826 H             4 UNL2    \\n      61 H           -0.6212    -4.5456    -0.8986 H             4 UNL2    \\n      62 H           -0.6764    -4.8572     0.8799 H             4 UNL2    \\n      63 H           -0.1359    -1.2180     0.6355 H             4 UNL2    \\n      64 H            2.0554    -4.9166    -0.0730 H             4 UNL2    \\n      65 H            5.7303    -0.9094    -1.8424 H             4 UNL2    \\n      66 H            4.2206    -0.7476    -0.9722 H             4 UNL2    \\n      67 H            7.0076    -0.0728     0.1239 H             4 UNL2    \\n      68 H            5.4978    -0.0687     1.1251 H             4 UNL2    \\n      69 H            5.8840     1.5953    -1.4498 H             4 UNL2    \\n      70 H            4.4272     1.5490    -0.3820 H             4 UNL2    \\n      71 H            5.8436     2.4319     1.5312 H             4 UNL2    \\n      72 H            7.2592     2.4640     0.4156 H             4 UNL2    \\n      73 H            6.3393     4.7087     0.6223 H             4 UNL2    \\n      74 H            6.0712     4.1210    -1.0580 H             4 UNL2    \\n      75 H            4.0922     5.3410    -0.1399 H             4 UNL2    \\n      76 H            3.6601     3.6362    -0.4749 H             4 UNL2    \\n      77 H            3.9775     4.1700     1.2261 H             4 UNL2    \\n      78 H            7.6227    -2.5307    -0.5842 H             4 UNL2    \\n      79 H            7.5106    -5.0226     0.1551 H             4 UNL2    \\n@<TRIPOS>BOND\\n       1        1        2 1\\n       2        1       34 1\\n       3        1       35 1\\n       4        1       36 1\\n       5        2        3 1\\n       6        2       37 1\\n       7        2       38 1\\n       8        3        4 1\\n       9        3       39 1\\n      10        3       40 1\\n      11        4        5 1\\n      12        4       41 1\\n      13        4       42 1\\n      14        5        6 1\\n      15        5       43 1\\n      16        5       44 1\\n      17        6        7 1\\n      18        6       45 1\\n      19        6       46 1\\n      20        7        8 1\\n      21        7       11 1\\n      22        8        9 1\\n      23        8       47 1\\n      24        9       10 1\\n      25       10       11 1\\n      26       10       48 1\\n      27       11       49 1\\n      28       12       13 1\\n      29       12       50 1\\n      30       12       51 1\\n      31       12       52 1\\n      32       13       14 1\\n      33       13       53 1\\n      34       13       54 1\\n      35       14       15 1\\n      36       14       55 1\\n      37       14       56 1\\n      38       15       16 1\\n      39       15       57 1\\n      40       15       58 1\\n      41       16       17 1\\n      42       16       59 1\\n      43       16       60 1\\n      44       17       18 1\\n      45       17       61 1\\n      46       17       62 1\\n      47       18       19 1\\n      48       18       22 1\\n      49       19       20 1\\n      50       19       63 1\\n      51       20       21 1\\n      52       21       22 1\\n      53       21       23 1\\n      54       22       64 1\\n      55       23       24 1\\n      56       23       33 1\\n      57       24       25 1\\n      58       24       31 1\\n      59       25       26 1\\n      60       25       65 1\\n      61       25       66 1\\n      62       26       27 1\\n      63       26       67 1\\n      64       26       68 1\\n      65       27       28 1\\n      66       27       69 1\\n      67       27       70 1\\n      68       28       29 1\\n      69       28       71 1\\n      70       28       72 1\\n      71       29       30 1\\n      72       29       73 1\\n      73       29       74 1\\n      74       30       75 1\\n      75       30       76 1\\n      76       30       77 1\\n      77       31       32 1\\n      78       31       78 1\\n      79       32       33 1\\n      80       32       79 1\\n@<TRIPOS>SUBSTRUCTURE\\n       1 UNL1            1 RESIDUE    0 **** ROOT     16\\n       2 UNL2           12 RESIDUE    0 **** ROOT     30\\n       3 UNL1           34 RESIDUE    0 **** ROOT     16\\n       4 UNL2           50 RESIDUE    0 **** ROOT     30\\n\",\"mol2\");\n",
       "\tviewer_16872983017606258.setStyle({\"stick\": {\"radius\": 0.2, \"color\": \"grey\"}, \"sphere\": {\"scale\": 0.3, \"colorscheme\": {}}});\n",
       "\tviewer_16872983017606258.zoomTo();\n",
       "viewer_16872983017606258.render();\n",
       "});\n",
       "</script>"
      ]
     },
     "metadata": {},
     "output_type": "display_data"
    },
    {
     "data": {
      "text/plain": [
       "<py3Dmol.view at 0x176e66640>"
      ]
     },
     "execution_count": 7,
     "metadata": {},
     "output_type": "execute_result"
    }
   ],
   "source": [
    "test.energy_minimize()\n",
    "test.visualize()"
   ]
  },
  {
   "cell_type": "code",
   "execution_count": null,
   "id": "0940ee2d",
   "metadata": {},
   "outputs": [],
   "source": [
    "rdmol = Chem.MolFromMol2File('mol2files/p3ht.mol2')"
   ]
  },
  {
   "cell_type": "code",
   "execution_count": null,
   "id": "18defdaa",
   "metadata": {
    "scrolled": true
   },
   "outputs": [],
   "source": [
    "rdmol"
   ]
  },
  {
   "cell_type": "code",
   "execution_count": null,
   "id": "8375dbee",
   "metadata": {},
   "outputs": [],
   "source": [
    "from bondwalk import bond_walk\n",
    "from bondwalk.bond_walk import MadAtom, MadBond, BondWalker"
   ]
  },
  {
   "cell_type": "code",
   "execution_count": null,
   "id": "ed6235fb",
   "metadata": {},
   "outputs": [],
   "source": [
    "m = Chem.MolFromSmiles('C1OC1')\n",
    "\n",
    "for atom in rdmol.GetAtoms():\n",
    "    print(atom.GetIdx(),atom.GetNumRadicalElectrons())\n"
   ]
  },
  {
   "cell_type": "code",
   "execution_count": null,
   "id": "a282bf7a",
   "metadata": {},
   "outputs": [],
   "source": [
    "for atom in rdmol.GetAtoms():\n",
    "    print(atom.GetIdx(),atom.GetNumRadicalElectrons(),atom.GetHybridization())\n",
    "for atom in rdmol.GetAtoms():\n",
    "    atom.SetNumRadicalElectrons(0)\n",
    "    "
   ]
  },
  {
   "cell_type": "code",
   "execution_count": null,
   "id": "12782820",
   "metadata": {},
   "outputs": [],
   "source": [
    "for atom in rdmol.GetAtoms():\n",
    "    print(atom.GetIdx(),atom.GetNumRadicalElectrons(),atom.GetHybridization())"
   ]
  },
  {
   "cell_type": "code",
   "execution_count": null,
   "id": "18d49727",
   "metadata": {},
   "outputs": [],
   "source": [
    "rdmol"
   ]
  },
  {
   "cell_type": "code",
   "execution_count": null,
   "id": "6c5ef1b2",
   "metadata": {},
   "outputs": [],
   "source": [
    "for bond in rdmol.GetBonds():\n",
    "    print(bond.GetIdx(),bond.SetBondType(,[bond.GetBeginAtomIdx(),bond.GetEndAtomIdx()])"
   ]
  },
  {
   "cell_type": "code",
   "execution_count": null,
   "id": "1fd8e439",
   "metadata": {},
   "outputs": [],
   "source": [
    "bond = rdmol.GetBondWithIdx(6)"
   ]
  },
  {
   "cell_type": "code",
   "execution_count": null,
   "id": "1ab1b9ec",
   "metadata": {},
   "outputs": [],
   "source": [
    "help(bond.SetBondType)"
   ]
  },
  {
   "cell_type": "code",
   "execution_count": null,
   "id": "a6a31187",
   "metadata": {},
   "outputs": [],
   "source": [
    "bond.SetBondType(,'Double')"
   ]
  },
  {
   "cell_type": "code",
   "execution_count": null,
   "id": "90657d3d",
   "metadata": {},
   "outputs": [],
   "source": [
    "atoms = rdmol.GetAtomWithIdx(1)"
   ]
  },
  {
   "cell_type": "code",
   "execution_count": null,
   "id": "cb292a09",
   "metadata": {},
   "outputs": [],
   "source": [
    "rdmol.GetNumAtoms()"
   ]
  },
  {
   "cell_type": "code",
   "execution_count": null,
   "id": "f59f8083",
   "metadata": {},
   "outputs": [],
   "source": [
    "help(rdmol.Se)"
   ]
  },
  {
   "cell_type": "code",
   "execution_count": null,
   "id": "ddf474f3",
   "metadata": {},
   "outputs": [],
   "source": [
    "atoms.GetBonds()"
   ]
  },
  {
   "cell_type": "code",
   "execution_count": null,
   "id": "be626f84",
   "metadata": {},
   "outputs": [],
   "source": [
    "b= BondWalker(rdmol)"
   ]
  },
  {
   "cell_type": "code",
   "execution_count": null,
   "id": "d0d3e6e6",
   "metadata": {},
   "outputs": [],
   "source": [
    "type(rdmol)"
   ]
  },
  {
   "cell_type": "code",
   "execution_count": 4,
   "id": "f0a691cf",
   "metadata": {},
   "outputs": [
    {
     "ename": "RadicalsNotSupportedError",
     "evalue": "The OpenFF Toolkit does not currently support parsing molecules with S- and P-block radicals. Found 1 radical electrons on molecule [H][C]1S[C]([C]2S[C]([H])[C](C([H])([H])C([H])([H])C([H])([H])C([H])([H])C([H])([H])C([H])([H])[H])[C]2[H])[C](C([H])([H])C([H])([H])C([H])([H])C([H])([H])C([H])([H])C([H])([H])[H])[C]1[H].[H][C]1S[C]([H])[C](C([H])([H])C([H])([H])C([H])([H])C([H])([H])C([H])([H])C([H])([H])[H])[C]1[H].",
     "output_type": "error",
     "traceback": [
      "\u001b[0;31m---------------------------------------------------------------------------\u001b[0m",
      "\u001b[0;31mRadicalsNotSupportedError\u001b[0m                 Traceback (most recent call last)",
      "Cell \u001b[0;32mIn[4], line 1\u001b[0m\n\u001b[0;32m----> 1\u001b[0m \u001b[43mopenff_Molecule\u001b[49m\u001b[43m(\u001b[49m\u001b[43mMOL2FILEPATH\u001b[49m\u001b[38;5;241;43m=\u001b[39;49m\u001b[43mmol2file\u001b[49m\u001b[43m,\u001b[49m\u001b[43mPDBFILEPATH\u001b[49m\u001b[38;5;241;43m=\u001b[39;49m\u001b[43mpdb_file\u001b[49m\u001b[43m)\u001b[49m\n",
      "File \u001b[0;32m~/Projects/repos/forcefields/functions/esp_functions.py:34\u001b[0m, in \u001b[0;36mopenff_Molecule\u001b[0;34m(MOL2FILEPATH, PDBFILEPATH)\u001b[0m\n\u001b[1;32m     32\u001b[0m \u001b[38;5;28;01mdef\u001b[39;00m \u001b[38;5;21mopenff_Molecule\u001b[39m(MOL2FILEPATH,PDBFILEPATH):\n\u001b[1;32m     33\u001b[0m     rdmol \u001b[38;5;241m=\u001b[39m Chem\u001b[38;5;241m.\u001b[39mMolFromMol2File(MOL2FILEPATH)\n\u001b[0;32m---> 34\u001b[0m     from_rdmol \u001b[38;5;241m=\u001b[39m \u001b[43mMolecule\u001b[49m\u001b[38;5;241;43m.\u001b[39;49m\u001b[43mfrom_rdkit\u001b[49m\u001b[43m(\u001b[49m\u001b[43mrdmol\u001b[49m\u001b[43m)\u001b[49m\n\u001b[1;32m     35\u001b[0m     atom_list \u001b[38;5;241m=\u001b[39m [a \u001b[38;5;28;01mfor\u001b[39;00m a \u001b[38;5;129;01min\u001b[39;00m from_rdmol\u001b[38;5;241m.\u001b[39matoms \u001b[38;5;28;01mif\u001b[39;00m \u001b[38;5;241m1\u001b[39m \u001b[38;5;129;01mnot\u001b[39;00m \u001b[38;5;129;01min\u001b[39;00m [a\u001b[38;5;241m.\u001b[39matomic_number]]\n\u001b[1;32m     36\u001b[0m     \u001b[38;5;28;01mfor\u001b[39;00m atom \u001b[38;5;129;01min\u001b[39;00m atom_list:\n",
      "File \u001b[0;32m~/miniconda3/envs/ff3/lib/python3.9/site-packages/openff/toolkit/utils/base_wrapper.py:55\u001b[0m, in \u001b[0;36mToolkitWrapper.requires_toolkit.<locals>.decorator.<locals>.wrapped_function\u001b[0;34m(*args, **kwargs)\u001b[0m\n\u001b[1;32m     51\u001b[0m     msg \u001b[38;5;241m=\u001b[39m \u001b[38;5;124m\"\u001b[39m\u001b[38;5;124mThis function requires the \u001b[39m\u001b[38;5;132;01m{}\u001b[39;00m\u001b[38;5;124m toolkit\u001b[39m\u001b[38;5;124m\"\u001b[39m\u001b[38;5;241m.\u001b[39mformat(\n\u001b[1;32m     52\u001b[0m         \u001b[38;5;28mcls\u001b[39m\u001b[38;5;241m.\u001b[39m_toolkit_name\n\u001b[1;32m     53\u001b[0m     )\n\u001b[1;32m     54\u001b[0m     \u001b[38;5;28;01mraise\u001b[39;00m ToolkitUnavailableException(msg)\n\u001b[0;32m---> 55\u001b[0m value \u001b[38;5;241m=\u001b[39m \u001b[43mfunc\u001b[49m\u001b[43m(\u001b[49m\u001b[38;5;241;43m*\u001b[39;49m\u001b[43margs\u001b[49m\u001b[43m,\u001b[49m\u001b[43m \u001b[49m\u001b[38;5;241;43m*\u001b[39;49m\u001b[38;5;241;43m*\u001b[39;49m\u001b[43mkwargs\u001b[49m\u001b[43m)\u001b[49m\n\u001b[1;32m     56\u001b[0m \u001b[38;5;28;01mreturn\u001b[39;00m value\n",
      "File \u001b[0;32m~/miniconda3/envs/ff3/lib/python3.9/site-packages/openff/toolkit/topology/molecule.py:4322\u001b[0m, in \u001b[0;36mFrozenMolecule.from_rdkit\u001b[0;34m(cls, rdmol, allow_undefined_stereo, hydrogens_are_explicit)\u001b[0m\n\u001b[1;32m   4291\u001b[0m \u001b[38;5;250m\u001b[39m\u001b[38;5;124;03m\"\"\"\u001b[39;00m\n\u001b[1;32m   4292\u001b[0m \u001b[38;5;124;03mCreate a Molecule from an RDKit molecule.\u001b[39;00m\n\u001b[1;32m   4293\u001b[0m \n\u001b[0;32m   (...)\u001b[0m\n\u001b[1;32m   4319\u001b[0m \n\u001b[1;32m   4320\u001b[0m \u001b[38;5;124;03m\"\"\"\u001b[39;00m\n\u001b[1;32m   4321\u001b[0m toolkit \u001b[38;5;241m=\u001b[39m RDKitToolkitWrapper()\n\u001b[0;32m-> 4322\u001b[0m molecule \u001b[38;5;241m=\u001b[39m \u001b[43mtoolkit\u001b[49m\u001b[38;5;241;43m.\u001b[39;49m\u001b[43mfrom_rdkit\u001b[49m\u001b[43m(\u001b[49m\n\u001b[1;32m   4323\u001b[0m \u001b[43m    \u001b[49m\u001b[43mrdmol\u001b[49m\u001b[43m,\u001b[49m\n\u001b[1;32m   4324\u001b[0m \u001b[43m    \u001b[49m\u001b[43mallow_undefined_stereo\u001b[49m\u001b[38;5;241;43m=\u001b[39;49m\u001b[43mallow_undefined_stereo\u001b[49m\u001b[43m,\u001b[49m\n\u001b[1;32m   4325\u001b[0m \u001b[43m    \u001b[49m\u001b[43mhydrogens_are_explicit\u001b[49m\u001b[38;5;241;43m=\u001b[39;49m\u001b[43mhydrogens_are_explicit\u001b[49m\u001b[43m,\u001b[49m\n\u001b[1;32m   4326\u001b[0m \u001b[43m    \u001b[49m\u001b[43m_cls\u001b[49m\u001b[38;5;241;43m=\u001b[39;49m\u001b[38;5;28;43mcls\u001b[39;49m\u001b[43m,\u001b[49m\n\u001b[1;32m   4327\u001b[0m \u001b[43m\u001b[49m\u001b[43m)\u001b[49m\n\u001b[1;32m   4328\u001b[0m \u001b[38;5;28;01mreturn\u001b[39;00m molecule\n",
      "File \u001b[0;32m~/miniconda3/envs/ff3/lib/python3.9/site-packages/openff/toolkit/utils/rdkit_wrapper.py:1841\u001b[0m, in \u001b[0;36mRDKitToolkitWrapper.from_rdkit\u001b[0;34m(self, rdmol, allow_undefined_stereo, hydrogens_are_explicit, _cls)\u001b[0m\n\u001b[1;32m   1835\u001b[0m \u001b[38;5;28;01mfor\u001b[39;00m rda \u001b[38;5;129;01min\u001b[39;00m rdmol\u001b[38;5;241m.\u001b[39mGetAtoms():\n\u001b[1;32m   1836\u001b[0m     \u001b[38;5;66;03m# See issues #1075 for some discussion on radicals\u001b[39;00m\n\u001b[1;32m   1837\u001b[0m     \u001b[38;5;28;01mif\u001b[39;00m (\n\u001b[1;32m   1838\u001b[0m         rda\u001b[38;5;241m.\u001b[39mGetAtomicNum() \u001b[38;5;129;01mnot\u001b[39;00m \u001b[38;5;129;01min\u001b[39;00m d_and_f_block_elements\n\u001b[1;32m   1839\u001b[0m         \u001b[38;5;129;01mand\u001b[39;00m rda\u001b[38;5;241m.\u001b[39mGetNumRadicalElectrons() \u001b[38;5;241m!=\u001b[39m \u001b[38;5;241m0\u001b[39m\n\u001b[1;32m   1840\u001b[0m     ):\n\u001b[0;32m-> 1841\u001b[0m         \u001b[38;5;28;01mraise\u001b[39;00m RadicalsNotSupportedError(\n\u001b[1;32m   1842\u001b[0m             \u001b[38;5;124m\"\u001b[39m\u001b[38;5;124mThe OpenFF Toolkit does not currently support parsing molecules with S- and P-block radicals. \u001b[39m\u001b[38;5;124m\"\u001b[39m\n\u001b[1;32m   1843\u001b[0m             \u001b[38;5;124mf\u001b[39m\u001b[38;5;124m\"\u001b[39m\u001b[38;5;124mFound \u001b[39m\u001b[38;5;132;01m{\u001b[39;00mrda\u001b[38;5;241m.\u001b[39mGetNumRadicalElectrons()\u001b[38;5;132;01m}\u001b[39;00m\u001b[38;5;124m radical electrons on molecule \u001b[39m\u001b[38;5;132;01m{\u001b[39;00mChem\u001b[38;5;241m.\u001b[39mMolToSmiles(rdmol)\u001b[38;5;132;01m}\u001b[39;00m\u001b[38;5;124m.\u001b[39m\u001b[38;5;124m\"\u001b[39m\n\u001b[1;32m   1844\u001b[0m         )\n\u001b[1;32m   1846\u001b[0m     rd_idx \u001b[38;5;241m=\u001b[39m rda\u001b[38;5;241m.\u001b[39mGetIdx()\n\u001b[1;32m   1847\u001b[0m     \u001b[38;5;66;03m# if the molecule was made from a mapped smiles this has been hidden\u001b[39;00m\n\u001b[1;32m   1848\u001b[0m     \u001b[38;5;66;03m# so that it does not affect the sterochemistry tags\u001b[39;00m\n",
      "\u001b[0;31mRadicalsNotSupportedError\u001b[0m: The OpenFF Toolkit does not currently support parsing molecules with S- and P-block radicals. Found 1 radical electrons on molecule [H][C]1S[C]([C]2S[C]([H])[C](C([H])([H])C([H])([H])C([H])([H])C([H])([H])C([H])([H])C([H])([H])[H])[C]2[H])[C](C([H])([H])C([H])([H])C([H])([H])C([H])([H])C([H])([H])C([H])([H])[H])[C]1[H].[H][C]1S[C]([H])[C](C([H])([H])C([H])([H])C([H])([H])C([H])([H])C([H])([H])C([H])([H])[H])[C]1[H]."
     ]
    }
   ],
   "source": [
    "openff_Molecule(MOL2FILEPATH=mol2file,PDBFILEPATH=pdb_file)"
   ]
  },
  {
   "cell_type": "code",
   "execution_count": null,
   "id": "d601a464",
   "metadata": {},
   "outputs": [],
   "source": [
    "esp_to_xml(MOL2FILEPATH=mol2file,XMLFILEPATH=xml_filename,PDBFILEPATH=pdb_file,TYPEDFILEPATH=typed_mol2)"
   ]
  },
  {
   "cell_type": "markdown",
   "id": "761971d4",
   "metadata": {},
   "source": [
    "## Children Issue "
   ]
  },
  {
   "cell_type": "markdown",
   "id": "d27dbbcc",
   "metadata": {},
   "source": [
    "at this point we've successfully parameterized our monomer and dimer and resaved them with the correct atom types to match the forcefield file. We just have to determine how to extract the monomer so we can build polymers from it. We have to build the polymers from the typed monomer so it'll have the correct atom types to be able to apply the forcefield. "
   ]
  },
  {
   "cell_type": "code",
   "execution_count": null,
   "id": "4320253b",
   "metadata": {},
   "outputs": [],
   "source": [
    "p3ht_typed = mb.load(typed_mol2)\n",
    "p3ht_typed.visualize()"
   ]
  },
  {
   "cell_type": "markdown",
   "id": "e62f1390",
   "metadata": {},
   "source": [
    "try to access the mbuild children to pull just the monomer out to use for polymer building:\n",
    "\n",
    "the p3ht_typed file should have two children (the dimer and the monomer), however it only has one. \n",
    "We either have to figure out how to rmeove the dimer from this mbuild compound or extract the monomer \n",
    "to use for polymer building "
   ]
  },
  {
   "cell_type": "code",
   "execution_count": null,
   "id": "65b833fb",
   "metadata": {},
   "outputs": [],
   "source": [
    "len(p3ht_typed.children)"
   ]
  },
  {
   "cell_type": "markdown",
   "id": "d1f66780",
   "metadata": {},
   "source": [
    "Theres not an easy way to determine which atoms are part of the monomer and which are part of the dimer, but maybe if we could figure out where the origin lies we could determine that all the dimers coordinates are negative, for instance, and delete all the atoms with negative coordinates?\n",
    "\n",
    "When we save the dimer and monomer together (done in the polymer builder ipynb) we could move the dimer into negative coordinates and the monomer into positive?"
   ]
  },
  {
   "cell_type": "code",
   "execution_count": null,
   "id": "b0b5184b",
   "metadata": {},
   "outputs": [],
   "source": [
    "#I saved the dimer in negative coordinates and monomer in positive\n",
    "#This tells me that indices 0-10 and 33-48 belong to the monomer and the rest belong to the dimer \n",
    "\n",
    "for i in range(p3ht_typed.n_particles):\n",
    "    print(i,p3ht_typed[i].name,p3ht_typed[i].xyz)"
   ]
  },
  {
   "cell_type": "markdown",
   "id": "2cbac357",
   "metadata": {},
   "source": [
    "This is where I'm looking for ideas:\n",
    "1) either pull the monomer out and create a new mbuild compound of the monomer\n",
    "2) delete the dimer coordinates \n",
    "3) only parameterize the dimer, then remove the dimer bond and create a monomer from the dimer by deteting half of the dimer"
   ]
  },
  {
   "cell_type": "code",
   "execution_count": null,
   "id": "7d19a8f4",
   "metadata": {},
   "outputs": [],
   "source": [
    "#this doesn't quite work the way I was hoping \n",
    "\n",
    "dimer_indices = []\n",
    "for i in range(p3ht_typed.n_particles):\n",
    "    if p3ht_typed[i].xyz[0][0] < 1:\n",
    "        dimer_indices.append(i)\n",
    "        \n",
    "for i in dimer_indices:\n",
    "    p3ht_typed.remove(p3ht_typed[i])"
   ]
  }
 ],
 "metadata": {
  "kernelspec": {
   "display_name": "Python 3 (ipykernel)",
   "language": "python",
   "name": "python3"
  },
  "language_info": {
   "codemirror_mode": {
    "name": "ipython",
    "version": 3
   },
   "file_extension": ".py",
   "mimetype": "text/x-python",
   "name": "python",
   "nbconvert_exporter": "python",
   "pygments_lexer": "ipython3",
   "version": "3.9.16"
  }
 },
 "nbformat": 4,
 "nbformat_minor": 5
}
