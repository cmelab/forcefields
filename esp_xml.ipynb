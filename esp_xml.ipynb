{
 "cells": [
  {
   "cell_type": "code",
   "execution_count": null,
   "id": "4ef3047f",
   "metadata": {},
   "outputs": [],
   "source": [
    "import mbuild as mb\n",
    "import warnings \n",
    "import numpy\n",
    "from frag_classes import IDT, CPDT, DPP, BT, PT, FBT, thiophene, pyridine, ene_CPDT\n",
    "from r_classes import c11_bo,HD,ODD,C1BO,C3BO,C4BO,C5BO, test_ene_HD\n",
    "from mon_classes import PIDTCPDT_C11BO, P3HT, PCPDTPT_HD, PDPPPyT_ODD, PCPDTFBT_C1_BO, PCPDTFBT_C3_BO, PCPDTFBT_C4_BO, PCPDTFBT_C5_BO, PCPDTFBT_C11_BO, PCPDTPT_ene_HD\n",
    "from mbuild.lib.recipes.polymer import Polymer\n",
    "import ipywidgets as widgets\n",
    "warnings.filterwarnings('ignore')"
   ]
  },
  {
   "cell_type": "code",
   "execution_count": null,
   "id": "8b6cffaa",
   "metadata": {},
   "outputs": [],
   "source": [
    "def build_chain(monomer, length, min_energy):\n",
    "    chain = Polymer()\n",
    "    chain.add_monomer(compound=monomer,\n",
    "                 indices=monomer.bond_indices,\n",
    "                 separation=monomer.separation,\n",
    "                 replace=monomer.replace,\n",
    "                 orientation=monomer.orientations)\n",
    "    chain.build(n=length)\n",
    "    if min_energy == True:\n",
    "        chain.energy_minimize()\n",
    "    return chain"
   ]
  },
  {
   "cell_type": "code",
   "execution_count": null,
   "id": "52bd6826",
   "metadata": {},
   "outputs": [],
   "source": [
    "pidtcpdt = PIDTCPDT_C11BO()\n",
    "pidtcpdt.visualize()"
   ]
  },
  {
   "cell_type": "code",
   "execution_count": null,
   "id": "479b519e",
   "metadata": {
    "scrolled": false
   },
   "outputs": [],
   "source": [
    "monomer = build_chain(pidtcpdt,1,min_energy=True)\n",
    "monomer.visualize()"
   ]
  },
  {
   "cell_type": "code",
   "execution_count": null,
   "id": "77d6c480",
   "metadata": {},
   "outputs": [],
   "source": [
    "dimer = build_chain(pidtcpdt,2,min_energy=True)\n",
    "dimer.visualize()"
   ]
  },
  {
   "cell_type": "code",
   "execution_count": null,
   "id": "cd0ae82c",
   "metadata": {},
   "outputs": [],
   "source": [
    "mon_dim = mb.Compound()\n",
    "mon_dim.add([monomer,dimer])\n",
    "monomer.translate([2,2,2])\n",
    "mon_dim.visualize()"
   ]
  },
  {
   "cell_type": "code",
   "execution_count": null,
   "id": "51decf02",
   "metadata": {},
   "outputs": [],
   "source": [
    "mondimfilepath = '/Users/madilyn/Projects/repos/forcefields/sdf_files/PIDTCPDT_C11_BO.sdf'"
   ]
  },
  {
   "cell_type": "code",
   "execution_count": null,
   "id": "9a3cfb50",
   "metadata": {},
   "outputs": [],
   "source": [
    "mon_dim.save(mondimfilepath,overwrite=True)"
   ]
  },
  {
   "cell_type": "code",
   "execution_count": null,
   "id": "538feb4b",
   "metadata": {},
   "outputs": [],
   "source": [
    "from writers import foyer_xml_writer\n",
    "from writers.foyer_xml_writer import parmed_to_foyer_xml, mbuild_to_foyer_xml\n",
    "from bondwalk import bond_walk\n",
    "from bondwalk.bond_walk import MadAtom, MadBond, BondWalker\n",
    "\n",
    "import ele\n",
    "import espaloma as esp\n",
    "import forcefield_utilities as ffutils\n",
    "import foyer\n",
    "import gmso\n",
    "import mbuild as mb\n",
    "from mbuild.lib.recipes import Polymer\n",
    "from mbuild.formats.hoomd_forcefield import create_hoomd_forcefield\n",
    "import numpy as np\n",
    "import torch\n",
    "from openff.toolkit.topology import Molecule\n",
    "from mbuild.formats.hoomd_forcefield import create_hoomd_forcefield\n",
    "import hoomd\n",
    "import gsd.hoomd\n",
    "import matplotlib.pyplot as plt\n",
    "\n",
    "import os\n",
    "import warnings\n",
    "warnings.filterwarnings(\"ignore\")\n",
    "\n",
    "if not os.path.exists(\"espaloma_model.pt\"):\n",
    "    os.system(\"wget http://data.wangyq.net/espaloma_model.pt\")"
   ]
  },
  {
   "cell_type": "code",
   "execution_count": null,
   "id": "7ca2d599",
   "metadata": {},
   "outputs": [],
   "source": [
    "b = BondWalker(Molecule.from_smiles(smiles))\n",
    "compound = b.fill_in_bonds()\n",
    "compound.visualize()"
   ]
  },
  {
   "cell_type": "code",
   "execution_count": null,
   "id": "ee46cc00",
   "metadata": {},
   "outputs": [],
   "source": [
    "##mol2_file = \"/Users/madilyn/Projects/repos/forcefields/mol2files/p3ht_monomeranddimer.mol2\"\n",
    "sdf_file = \"/Users/madilyn/Projects/repos/forcefields/sdf_files/PIDTCPDT_C11_BO.sdf\"\n",
    "xml_filename = \"/Users/madilyn/Projects/repos/forcefields/xml_files/PDPPPyT_ODD.xml\"\n",
    "typed_mol2 = \"/Users/madilyn/Projects/repos/Fragment-Library/monomer_builder/mol2files/PDPPPyT_ODD_MD_typed.mol2\"\n",
    "\n",
    "\n",
    "#using functions from bond_walker.py\n",
    "b= BondWalker(Molecule.from_file(sdf_file,allow_undefined_stereo=True))\n",
    "compound = b.fill_in_bonds()\n",
    "compound.visualize()"
   ]
  },
  {
   "cell_type": "code",
   "execution_count": null,
   "id": "7bc56010",
   "metadata": {},
   "outputs": [],
   "source": [
    "#Running the espaloma code\n",
    "\n",
    "molecule = compound\n",
    "\n",
    "molecule_graph = esp.Graph(molecule)\n",
    "\n",
    "espaloma_model = torch.load(\"espaloma_model.pt\")\n",
    "espaloma_model(molecule_graph.heterograph)\n",
    "openmm_system = esp.graphs.deploy.openmm_system_from_graph(molecule_graph,charge_method=\"nn\")\n",
    "\n",
    "# Store the results for each in something more accessible\n",
    "pair_forces = openmm_system.getForces()[1]\n",
    "angle_forces = openmm_system.getForces()[3]\n",
    "bond_forces = openmm_system.getForces()[2]\n",
    "torsion_forces = openmm_system.getForces()[0]"
   ]
  },
  {
   "cell_type": "code",
   "execution_count": null,
   "id": "09b333a1",
   "metadata": {},
   "outputs": [],
   "source": [
    "# get a parmed structure from openmm \n",
    "import parmed as pmd\n",
    "topology = molecule.to_topology()\n",
    "openmm_topology = topology.to_openmm()\n",
    "\n",
    "structure = pmd.openmm.load_topology(topology=openmm_topology, system=openmm_system)\n",
    "structure.bonds.sort(key=lambda x: x.atom1.idx)\n",
    "\n",
    "\n",
    "for i in range(len(compound.atoms)):\n",
    "    if compound.atoms[i].atomic_number == 6:\n",
    "        compound.atoms[i].name = 'C'\n",
    "    if compound.atoms[i].atomic_number == 1:\n",
    "        compound.atoms[i].name = 'H'\n",
    "    if compound.atoms[i].atomic_number == 7:\n",
    "        compound.atoms[i].name = 'N'\n",
    "    if compound.atoms[i].atomic_number == 16:\n",
    "        compound.atoms[i].name = 'S'\n",
    "    if compound.atoms[i].atomic_number == 8:\n",
    "        compound.atoms[i].name = 'O'\n",
    "    if compound.atoms[i].atomic_number == 9:\n",
    "        compound.atoms[i].name = 'F'\n",
    "\n",
    "import networkx  as nx\n",
    "Gopenmm = nx.Graph()\n",
    "Gparmed = nx.Graph()\n",
    "#openmm:\n",
    "for i in range(bond_forces.getNumBonds()):\n",
    "    Gopenmm.add_edge(bond_forces.getBondParameters(index=i)[0],bond_forces.getBondParameters(index=i)[1])\n",
    "#parmed\n",
    "for b in structure.bonds:\n",
    "    Gparmed.add_edge(b.atom1.idx,b.atom2.idx)\n",
    "    \n",
    "particle_types = []\n",
    "type_map = dict()\n",
    "\n",
    "#nx.rooted_tree_isomorphism\n",
    "#in here we still need to check that one known index on one corresponds to the same index on the other....\n",
    "tree_openmm = nx.bfs_tree(Gopenmm,0)\n",
    "tree_parmed = nx.bfs_tree(Gparmed,0)\n",
    "if nx.is_isomorphic(Gopenmm,Gparmed):\n",
    "#if nx.isomorphism.tree_isomorphism(tree_openmm,tree_parmed):  <- want this work\n",
    "    for i in range(pair_forces.getNumParticles()):\n",
    "        pair_parms = pair_forces.getParticleParameters(index=i)\n",
    "        sigma = pair_parms[1]/pair_parms[1].unit\n",
    "        epsilon = pair_parms[2]/pair_parms[2].unit\n",
    "        if (sigma, epsilon) not in particle_types: \n",
    "            particle_types.append((sigma, epsilon))\n",
    "    \n",
    "        type_map[compound.atoms[i].molecule_atom_index] = \"\".join([compound.atoms[i].name , str(particle_types.index((sigma, epsilon)))])"
   ]
  },
  {
   "cell_type": "code",
   "execution_count": null,
   "id": "c3eebc8a",
   "metadata": {
    "scrolled": false
   },
   "outputs": [],
   "source": [
    "# Rename the particle types so that they match the xml file\n",
    "# This is needed when we aren't using SMARTS matching with Foyer.\n",
    "\n",
    "#mol2comp = mb.load(mol2_file)\n",
    "#mol2comp = monomer\n",
    "#\n",
    "#for index in type_map:\n",
    "#    #print(index, type_map[index])\n",
    "#    mol2comp[index].name = type_map[index]\n",
    "\n",
    "#Create your dictionaries:\n",
    "\n",
    "bond_types = []\n",
    "bond_dict = dict() \n",
    "\n",
    "for i in range(bond_forces.getNumBonds()):\n",
    "    bond_parms = bond_forces.getBondParameters(index=i)\n",
    "    l0 = bond_parms[2]/bond_parms[2].unit\n",
    "    k = bond_parms[3]/bond_parms[3].unit\n",
    "    bond_dict[type_map[bond_parms[0]],type_map[bond_parms[1]]] = {'k':k,'l0':l0}\n",
    "#print(bond_dict)\n",
    "\n",
    "\n",
    "angle_types = []\n",
    "angle_dict = dict()\n",
    "\n",
    "for i in range(angle_forces.getNumAngles()):\n",
    "    angle_parms = angle_forces.getAngleParameters(index=i)\n",
    "    k = angle_parms[4]/angle_parms[4].unit\n",
    "    t0 = angle_parms[3]/angle_parms[3].unit  \n",
    "    angle_dict[type_map[angle_parms[0]],type_map[angle_parms[1]],type_map[angle_parms[2]]] = {'k':k,'t0':t0}\n",
    "#print(angle_dict)\n",
    "\n",
    "\n",
    "\n",
    "dihedral_types = []\n",
    "dihedral_dict = {}\n",
    "\n",
    "for i in range(torsion_forces.getNumTorsions()):\n",
    "    if i%6==0:\n",
    "        periodicity=[]\n",
    "        phase = []\n",
    "        k = []\n",
    "    dihedral_parms = torsion_forces.getTorsionParameters(index=i)\n",
    "    periodicity.append(dihedral_parms[4])  \n",
    "    phase.append( dihedral_parms[5]/dihedral_parms[5].unit)\n",
    "    k.append(dihedral_parms[6]/dihedral_parms[6].unit)\n",
    "    dt = (type_map[dihedral_parms[0]],type_map[dihedral_parms[1]],type_map[dihedral_parms[2]],\n",
    "                  type_map[dihedral_parms[3]])\n",
    "   \n",
    "\n",
    "    if periodicity[-1]==6:\n",
    "        dihedral_dict[dt] = {'periodicity':periodicity,'k':k,'phase':phase}\n",
    "#print(dihedral_dict)\n",
    "\n",
    "\n",
    "\n",
    "\n",
    "nonbonded_types = []\n",
    "nonbonded_dict = {}\n",
    "\n",
    "for i in range(pair_forces.getNumParticles()):\n",
    "    nonbonded_parms = pair_forces.getParticleParameters(index=i)\n",
    "    charge = nonbonded_parms[0]/nonbonded_parms[0].unit\n",
    "    sigma = nonbonded_parms[1]/nonbonded_parms[1].unit\n",
    "    epsilon = nonbonded_parms[2]/nonbonded_parms[2].unit\n",
    "    #if (charge,sigma,epsilon) not in nonbonded_types:\n",
    "    nonbonded_types.append((charge,sigma,epsilon))\n",
    "    nonbonded_dict[(type_map[i])]={'charge':charge,'sigma':sigma,'epsilon':epsilon}\n",
    "    #print(type_map[i], nonbonded_dict[(type_map[i])])"
   ]
  },
  {
   "cell_type": "code",
   "execution_count": null,
   "id": "cc75f0f5",
   "metadata": {},
   "outputs": [],
   "source": [
    "#renaming the mol2 atoms to match espaloma atom types, this only works if the indices match \n",
    "\n",
    "mol2comp = mon_dim\n",
    "\n",
    "for index in type_map:\n",
    "    print(index, type_map[index],mol2comp[index].name)\n",
    "    mol2comp[index].name = type_map[index]"
   ]
  },
  {
   "cell_type": "code",
   "execution_count": null,
   "id": "dda945e2",
   "metadata": {},
   "outputs": [],
   "source": [
    "# Save the forcefield XML file for future use, so that we don't have to repeat the espaloma process everytime\n",
    "mbuild_to_foyer_xml(\n",
    "    file_name=xml_filename, #change this to whatever you want to save your xml file as\n",
    "    compound=mol2comp,\n",
    "    bond_params=bond_dict,\n",
    "    angle_params=angle_dict,\n",
    "    dihedral_params=dihedral_dict,\n",
    "    dihedral_type=\"periodic\",\n",
    "    non_bonded_params=nonbonded_dict,\n",
    "    combining_rule=\"geometric\",\n",
    "    name=\"\",\n",
    "    version=\"\",\n",
    "    coulomb14scale=1.0,\n",
    "    lj14scale=1.0)\n",
    "\n",
    "#Save the mb.Compound with the new atom type names for future use.\n",
    "mol2comp.save(typed_mol2, overwrite=True) #change this to match your molecule name. "
   ]
  },
  {
   "cell_type": "code",
   "execution_count": null,
   "id": "80d8bb1d",
   "metadata": {},
   "outputs": [],
   "source": []
  }
 ],
 "metadata": {
  "kernelspec": {
   "display_name": "Python 3 (ipykernel)",
   "language": "python",
   "name": "python3"
  },
  "language_info": {
   "codemirror_mode": {
    "name": "ipython",
    "version": 3
   },
   "file_extension": ".py",
   "mimetype": "text/x-python",
   "name": "python",
   "nbconvert_exporter": "python",
   "pygments_lexer": "ipython3",
   "version": "3.9.16"
  }
 },
 "nbformat": 4,
 "nbformat_minor": 5
}
