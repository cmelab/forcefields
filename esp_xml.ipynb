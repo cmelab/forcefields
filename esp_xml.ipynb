{
 "cells": [
  {
   "cell_type": "code",
   "execution_count": 1,
   "id": "1d3e1c41",
   "metadata": {},
   "outputs": [],
   "source": [
    "pdb_file = \"/Users/madilyn/Projects/repos/forcefields/pdbfiles/P3HT.pdb\"\n",
    "mol2file = '/Users/madilyn/Projects/repos/forcefields/mol2files/p3ht_md.mol2'\n",
    "xml_filename = \"/Users/madilyn/Projects/repos/forcefields/xml_files/p3ht.xml\"\n",
    "typed_mol2 = \"/Users/madilyn/Projects/repos/forcefields/mol2files/p3ht_typed.mol2\""
   ]
  },
  {
   "cell_type": "code",
   "execution_count": 2,
   "id": "dcdfde94",
   "metadata": {},
   "outputs": [
    {
     "name": "stderr",
     "output_type": "stream",
     "text": [
      "Warning: importing 'simtk.openmm' is deprecated.  Import 'openmm' instead.\n",
      "LICENSE: Could not open license file \"oe_license.txt\" in local directory\n",
      "LICENSE: N.B. OE_LICENSE environment variable is not set\n",
      "LICENSE: N.B. OE_DIR environment variable is not set\n",
      "LICENSE: No product keys!\n",
      "LICENSE: No product keys!\n",
      "LICENSE: No product keys!\n",
      "Warning: Unable to load toolkit 'OpenEye Toolkit'. The Open Force Field Toolkit does not require the OpenEye Toolkits, and can use RDKit/AmberTools instead. However, if you have a valid license for the OpenEye Toolkits, consider installing them for faster performance and additional file format support: https://docs.eyesopen.com/toolkits/python/quickstart-python/linuxosx.html OpenEye offers free Toolkit licenses for academics: https://www.eyesopen.com/academic-licensing\n",
      "LICENSE: No product keys!\n"
     ]
    }
   ],
   "source": [
    "from writers import foyer_xml_writer\n",
    "from writers.foyer_xml_writer import parmed_to_foyer_xml, mbuild_to_foyer_xml\n",
    "from bondwalk import bond_walk\n",
    "from bondwalk.bond_walk import MadAtom, MadBond, BondWalker\n",
    "\n",
    "import ele\n",
    "import espaloma as esp\n",
    "import forcefield_utilities as ffutils\n",
    "import foyer\n",
    "import gmso\n",
    "import mbuild as mb\n",
    "from mbuild.lib.recipes import Polymer\n",
    "from mbuild.formats.hoomd_forcefield import create_hoomd_forcefield\n",
    "import numpy as np\n",
    "import torch\n",
    "from openff.toolkit.topology import Molecule\n",
    "from mbuild.formats.hoomd_forcefield import create_hoomd_forcefield\n",
    "import hoomd\n",
    "import gsd.hoomd\n",
    "import matplotlib.pyplot as plt\n",
    "import rdkit\n",
    "from rdkit import Chem\n",
    "\n",
    "import os\n",
    "import warnings\n",
    "warnings.filterwarnings(\"ignore\")\n",
    "\n",
    "if not os.path.exists(\"espaloma_model.pt\"):\n",
    "    os.system(\"wget http://data.wangyq.net/espaloma_model.pt\")"
   ]
  },
  {
   "cell_type": "code",
   "execution_count": 3,
   "id": "fc932949",
   "metadata": {},
   "outputs": [],
   "source": [
    "def openff_Molecule(mol2_file):\n",
    "    rdmol = Chem.MolFromMol2File(mol2file)\n",
    "    from_rdmol = Molecule.from_rdkit(rdmol)\n",
    "    atom_list = [a for a in from_rdmol.atoms if 1 not in [a.atomic_number]]\n",
    "    for atom in atom_list:\n",
    "        atom.formal_charge = 0\n",
    "    b = BondWalker(from_rdmol)\n",
    "    comp = b.fill_in_bonds()\n",
    "    from_rdmol.to_file(pdb_file,file_format=\"pdb\")\n",
    "    return comp\n",
    "\n",
    "def espaloma(molecule):\n",
    "    molecule_graph = esp.Graph(molecule)\n",
    "    espaloma_model = torch.load(\"espaloma_model.pt\")\n",
    "    espaloma_model(molecule_graph.heterograph)\n",
    "    openmm_system = esp.graphs.deploy.openmm_system_from_graph(molecule_graph,charge_method=\"nn\")\n",
    "    return openmm_system\n",
    "\n",
    "\n",
    "def dictionaries(typemap,BondForces,AngleForces,TorsionForces,PairForces):\n",
    "    bond_types = []\n",
    "    bond_dict = dict() \n",
    "    for i in range(BondForces.getNumBonds()):\n",
    "        bond_parms = BondForces.getBondParameters(index=i)\n",
    "        l0 = bond_parms[2]/bond_parms[2].unit\n",
    "        k = bond_parms[3]/bond_parms[3].unit\n",
    "        bond_dict[typemap[bond_parms[0]],typemap[bond_parms[1]]] = {'k':k,'l0':l0}\n",
    "        \n",
    "    angle_types = []\n",
    "    angle_dict = dict()\n",
    "    for i in range(AngleForces.getNumAngles()):\n",
    "        angle_parms = AngleForces.getAngleParameters(index=i)\n",
    "        k = angle_parms[4]/angle_parms[4].unit\n",
    "        t0 = angle_parms[3]/angle_parms[3].unit  \n",
    "        angle_dict[typemap[angle_parms[0]],typemap[angle_parms[1]],typemap[angle_parms[2]]] = {'k':k,'t0':t0}\n",
    "    \n",
    "    dihedral_types = []\n",
    "    dihedral_dict = {}\n",
    "    \n",
    "    for i in range(TorsionForces.getNumTorsions()):\n",
    "        if i%6==0:\n",
    "            periodicity=[]\n",
    "            phase = []\n",
    "            k = []\n",
    "        dihedral_parms = TorsionForces.getTorsionParameters(index=i)\n",
    "        periodicity.append(dihedral_parms[4])  \n",
    "        phase.append( dihedral_parms[5]/dihedral_parms[5].unit)\n",
    "        k.append(dihedral_parms[6]/dihedral_parms[6].unit)\n",
    "        dt = (typemap[dihedral_parms[0]],typemap[dihedral_parms[1]],typemap[dihedral_parms[2]],\n",
    "                      typemap[dihedral_parms[3]])\n",
    "       \n",
    "    \n",
    "        if periodicity[-1]==6:\n",
    "            dihedral_dict[dt] = {'periodicity':periodicity,'k':k,'phase':phase}\n",
    "    \n",
    "    \n",
    "    nonbonded_types = []\n",
    "    nonbonded_dict = {}\n",
    "    \n",
    "    for i in range(PairForces.getNumParticles()):\n",
    "        nonbonded_parms = PairForces.getParticleParameters(index=i)\n",
    "        charge = nonbonded_parms[0]/nonbonded_parms[0].unit\n",
    "        sigma = nonbonded_parms[1]/nonbonded_parms[1].unit\n",
    "        epsilon = nonbonded_parms[2]/nonbonded_parms[2].unit\n",
    "        nonbonded_types.append((charge,sigma,epsilon))\n",
    "        nonbonded_dict[(typemap[i])]={'charge':charge,'sigma':sigma,'epsilon':epsilon}\n",
    "    return bond_dict,angle_dict,dihedral_dict,nonbonded_dict\n",
    "\n",
    "def typing(BondForces,PairForces,molecule,omm_system):\n",
    "    import parmed as pmd\n",
    "    topology = molecule.to_topology()\n",
    "    openmm_topology = topology.to_openmm()\n",
    "    structure = pmd.openmm.load_topology(topology=openmm_topology, system=omm_system)\n",
    "    structure.bonds.sort(key=lambda x: x.atom1.idx)\n",
    "    \n",
    "    \n",
    "    for i in range(len(molecule.atoms)):\n",
    "        if molecule.atoms[i].atomic_number == 6:\n",
    "            molecule.atoms[i].name = 'C'\n",
    "        if molecule.atoms[i].atomic_number == 1:\n",
    "            molecule.atoms[i].name = 'H'\n",
    "        if molecule.atoms[i].atomic_number == 7:\n",
    "            molecule.atoms[i].name = 'N'\n",
    "        if molecule.atoms[i].atomic_number == 16:\n",
    "            molecule.atoms[i].name = 'S'\n",
    "        if molecule.atoms[i].atomic_number == 8:\n",
    "            molecule.atoms[i].name = 'O'\n",
    "        if molecule.atoms[i].atomic_number == 9:\n",
    "            molecule.atoms[i].name = 'F'\n",
    "    \n",
    "    import networkx  as nx\n",
    "    Gopenmm = nx.Graph()\n",
    "    Gparmed = nx.Graph()\n",
    "    #openmm:\n",
    "    for i in range(BondForces.getNumBonds()):\n",
    "        Gopenmm.add_edge(BondForces.getBondParameters(index=i)[0],BondForces.getBondParameters(index=i)[1])\n",
    "    #parmed\n",
    "    for b in structure.bonds:\n",
    "        Gparmed.add_edge(b.atom1.idx,b.atom2.idx)\n",
    "        \n",
    "    particle_types = []\n",
    "    type_map = dict()\n",
    "    \n",
    "    #nx.rooted_tree_isomorphism\n",
    "    #in here we still need to check that one known index on one corresponds to the same index on the other....\n",
    "    tree_openmm = nx.bfs_tree(Gopenmm,0)\n",
    "    tree_parmed = nx.bfs_tree(Gparmed,0)\n",
    "    if nx.is_isomorphic(Gopenmm,Gparmed):\n",
    "    #if nx.isomorphism.tree_isomorphism(tree_openmm,tree_parmed):  <- want this work\n",
    "        for i in range(PairForces.getNumParticles()):\n",
    "            pair_parms = PairForces.getParticleParameters(index=i)\n",
    "            sigma = pair_parms[1]/pair_parms[1].unit\n",
    "            epsilon = pair_parms[2]/pair_parms[2].unit\n",
    "            if (sigma, epsilon) not in particle_types: \n",
    "                particle_types.append((sigma, epsilon))\n",
    "            type_map[molecule.atoms[i].molecule_atom_index] = \"\".join([molecule.atoms[i].name , \n",
    "                                                                       str(particle_types.index((sigma, epsilon)))])\n",
    "    return type_map"
   ]
  },
  {
   "cell_type": "code",
   "execution_count": 4,
   "id": "ff94884f",
   "metadata": {},
   "outputs": [],
   "source": [
    "def esp_to_xml(mol2filepath,xmlfilepath,pdbfilepath,typedfilepath):\n",
    "    off_molecule = openff_Molecule(mol2_file=mol2file)\n",
    "    openmm_system = espaloma(molecule=off_molecule)\n",
    "    pair_forces = openmm_system.getForces()[1]\n",
    "    angle_forces = openmm_system.getForces()[3]\n",
    "    bond_forces = openmm_system.getForces()[2]\n",
    "    torsion_forces = openmm_system.getForces()[0]\n",
    "    type_map = typing(BondForces=bond_forces,PairForces=pair_forces,molecule=off_molecule,omm_system=openmm_system)\n",
    "    comp_rename = mb.load(pdb_file)\n",
    "    for index in type_map:\n",
    "        comp_rename[index].name = type_map[index]\n",
    "    bond_dict = dictionaries(typemap=type_map,BondForces=bond_forces,AngleForces=angle_forces,TorsionForces=torsion_forces,PairForces=pair_forces)[0]\n",
    "    angle_dict = dictionaries(typemap=type_map,BondForces=bond_forces,AngleForces=angle_forces,TorsionForces=torsion_forces,PairForces=pair_forces)[1]\n",
    "    dihedral_dict = dictionaries(typemap=type_map,BondForces=bond_forces,AngleForces=angle_forces,TorsionForces=torsion_forces,PairForces=pair_forces)[2]\n",
    "    nonbonded_dict = dictionaries(typemap=type_map,BondForces=bond_forces,AngleForces=angle_forces,TorsionForces=torsion_forces,PairForces=pair_forces)[3]\n",
    "    \n",
    "    # Save the forcefield XML file for future use, so that we don't have to repeat the espaloma process everytime\n",
    "    mbuild_to_foyer_xml(\n",
    "        file_name=xml_filename, #change this to whatever you want to save your xml file as\n",
    "        compound=comp_rename,\n",
    "        bond_params=bond_dict,\n",
    "        angle_params=angle_dict,\n",
    "        dihedral_params=dihedral_dict,\n",
    "        dihedral_type=\"periodic\",\n",
    "        non_bonded_params=nonbonded_dict,\n",
    "        combining_rule=\"geometric\",\n",
    "        name=\"\",\n",
    "        version=\"\",\n",
    "        coulomb14scale=1.0,\n",
    "        lj14scale=1.0)\n",
    "    \n",
    "    \n",
    "    #Save the mb.Compound with the new atom type names for future use.\n",
    "    comp_rename.save(typed_mol2, overwrite=True) #change this to match your molecule name. "
   ]
  },
  {
   "cell_type": "code",
   "execution_count": 5,
   "id": "9aa79243",
   "metadata": {},
   "outputs": [
    {
     "name": "stdout",
     "output_type": "stream",
     "text": [
      "Done!\n"
     ]
    }
   ],
   "source": [
    "esp_to_xml(mol2filepath=mol2file,xmlfilepath=xml_filename,pdbfilepath=pdb_file,typedfilepath=typed_mol2)"
   ]
  },
  {
   "cell_type": "code",
   "execution_count": null,
   "id": "596c8165",
   "metadata": {},
   "outputs": [],
   "source": [
    "# Save the forcefield XML file for future use, so that we don't have to repeat the espaloma process everytime\n",
    "mbuild_to_foyer_xml(\n",
    "    file_name=xml_filename, #change this to whatever you want to save your xml file as\n",
    "    compound=comp_rename,\n",
    "    bond_params=bond_dict,\n",
    "    angle_params=angle_dict,\n",
    "    dihedral_params=dihedral_dict,\n",
    "    dihedral_type=\"periodic\",\n",
    "    non_bonded_params=nonbonded_dict,\n",
    "    combining_rule=\"geometric\",\n",
    "    name=\"\",\n",
    "    version=\"\",\n",
    "    coulomb14scale=1.0,\n",
    "    lj14scale=1.0)\n",
    "\n",
    "\n",
    "#Save the mb.Compound with the new atom type names for future use.\n",
    "comp_rename.save(typed_mol2, overwrite=True) #change this to match your molecule name. "
   ]
  },
  {
   "cell_type": "markdown",
   "id": "761971d4",
   "metadata": {},
   "source": [
    "## Children Issue "
   ]
  },
  {
   "cell_type": "markdown",
   "id": "d27dbbcc",
   "metadata": {},
   "source": [
    "at this point we've successfully parameterized our monomer and dimer and resaved them with the correct atom types to match the forcefield file. We just have to determine how to extract the monomer so we can build polymers from it. We have to build the polymers from the typed monomer so it'll have the correct atom types to be able to apply the forcefield. "
   ]
  },
  {
   "cell_type": "code",
   "execution_count": null,
   "id": "4320253b",
   "metadata": {},
   "outputs": [],
   "source": [
    "p3ht_typed = mb.load(typed_mol2)\n",
    "p3ht_typed.visualize()"
   ]
  },
  {
   "cell_type": "markdown",
   "id": "e62f1390",
   "metadata": {},
   "source": [
    "try to access the mbuild children to pull just the monomer out to use for polymer building:\n",
    "\n",
    "the p3ht_typed file should have two children (the dimer and the monomer), however it only has one. \n",
    "We either have to figure out how to rmeove the dimer from this mbuild compound or extract the monomer \n",
    "to use for polymer building "
   ]
  },
  {
   "cell_type": "code",
   "execution_count": null,
   "id": "65b833fb",
   "metadata": {},
   "outputs": [],
   "source": [
    "len(p3ht_typed.children)"
   ]
  },
  {
   "cell_type": "markdown",
   "id": "d1f66780",
   "metadata": {},
   "source": [
    "Theres not an easy way to determine which atoms are part of the monomer and which are part of the dimer, but maybe if we could figure out where the origin lies we could determine that all the dimers coordinates are negative, for instance, and delete all the atoms with negative coordinates?\n",
    "\n",
    "When we save the dimer and monomer together (done in the polymer builder ipynb) we could move the dimer into negative coordinates and the monomer into positive?"
   ]
  },
  {
   "cell_type": "code",
   "execution_count": null,
   "id": "b0b5184b",
   "metadata": {},
   "outputs": [],
   "source": [
    "#I saved the dimer in negative coordinates and monomer in positive\n",
    "#This tells me that indices 0-10 and 33-48 belong to the monomer and the rest belong to the dimer \n",
    "\n",
    "for i in range(p3ht_typed.n_particles):\n",
    "    print(i,p3ht_typed[i].name,p3ht_typed[i].xyz)"
   ]
  },
  {
   "cell_type": "markdown",
   "id": "2cbac357",
   "metadata": {},
   "source": [
    "This is where I'm looking for ideas:\n",
    "1) either pull the monomer out and create a new mbuild compound of the monomer\n",
    "2) delete the dimer coordinates \n",
    "3) only parameterize the dimer, then remove the dimer bond and create a monomer from the dimer by deteting half of the dimer"
   ]
  },
  {
   "cell_type": "code",
   "execution_count": null,
   "id": "7d19a8f4",
   "metadata": {},
   "outputs": [],
   "source": [
    "#this doesn't quite work the way I was hoping \n",
    "\n",
    "dimer_indices = []\n",
    "for i in range(p3ht_typed.n_particles):\n",
    "    if p3ht_typed[i].xyz[0][0] < 1:\n",
    "        dimer_indices.append(i)\n",
    "        \n",
    "for i in dimer_indices:\n",
    "    p3ht_typed.remove(p3ht_typed[i])"
   ]
  }
 ],
 "metadata": {
  "kernelspec": {
   "display_name": "Python 3 (ipykernel)",
   "language": "python",
   "name": "python3"
  },
  "language_info": {
   "codemirror_mode": {
    "name": "ipython",
    "version": 3
   },
   "file_extension": ".py",
   "mimetype": "text/x-python",
   "name": "python",
   "nbconvert_exporter": "python",
   "pygments_lexer": "ipython3",
   "version": "3.9.16"
  }
 },
 "nbformat": 4,
 "nbformat_minor": 5
}
