{
 "cells": [
  {
   "cell_type": "code",
   "execution_count": 1,
   "id": "1d3e1c41",
   "metadata": {},
   "outputs": [],
   "source": [
    "pdb_file = \"./pdbfiles/P3HT.pdb\"\n",
    "mol2file = './mol2files/MD/P3HT.mol2'\n",
    "xml_filename = \"./xml_files/NEW.xml\"\n",
    "typed_mol2 = \"./mol2files/P3HT_typed.mol2\""
   ]
  },
  {
   "cell_type": "code",
   "execution_count": 2,
   "id": "77bdee10",
   "metadata": {},
   "outputs": [
    {
     "name": "stderr",
     "output_type": "stream",
     "text": [
      "LICENSE: Could not open license file \"oe_license.txt\" in local directory\n",
      "LICENSE: N.B. OE_LICENSE environment variable is not set\n",
      "LICENSE: N.B. OE_DIR environment variable is not set\n",
      "LICENSE: No product keys!\n",
      "LICENSE: No product keys!\n",
      "LICENSE: No product keys!\n",
      "The OpenEye Toolkits are found to be installed but not licensed and therefore will not be used.\n",
      "The OpenEye Toolkits require a (free for academics) license, see https://docs.eyesopen.com/toolkits/python/quickstart-python/license.html\n",
      "LICENSE: No product keys!\n"
     ]
    }
   ],
   "source": [
    "from functions import esp_functions\n",
    "from functions.esp_functions import openff_Molecule, espaloma, dictionaries, typing, esp_to_xml"
   ]
  },
  {
   "cell_type": "markdown",
   "id": "98f4d8b7",
   "metadata": {},
   "source": [
    "# To Parameterize a molecule all you need to do is import the functions and run the following line:"
   ]
  },
  {
   "cell_type": "code",
   "execution_count": 3,
   "id": "d601a464",
   "metadata": {},
   "outputs": [
    {
     "ename": "RadicalsNotSupportedError",
     "evalue": "The OpenFF Toolkit does not currently support parsing molecules with S- and P-block radicals. Found 1 radical electrons on molecule [H][C]1S[C]([C]2S[C]([H])[C](C([H])([H])C([H])([H])C([H])([H])C([H])([H])C([H])([H])C([H])([H])[H])[C]2[H])[C](C([H])([H])C([H])([H])C([H])([H])C([H])([H])C([H])([H])C([H])([H])[H])[C]1[H].[H][C]1S[C]([H])[C](C([H])([H])C([H])([H])C([H])([H])C([H])([H])C([H])([H])C([H])([H])[H])[C]1[H].",
     "output_type": "error",
     "traceback": [
      "\u001b[0;31m---------------------------------------------------------------------------\u001b[0m",
      "\u001b[0;31mRadicalsNotSupportedError\u001b[0m                 Traceback (most recent call last)",
      "Cell \u001b[0;32mIn[3], line 1\u001b[0m\n\u001b[0;32m----> 1\u001b[0m \u001b[43mesp_to_xml\u001b[49m\u001b[43m(\u001b[49m\u001b[43mMOL2FILEPATH\u001b[49m\u001b[38;5;241;43m=\u001b[39;49m\u001b[43mmol2file\u001b[49m\u001b[43m,\u001b[49m\u001b[43mXMLFILEPATH\u001b[49m\u001b[38;5;241;43m=\u001b[39;49m\u001b[43mxml_filename\u001b[49m\u001b[43m,\u001b[49m\u001b[43mPDBFILEPATH\u001b[49m\u001b[38;5;241;43m=\u001b[39;49m\u001b[43mpdb_file\u001b[49m\u001b[43m,\u001b[49m\u001b[43mTYPEDFILEPATH\u001b[49m\u001b[38;5;241;43m=\u001b[39;49m\u001b[43mtyped_mol2\u001b[49m\u001b[43m)\u001b[49m\n",
      "File \u001b[0;32m~/Projects/cmelab/madilyn-ff/functions/esp_functions.py:153\u001b[0m, in \u001b[0;36mesp_to_xml\u001b[0;34m(MOL2FILEPATH, XMLFILEPATH, PDBFILEPATH, TYPEDFILEPATH)\u001b[0m\n\u001b[1;32m    152\u001b[0m \u001b[38;5;28;01mdef\u001b[39;00m \u001b[38;5;21mesp_to_xml\u001b[39m(MOL2FILEPATH,XMLFILEPATH,PDBFILEPATH,TYPEDFILEPATH):\n\u001b[0;32m--> 153\u001b[0m     off_molecule \u001b[38;5;241m=\u001b[39m \u001b[43mopenff_Molecule\u001b[49m\u001b[43m(\u001b[49m\u001b[43mMOL2FILEPATH\u001b[49m\u001b[38;5;241;43m=\u001b[39;49m\u001b[43mMOL2FILEPATH\u001b[49m\u001b[43m,\u001b[49m\u001b[43mPDBFILEPATH\u001b[49m\u001b[38;5;241;43m=\u001b[39;49m\u001b[43mPDBFILEPATH\u001b[49m\u001b[43m)\u001b[49m\n\u001b[1;32m    154\u001b[0m     openmm_system \u001b[38;5;241m=\u001b[39m espaloma(molecule\u001b[38;5;241m=\u001b[39moff_molecule)\n\u001b[1;32m    155\u001b[0m     pair_forces \u001b[38;5;241m=\u001b[39m openmm_system\u001b[38;5;241m.\u001b[39mgetForces()[\u001b[38;5;241m1\u001b[39m]\n",
      "File \u001b[0;32m~/Projects/cmelab/madilyn-ff/functions/esp_functions.py:34\u001b[0m, in \u001b[0;36mopenff_Molecule\u001b[0;34m(MOL2FILEPATH, PDBFILEPATH)\u001b[0m\n\u001b[1;32m     32\u001b[0m \u001b[38;5;28;01mdef\u001b[39;00m \u001b[38;5;21mopenff_Molecule\u001b[39m(MOL2FILEPATH,PDBFILEPATH):\n\u001b[1;32m     33\u001b[0m     rdmol \u001b[38;5;241m=\u001b[39m Chem\u001b[38;5;241m.\u001b[39mMolFromMol2File(MOL2FILEPATH)\n\u001b[0;32m---> 34\u001b[0m     from_rdmol \u001b[38;5;241m=\u001b[39m \u001b[43mMolecule\u001b[49m\u001b[38;5;241;43m.\u001b[39;49m\u001b[43mfrom_rdkit\u001b[49m\u001b[43m(\u001b[49m\u001b[43mrdmol\u001b[49m\u001b[43m)\u001b[49m\n\u001b[1;32m     35\u001b[0m     atom_list \u001b[38;5;241m=\u001b[39m [a \u001b[38;5;28;01mfor\u001b[39;00m a \u001b[38;5;129;01min\u001b[39;00m from_rdmol\u001b[38;5;241m.\u001b[39matoms \u001b[38;5;28;01mif\u001b[39;00m \u001b[38;5;241m1\u001b[39m \u001b[38;5;129;01mnot\u001b[39;00m \u001b[38;5;129;01min\u001b[39;00m [a\u001b[38;5;241m.\u001b[39matomic_number]]\n\u001b[1;32m     36\u001b[0m     \u001b[38;5;28;01mfor\u001b[39;00m atom \u001b[38;5;129;01min\u001b[39;00m atom_list:\n",
      "File \u001b[0;32m~/anaconda3/envs/ff3/lib/python3.9/site-packages/openff/toolkit/utils/base_wrapper.py:55\u001b[0m, in \u001b[0;36mToolkitWrapper.requires_toolkit.<locals>.decorator.<locals>.wrapped_function\u001b[0;34m(*args, **kwargs)\u001b[0m\n\u001b[1;32m     51\u001b[0m     msg \u001b[38;5;241m=\u001b[39m \u001b[38;5;124m\"\u001b[39m\u001b[38;5;124mThis function requires the \u001b[39m\u001b[38;5;132;01m{}\u001b[39;00m\u001b[38;5;124m toolkit\u001b[39m\u001b[38;5;124m\"\u001b[39m\u001b[38;5;241m.\u001b[39mformat(\n\u001b[1;32m     52\u001b[0m         \u001b[38;5;28mcls\u001b[39m\u001b[38;5;241m.\u001b[39m_toolkit_name\n\u001b[1;32m     53\u001b[0m     )\n\u001b[1;32m     54\u001b[0m     \u001b[38;5;28;01mraise\u001b[39;00m ToolkitUnavailableException(msg)\n\u001b[0;32m---> 55\u001b[0m value \u001b[38;5;241m=\u001b[39m \u001b[43mfunc\u001b[49m\u001b[43m(\u001b[49m\u001b[38;5;241;43m*\u001b[39;49m\u001b[43margs\u001b[49m\u001b[43m,\u001b[49m\u001b[43m \u001b[49m\u001b[38;5;241;43m*\u001b[39;49m\u001b[38;5;241;43m*\u001b[39;49m\u001b[43mkwargs\u001b[49m\u001b[43m)\u001b[49m\n\u001b[1;32m     56\u001b[0m \u001b[38;5;28;01mreturn\u001b[39;00m value\n",
      "File \u001b[0;32m~/anaconda3/envs/ff3/lib/python3.9/site-packages/openff/toolkit/topology/molecule.py:4322\u001b[0m, in \u001b[0;36mFrozenMolecule.from_rdkit\u001b[0;34m(cls, rdmol, allow_undefined_stereo, hydrogens_are_explicit)\u001b[0m\n\u001b[1;32m   4291\u001b[0m \u001b[38;5;250m\u001b[39m\u001b[38;5;124;03m\"\"\"\u001b[39;00m\n\u001b[1;32m   4292\u001b[0m \u001b[38;5;124;03mCreate a Molecule from an RDKit molecule.\u001b[39;00m\n\u001b[1;32m   4293\u001b[0m \n\u001b[0;32m   (...)\u001b[0m\n\u001b[1;32m   4319\u001b[0m \n\u001b[1;32m   4320\u001b[0m \u001b[38;5;124;03m\"\"\"\u001b[39;00m\n\u001b[1;32m   4321\u001b[0m toolkit \u001b[38;5;241m=\u001b[39m RDKitToolkitWrapper()\n\u001b[0;32m-> 4322\u001b[0m molecule \u001b[38;5;241m=\u001b[39m \u001b[43mtoolkit\u001b[49m\u001b[38;5;241;43m.\u001b[39;49m\u001b[43mfrom_rdkit\u001b[49m\u001b[43m(\u001b[49m\n\u001b[1;32m   4323\u001b[0m \u001b[43m    \u001b[49m\u001b[43mrdmol\u001b[49m\u001b[43m,\u001b[49m\n\u001b[1;32m   4324\u001b[0m \u001b[43m    \u001b[49m\u001b[43mallow_undefined_stereo\u001b[49m\u001b[38;5;241;43m=\u001b[39;49m\u001b[43mallow_undefined_stereo\u001b[49m\u001b[43m,\u001b[49m\n\u001b[1;32m   4325\u001b[0m \u001b[43m    \u001b[49m\u001b[43mhydrogens_are_explicit\u001b[49m\u001b[38;5;241;43m=\u001b[39;49m\u001b[43mhydrogens_are_explicit\u001b[49m\u001b[43m,\u001b[49m\n\u001b[1;32m   4326\u001b[0m \u001b[43m    \u001b[49m\u001b[43m_cls\u001b[49m\u001b[38;5;241;43m=\u001b[39;49m\u001b[38;5;28;43mcls\u001b[39;49m\u001b[43m,\u001b[49m\n\u001b[1;32m   4327\u001b[0m \u001b[43m\u001b[49m\u001b[43m)\u001b[49m\n\u001b[1;32m   4328\u001b[0m \u001b[38;5;28;01mreturn\u001b[39;00m molecule\n",
      "File \u001b[0;32m~/anaconda3/envs/ff3/lib/python3.9/site-packages/openff/toolkit/utils/rdkit_wrapper.py:1845\u001b[0m, in \u001b[0;36mRDKitToolkitWrapper.from_rdkit\u001b[0;34m(self, rdmol, allow_undefined_stereo, hydrogens_are_explicit, _cls)\u001b[0m\n\u001b[1;32m   1839\u001b[0m \u001b[38;5;28;01mfor\u001b[39;00m rda \u001b[38;5;129;01min\u001b[39;00m rdmol\u001b[38;5;241m.\u001b[39mGetAtoms():\n\u001b[1;32m   1840\u001b[0m     \u001b[38;5;66;03m# See issues #1075 for some discussion on radicals\u001b[39;00m\n\u001b[1;32m   1841\u001b[0m     \u001b[38;5;28;01mif\u001b[39;00m (\n\u001b[1;32m   1842\u001b[0m         rda\u001b[38;5;241m.\u001b[39mGetAtomicNum() \u001b[38;5;129;01mnot\u001b[39;00m \u001b[38;5;129;01min\u001b[39;00m d_and_f_block_elements\n\u001b[1;32m   1843\u001b[0m         \u001b[38;5;129;01mand\u001b[39;00m rda\u001b[38;5;241m.\u001b[39mGetNumRadicalElectrons() \u001b[38;5;241m!=\u001b[39m \u001b[38;5;241m0\u001b[39m\n\u001b[1;32m   1844\u001b[0m     ):\n\u001b[0;32m-> 1845\u001b[0m         \u001b[38;5;28;01mraise\u001b[39;00m RadicalsNotSupportedError(\n\u001b[1;32m   1846\u001b[0m             \u001b[38;5;124m\"\u001b[39m\u001b[38;5;124mThe OpenFF Toolkit does not currently support parsing molecules with S- and P-block radicals. \u001b[39m\u001b[38;5;124m\"\u001b[39m\n\u001b[1;32m   1847\u001b[0m             \u001b[38;5;124mf\u001b[39m\u001b[38;5;124m\"\u001b[39m\u001b[38;5;124mFound \u001b[39m\u001b[38;5;132;01m{\u001b[39;00mrda\u001b[38;5;241m.\u001b[39mGetNumRadicalElectrons()\u001b[38;5;132;01m}\u001b[39;00m\u001b[38;5;124m radical electrons on molecule \u001b[39m\u001b[38;5;132;01m{\u001b[39;00mChem\u001b[38;5;241m.\u001b[39mMolToSmiles(rdmol)\u001b[38;5;132;01m}\u001b[39;00m\u001b[38;5;124m.\u001b[39m\u001b[38;5;124m\"\u001b[39m\n\u001b[1;32m   1848\u001b[0m         )\n\u001b[1;32m   1850\u001b[0m     rd_idx \u001b[38;5;241m=\u001b[39m rda\u001b[38;5;241m.\u001b[39mGetIdx()\n\u001b[1;32m   1851\u001b[0m     \u001b[38;5;66;03m# if the molecule was made from a mapped smiles this has been hidden\u001b[39;00m\n\u001b[1;32m   1852\u001b[0m     \u001b[38;5;66;03m# so that it does not affect the sterochemistry tags\u001b[39;00m\n",
      "\u001b[0;31mRadicalsNotSupportedError\u001b[0m: The OpenFF Toolkit does not currently support parsing molecules with S- and P-block radicals. Found 1 radical electrons on molecule [H][C]1S[C]([C]2S[C]([H])[C](C([H])([H])C([H])([H])C([H])([H])C([H])([H])C([H])([H])C([H])([H])[H])[C]2[H])[C](C([H])([H])C([H])([H])C([H])([H])C([H])([H])C([H])([H])C([H])([H])[H])[C]1[H].[H][C]1S[C]([H])[C](C([H])([H])C([H])([H])C([H])([H])C([H])([H])C([H])([H])C([H])([H])[H])[C]1[H]."
     ]
    }
   ],
   "source": [
    "esp_to_xml(MOL2FILEPATH=mol2file,XMLFILEPATH=xml_filename,PDBFILEPATH=pdb_file,TYPEDFILEPATH=typed_mol2)"
   ]
  },
  {
   "cell_type": "markdown",
   "id": "761971d4",
   "metadata": {},
   "source": [
    "## Children Issue "
   ]
  },
  {
   "cell_type": "markdown",
   "id": "d27dbbcc",
   "metadata": {},
   "source": [
    "at this point we've successfully parameterized our monomer and dimer and resaved them with the correct atom types to match the forcefield file. We just have to determine how to extract the monomer so we can build polymers from it. We have to build the polymers from the typed monomer so it'll have the correct atom types to be able to apply the forcefield. "
   ]
  },
  {
   "cell_type": "code",
   "execution_count": null,
   "id": "4320253b",
   "metadata": {},
   "outputs": [],
   "source": [
    "p3ht_typed = mb.load(typed_mol2)\n",
    "p3ht_typed.visualize()"
   ]
  },
  {
   "cell_type": "markdown",
   "id": "e62f1390",
   "metadata": {},
   "source": [
    "try to access the mbuild children to pull just the monomer out to use for polymer building:\n",
    "\n",
    "the p3ht_typed file should have two children (the dimer and the monomer), however it only has one. \n",
    "We either have to figure out how to rmeove the dimer from this mbuild compound or extract the monomer \n",
    "to use for polymer building "
   ]
  },
  {
   "cell_type": "code",
   "execution_count": null,
   "id": "65b833fb",
   "metadata": {},
   "outputs": [],
   "source": [
    "len(p3ht_typed.children)"
   ]
  },
  {
   "cell_type": "markdown",
   "id": "d1f66780",
   "metadata": {},
   "source": [
    "Theres not an easy way to determine which atoms are part of the monomer and which are part of the dimer, but maybe if we could figure out where the origin lies we could determine that all the dimers coordinates are negative, for instance, and delete all the atoms with negative coordinates?\n",
    "\n",
    "When we save the dimer and monomer together (done in the polymer builder ipynb) we could move the dimer into negative coordinates and the monomer into positive?"
   ]
  },
  {
   "cell_type": "code",
   "execution_count": null,
   "id": "b0b5184b",
   "metadata": {},
   "outputs": [],
   "source": [
    "#I saved the dimer in negative coordinates and monomer in positive\n",
    "#This tells me that indices 0-10 and 33-48 belong to the monomer and the rest belong to the dimer \n",
    "\n",
    "for i in range(p3ht_typed.n_particles):\n",
    "    print(i,p3ht_typed[i].name,p3ht_typed[i].xyz)"
   ]
  },
  {
   "cell_type": "markdown",
   "id": "2cbac357",
   "metadata": {},
   "source": [
    "This is where I'm looking for ideas:\n",
    "1) either pull the monomer out and create a new mbuild compound of the monomer\n",
    "2) delete the dimer coordinates \n",
    "3) only parameterize the dimer, then remove the dimer bond and create a monomer from the dimer by deteting half of the dimer"
   ]
  },
  {
   "cell_type": "code",
   "execution_count": null,
   "id": "7d19a8f4",
   "metadata": {},
   "outputs": [],
   "source": [
    "#this doesn't quite work the way I was hoping \n",
    "\n",
    "dimer_indices = []\n",
    "for i in range(p3ht_typed.n_particles):\n",
    "    if p3ht_typed[i].xyz[0][0] < 1:\n",
    "        dimer_indices.append(i)\n",
    "        \n",
    "for i in dimer_indices:\n",
    "    p3ht_typed.remove(p3ht_typed[i])"
   ]
  }
 ],
 "metadata": {
  "kernelspec": {
   "display_name": "Python 3 (ipykernel)",
   "language": "python",
   "name": "python3"
  },
  "language_info": {
   "codemirror_mode": {
    "name": "ipython",
    "version": 3
   },
   "file_extension": ".py",
   "mimetype": "text/x-python",
   "name": "python",
   "nbconvert_exporter": "python",
   "pygments_lexer": "ipython3",
   "version": "3.9.16"
  }
 },
 "nbformat": 4,
 "nbformat_minor": 5
}
