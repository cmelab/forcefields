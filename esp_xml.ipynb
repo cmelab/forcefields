{
 "cells": [
  {
   "cell_type": "code",
   "execution_count": 1,
   "id": "1d3e1c41",
   "metadata": {},
   "outputs": [],
   "source": [
    "pdb_file = \"/Users/madilyn/Projects/repos/forcefields/pdbfiles/P3HT.pdb\"\n",
    "mol2file = '/Users/madilyn/Projects/repos/forcefields/mol2files/MD/P3HT.mol2'\n",
    "xml_filename = \"/Users/madilyn/Projects/repos/forcefields/xml_files/NEW.xml\"\n",
    "typed_mol2 = \"/Users/madilyn/Projects/repos/forcefields/mol2files/P3HT_typed.mol2\""
   ]
  },
  {
   "cell_type": "code",
   "execution_count": 2,
   "id": "77bdee10",
   "metadata": {},
   "outputs": [
    {
     "name": "stderr",
     "output_type": "stream",
     "text": [
      "Warning: importing 'simtk.openmm' is deprecated.  Import 'openmm' instead.\n",
      "LICENSE: Could not open license file \"oe_license.txt\" in local directory\n",
      "LICENSE: N.B. OE_LICENSE environment variable is not set\n",
      "LICENSE: N.B. OE_DIR environment variable is not set\n",
      "LICENSE: No product keys!\n",
      "LICENSE: No product keys!\n",
      "LICENSE: No product keys!\n",
      "Warning: Unable to load toolkit 'OpenEye Toolkit'. The Open Force Field Toolkit does not require the OpenEye Toolkits, and can use RDKit/AmberTools instead. However, if you have a valid license for the OpenEye Toolkits, consider installing them for faster performance and additional file format support: https://docs.eyesopen.com/toolkits/python/quickstart-python/linuxosx.html OpenEye offers free Toolkit licenses for academics: https://www.eyesopen.com/academic-licensing\n",
      "LICENSE: No product keys!\n"
     ]
    }
   ],
   "source": [
    "from functions import esp_functions\n",
    "from functions.esp_functions import openff_Molecule, espaloma, dictionaries, typing, esp_to_xml"
   ]
  },
  {
   "cell_type": "markdown",
   "id": "98f4d8b7",
   "metadata": {},
   "source": [
    "# To Parameterize a molecule all you need to do is import the functions and run the following line:"
   ]
  },
  {
   "cell_type": "code",
   "execution_count": 3,
   "id": "d601a464",
   "metadata": {},
   "outputs": [
    {
     "name": "stdout",
     "output_type": "stream",
     "text": [
      "Done!\n"
     ]
    }
   ],
   "source": [
    "esp_to_xml(MOL2FILEPATH=mol2file,XMLFILEPATH=xml_filename,PDBFILEPATH=pdb_file,TYPEDFILEPATH=typed_mol2)"
   ]
  },
  {
   "cell_type": "markdown",
   "id": "761971d4",
   "metadata": {},
   "source": [
    "## Children Issue "
   ]
  },
  {
   "cell_type": "markdown",
   "id": "d27dbbcc",
   "metadata": {},
   "source": [
    "at this point we've successfully parameterized our monomer and dimer and resaved them with the correct atom types to match the forcefield file. We just have to determine how to extract the monomer so we can build polymers from it. We have to build the polymers from the typed monomer so it'll have the correct atom types to be able to apply the forcefield. "
   ]
  },
  {
   "cell_type": "code",
   "execution_count": null,
   "id": "4320253b",
   "metadata": {},
   "outputs": [],
   "source": [
    "p3ht_typed = mb.load(typed_mol2)\n",
    "p3ht_typed.visualize()"
   ]
  },
  {
   "cell_type": "markdown",
   "id": "e62f1390",
   "metadata": {},
   "source": [
    "try to access the mbuild children to pull just the monomer out to use for polymer building:\n",
    "\n",
    "the p3ht_typed file should have two children (the dimer and the monomer), however it only has one. \n",
    "We either have to figure out how to rmeove the dimer from this mbuild compound or extract the monomer \n",
    "to use for polymer building "
   ]
  },
  {
   "cell_type": "code",
   "execution_count": null,
   "id": "65b833fb",
   "metadata": {},
   "outputs": [],
   "source": [
    "len(p3ht_typed.children)"
   ]
  },
  {
   "cell_type": "markdown",
   "id": "d1f66780",
   "metadata": {},
   "source": [
    "Theres not an easy way to determine which atoms are part of the monomer and which are part of the dimer, but maybe if we could figure out where the origin lies we could determine that all the dimers coordinates are negative, for instance, and delete all the atoms with negative coordinates?\n",
    "\n",
    "When we save the dimer and monomer together (done in the polymer builder ipynb) we could move the dimer into negative coordinates and the monomer into positive?"
   ]
  },
  {
   "cell_type": "code",
   "execution_count": null,
   "id": "b0b5184b",
   "metadata": {},
   "outputs": [],
   "source": [
    "#I saved the dimer in negative coordinates and monomer in positive\n",
    "#This tells me that indices 0-10 and 33-48 belong to the monomer and the rest belong to the dimer \n",
    "\n",
    "for i in range(p3ht_typed.n_particles):\n",
    "    print(i,p3ht_typed[i].name,p3ht_typed[i].xyz)"
   ]
  },
  {
   "cell_type": "markdown",
   "id": "2cbac357",
   "metadata": {},
   "source": [
    "This is where I'm looking for ideas:\n",
    "1) either pull the monomer out and create a new mbuild compound of the monomer\n",
    "2) delete the dimer coordinates \n",
    "3) only parameterize the dimer, then remove the dimer bond and create a monomer from the dimer by deteting half of the dimer"
   ]
  },
  {
   "cell_type": "code",
   "execution_count": null,
   "id": "7d19a8f4",
   "metadata": {},
   "outputs": [],
   "source": [
    "#this doesn't quite work the way I was hoping \n",
    "\n",
    "dimer_indices = []\n",
    "for i in range(p3ht_typed.n_particles):\n",
    "    if p3ht_typed[i].xyz[0][0] < 1:\n",
    "        dimer_indices.append(i)\n",
    "        \n",
    "for i in dimer_indices:\n",
    "    p3ht_typed.remove(p3ht_typed[i])"
   ]
  }
 ],
 "metadata": {
  "kernelspec": {
   "display_name": "Python 3 (ipykernel)",
   "language": "python",
   "name": "python3"
  },
  "language_info": {
   "codemirror_mode": {
    "name": "ipython",
    "version": 3
   },
   "file_extension": ".py",
   "mimetype": "text/x-python",
   "name": "python",
   "nbconvert_exporter": "python",
   "pygments_lexer": "ipython3",
   "version": "3.9.16"
  }
 },
 "nbformat": 4,
 "nbformat_minor": 5
}
