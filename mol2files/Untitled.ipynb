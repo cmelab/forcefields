{
 "cells": [
  {
   "cell_type": "code",
   "execution_count": 1,
   "id": "a73d5185",
   "metadata": {},
   "outputs": [],
   "source": [
    "mol2filepath = 'P3HT.mol2'"
   ]
  },
  {
   "cell_type": "code",
   "execution_count": null,
   "id": "69773f73",
   "metadata": {},
   "outputs": [],
   "source": [
    "toolkit = OpenEyeToolkitWrapper()\n",
    ">>> molecule = toolkit.from_file(mol2_file_path, file_format='mol2')"
   ]
  },
  {
   "cell_type": "code",
   "execution_count": null,
   "id": "4bc9e46b",
   "metadata": {},
   "outputs": [],
   "source": [
    "from ope import O"
   ]
  }
 ],
 "metadata": {
  "kernelspec": {
   "display_name": "Python 3 (ipykernel)",
   "language": "python",
   "name": "python3"
  },
  "language_info": {
   "codemirror_mode": {
    "name": "ipython",
    "version": 3
   },
   "file_extension": ".py",
   "mimetype": "text/x-python",
   "name": "python",
   "nbconvert_exporter": "python",
   "pygments_lexer": "ipython3",
   "version": "3.11.3"
  }
 },
 "nbformat": 4,
 "nbformat_minor": 5
}
