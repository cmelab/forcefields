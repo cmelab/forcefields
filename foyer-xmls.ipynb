{
 "cells": [
  {
   "cell_type": "code",
   "execution_count": 1,
   "id": "47a3a4d5",
   "metadata": {
    "scrolled": true
   },
   "outputs": [
    {
     "name": "stderr",
     "output_type": "stream",
     "text": [
      "LICENSE: Could not open license file \"oe_license.txt\" in local directory\n",
      "LICENSE: N.B. OE_LICENSE environment variable is not set\n",
      "LICENSE: N.B. OE_DIR environment variable is not set\n",
      "LICENSE: No product keys!\n",
      "LICENSE: No product keys!\n",
      "LICENSE: No product keys!\n",
      "LICENSE: No product keys!\n",
      "Warning: Unable to load toolkit 'OpenEye Toolkit'. The Open Force Field Toolkit does not require the OpenEye Toolkits, and can use RDKit/AmberTools instead. However, if you have a valid license for the OpenEye Toolkits, consider installing them for faster performance and additional file format support: https://docs.eyesopen.com/toolkits/python/quickstart-python/linuxosx.html OpenEye offers free Toolkit licenses for academics: https://www.eyesopen.com/academic-licensing\n"
     ]
    }
   ],
   "source": [
    "from writers import foyer_xml_writer\n",
    "from writers.foyer_xml_writer import parmed_to_foyer_xml, mbuild_to_foyer_xml, write_foyer_xml\n",
    "\n",
    "\n",
    "import ele\n",
    "import espaloma as esp\n",
    "import forcefield_utilities as ffutils\n",
    "import foyer\n",
    "import gmso\n",
    "import mbuild as mb\n",
    "from mbuild.lib.recipes import Polymer\n",
    "from mbuild.formats.hoomd_forcefield import create_hoomd_forcefield\n",
    "import numpy as np\n",
    "from openff.toolkit.topology import Molecule\n",
    "import torch\n",
    "\n",
    "\n",
    "import os\n",
    "import warnings\n",
    "warnings.filterwarnings(\"ignore\")\n",
    "\n",
    "if not os.path.exists(\"espaloma_model.pt\"):\n",
    "    os.system(\"wget http://data.wangyq.net/espaloma_model.pt\")"
   ]
  },
  {
   "cell_type": "markdown",
   "id": "00b3c879",
   "metadata": {},
   "source": [
    "# Example:\n",
    "\n",
    "### Write out a trimmed-down forcefield file that only has the parameters we're using.\n",
    "\n",
    "#### This works with our typical workflow:\n",
    "\n",
    "1. Create molecule or system in mBuild\n",
    "2. Use an existing focefield along with Foyer to apply the forcefield\n",
    "3. Write out a useable, trimmed down foyer forcefield file"
   ]
  },
  {
   "cell_type": "code",
   "execution_count": 2,
   "id": "e7afaa9e",
   "metadata": {},
   "outputs": [],
   "source": [
    "# mBuild system\n",
    "alkane = mb.load(\"CCCCC\", smiles=True)\n",
    "alkane_box = mb.fill_box(alkane, n_compounds=10, box=[2, 2, 2])\n",
    "\n",
    "# opls forcefield form foyer\n",
    "#ff = foyer.forcefields.get_forcefield(name=\"opls\")\n",
    "opls = foyer.Forcefield(name=\"oplsaa\")\n",
    "\n",
    "# parmed structure\n",
    "alkane_pmd = opls.apply(alkane_box)"
   ]
  },
  {
   "cell_type": "code",
   "execution_count": 3,
   "id": "a44405ef",
   "metadata": {},
   "outputs": [],
   "source": [
    "# Save the trimmed xml file:\n",
    "parmed_to_foyer_xml(\n",
    "    structure=alkane_pmd,\n",
    "    ff=opls,\n",
    "    file_name=\"alkane_opls.xml\",\n",
    ")"
   ]
  },
  {
   "cell_type": "code",
   "execution_count": 4,
   "id": "31dbfdee",
   "metadata": {},
   "outputs": [],
   "source": [
    "# Test out the xml file we created; we should be able to use it directly with Foyer:\n",
    "ff_test = foyer.Forcefield(forcefield_files=\"alkane_opls.xml\")\n",
    "alkane_pmd_test = ff_test.apply(alkane_box)"
   ]
  },
  {
   "cell_type": "markdown",
   "id": "1d09c6d7",
   "metadata": {},
   "source": [
    "### Try it out with GAFF"
   ]
  },
  {
   "cell_type": "code",
   "execution_count": 5,
   "id": "fb87e99e",
   "metadata": {},
   "outputs": [],
   "source": [
    "gaff = foyer.forcefields.load_GAFF()\n",
    "alkane_pmd = gaff.apply(alkane_box)\n",
    "\n",
    "parmed_to_foyer_xml(\n",
    "    structure=alkane_pmd,\n",
    "    ff=gaff,\n",
    "    file_name=\"alkane_gaff.xml\",\n",
    "    torsion_type=\"periodic\"\n",
    ")\n",
    "\n",
    "gaff_test = foyer.Forcefield(forcefield_files=\"alkane_gaff.xml\")\n",
    "alkane_gaff_test = gaff_test.apply(alkane_box)"
   ]
  },
  {
   "cell_type": "markdown",
   "id": "0b0729d9",
   "metadata": {},
   "source": [
    "# Example:\n",
    "\n",
    "### Create a foyer xml file we can use with a abstract system\n",
    "\n",
    "#### Workflow:\n",
    "1. Create molecule or system in mBuild\n",
    "2. Create data structure containing our abstract forcefield parameters\n",
    "3. Write out a useable Foyer forcefield file"
   ]
  },
  {
   "cell_type": "code",
   "execution_count": 6,
   "id": "f429fbc9",
   "metadata": {
    "scrolled": false
   },
   "outputs": [
    {
     "data": {
      "application/3dmoljs_load.v0": "<div id=\"3dmolviewer_16680346257679532\"  style=\"position: relative; width: 640px; height: 480px\">\n        <p id=\"3dmolwarning_16680346257679532\" style=\"background-color:#ffcccc;color:black\">You appear to be running in JupyterLab (or JavaScript failed to load for some other reason).  You need to install the 3dmol extension: <br>\n        <tt>jupyter labextension install jupyterlab_3dmol</tt></p>\n        </div>\n<script>\n\nvar loadScriptAsync = function(uri){\n  return new Promise((resolve, reject) => {\n    var tag = document.createElement('script');\n    tag.src = uri;\n    tag.async = true;\n    tag.onload = () => {\n      resolve();\n    };\n  var firstScriptTag = document.getElementsByTagName('script')[0];\n  firstScriptTag.parentNode.insertBefore(tag, firstScriptTag);\n});\n};\n\nif(typeof $3Dmolpromise === 'undefined') {\n$3Dmolpromise = null;\n  $3Dmolpromise = loadScriptAsync('https://cdn.jsdelivr.net/npm/3dmol@latest/build/3Dmol-min.min.js');\n}\n\nvar viewer_16680346257679532 = null;\nvar warn = document.getElementById(\"3dmolwarning_16680346257679532\");\nif(warn) {\n    warn.parentNode.removeChild(warn);\n}\n$3Dmolpromise.then(function() {\nviewer_16680346257679532 = $3Dmol.createViewer($(\"#3dmolviewer_16680346257679532\"),{backgroundColor:\"white\"});\nviewer_16680346257679532.zoomTo();\n\tviewer_16680346257679532.addModel(\"@<TRIPOS>MOLECULE\\nRES\\n9 8 1 0 1\\nSMALL\\nNO_CHARGES\\n@<TRIPOS>CRYSIN\\n   45.0000    15.0000    15.0000    90.0000    90.0000    90.0000  1  1\\n@<TRIPOS>ATOM\\n       1 A            0.0000     0.0000     0.0000 A             1 RES     \\n       2 A            5.0000     0.0000     0.0000 A             1 RES     \\n       3 A           10.0000     0.0000     0.0000 A             1 RES     \\n       4 A           15.0000    -0.0000     0.0000 A             1 RES     \\n       5 A           20.0000    -0.0000     0.0000 A             1 RES     \\n       6 A           25.0000    -0.0000     0.0000 A             1 RES     \\n       7 A           30.0000    -0.0000     0.0000 A             1 RES     \\n       8 A           35.0000    -0.0000     0.0000 A             1 RES     \\n       9 A           40.0000    -0.0000     0.0000 A             1 RES     \\n@<TRIPOS>BOND\\n       1        2        1 1\\n       2        3        2 1\\n       3        4        3 1\\n       4        5        4 1\\n       5        6        5 1\\n       6        7        6 1\\n       7        8        7 1\\n       8        9        8 1\\n@<TRIPOS>SUBSTRUCTURE\\n       1 RES             1 RESIDUE    0 **** ROOT      0\\n\",\"mol2\");\n\tviewer_16680346257679532.setStyle({\"stick\": {\"radius\": 0.2, \"color\": \"grey\"}, \"sphere\": {\"scale\": 0.3, \"colorscheme\": {}}});\n\tviewer_16680346257679532.zoomTo();\nviewer_16680346257679532.render();\n});\n</script>",
      "text/html": [
       "<div id=\"3dmolviewer_16680346257679532\"  style=\"position: relative; width: 640px; height: 480px\">\n",
       "        <p id=\"3dmolwarning_16680346257679532\" style=\"background-color:#ffcccc;color:black\">You appear to be running in JupyterLab (or JavaScript failed to load for some other reason).  You need to install the 3dmol extension: <br>\n",
       "        <tt>jupyter labextension install jupyterlab_3dmol</tt></p>\n",
       "        </div>\n",
       "<script>\n",
       "\n",
       "var loadScriptAsync = function(uri){\n",
       "  return new Promise((resolve, reject) => {\n",
       "    var tag = document.createElement('script');\n",
       "    tag.src = uri;\n",
       "    tag.async = true;\n",
       "    tag.onload = () => {\n",
       "      resolve();\n",
       "    };\n",
       "  var firstScriptTag = document.getElementsByTagName('script')[0];\n",
       "  firstScriptTag.parentNode.insertBefore(tag, firstScriptTag);\n",
       "});\n",
       "};\n",
       "\n",
       "if(typeof $3Dmolpromise === 'undefined') {\n",
       "$3Dmolpromise = null;\n",
       "  $3Dmolpromise = loadScriptAsync('https://cdn.jsdelivr.net/npm/3dmol@latest/build/3Dmol-min.min.js');\n",
       "}\n",
       "\n",
       "var viewer_16680346257679532 = null;\n",
       "var warn = document.getElementById(\"3dmolwarning_16680346257679532\");\n",
       "if(warn) {\n",
       "    warn.parentNode.removeChild(warn);\n",
       "}\n",
       "$3Dmolpromise.then(function() {\n",
       "viewer_16680346257679532 = $3Dmol.createViewer($(\"#3dmolviewer_16680346257679532\"),{backgroundColor:\"white\"});\n",
       "viewer_16680346257679532.zoomTo();\n",
       "\tviewer_16680346257679532.addModel(\"@<TRIPOS>MOLECULE\\nRES\\n9 8 1 0 1\\nSMALL\\nNO_CHARGES\\n@<TRIPOS>CRYSIN\\n   45.0000    15.0000    15.0000    90.0000    90.0000    90.0000  1  1\\n@<TRIPOS>ATOM\\n       1 A            0.0000     0.0000     0.0000 A             1 RES     \\n       2 A            5.0000     0.0000     0.0000 A             1 RES     \\n       3 A           10.0000     0.0000     0.0000 A             1 RES     \\n       4 A           15.0000    -0.0000     0.0000 A             1 RES     \\n       5 A           20.0000    -0.0000     0.0000 A             1 RES     \\n       6 A           25.0000    -0.0000     0.0000 A             1 RES     \\n       7 A           30.0000    -0.0000     0.0000 A             1 RES     \\n       8 A           35.0000    -0.0000     0.0000 A             1 RES     \\n       9 A           40.0000    -0.0000     0.0000 A             1 RES     \\n@<TRIPOS>BOND\\n       1        2        1 1\\n       2        3        2 1\\n       3        4        3 1\\n       4        5        4 1\\n       5        6        5 1\\n       6        7        6 1\\n       7        8        7 1\\n       8        9        8 1\\n@<TRIPOS>SUBSTRUCTURE\\n       1 RES             1 RESIDUE    0 **** ROOT      0\\n\",\"mol2\");\n",
       "\tviewer_16680346257679532.setStyle({\"stick\": {\"radius\": 0.2, \"color\": \"grey\"}, \"sphere\": {\"scale\": 0.3, \"colorscheme\": {}}});\n",
       "\tviewer_16680346257679532.zoomTo();\n",
       "viewer_16680346257679532.render();\n",
       "});\n",
       "</script>"
      ]
     },
     "metadata": {},
     "output_type": "display_data"
    },
    {
     "data": {
      "application/3dmoljs_load.v0": "<div id=\"3dmolviewer_1668034625841364\"  style=\"position: relative; width: 640px; height: 480px\">\n        <p id=\"3dmolwarning_1668034625841364\" style=\"background-color:#ffcccc;color:black\">You appear to be running in JupyterLab (or JavaScript failed to load for some other reason).  You need to install the 3dmol extension: <br>\n        <tt>jupyter labextension install jupyterlab_3dmol</tt></p>\n        </div>\n<script>\n\nvar loadScriptAsync = function(uri){\n  return new Promise((resolve, reject) => {\n    var tag = document.createElement('script');\n    tag.src = uri;\n    tag.async = true;\n    tag.onload = () => {\n      resolve();\n    };\n  var firstScriptTag = document.getElementsByTagName('script')[0];\n  firstScriptTag.parentNode.insertBefore(tag, firstScriptTag);\n});\n};\n\nif(typeof $3Dmolpromise === 'undefined') {\n$3Dmolpromise = null;\n  $3Dmolpromise = loadScriptAsync('https://cdn.jsdelivr.net/npm/3dmol@latest/build/3Dmol-min.min.js');\n}\n\nvar viewer_1668034625841364 = null;\nvar warn = document.getElementById(\"3dmolwarning_1668034625841364\");\nif(warn) {\n    warn.parentNode.removeChild(warn);\n}\n$3Dmolpromise.then(function() {\nviewer_1668034625841364 = $3Dmol.createViewer($(\"#3dmolviewer_1668034625841364\"),{backgroundColor:\"white\"});\nviewer_1668034625841364.zoomTo();\n\tviewer_1668034625841364.addModel(\"@<TRIPOS>MOLECULE\\nRES\\n90 80 1 0 1\\nSMALL\\nNO_CHARGES\\n@<TRIPOS>CRYSIN\\n  100.0000   100.0000   100.0000    90.0000    90.0000    90.0000  1  1\\n@<TRIPOS>ATOM\\n       1 A           26.1790    79.2130    68.0608 A             1 RES     \\n       2 A           25.3291    77.0093    63.6539 A             1 RES     \\n       3 A           24.4793    74.8056    59.2469 A             1 RES     \\n       4 A           23.6295    72.6018    54.8399 A             1 RES     \\n       5 A           22.7796    70.3981    50.4330 A             1 RES     \\n       6 A           21.9298    68.1943    46.0260 A             1 RES     \\n       7 A           21.0800    65.9906    41.6191 A             1 RES     \\n       8 A           20.2301    63.7868    37.2121 A             1 RES     \\n       9 A           19.3803    61.5831    32.8051 A             1 RES     \\n      10 A           52.3012    25.7179    71.7822 A             1 RES     \\n      11 A           56.2403    25.7820    68.7034 A             1 RES     \\n      12 A           60.1794    25.8461    65.6245 A             1 RES     \\n      13 A           64.1185    25.9103    62.5456 A             1 RES     \\n      14 A           68.0576    25.9744    59.4668 A             1 RES     \\n      15 A           71.9967    26.0386    56.3879 A             1 RES     \\n      16 A           75.9358    26.1027    53.3090 A             1 RES     \\n      17 A           79.8749    26.1669    50.2302 A             1 RES     \\n      18 A           83.8140    26.2310    47.1513 A             1 RES     \\n      19 A           92.7353    61.1210    62.8785 A             1 RES     \\n      20 A           89.5612    58.4050    65.6258 A             1 RES     \\n      21 A           86.3871    55.6889    68.3732 A             1 RES     \\n      22 A           83.2129    52.9729    71.1206 A             1 RES     \\n      23 A           80.0388    50.2569    73.8680 A             1 RES     \\n      24 A           76.8647    47.5408    76.6154 A             1 RES     \\n      25 A           73.6906    44.8248    79.3628 A             1 RES     \\n      26 A           70.5165    42.1087    82.1102 A             1 RES     \\n      27 A           67.3424    39.3927    84.8576 A             1 RES     \\n      28 A           44.0694    40.5910    25.3779 A             1 RES     \\n      29 A           39.6365    40.3070    23.0825 A             1 RES     \\n      30 A           35.2037    40.0231    20.7870 A             1 RES     \\n      31 A           30.7708    39.7391    18.4915 A             1 RES     \\n      32 A           26.3380    39.4551    16.1961 A             1 RES     \\n      33 A           21.9051    39.1712    13.9006 A             1 RES     \\n      34 A           17.4722    38.8872    11.6052 A             1 RES     \\n      35 A           13.0394    38.6032     9.3097 A             1 RES     \\n      36 A            8.6065    38.3193     7.0143 A             1 RES     \\n      37 A           53.1886    32.2425    72.4438 A             1 RES     \\n      38 A           50.0209    35.8242    70.9818 A             1 RES     \\n      39 A           46.8532    39.4059    69.5199 A             1 RES     \\n      40 A           43.6855    42.9875    68.0579 A             1 RES     \\n      41 A           40.5178    46.5692    66.5960 A             1 RES     \\n      42 A           37.3501    50.1509    65.1341 A             1 RES     \\n      43 A           34.1824    53.7326    63.6721 A             1 RES     \\n      44 A           31.0147    57.3143    62.2102 A             1 RES     \\n      45 A           27.8471    60.8960    60.7482 A             1 RES     \\n      46 A           37.9723    59.4101    17.3402 A             1 RES     \\n      47 A           33.7611    61.1858    19.3682 A             1 RES     \\n      48 A           29.5499    62.9615    21.3961 A             1 RES     \\n      49 A           25.3387    64.7372    23.4241 A             1 RES     \\n      50 A           21.1274    66.5129    25.4520 A             1 RES     \\n      51 A           16.9162    68.2886    27.4799 A             1 RES     \\n      52 A           12.7050    70.0643    29.5079 A             1 RES     \\n      53 A            8.4938    71.8400    31.5358 A             1 RES     \\n      54 A            4.2826    73.6157    33.5637 A             1 RES     \\n      55 A           41.1995    58.4489     8.0810 A             1 RES     \\n      56 A           40.0600    62.6697    10.5073 A             1 RES     \\n      57 A           38.9206    66.8904    12.9336 A             1 RES     \\n      58 A           37.7811    71.1112    15.3599 A             1 RES     \\n      59 A           36.6417    75.3319    17.7862 A             1 RES     \\n      60 A           35.5022    79.5527    20.2124 A             1 RES     \\n      61 A           34.3628    83.7734    22.6387 A             1 RES     \\n      62 A           33.2233    87.9942    25.0650 A             1 RES     \\n      63 A           32.0839    92.2150    27.4913 A             1 RES     \\n      64 A           50.5840    51.1944    51.3647 A             1 RES     \\n      65 A           51.1789    47.0557    54.1064 A             1 RES     \\n      66 A           51.7738    42.9169    56.8481 A             1 RES     \\n      67 A           52.3688    38.7782    59.5899 A             1 RES     \\n      68 A           52.9637    34.6395    62.3316 A             1 RES     \\n      69 A           53.5586    30.5008    65.0733 A             1 RES     \\n      70 A           54.1535    26.3621    67.8150 A             1 RES     \\n      71 A           54.7484    22.2233    70.5568 A             1 RES     \\n      72 A           55.3433    18.0846    73.2985 A             1 RES     \\n      73 A           75.2965    42.2424    54.1021 A             1 RES     \\n      74 A           70.4658    41.0280    54.5380 A             1 RES     \\n      75 A           65.6352    39.8136    54.9739 A             1 RES     \\n      76 A           60.8045    38.5991    55.4098 A             1 RES     \\n      77 A           55.9739    37.3847    55.8456 A             1 RES     \\n      78 A           51.1433    36.1702    56.2815 A             1 RES     \\n      79 A           46.3126    34.9558    56.7174 A             1 RES     \\n      80 A           41.4820    33.7414    57.1533 A             1 RES     \\n      81 A           36.6513    32.5269    57.5891 A             1 RES     \\n      82 A           43.2524    68.5760    63.6925 A             1 RES     \\n      83 A           46.9869    71.5719    62.2509 A             1 RES     \\n      84 A           50.7214    74.5677    60.8092 A             1 RES     \\n      85 A           54.4559    77.5636    59.3676 A             1 RES     \\n      86 A           58.1904    80.5594    57.9260 A             1 RES     \\n      87 A           61.9249    83.5553    56.4843 A             1 RES     \\n      88 A           65.6594    86.5511    55.0427 A             1 RES     \\n      89 A           69.3939    89.5470    53.6010 A             1 RES     \\n      90 A           73.1284    92.5428    52.1594 A             1 RES     \\n@<TRIPOS>BOND\\n       1        2        1 1\\n       2        3        2 1\\n       3        4        3 1\\n       4        5        4 1\\n       5        6        5 1\\n       6        7        6 1\\n       7        8        7 1\\n       8        9        8 1\\n       9       11       10 1\\n      10       12       11 1\\n      11       13       12 1\\n      12       14       13 1\\n      13       15       14 1\\n      14       16       15 1\\n      15       17       16 1\\n      16       18       17 1\\n      17       20       19 1\\n      18       21       20 1\\n      19       22       21 1\\n      20       23       22 1\\n      21       24       23 1\\n      22       25       24 1\\n      23       26       25 1\\n      24       27       26 1\\n      25       29       28 1\\n      26       30       29 1\\n      27       31       30 1\\n      28       32       31 1\\n      29       33       32 1\\n      30       34       33 1\\n      31       35       34 1\\n      32       36       35 1\\n      33       38       37 1\\n      34       39       38 1\\n      35       40       39 1\\n      36       41       40 1\\n      37       42       41 1\\n      38       43       42 1\\n      39       44       43 1\\n      40       45       44 1\\n      41       47       46 1\\n      42       48       47 1\\n      43       49       48 1\\n      44       50       49 1\\n      45       51       50 1\\n      46       52       51 1\\n      47       53       52 1\\n      48       54       53 1\\n      49       56       55 1\\n      50       57       56 1\\n      51       58       57 1\\n      52       59       58 1\\n      53       60       59 1\\n      54       61       60 1\\n      55       62       61 1\\n      56       63       62 1\\n      57       65       64 1\\n      58       66       65 1\\n      59       67       66 1\\n      60       68       67 1\\n      61       69       68 1\\n      62       70       69 1\\n      63       71       70 1\\n      64       72       71 1\\n      65       74       73 1\\n      66       75       74 1\\n      67       76       75 1\\n      68       77       76 1\\n      69       78       77 1\\n      70       79       78 1\\n      71       80       79 1\\n      72       81       80 1\\n      73       83       82 1\\n      74       84       83 1\\n      75       85       84 1\\n      76       86       85 1\\n      77       87       86 1\\n      78       88       87 1\\n      79       89       88 1\\n      80       90       89 1\\n@<TRIPOS>SUBSTRUCTURE\\n       1 RES             1 RESIDUE    0 **** ROOT      0\\n\",\"mol2\");\n\tviewer_1668034625841364.setStyle({\"stick\": {\"radius\": 0.2, \"color\": \"grey\"}, \"sphere\": {\"scale\": 0.3, \"colorscheme\": {}}});\n\tviewer_1668034625841364.zoomTo();\nviewer_1668034625841364.render();\n});\n</script>",
      "text/html": [
       "<div id=\"3dmolviewer_1668034625841364\"  style=\"position: relative; width: 640px; height: 480px\">\n",
       "        <p id=\"3dmolwarning_1668034625841364\" style=\"background-color:#ffcccc;color:black\">You appear to be running in JupyterLab (or JavaScript failed to load for some other reason).  You need to install the 3dmol extension: <br>\n",
       "        <tt>jupyter labextension install jupyterlab_3dmol</tt></p>\n",
       "        </div>\n",
       "<script>\n",
       "\n",
       "var loadScriptAsync = function(uri){\n",
       "  return new Promise((resolve, reject) => {\n",
       "    var tag = document.createElement('script');\n",
       "    tag.src = uri;\n",
       "    tag.async = true;\n",
       "    tag.onload = () => {\n",
       "      resolve();\n",
       "    };\n",
       "  var firstScriptTag = document.getElementsByTagName('script')[0];\n",
       "  firstScriptTag.parentNode.insertBefore(tag, firstScriptTag);\n",
       "});\n",
       "};\n",
       "\n",
       "if(typeof $3Dmolpromise === 'undefined') {\n",
       "$3Dmolpromise = null;\n",
       "  $3Dmolpromise = loadScriptAsync('https://cdn.jsdelivr.net/npm/3dmol@latest/build/3Dmol-min.min.js');\n",
       "}\n",
       "\n",
       "var viewer_1668034625841364 = null;\n",
       "var warn = document.getElementById(\"3dmolwarning_1668034625841364\");\n",
       "if(warn) {\n",
       "    warn.parentNode.removeChild(warn);\n",
       "}\n",
       "$3Dmolpromise.then(function() {\n",
       "viewer_1668034625841364 = $3Dmol.createViewer($(\"#3dmolviewer_1668034625841364\"),{backgroundColor:\"white\"});\n",
       "viewer_1668034625841364.zoomTo();\n",
       "\tviewer_1668034625841364.addModel(\"@<TRIPOS>MOLECULE\\nRES\\n90 80 1 0 1\\nSMALL\\nNO_CHARGES\\n@<TRIPOS>CRYSIN\\n  100.0000   100.0000   100.0000    90.0000    90.0000    90.0000  1  1\\n@<TRIPOS>ATOM\\n       1 A           26.1790    79.2130    68.0608 A             1 RES     \\n       2 A           25.3291    77.0093    63.6539 A             1 RES     \\n       3 A           24.4793    74.8056    59.2469 A             1 RES     \\n       4 A           23.6295    72.6018    54.8399 A             1 RES     \\n       5 A           22.7796    70.3981    50.4330 A             1 RES     \\n       6 A           21.9298    68.1943    46.0260 A             1 RES     \\n       7 A           21.0800    65.9906    41.6191 A             1 RES     \\n       8 A           20.2301    63.7868    37.2121 A             1 RES     \\n       9 A           19.3803    61.5831    32.8051 A             1 RES     \\n      10 A           52.3012    25.7179    71.7822 A             1 RES     \\n      11 A           56.2403    25.7820    68.7034 A             1 RES     \\n      12 A           60.1794    25.8461    65.6245 A             1 RES     \\n      13 A           64.1185    25.9103    62.5456 A             1 RES     \\n      14 A           68.0576    25.9744    59.4668 A             1 RES     \\n      15 A           71.9967    26.0386    56.3879 A             1 RES     \\n      16 A           75.9358    26.1027    53.3090 A             1 RES     \\n      17 A           79.8749    26.1669    50.2302 A             1 RES     \\n      18 A           83.8140    26.2310    47.1513 A             1 RES     \\n      19 A           92.7353    61.1210    62.8785 A             1 RES     \\n      20 A           89.5612    58.4050    65.6258 A             1 RES     \\n      21 A           86.3871    55.6889    68.3732 A             1 RES     \\n      22 A           83.2129    52.9729    71.1206 A             1 RES     \\n      23 A           80.0388    50.2569    73.8680 A             1 RES     \\n      24 A           76.8647    47.5408    76.6154 A             1 RES     \\n      25 A           73.6906    44.8248    79.3628 A             1 RES     \\n      26 A           70.5165    42.1087    82.1102 A             1 RES     \\n      27 A           67.3424    39.3927    84.8576 A             1 RES     \\n      28 A           44.0694    40.5910    25.3779 A             1 RES     \\n      29 A           39.6365    40.3070    23.0825 A             1 RES     \\n      30 A           35.2037    40.0231    20.7870 A             1 RES     \\n      31 A           30.7708    39.7391    18.4915 A             1 RES     \\n      32 A           26.3380    39.4551    16.1961 A             1 RES     \\n      33 A           21.9051    39.1712    13.9006 A             1 RES     \\n      34 A           17.4722    38.8872    11.6052 A             1 RES     \\n      35 A           13.0394    38.6032     9.3097 A             1 RES     \\n      36 A            8.6065    38.3193     7.0143 A             1 RES     \\n      37 A           53.1886    32.2425    72.4438 A             1 RES     \\n      38 A           50.0209    35.8242    70.9818 A             1 RES     \\n      39 A           46.8532    39.4059    69.5199 A             1 RES     \\n      40 A           43.6855    42.9875    68.0579 A             1 RES     \\n      41 A           40.5178    46.5692    66.5960 A             1 RES     \\n      42 A           37.3501    50.1509    65.1341 A             1 RES     \\n      43 A           34.1824    53.7326    63.6721 A             1 RES     \\n      44 A           31.0147    57.3143    62.2102 A             1 RES     \\n      45 A           27.8471    60.8960    60.7482 A             1 RES     \\n      46 A           37.9723    59.4101    17.3402 A             1 RES     \\n      47 A           33.7611    61.1858    19.3682 A             1 RES     \\n      48 A           29.5499    62.9615    21.3961 A             1 RES     \\n      49 A           25.3387    64.7372    23.4241 A             1 RES     \\n      50 A           21.1274    66.5129    25.4520 A             1 RES     \\n      51 A           16.9162    68.2886    27.4799 A             1 RES     \\n      52 A           12.7050    70.0643    29.5079 A             1 RES     \\n      53 A            8.4938    71.8400    31.5358 A             1 RES     \\n      54 A            4.2826    73.6157    33.5637 A             1 RES     \\n      55 A           41.1995    58.4489     8.0810 A             1 RES     \\n      56 A           40.0600    62.6697    10.5073 A             1 RES     \\n      57 A           38.9206    66.8904    12.9336 A             1 RES     \\n      58 A           37.7811    71.1112    15.3599 A             1 RES     \\n      59 A           36.6417    75.3319    17.7862 A             1 RES     \\n      60 A           35.5022    79.5527    20.2124 A             1 RES     \\n      61 A           34.3628    83.7734    22.6387 A             1 RES     \\n      62 A           33.2233    87.9942    25.0650 A             1 RES     \\n      63 A           32.0839    92.2150    27.4913 A             1 RES     \\n      64 A           50.5840    51.1944    51.3647 A             1 RES     \\n      65 A           51.1789    47.0557    54.1064 A             1 RES     \\n      66 A           51.7738    42.9169    56.8481 A             1 RES     \\n      67 A           52.3688    38.7782    59.5899 A             1 RES     \\n      68 A           52.9637    34.6395    62.3316 A             1 RES     \\n      69 A           53.5586    30.5008    65.0733 A             1 RES     \\n      70 A           54.1535    26.3621    67.8150 A             1 RES     \\n      71 A           54.7484    22.2233    70.5568 A             1 RES     \\n      72 A           55.3433    18.0846    73.2985 A             1 RES     \\n      73 A           75.2965    42.2424    54.1021 A             1 RES     \\n      74 A           70.4658    41.0280    54.5380 A             1 RES     \\n      75 A           65.6352    39.8136    54.9739 A             1 RES     \\n      76 A           60.8045    38.5991    55.4098 A             1 RES     \\n      77 A           55.9739    37.3847    55.8456 A             1 RES     \\n      78 A           51.1433    36.1702    56.2815 A             1 RES     \\n      79 A           46.3126    34.9558    56.7174 A             1 RES     \\n      80 A           41.4820    33.7414    57.1533 A             1 RES     \\n      81 A           36.6513    32.5269    57.5891 A             1 RES     \\n      82 A           43.2524    68.5760    63.6925 A             1 RES     \\n      83 A           46.9869    71.5719    62.2509 A             1 RES     \\n      84 A           50.7214    74.5677    60.8092 A             1 RES     \\n      85 A           54.4559    77.5636    59.3676 A             1 RES     \\n      86 A           58.1904    80.5594    57.9260 A             1 RES     \\n      87 A           61.9249    83.5553    56.4843 A             1 RES     \\n      88 A           65.6594    86.5511    55.0427 A             1 RES     \\n      89 A           69.3939    89.5470    53.6010 A             1 RES     \\n      90 A           73.1284    92.5428    52.1594 A             1 RES     \\n@<TRIPOS>BOND\\n       1        2        1 1\\n       2        3        2 1\\n       3        4        3 1\\n       4        5        4 1\\n       5        6        5 1\\n       6        7        6 1\\n       7        8        7 1\\n       8        9        8 1\\n       9       11       10 1\\n      10       12       11 1\\n      11       13       12 1\\n      12       14       13 1\\n      13       15       14 1\\n      14       16       15 1\\n      15       17       16 1\\n      16       18       17 1\\n      17       20       19 1\\n      18       21       20 1\\n      19       22       21 1\\n      20       23       22 1\\n      21       24       23 1\\n      22       25       24 1\\n      23       26       25 1\\n      24       27       26 1\\n      25       29       28 1\\n      26       30       29 1\\n      27       31       30 1\\n      28       32       31 1\\n      29       33       32 1\\n      30       34       33 1\\n      31       35       34 1\\n      32       36       35 1\\n      33       38       37 1\\n      34       39       38 1\\n      35       40       39 1\\n      36       41       40 1\\n      37       42       41 1\\n      38       43       42 1\\n      39       44       43 1\\n      40       45       44 1\\n      41       47       46 1\\n      42       48       47 1\\n      43       49       48 1\\n      44       50       49 1\\n      45       51       50 1\\n      46       52       51 1\\n      47       53       52 1\\n      48       54       53 1\\n      49       56       55 1\\n      50       57       56 1\\n      51       58       57 1\\n      52       59       58 1\\n      53       60       59 1\\n      54       61       60 1\\n      55       62       61 1\\n      56       63       62 1\\n      57       65       64 1\\n      58       66       65 1\\n      59       67       66 1\\n      60       68       67 1\\n      61       69       68 1\\n      62       70       69 1\\n      63       71       70 1\\n      64       72       71 1\\n      65       74       73 1\\n      66       75       74 1\\n      67       76       75 1\\n      68       77       76 1\\n      69       78       77 1\\n      70       79       78 1\\n      71       80       79 1\\n      72       81       80 1\\n      73       83       82 1\\n      74       84       83 1\\n      75       85       84 1\\n      76       86       85 1\\n      77       87       86 1\\n      78       88       87 1\\n      79       89       88 1\\n      80       90       89 1\\n@<TRIPOS>SUBSTRUCTURE\\n       1 RES             1 RESIDUE    0 **** ROOT      0\\n\",\"mol2\");\n",
       "\tviewer_1668034625841364.setStyle({\"stick\": {\"radius\": 0.2, \"color\": \"grey\"}, \"sphere\": {\"scale\": 0.3, \"colorscheme\": {}}});\n",
       "\tviewer_1668034625841364.zoomTo();\n",
       "viewer_1668034625841364.render();\n",
       "});\n",
       "</script>"
      ]
     },
     "metadata": {},
     "output_type": "display_data"
    }
   ],
   "source": [
    "# Example: Creating a bead-spring model of a polymer\n",
    "mer = mb.Compound()\n",
    "mer.add(mb.Compound(name=\"A\", pos=[0,0,0], mass=1))\n",
    "mer.add(mb.Compound(name=\"A\", pos=[0.5,0,0], mass=1))\n",
    "mer.add(mb.Compound(name=\"A\", pos=[1.0,0,0], mass=1))\n",
    "mer.freud_generate_bonds(name_a=\"A\", name_b=\"A\", dmax=0.51, dmin=0.049)\n",
    "\n",
    "chain = Polymer()\n",
    "chain.add_monomer(mer, indices=[0, 2], replace=False, orientation=[[-1, 0, 0], [1,0,0]], separation=0.5)\n",
    "chain.build(n=3, add_hydrogens=False)\n",
    "chain.visualize().show()\n",
    "\n",
    "box_of_chains = mb.fill_box(compound=chain, n_compounds=10, box=[10, 10, 10])\n",
    "box_of_chains.visualize().show()"
   ]
  },
  {
   "cell_type": "code",
   "execution_count": 7,
   "id": "130f4403",
   "metadata": {},
   "outputs": [],
   "source": [
    "bond_parameters = {\n",
    "    (\"A\", \"A\"): {\"k\": 50, \"l0\": 0.5}\n",
    "}\n",
    "\n",
    "angle_parameters = {\n",
    "    (\"A\", \"A\", \"A\"): {\"k\": 5, \"t0\": 2.2}\n",
    "}\n",
    "\n",
    "dihedral_parameters = {\n",
    "    (\"A\", \"A\", \"A\", \"A\"): {\n",
    "        \"periodicity\": [2],\n",
    "        \"k\": [10],\n",
    "        \"phase\": [3.14]\n",
    "    }\n",
    "}\n",
    "\n",
    "non_bonded_parameters = {\n",
    "    \"A\": {\"sigma\": 1.0, \"epsilon\": 1.0, \"charge\": 0}\n",
    "}"
   ]
  },
  {
   "cell_type": "code",
   "execution_count": 8,
   "id": "bfd26666",
   "metadata": {},
   "outputs": [],
   "source": [
    "mbuild_to_foyer_xml(\n",
    "    file_name=\"testmb.xml\",\n",
    "    compound=box_of_chains,\n",
    "    bond_params=bond_parameters,\n",
    "    angle_params=angle_parameters,\n",
    "    dihedral_params=dihedral_parameters,\n",
    "    non_bonded_params=non_bonded_parameters,\n",
    ")"
   ]
  },
  {
   "cell_type": "code",
   "execution_count": 9,
   "id": "2c48dc4c",
   "metadata": {},
   "outputs": [],
   "source": [
    "ff_test = foyer.Forcefield(forcefield_files=\"testmb.xml\")\n",
    "box_of_chains_typed = ff_test.apply(box_of_chains)"
   ]
  },
  {
   "cell_type": "code",
   "execution_count": 10,
   "id": "c92cda07",
   "metadata": {},
   "outputs": [
    {
     "name": "stdout",
     "output_type": "stream",
     "text": [
      "Processing LJ and QQ\n",
      "No charged groups found, ignoring electrostatics\n",
      "Processing 1-4 interactions, adjusting neighborlist exclusions\n",
      "Processing harmonic bonds\n",
      "Processing harmonic angles\n",
      "Processing periodic torsions\n"
     ]
    }
   ],
   "source": [
    "snap, hoomd_ff, refs = create_hoomd_forcefield(structure=box_of_chains_typed, auto_scale=False, r_cut=25)"
   ]
  },
  {
   "cell_type": "code",
   "execution_count": 11,
   "id": "f1bcfa32",
   "metadata": {},
   "outputs": [
    {
     "name": "stdout",
     "output_type": "stream",
     "text": [
      "['A-A-A']\n",
      "['A-A-A-A']\n"
     ]
    }
   ],
   "source": [
    "print(snap.angles.types)\n",
    "print(snap.dihedrals.types)"
   ]
  },
  {
   "cell_type": "code",
   "execution_count": 12,
   "id": "61025fef",
   "metadata": {},
   "outputs": [
    {
     "name": "stdout",
     "output_type": "stream",
     "text": [
      "Pairs: _HOOMDDict{'epsilon': 0.2390057361376673, 'sigma': 10.0}\n",
      "Bonds: _HOOMDDict{'k': 0.11950286806883366, 'r0': 5.0}\n",
      "Angles: _HOOMDDict{'t0': 2.2, 'k': 1.1950286806883366}\n",
      "Dihedrals: _HOOMDDict{'k': 4.780114722753346, 'd': 1.0, 'n': 2, 'phi0': 3.14}\n"
     ]
    }
   ],
   "source": [
    "print(\"Pairs:\", hoomd_ff[0].params[('A', 'A')])\n",
    "print(\"Bonds:\", hoomd_ff[3].params[\"A-A\"])\n",
    "print(\"Angles:\", hoomd_ff[4].params[\"A-A-A\"])\n",
    "print(\"Dihedrals:\", hoomd_ff[5].params[\"A-A-A-A\"])"
   ]
  },
  {
   "cell_type": "markdown",
   "id": "d6dce6b2",
   "metadata": {},
   "source": [
    "# Example:\n",
    "\n",
    "### Fitting espaloma into our MoSDeF-Hoomd Workflow:"
   ]
  },
  {
   "cell_type": "code",
   "execution_count": 2,
   "id": "a7e14f4b",
   "metadata": {},
   "outputs": [
    {
     "data": {
      "application/3dmoljs_load.v0": "<div id=\"3dmolviewer_16681115869134765\"  style=\"position: relative; width: 640px; height: 480px\">\n        <p id=\"3dmolwarning_16681115869134765\" style=\"background-color:#ffcccc;color:black\">You appear to be running in JupyterLab (or JavaScript failed to load for some other reason).  You need to install the 3dmol extension: <br>\n        <tt>jupyter labextension install jupyterlab_3dmol</tt></p>\n        </div>\n<script>\n\nvar loadScriptAsync = function(uri){\n  return new Promise((resolve, reject) => {\n    var tag = document.createElement('script');\n    tag.src = uri;\n    tag.async = true;\n    tag.onload = () => {\n      resolve();\n    };\n  var firstScriptTag = document.getElementsByTagName('script')[0];\n  firstScriptTag.parentNode.insertBefore(tag, firstScriptTag);\n});\n};\n\nif(typeof $3Dmolpromise === 'undefined') {\n$3Dmolpromise = null;\n  $3Dmolpromise = loadScriptAsync('https://cdn.jsdelivr.net/npm/3dmol@latest/build/3Dmol-min.min.js');\n}\n\nvar viewer_16681115869134765 = null;\nvar warn = document.getElementById(\"3dmolwarning_16681115869134765\");\nif(warn) {\n    warn.parentNode.removeChild(warn);\n}\n$3Dmolpromise.then(function() {\nviewer_16681115869134765 = $3Dmol.createViewer($(\"#3dmolviewer_16681115869134765\"),{backgroundColor:\"white\"});\nviewer_16681115869134765.zoomTo();\n\tviewer_16681115869134765.addModel(\"@<TRIPOS>MOLECULE\\nRES\\n12 12 1 0 1\\nSMALL\\nNO_CHARGES\\n@<TRIPOS>CRYSIN\\n    9.3455     9.9325     5.5369    90.0000    90.0000    90.0000  1  1\\n@<TRIPOS>ATOM\\n       1 C           -1.2250     0.6633    -0.1287 C             1 RES     \\n       2 C           -1.1950    -0.7272     0.0226 C             1 RES     \\n       3 C            0.0300    -1.3905     0.1513 C             1 RES     \\n       4 C            1.2250    -0.6633     0.1287 C             1 RES     \\n       5 C            1.1950     0.7272    -0.0226 C             1 RES     \\n       6 C           -0.0300     1.3905    -0.1513 C             1 RES     \\n       7 H           -2.1728     1.1765    -0.2283 H             1 RES     \\n       8 H           -2.1195    -1.2897     0.0401 H             1 RES     \\n       9 H            0.0533    -2.4662     0.2684 H             1 RES     \\n      10 H            2.1728    -1.1765     0.2283 H             1 RES     \\n      11 H            2.1195     1.2897    -0.0401 H             1 RES     \\n      12 H           -0.0533     2.4662    -0.2684 H             1 RES     \\n@<TRIPOS>BOND\\n       1        2        1 1\\n       2        6        1 1\\n       3        7        1 1\\n       4        3        2 1\\n       5        8        2 1\\n       6        4        3 1\\n       7        9        3 1\\n       8        5        4 1\\n       9       10        4 1\\n      10        6        5 1\\n      11       11        5 1\\n      12       12        6 1\\n@<TRIPOS>SUBSTRUCTURE\\n       1 RES             1 RESIDUE    0 **** ROOT      0\\n\",\"mol2\");\n\tviewer_16681115869134765.setStyle({\"stick\": {\"radius\": 0.2, \"color\": \"grey\"}, \"sphere\": {\"scale\": 0.3, \"colorscheme\": {}}});\n\tviewer_16681115869134765.zoomTo();\nviewer_16681115869134765.render();\n});\n</script>",
      "text/html": [
       "<div id=\"3dmolviewer_16681115869134765\"  style=\"position: relative; width: 640px; height: 480px\">\n",
       "        <p id=\"3dmolwarning_16681115869134765\" style=\"background-color:#ffcccc;color:black\">You appear to be running in JupyterLab (or JavaScript failed to load for some other reason).  You need to install the 3dmol extension: <br>\n",
       "        <tt>jupyter labextension install jupyterlab_3dmol</tt></p>\n",
       "        </div>\n",
       "<script>\n",
       "\n",
       "var loadScriptAsync = function(uri){\n",
       "  return new Promise((resolve, reject) => {\n",
       "    var tag = document.createElement('script');\n",
       "    tag.src = uri;\n",
       "    tag.async = true;\n",
       "    tag.onload = () => {\n",
       "      resolve();\n",
       "    };\n",
       "  var firstScriptTag = document.getElementsByTagName('script')[0];\n",
       "  firstScriptTag.parentNode.insertBefore(tag, firstScriptTag);\n",
       "});\n",
       "};\n",
       "\n",
       "if(typeof $3Dmolpromise === 'undefined') {\n",
       "$3Dmolpromise = null;\n",
       "  $3Dmolpromise = loadScriptAsync('https://cdn.jsdelivr.net/npm/3dmol@latest/build/3Dmol-min.min.js');\n",
       "}\n",
       "\n",
       "var viewer_16681115869134765 = null;\n",
       "var warn = document.getElementById(\"3dmolwarning_16681115869134765\");\n",
       "if(warn) {\n",
       "    warn.parentNode.removeChild(warn);\n",
       "}\n",
       "$3Dmolpromise.then(function() {\n",
       "viewer_16681115869134765 = $3Dmol.createViewer($(\"#3dmolviewer_16681115869134765\"),{backgroundColor:\"white\"});\n",
       "viewer_16681115869134765.zoomTo();\n",
       "\tviewer_16681115869134765.addModel(\"@<TRIPOS>MOLECULE\\nRES\\n12 12 1 0 1\\nSMALL\\nNO_CHARGES\\n@<TRIPOS>CRYSIN\\n    9.3455     9.9325     5.5369    90.0000    90.0000    90.0000  1  1\\n@<TRIPOS>ATOM\\n       1 C           -1.2250     0.6633    -0.1287 C             1 RES     \\n       2 C           -1.1950    -0.7272     0.0226 C             1 RES     \\n       3 C            0.0300    -1.3905     0.1513 C             1 RES     \\n       4 C            1.2250    -0.6633     0.1287 C             1 RES     \\n       5 C            1.1950     0.7272    -0.0226 C             1 RES     \\n       6 C           -0.0300     1.3905    -0.1513 C             1 RES     \\n       7 H           -2.1728     1.1765    -0.2283 H             1 RES     \\n       8 H           -2.1195    -1.2897     0.0401 H             1 RES     \\n       9 H            0.0533    -2.4662     0.2684 H             1 RES     \\n      10 H            2.1728    -1.1765     0.2283 H             1 RES     \\n      11 H            2.1195     1.2897    -0.0401 H             1 RES     \\n      12 H           -0.0533     2.4662    -0.2684 H             1 RES     \\n@<TRIPOS>BOND\\n       1        2        1 1\\n       2        6        1 1\\n       3        7        1 1\\n       4        3        2 1\\n       5        8        2 1\\n       6        4        3 1\\n       7        9        3 1\\n       8        5        4 1\\n       9       10        4 1\\n      10        6        5 1\\n      11       11        5 1\\n      12       12        6 1\\n@<TRIPOS>SUBSTRUCTURE\\n       1 RES             1 RESIDUE    0 **** ROOT      0\\n\",\"mol2\");\n",
       "\tviewer_16681115869134765.setStyle({\"stick\": {\"radius\": 0.2, \"color\": \"grey\"}, \"sphere\": {\"scale\": 0.3, \"colorscheme\": {}}});\n",
       "\tviewer_16681115869134765.zoomTo();\n",
       "viewer_16681115869134765.render();\n",
       "});\n",
       "</script>"
      ]
     },
     "metadata": {},
     "output_type": "display_data"
    }
   ],
   "source": [
    "# Use espaloma to find the FF parameters for Benzene\n",
    "smiles = \"c1ccccc1\"\n",
    "benzene = mb.load(smiles, smiles=True)\n",
    "benzene.visualize().show()\n",
    "\n",
    "molecule = Molecule.from_smiles(smiles)\n",
    "molecule_graph = esp.Graph(molecule)\n",
    "\n",
    "espaloma_model = torch.load(\"espaloma_model.pt\")\n",
    "espaloma_model(molecule_graph.heterograph)\n",
    "openmm_system = esp.graphs.deploy.openmm_system_from_graph(molecule_graph)\n",
    "\n",
    "# Store the results for each in something more accessible\n",
    "pair_forces = openmm_system.getForces()[1]\n",
    "angle_forces = openmm_system.getForces()[3]\n",
    "bond_forces = openmm_system.getForces()[2]\n",
    "torsion_forces = openmm_system.getForces()[0]"
   ]
  },
  {
   "cell_type": "markdown",
   "id": "9cdd0783",
   "metadata": {},
   "source": [
    "## Find the set of particle type parameters:"
   ]
  },
  {
   "cell_type": "code",
   "execution_count": 14,
   "id": "d9f822f8",
   "metadata": {},
   "outputs": [],
   "source": [
    "particle_types = []\n",
    "particle_type_dict = dict()\n",
    "\n",
    "for i in range(pair_forces.getNumParticles()):\n",
    "    pair_parms = pair_forces.getParticleParameters(index=i)\n",
    "    charge = pair_parms[0]\n",
    "    sigma = pair_parms[1]\n",
    "    epsilon = pair_parms[2]\n",
    "    if (charge, sigma, epsilon) not in particle_types:\n",
    "        particle_types.append((charge, sigma, epsilon))\n",
    "    particle_type_dict[i] = particle_types.index((charge, sigma, epsilon))"
   ]
  },
  {
   "cell_type": "markdown",
   "id": "dffa1635",
   "metadata": {},
   "source": [
    "### `particle_types`  \n",
    "\n",
    "\n",
    "#### This is the set (i.e. no duplicates) of the particle types found by espaloma"
   ]
  },
  {
   "cell_type": "code",
   "execution_count": 15,
   "id": "68ddea74",
   "metadata": {},
   "outputs": [
    {
     "name": "stdout",
     "output_type": "stream",
     "text": [
      "2\n"
     ]
    }
   ],
   "source": [
    "print(len(particle_types))"
   ]
  },
  {
   "cell_type": "code",
   "execution_count": 19,
   "id": "760d426d",
   "metadata": {},
   "outputs": [
    {
     "name": "stdout",
     "output_type": "stream",
     "text": [
      "(Quantity(value=-0.13, unit=elementary charge), Quantity(value=0.3399669508423535, unit=nanometer), Quantity(value=0.359824, unit=kilojoule/mole))\n",
      "\n",
      "(Quantity(value=0.13, unit=elementary charge), Quantity(value=0.25996424595335105, unit=nanometer), Quantity(value=0.06276, unit=kilojoule/mole))\n",
      "\n"
     ]
    }
   ],
   "source": [
    "for p in particle_types:\n",
    "    print(p)\n",
    "    print()"
   ]
  },
  {
   "cell_type": "markdown",
   "id": "a1c6e92f",
   "metadata": {},
   "source": [
    "### `particle_type_dict`  \n",
    "\n",
    "#### This is a dictionary that points to the parameters for each particle in benzene\n",
    "\n",
    "#### `key: value`\n",
    "#### `mbuild particle index: particle types index`\n",
    "\n",
    "#### We have 12 total particles, but only 2 particle types"
   ]
  },
  {
   "cell_type": "code",
   "execution_count": 20,
   "id": "5bcdb858",
   "metadata": {},
   "outputs": [
    {
     "data": {
      "text/plain": [
       "12"
      ]
     },
     "execution_count": 20,
     "metadata": {},
     "output_type": "execute_result"
    }
   ],
   "source": [
    "len(particle_type_dict)"
   ]
  },
  {
   "cell_type": "code",
   "execution_count": 21,
   "id": "ca0d5477",
   "metadata": {},
   "outputs": [
    {
     "name": "stdout",
     "output_type": "stream",
     "text": [
      "{0: 0, 1: 0, 2: 0, 3: 0, 4: 0, 5: 0, 6: 1, 7: 1, 8: 1, 9: 1, 10: 1, 11: 1}\n"
     ]
    }
   ],
   "source": [
    "print(particle_type_dict)"
   ]
  },
  {
   "cell_type": "code",
   "execution_count": 22,
   "id": "db7bd488",
   "metadata": {},
   "outputs": [
    {
     "name": "stdout",
     "output_type": "stream",
     "text": [
      "0\n",
      "0\n",
      "0\n",
      "0\n",
      "0\n",
      "0\n",
      "1\n",
      "1\n",
      "1\n",
      "1\n",
      "1\n",
      "1\n"
     ]
    }
   ],
   "source": [
    "for p in particle_type_dict:\n",
    "    print(particle_type_dict[p])"
   ]
  },
  {
   "cell_type": "markdown",
   "id": "667e921f",
   "metadata": {},
   "source": [
    "## Write Foyer XML from Espaloma params"
   ]
  },
  {
   "cell_type": "code",
   "execution_count": 3,
   "id": "d17bd399",
   "metadata": {},
   "outputs": [],
   "source": [
    "topology = molecule.to_topology()"
   ]
  },
  {
   "cell_type": "code",
   "execution_count": 4,
   "id": "49862491",
   "metadata": {},
   "outputs": [],
   "source": [
    "openmm_topology = topology.to_openmm()"
   ]
  },
  {
   "cell_type": "code",
   "execution_count": 5,
   "id": "769c6f37",
   "metadata": {},
   "outputs": [],
   "source": [
    "import parmed as pmd\n",
    "structure = pmd.openmm.load_topology(topology=openmm_topology, system=openmm_system)\n",
    "structure.bonds.sort(key=lambda x: x.atom1.idx)"
   ]
  },
  {
   "cell_type": "code",
   "execution_count": 6,
   "id": "af1edfc1",
   "metadata": {},
   "outputs": [],
   "source": [
    "atom_types = {}\n",
    "bond_parameters = {}\n",
    "angle_parameters = {}\n",
    "dihedral_parameters = {}\n",
    "non_bonded_parameters ={}\n",
    "\n",
    "for bond in structure.bonds:\n",
    "    bond_type = (bond.atom1.atom_type.name, bond.atom2.atom_type.name)\n",
    "    if bond_type not in bond_parameters.keys():\n",
    "        bond_parameters[bond_type] = {\"k\":bond.type.k , \"l0\":bond.type.req}\n",
    "    \n",
    "for angle in structure.angles:\n",
    "    angle_type = (angle.atom1.atom_type.name, angle.atom2.atom_type.name, angle.atom3.atom_type.name)\n",
    "    if angle_type not in angle_parameters.keys():\n",
    "        angle_parameters[angle_type] = {\"k\":angle.type.k , \"t0\":angle.type.theteq}\n",
    "    \n",
    "for dihedral in structure.dihedrals:\n",
    "    dihedral_type = (dihedral.atom1.atom_type.name, dihedral.atom2.atom_type.name,\n",
    "           dihedral.atom3.atom_type.name, dihedral.atom3.atom_type.name)\n",
    "    if dihedral_type not in dihedral_parameters.keys():\n",
    "        dihedral_parameters[dihedral_type] = {\"periodicity\": [dihedral.type.per], \n",
    "                                              \"k\": [dihedral.type.phi_k], \n",
    "                                              \"phase\": [dihedral.type.phase]}\n",
    "    \n",
    "for atom in structure.atoms:\n",
    "    atom_type = atom.atom_type.name\n",
    "    if atom_type not in non_bonded_parameters.keys():\n",
    "        non_bonded_parameters[atom_type] = {\"sigma\": atom.atom_type.sigma, \"epsilon\": atom.atom_type.epsilon, \"charge\": atom.atom_type.charge}\n",
    "    if atom_type not in atom_types.keys():\n",
    "        atom_types[atom_type] = {\"mass\": atom.atom_type.mass}"
   ]
  },
  {
   "cell_type": "code",
   "execution_count": 7,
   "id": "95ab2fea",
   "metadata": {},
   "outputs": [],
   "source": [
    "write_foyer_xml(\n",
    "    file_name=\"benzene_esp.xml\",\n",
    "    atom_types=atom_types,\n",
    "    bond_params=bond_parameters,\n",
    "    angle_params=angle_parameters,\n",
    "    dihedral_params=dihedral_parameters,\n",
    "    non_bonded_params=non_bonded_parameters,\n",
    ")"
   ]
  },
  {
   "cell_type": "code",
   "execution_count": 12,
   "id": "641874dd",
   "metadata": {},
   "outputs": [],
   "source": [
    "for particle in benzene.particles():\n",
    "    if particle.name.startswith('C'):\n",
    "        particle.name = \"_C1\"\n",
    "    if particle.name.startswith('H'):\n",
    "        particle.name = \"_H1\" "
   ]
  },
  {
   "cell_type": "code",
   "execution_count": 15,
   "id": "fe6c8d8a",
   "metadata": {},
   "outputs": [],
   "source": [
    "benzene_box = mb.fill_box(benzene, n_compounds=10, box=[2, 2, 2])"
   ]
  },
  {
   "cell_type": "code",
   "execution_count": 22,
   "id": "e0a2c9ed",
   "metadata": {},
   "outputs": [],
   "source": [
    "ff_benzene_esp = foyer.Forcefield(forcefield_files=\"benzene_esp.xml\")\n",
    "benzene_box_typed = ff_benzene_esp.apply(benzene_box,  assert_dihedral_params=False)"
   ]
  },
  {
   "cell_type": "code",
   "execution_count": 19,
   "id": "dcd7a7ab",
   "metadata": {},
   "outputs": [
    {
     "name": "stdout",
     "output_type": "stream",
     "text": [
      "Processing LJ and QQ\n",
      "No charged groups found, ignoring electrostatics\n",
      "Processing 1-4 interactions, adjusting neighborlist exclusions\n",
      "Processing harmonic bonds\n",
      "Processing harmonic angles\n",
      "Processing periodic torsions\n"
     ]
    }
   ],
   "source": [
    "snap, hoomd_ff, refs = create_hoomd_forcefield(structure=benzene_box_typed, auto_scale=False, r_cut=25)"
   ]
  },
  {
   "cell_type": "code",
   "execution_count": 20,
   "id": "388c451d",
   "metadata": {},
   "outputs": [
    {
     "name": "stdout",
     "output_type": "stream",
     "text": [
      "['C1-C1-C1', 'C1-C1-H1']\n",
      "['C1-C1-C1-C1', 'C1-C1-C1-H1']\n"
     ]
    }
   ],
   "source": [
    "print(snap.angles.types)\n",
    "print(snap.dihedrals.types)"
   ]
  },
  {
   "cell_type": "code",
   "execution_count": null,
   "id": "122c5e12",
   "metadata": {},
   "outputs": [],
   "source": []
  }
 ],
 "metadata": {
  "kernelspec": {
   "display_name": "Python 3 (ipykernel)",
   "language": "python",
   "name": "python3"
  },
  "language_info": {
   "codemirror_mode": {
    "name": "ipython",
    "version": 3
   },
   "file_extension": ".py",
   "mimetype": "text/x-python",
   "name": "python",
   "nbconvert_exporter": "python",
   "pygments_lexer": "ipython3",
   "version": "3.10.6"
  }
 },
 "nbformat": 4,
 "nbformat_minor": 5
}
