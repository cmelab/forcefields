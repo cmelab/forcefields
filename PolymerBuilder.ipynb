{
 "cells": [
  {
   "cell_type": "code",
   "execution_count": null,
   "id": "cd016b2f",
   "metadata": {},
   "outputs": [],
   "source": [
    "import warnings \n",
    "warnings.filterwarnings('ignore')\n",
    "import mbuild as mb\n",
    "import numpy\n",
    "import networkx as nx\n",
    "from mbuild.lib.recipes.polymer import Polymer\n",
    "\n",
    "## this function will build your polymer chain for you. You feed it an instance of a monomer class \n",
    "##that has the indices where the bonds need to be formed.\n",
    "def build_chain(monomer, length,bond_indices, separation,replace,orientations,min_energy):\n",
    "    chain = Polymer()\n",
    "    chain.add_monomer(compound=monomer,\n",
    "                 indices=bond_indices,\n",
    "                 separation=separation,\n",
    "                 replace=replace,\n",
    "                 orientation=orientations)\n",
    "    chain.build(n=length)\n",
    "    if chain[-2].name == 'H' and chain[-1].name == 'H':\n",
    "        chain[-2].name = monomer[bond_indices[0]].name\n",
    "        chain[-1].name = monomer[bond_indices[1]].name\n",
    "    if min_energy == True:\n",
    "        chain.energy_minimize()\n",
    "    return chain\n",
    "\n"
   ]
  },
  {
   "cell_type": "code",
   "execution_count": null,
   "id": "f68e698c",
   "metadata": {},
   "outputs": [],
   "source": [
    "mon = mb.load('typed_mol2/PCPDTPT_HD.mol2')\n",
    "mon.visualize()"
   ]
  },
  {
   "cell_type": "code",
   "execution_count": null,
   "id": "93fda100",
   "metadata": {},
   "outputs": [],
   "source": [
    "pol = build_chain(monomer=mon,\n",
    "                      length=30,\n",
    "                      bond_indices=[54,55],\n",
    "                      separation=0.14,\n",
    "                      replace=True,\n",
    "                      orientations=[[0,0,1],[0,0,-1]],\n",
    "                      min_energy=True)\n",
    "pol.visualize()"
   ]
  },
  {
   "cell_type": "code",
   "execution_count": null,
   "id": "d55a0583-ccc7-4b75-a0cd-463db0e3addb",
   "metadata": {},
   "outputs": [],
   "source": [
    "pol.save('typed_mol2/PCPDTPT_HD_30mer.mol2')"
   ]
  },
  {
   "cell_type": "code",
   "execution_count": null,
   "id": "5137502b-0f7a-40a4-a2c5-06030284b761",
   "metadata": {},
   "outputs": [],
   "source": []
  }
 ],
 "metadata": {
  "kernelspec": {
   "display_name": "Python 3 (ipykernel)",
   "language": "python",
   "name": "python3"
  },
  "language_info": {
   "codemirror_mode": {
    "name": "ipython",
    "version": 3
   },
   "file_extension": ".py",
   "mimetype": "text/x-python",
   "name": "python",
   "nbconvert_exporter": "python",
   "pygments_lexer": "ipython3",
   "version": "3.11.7"
  }
 },
 "nbformat": 4,
 "nbformat_minor": 5
}
