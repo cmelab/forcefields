{
 "cells": [
  {
   "cell_type": "code",
   "execution_count": null,
   "id": "be849edf-3d37-4e64-b1db-6a89a0a4e366",
   "metadata": {},
   "outputs": [],
   "source": [
    "from functions.espaloma_fxns import espaloma\n",
    "from mon_classes import PDPPPyT_ODD\n",
    "\n",
    "xml_filepath = \"test.xml\"\n",
    "typed_filepath = \"test.mol2\"\n",
    "\n",
    "espaloma(MONOMER=PDPPPyT_ODD(),\n",
    "         XML_FILEPATH=xml_filepath,\n",
    "         TYPED_FILEPATH=typed_filepath,\n",
    "         dimer=True)"
   ]
  },
  {
   "cell_type": "code",
   "execution_count": null,
   "id": "5b8764ff-e947-4162-aa2b-e84a8e12f0a8",
   "metadata": {},
   "outputs": [],
   "source": [
    "import mbuild as mb\n",
    "\n",
    "mb.load('test.mol2').visualize()"
   ]
  },
  {
   "cell_type": "code",
   "execution_count": null,
   "id": "80782f0c-9c1b-4809-8083-2f8c0d07a8f1",
   "metadata": {},
   "outputs": [],
   "source": []
  }
 ],
 "metadata": {
  "kernelspec": {
   "display_name": "Python 3 (ipykernel)",
   "language": "python",
   "name": "python3"
  },
  "language_info": {
   "codemirror_mode": {
    "name": "ipython",
    "version": 3
   },
   "file_extension": ".py",
   "mimetype": "text/x-python",
   "name": "python",
   "nbconvert_exporter": "python",
   "pygments_lexer": "ipython3",
   "version": "3.11.6"
  }
 },
 "nbformat": 4,
 "nbformat_minor": 5
}
