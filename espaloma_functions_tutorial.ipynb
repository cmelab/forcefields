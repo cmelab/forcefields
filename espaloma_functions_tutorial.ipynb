{
 "cells": [
  {
   "cell_type": "markdown",
   "id": "5cb25a73-a6ab-4e5b-a571-e19b03ecb65d",
   "metadata": {},
   "source": [
    "#### P3HT"
   ]
  },
  {
   "cell_type": "markdown",
   "id": "21c196c4-2048-42b5-ae86-562ebbe0e4be",
   "metadata": {},
   "source": [
    "##### parameterize with espaloma"
   ]
  },
  {
   "cell_type": "code",
   "execution_count": 1,
   "id": "be849edf-3d37-4e64-b1db-6a89a0a4e366",
   "metadata": {},
   "outputs": [
    {
     "name": "stderr",
     "output_type": "stream",
     "text": [
      "/Users/Madilyn/miniconda3/envs/test_env/lib/python3.10/site-packages/mdtraj/geometry/order.py:25: DeprecationWarning: pkg_resources is deprecated as an API. See https://setuptools.pypa.io/en/latest/pkg_resources.html\n",
      "  from pkg_resources import parse_version\n",
      "/Users/Madilyn/miniconda3/envs/test_env/lib/python3.10/site-packages/pkg_resources/__init__.py:2871: DeprecationWarning: Deprecated call to `pkg_resources.declare_namespace('google')`.\n",
      "Implementing implicit namespace packages (as specified in PEP 420) is preferred to `pkg_resources.declare_namespace`. See https://setuptools.pypa.io/en/latest/references/keywords.html#keyword-namespace-packages\n",
      "  declare_namespace(pkg)\n",
      "/Users/Madilyn/miniconda3/envs/test_env/lib/python3.10/site-packages/mbuild/recipes/__init__.py:13: DeprecationWarning: SelectableGroups dict interface is deprecated. Use select.\n",
      "  entry_points = metadata.entry_points()[\"mbuild.plugins\"]\n",
      "sh: wget: command not found\n"
     ]
    },
    {
     "name": "stdout",
     "output_type": "stream",
     "text": [
      "Done!\n"
     ]
    },
    {
     "data": {
      "application/vnd.jupyter.widget-view+json": {
       "model_id": "c566021c42be40fca7c71b00cc476fd1",
       "version_major": 2,
       "version_minor": 0
      },
      "text/plain": []
     },
     "metadata": {},
     "output_type": "display_data"
    },
    {
     "name": "stderr",
     "output_type": "stream",
     "text": [
      "1 molecule converted\n"
     ]
    },
    {
     "data": {
      "text/plain": [
       "<Compound 27 particles, 27 bonds, non-periodic, id: 140374255330608>"
      ]
     },
     "execution_count": 1,
     "metadata": {},
     "output_type": "execute_result"
    }
   ],
   "source": [
    "from functions.Espaloma import espaloma, build_polymer\n",
    "from classes.mon_classes import P3HT\n",
    "\n",
    "xml_filepath = \"test1.xml\"\n",
    "typed_filepath = \"test1.mol2\"\n",
    "\n",
    "espaloma(FRAGMENT=P3HT(),\n",
    "         XML_FILEPATH=xml_filepath,\n",
    "         TYPED_FILEPATH=typed_filepath)"
   ]
  },
  {
   "cell_type": "code",
   "execution_count": 2,
   "id": "5b8764ff-e947-4162-aa2b-e84a8e12f0a8",
   "metadata": {},
   "outputs": [
    {
     "data": {
      "application/3dmoljs_load.v0": "<div id=\"3dmolviewer_1712257569716009\"  style=\"position: relative; width: 640px; height: 480px;\">\n        <p id=\"3dmolwarning_1712257569716009\" style=\"background-color:#ffcccc;color:black\">3Dmol.js failed to load for some reason.  Please check your browser console for error messages.<br></p>\n        </div>\n<script>\n\nvar loadScriptAsync = function(uri){\n  return new Promise((resolve, reject) => {\n    //this is to ignore the existence of requirejs amd\n    var savedexports, savedmodule;\n    if (typeof exports !== 'undefined') savedexports = exports;\n    else exports = {}\n    if (typeof module !== 'undefined') savedmodule = module;\n    else module = {}\n\n    var tag = document.createElement('script');\n    tag.src = uri;\n    tag.async = true;\n    tag.onload = () => {\n        exports = savedexports;\n        module = savedmodule;\n        resolve();\n    };\n  var firstScriptTag = document.getElementsByTagName('script')[0];\n  firstScriptTag.parentNode.insertBefore(tag, firstScriptTag);\n});\n};\n\nif(typeof $3Dmolpromise === 'undefined') {\n$3Dmolpromise = null;\n  $3Dmolpromise = loadScriptAsync('https://cdnjs.cloudflare.com/ajax/libs/3Dmol/2.1.0/3Dmol-min.js');\n}\n\nvar viewer_1712257569716009 = null;\nvar warn = document.getElementById(\"3dmolwarning_1712257569716009\");\nif(warn) {\n    warn.parentNode.removeChild(warn);\n}\n$3Dmolpromise.then(function() {\nviewer_1712257569716009 = $3Dmol.createViewer(document.getElementById(\"3dmolviewer_1712257569716009\"),{backgroundColor:\"white\"});\nviewer_1712257569716009.zoomTo();\n\tviewer_1712257569716009.addModel(\"@<TRIPOS>MOLECULE\\nRES\\n27 27 1 0 1\\nSMALL\\nNO_CHARGES\\n@<TRIPOS>CRYSIN\\n   16.3305     9.2746     8.3039    90.0000    90.0000    90.0000 1 1\\n@<TRIPOS>ATOM\\n       1 C0           9.3554     0.2105     0.4811 C0            1 RES     \\n       2 C0           8.1751    -0.2229    -0.3836 C0            1 RES     \\n       3 C0           6.8441     0.2175     0.2365 C0            1 RES     \\n       4 C0           5.6609    -0.2332    -0.6283 C0            1 RES     \\n       5 C0           4.3258     0.1318     0.0317 C0            1 RES     \\n       6 C0           3.1448    -0.3390    -0.8264 C0            1 RES     \\n       7 C1           1.8325    -0.0754    -0.1417 C1            1 RES     \\n       8 C1           1.3803     1.1952     0.2017 C1            1 RES     \\n       9 S2          -0.1191     1.0383     0.9445 S2            1 RES     \\n      10 C1          -0.2121    -0.6362     0.8371 C1            1 RES     \\n      11 C1           0.9375    -1.0982     0.2142 C1            1 RES     \\n      12 H3          10.3032    -0.1344     0.0167 H3            1 RES     \\n      13 H3           9.3829     1.3171     0.5699 H3            1 RES     \\n      14 H3           9.2746    -0.2359     1.4954 H3            1 RES     \\n      15 H3           8.2856     0.2225    -1.3966 H3            1 RES     \\n      16 H3           8.1911    -1.3308    -0.4773 H3            1 RES     \\n      17 H3           6.8253     1.3249     0.3391 H3            1 RES     \\n      18 H3           6.7521    -0.2373     1.2477 H3            1 RES     \\n      19 H3           5.7303     0.2466    -1.6299 H3            1 RES     \\n      20 H3           5.7052    -1.3376    -0.7569 H3            1 RES     \\n      21 H3           4.2704    -0.3650     1.0254 H3            1 RES     \\n      22 H3           4.2679     1.2326     0.1782 H3            1 RES     \\n      23 H3           3.2462    -1.4313    -1.0099 H3            1 RES     \\n      24 H3           3.1583     0.1813    -1.8085 H3            1 RES     \\n      25 H4           1.9017     2.1269     0.0233 H4            1 RES     \\n      26 H4          -1.0273    -1.2519     1.1923 H4            1 RES     \\n      27 H5           1.1212    -2.1477     0.0241 H5            1 RES     \\n@<TRIPOS>BOND\\n       1        1        2 1\\n       2        1       12 1\\n       3        1       13 1\\n       4        1       14 1\\n       5        2        3 1\\n       6        2       15 1\\n       7        2       16 1\\n       8        3        4 1\\n       9        3       17 1\\n      10        3       18 1\\n      11        4        5 1\\n      12        4       19 1\\n      13        4       20 1\\n      14        5        6 1\\n      15        5       21 1\\n      16        5       22 1\\n      17        6        7 1\\n      18        6       23 1\\n      19        6       24 1\\n      20        7        8 1\\n      21        7       11 1\\n      22        8        9 1\\n      23        8       25 1\\n      24        9       10 1\\n      25       10       11 1\\n      26       10       26 1\\n      27       11       27 1\\n@<TRIPOS>SUBSTRUCTURE\\n       1 RES             1 RESIDUE    0 **** ROOT      0\\n\",\"mol2\");\n\tviewer_1712257569716009.setStyle({\"stick\": {\"radius\": 0.18, \"color\": \"grey\"}, \"sphere\": {\"scale\": 0.3, \"colorscheme\": {}}});\n\tviewer_1712257569716009.zoomTo();\nviewer_1712257569716009.render();\n});\n</script>",
      "text/html": [
       "<div id=\"3dmolviewer_1712257569716009\"  style=\"position: relative; width: 640px; height: 480px;\">\n",
       "        <p id=\"3dmolwarning_1712257569716009\" style=\"background-color:#ffcccc;color:black\">3Dmol.js failed to load for some reason.  Please check your browser console for error messages.<br></p>\n",
       "        </div>\n",
       "<script>\n",
       "\n",
       "var loadScriptAsync = function(uri){\n",
       "  return new Promise((resolve, reject) => {\n",
       "    //this is to ignore the existence of requirejs amd\n",
       "    var savedexports, savedmodule;\n",
       "    if (typeof exports !== 'undefined') savedexports = exports;\n",
       "    else exports = {}\n",
       "    if (typeof module !== 'undefined') savedmodule = module;\n",
       "    else module = {}\n",
       "\n",
       "    var tag = document.createElement('script');\n",
       "    tag.src = uri;\n",
       "    tag.async = true;\n",
       "    tag.onload = () => {\n",
       "        exports = savedexports;\n",
       "        module = savedmodule;\n",
       "        resolve();\n",
       "    };\n",
       "  var firstScriptTag = document.getElementsByTagName('script')[0];\n",
       "  firstScriptTag.parentNode.insertBefore(tag, firstScriptTag);\n",
       "});\n",
       "};\n",
       "\n",
       "if(typeof $3Dmolpromise === 'undefined') {\n",
       "$3Dmolpromise = null;\n",
       "  $3Dmolpromise = loadScriptAsync('https://cdnjs.cloudflare.com/ajax/libs/3Dmol/2.1.0/3Dmol-min.js');\n",
       "}\n",
       "\n",
       "var viewer_1712257569716009 = null;\n",
       "var warn = document.getElementById(\"3dmolwarning_1712257569716009\");\n",
       "if(warn) {\n",
       "    warn.parentNode.removeChild(warn);\n",
       "}\n",
       "$3Dmolpromise.then(function() {\n",
       "viewer_1712257569716009 = $3Dmol.createViewer(document.getElementById(\"3dmolviewer_1712257569716009\"),{backgroundColor:\"white\"});\n",
       "viewer_1712257569716009.zoomTo();\n",
       "\tviewer_1712257569716009.addModel(\"@<TRIPOS>MOLECULE\\nRES\\n27 27 1 0 1\\nSMALL\\nNO_CHARGES\\n@<TRIPOS>CRYSIN\\n   16.3305     9.2746     8.3039    90.0000    90.0000    90.0000 1 1\\n@<TRIPOS>ATOM\\n       1 C0           9.3554     0.2105     0.4811 C0            1 RES     \\n       2 C0           8.1751    -0.2229    -0.3836 C0            1 RES     \\n       3 C0           6.8441     0.2175     0.2365 C0            1 RES     \\n       4 C0           5.6609    -0.2332    -0.6283 C0            1 RES     \\n       5 C0           4.3258     0.1318     0.0317 C0            1 RES     \\n       6 C0           3.1448    -0.3390    -0.8264 C0            1 RES     \\n       7 C1           1.8325    -0.0754    -0.1417 C1            1 RES     \\n       8 C1           1.3803     1.1952     0.2017 C1            1 RES     \\n       9 S2          -0.1191     1.0383     0.9445 S2            1 RES     \\n      10 C1          -0.2121    -0.6362     0.8371 C1            1 RES     \\n      11 C1           0.9375    -1.0982     0.2142 C1            1 RES     \\n      12 H3          10.3032    -0.1344     0.0167 H3            1 RES     \\n      13 H3           9.3829     1.3171     0.5699 H3            1 RES     \\n      14 H3           9.2746    -0.2359     1.4954 H3            1 RES     \\n      15 H3           8.2856     0.2225    -1.3966 H3            1 RES     \\n      16 H3           8.1911    -1.3308    -0.4773 H3            1 RES     \\n      17 H3           6.8253     1.3249     0.3391 H3            1 RES     \\n      18 H3           6.7521    -0.2373     1.2477 H3            1 RES     \\n      19 H3           5.7303     0.2466    -1.6299 H3            1 RES     \\n      20 H3           5.7052    -1.3376    -0.7569 H3            1 RES     \\n      21 H3           4.2704    -0.3650     1.0254 H3            1 RES     \\n      22 H3           4.2679     1.2326     0.1782 H3            1 RES     \\n      23 H3           3.2462    -1.4313    -1.0099 H3            1 RES     \\n      24 H3           3.1583     0.1813    -1.8085 H3            1 RES     \\n      25 H4           1.9017     2.1269     0.0233 H4            1 RES     \\n      26 H4          -1.0273    -1.2519     1.1923 H4            1 RES     \\n      27 H5           1.1212    -2.1477     0.0241 H5            1 RES     \\n@<TRIPOS>BOND\\n       1        1        2 1\\n       2        1       12 1\\n       3        1       13 1\\n       4        1       14 1\\n       5        2        3 1\\n       6        2       15 1\\n       7        2       16 1\\n       8        3        4 1\\n       9        3       17 1\\n      10        3       18 1\\n      11        4        5 1\\n      12        4       19 1\\n      13        4       20 1\\n      14        5        6 1\\n      15        5       21 1\\n      16        5       22 1\\n      17        6        7 1\\n      18        6       23 1\\n      19        6       24 1\\n      20        7        8 1\\n      21        7       11 1\\n      22        8        9 1\\n      23        8       25 1\\n      24        9       10 1\\n      25       10       11 1\\n      26       10       26 1\\n      27       11       27 1\\n@<TRIPOS>SUBSTRUCTURE\\n       1 RES             1 RESIDUE    0 **** ROOT      0\\n\",\"mol2\");\n",
       "\tviewer_1712257569716009.setStyle({\"stick\": {\"radius\": 0.18, \"color\": \"grey\"}, \"sphere\": {\"scale\": 0.3, \"colorscheme\": {}}});\n",
       "\tviewer_1712257569716009.zoomTo();\n",
       "viewer_1712257569716009.render();\n",
       "});\n",
       "</script>"
      ]
     },
     "metadata": {},
     "output_type": "display_data"
    },
    {
     "data": {
      "application/vnd.jupyter.widget-view+json": {
       "model_id": "5c8fd6c879e14ca5be97fae233da1fab",
       "version_major": 2,
       "version_minor": 0
      },
      "text/plain": [
       "NGLWidget()"
      ]
     },
     "metadata": {},
     "output_type": "display_data"
    }
   ],
   "source": [
    "import mbuild as mb\n",
    "from mbuild.lib.recipes.polymer import Polymer\n",
    "\n",
    "typed = mb.load('test1.mol2')\n",
    "typed.visualize().show()\n",
    "\n",
    "'''for some reason is we visualize using the nglview it renames the atoms without the proper types,\n",
    "so if we use nglview to determine atom indices for polymer bonds we have to create its own instance so it doesn't\n",
    "mess with the atom typing'''\n",
    "idx_mol = mb.load('test1.mol2')\n",
    "idx_mol.visualize(backend='nglview')"
   ]
  },
  {
   "cell_type": "markdown",
   "id": "9ceb757a-5cdb-401d-83b0-0ab30a7c1ac3",
   "metadata": {},
   "source": [
    "##### Build polymer"
   ]
  },
  {
   "cell_type": "code",
   "execution_count": null,
   "id": "e4cadd1b-654a-49e6-a278-1795f959f488",
   "metadata": {},
   "outputs": [],
   "source": [
    "from rdkit.Chem.Draw import IPythonConsole\n",
    "\n",
    "#Use rdkit to determine what indices you need to make your parameterization bonds at\n",
    "\n",
    "IPythonConsole.molSize = (800, 800)   # Change image size\n",
    "IPythonConsole.ipython_useSVG = True  # Change output to SVG\n",
    "mol = typed.to_rdkit()\n",
    "display(mol)"
   ]
  },
  {
   "cell_type": "code",
   "execution_count": null,
   "id": "ef32a51d-ad9f-44a8-94cc-0094b28f74e8",
   "metadata": {},
   "outputs": [],
   "source": [
    "polymer = build_polymer(monomer=typed,\n",
    "                     length=10,\n",
    "                     bond_indices=[24,25],\n",
    "                     separation=0.17,\n",
    "                     replace=True,\n",
    "                     orientations=[None,None],\n",
    "                     min_energy=False)"
   ]
  },
  {
   "cell_type": "code",
   "execution_count": null,
   "id": "2c4de8d9-f571-4c61-8b43-ef252d193cea",
   "metadata": {},
   "outputs": [],
   "source": [
    "polymer.visualize()"
   ]
  },
  {
   "cell_type": "code",
   "execution_count": null,
   "id": "09e0fabb-97f8-4c5c-9b84-442dce59cef8",
   "metadata": {},
   "outputs": [],
   "source": [
    "polymer.energy_minimize()\n",
    "polymer.visualize()"
   ]
  },
  {
   "cell_type": "code",
   "execution_count": null,
   "id": "18c83934-f555-4fb3-b568-68557ad49088",
   "metadata": {},
   "outputs": [],
   "source": [
    "polymer_filepath = \"test_pol.mol2\"\n",
    "polymer.save(polymer_filepath,overwrite=True)"
   ]
  },
  {
   "cell_type": "code",
   "execution_count": null,
   "id": "e24239c0-0bf1-4018-a28a-7da5ee12328d",
   "metadata": {},
   "outputs": [],
   "source": []
  },
  {
   "cell_type": "code",
   "execution_count": null,
   "id": "ff69f9e0-d116-4c93-85a7-3e42de6d536f",
   "metadata": {},
   "outputs": [],
   "source": []
  },
  {
   "cell_type": "code",
   "execution_count": null,
   "id": "df553470-3960-426d-b9a0-66c1a79a33ea",
   "metadata": {},
   "outputs": [],
   "source": []
  },
  {
   "cell_type": "code",
   "execution_count": null,
   "id": "1e9409f4-a1a1-451e-9a64-08cbb0dd282f",
   "metadata": {},
   "outputs": [],
   "source": []
  },
  {
   "cell_type": "markdown",
   "id": "f04b00f8-11b5-4c6f-b5a6-02bd09c8ddae",
   "metadata": {},
   "source": [
    "#### PCPDTPT_HD"
   ]
  },
  {
   "cell_type": "code",
   "execution_count": null,
   "id": "46761d95-f9ea-4fc1-8332-f0b251c9ac52",
   "metadata": {},
   "outputs": [],
   "source": [
    "pcpdtpt_hd = mb.load('typed_mol2/PCPDTPT_HD.mol2')\n",
    "pcpdtpt_hd.visualize()"
   ]
  },
  {
   "cell_type": "code",
   "execution_count": null,
   "id": "1cd9c429-9ca1-4150-995d-34b56b021c0d",
   "metadata": {},
   "outputs": [],
   "source": [
    "IPythonConsole.molSize = (800, 800)   # Change image size\n",
    "IPythonConsole.ipython_useSVG = True  # Change output to SVG\n",
    "mol = pcpdtpt_hd.to_rdkit()\n",
    "display(mol)"
   ]
  },
  {
   "cell_type": "code",
   "execution_count": null,
   "id": "42cfbb8f-bbca-4465-8cc3-f19f29c0116c",
   "metadata": {},
   "outputs": [],
   "source": [
    "pcpdtpt_pol = build_polymer(monomer=pcpdtpt_hd,\n",
    "                     length=250,\n",
    "                     bond_indices=[54,55],\n",
    "                     separation=0.17,\n",
    "                     replace=True,\n",
    "                     orientations=[None,None],\n",
    "                     min_energy=False)\n",
    "pcpdtpt_pol.visualize()"
   ]
  },
  {
   "cell_type": "code",
   "execution_count": null,
   "id": "a0afc7ba-af0d-4fc9-bfe4-04b3ecccbad1",
   "metadata": {},
   "outputs": [],
   "source": [
    "pcpdtpt_pol.save(\"typed_mol2/pcpdtpt_hd_250mer.mol2\",overwrite=True)"
   ]
  },
  {
   "cell_type": "code",
   "execution_count": null,
   "id": "dc2c21a5-42ff-48d7-84a0-abf19270485e",
   "metadata": {},
   "outputs": [],
   "source": []
  }
 ],
 "metadata": {
  "kernelspec": {
   "display_name": "Python 3 (ipykernel)",
   "language": "python",
   "name": "python3"
  },
  "language_info": {
   "codemirror_mode": {
    "name": "ipython",
    "version": 3
   },
   "file_extension": ".py",
   "mimetype": "text/x-python",
   "name": "python",
   "nbconvert_exporter": "python",
   "pygments_lexer": "ipython3",
   "version": "3.10.14"
  }
 },
 "nbformat": 4,
 "nbformat_minor": 5
}
