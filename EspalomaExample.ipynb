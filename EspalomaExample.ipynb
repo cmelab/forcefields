{
 "cells": [
  {
   "cell_type": "markdown",
   "id": "7bdd549a",
   "metadata": {},
   "source": [
    "# Molecule from smiles: "
   ]
  },
  {
   "cell_type": "code",
   "execution_count": 1,
   "id": "dd59aa40",
   "metadata": {},
   "outputs": [],
   "source": [
    "# Small fragments with high electronegtive groups (Oxygen, Nitrogen, Fluorine, Chlorine, etc..)\n",
    "phenol = \"c1ccc(O)cc1\"\n",
    "pyridine = \"c1cnccc1\" \n",
    "conj_fluorine = \"c1cc2ccc(F)cc2cc1\" \n",
    "conj_chlorine = \"c1cc2ccc(Cl)cc2cc1\" \n",
    "conj_sulphur = \"c1cc2ccc(S)cc2cc1\"\n",
    "\n",
    "# Larger, bulky conjugated structures, only contain carbon and hydrogen:\n",
    "perylene = \"c1cc2cccc3c4cccc5cccc(c(c1)c23)c45\" \n",
    "tetracene = \"c1c2cc3cc4ccccc4cc3cc2ccc1\" \n",
    "\n",
    "# Long aliphatic side group:\n",
    "alkane_chain = \"CCCCCCCCCCCCCC\""
   ]
  },
  {
   "cell_type": "code",
   "execution_count": 2,
   "id": "84c2c7f0",
   "metadata": {},
   "outputs": [
    {
     "name": "stderr",
     "output_type": "stream",
     "text": [
      "Warning: importing 'simtk.openmm' is deprecated.  Import 'openmm' instead.\n"
     ]
    }
   ],
   "source": [
    "import mbuild as mb\n",
    "\n",
    "class PHENOL(mb.Compound):\n",
    "    def __init__(self):\n",
    "        super(PHENOL,self).__init__()\n",
    "        self.add(mb.load(phenol,smiles=True))\n",
    "        #self.bond_indices = [24,25]\n",
    "        #self.orientations = [[0,0,1],[0,0,-1]]\n",
    "        #self.separation = 0.14\n",
    "        #self.replace = True\n",
    "        \n",
    "class PYRIDINE(mb.Compound):\n",
    "    def __init__(self):\n",
    "        super(PYRIDINE,self).__init__()\n",
    "        self.add(mb.load(pyridine,smiles=True))\n",
    "        \n",
    "class FLUORONAPTHALENE(mb.Compound):\n",
    "    def __init__(self):\n",
    "        super(FLUORONAPTHALENE,self).__init__()\n",
    "        self.add(mb.load(conj_fluorine,smiles=True))\n",
    "                \n",
    "class CHLORONAPTHALENE(mb.Compound):\n",
    "    def __init__(self):\n",
    "        super(CHLORONAPTHALENE,self).__init__()\n",
    "        self.add(mb.load(conj_chlorine,smiles=True))\n",
    "\n",
    "class NAPTHALENETHIOL(mb.Compound):\n",
    "    def __init__(self):\n",
    "        super(NAPTHALENETHIOL,self).__init__()\n",
    "        self.add(mb.load(conj_sulphur,smiles=True))\n",
    "        \n",
    "class TETRACENE(mb.Compound):\n",
    "    def __init__(self):\n",
    "        super(TETRACENE,self).__init__()\n",
    "        self.add(mb.load(tetracene,smiles=True))\n",
    "        \n",
    "class TETRADECANE(mb.Compound):\n",
    "    def __init__(self):\n",
    "        super(TETRADECANE,self).__init__()\n",
    "        self.add(mb.load(alkane_chain,smiles=True))"
   ]
  },
  {
   "cell_type": "code",
   "execution_count": 3,
   "id": "61fcd0f1",
   "metadata": {},
   "outputs": [
    {
     "name": "stderr",
     "output_type": "stream",
     "text": [
      "/Users/madilyn/miniconda3/envs/ff2/lib/python3.9/site-packages/mbuild/compound.py:400: UserWarning: Some particle of <C pos=([ 0.7277  0.1098 -0.0149]), 4 bonds, id: 5190534720> does not have a charge.They will not be accounted for during this calculation.\n",
      "  warn(\n",
      "/Users/madilyn/miniconda3/envs/ff2/lib/python3.9/site-packages/mbuild/compound.py:400: UserWarning: Some particle of <C pos=([0.5804 0.1088 0.0248]), 4 bonds, id: 5190534912> does not have a charge.They will not be accounted for during this calculation.\n",
      "  warn(\n",
      "/Users/madilyn/miniconda3/envs/ff2/lib/python3.9/site-packages/mbuild/compound.py:400: UserWarning: Some particle of <C pos=([ 0.4971  0.0254 -0.0733]), 4 bonds, id: 5190535056> does not have a charge.They will not be accounted for during this calculation.\n",
      "  warn(\n",
      "/Users/madilyn/miniconda3/envs/ff2/lib/python3.9/site-packages/mbuild/compound.py:400: UserWarning: Some particle of <C pos=([ 0.3491  0.0247 -0.0331]), 4 bonds, id: 5190535200> does not have a charge.They will not be accounted for during this calculation.\n",
      "  warn(\n",
      "/Users/madilyn/miniconda3/envs/ff2/lib/python3.9/site-packages/mbuild/compound.py:400: UserWarning: Some particle of <C pos=([ 0.266  -0.0598 -0.1308]), 4 bonds, id: 5190535344> does not have a charge.They will not be accounted for during this calculation.\n",
      "  warn(\n",
      "/Users/madilyn/miniconda3/envs/ff2/lib/python3.9/site-packages/mbuild/compound.py:400: UserWarning: Some particle of <C pos=([ 0.1153 -0.0526 -0.1017]), 4 bonds, id: 5190535488> does not have a charge.They will not be accounted for during this calculation.\n",
      "  warn(\n",
      "/Users/madilyn/miniconda3/envs/ff2/lib/python3.9/site-packages/mbuild/compound.py:400: UserWarning: Some particle of <C pos=([ 0.0768 -0.124   0.029 ]), 4 bonds, id: 5190535632> does not have a charge.They will not be accounted for during this calculation.\n",
      "  warn(\n",
      "/Users/madilyn/miniconda3/envs/ff2/lib/python3.9/site-packages/mbuild/compound.py:400: UserWarning: Some particle of <C pos=([-0.0753 -0.1398  0.0449]), 4 bonds, id: 5190535776> does not have a charge.They will not be accounted for during this calculation.\n",
      "  warn(\n",
      "/Users/madilyn/miniconda3/envs/ff2/lib/python3.9/site-packages/mbuild/compound.py:400: UserWarning: Some particle of <C pos=([-0.1466 -0.005   0.0661]), 4 bonds, id: 5190535920> does not have a charge.They will not be accounted for during this calculation.\n",
      "  warn(\n",
      "/Users/madilyn/miniconda3/envs/ff2/lib/python3.9/site-packages/mbuild/compound.py:400: UserWarning: Some particle of <C pos=([-0.2934 -0.0216  0.1086]), 4 bonds, id: 5190536064> does not have a charge.They will not be accounted for during this calculation.\n",
      "  warn(\n",
      "/Users/madilyn/miniconda3/envs/ff2/lib/python3.9/site-packages/mbuild/compound.py:400: UserWarning: Some particle of <C pos=([-0.3831 -0.0694 -0.0068]), 4 bonds, id: 5190536208> does not have a charge.They will not be accounted for during this calculation.\n",
      "  warn(\n",
      "/Users/madilyn/miniconda3/envs/ff2/lib/python3.9/site-packages/mbuild/compound.py:400: UserWarning: Some particle of <C pos=([-0.5288 -0.0935  0.0367]), 4 bonds, id: 5190536352> does not have a charge.They will not be accounted for during this calculation.\n",
      "  warn(\n",
      "/Users/madilyn/miniconda3/envs/ff2/lib/python3.9/site-packages/mbuild/compound.py:400: UserWarning: Some particle of <C pos=([-0.604   0.032   0.0849]), 4 bonds, id: 5190536496> does not have a charge.They will not be accounted for during this calculation.\n",
      "  warn(\n",
      "/Users/madilyn/miniconda3/envs/ff2/lib/python3.9/site-packages/mbuild/compound.py:400: UserWarning: Some particle of <C pos=([-0.6159  0.1397 -0.0229]), 4 bonds, id: 5190536640> does not have a charge.They will not be accounted for during this calculation.\n",
      "  warn(\n",
      "/Users/madilyn/miniconda3/envs/ff2/lib/python3.9/site-packages/mbuild/compound.py:400: UserWarning: Some particle of <H pos=([ 0.7401  0.154  -0.1161]), 1 bonds, id: 5190536784> does not have a charge.They will not be accounted for during this calculation.\n",
      "  warn(\n",
      "/Users/madilyn/miniconda3/envs/ff2/lib/python3.9/site-packages/mbuild/compound.py:400: UserWarning: Some particle of <H pos=([0.7854 0.1708 0.0578]), 1 bonds, id: 5190536928> does not have a charge.They will not be accounted for during this calculation.\n",
      "  warn(\n",
      "/Users/madilyn/miniconda3/envs/ff2/lib/python3.9/site-packages/mbuild/compound.py:400: UserWarning: Some particle of <H pos=([ 0.7684  0.0065 -0.0148]), 1 bonds, id: 5190537072> does not have a charge.They will not be accounted for during this calculation.\n",
      "  warn(\n",
      "/Users/madilyn/miniconda3/envs/ff2/lib/python3.9/site-packages/mbuild/compound.py:400: UserWarning: Some particle of <H pos=([0.5428 0.2134 0.0264]), 1 bonds, id: 5243977792> does not have a charge.They will not be accounted for during this calculation.\n",
      "  warn(\n",
      "/Users/madilyn/miniconda3/envs/ff2/lib/python3.9/site-packages/mbuild/compound.py:400: UserWarning: Some particle of <H pos=([0.5711 0.0665 0.1272]), 1 bonds, id: 5243977936> does not have a charge.They will not be accounted for during this calculation.\n",
      "  warn(\n",
      "/Users/madilyn/miniconda3/envs/ff2/lib/python3.9/site-packages/mbuild/compound.py:400: UserWarning: Some particle of <H pos=([ 0.5073  0.068  -0.1755]), 1 bonds, id: 5243978080> does not have a charge.They will not be accounted for during this calculation.\n",
      "  warn(\n",
      "/Users/madilyn/miniconda3/envs/ff2/lib/python3.9/site-packages/mbuild/compound.py:400: UserWarning: Some particle of <H pos=([ 0.5354 -0.079  -0.0745]), 1 bonds, id: 5243978224> does not have a charge.They will not be accounted for during this calculation.\n",
      "  warn(\n",
      "/Users/madilyn/miniconda3/envs/ff2/lib/python3.9/site-packages/mbuild/compound.py:400: UserWarning: Some particle of <H pos=([ 0.3108  0.1291 -0.0325]), 1 bonds, id: 5243978368> does not have a charge.They will not be accounted for during this calculation.\n",
      "  warn(\n",
      "/Users/madilyn/miniconda3/envs/ff2/lib/python3.9/site-packages/mbuild/compound.py:400: UserWarning: Some particle of <H pos=([ 0.34   -0.0171  0.0695]), 1 bonds, id: 5243978512> does not have a charge.They will not be accounted for during this calculation.\n",
      "  warn(\n",
      "/Users/madilyn/miniconda3/envs/ff2/lib/python3.9/site-packages/mbuild/compound.py:400: UserWarning: Some particle of <H pos=([ 0.2828 -0.0221 -0.2341]), 1 bonds, id: 5243978656> does not have a charge.They will not be accounted for during this calculation.\n",
      "  warn(\n",
      "/Users/madilyn/miniconda3/envs/ff2/lib/python3.9/site-packages/mbuild/compound.py:400: UserWarning: Some particle of <H pos=([ 0.3    -0.1656 -0.1277]), 1 bonds, id: 5243978800> does not have a charge.They will not be accounted for during this calculation.\n",
      "  warn(\n",
      "/Users/madilyn/miniconda3/envs/ff2/lib/python3.9/site-packages/mbuild/compound.py:400: UserWarning: Some particle of <H pos=([ 0.0618 -0.1008 -0.1865]), 1 bonds, id: 5243978944> does not have a charge.They will not be accounted for during this calculation.\n",
      "  warn(\n",
      "/Users/madilyn/miniconda3/envs/ff2/lib/python3.9/site-packages/mbuild/compound.py:400: UserWarning: Some particle of <H pos=([ 0.0837  0.0539 -0.0979]), 1 bonds, id: 5243979088> does not have a charge.They will not be accounted for during this calculation.\n",
      "  warn(\n",
      "/Users/madilyn/miniconda3/envs/ff2/lib/python3.9/site-packages/mbuild/compound.py:400: UserWarning: Some particle of <H pos=([ 0.1219 -0.2256  0.0295]), 1 bonds, id: 5243979232> does not have a charge.They will not be accounted for during this calculation.\n",
      "  warn(\n",
      "/Users/madilyn/miniconda3/envs/ff2/lib/python3.9/site-packages/mbuild/compound.py:400: UserWarning: Some particle of <H pos=([ 0.1172 -0.0686  0.1164]), 1 bonds, id: 5243979376> does not have a charge.They will not be accounted for during this calculation.\n",
      "  warn(\n",
      "/Users/madilyn/miniconda3/envs/ff2/lib/python3.9/site-packages/mbuild/compound.py:400: UserWarning: Some particle of <H pos=([-0.1161 -0.1914 -0.0446]), 1 bonds, id: 5243979520> does not have a charge.They will not be accounted for during this calculation.\n",
      "  warn(\n",
      "/Users/madilyn/miniconda3/envs/ff2/lib/python3.9/site-packages/mbuild/compound.py:400: UserWarning: Some particle of <H pos=([-0.0938 -0.205   0.133 ]), 1 bonds, id: 5243979664> does not have a charge.They will not be accounted for during this calculation.\n",
      "  warn(\n",
      "/Users/madilyn/miniconda3/envs/ff2/lib/python3.9/site-packages/mbuild/compound.py:400: UserWarning: Some particle of <H pos=([-0.1418  0.056  -0.0266]), 1 bonds, id: 5243979808> does not have a charge.They will not be accounted for during this calculation.\n",
      "  warn(\n",
      "/Users/madilyn/miniconda3/envs/ff2/lib/python3.9/site-packages/mbuild/compound.py:400: UserWarning: Some particle of <H pos=([-0.0939  0.0512  0.1463]), 1 bonds, id: 5243979952> does not have a charge.They will not be accounted for during this calculation.\n",
      "  warn(\n",
      "/Users/madilyn/miniconda3/envs/ff2/lib/python3.9/site-packages/mbuild/compound.py:400: UserWarning: Some particle of <H pos=([-0.3003 -0.0922  0.1943]), 1 bonds, id: 5243980096> does not have a charge.They will not be accounted for during this calculation.\n",
      "  warn(\n",
      "/Users/madilyn/miniconda3/envs/ff2/lib/python3.9/site-packages/mbuild/compound.py:400: UserWarning: Some particle of <H pos=([-0.329   0.0776  0.1435]), 1 bonds, id: 5243980240> does not have a charge.They will not be accounted for during this calculation.\n",
      "  warn(\n",
      "/Users/madilyn/miniconda3/envs/ff2/lib/python3.9/site-packages/mbuild/compound.py:400: UserWarning: Some particle of <H pos=([-0.3444 -0.1658 -0.0457]), 1 bonds, id: 5243980384> does not have a charge.They will not be accounted for during this calculation.\n",
      "  warn(\n",
      "/Users/madilyn/miniconda3/envs/ff2/lib/python3.9/site-packages/mbuild/compound.py:400: UserWarning: Some particle of <H pos=([-0.3795  0.0033 -0.0906]), 1 bonds, id: 5243980528> does not have a charge.They will not be accounted for during this calculation.\n",
      "  warn(\n",
      "/Users/madilyn/miniconda3/envs/ff2/lib/python3.9/site-packages/mbuild/compound.py:400: UserWarning: Some particle of <H pos=([-0.5301 -0.169   0.1183]), 1 bonds, id: 5243980672> does not have a charge.They will not be accounted for during this calculation.\n",
      "  warn(\n",
      "/Users/madilyn/miniconda3/envs/ff2/lib/python3.9/site-packages/mbuild/compound.py:400: UserWarning: Some particle of <H pos=([-0.5844 -0.1376 -0.0489]), 1 bonds, id: 5243980816> does not have a charge.They will not be accounted for during this calculation.\n",
      "  warn(\n",
      "/Users/madilyn/miniconda3/envs/ff2/lib/python3.9/site-packages/mbuild/compound.py:400: UserWarning: Some particle of <H pos=([-0.7066  0.0013  0.1146]), 1 bonds, id: 5243980960> does not have a charge.They will not be accounted for during this calculation.\n",
      "  warn(\n",
      "/Users/madilyn/miniconda3/envs/ff2/lib/python3.9/site-packages/mbuild/compound.py:400: UserWarning: Some particle of <H pos=([-0.5557  0.0745  0.1753]), 1 bonds, id: 5243981104> does not have a charge.They will not be accounted for during this calculation.\n",
      "  warn(\n",
      "/Users/madilyn/miniconda3/envs/ff2/lib/python3.9/site-packages/mbuild/compound.py:400: UserWarning: Some particle of <H pos=([-0.5171  0.1859 -0.0431]), 1 bonds, id: 5243981248> does not have a charge.They will not be accounted for during this calculation.\n",
      "  warn(\n",
      "/Users/madilyn/miniconda3/envs/ff2/lib/python3.9/site-packages/mbuild/compound.py:400: UserWarning: Some particle of <H pos=([-0.6846  0.2195  0.0122]), 1 bonds, id: 5243981392> does not have a charge.They will not be accounted for during this calculation.\n",
      "  warn(\n",
      "/Users/madilyn/miniconda3/envs/ff2/lib/python3.9/site-packages/mbuild/compound.py:400: UserWarning: Some particle of <H pos=([-0.6568  0.0965 -0.1167]), 1 bonds, id: 5243981536> does not have a charge.They will not be accounted for during this calculation.\n",
      "  warn(\n"
     ]
    },
    {
     "data": {
      "application/3dmoljs_load.v0": "<div id=\"3dmolviewer_1694554417122986\"  style=\"position: relative; width: 640px; height: 480px\">\n        <p id=\"3dmolwarning_1694554417122986\" style=\"background-color:#ffcccc;color:black\">You appear to be running in JupyterLab (or JavaScript failed to load for some other reason).  You need to install the 3dmol extension: <br>\n        <tt>jupyter labextension install jupyterlab_3dmol</tt></p>\n        </div>\n<script>\n\nvar loadScriptAsync = function(uri){\n  return new Promise((resolve, reject) => {\n    //this is to ignore the existence of requirejs amd\n    var savedexports, savedmodule;\n    if (typeof exports !== 'undefined') savedexports = exports;\n    else exports = {}\n    if (typeof module !== 'undefined') savedmodule = module;\n    else module = {}\n\n    var tag = document.createElement('script');\n    tag.src = uri;\n    tag.async = true;\n    tag.onload = () => {\n        exports = savedexports;\n        module = savedmodule;\n        resolve();\n    };\n  var firstScriptTag = document.getElementsByTagName('script')[0];\n  firstScriptTag.parentNode.insertBefore(tag, firstScriptTag);\n});\n};\n\nif(typeof $3Dmolpromise === 'undefined') {\n$3Dmolpromise = null;\n  $3Dmolpromise = loadScriptAsync('https://cdnjs.cloudflare.com/ajax/libs/3Dmol/2.0.1/3Dmol-min.js');\n}\n\nvar viewer_1694554417122986 = null;\nvar warn = document.getElementById(\"3dmolwarning_1694554417122986\");\nif(warn) {\n    warn.parentNode.removeChild(warn);\n}\n$3Dmolpromise.then(function() {\nviewer_1694554417122986 = $3Dmol.createViewer(document.getElementById(\"3dmolviewer_1694554417122986\"),{backgroundColor:\"white\"});\nviewer_1694554417122986.zoomTo();\n\tviewer_1694554417122986.addModel(\"@<TRIPOS>MOLECULE\\nTETRADECANE\\n44 43 1 0 1\\nSMALL\\nNO_CHARGES\\n@<TRIPOS>CRYSIN\\n   19.9194     9.4519     9.2837    90.0000    90.0000    90.0000  1  1\\n@<TRIPOS>ATOM\\n       1 C            7.2768     1.0982    -0.1493 C             1 TETRADECANE\\n       2 C            5.8037     1.0879     0.2482 C             1 TETRADECANE\\n       3 C            4.9711     0.2543    -0.7327 C             1 TETRADECANE\\n       4 C            3.4913     0.2471    -0.3308 C             1 TETRADECANE\\n       5 C            2.6602    -0.5976    -1.3080 C             1 TETRADECANE\\n       6 C            1.1529    -0.5256    -1.0173 C             1 TETRADECANE\\n       7 C            0.7678    -1.2403     0.2900 C             1 TETRADECANE\\n       8 C           -0.7528    -1.3978     0.4489 C             1 TETRADECANE\\n       9 C           -1.4655    -0.0501     0.6612 C             1 TETRADECANE\\n      10 C           -2.9336    -0.2157     1.0863 C             1 TETRADECANE\\n      11 C           -3.8313    -0.6936    -0.0679 C             1 TETRADECANE\\n      12 C           -5.2885    -0.9346     0.3675 C             1 TETRADECANE\\n      13 C           -6.0396     0.3199     0.8486 C             1 TETRADECANE\\n      14 C           -6.1591     1.3968    -0.2290 C             1 TETRADECANE\\n      15 H            7.4005     1.5403    -1.1609 H             1 TETRADECANE\\n      16 H            7.8537     1.7079     0.5776 H             1 TETRADECANE\\n      17 H            7.6841     0.0646    -0.1481 H             1 TETRADECANE\\n      18 H            5.4282     2.1344     0.2637 H             1 TETRADECANE\\n      19 H            5.7109     0.6652     1.2725 H             1 TETRADECANE\\n      20 H            5.0732     0.6805    -1.7552 H             1 TETRADECANE\\n      21 H            5.3538    -0.7903    -0.7450 H             1 TETRADECANE\\n      22 H            3.1078     1.2912    -0.3251 H             1 TETRADECANE\\n      23 H            3.4001    -0.1707     0.6946 H             1 TETRADECANE\\n      24 H            2.8278    -0.2210    -2.3410 H             1 TETRADECANE\\n      25 H            2.9998    -1.6562    -1.2772 H             1 TETRADECANE\\n      26 H            0.6181    -1.0077    -1.8648 H             1 TETRADECANE\\n      27 H            0.8369     0.5390    -0.9795 H             1 TETRADECANE\\n      28 H            1.2193    -2.2565     0.2950 H             1 TETRADECANE\\n      29 H            1.1718    -0.6862     1.1640 H             1 TETRADECANE\\n      30 H           -1.1613    -1.9140    -0.4456 H             1 TETRADECANE\\n      31 H           -0.9382    -2.0499     1.3302 H             1 TETRADECANE\\n      32 H           -1.4177     0.5600    -0.2663 H             1 TETRADECANE\\n      33 H           -0.9394     0.5125     1.4635 H             1 TETRADECANE\\n      34 H           -3.0025    -0.9217     1.9427 H             1 TETRADECANE\\n      35 H           -3.2900     0.7761     1.4354 H             1 TETRADECANE\\n      36 H           -3.4442    -1.6584    -0.4568 H             1 TETRADECANE\\n      37 H           -3.7947     0.0334    -0.9065 H             1 TETRADECANE\\n      38 H           -5.3006    -1.6897     1.1834 H             1 TETRADECANE\\n      39 H           -5.8438    -1.3761    -0.4888 H             1 TETRADECANE\\n      40 H           -7.0656     0.0125     1.1459 H             1 TETRADECANE\\n      41 H           -5.5566     0.7451     1.7529 H             1 TETRADECANE\\n      42 H           -5.1707     1.8593    -0.4313 H             1 TETRADECANE\\n      43 H           -6.8460     2.1954     0.1222 H             1 TETRADECANE\\n      44 H           -6.5681     0.9655    -1.1673 H             1 TETRADECANE\\n@<TRIPOS>BOND\\n       1        2        1 1\\n       2       15        1 1\\n       3       16        1 1\\n       4       17        1 1\\n       5        3        2 1\\n       6       18        2 1\\n       7       19        2 1\\n       8        4        3 1\\n       9       20        3 1\\n      10       21        3 1\\n      11        5        4 1\\n      12       22        4 1\\n      13       23        4 1\\n      14        6        5 1\\n      15       24        5 1\\n      16       25        5 1\\n      17        7        6 1\\n      18       26        6 1\\n      19       27        6 1\\n      20        8        7 1\\n      21       28        7 1\\n      22       29        7 1\\n      23        9        8 1\\n      24       30        8 1\\n      25       31        8 1\\n      26       10        9 1\\n      27       32        9 1\\n      28       33        9 1\\n      29       11       10 1\\n      30       34       10 1\\n      31       35       10 1\\n      32       12       11 1\\n      33       36       11 1\\n      34       37       11 1\\n      35       13       12 1\\n      36       38       12 1\\n      37       39       12 1\\n      38       14       13 1\\n      39       40       13 1\\n      40       41       13 1\\n      41       42       14 1\\n      42       43       14 1\\n      43       44       14 1\\n@<TRIPOS>SUBSTRUCTURE\\n       1 TETRADECANE        1 RESIDUE    0 **** ROOT      0\\n\",\"mol2\");\n\tviewer_1694554417122986.setStyle({\"stick\": {\"radius\": 0.2, \"color\": \"grey\"}, \"sphere\": {\"scale\": 0.3, \"colorscheme\": {}}});\n\tviewer_1694554417122986.zoomTo();\nviewer_1694554417122986.render();\n});\n</script>",
      "text/html": [
       "<div id=\"3dmolviewer_1694554417122986\"  style=\"position: relative; width: 640px; height: 480px\">\n",
       "        <p id=\"3dmolwarning_1694554417122986\" style=\"background-color:#ffcccc;color:black\">You appear to be running in JupyterLab (or JavaScript failed to load for some other reason).  You need to install the 3dmol extension: <br>\n",
       "        <tt>jupyter labextension install jupyterlab_3dmol</tt></p>\n",
       "        </div>\n",
       "<script>\n",
       "\n",
       "var loadScriptAsync = function(uri){\n",
       "  return new Promise((resolve, reject) => {\n",
       "    //this is to ignore the existence of requirejs amd\n",
       "    var savedexports, savedmodule;\n",
       "    if (typeof exports !== 'undefined') savedexports = exports;\n",
       "    else exports = {}\n",
       "    if (typeof module !== 'undefined') savedmodule = module;\n",
       "    else module = {}\n",
       "\n",
       "    var tag = document.createElement('script');\n",
       "    tag.src = uri;\n",
       "    tag.async = true;\n",
       "    tag.onload = () => {\n",
       "        exports = savedexports;\n",
       "        module = savedmodule;\n",
       "        resolve();\n",
       "    };\n",
       "  var firstScriptTag = document.getElementsByTagName('script')[0];\n",
       "  firstScriptTag.parentNode.insertBefore(tag, firstScriptTag);\n",
       "});\n",
       "};\n",
       "\n",
       "if(typeof $3Dmolpromise === 'undefined') {\n",
       "$3Dmolpromise = null;\n",
       "  $3Dmolpromise = loadScriptAsync('https://cdnjs.cloudflare.com/ajax/libs/3Dmol/2.0.1/3Dmol-min.js');\n",
       "}\n",
       "\n",
       "var viewer_1694554417122986 = null;\n",
       "var warn = document.getElementById(\"3dmolwarning_1694554417122986\");\n",
       "if(warn) {\n",
       "    warn.parentNode.removeChild(warn);\n",
       "}\n",
       "$3Dmolpromise.then(function() {\n",
       "viewer_1694554417122986 = $3Dmol.createViewer(document.getElementById(\"3dmolviewer_1694554417122986\"),{backgroundColor:\"white\"});\n",
       "viewer_1694554417122986.zoomTo();\n",
       "\tviewer_1694554417122986.addModel(\"@<TRIPOS>MOLECULE\\nTETRADECANE\\n44 43 1 0 1\\nSMALL\\nNO_CHARGES\\n@<TRIPOS>CRYSIN\\n   19.9194     9.4519     9.2837    90.0000    90.0000    90.0000  1  1\\n@<TRIPOS>ATOM\\n       1 C            7.2768     1.0982    -0.1493 C             1 TETRADECANE\\n       2 C            5.8037     1.0879     0.2482 C             1 TETRADECANE\\n       3 C            4.9711     0.2543    -0.7327 C             1 TETRADECANE\\n       4 C            3.4913     0.2471    -0.3308 C             1 TETRADECANE\\n       5 C            2.6602    -0.5976    -1.3080 C             1 TETRADECANE\\n       6 C            1.1529    -0.5256    -1.0173 C             1 TETRADECANE\\n       7 C            0.7678    -1.2403     0.2900 C             1 TETRADECANE\\n       8 C           -0.7528    -1.3978     0.4489 C             1 TETRADECANE\\n       9 C           -1.4655    -0.0501     0.6612 C             1 TETRADECANE\\n      10 C           -2.9336    -0.2157     1.0863 C             1 TETRADECANE\\n      11 C           -3.8313    -0.6936    -0.0679 C             1 TETRADECANE\\n      12 C           -5.2885    -0.9346     0.3675 C             1 TETRADECANE\\n      13 C           -6.0396     0.3199     0.8486 C             1 TETRADECANE\\n      14 C           -6.1591     1.3968    -0.2290 C             1 TETRADECANE\\n      15 H            7.4005     1.5403    -1.1609 H             1 TETRADECANE\\n      16 H            7.8537     1.7079     0.5776 H             1 TETRADECANE\\n      17 H            7.6841     0.0646    -0.1481 H             1 TETRADECANE\\n      18 H            5.4282     2.1344     0.2637 H             1 TETRADECANE\\n      19 H            5.7109     0.6652     1.2725 H             1 TETRADECANE\\n      20 H            5.0732     0.6805    -1.7552 H             1 TETRADECANE\\n      21 H            5.3538    -0.7903    -0.7450 H             1 TETRADECANE\\n      22 H            3.1078     1.2912    -0.3251 H             1 TETRADECANE\\n      23 H            3.4001    -0.1707     0.6946 H             1 TETRADECANE\\n      24 H            2.8278    -0.2210    -2.3410 H             1 TETRADECANE\\n      25 H            2.9998    -1.6562    -1.2772 H             1 TETRADECANE\\n      26 H            0.6181    -1.0077    -1.8648 H             1 TETRADECANE\\n      27 H            0.8369     0.5390    -0.9795 H             1 TETRADECANE\\n      28 H            1.2193    -2.2565     0.2950 H             1 TETRADECANE\\n      29 H            1.1718    -0.6862     1.1640 H             1 TETRADECANE\\n      30 H           -1.1613    -1.9140    -0.4456 H             1 TETRADECANE\\n      31 H           -0.9382    -2.0499     1.3302 H             1 TETRADECANE\\n      32 H           -1.4177     0.5600    -0.2663 H             1 TETRADECANE\\n      33 H           -0.9394     0.5125     1.4635 H             1 TETRADECANE\\n      34 H           -3.0025    -0.9217     1.9427 H             1 TETRADECANE\\n      35 H           -3.2900     0.7761     1.4354 H             1 TETRADECANE\\n      36 H           -3.4442    -1.6584    -0.4568 H             1 TETRADECANE\\n      37 H           -3.7947     0.0334    -0.9065 H             1 TETRADECANE\\n      38 H           -5.3006    -1.6897     1.1834 H             1 TETRADECANE\\n      39 H           -5.8438    -1.3761    -0.4888 H             1 TETRADECANE\\n      40 H           -7.0656     0.0125     1.1459 H             1 TETRADECANE\\n      41 H           -5.5566     0.7451     1.7529 H             1 TETRADECANE\\n      42 H           -5.1707     1.8593    -0.4313 H             1 TETRADECANE\\n      43 H           -6.8460     2.1954     0.1222 H             1 TETRADECANE\\n      44 H           -6.5681     0.9655    -1.1673 H             1 TETRADECANE\\n@<TRIPOS>BOND\\n       1        2        1 1\\n       2       15        1 1\\n       3       16        1 1\\n       4       17        1 1\\n       5        3        2 1\\n       6       18        2 1\\n       7       19        2 1\\n       8        4        3 1\\n       9       20        3 1\\n      10       21        3 1\\n      11        5        4 1\\n      12       22        4 1\\n      13       23        4 1\\n      14        6        5 1\\n      15       24        5 1\\n      16       25        5 1\\n      17        7        6 1\\n      18       26        6 1\\n      19       27        6 1\\n      20        8        7 1\\n      21       28        7 1\\n      22       29        7 1\\n      23        9        8 1\\n      24       30        8 1\\n      25       31        8 1\\n      26       10        9 1\\n      27       32        9 1\\n      28       33        9 1\\n      29       11       10 1\\n      30       34       10 1\\n      31       35       10 1\\n      32       12       11 1\\n      33       36       11 1\\n      34       37       11 1\\n      35       13       12 1\\n      36       38       12 1\\n      37       39       12 1\\n      38       14       13 1\\n      39       40       13 1\\n      40       41       13 1\\n      41       42       14 1\\n      42       43       14 1\\n      43       44       14 1\\n@<TRIPOS>SUBSTRUCTURE\\n       1 TETRADECANE        1 RESIDUE    0 **** ROOT      0\\n\",\"mol2\");\n",
       "\tviewer_1694554417122986.setStyle({\"stick\": {\"radius\": 0.2, \"color\": \"grey\"}, \"sphere\": {\"scale\": 0.3, \"colorscheme\": {}}});\n",
       "\tviewer_1694554417122986.zoomTo();\n",
       "viewer_1694554417122986.render();\n",
       "});\n",
       "</script>"
      ]
     },
     "metadata": {},
     "output_type": "display_data"
    },
    {
     "data": {
      "text/plain": [
       "<py3Dmol.view at 0x1389bb130>"
      ]
     },
     "execution_count": 3,
     "metadata": {},
     "output_type": "execute_result"
    }
   ],
   "source": [
    "tetradecane1 = TETRADECANE()\n",
    "tetradecane1.visualize()"
   ]
  },
  {
   "cell_type": "code",
   "execution_count": null,
   "id": "887cd4b3-dc24-42a5-bb86-2c64c32cefea",
   "metadata": {},
   "outputs": [],
   "source": [
    "from functions import MonToSmiles\n",
    "from functions.MonToSmiles import mon_to_smiles\n",
    "from mon_classes import P3HT\n",
    "\n",
    "smiles = mon_to_smiles(fragment=TETRACENE())[1]\n",
    "mon_dim = mon_to_smiles(fragment=TETRACENE())[0]\n",
    "\n",
    "mon_dim.visualize()"
   ]
  },
  {
   "cell_type": "code",
   "execution_count": 4,
   "id": "b3936b4e",
   "metadata": {},
   "outputs": [
    {
     "name": "stderr",
     "output_type": "stream",
     "text": [
      "/Users/madilyn/miniconda3/envs/ff2/lib/python3.9/site-packages/mbuild/conversion.py:1736: UserWarning: The bond orders will be guessed using pybelOBMol.PerceviedBondOrders()\n",
      "  warn(\n"
     ]
    }
   ],
   "source": [
    "smiles = tetradecane1.to_smiles()"
   ]
  },
  {
   "cell_type": "code",
   "execution_count": 6,
   "id": "58432c25",
   "metadata": {},
   "outputs": [
    {
     "name": "stderr",
     "output_type": "stream",
     "text": [
      "/Users/madilyn/miniconda3/envs/ff2/lib/python3.9/site-packages/qcelemental/models/results.py:788: DeprecationWarning: ResultProtocols has been renamed to AtomicResultProtocols and will be removed as soon as v0.13.0\n",
      "  warn(\n",
      "/Users/madilyn/miniconda3/envs/ff2/lib/python3.9/site-packages/qcelemental/models/results.py:788: DeprecationWarning: ResultProtocols has been renamed to AtomicResultProtocols and will be removed as soon as v0.13.0\n",
      "  warn(\n",
      "LICENSE: Could not open license file \"oe_license.txt\" in local directory\n",
      "LICENSE: N.B. OE_LICENSE environment variable is not set\n",
      "LICENSE: N.B. OE_DIR environment variable is not set\n",
      "LICENSE: No product keys!\n",
      "LICENSE: No product keys!\n",
      "LICENSE: No product keys!\n",
      "Warning: Unable to load toolkit 'OpenEye Toolkit'. The Open Force Field Toolkit does not require the OpenEye Toolkits, and can use RDKit/AmberTools instead. However, if you have a valid license for the OpenEye Toolkits, consider installing them for faster performance and additional file format support: https://docs.eyesopen.com/toolkits/python/quickstart-python/linuxosx.html OpenEye offers free Toolkit licenses for academics: https://www.eyesopen.com/academic-licensing\n",
      "LICENSE: No product keys!\n"
     ]
    },
    {
     "name": "stdout",
     "output_type": "stream",
     "text": [
      "Sorry- I couldn't solve this\n"
     ]
    },
    {
     "ename": "AttributeError",
     "evalue": "'NoneType' object has no attribute 'edge_type_subgraph'",
     "output_type": "error",
     "traceback": [
      "\u001b[0;31m---------------------------------------------------------------------------\u001b[0m",
      "\u001b[0;31mAttributeError\u001b[0m                            Traceback (most recent call last)",
      "Cell \u001b[0;32mIn[6], line 7\u001b[0m\n\u001b[1;32m      4\u001b[0m typed_mol2 \u001b[38;5;241m=\u001b[39m \u001b[38;5;124m'\u001b[39m\u001b[38;5;124m/Users/madilyn/Projects/repos/forcefields/typed_mol2/tetradecane.mol2\u001b[39m\u001b[38;5;124m'\u001b[39m\n\u001b[1;32m      5\u001b[0m xml_filepath \u001b[38;5;241m=\u001b[39m \u001b[38;5;124m'\u001b[39m\u001b[38;5;124m/Users/madilyn/Projects/repos/forcefields/xml_files/tetradecane.xml\u001b[39m\u001b[38;5;124m'\u001b[39m\n\u001b[0;32m----> 7\u001b[0m \u001b[43mespaloma\u001b[49m\u001b[43m(\u001b[49m\u001b[43mSMILES\u001b[49m\u001b[38;5;241;43m=\u001b[39;49m\u001b[43msmiles\u001b[49m\u001b[43m,\u001b[49m\n\u001b[1;32m      8\u001b[0m \u001b[43m        \u001b[49m\u001b[43mXML_FILEPATH\u001b[49m\u001b[38;5;241;43m=\u001b[39;49m\u001b[43mxml_filepath\u001b[49m\u001b[43m,\u001b[49m\n\u001b[1;32m      9\u001b[0m \u001b[43m        \u001b[49m\u001b[43mTYPED_FILEPATH\u001b[49m\u001b[38;5;241;43m=\u001b[39;49m\u001b[43mtyped_mol2\u001b[49m\u001b[43m)\u001b[49m\n",
      "File \u001b[0;32m~/Projects/repos/forcefields/functions/EspalomaFxn.py:27\u001b[0m, in \u001b[0;36mespaloma\u001b[0;34m(SMILES, XML_FILEPATH, TYPED_FILEPATH)\u001b[0m\n\u001b[1;32m     25\u001b[0m molecule_graph \u001b[38;5;241m=\u001b[39m esp\u001b[38;5;241m.\u001b[39mGraph(molecule)\n\u001b[1;32m     26\u001b[0m espaloma_model \u001b[38;5;241m=\u001b[39m torch\u001b[38;5;241m.\u001b[39mload(\u001b[38;5;124m\"\u001b[39m\u001b[38;5;124mespaloma_model.pt\u001b[39m\u001b[38;5;124m\"\u001b[39m)\n\u001b[0;32m---> 27\u001b[0m \u001b[43mespaloma_model\u001b[49m\u001b[43m(\u001b[49m\u001b[43mmolecule_graph\u001b[49m\u001b[38;5;241;43m.\u001b[39;49m\u001b[43mheterograph\u001b[49m\u001b[43m)\u001b[49m\n\u001b[1;32m     28\u001b[0m openmm_system \u001b[38;5;241m=\u001b[39m esp\u001b[38;5;241m.\u001b[39mgraphs\u001b[38;5;241m.\u001b[39mdeploy\u001b[38;5;241m.\u001b[39mopenmm_system_from_graph(molecule_graph,charge_method\u001b[38;5;241m=\u001b[39m\u001b[38;5;124m\"\u001b[39m\u001b[38;5;124mnn\u001b[39m\u001b[38;5;124m\"\u001b[39m)\n\u001b[1;32m     30\u001b[0m \u001b[38;5;66;03m# Store the results for each in something more accessible\u001b[39;00m\n",
      "File \u001b[0;32m~/miniconda3/envs/ff2/lib/python3.9/site-packages/torch/nn/modules/module.py:1194\u001b[0m, in \u001b[0;36mModule._call_impl\u001b[0;34m(self, *input, **kwargs)\u001b[0m\n\u001b[1;32m   1190\u001b[0m \u001b[38;5;66;03m# If we don't have any hooks, we want to skip the rest of the logic in\u001b[39;00m\n\u001b[1;32m   1191\u001b[0m \u001b[38;5;66;03m# this function, and just call forward.\u001b[39;00m\n\u001b[1;32m   1192\u001b[0m \u001b[38;5;28;01mif\u001b[39;00m \u001b[38;5;129;01mnot\u001b[39;00m (\u001b[38;5;28mself\u001b[39m\u001b[38;5;241m.\u001b[39m_backward_hooks \u001b[38;5;129;01mor\u001b[39;00m \u001b[38;5;28mself\u001b[39m\u001b[38;5;241m.\u001b[39m_forward_hooks \u001b[38;5;129;01mor\u001b[39;00m \u001b[38;5;28mself\u001b[39m\u001b[38;5;241m.\u001b[39m_forward_pre_hooks \u001b[38;5;129;01mor\u001b[39;00m _global_backward_hooks\n\u001b[1;32m   1193\u001b[0m         \u001b[38;5;129;01mor\u001b[39;00m _global_forward_hooks \u001b[38;5;129;01mor\u001b[39;00m _global_forward_pre_hooks):\n\u001b[0;32m-> 1194\u001b[0m     \u001b[38;5;28;01mreturn\u001b[39;00m \u001b[43mforward_call\u001b[49m\u001b[43m(\u001b[49m\u001b[38;5;241;43m*\u001b[39;49m\u001b[38;5;28;43minput\u001b[39;49m\u001b[43m,\u001b[49m\u001b[43m \u001b[49m\u001b[38;5;241;43m*\u001b[39;49m\u001b[38;5;241;43m*\u001b[39;49m\u001b[43mkwargs\u001b[49m\u001b[43m)\u001b[49m\n\u001b[1;32m   1195\u001b[0m \u001b[38;5;66;03m# Do not call functions when jit is used\u001b[39;00m\n\u001b[1;32m   1196\u001b[0m full_backward_hooks, non_full_backward_hooks \u001b[38;5;241m=\u001b[39m [], []\n",
      "File \u001b[0;32m~/miniconda3/envs/ff2/lib/python3.9/site-packages/torch/nn/modules/container.py:204\u001b[0m, in \u001b[0;36mSequential.forward\u001b[0;34m(self, input)\u001b[0m\n\u001b[1;32m    202\u001b[0m \u001b[38;5;28;01mdef\u001b[39;00m \u001b[38;5;21mforward\u001b[39m(\u001b[38;5;28mself\u001b[39m, \u001b[38;5;28minput\u001b[39m):\n\u001b[1;32m    203\u001b[0m     \u001b[38;5;28;01mfor\u001b[39;00m module \u001b[38;5;129;01min\u001b[39;00m \u001b[38;5;28mself\u001b[39m:\n\u001b[0;32m--> 204\u001b[0m         \u001b[38;5;28minput\u001b[39m \u001b[38;5;241m=\u001b[39m \u001b[43mmodule\u001b[49m\u001b[43m(\u001b[49m\u001b[38;5;28;43minput\u001b[39;49m\u001b[43m)\u001b[49m\n\u001b[1;32m    205\u001b[0m     \u001b[38;5;28;01mreturn\u001b[39;00m \u001b[38;5;28minput\u001b[39m\n",
      "File \u001b[0;32m~/miniconda3/envs/ff2/lib/python3.9/site-packages/torch/nn/modules/module.py:1194\u001b[0m, in \u001b[0;36mModule._call_impl\u001b[0;34m(self, *input, **kwargs)\u001b[0m\n\u001b[1;32m   1190\u001b[0m \u001b[38;5;66;03m# If we don't have any hooks, we want to skip the rest of the logic in\u001b[39;00m\n\u001b[1;32m   1191\u001b[0m \u001b[38;5;66;03m# this function, and just call forward.\u001b[39;00m\n\u001b[1;32m   1192\u001b[0m \u001b[38;5;28;01mif\u001b[39;00m \u001b[38;5;129;01mnot\u001b[39;00m (\u001b[38;5;28mself\u001b[39m\u001b[38;5;241m.\u001b[39m_backward_hooks \u001b[38;5;129;01mor\u001b[39;00m \u001b[38;5;28mself\u001b[39m\u001b[38;5;241m.\u001b[39m_forward_hooks \u001b[38;5;129;01mor\u001b[39;00m \u001b[38;5;28mself\u001b[39m\u001b[38;5;241m.\u001b[39m_forward_pre_hooks \u001b[38;5;129;01mor\u001b[39;00m _global_backward_hooks\n\u001b[1;32m   1193\u001b[0m         \u001b[38;5;129;01mor\u001b[39;00m _global_forward_hooks \u001b[38;5;129;01mor\u001b[39;00m _global_forward_pre_hooks):\n\u001b[0;32m-> 1194\u001b[0m     \u001b[38;5;28;01mreturn\u001b[39;00m \u001b[43mforward_call\u001b[49m\u001b[43m(\u001b[49m\u001b[38;5;241;43m*\u001b[39;49m\u001b[38;5;28;43minput\u001b[39;49m\u001b[43m,\u001b[49m\u001b[43m \u001b[49m\u001b[38;5;241;43m*\u001b[39;49m\u001b[38;5;241;43m*\u001b[39;49m\u001b[43mkwargs\u001b[49m\u001b[43m)\u001b[49m\n\u001b[1;32m   1195\u001b[0m \u001b[38;5;66;03m# Do not call functions when jit is used\u001b[39;00m\n\u001b[1;32m   1196\u001b[0m full_backward_hooks, non_full_backward_hooks \u001b[38;5;241m=\u001b[39m [], []\n",
      "File \u001b[0;32m~/miniconda3/envs/ff2/lib/python3.9/site-packages/espaloma/nn/sequential.py:138\u001b[0m, in \u001b[0;36mSequential.forward\u001b[0;34m(self, g, x)\u001b[0m\n\u001b[1;32m    135\u001b[0m \u001b[38;5;28;01mimport\u001b[39;00m \u001b[38;5;21;01mdgl\u001b[39;00m\n\u001b[1;32m    137\u001b[0m \u001b[38;5;66;03m# get homogeneous subgraph\u001b[39;00m\n\u001b[0;32m--> 138\u001b[0m g_ \u001b[38;5;241m=\u001b[39m dgl\u001b[38;5;241m.\u001b[39mto_homo(\u001b[43mg\u001b[49m\u001b[38;5;241;43m.\u001b[39;49m\u001b[43medge_type_subgraph\u001b[49m([\u001b[38;5;124m\"\u001b[39m\u001b[38;5;124mn1_neighbors_n1\u001b[39m\u001b[38;5;124m\"\u001b[39m]))\n\u001b[1;32m    140\u001b[0m \u001b[38;5;28;01mif\u001b[39;00m x \u001b[38;5;129;01mis\u001b[39;00m \u001b[38;5;28;01mNone\u001b[39;00m:\n\u001b[1;32m    141\u001b[0m     \u001b[38;5;66;03m# get node attributes\u001b[39;00m\n\u001b[1;32m    142\u001b[0m     x \u001b[38;5;241m=\u001b[39m g\u001b[38;5;241m.\u001b[39mnodes[\u001b[38;5;124m\"\u001b[39m\u001b[38;5;124mn1\u001b[39m\u001b[38;5;124m\"\u001b[39m]\u001b[38;5;241m.\u001b[39mdata[\u001b[38;5;124m\"\u001b[39m\u001b[38;5;124mh0\u001b[39m\u001b[38;5;124m\"\u001b[39m]\n",
      "\u001b[0;31mAttributeError\u001b[0m: 'NoneType' object has no attribute 'edge_type_subgraph'"
     ]
    }
   ],
   "source": [
    "from functions import EspalomaFxn\n",
    "from functions.EspalomaFxn import espaloma\n",
    "\n",
    "typed_mol2 = '/Users/madilyn/Projects/repos/forcefields/typed_mol2/tetradecane.mol2'\n",
    "xml_filepath = '/Users/madilyn/Projects/repos/forcefields/xml_files/tetradecane.xml'\n",
    "\n",
    "espaloma(SMILES=smiles,\n",
    "        XML_FILEPATH=xml_filepath,\n",
    "        TYPED_FILEPATH=typed_mol2)"
   ]
  },
  {
   "cell_type": "code",
   "execution_count": null,
   "id": "9364e09b",
   "metadata": {},
   "outputs": [],
   "source": []
  }
 ],
 "metadata": {
  "kernelspec": {
   "display_name": "Python 3 (ipykernel)",
   "language": "python",
   "name": "python3"
  },
  "language_info": {
   "codemirror_mode": {
    "name": "ipython",
    "version": 3
   },
   "file_extension": ".py",
   "mimetype": "text/x-python",
   "name": "python",
   "nbconvert_exporter": "python",
   "pygments_lexer": "ipython3",
   "version": "3.9.16"
  }
 },
 "nbformat": 4,
 "nbformat_minor": 5
}
