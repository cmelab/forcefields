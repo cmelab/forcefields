{
 "cells": [
  {
   "cell_type": "markdown",
   "id": "7bdd549a",
   "metadata": {},
   "source": [
    "# Molecule from smiles: "
   ]
  },
  {
   "cell_type": "code",
   "execution_count": null,
   "id": "11d94958",
   "metadata": {},
   "outputs": [],
   "source": [
    "import mbuild as mb"
   ]
  },
  {
   "cell_type": "code",
   "execution_count": 2,
   "id": "887cd4b3-dc24-42a5-bb86-2c64c32cefea",
   "metadata": {},
   "outputs": [
    {
     "data": {
      "application/3dmoljs_load.v0": "<div id=\"3dmolviewer_16948073544021919\"  style=\"position: relative; width: 640px; height: 480px\">\n        <p id=\"3dmolwarning_16948073544021919\" style=\"background-color:#ffcccc;color:black\">You appear to be running in JupyterLab (or JavaScript failed to load for some other reason).  You need to install the 3dmol extension: <br>\n        <tt>jupyter labextension install jupyterlab_3dmol</tt></p>\n        </div>\n<script>\n\nvar loadScriptAsync = function(uri){\n  return new Promise((resolve, reject) => {\n    //this is to ignore the existence of requirejs amd\n    var savedexports, savedmodule;\n    if (typeof exports !== 'undefined') savedexports = exports;\n    else exports = {}\n    if (typeof module !== 'undefined') savedmodule = module;\n    else module = {}\n\n    var tag = document.createElement('script');\n    tag.src = uri;\n    tag.async = true;\n    tag.onload = () => {\n        exports = savedexports;\n        module = savedmodule;\n        resolve();\n    };\n  var firstScriptTag = document.getElementsByTagName('script')[0];\n  firstScriptTag.parentNode.insertBefore(tag, firstScriptTag);\n});\n};\n\nif(typeof $3Dmolpromise === 'undefined') {\n$3Dmolpromise = null;\n  $3Dmolpromise = loadScriptAsync('https://cdnjs.cloudflare.com/ajax/libs/3Dmol/2.0.1/3Dmol-min.js');\n}\n\nvar viewer_16948073544021919 = null;\nvar warn = document.getElementById(\"3dmolwarning_16948073544021919\");\nif(warn) {\n    warn.parentNode.removeChild(warn);\n}\n$3Dmolpromise.then(function() {\nviewer_16948073544021919 = $3Dmol.createViewer(document.getElementById(\"3dmolviewer_16948073544021919\"),{backgroundColor:\"white\"});\nviewer_16948073544021919.zoomTo();\n\tviewer_16948073544021919.addModel(\"@<TRIPOS>MOLECULE\\nPolymer\\n104 106 2 0 1\\nBIOPOLYMER\\nNO_CHARGES\\n@<TRIPOS>CRYSIN\\n   74.5905    69.2323    76.6132    90.0000    90.0000    90.0000  1  1\\n@<TRIPOS>ATOM\\n       1 C           34.1669    30.6687    30.2690 C             1 Polymer \\n       2 C           32.7805    30.5401    29.6454 C             1 Polymer \\n       3 C           31.8536    29.6905    30.5230 C             1 Polymer \\n       4 C           30.4654    29.5648    29.8858 C             1 Polymer \\n       5 C           29.5331    28.7024    30.7509 C             1 Polymer \\n       6 C           28.1477    28.5327    30.1086 C             1 Polymer \\n       7 C           27.4198    29.8421    29.9664 C             1 Polymer \\n       8 C           27.0569    30.6379    31.0491 C             1 Polymer \\n       9 S           26.2705    32.0010    30.4606 S             1 Polymer \\n      10 C           26.3805    31.5971    28.8328 C             1 Polymer \\n      11 C           27.0382    30.3802    28.7273 C             1 Polymer \\n      12 H           34.8144    31.2857    29.6109 H             1 Polymer \\n      13 H           34.6314    29.6665    30.3866 H             1 Polymer \\n      14 H           34.0987    31.1594    31.2632 H             1 Polymer \\n      15 H           32.8812    30.0680    28.6435 H             1 Polymer \\n      16 H           32.3479    31.5566    29.5188 H             1 Polymer \\n      17 H           32.2943    28.6767    30.6476 H             1 Polymer \\n      18 H           31.7568    30.1647    31.5250 H             1 Polymer \\n      19 H           30.0306    30.5808    29.7640 H             1 Polymer \\n      20 H           30.5654    29.0962    28.8816 H             1 Polymer \\n      21 H           29.9849    27.6933    30.8695 H             1 Polymer \\n      22 H           29.4268    29.1540    31.7614 H             1 Polymer \\n      23 H           27.5323    27.8545    30.7377 H             1 Polymer \\n      24 H           28.2726    28.0536    29.1126 H             1 Polymer \\n      25 H           27.2377    29.8996    27.7784 H             1 Polymer \\n      26 H           27.2456    30.4187    32.0916 H             1 Polymer \\n      27 H           26.0042    32.1845    28.0064 H             1 Polymer \\n      28 C          -25.7969   -29.6513   -29.2177 C             2 Polymer \\n      29 C          -27.2361   -29.8332   -29.6857 C             2 Polymer \\n      30 C          -28.1532   -30.2887   -28.5418 C             2 Polymer \\n      31 C          -29.5847   -30.4957   -29.0505 C             2 Polymer \\n      32 C          -30.5667   -30.8221   -27.9040 C             2 Polymer \\n      33 C          -31.9839   -31.1223   -28.4290 C             2 Polymer \\n      34 C          -32.5039   -29.9971   -29.2828 C             2 Polymer \\n      35 C          -32.8133   -28.7211   -28.8280 C             2 Polymer \\n      36 S          -33.2526   -27.7883   -30.1623 S             2 Polymer \\n      37 C          -33.0240   -28.9863   -31.3279 C             2 Polymer \\n      38 C          -32.6542   -30.1480   -30.6629 C             2 Polymer \\n      39 H          -25.1744   -29.2978   -30.0675 H             2 Polymer \\n      40 H          -25.3868   -30.6164   -28.8529 H             2 Polymer \\n      41 H          -25.7472   -28.8976   -28.4036 H             2 Polymer \\n      42 H          -27.2518   -30.5810   -30.5084 H             2 Polymer \\n      43 H          -27.6012   -28.8585   -30.0748 H             2 Polymer \\n      44 H          -27.7793   -31.2442   -28.1126 H             2 Polymer \\n      45 H          -28.1481   -29.5095   -27.7495 H             2 Polymer \\n      46 H          -29.9190   -29.5625   -29.5540 H             2 Polymer \\n      47 H          -29.5851   -31.3199   -29.7983 H             2 Polymer \\n      48 H          -30.2078   -31.7179   -27.3513 H             2 Polymer \\n      49 H          -30.6014   -29.9639   -27.1991 H             2 Polymer \\n      50 H          -32.6846   -31.3291   -27.5931 H             2 Polymer \\n      51 H          -31.9131   -32.0478   -29.0433 H             2 Polymer \\n      52 H          -32.4375   -31.0877   -31.1327 H             2 Polymer \\n      53 C          -26.1579   -28.0549   -33.2122 C             2 Polymer \\n      54 C          -27.4681   -28.3264   -33.9473 C             2 Polymer \\n      55 C          -28.3137   -29.3607   -33.1988 C             2 Polymer \\n      56 C          -29.6478   -29.6270   -33.9057 C             2 Polymer \\n      57 C          -30.4841   -30.6444   -33.1044 C             2 Polymer \\n      58 C          -31.8802   -30.9006   -33.7207 C             2 Polymer \\n      59 C          -32.6651   -29.6147   -33.8362 C             2 Polymer \\n      60 C          -33.1280   -28.7828   -32.7963 C             2 Polymer \\n      61 S          -33.7525   -27.3864   -33.5152 S             2 Polymer \\n      62 C          -33.4492   -27.8129   -35.1182 C             2 Polymer \\n      63 C          -32.8945   -29.0850   -35.1073 C             2 Polymer \\n      64 H          -25.5626   -27.3050   -33.7745 H             2 Polymer \\n      65 H          -25.5636   -28.9890   -33.1244 H             2 Polymer \\n      66 H          -26.3609   -27.6556   -32.1952 H             2 Polymer \\n      67 H          -27.2391   -28.7011   -34.9679 H             2 Polymer \\n      68 H          -28.0315   -27.3712   -34.0284 H             2 Polymer \\n      69 H          -27.7444   -30.3115   -33.1108 H             2 Polymer \\n      70 H          -28.5295   -28.9699   -32.1825 H             2 Polymer \\n      71 H          -30.1950   -28.6613   -33.9754 H             2 Polymer \\n      72 H          -29.4700   -30.0111   -34.9335 H             2 Polymer \\n      73 H          -29.9351   -31.6090   -33.0511 H             2 Polymer \\n      74 H          -30.5746   -30.2551   -32.0764 H             2 Polymer \\n      75 H          -32.4587   -31.6648   -33.1683 H             2 Polymer \\n      76 H          -31.7049   -31.3323   -34.7305 H             2 Polymer \\n      77 H          -32.5895   -29.6279   -35.9787 H             2 Polymer \\n      78 C          -26.3144   -26.5349   -37.1506 C             2 Polymer \\n      79 C          -27.6288   -26.3785   -37.9139 C             2 Polymer \\n      80 C          -28.6737   -27.3693   -37.3984 C             2 Polymer \\n      81 C          -30.0296   -27.2062   -38.1045 C             2 Polymer \\n      82 C          -30.9808   -28.3018   -37.6162 C             2 Polymer \\n      83 C          -32.4054   -28.2142   -38.2071 C             2 Polymer \\n      84 C          -33.2284   -27.0782   -37.6397 C             2 Polymer \\n      85 C          -33.6666   -26.9316   -36.2993 C             2 Polymer \\n      86 S          -34.5127   -25.4782   -36.1988 S             2 Polymer \\n      87 C          -34.3729   -25.0407   -37.8110 C             2 Polymer \\n      88 C          -33.6436   -26.0190   -38.4661 C             2 Polymer \\n      89 H          -25.5604   -25.8266   -37.5524 H             2 Polymer \\n      90 H          -25.9225   -27.5696   -37.2553 H             2 Polymer \\n      91 H          -26.4683   -26.3143   -36.0726 H             2 Polymer \\n      92 H          -27.4457   -26.5684   -38.9939 H             2 Polymer \\n      93 H          -27.9964   -25.3377   -37.7868 H             2 Polymer \\n      94 H          -28.2887   -28.4017   -37.5562 H             2 Polymer \\n      95 H          -28.8259   -27.2098   -36.3093 H             2 Polymer \\n      96 H          -30.4434   -26.2013   -37.8747 H             2 Polymer \\n      97 H          -29.9018   -27.3062   -39.2044 H             2 Polymer \\n      98 H          -30.5469   -29.2813   -37.9152 H             2 Polymer \\n      99 H          -30.9993   -28.2570   -36.5142 H             2 Polymer \\n     100 H          -32.9671   -29.1520   -38.0274 H             2 Polymer \\n     101 H          -32.3091   -28.1285   -39.3115 H             2 Polymer \\n     102 H          -33.4100   -25.9598   -39.5215 H             2 Polymer \\n     103 H          -32.7570   -28.3808   -27.8022 H             2 Polymer \\n     104 H          -34.7760   -24.1457   -38.2652 H             2 Polymer \\n@<TRIPOS>BOND\\n       1        2        1 1\\n       2       12        1 1\\n       3       13        1 1\\n       4       14        1 1\\n       5        3        2 1\\n       6       15        2 1\\n       7       16        2 1\\n       8        4        3 1\\n       9       17        3 1\\n      10       18        3 1\\n      11        5        4 1\\n      12       19        4 1\\n      13       20        4 1\\n      14        6        5 1\\n      15       21        5 1\\n      16       22        5 1\\n      17        7        6 1\\n      18       23        6 1\\n      19       24        6 1\\n      20        8        7 1\\n      21       11        7 1\\n      22        9        8 1\\n      23       26        8 1\\n      24       10        9 1\\n      25       11       10 1\\n      26       27       10 1\\n      27       25       11 1\\n      28       29       28 1\\n      29       39       28 1\\n      30       40       28 1\\n      31       41       28 1\\n      32       30       29 1\\n      33       42       29 1\\n      34       43       29 1\\n      35       31       30 1\\n      36       44       30 1\\n      37       45       30 1\\n      38       32       31 1\\n      39       46       31 1\\n      40       47       31 1\\n      41       33       32 1\\n      42       48       32 1\\n      43       49       32 1\\n      44       34       33 1\\n      45       50       33 1\\n      46       51       33 1\\n      47       35       34 1\\n      48       38       34 1\\n      49       36       35 1\\n      50      103       35 1\\n      51       37       36 1\\n      52       38       37 1\\n      53       60       37 1\\n      54       52       38 1\\n      55       54       53 1\\n      56       64       53 1\\n      57       65       53 1\\n      58       66       53 1\\n      59       55       54 1\\n      60       67       54 1\\n      61       68       54 1\\n      62       56       55 1\\n      63       69       55 1\\n      64       70       55 1\\n      65       57       56 1\\n      66       71       56 1\\n      67       72       56 1\\n      68       58       57 1\\n      69       73       57 1\\n      70       74       57 1\\n      71       59       58 1\\n      72       75       58 1\\n      73       76       58 1\\n      74       60       59 1\\n      75       63       59 1\\n      76       61       60 1\\n      77       62       61 1\\n      78       63       62 1\\n      79       85       62 1\\n      80       77       63 1\\n      81       79       78 1\\n      82       89       78 1\\n      83       90       78 1\\n      84       91       78 1\\n      85       80       79 1\\n      86       92       79 1\\n      87       93       79 1\\n      88       81       80 1\\n      89       94       80 1\\n      90       95       80 1\\n      91       82       81 1\\n      92       96       81 1\\n      93       97       81 1\\n      94       83       82 1\\n      95       98       82 1\\n      96       99       82 1\\n      97       84       83 1\\n      98      100       83 1\\n      99      101       83 1\\n     100       85       84 1\\n     101       88       84 1\\n     102       86       85 1\\n     103       87       86 1\\n     104       88       87 1\\n     105      104       87 1\\n     106      102       88 1\\n@<TRIPOS>SUBSTRUCTURE\\n       1 Polymer         1 RESIDUE    0 **** ROOT      0\\n       2 Polymer        28 RESIDUE    0 **** ROOT      0\\n\",\"mol2\");\n\tviewer_16948073544021919.setStyle({\"stick\": {\"radius\": 0.2, \"color\": \"grey\"}, \"sphere\": {\"scale\": 0.3, \"colorscheme\": {}}});\n\tviewer_16948073544021919.zoomTo();\nviewer_16948073544021919.render();\n});\n</script>",
      "text/html": [
       "<div id=\"3dmolviewer_16948073544021919\"  style=\"position: relative; width: 640px; height: 480px\">\n",
       "        <p id=\"3dmolwarning_16948073544021919\" style=\"background-color:#ffcccc;color:black\">You appear to be running in JupyterLab (or JavaScript failed to load for some other reason).  You need to install the 3dmol extension: <br>\n",
       "        <tt>jupyter labextension install jupyterlab_3dmol</tt></p>\n",
       "        </div>\n",
       "<script>\n",
       "\n",
       "var loadScriptAsync = function(uri){\n",
       "  return new Promise((resolve, reject) => {\n",
       "    //this is to ignore the existence of requirejs amd\n",
       "    var savedexports, savedmodule;\n",
       "    if (typeof exports !== 'undefined') savedexports = exports;\n",
       "    else exports = {}\n",
       "    if (typeof module !== 'undefined') savedmodule = module;\n",
       "    else module = {}\n",
       "\n",
       "    var tag = document.createElement('script');\n",
       "    tag.src = uri;\n",
       "    tag.async = true;\n",
       "    tag.onload = () => {\n",
       "        exports = savedexports;\n",
       "        module = savedmodule;\n",
       "        resolve();\n",
       "    };\n",
       "  var firstScriptTag = document.getElementsByTagName('script')[0];\n",
       "  firstScriptTag.parentNode.insertBefore(tag, firstScriptTag);\n",
       "});\n",
       "};\n",
       "\n",
       "if(typeof $3Dmolpromise === 'undefined') {\n",
       "$3Dmolpromise = null;\n",
       "  $3Dmolpromise = loadScriptAsync('https://cdnjs.cloudflare.com/ajax/libs/3Dmol/2.0.1/3Dmol-min.js');\n",
       "}\n",
       "\n",
       "var viewer_16948073544021919 = null;\n",
       "var warn = document.getElementById(\"3dmolwarning_16948073544021919\");\n",
       "if(warn) {\n",
       "    warn.parentNode.removeChild(warn);\n",
       "}\n",
       "$3Dmolpromise.then(function() {\n",
       "viewer_16948073544021919 = $3Dmol.createViewer(document.getElementById(\"3dmolviewer_16948073544021919\"),{backgroundColor:\"white\"});\n",
       "viewer_16948073544021919.zoomTo();\n",
       "\tviewer_16948073544021919.addModel(\"@<TRIPOS>MOLECULE\\nPolymer\\n104 106 2 0 1\\nBIOPOLYMER\\nNO_CHARGES\\n@<TRIPOS>CRYSIN\\n   74.5905    69.2323    76.6132    90.0000    90.0000    90.0000  1  1\\n@<TRIPOS>ATOM\\n       1 C           34.1669    30.6687    30.2690 C             1 Polymer \\n       2 C           32.7805    30.5401    29.6454 C             1 Polymer \\n       3 C           31.8536    29.6905    30.5230 C             1 Polymer \\n       4 C           30.4654    29.5648    29.8858 C             1 Polymer \\n       5 C           29.5331    28.7024    30.7509 C             1 Polymer \\n       6 C           28.1477    28.5327    30.1086 C             1 Polymer \\n       7 C           27.4198    29.8421    29.9664 C             1 Polymer \\n       8 C           27.0569    30.6379    31.0491 C             1 Polymer \\n       9 S           26.2705    32.0010    30.4606 S             1 Polymer \\n      10 C           26.3805    31.5971    28.8328 C             1 Polymer \\n      11 C           27.0382    30.3802    28.7273 C             1 Polymer \\n      12 H           34.8144    31.2857    29.6109 H             1 Polymer \\n      13 H           34.6314    29.6665    30.3866 H             1 Polymer \\n      14 H           34.0987    31.1594    31.2632 H             1 Polymer \\n      15 H           32.8812    30.0680    28.6435 H             1 Polymer \\n      16 H           32.3479    31.5566    29.5188 H             1 Polymer \\n      17 H           32.2943    28.6767    30.6476 H             1 Polymer \\n      18 H           31.7568    30.1647    31.5250 H             1 Polymer \\n      19 H           30.0306    30.5808    29.7640 H             1 Polymer \\n      20 H           30.5654    29.0962    28.8816 H             1 Polymer \\n      21 H           29.9849    27.6933    30.8695 H             1 Polymer \\n      22 H           29.4268    29.1540    31.7614 H             1 Polymer \\n      23 H           27.5323    27.8545    30.7377 H             1 Polymer \\n      24 H           28.2726    28.0536    29.1126 H             1 Polymer \\n      25 H           27.2377    29.8996    27.7784 H             1 Polymer \\n      26 H           27.2456    30.4187    32.0916 H             1 Polymer \\n      27 H           26.0042    32.1845    28.0064 H             1 Polymer \\n      28 C          -25.7969   -29.6513   -29.2177 C             2 Polymer \\n      29 C          -27.2361   -29.8332   -29.6857 C             2 Polymer \\n      30 C          -28.1532   -30.2887   -28.5418 C             2 Polymer \\n      31 C          -29.5847   -30.4957   -29.0505 C             2 Polymer \\n      32 C          -30.5667   -30.8221   -27.9040 C             2 Polymer \\n      33 C          -31.9839   -31.1223   -28.4290 C             2 Polymer \\n      34 C          -32.5039   -29.9971   -29.2828 C             2 Polymer \\n      35 C          -32.8133   -28.7211   -28.8280 C             2 Polymer \\n      36 S          -33.2526   -27.7883   -30.1623 S             2 Polymer \\n      37 C          -33.0240   -28.9863   -31.3279 C             2 Polymer \\n      38 C          -32.6542   -30.1480   -30.6629 C             2 Polymer \\n      39 H          -25.1744   -29.2978   -30.0675 H             2 Polymer \\n      40 H          -25.3868   -30.6164   -28.8529 H             2 Polymer \\n      41 H          -25.7472   -28.8976   -28.4036 H             2 Polymer \\n      42 H          -27.2518   -30.5810   -30.5084 H             2 Polymer \\n      43 H          -27.6012   -28.8585   -30.0748 H             2 Polymer \\n      44 H          -27.7793   -31.2442   -28.1126 H             2 Polymer \\n      45 H          -28.1481   -29.5095   -27.7495 H             2 Polymer \\n      46 H          -29.9190   -29.5625   -29.5540 H             2 Polymer \\n      47 H          -29.5851   -31.3199   -29.7983 H             2 Polymer \\n      48 H          -30.2078   -31.7179   -27.3513 H             2 Polymer \\n      49 H          -30.6014   -29.9639   -27.1991 H             2 Polymer \\n      50 H          -32.6846   -31.3291   -27.5931 H             2 Polymer \\n      51 H          -31.9131   -32.0478   -29.0433 H             2 Polymer \\n      52 H          -32.4375   -31.0877   -31.1327 H             2 Polymer \\n      53 C          -26.1579   -28.0549   -33.2122 C             2 Polymer \\n      54 C          -27.4681   -28.3264   -33.9473 C             2 Polymer \\n      55 C          -28.3137   -29.3607   -33.1988 C             2 Polymer \\n      56 C          -29.6478   -29.6270   -33.9057 C             2 Polymer \\n      57 C          -30.4841   -30.6444   -33.1044 C             2 Polymer \\n      58 C          -31.8802   -30.9006   -33.7207 C             2 Polymer \\n      59 C          -32.6651   -29.6147   -33.8362 C             2 Polymer \\n      60 C          -33.1280   -28.7828   -32.7963 C             2 Polymer \\n      61 S          -33.7525   -27.3864   -33.5152 S             2 Polymer \\n      62 C          -33.4492   -27.8129   -35.1182 C             2 Polymer \\n      63 C          -32.8945   -29.0850   -35.1073 C             2 Polymer \\n      64 H          -25.5626   -27.3050   -33.7745 H             2 Polymer \\n      65 H          -25.5636   -28.9890   -33.1244 H             2 Polymer \\n      66 H          -26.3609   -27.6556   -32.1952 H             2 Polymer \\n      67 H          -27.2391   -28.7011   -34.9679 H             2 Polymer \\n      68 H          -28.0315   -27.3712   -34.0284 H             2 Polymer \\n      69 H          -27.7444   -30.3115   -33.1108 H             2 Polymer \\n      70 H          -28.5295   -28.9699   -32.1825 H             2 Polymer \\n      71 H          -30.1950   -28.6613   -33.9754 H             2 Polymer \\n      72 H          -29.4700   -30.0111   -34.9335 H             2 Polymer \\n      73 H          -29.9351   -31.6090   -33.0511 H             2 Polymer \\n      74 H          -30.5746   -30.2551   -32.0764 H             2 Polymer \\n      75 H          -32.4587   -31.6648   -33.1683 H             2 Polymer \\n      76 H          -31.7049   -31.3323   -34.7305 H             2 Polymer \\n      77 H          -32.5895   -29.6279   -35.9787 H             2 Polymer \\n      78 C          -26.3144   -26.5349   -37.1506 C             2 Polymer \\n      79 C          -27.6288   -26.3785   -37.9139 C             2 Polymer \\n      80 C          -28.6737   -27.3693   -37.3984 C             2 Polymer \\n      81 C          -30.0296   -27.2062   -38.1045 C             2 Polymer \\n      82 C          -30.9808   -28.3018   -37.6162 C             2 Polymer \\n      83 C          -32.4054   -28.2142   -38.2071 C             2 Polymer \\n      84 C          -33.2284   -27.0782   -37.6397 C             2 Polymer \\n      85 C          -33.6666   -26.9316   -36.2993 C             2 Polymer \\n      86 S          -34.5127   -25.4782   -36.1988 S             2 Polymer \\n      87 C          -34.3729   -25.0407   -37.8110 C             2 Polymer \\n      88 C          -33.6436   -26.0190   -38.4661 C             2 Polymer \\n      89 H          -25.5604   -25.8266   -37.5524 H             2 Polymer \\n      90 H          -25.9225   -27.5696   -37.2553 H             2 Polymer \\n      91 H          -26.4683   -26.3143   -36.0726 H             2 Polymer \\n      92 H          -27.4457   -26.5684   -38.9939 H             2 Polymer \\n      93 H          -27.9964   -25.3377   -37.7868 H             2 Polymer \\n      94 H          -28.2887   -28.4017   -37.5562 H             2 Polymer \\n      95 H          -28.8259   -27.2098   -36.3093 H             2 Polymer \\n      96 H          -30.4434   -26.2013   -37.8747 H             2 Polymer \\n      97 H          -29.9018   -27.3062   -39.2044 H             2 Polymer \\n      98 H          -30.5469   -29.2813   -37.9152 H             2 Polymer \\n      99 H          -30.9993   -28.2570   -36.5142 H             2 Polymer \\n     100 H          -32.9671   -29.1520   -38.0274 H             2 Polymer \\n     101 H          -32.3091   -28.1285   -39.3115 H             2 Polymer \\n     102 H          -33.4100   -25.9598   -39.5215 H             2 Polymer \\n     103 H          -32.7570   -28.3808   -27.8022 H             2 Polymer \\n     104 H          -34.7760   -24.1457   -38.2652 H             2 Polymer \\n@<TRIPOS>BOND\\n       1        2        1 1\\n       2       12        1 1\\n       3       13        1 1\\n       4       14        1 1\\n       5        3        2 1\\n       6       15        2 1\\n       7       16        2 1\\n       8        4        3 1\\n       9       17        3 1\\n      10       18        3 1\\n      11        5        4 1\\n      12       19        4 1\\n      13       20        4 1\\n      14        6        5 1\\n      15       21        5 1\\n      16       22        5 1\\n      17        7        6 1\\n      18       23        6 1\\n      19       24        6 1\\n      20        8        7 1\\n      21       11        7 1\\n      22        9        8 1\\n      23       26        8 1\\n      24       10        9 1\\n      25       11       10 1\\n      26       27       10 1\\n      27       25       11 1\\n      28       29       28 1\\n      29       39       28 1\\n      30       40       28 1\\n      31       41       28 1\\n      32       30       29 1\\n      33       42       29 1\\n      34       43       29 1\\n      35       31       30 1\\n      36       44       30 1\\n      37       45       30 1\\n      38       32       31 1\\n      39       46       31 1\\n      40       47       31 1\\n      41       33       32 1\\n      42       48       32 1\\n      43       49       32 1\\n      44       34       33 1\\n      45       50       33 1\\n      46       51       33 1\\n      47       35       34 1\\n      48       38       34 1\\n      49       36       35 1\\n      50      103       35 1\\n      51       37       36 1\\n      52       38       37 1\\n      53       60       37 1\\n      54       52       38 1\\n      55       54       53 1\\n      56       64       53 1\\n      57       65       53 1\\n      58       66       53 1\\n      59       55       54 1\\n      60       67       54 1\\n      61       68       54 1\\n      62       56       55 1\\n      63       69       55 1\\n      64       70       55 1\\n      65       57       56 1\\n      66       71       56 1\\n      67       72       56 1\\n      68       58       57 1\\n      69       73       57 1\\n      70       74       57 1\\n      71       59       58 1\\n      72       75       58 1\\n      73       76       58 1\\n      74       60       59 1\\n      75       63       59 1\\n      76       61       60 1\\n      77       62       61 1\\n      78       63       62 1\\n      79       85       62 1\\n      80       77       63 1\\n      81       79       78 1\\n      82       89       78 1\\n      83       90       78 1\\n      84       91       78 1\\n      85       80       79 1\\n      86       92       79 1\\n      87       93       79 1\\n      88       81       80 1\\n      89       94       80 1\\n      90       95       80 1\\n      91       82       81 1\\n      92       96       81 1\\n      93       97       81 1\\n      94       83       82 1\\n      95       98       82 1\\n      96       99       82 1\\n      97       84       83 1\\n      98      100       83 1\\n      99      101       83 1\\n     100       85       84 1\\n     101       88       84 1\\n     102       86       85 1\\n     103       87       86 1\\n     104       88       87 1\\n     105      104       87 1\\n     106      102       88 1\\n@<TRIPOS>SUBSTRUCTURE\\n       1 Polymer         1 RESIDUE    0 **** ROOT      0\\n       2 Polymer        28 RESIDUE    0 **** ROOT      0\\n\",\"mol2\");\n",
       "\tviewer_16948073544021919.setStyle({\"stick\": {\"radius\": 0.2, \"color\": \"grey\"}, \"sphere\": {\"scale\": 0.3, \"colorscheme\": {}}});\n",
       "\tviewer_16948073544021919.zoomTo();\n",
       "viewer_16948073544021919.render();\n",
       "});\n",
       "</script>"
      ]
     },
     "metadata": {},
     "output_type": "display_data"
    },
    {
     "data": {
      "text/plain": [
       "<py3Dmol.view at 0x1396f7bb0>"
      ]
     },
     "execution_count": 2,
     "metadata": {},
     "output_type": "execute_result"
    }
   ],
   "source": [
    "from functions import MonToSmiles\n",
    "from functions.MonToSmiles import mon_to_smiles\n",
    "from mon_classes import P3HT\n",
    "\n",
    "smiles = mon_to_smiles(fragment=P3HT())[1]\n",
    "mon_dim = mon_to_smiles(fragment=P3HT())[0]\n",
    "\n",
    "mon_dim.visualize()"
   ]
  },
  {
   "cell_type": "code",
   "execution_count": 3,
   "id": "58432c25",
   "metadata": {},
   "outputs": [
    {
     "name": "stderr",
     "output_type": "stream",
     "text": [
      "LICENSE: Could not open license file \"oe_license.txt\" in local directory\n",
      "LICENSE: N.B. OE_LICENSE environment variable is not set\n",
      "LICENSE: N.B. OE_DIR environment variable is not set\n",
      "LICENSE: No product keys!\n",
      "LICENSE: No product keys!\n",
      "LICENSE: No product keys!\n",
      "Warning: Unable to load toolkit 'OpenEye Toolkit'. The Open Force Field Toolkit does not require the OpenEye Toolkits, and can use RDKit/AmberTools instead. However, if you have a valid license for the OpenEye Toolkits, consider installing them for faster performance and additional file format support: https://docs.eyesopen.com/toolkits/python/quickstart-python/linuxosx.html OpenEye offers free Toolkit licenses for academics: https://www.eyesopen.com/academic-licensing\n",
      "LICENSE: No product keys!\n"
     ]
    },
    {
     "name": "stdout",
     "output_type": "stream",
     "text": [
      "Done!\n"
     ]
    },
    {
     "name": "stderr",
     "output_type": "stream",
     "text": [
      "1 molecule converted\n"
     ]
    },
    {
     "data": {
      "text/plain": [
       "<Compound 27 particles, 27 bonds, non-periodic, id: 5843365744>"
      ]
     },
     "execution_count": 3,
     "metadata": {},
     "output_type": "execute_result"
    }
   ],
   "source": [
    "from functions import EspalomaFxn\n",
    "from functions.EspalomaFxn import espaloma\n",
    "\n",
    "typed_mol2 = '/Users/madilyn/Projects/repos/forcefields/typed_mol2/p3ht_test.mol2'\n",
    "xml_filepath = '/Users/madilyn/Projects/repos/forcefields/xml_files/p3ht_test.xml'\n",
    "\n",
    "espaloma(SMILES=smiles,\n",
    "        XML_FILEPATH=xml_filepath,\n",
    "        TYPED_FILEPATH=typed_mol2)"
   ]
  },
  {
   "cell_type": "code",
   "execution_count": null,
   "id": "9364e09b",
   "metadata": {},
   "outputs": [],
   "source": []
  }
 ],
 "metadata": {
  "kernelspec": {
   "display_name": "Python 3 (ipykernel)",
   "language": "python",
   "name": "python3"
  },
  "language_info": {
   "codemirror_mode": {
    "name": "ipython",
    "version": 3
   },
   "file_extension": ".py",
   "mimetype": "text/x-python",
   "name": "python",
   "nbconvert_exporter": "python",
   "pygments_lexer": "ipython3",
   "version": "3.9.16"
  }
 },
 "nbformat": 4,
 "nbformat_minor": 5
}
