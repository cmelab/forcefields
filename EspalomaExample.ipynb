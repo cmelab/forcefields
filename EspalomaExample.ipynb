{
 "cells": [
  {
   "cell_type": "markdown",
   "id": "7bdd549a",
   "metadata": {},
   "source": [
    "# Molecule from smiles: "
   ]
  },
  {
   "cell_type": "code",
   "execution_count": 4,
   "id": "887cd4b3-dc24-42a5-bb86-2c64c32cefea",
   "metadata": {},
   "outputs": [
    {
     "data": {
      "application/3dmoljs_load.v0": "<div id=\"3dmolviewer_1690305919849441\"  style=\"position: relative; width: 640px; height: 480px\">\n        <p id=\"3dmolwarning_1690305919849441\" style=\"background-color:#ffcccc;color:black\">You appear to be running in JupyterLab (or JavaScript failed to load for some other reason).  You need to install the 3dmol extension: <br>\n        <tt>jupyter labextension install jupyterlab_3dmol</tt></p>\n        </div>\n<script>\n\nvar loadScriptAsync = function(uri){\n  return new Promise((resolve, reject) => {\n    //this is to ignore the existence of requirejs amd\n    var savedexports, savedmodule;\n    if (typeof exports !== 'undefined') savedexports = exports;\n    else exports = {}\n    if (typeof module !== 'undefined') savedmodule = module;\n    else module = {}\n\n    var tag = document.createElement('script');\n    tag.src = uri;\n    tag.async = true;\n    tag.onload = () => {\n        exports = savedexports;\n        module = savedmodule;\n        resolve();\n    };\n  var firstScriptTag = document.getElementsByTagName('script')[0];\n  firstScriptTag.parentNode.insertBefore(tag, firstScriptTag);\n});\n};\n\nif(typeof $3Dmolpromise === 'undefined') {\n$3Dmolpromise = null;\n  $3Dmolpromise = loadScriptAsync('https://cdnjs.cloudflare.com/ajax/libs/3Dmol/2.0.1/3Dmol-min.js');\n}\n\nvar viewer_1690305919849441 = null;\nvar warn = document.getElementById(\"3dmolwarning_1690305919849441\");\nif(warn) {\n    warn.parentNode.removeChild(warn);\n}\n$3Dmolpromise.then(function() {\nviewer_1690305919849441 = $3Dmol.createViewer(document.getElementById(\"3dmolviewer_1690305919849441\"),{backgroundColor:\"white\"});\nviewer_1690305919849441.zoomTo();\n\tviewer_1690305919849441.addModel(\"@<TRIPOS>MOLECULE\\nPolymer\\n79 80 2 0 1\\nBIOPOLYMER\\nNO_CHARGES\\n@<TRIPOS>CRYSIN\\n   74.1678    69.4706    73.1699    90.0000    90.0000    90.0000  1  1\\n@<TRIPOS>ATOM\\n       1 C           34.1671    30.6668    30.2694 C             1 Polymer \\n       2 C           32.7795    30.5378    29.6485 C             1 Polymer \\n       3 C           31.8522    29.6942    30.5318 C             1 Polymer \\n       4 C           30.4646    29.5662    29.8937 C             1 Polymer \\n       5 C           29.5299    28.7081    30.7615 C             1 Polymer \\n       6 C           28.1478    28.5332    30.1131 C             1 Polymer \\n       7 C           27.4193    29.8406    29.9609 C             1 Polymer \\n       8 C           27.0463    30.6396    31.0387 C             1 Polymer \\n       9 S           26.2640    32.0003    30.4393 S             1 Polymer \\n      10 C           26.3890    31.5929    28.8138 C             1 Polymer \\n      11 C           27.0486    30.3757    28.7170 C             1 Polymer \\n      12 H           34.8149    31.2797    29.6073 H             1 Polymer \\n      13 H           34.6302    29.6642    30.3908 H             1 Polymer \\n      14 H           34.1017    31.1623    31.2616 H             1 Polymer \\n      15 H           32.8785    30.0608    28.6488 H             1 Polymer \\n      16 H           32.3487    31.5546    29.5177 H             1 Polymer \\n      17 H           32.2918    28.6803    30.6605 H             1 Polymer \\n      18 H           31.7556    30.1734    31.5308 H             1 Polymer \\n      19 H           30.0300    30.5818    29.7664 H             1 Polymer \\n      20 H           30.5656    29.0927    28.8925 H             1 Polymer \\n      21 H           29.9820    27.6997    30.8860 H             1 Polymer \\n      22 H           29.4195    29.1654    31.7687 H             1 Polymer \\n      23 H           27.5297    27.8570    30.7418 H             1 Polymer \\n      24 H           28.2785    28.0498    29.1200 H             1 Polymer \\n      25 H           27.2572    29.8930    27.7715 H             1 Polymer \\n      26 H           27.2260    30.4232    32.0832 H             1 Polymer \\n      27 H           26.0198    32.1773    27.9825 H             1 Polymer \\n      28 C          -25.8353   -29.5100   -29.4266 C             2 Polymer \\n      29 C          -27.2401   -29.7573   -29.9640 C             2 Polymer \\n      30 C          -28.1464   -30.3950   -28.9015 C             2 Polymer \\n      31 C          -29.5427   -30.6502   -29.4761 C             2 Polymer \\n      32 C          -30.5093   -31.2310   -28.4231 C             2 Polymer \\n      33 C          -31.8912   -31.5298   -29.0340 C             2 Polymer \\n      34 C          -32.4964   -30.2868   -29.6243 C             2 Polymer \\n      35 C          -32.8959   -29.1852   -28.8778 C             2 Polymer \\n      36 S          -33.4271   -28.0029   -29.9456 S             2 Polymer \\n      37 C          -33.1271   -28.8601   -31.3673 C             2 Polymer \\n      38 C          -32.6506   -30.1176   -31.0054 C             2 Polymer \\n      39 H          -25.2141   -29.0395   -30.2184 H             2 Polymer \\n      40 H          -25.3640   -30.4701   -29.1274 H             2 Polymer \\n      41 H          -25.8713   -28.8287   -28.5504 H             2 Polymer \\n      42 H          -27.1715   -30.4235   -30.8519 H             2 Polymer \\n      43 H          -27.6734   -28.7834   -30.2810 H             2 Polymer \\n      44 H          -27.7086   -31.3596   -28.5633 H             2 Polymer \\n      45 H          -28.2236   -29.7083   -28.0298 H             2 Polymer \\n      46 H          -29.9467   -29.6844   -29.8523 H             2 Polymer \\n      47 H          -29.4594   -31.3556   -30.3321 H             2 Polymer \\n      48 H          -30.0912   -32.1801   -28.0228 H             2 Polymer \\n      49 H          -30.6171   -30.5135   -27.5807 H             2 Polymer \\n      50 H          -32.5769   -31.9583   -28.2723 H             2 Polymer \\n      51 H          -31.7487   -32.2933   -29.8305 H             2 Polymer \\n      52 H          -32.3769   -30.8966   -31.6931 H             2 Polymer \\n      53 C          -26.0878   -27.8899   -33.5281 C             2 Polymer \\n      54 C          -27.4368   -27.8871   -34.2446 C             2 Polymer \\n      55 C          -28.3836   -28.9139   -33.6192 C             2 Polymer \\n      56 C          -29.7616   -28.9102   -34.2966 C             2 Polymer \\n      57 C          -30.6539   -29.9799   -33.6547 C             2 Polymer \\n      58 C          -32.0760   -30.0328   -34.2505 C             2 Polymer \\n      59 C          -32.8824   -28.7824   -33.9851 C             2 Polymer \\n      60 C          -33.3141   -28.2982   -32.7296 C             2 Polymer \\n      61 S          -34.1227   -26.8439   -32.9962 S             2 Polymer \\n      62 C          -33.9739   -26.8201   -34.6634 C             2 Polymer \\n      63 C          -33.2700   -27.9474   -35.0508 C             2 Polymer \\n      64 H          -25.4122   -27.1460   -33.9999 H             2 Polymer \\n      65 H          -25.6154   -28.8934   -33.5943 H             2 Polymer \\n      66 H          -26.2197   -27.6220   -32.4577 H             2 Polymer \\n      67 H          -27.2787   -28.1327   -35.3173 H             2 Polymer \\n      68 H          -27.8807   -26.8708   -34.1701 H             2 Polymer \\n      69 H          -27.9289   -29.9257   -33.7073 H             2 Polymer \\n      70 H          -28.5169   -28.6755   -32.5418 H             2 Polymer \\n      71 H          -30.2235   -27.9065   -34.1727 H             2 Polymer \\n      72 H          -29.6518   -29.1261   -35.3818 H             2 Polymer \\n      73 H          -30.1783   -30.9727   -33.8118 H             2 Polymer \\n      74 H          -30.6830   -29.7861   -32.5686 H             2 Polymer \\n      75 H          -32.6373   -30.9040   -33.8576 H             2 Polymer \\n      76 H          -31.9712   -30.1994   -35.3451 H             2 Polymer \\n      77 H          -33.0326   -28.1536   -36.0868 H             2 Polymer \\n      78 H          -32.8560   -29.0973   -27.8001 H             2 Polymer \\n      79 H          -34.3530   -26.0527   -35.3247 H             2 Polymer \\n@<TRIPOS>BOND\\n       1        2        1 1\\n       2       12        1 1\\n       3       13        1 1\\n       4       14        1 1\\n       5        3        2 1\\n       6       15        2 1\\n       7       16        2 1\\n       8        4        3 1\\n       9       17        3 1\\n      10       18        3 1\\n      11        5        4 1\\n      12       19        4 1\\n      13       20        4 1\\n      14        6        5 1\\n      15       21        5 1\\n      16       22        5 1\\n      17        7        6 1\\n      18       23        6 1\\n      19       24        6 1\\n      20        8        7 1\\n      21       11        7 1\\n      22        9        8 1\\n      23       26        8 1\\n      24       10        9 1\\n      25       11       10 1\\n      26       27       10 1\\n      27       25       11 1\\n      28       29       28 1\\n      29       39       28 1\\n      30       40       28 1\\n      31       41       28 1\\n      32       30       29 1\\n      33       42       29 1\\n      34       43       29 1\\n      35       31       30 1\\n      36       44       30 1\\n      37       45       30 1\\n      38       32       31 1\\n      39       46       31 1\\n      40       47       31 1\\n      41       33       32 1\\n      42       48       32 1\\n      43       49       32 1\\n      44       34       33 1\\n      45       50       33 1\\n      46       51       33 1\\n      47       35       34 1\\n      48       38       34 1\\n      49       36       35 1\\n      50       78       35 1\\n      51       37       36 1\\n      52       38       37 1\\n      53       60       37 1\\n      54       52       38 1\\n      55       54       53 1\\n      56       64       53 1\\n      57       65       53 1\\n      58       66       53 1\\n      59       55       54 1\\n      60       67       54 1\\n      61       68       54 1\\n      62       56       55 1\\n      63       69       55 1\\n      64       70       55 1\\n      65       57       56 1\\n      66       71       56 1\\n      67       72       56 1\\n      68       58       57 1\\n      69       73       57 1\\n      70       74       57 1\\n      71       59       58 1\\n      72       75       58 1\\n      73       76       58 1\\n      74       60       59 1\\n      75       63       59 1\\n      76       61       60 1\\n      77       62       61 1\\n      78       63       62 1\\n      79       79       62 1\\n      80       77       63 1\\n@<TRIPOS>SUBSTRUCTURE\\n       1 Polymer         1 RESIDUE    0 **** ROOT      0\\n       2 Polymer        28 RESIDUE    0 **** ROOT      0\\n\",\"mol2\");\n\tviewer_1690305919849441.setStyle({\"stick\": {\"radius\": 0.2, \"color\": \"grey\"}, \"sphere\": {\"scale\": 0.3, \"colorscheme\": {}}});\n\tviewer_1690305919849441.zoomTo();\nviewer_1690305919849441.render();\n});\n</script>",
      "text/html": [
       "<div id=\"3dmolviewer_1690305919849441\"  style=\"position: relative; width: 640px; height: 480px\">\n",
       "        <p id=\"3dmolwarning_1690305919849441\" style=\"background-color:#ffcccc;color:black\">You appear to be running in JupyterLab (or JavaScript failed to load for some other reason).  You need to install the 3dmol extension: <br>\n",
       "        <tt>jupyter labextension install jupyterlab_3dmol</tt></p>\n",
       "        </div>\n",
       "<script>\n",
       "\n",
       "var loadScriptAsync = function(uri){\n",
       "  return new Promise((resolve, reject) => {\n",
       "    //this is to ignore the existence of requirejs amd\n",
       "    var savedexports, savedmodule;\n",
       "    if (typeof exports !== 'undefined') savedexports = exports;\n",
       "    else exports = {}\n",
       "    if (typeof module !== 'undefined') savedmodule = module;\n",
       "    else module = {}\n",
       "\n",
       "    var tag = document.createElement('script');\n",
       "    tag.src = uri;\n",
       "    tag.async = true;\n",
       "    tag.onload = () => {\n",
       "        exports = savedexports;\n",
       "        module = savedmodule;\n",
       "        resolve();\n",
       "    };\n",
       "  var firstScriptTag = document.getElementsByTagName('script')[0];\n",
       "  firstScriptTag.parentNode.insertBefore(tag, firstScriptTag);\n",
       "});\n",
       "};\n",
       "\n",
       "if(typeof $3Dmolpromise === 'undefined') {\n",
       "$3Dmolpromise = null;\n",
       "  $3Dmolpromise = loadScriptAsync('https://cdnjs.cloudflare.com/ajax/libs/3Dmol/2.0.1/3Dmol-min.js');\n",
       "}\n",
       "\n",
       "var viewer_1690305919849441 = null;\n",
       "var warn = document.getElementById(\"3dmolwarning_1690305919849441\");\n",
       "if(warn) {\n",
       "    warn.parentNode.removeChild(warn);\n",
       "}\n",
       "$3Dmolpromise.then(function() {\n",
       "viewer_1690305919849441 = $3Dmol.createViewer(document.getElementById(\"3dmolviewer_1690305919849441\"),{backgroundColor:\"white\"});\n",
       "viewer_1690305919849441.zoomTo();\n",
       "\tviewer_1690305919849441.addModel(\"@<TRIPOS>MOLECULE\\nPolymer\\n79 80 2 0 1\\nBIOPOLYMER\\nNO_CHARGES\\n@<TRIPOS>CRYSIN\\n   74.1678    69.4706    73.1699    90.0000    90.0000    90.0000  1  1\\n@<TRIPOS>ATOM\\n       1 C           34.1671    30.6668    30.2694 C             1 Polymer \\n       2 C           32.7795    30.5378    29.6485 C             1 Polymer \\n       3 C           31.8522    29.6942    30.5318 C             1 Polymer \\n       4 C           30.4646    29.5662    29.8937 C             1 Polymer \\n       5 C           29.5299    28.7081    30.7615 C             1 Polymer \\n       6 C           28.1478    28.5332    30.1131 C             1 Polymer \\n       7 C           27.4193    29.8406    29.9609 C             1 Polymer \\n       8 C           27.0463    30.6396    31.0387 C             1 Polymer \\n       9 S           26.2640    32.0003    30.4393 S             1 Polymer \\n      10 C           26.3890    31.5929    28.8138 C             1 Polymer \\n      11 C           27.0486    30.3757    28.7170 C             1 Polymer \\n      12 H           34.8149    31.2797    29.6073 H             1 Polymer \\n      13 H           34.6302    29.6642    30.3908 H             1 Polymer \\n      14 H           34.1017    31.1623    31.2616 H             1 Polymer \\n      15 H           32.8785    30.0608    28.6488 H             1 Polymer \\n      16 H           32.3487    31.5546    29.5177 H             1 Polymer \\n      17 H           32.2918    28.6803    30.6605 H             1 Polymer \\n      18 H           31.7556    30.1734    31.5308 H             1 Polymer \\n      19 H           30.0300    30.5818    29.7664 H             1 Polymer \\n      20 H           30.5656    29.0927    28.8925 H             1 Polymer \\n      21 H           29.9820    27.6997    30.8860 H             1 Polymer \\n      22 H           29.4195    29.1654    31.7687 H             1 Polymer \\n      23 H           27.5297    27.8570    30.7418 H             1 Polymer \\n      24 H           28.2785    28.0498    29.1200 H             1 Polymer \\n      25 H           27.2572    29.8930    27.7715 H             1 Polymer \\n      26 H           27.2260    30.4232    32.0832 H             1 Polymer \\n      27 H           26.0198    32.1773    27.9825 H             1 Polymer \\n      28 C          -25.8353   -29.5100   -29.4266 C             2 Polymer \\n      29 C          -27.2401   -29.7573   -29.9640 C             2 Polymer \\n      30 C          -28.1464   -30.3950   -28.9015 C             2 Polymer \\n      31 C          -29.5427   -30.6502   -29.4761 C             2 Polymer \\n      32 C          -30.5093   -31.2310   -28.4231 C             2 Polymer \\n      33 C          -31.8912   -31.5298   -29.0340 C             2 Polymer \\n      34 C          -32.4964   -30.2868   -29.6243 C             2 Polymer \\n      35 C          -32.8959   -29.1852   -28.8778 C             2 Polymer \\n      36 S          -33.4271   -28.0029   -29.9456 S             2 Polymer \\n      37 C          -33.1271   -28.8601   -31.3673 C             2 Polymer \\n      38 C          -32.6506   -30.1176   -31.0054 C             2 Polymer \\n      39 H          -25.2141   -29.0395   -30.2184 H             2 Polymer \\n      40 H          -25.3640   -30.4701   -29.1274 H             2 Polymer \\n      41 H          -25.8713   -28.8287   -28.5504 H             2 Polymer \\n      42 H          -27.1715   -30.4235   -30.8519 H             2 Polymer \\n      43 H          -27.6734   -28.7834   -30.2810 H             2 Polymer \\n      44 H          -27.7086   -31.3596   -28.5633 H             2 Polymer \\n      45 H          -28.2236   -29.7083   -28.0298 H             2 Polymer \\n      46 H          -29.9467   -29.6844   -29.8523 H             2 Polymer \\n      47 H          -29.4594   -31.3556   -30.3321 H             2 Polymer \\n      48 H          -30.0912   -32.1801   -28.0228 H             2 Polymer \\n      49 H          -30.6171   -30.5135   -27.5807 H             2 Polymer \\n      50 H          -32.5769   -31.9583   -28.2723 H             2 Polymer \\n      51 H          -31.7487   -32.2933   -29.8305 H             2 Polymer \\n      52 H          -32.3769   -30.8966   -31.6931 H             2 Polymer \\n      53 C          -26.0878   -27.8899   -33.5281 C             2 Polymer \\n      54 C          -27.4368   -27.8871   -34.2446 C             2 Polymer \\n      55 C          -28.3836   -28.9139   -33.6192 C             2 Polymer \\n      56 C          -29.7616   -28.9102   -34.2966 C             2 Polymer \\n      57 C          -30.6539   -29.9799   -33.6547 C             2 Polymer \\n      58 C          -32.0760   -30.0328   -34.2505 C             2 Polymer \\n      59 C          -32.8824   -28.7824   -33.9851 C             2 Polymer \\n      60 C          -33.3141   -28.2982   -32.7296 C             2 Polymer \\n      61 S          -34.1227   -26.8439   -32.9962 S             2 Polymer \\n      62 C          -33.9739   -26.8201   -34.6634 C             2 Polymer \\n      63 C          -33.2700   -27.9474   -35.0508 C             2 Polymer \\n      64 H          -25.4122   -27.1460   -33.9999 H             2 Polymer \\n      65 H          -25.6154   -28.8934   -33.5943 H             2 Polymer \\n      66 H          -26.2197   -27.6220   -32.4577 H             2 Polymer \\n      67 H          -27.2787   -28.1327   -35.3173 H             2 Polymer \\n      68 H          -27.8807   -26.8708   -34.1701 H             2 Polymer \\n      69 H          -27.9289   -29.9257   -33.7073 H             2 Polymer \\n      70 H          -28.5169   -28.6755   -32.5418 H             2 Polymer \\n      71 H          -30.2235   -27.9065   -34.1727 H             2 Polymer \\n      72 H          -29.6518   -29.1261   -35.3818 H             2 Polymer \\n      73 H          -30.1783   -30.9727   -33.8118 H             2 Polymer \\n      74 H          -30.6830   -29.7861   -32.5686 H             2 Polymer \\n      75 H          -32.6373   -30.9040   -33.8576 H             2 Polymer \\n      76 H          -31.9712   -30.1994   -35.3451 H             2 Polymer \\n      77 H          -33.0326   -28.1536   -36.0868 H             2 Polymer \\n      78 H          -32.8560   -29.0973   -27.8001 H             2 Polymer \\n      79 H          -34.3530   -26.0527   -35.3247 H             2 Polymer \\n@<TRIPOS>BOND\\n       1        2        1 1\\n       2       12        1 1\\n       3       13        1 1\\n       4       14        1 1\\n       5        3        2 1\\n       6       15        2 1\\n       7       16        2 1\\n       8        4        3 1\\n       9       17        3 1\\n      10       18        3 1\\n      11        5        4 1\\n      12       19        4 1\\n      13       20        4 1\\n      14        6        5 1\\n      15       21        5 1\\n      16       22        5 1\\n      17        7        6 1\\n      18       23        6 1\\n      19       24        6 1\\n      20        8        7 1\\n      21       11        7 1\\n      22        9        8 1\\n      23       26        8 1\\n      24       10        9 1\\n      25       11       10 1\\n      26       27       10 1\\n      27       25       11 1\\n      28       29       28 1\\n      29       39       28 1\\n      30       40       28 1\\n      31       41       28 1\\n      32       30       29 1\\n      33       42       29 1\\n      34       43       29 1\\n      35       31       30 1\\n      36       44       30 1\\n      37       45       30 1\\n      38       32       31 1\\n      39       46       31 1\\n      40       47       31 1\\n      41       33       32 1\\n      42       48       32 1\\n      43       49       32 1\\n      44       34       33 1\\n      45       50       33 1\\n      46       51       33 1\\n      47       35       34 1\\n      48       38       34 1\\n      49       36       35 1\\n      50       78       35 1\\n      51       37       36 1\\n      52       38       37 1\\n      53       60       37 1\\n      54       52       38 1\\n      55       54       53 1\\n      56       64       53 1\\n      57       65       53 1\\n      58       66       53 1\\n      59       55       54 1\\n      60       67       54 1\\n      61       68       54 1\\n      62       56       55 1\\n      63       69       55 1\\n      64       70       55 1\\n      65       57       56 1\\n      66       71       56 1\\n      67       72       56 1\\n      68       58       57 1\\n      69       73       57 1\\n      70       74       57 1\\n      71       59       58 1\\n      72       75       58 1\\n      73       76       58 1\\n      74       60       59 1\\n      75       63       59 1\\n      76       61       60 1\\n      77       62       61 1\\n      78       63       62 1\\n      79       79       62 1\\n      80       77       63 1\\n@<TRIPOS>SUBSTRUCTURE\\n       1 Polymer         1 RESIDUE    0 **** ROOT      0\\n       2 Polymer        28 RESIDUE    0 **** ROOT      0\\n\",\"mol2\");\n",
       "\tviewer_1690305919849441.setStyle({\"stick\": {\"radius\": 0.2, \"color\": \"grey\"}, \"sphere\": {\"scale\": 0.3, \"colorscheme\": {}}});\n",
       "\tviewer_1690305919849441.zoomTo();\n",
       "viewer_1690305919849441.render();\n",
       "});\n",
       "</script>"
      ]
     },
     "metadata": {},
     "output_type": "display_data"
    },
    {
     "data": {
      "text/plain": [
       "<py3Dmol.view at 0x164cec490>"
      ]
     },
     "execution_count": 4,
     "metadata": {},
     "output_type": "execute_result"
    }
   ],
   "source": [
    "from functions import MonToSmiles\n",
    "from functions.MonToSmiles import mon_to_smiles\n",
    "from mon_classes import P3HT\n",
    "\n",
    "smiles = mon_to_smiles(fragment=P3HT())[1]\n",
    "mon_dim = mon_to_smiles(fragment=P3HT())[0]\n",
    "\n",
    "mon_dim.visualize()"
   ]
  },
  {
   "cell_type": "code",
   "execution_count": 5,
   "id": "58432c25",
   "metadata": {},
   "outputs": [
    {
     "name": "stdout",
     "output_type": "stream",
     "text": [
      "Done!\n"
     ]
    },
    {
     "name": "stderr",
     "output_type": "stream",
     "text": [
      "1 molecule converted\n"
     ]
    },
    {
     "data": {
      "text/plain": [
       "<Compound 27 particles, 27 bonds, non-periodic, id: 5988163392>"
      ]
     },
     "execution_count": 5,
     "metadata": {},
     "output_type": "execute_result"
    }
   ],
   "source": [
    "from functions import EspalomaFxn\n",
    "from functions.EspalomaFxn import espaloma\n",
    "\n",
    "typed_mol2 = '/Users/madilyn/Projects/repos/forcefields/typed_mol2/P3HT.mol2'\n",
    "xml_filepath = '/Users/madilyn/Projects/repos/forcefields/xml_files/P3HT.xml'\n",
    "\n",
    "espaloma(SMILES=smiles,\n",
    "        XML_FILEPATH=xml_filepath,\n",
    "        TYPED_FILEPATH=typed_mol2)"
   ]
  },
  {
   "cell_type": "code",
   "execution_count": null,
   "id": "9364e09b",
   "metadata": {},
   "outputs": [],
   "source": []
  }
 ],
 "metadata": {
  "kernelspec": {
   "display_name": "Python 3 (ipykernel)",
   "language": "python",
   "name": "python3"
  },
  "language_info": {
   "codemirror_mode": {
    "name": "ipython",
    "version": 3
   },
   "file_extension": ".py",
   "mimetype": "text/x-python",
   "name": "python",
   "nbconvert_exporter": "python",
   "pygments_lexer": "ipython3",
   "version": "3.9.16"
  }
 },
 "nbformat": 4,
 "nbformat_minor": 5
}
