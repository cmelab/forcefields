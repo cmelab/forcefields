{
 "cells": [
  {
   "cell_type": "markdown",
   "id": "7bdd549a",
   "metadata": {},
   "source": [
    "# Molecule from smiles: "
   ]
  },
  {
   "cell_type": "code",
   "execution_count": null,
   "id": "58432c25",
   "metadata": {},
   "outputs": [],
   "source": [
    "from functions import MonToSmiles\n",
    "from functions.MonToSmiles import mon_to_smiles\n",
    "from mon_classes import PCPDT_PT_eneHD \n",
    "\n",
    "smiles = mon_to_smiles(fragment=PCPDT_PT_eneHD())[1]\n",
    "\n",
    "from functions import EspalomaFxn\n",
    "from functions.EspalomaFxn import espaloma\n",
    "\n",
    "typed_mol2 = '/Users/madilyn/Projects/repos/forcefields/typed_mol2/PCPDTPT_eneHD.mol2'\n",
    "xml_filepath = '/Users/madilyn/Projects/repos/forcefields/xml_files/PCPDTPT_eneHD.xml'\n",
    "\n",
    "espaloma(SMILES=smiles,\n",
    "        XML_FILEPATH=xml_filepath,\n",
    "        TYPED_FILEPATH=typed_mol2)"
   ]
  }
 ],
 "metadata": {
  "kernelspec": {
   "display_name": "Python 3 (ipykernel)",
   "language": "python",
   "name": "python3"
  },
  "language_info": {
   "codemirror_mode": {
    "name": "ipython",
    "version": 3
   },
   "file_extension": ".py",
   "mimetype": "text/x-python",
   "name": "python",
   "nbconvert_exporter": "python",
   "pygments_lexer": "ipython3",
   "version": "3.9.16"
  }
 },
 "nbformat": 4,
 "nbformat_minor": 5
}
