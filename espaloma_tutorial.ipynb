{
 "cells": [
  {
   "cell_type": "code",
   "execution_count": 2,
   "id": "479c0d76-3b6f-4bf8-8bcb-ef1575339efd",
   "metadata": {},
   "outputs": [],
   "source": [
    "import warnings\n",
    "warnings.filterwarnings(action='ignore')\n",
    "\n",
    "import mbuild as mb\n",
    "from functions.Espaloma_Functions import build_chain, build_polymer, espaloma"
   ]
  },
  {
   "cell_type": "markdown",
   "id": "3b1f3ab8-cbcf-47f5-a132-fa54d5a31f0f",
   "metadata": {},
   "source": [
    "### Create mBuild Compound class:  \n",
    "##### We use a class to initialize the mBuild compound so it can store all our polymerization information (i.e. polymer bond indices)"
   ]
  },
  {
   "cell_type": "code",
   "execution_count": 9,
   "id": "55dd015b-3065-4a8f-a8e3-7ffb0ca5f334",
   "metadata": {},
   "outputs": [],
   "source": [
    "class PP(mb.Compound):\n",
    "    def __init__(self):\n",
    "        super(PP,self).__init__()\n",
    "        self.add(mb.load(\"CC=C\",smiles=True))\n",
    "        "
   ]
  },
  {
   "cell_type": "code",
   "execution_count": 11,
   "id": "4a556ee9-fcc8-44c3-bff5-2eeaef5c2389",
   "metadata": {},
   "outputs": [
    {
     "data": {
      "application/3dmoljs_load.v0": "<div id=\"3dmolviewer_17225389180245907\"  style=\"position: relative; width: 640px; height: 480px;\">\n        <p id=\"3dmolwarning_17225389180245907\" style=\"background-color:#ffcccc;color:black\">3Dmol.js failed to load for some reason.  Please check your browser console for error messages.<br></p>\n        </div>\n<script>\n\nvar loadScriptAsync = function(uri){\n  return new Promise((resolve, reject) => {\n    //this is to ignore the existence of requirejs amd\n    var savedexports, savedmodule;\n    if (typeof exports !== 'undefined') savedexports = exports;\n    else exports = {}\n    if (typeof module !== 'undefined') savedmodule = module;\n    else module = {}\n\n    var tag = document.createElement('script');\n    tag.src = uri;\n    tag.async = true;\n    tag.onload = () => {\n        exports = savedexports;\n        module = savedmodule;\n        resolve();\n    };\n  var firstScriptTag = document.getElementsByTagName('script')[0];\n  firstScriptTag.parentNode.insertBefore(tag, firstScriptTag);\n});\n};\n\nif(typeof $3Dmolpromise === 'undefined') {\n$3Dmolpromise = null;\n  $3Dmolpromise = loadScriptAsync('https://cdnjs.cloudflare.com/ajax/libs/3Dmol/2.2.1-post1/3Dmol-min.js');\n}\n\nvar viewer_17225389180245907 = null;\nvar warn = document.getElementById(\"3dmolwarning_17225389180245907\");\nif(warn) {\n    warn.parentNode.removeChild(warn);\n}\n$3Dmolpromise.then(function() {\nviewer_17225389180245907 = $3Dmol.createViewer(document.getElementById(\"3dmolviewer_17225389180245907\"),{backgroundColor:\"white\"});\nviewer_17225389180245907.zoomTo();\n\tviewer_17225389180245907.addModel(\"@<TRIPOS>MOLECULE\\nRES\\n9 8 1 0 1\\nSMALL\\nNO_CHARGES\\n@<TRIPOS>CRYSIN\\n    8.7372     8.2164     6.9768    90.0000    90.0000    90.0000 1 1\\n@<TRIPOS>ATOM\\n       1 C           -0.9967    -0.4164    -0.3140 C             1 RES     \\n       2 C            0.4237    -0.3625     0.1563 C             1 RES     \\n       3 C            1.0538     0.8033     0.3167 C             1 RES     \\n       4 H           -1.6536     0.1226     0.4009 H             1 RES     \\n       5 H           -1.0816     0.0501    -1.3182 H             1 RES     \\n       6 H           -1.3292    -1.4735    -0.3801 H             1 RES     \\n       7 H            0.9497    -1.2882     0.3703 H             1 RES     \\n       8 H            2.0836     0.8216     0.6586 H             1 RES     \\n       9 H            0.5503     1.7429     0.1096 H             1 RES     \\n@<TRIPOS>BOND\\n       1        1        2 1\\n       2        1        4 1\\n       3        1        5 1\\n       4        1        6 1\\n       5        2        3 1\\n       6        2        7 1\\n       7        3        8 1\\n       8        3        9 1\\n@<TRIPOS>SUBSTRUCTURE\\n       1 RES             1 RESIDUE    0 **** ROOT      0\\n\",\"mol2\");\n\tviewer_17225389180245907.setStyle({\"stick\": {\"radius\": 0.18, \"color\": \"grey\"}, \"sphere\": {\"scale\": 0.3, \"colorscheme\": {}}});\n\tviewer_17225389180245907.zoomTo();\nviewer_17225389180245907.render();\n});\n</script>",
      "text/html": [
       "<div id=\"3dmolviewer_17225389180245907\"  style=\"position: relative; width: 640px; height: 480px;\">\n",
       "        <p id=\"3dmolwarning_17225389180245907\" style=\"background-color:#ffcccc;color:black\">3Dmol.js failed to load for some reason.  Please check your browser console for error messages.<br></p>\n",
       "        </div>\n",
       "<script>\n",
       "\n",
       "var loadScriptAsync = function(uri){\n",
       "  return new Promise((resolve, reject) => {\n",
       "    //this is to ignore the existence of requirejs amd\n",
       "    var savedexports, savedmodule;\n",
       "    if (typeof exports !== 'undefined') savedexports = exports;\n",
       "    else exports = {}\n",
       "    if (typeof module !== 'undefined') savedmodule = module;\n",
       "    else module = {}\n",
       "\n",
       "    var tag = document.createElement('script');\n",
       "    tag.src = uri;\n",
       "    tag.async = true;\n",
       "    tag.onload = () => {\n",
       "        exports = savedexports;\n",
       "        module = savedmodule;\n",
       "        resolve();\n",
       "    };\n",
       "  var firstScriptTag = document.getElementsByTagName('script')[0];\n",
       "  firstScriptTag.parentNode.insertBefore(tag, firstScriptTag);\n",
       "});\n",
       "};\n",
       "\n",
       "if(typeof $3Dmolpromise === 'undefined') {\n",
       "$3Dmolpromise = null;\n",
       "  $3Dmolpromise = loadScriptAsync('https://cdnjs.cloudflare.com/ajax/libs/3Dmol/2.2.1-post1/3Dmol-min.js');\n",
       "}\n",
       "\n",
       "var viewer_17225389180245907 = null;\n",
       "var warn = document.getElementById(\"3dmolwarning_17225389180245907\");\n",
       "if(warn) {\n",
       "    warn.parentNode.removeChild(warn);\n",
       "}\n",
       "$3Dmolpromise.then(function() {\n",
       "viewer_17225389180245907 = $3Dmol.createViewer(document.getElementById(\"3dmolviewer_17225389180245907\"),{backgroundColor:\"white\"});\n",
       "viewer_17225389180245907.zoomTo();\n",
       "\tviewer_17225389180245907.addModel(\"@<TRIPOS>MOLECULE\\nRES\\n9 8 1 0 1\\nSMALL\\nNO_CHARGES\\n@<TRIPOS>CRYSIN\\n    8.7372     8.2164     6.9768    90.0000    90.0000    90.0000 1 1\\n@<TRIPOS>ATOM\\n       1 C           -0.9967    -0.4164    -0.3140 C             1 RES     \\n       2 C            0.4237    -0.3625     0.1563 C             1 RES     \\n       3 C            1.0538     0.8033     0.3167 C             1 RES     \\n       4 H           -1.6536     0.1226     0.4009 H             1 RES     \\n       5 H           -1.0816     0.0501    -1.3182 H             1 RES     \\n       6 H           -1.3292    -1.4735    -0.3801 H             1 RES     \\n       7 H            0.9497    -1.2882     0.3703 H             1 RES     \\n       8 H            2.0836     0.8216     0.6586 H             1 RES     \\n       9 H            0.5503     1.7429     0.1096 H             1 RES     \\n@<TRIPOS>BOND\\n       1        1        2 1\\n       2        1        4 1\\n       3        1        5 1\\n       4        1        6 1\\n       5        2        3 1\\n       6        2        7 1\\n       7        3        8 1\\n       8        3        9 1\\n@<TRIPOS>SUBSTRUCTURE\\n       1 RES             1 RESIDUE    0 **** ROOT      0\\n\",\"mol2\");\n",
       "\tviewer_17225389180245907.setStyle({\"stick\": {\"radius\": 0.18, \"color\": \"grey\"}, \"sphere\": {\"scale\": 0.3, \"colorscheme\": {}}});\n",
       "\tviewer_17225389180245907.zoomTo();\n",
       "viewer_17225389180245907.render();\n",
       "});\n",
       "</script>"
      ]
     },
     "metadata": {},
     "output_type": "display_data"
    },
    {
     "data": {
      "text/plain": [
       "<py3Dmol.view at 0x7f37129f4c70>"
      ]
     },
     "execution_count": 11,
     "metadata": {},
     "output_type": "execute_result"
    }
   ],
   "source": [
    "pp = PP()\n",
    "pp.visualize()"
   ]
  },
  {
   "cell_type": "code",
   "execution_count": 3,
   "id": "a1b3a41d-d4ab-4ad2-902a-82dc4c72c7fe",
   "metadata": {},
   "outputs": [],
   "source": [
    "#create your molecule instance from a class:\n",
    "class P3HT(mb.Compound):\n",
    "    def __init__(self):\n",
    "        super(P3HT,self).__init__()\n",
    "        self.add(mb.load(\"CCCCCCc1ccsc1\",smiles=True)) #smiles string of molecule\n",
    "        self.bond_indices = [24,25] #bond indices where polymerization would occur\n",
    "        self.orientations = [None,None] #orientation of polymer bonds\n",
    "        self.separation = 0.14 #separation of polymer bonds\n",
    "        self.replace = True #true if replacing H's when building polymer\n",
    "        self.energy_minimize()"
   ]
  },
  {
   "cell_type": "markdown",
   "id": "c443ebd8-673f-43ab-8e80-5fb17daffdd1",
   "metadata": {},
   "source": [
    "### Generate Typed mol2 file and XML file with Espaloma:"
   ]
  },
  {
   "cell_type": "markdown",
   "id": "1598baaf-e8c1-46ef-9709-3090105d182c",
   "metadata": {},
   "source": [
    "##### Define the filepath where the XML file and typed mol2 file will be saved. \n",
    "##### The typed mol2 file is a mol2 file of your molecule where the atom names have been replaced with the corresponding atom types in the XML file. \n",
    "##### This typed mol2 file must be used when intializing a simulation where the generated XML file will be used. "
   ]
  },
  {
   "cell_type": "code",
   "execution_count": 13,
   "id": "cd840090-d3dc-4851-a0cb-7e4170d23709",
   "metadata": {},
   "outputs": [
    {
     "name": "stdout",
     "output_type": "stream",
     "text": [
      "Done!\n",
      "Typed mol2 file created.\n",
      "xml file created.\n"
     ]
    }
   ],
   "source": [
    "'''Set the file path where you would like to save your xml file and atom-typed mol2 file'''\n",
    "xml_filepath = \"/mnt/d/pp.xml\"\n",
    "typed_filepath = \"/mnt/d/pp.mol2\"\n",
    "\n",
    "\n",
    "espaloma(MONOMER=PP(),  #Call in your molecule from your molecule class \n",
    "         XML_FILEPATH=xml_filepath,\n",
    "         TYPED_FILEPATH=typed_filepath,\n",
    "         DIMER=False) #if planning on polymerizing the molecule set = True. "
   ]
  },
  {
   "cell_type": "markdown",
   "id": "10d56a38-49bb-487e-9312-67dbef12cf2f",
   "metadata": {},
   "source": [
    "### Visualize the typed mol2 file\n",
    "##### In order to parameterize our molecules with the generated xml file we have to use the 'typed' mol2 file.\n",
    "This file has renamed the atoms by thier corresponding atom type in the xml file."
   ]
  },
  {
   "cell_type": "code",
   "execution_count": 14,
   "id": "c2df0100-4099-4a7e-900d-4d6e6df68942",
   "metadata": {},
   "outputs": [
    {
     "data": {
      "application/3dmoljs_load.v0": "<div id=\"3dmolviewer_17225397573807704\"  style=\"position: relative; width: 640px; height: 480px;\">\n        <p id=\"3dmolwarning_17225397573807704\" style=\"background-color:#ffcccc;color:black\">3Dmol.js failed to load for some reason.  Please check your browser console for error messages.<br></p>\n        </div>\n<script>\n\nvar loadScriptAsync = function(uri){\n  return new Promise((resolve, reject) => {\n    //this is to ignore the existence of requirejs amd\n    var savedexports, savedmodule;\n    if (typeof exports !== 'undefined') savedexports = exports;\n    else exports = {}\n    if (typeof module !== 'undefined') savedmodule = module;\n    else module = {}\n\n    var tag = document.createElement('script');\n    tag.src = uri;\n    tag.async = true;\n    tag.onload = () => {\n        exports = savedexports;\n        module = savedmodule;\n        resolve();\n    };\n  var firstScriptTag = document.getElementsByTagName('script')[0];\n  firstScriptTag.parentNode.insertBefore(tag, firstScriptTag);\n});\n};\n\nif(typeof $3Dmolpromise === 'undefined') {\n$3Dmolpromise = null;\n  $3Dmolpromise = loadScriptAsync('https://cdnjs.cloudflare.com/ajax/libs/3Dmol/2.2.1-post1/3Dmol-min.js');\n}\n\nvar viewer_17225397573807704 = null;\nvar warn = document.getElementById(\"3dmolwarning_17225397573807704\");\nif(warn) {\n    warn.parentNode.removeChild(warn);\n}\n$3Dmolpromise.then(function() {\nviewer_17225397573807704 = $3Dmol.createViewer(document.getElementById(\"3dmolviewer_17225397573807704\"),{backgroundColor:\"white\"});\nviewer_17225397573807704.zoomTo();\n\tviewer_17225397573807704.addModel(\"@<TRIPOS>MOLECULE\\nRES\\n9 8 1 0 1\\nSMALL\\nNO_CHARGES\\n@<TRIPOS>CRYSIN\\n    8.7372     8.2164     6.9768    90.0000    90.0000    90.0000 1 1\\n@<TRIPOS>ATOM\\n       1 C0          -0.9967    -0.4164    -0.3140 C0            1 RES     \\n       2 C1           0.4237    -0.3625     0.1563 C1            1 RES     \\n       3 C1           1.0538     0.8033     0.3167 C1            1 RES     \\n       4 H2          -1.6536     0.1226     0.4009 H2            1 RES     \\n       5 H2          -1.0816     0.0501    -1.3182 H2            1 RES     \\n       6 H2          -1.3292    -1.4735    -0.3801 H2            1 RES     \\n       7 H3           0.9497    -1.2882     0.3703 H3            1 RES     \\n       8 H3           2.0836     0.8216     0.6586 H3            1 RES     \\n       9 H3           0.5503     1.7429     0.1096 H3            1 RES     \\n@<TRIPOS>BOND\\n       1        1        2 1\\n       2        1        4 1\\n       3        1        5 1\\n       4        1        6 1\\n       5        2        3 1\\n       6        2        7 1\\n       7        3        8 1\\n       8        3        9 1\\n@<TRIPOS>SUBSTRUCTURE\\n       1 RES             1 RESIDUE    0 **** ROOT      0\\n\",\"mol2\");\n\tviewer_17225397573807704.setStyle({\"stick\": {\"radius\": 0.18, \"color\": \"grey\"}, \"sphere\": {\"scale\": 0.3, \"colorscheme\": {}}});\n\tviewer_17225397573807704.zoomTo();\nviewer_17225397573807704.render();\n});\n</script>",
      "text/html": [
       "<div id=\"3dmolviewer_17225397573807704\"  style=\"position: relative; width: 640px; height: 480px;\">\n",
       "        <p id=\"3dmolwarning_17225397573807704\" style=\"background-color:#ffcccc;color:black\">3Dmol.js failed to load for some reason.  Please check your browser console for error messages.<br></p>\n",
       "        </div>\n",
       "<script>\n",
       "\n",
       "var loadScriptAsync = function(uri){\n",
       "  return new Promise((resolve, reject) => {\n",
       "    //this is to ignore the existence of requirejs amd\n",
       "    var savedexports, savedmodule;\n",
       "    if (typeof exports !== 'undefined') savedexports = exports;\n",
       "    else exports = {}\n",
       "    if (typeof module !== 'undefined') savedmodule = module;\n",
       "    else module = {}\n",
       "\n",
       "    var tag = document.createElement('script');\n",
       "    tag.src = uri;\n",
       "    tag.async = true;\n",
       "    tag.onload = () => {\n",
       "        exports = savedexports;\n",
       "        module = savedmodule;\n",
       "        resolve();\n",
       "    };\n",
       "  var firstScriptTag = document.getElementsByTagName('script')[0];\n",
       "  firstScriptTag.parentNode.insertBefore(tag, firstScriptTag);\n",
       "});\n",
       "};\n",
       "\n",
       "if(typeof $3Dmolpromise === 'undefined') {\n",
       "$3Dmolpromise = null;\n",
       "  $3Dmolpromise = loadScriptAsync('https://cdnjs.cloudflare.com/ajax/libs/3Dmol/2.2.1-post1/3Dmol-min.js');\n",
       "}\n",
       "\n",
       "var viewer_17225397573807704 = null;\n",
       "var warn = document.getElementById(\"3dmolwarning_17225397573807704\");\n",
       "if(warn) {\n",
       "    warn.parentNode.removeChild(warn);\n",
       "}\n",
       "$3Dmolpromise.then(function() {\n",
       "viewer_17225397573807704 = $3Dmol.createViewer(document.getElementById(\"3dmolviewer_17225397573807704\"),{backgroundColor:\"white\"});\n",
       "viewer_17225397573807704.zoomTo();\n",
       "\tviewer_17225397573807704.addModel(\"@<TRIPOS>MOLECULE\\nRES\\n9 8 1 0 1\\nSMALL\\nNO_CHARGES\\n@<TRIPOS>CRYSIN\\n    8.7372     8.2164     6.9768    90.0000    90.0000    90.0000 1 1\\n@<TRIPOS>ATOM\\n       1 C0          -0.9967    -0.4164    -0.3140 C0            1 RES     \\n       2 C1           0.4237    -0.3625     0.1563 C1            1 RES     \\n       3 C1           1.0538     0.8033     0.3167 C1            1 RES     \\n       4 H2          -1.6536     0.1226     0.4009 H2            1 RES     \\n       5 H2          -1.0816     0.0501    -1.3182 H2            1 RES     \\n       6 H2          -1.3292    -1.4735    -0.3801 H2            1 RES     \\n       7 H3           0.9497    -1.2882     0.3703 H3            1 RES     \\n       8 H3           2.0836     0.8216     0.6586 H3            1 RES     \\n       9 H3           0.5503     1.7429     0.1096 H3            1 RES     \\n@<TRIPOS>BOND\\n       1        1        2 1\\n       2        1        4 1\\n       3        1        5 1\\n       4        1        6 1\\n       5        2        3 1\\n       6        2        7 1\\n       7        3        8 1\\n       8        3        9 1\\n@<TRIPOS>SUBSTRUCTURE\\n       1 RES             1 RESIDUE    0 **** ROOT      0\\n\",\"mol2\");\n",
       "\tviewer_17225397573807704.setStyle({\"stick\": {\"radius\": 0.18, \"color\": \"grey\"}, \"sphere\": {\"scale\": 0.3, \"colorscheme\": {}}});\n",
       "\tviewer_17225397573807704.zoomTo();\n",
       "viewer_17225397573807704.render();\n",
       "});\n",
       "</script>"
      ]
     },
     "metadata": {},
     "output_type": "display_data"
    }
   ],
   "source": [
    "typed = mb.load(typed_filepath)\n",
    "typed.visualize().show()\n"
   ]
  },
  {
   "cell_type": "code",
   "execution_count": 15,
   "id": "e4e7697e-87a6-41d9-8eaf-0e971c8fc041",
   "metadata": {},
   "outputs": [
    {
     "name": "stdout",
     "output_type": "stream",
     "text": [
      "C0\n",
      "C1\n",
      "C1\n",
      "H2\n",
      "H2\n",
      "H2\n",
      "H3\n",
      "H3\n",
      "H3\n"
     ]
    }
   ],
   "source": [
    "for i in typed.particles():\n",
    "    print(i.name)"
   ]
  },
  {
   "cell_type": "markdown",
   "id": "e733c912-da6e-44bd-9a5a-b2b9bdf7f55a",
   "metadata": {},
   "source": [
    "### Build a polymer from typed mol2 file:"
   ]
  },
  {
   "cell_type": "code",
   "execution_count": null,
   "id": "18d88a50-75d4-42af-a33f-3072ca5a598a",
   "metadata": {},
   "outputs": [],
   "source": [
    "typed_mol2 = mb.load(typed_filepath)\n",
    "\n",
    "polymer = build_polymer(monomer=typed_mol2,\n",
    "                        length=10,  #length of polymer you want to build\n",
    "                       bond_indices= [24,25], #indices where you want to create your polymer bonds\n",
    "                       separation=0.17,\n",
    "                       replace=True,\n",
    "                       orientations=[None,None],\n",
    "                       min_energy=False)\n",
    "\n",
    "polymer.visualize()"
   ]
  },
  {
   "cell_type": "code",
   "execution_count": null,
   "id": "e8021f1a-93f3-4cb9-944d-3525a1c94726",
   "metadata": {},
   "outputs": [],
   "source": []
  },
  {
   "cell_type": "code",
   "execution_count": null,
   "id": "b9c79840-6e13-4bbf-ae15-f59c86539170",
   "metadata": {},
   "outputs": [],
   "source": []
  },
  {
   "cell_type": "code",
   "execution_count": null,
   "id": "baffdae8-ac3d-449f-8d5b-1c8088fadbee",
   "metadata": {},
   "outputs": [],
   "source": []
  },
  {
   "cell_type": "code",
   "execution_count": null,
   "id": "ad543e2a-d307-4a17-b11e-93d9a02ed02a",
   "metadata": {},
   "outputs": [],
   "source": []
  }
 ],
 "metadata": {
  "kernelspec": {
   "display_name": "Python 3 (ipykernel)",
   "language": "python",
   "name": "python3"
  },
  "language_info": {
   "codemirror_mode": {
    "name": "ipython",
    "version": 3
   },
   "file_extension": ".py",
   "mimetype": "text/x-python",
   "name": "python",
   "nbconvert_exporter": "python",
   "pygments_lexer": "ipython3",
   "version": "3.11.0"
  }
 },
 "nbformat": 4,
 "nbformat_minor": 5
}
