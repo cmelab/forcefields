{
 "cells": [
  {
   "cell_type": "code",
   "execution_count": null,
   "id": "479c0d76-3b6f-4bf8-8bcb-ef1575339efd",
   "metadata": {},
   "outputs": [],
   "source": [
    "import warnings\n",
    "warnings.filterwarnings(action='ignore')\n",
    "\n",
    "import mbuild as mb\n",
    "from functions.Espaloma_Functions import build_chain, build_polymer, espaloma"
   ]
  },
  {
   "cell_type": "markdown",
   "id": "3b1f3ab8-cbcf-47f5-a132-fa54d5a31f0f",
   "metadata": {},
   "source": [
    "### Create mBuild Compound class:  \n",
    "##### We use a class to initialize the mBuild compound so it can store all our polymerization information (i.e. polymer bond indices)"
   ]
  },
  {
   "cell_type": "code",
   "execution_count": null,
   "id": "a1b3a41d-d4ab-4ad2-902a-82dc4c72c7fe",
   "metadata": {},
   "outputs": [],
   "source": [
    "#create your molecule instance from a class:\n",
    "class P3HT(mb.Compound):\n",
    "    def __init__(self):\n",
    "        super(P3HT,self).__init__()\n",
    "        self.add(mb.load(\"CCCCCCc1ccsc1\",smiles=True)) #smiles string of molecule\n",
    "        self.bond_indices = [24,25] #bond indices where polymerization would occur\n",
    "        self.orientations = [None,None] #orientation of polymer bonds\n",
    "        self.separation = 0.14 #separation of polymer bonds\n",
    "        self.replace = True #true if replacing H's when building polymer\n",
    "        self.energy_minimize()"
   ]
  },
  {
   "cell_type": "markdown",
   "id": "c443ebd8-673f-43ab-8e80-5fb17daffdd1",
   "metadata": {},
   "source": [
    "### Generate Typed mol2 file and XML file with Espaloma:"
   ]
  },
  {
   "cell_type": "markdown",
   "id": "1598baaf-e8c1-46ef-9709-3090105d182c",
   "metadata": {},
   "source": [
    "##### Define the filepath where the XML file and typed mol2 file will be saved. \n",
    "##### The typed mol2 file is a mol2 file of your molecule where the atom names have been replaced with the corresponding atom types in the XML file. \n",
    "##### This typed mol2 file must be used when intializing a simulation where the generated XML file will be used. "
   ]
  },
  {
   "cell_type": "code",
   "execution_count": null,
   "id": "cd840090-d3dc-4851-a0cb-7e4170d23709",
   "metadata": {},
   "outputs": [],
   "source": [
    "'''Set the file path where you would like to save your xml file and atom-typed mol2 file'''\n",
    "xml_filepath = \"XML_EXAMPLE.xml\"\n",
    "typed_filepath = \"TYPED_MOL2_EXAMPLE.mol2\"\n",
    "\n",
    "\n",
    "espaloma(MONOMER=P3HT(),  #Call in your molecule from your molecule class \n",
    "         XML_FILEPATH=xml_filepath,\n",
    "         TYPED_FILEPATH=typed_filepath,\n",
    "         DIMER=True) #if planning on polymerizing the molecule set = True. "
   ]
  },
  {
   "cell_type": "markdown",
   "id": "10d56a38-49bb-487e-9312-67dbef12cf2f",
   "metadata": {},
   "source": [
    "### Visualize the typed mol2 file\n",
    "##### In order to parameterize our molecules with the generated xml file we have to use the 'typed' mol2 file.\n",
    "This file has renamed the atoms by thier corresponding atom type in the xml file."
   ]
  },
  {
   "cell_type": "code",
   "execution_count": null,
   "id": "c2df0100-4099-4a7e-900d-4d6e6df68942",
   "metadata": {},
   "outputs": [],
   "source": [
    "typed = mb.load(typed_filepath)\n",
    "typed.visualize().show()\n"
   ]
  },
  {
   "cell_type": "markdown",
   "id": "e733c912-da6e-44bd-9a5a-b2b9bdf7f55a",
   "metadata": {
    "jp-MarkdownHeadingCollapsed": true
   },
   "source": [
    "### Build a polymer from typed mol2 file:"
   ]
  },
  {
   "cell_type": "code",
   "execution_count": null,
   "id": "18d88a50-75d4-42af-a33f-3072ca5a598a",
   "metadata": {},
   "outputs": [],
   "source": [
    "typed_mol2 = mb.load(typed_filepath)\n",
    "\n",
    "polymer = build_polymer(monomer=typed_mol2,\n",
    "                        length=10,  #length of polymer you want to build\n",
    "                       bond_indices= [24,25], #indices where you want to create your polymer bonds\n",
    "                       separation=0.17,\n",
    "                       replace=True,\n",
    "                       orientations=[None,None],\n",
    "                       min_energy=False)\n",
    "\n",
    "polymer.visualize()"
   ]
  },
  {
   "cell_type": "code",
   "execution_count": null,
   "id": "e8021f1a-93f3-4cb9-944d-3525a1c94726",
   "metadata": {},
   "outputs": [],
   "source": []
  },
  {
   "cell_type": "code",
   "execution_count": null,
   "id": "b9c79840-6e13-4bbf-ae15-f59c86539170",
   "metadata": {},
   "outputs": [],
   "source": []
  },
  {
   "cell_type": "code",
   "execution_count": null,
   "id": "baffdae8-ac3d-449f-8d5b-1c8088fadbee",
   "metadata": {},
   "outputs": [],
   "source": []
  },
  {
   "cell_type": "code",
   "execution_count": null,
   "id": "ad543e2a-d307-4a17-b11e-93d9a02ed02a",
   "metadata": {},
   "outputs": [],
   "source": []
  }
 ],
 "metadata": {
  "kernelspec": {
   "display_name": "Python 3 (ipykernel)",
   "language": "python",
   "name": "python3"
  },
  "language_info": {
   "codemirror_mode": {
    "name": "ipython",
    "version": 3
   },
   "file_extension": ".py",
   "mimetype": "text/x-python",
   "name": "python",
   "nbconvert_exporter": "python",
   "pygments_lexer": "ipython3",
   "version": "3.10.14"
  }
 },
 "nbformat": 4,
 "nbformat_minor": 5
}
