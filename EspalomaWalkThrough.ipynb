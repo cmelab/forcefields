{
 "cells": [
  {
   "cell_type": "code",
   "execution_count": 1,
   "id": "c652035b",
   "metadata": {},
   "outputs": [
    {
     "name": "stderr",
     "output_type": "stream",
     "text": [
      "/Users/madilyn/miniconda3/envs/ff_new2/lib/python3.11/site-packages/mdtraj/formats/__init__.py:6: DeprecationWarning: 'xdrlib' is deprecated and slated for removal in Python 3.13\n",
      "  from .xtc import XTCTrajectoryFile\n",
      "/Users/madilyn/miniconda3/envs/ff_new2/lib/python3.11/site-packages/mdtraj/geometry/order.py:25: DeprecationWarning: pkg_resources is deprecated as an API. See https://setuptools.pypa.io/en/latest/pkg_resources.html\n",
      "  from pkg_resources import parse_version\n",
      "/Users/madilyn/miniconda3/envs/ff_new2/lib/python3.11/site-packages/pkg_resources/__init__.py:2871: DeprecationWarning: Deprecated call to `pkg_resources.declare_namespace('google')`.\n",
      "Implementing implicit namespace packages (as specified in PEP 420) is preferred to `pkg_resources.declare_namespace`. See https://setuptools.pypa.io/en/latest/references/keywords.html#keyword-namespace-packages\n",
      "  declare_namespace(pkg)\n",
      "/Users/madilyn/miniconda3/envs/ff_new2/lib/python3.11/site-packages/lark/utils.py:163: DeprecationWarning: module 'sre_parse' is deprecated\n",
      "  import sre_parse\n",
      "/Users/madilyn/miniconda3/envs/ff_new2/lib/python3.11/site-packages/lark/utils.py:164: DeprecationWarning: module 'sre_constants' is deprecated\n",
      "  import sre_constants\n",
      "/Users/madilyn/miniconda3/envs/ff_new2/lib/python3.11/site-packages/mbuild/recipes/__init__.py:13: DeprecationWarning: SelectableGroups dict interface is deprecated. Use select.\n",
      "  entry_points = metadata.entry_points()[\"mbuild.plugins\"]\n"
     ]
    }
   ],
   "source": [
    "import espaloma as esp\n",
    "import mbuild as mb\n",
    "from openff.toolkit.topology import Molecule\n",
    "from writers import foyer_xml_writer\n",
    "from writers.foyer_xml_writer import mbuild_to_foyer_xml\n",
    "from bondwalk import bond_walk\n",
    "from bondwalk.bond_walk import MadAtom, MadBond, BondWalker\n",
    "import ipywidgets as widgets\n",
    "import os\n",
    "import torch\n",
    "import parmed as pmd\n",
    "import networkx  as nx\n",
    "from mbuild.lib.recipes.polymer import Polymer\n",
    "if not os.path.exists(\"espaloma_model.pt\"):\n",
    "    os.system(\"wget http://data.wangyq.net/espaloma_model.pt\")"
   ]
  },
  {
   "cell_type": "markdown",
   "id": "f1d42d5a",
   "metadata": {},
   "source": [
    "# Parameterizing one molecule:"
   ]
  },
  {
   "cell_type": "code",
   "execution_count": 2,
   "id": "41cc35f0",
   "metadata": {},
   "outputs": [],
   "source": [
    "from mon_classes import PCPDTPT_HD"
   ]
  },
  {
   "cell_type": "code",
   "execution_count": 24,
   "id": "703c25a8",
   "metadata": {},
   "outputs": [],
   "source": [
    "### set your molecule information\n",
    "\n",
    "#mol = P3HT()\n",
    "XML_FILEPATH = '/Users/madilyn/Projects/repos/forcefields/xml_files/y6.xml'\n",
    "TYPED_FILEPATH = '/Users/madilyn/Projects/repos/forcefields/typed_mol2/y6.mol2'"
   ]
  },
  {
   "cell_type": "code",
   "execution_count": 3,
   "id": "5bc481c8",
   "metadata": {},
   "outputs": [],
   "source": [
    "def build_chain(monomer, length, min_energy):\n",
    "    chain = Polymer()\n",
    "    chain.add_monomer(compound=monomer,\n",
    "                 indices=monomer.bond_indices,\n",
    "                 separation=monomer.separation,\n",
    "                 replace=monomer.replace,\n",
    "                 orientation=monomer.orientations)\n",
    "    chain.build(n=length)\n",
    "    if min_energy == True:\n",
    "        chain.energy_minimize()\n",
    "    return chain\n",
    "\n",
    "def mon_to_smiles(fragment):\n",
    "    monomer = build_chain(fragment,1,min_energy=True)\n",
    "    dimer = build_chain(fragment,2,min_energy=True)\n",
    "    mon_dim = mb.Compound()\n",
    "    mon_dim.add([monomer,dimer])\n",
    "    monomer.translate([3,3,3])\n",
    "    dimer.translate([-3,-3,-3])\n",
    "    smiles_string = mon_dim.to_smiles()\n",
    "    return mon_dim, smiles_string"
   ]
  },
  {
   "cell_type": "code",
   "execution_count": 4,
   "id": "65e8f20d",
   "metadata": {},
   "outputs": [],
   "source": [
    "pcpdt = PCPDTPT_HD()\n",
    "smiles = pcpdt.to_smiles()"
   ]
  },
  {
   "cell_type": "code",
   "execution_count": 5,
   "id": "6a3e02ea",
   "metadata": {},
   "outputs": [
    {
     "ename": "RadicalsNotSupportedError",
     "evalue": "The OpenFF Toolkit does not currently support parsing molecules with S- and P-block radicals. Found 1 radical electrons on molecule [H]C1=[C]SC2=C1[C@@](C([H])([H])[C@@]([H])(C([H])([H])C([H])([H])C([H])([H])C([H])([H])C([H])([H])C([H])([H])[H])C([H])([H])C([H])([H])C([H])([H])C([H])([H])C([H])([H])C([H])([H])C([H])([H])C([H])([H])[H])(C([H])([H])[C@@]([H])(C([H])([H])C([H])([H])C([H])([H])C([H])([H])C([H])([H])C([H])([H])[H])C([H])([H])C([H])([H])C([H])([H])C([H])([H])C([H])([H])C([H])([H])C([H])([H])C([H])([H])[H])C1=C2SC(c2c([H])n[c]c3=NSN=c23)=C1[H].",
     "output_type": "error",
     "traceback": [
      "\u001b[0;31m---------------------------------------------------------------------------\u001b[0m",
      "\u001b[0;31mRadicalsNotSupportedError\u001b[0m                 Traceback (most recent call last)",
      "Cell \u001b[0;32mIn[5], line 1\u001b[0m\n\u001b[0;32m----> 1\u001b[0m comp \u001b[38;5;241m=\u001b[39m \u001b[43mMolecule\u001b[49m\u001b[38;5;241;43m.\u001b[39;49m\u001b[43mfrom_smiles\u001b[49m\u001b[43m(\u001b[49m\u001b[43msmiles\u001b[49m\u001b[43m,\u001b[49m\u001b[43mallow_undefined_stereo\u001b[49m\u001b[38;5;241;43m=\u001b[39;49m\u001b[38;5;28;43;01mTrue\u001b[39;49;00m\u001b[43m)\u001b[49m\n\u001b[1;32m      2\u001b[0m bonds \u001b[38;5;241m=\u001b[39m [b \u001b[38;5;28;01mfor\u001b[39;00m b \u001b[38;5;129;01min\u001b[39;00m comp\u001b[38;5;241m.\u001b[39mbonds]\n\u001b[1;32m      3\u001b[0m \u001b[38;5;28;01mfor\u001b[39;00m i \u001b[38;5;129;01min\u001b[39;00m \u001b[38;5;28mrange\u001b[39m(\u001b[38;5;28mlen\u001b[39m(bonds)):\n",
      "File \u001b[0;32m~/miniconda3/envs/ff_new2/lib/python3.11/site-packages/openff/toolkit/topology/molecule.py:1861\u001b[0m, in \u001b[0;36mFrozenMolecule.from_smiles\u001b[0;34m(cls, smiles, hydrogens_are_explicit, toolkit_registry, allow_undefined_stereo, name)\u001b[0m\n\u001b[1;32m   1802\u001b[0m \u001b[38;5;250m\u001b[39m\u001b[38;5;124;03m\"\"\"\u001b[39;00m\n\u001b[1;32m   1803\u001b[0m \u001b[38;5;124;03mConstruct a ``Molecule`` from a SMILES representation\u001b[39;00m\n\u001b[1;32m   1804\u001b[0m \n\u001b[0;32m   (...)\u001b[0m\n\u001b[1;32m   1858\u001b[0m \n\u001b[1;32m   1859\u001b[0m \u001b[38;5;124;03m\"\"\"\u001b[39;00m\n\u001b[1;32m   1860\u001b[0m \u001b[38;5;28;01mif\u001b[39;00m \u001b[38;5;28misinstance\u001b[39m(toolkit_registry, ToolkitRegistry):\n\u001b[0;32m-> 1861\u001b[0m     molecule \u001b[38;5;241m=\u001b[39m \u001b[43mtoolkit_registry\u001b[49m\u001b[38;5;241;43m.\u001b[39;49m\u001b[43mcall\u001b[49m\u001b[43m(\u001b[49m\n\u001b[1;32m   1862\u001b[0m \u001b[43m        \u001b[49m\u001b[38;5;124;43m\"\u001b[39;49m\u001b[38;5;124;43mfrom_smiles\u001b[39;49m\u001b[38;5;124;43m\"\u001b[39;49m\u001b[43m,\u001b[49m\n\u001b[1;32m   1863\u001b[0m \u001b[43m        \u001b[49m\u001b[43msmiles\u001b[49m\u001b[43m,\u001b[49m\n\u001b[1;32m   1864\u001b[0m \u001b[43m        \u001b[49m\u001b[43mhydrogens_are_explicit\u001b[49m\u001b[38;5;241;43m=\u001b[39;49m\u001b[43mhydrogens_are_explicit\u001b[49m\u001b[43m,\u001b[49m\n\u001b[1;32m   1865\u001b[0m \u001b[43m        \u001b[49m\u001b[43mallow_undefined_stereo\u001b[49m\u001b[38;5;241;43m=\u001b[39;49m\u001b[43mallow_undefined_stereo\u001b[49m\u001b[43m,\u001b[49m\n\u001b[1;32m   1866\u001b[0m \u001b[43m        \u001b[49m\u001b[43m_cls\u001b[49m\u001b[38;5;241;43m=\u001b[39;49m\u001b[38;5;28;43mcls\u001b[39;49m\u001b[43m,\u001b[49m\n\u001b[1;32m   1867\u001b[0m \u001b[43m        \u001b[49m\u001b[43mname\u001b[49m\u001b[38;5;241;43m=\u001b[39;49m\u001b[43mname\u001b[49m\u001b[43m,\u001b[49m\n\u001b[1;32m   1868\u001b[0m \u001b[43m    \u001b[49m\u001b[43m)\u001b[49m\n\u001b[1;32m   1869\u001b[0m \u001b[38;5;28;01melif\u001b[39;00m \u001b[38;5;28misinstance\u001b[39m(toolkit_registry, ToolkitWrapper):\n\u001b[1;32m   1870\u001b[0m     toolkit \u001b[38;5;241m=\u001b[39m toolkit_registry\n",
      "File \u001b[0;32m~/miniconda3/envs/ff_new2/lib/python3.11/site-packages/openff/toolkit/utils/toolkit_registry.py:356\u001b[0m, in \u001b[0;36mToolkitRegistry.call\u001b[0;34m(self, method_name, raise_exception_types, *args, **kwargs)\u001b[0m\n\u001b[1;32m    354\u001b[0m             \u001b[38;5;28;01mfor\u001b[39;00m exception_type \u001b[38;5;129;01min\u001b[39;00m raise_exception_types:\n\u001b[1;32m    355\u001b[0m                 \u001b[38;5;28;01mif\u001b[39;00m \u001b[38;5;28misinstance\u001b[39m(e, exception_type):\n\u001b[0;32m--> 356\u001b[0m                     \u001b[38;5;28;01mraise\u001b[39;00m e\n\u001b[1;32m    357\u001b[0m             errors\u001b[38;5;241m.\u001b[39mappend((toolkit, e))\n\u001b[1;32m    359\u001b[0m \u001b[38;5;66;03m# No toolkit was found to provide the requested capability\u001b[39;00m\n\u001b[1;32m    360\u001b[0m \u001b[38;5;66;03m# TODO: Can we help developers by providing a check for typos in expected method names?\u001b[39;00m\n",
      "File \u001b[0;32m~/miniconda3/envs/ff_new2/lib/python3.11/site-packages/openff/toolkit/utils/toolkit_registry.py:352\u001b[0m, in \u001b[0;36mToolkitRegistry.call\u001b[0;34m(self, method_name, raise_exception_types, *args, **kwargs)\u001b[0m\n\u001b[1;32m    350\u001b[0m method \u001b[38;5;241m=\u001b[39m \u001b[38;5;28mgetattr\u001b[39m(toolkit, method_name)\n\u001b[1;32m    351\u001b[0m \u001b[38;5;28;01mtry\u001b[39;00m:\n\u001b[0;32m--> 352\u001b[0m     \u001b[38;5;28;01mreturn\u001b[39;00m \u001b[43mmethod\u001b[49m\u001b[43m(\u001b[49m\u001b[38;5;241;43m*\u001b[39;49m\u001b[43margs\u001b[49m\u001b[43m,\u001b[49m\u001b[43m \u001b[49m\u001b[38;5;241;43m*\u001b[39;49m\u001b[38;5;241;43m*\u001b[39;49m\u001b[43mkwargs\u001b[49m\u001b[43m)\u001b[49m\n\u001b[1;32m    353\u001b[0m \u001b[38;5;28;01mexcept\u001b[39;00m \u001b[38;5;167;01mException\u001b[39;00m \u001b[38;5;28;01mas\u001b[39;00m e:\n\u001b[1;32m    354\u001b[0m     \u001b[38;5;28;01mfor\u001b[39;00m exception_type \u001b[38;5;129;01min\u001b[39;00m raise_exception_types:\n",
      "File \u001b[0;32m~/miniconda3/envs/ff_new2/lib/python3.11/site-packages/openff/toolkit/utils/rdkit_wrapper.py:1583\u001b[0m, in \u001b[0;36mRDKitToolkitWrapper.from_smiles\u001b[0;34m(self, smiles, hydrogens_are_explicit, allow_undefined_stereo, _cls, name)\u001b[0m\n\u001b[1;32m   1574\u001b[0m         \u001b[38;5;28;01mif\u001b[39;00m atom\u001b[38;5;241m.\u001b[39mGetNumImplicitHs() \u001b[38;5;241m!=\u001b[39m \u001b[38;5;241m0\u001b[39m:\n\u001b[1;32m   1575\u001b[0m             \u001b[38;5;28;01mraise\u001b[39;00m \u001b[38;5;167;01mValueError\u001b[39;00m(\n\u001b[1;32m   1576\u001b[0m                 \u001b[38;5;124mf\u001b[39m\u001b[38;5;124m\"\u001b[39m\u001b[38;5;124m'\u001b[39m\u001b[38;5;124mhydrogens_are_explicit\u001b[39m\u001b[38;5;124m'\u001b[39m\u001b[38;5;124m was specified as True, but RDKit toolkit interpreted \u001b[39m\u001b[38;5;124m\"\u001b[39m\n\u001b[1;32m   1577\u001b[0m                 \u001b[38;5;124mf\u001b[39m\u001b[38;5;124m\"\u001b[39m\u001b[38;5;124mSMILES \u001b[39m\u001b[38;5;124m'\u001b[39m\u001b[38;5;132;01m{\u001b[39;00msmiles\u001b[38;5;132;01m}\u001b[39;00m\u001b[38;5;124m'\u001b[39m\u001b[38;5;124m as having implicit hydrogen. If this SMILES is intended to \u001b[39m\u001b[38;5;124m\"\u001b[39m\n\u001b[0;32m   (...)\u001b[0m\n\u001b[1;32m   1580\u001b[0m                 \u001b[38;5;124mf\u001b[39m\u001b[38;5;124m\"\u001b[39m\u001b[38;5;124mMolecule.from_rdkit() to create the desired OFFMol.\u001b[39m\u001b[38;5;124m\"\u001b[39m\n\u001b[1;32m   1581\u001b[0m             )\n\u001b[0;32m-> 1583\u001b[0m molecule \u001b[38;5;241m=\u001b[39m \u001b[38;5;28;43mself\u001b[39;49m\u001b[38;5;241;43m.\u001b[39;49m\u001b[43mfrom_rdkit\u001b[49m\u001b[43m(\u001b[49m\n\u001b[1;32m   1584\u001b[0m \u001b[43m    \u001b[49m\u001b[43mrdmol\u001b[49m\u001b[43m,\u001b[49m\n\u001b[1;32m   1585\u001b[0m \u001b[43m    \u001b[49m\u001b[43m_cls\u001b[49m\u001b[38;5;241;43m=\u001b[39;49m\u001b[43m_cls\u001b[49m\u001b[43m,\u001b[49m\n\u001b[1;32m   1586\u001b[0m \u001b[43m    \u001b[49m\u001b[43mallow_undefined_stereo\u001b[49m\u001b[38;5;241;43m=\u001b[39;49m\u001b[43mallow_undefined_stereo\u001b[49m\u001b[43m,\u001b[49m\n\u001b[1;32m   1587\u001b[0m \u001b[43m    \u001b[49m\u001b[43mhydrogens_are_explicit\u001b[49m\u001b[38;5;241;43m=\u001b[39;49m\u001b[43mhydrogens_are_explicit\u001b[49m\u001b[43m,\u001b[49m\n\u001b[1;32m   1588\u001b[0m \u001b[43m\u001b[49m\u001b[43m)\u001b[49m\n\u001b[1;32m   1589\u001b[0m molecule\u001b[38;5;241m.\u001b[39mname \u001b[38;5;241m=\u001b[39m name\n\u001b[1;32m   1590\u001b[0m \u001b[38;5;28;01mreturn\u001b[39;00m molecule\n",
      "File \u001b[0;32m~/miniconda3/envs/ff_new2/lib/python3.11/site-packages/openff/toolkit/utils/rdkit_wrapper.py:2303\u001b[0m, in \u001b[0;36mRDKitToolkitWrapper.from_rdkit\u001b[0;34m(self, rdmol, allow_undefined_stereo, hydrogens_are_explicit, _cls)\u001b[0m\n\u001b[1;32m   2297\u001b[0m \u001b[38;5;28;01mfor\u001b[39;00m rda \u001b[38;5;129;01min\u001b[39;00m rdmol\u001b[38;5;241m.\u001b[39mGetAtoms():\n\u001b[1;32m   2298\u001b[0m     \u001b[38;5;66;03m# See issues #1075 for some discussion on radicals\u001b[39;00m\n\u001b[1;32m   2299\u001b[0m     \u001b[38;5;28;01mif\u001b[39;00m (\n\u001b[1;32m   2300\u001b[0m         rda\u001b[38;5;241m.\u001b[39mGetAtomicNum() \u001b[38;5;129;01mnot\u001b[39;00m \u001b[38;5;129;01min\u001b[39;00m d_and_f_block_elements\n\u001b[1;32m   2301\u001b[0m         \u001b[38;5;129;01mand\u001b[39;00m rda\u001b[38;5;241m.\u001b[39mGetNumRadicalElectrons() \u001b[38;5;241m!=\u001b[39m \u001b[38;5;241m0\u001b[39m\n\u001b[1;32m   2302\u001b[0m     ):\n\u001b[0;32m-> 2303\u001b[0m         \u001b[38;5;28;01mraise\u001b[39;00m RadicalsNotSupportedError(\n\u001b[1;32m   2304\u001b[0m             \u001b[38;5;124m\"\u001b[39m\u001b[38;5;124mThe OpenFF Toolkit does not currently support parsing molecules with S- and P-block radicals. \u001b[39m\u001b[38;5;124m\"\u001b[39m\n\u001b[1;32m   2305\u001b[0m             \u001b[38;5;124mf\u001b[39m\u001b[38;5;124m\"\u001b[39m\u001b[38;5;124mFound \u001b[39m\u001b[38;5;132;01m{\u001b[39;00mrda\u001b[38;5;241m.\u001b[39mGetNumRadicalElectrons()\u001b[38;5;132;01m}\u001b[39;00m\u001b[38;5;124m radical electrons on molecule \u001b[39m\u001b[38;5;132;01m{\u001b[39;00mChem\u001b[38;5;241m.\u001b[39mMolToSmiles(rdmol)\u001b[38;5;132;01m}\u001b[39;00m\u001b[38;5;124m.\u001b[39m\u001b[38;5;124m\"\u001b[39m\n\u001b[1;32m   2306\u001b[0m         )\n\u001b[1;32m   2308\u001b[0m     rd_idx \u001b[38;5;241m=\u001b[39m rda\u001b[38;5;241m.\u001b[39mGetIdx()\n\u001b[1;32m   2309\u001b[0m     \u001b[38;5;66;03m# if the molecule was made from a mapped smiles this has been hidden\u001b[39;00m\n\u001b[1;32m   2310\u001b[0m     \u001b[38;5;66;03m# so that it does not affect the sterochemistry tags\u001b[39;00m\n",
      "\u001b[0;31mRadicalsNotSupportedError\u001b[0m: The OpenFF Toolkit does not currently support parsing molecules with S- and P-block radicals. Found 1 radical electrons on molecule [H]C1=[C]SC2=C1[C@@](C([H])([H])[C@@]([H])(C([H])([H])C([H])([H])C([H])([H])C([H])([H])C([H])([H])C([H])([H])[H])C([H])([H])C([H])([H])C([H])([H])C([H])([H])C([H])([H])C([H])([H])C([H])([H])C([H])([H])[H])(C([H])([H])[C@@]([H])(C([H])([H])C([H])([H])C([H])([H])C([H])([H])C([H])([H])C([H])([H])[H])C([H])([H])C([H])([H])C([H])([H])C([H])([H])C([H])([H])C([H])([H])C([H])([H])C([H])([H])[H])C1=C2SC(c2c([H])n[c]c3=NSN=c23)=C1[H]."
     ]
    }
   ],
   "source": [
    "comp = Molecule.from_smiles(smiles,allow_undefined_stereo=True)\n",
    "bonds = [b for b in comp.bonds]\n",
    "for i in range(len(bonds)):\n",
    "    bonds[i].bond_order = 1\n",
    "b= BondWalker(comp)\n",
    "molecule = b.fill_in_bonds()\n",
    "molecule.visualize()"
   ]
  },
  {
   "cell_type": "code",
   "execution_count": 7,
   "id": "db85e479-b2e4-4a7b-aae1-b215bdf38f71",
   "metadata": {},
   "outputs": [],
   "source": []
  },
  {
   "cell_type": "code",
   "execution_count": 9,
   "id": "b6e59b71",
   "metadata": {},
   "outputs": [
    {
     "data": {
      "application/vnd.jupyter.widget-view+json": {
       "model_id": "2e7ed8581cef4da19562f2f28c4fdc19",
       "version_major": 2,
       "version_minor": 0
      },
      "text/plain": []
     },
     "metadata": {},
     "output_type": "display_data"
    }
   ],
   "source": [
    "molecule_graph = esp.Graph(molecule)\n",
    "espaloma_model = esp.get_model(\"latest\")\n",
    "espaloma_model(molecule_graph.heterograph)\n",
    "openmm_system = esp.graphs.deploy.openmm_system_from_graph(molecule_graph,charge_method=\"nn\")"
   ]
  },
  {
   "cell_type": "code",
   "execution_count": 14,
   "id": "8ebd6cda-022a-4398-b3ea-d19d3bffbd6c",
   "metadata": {},
   "outputs": [],
   "source": [
    "# Store the results for each in something more accessible\n",
    "pair_forces = openmm_system.getForces()[0]\n",
    "angle_forces = openmm_system.getForces()[2]\n",
    "bond_forces = openmm_system.getForces()[3]\n",
    "torsion_forces = openmm_system.getForces()[1]"
   ]
  },
  {
   "cell_type": "code",
   "execution_count": 17,
   "id": "efbb8e0c-ef33-42aa-9430-91ded1122ef9",
   "metadata": {},
   "outputs": [
    {
     "data": {
      "text/plain": [
       "openmm.openmm.HarmonicBondForce"
      ]
     },
     "execution_count": 17,
     "metadata": {},
     "output_type": "execute_result"
    }
   ],
   "source": [
    "type(bond_forces)"
   ]
  },
  {
   "cell_type": "code",
   "execution_count": 18,
   "id": "c6ba13e4",
   "metadata": {},
   "outputs": [
    {
     "name": "stderr",
     "output_type": "stream",
     "text": [
      "1 molecule converted\n"
     ]
    },
    {
     "data": {
      "application/3dmoljs_load.v0": "<div id=\"3dmolviewer_1699896532368093\"  style=\"position: relative; width: 640px; height: 480px;\">\n        <p id=\"3dmolwarning_1699896532368093\" style=\"background-color:#ffcccc;color:black\">You appear to be running in JupyterLab (or JavaScript failed to load for some other reason).  You need to install the 3dmol extension: <br>\n        <tt>jupyter labextension install jupyterlab_3dmol</tt></p>\n        </div>\n<script>\n\nvar loadScriptAsync = function(uri){\n  return new Promise((resolve, reject) => {\n    //this is to ignore the existence of requirejs amd\n    var savedexports, savedmodule;\n    if (typeof exports !== 'undefined') savedexports = exports;\n    else exports = {}\n    if (typeof module !== 'undefined') savedmodule = module;\n    else module = {}\n\n    var tag = document.createElement('script');\n    tag.src = uri;\n    tag.async = true;\n    tag.onload = () => {\n        exports = savedexports;\n        module = savedmodule;\n        resolve();\n    };\n  var firstScriptTag = document.getElementsByTagName('script')[0];\n  firstScriptTag.parentNode.insertBefore(tag, firstScriptTag);\n});\n};\n\nif(typeof $3Dmolpromise === 'undefined') {\n$3Dmolpromise = null;\n  $3Dmolpromise = loadScriptAsync('https://cdnjs.cloudflare.com/ajax/libs/3Dmol/2.0.4/3Dmol-min.js');\n}\n\nvar viewer_1699896532368093 = null;\nvar warn = document.getElementById(\"3dmolwarning_1699896532368093\");\nif(warn) {\n    warn.parentNode.removeChild(warn);\n}\n$3Dmolpromise.then(function() {\nviewer_1699896532368093 = $3Dmol.createViewer(document.getElementById(\"3dmolviewer_1699896532368093\"),{backgroundColor:\"white\"});\nviewer_1699896532368093.zoomTo();\n\tviewer_1699896532368093.addModel(\"@<TRIPOS>MOLECULE\\nRES\\n27 27 1 0 1\\nSMALL\\nNO_CHARGES\\n@<TRIPOS>CRYSIN\\n   15.8094    10.0046     7.9116    90.0000    90.0000    90.0000 1 1\\n@<TRIPOS>ATOM\\n       1 C0           4.3998     1.9691    -0.3697 C0            1 RES     \\n       2 C0           4.2504     0.6255     0.3437 C0            1 RES     \\n       3 C0           2.9945    -0.1602    -0.0713 C0            1 RES     \\n       4 C0           1.6874     0.5870     0.2333 C0            1 RES     \\n       5 C0           0.4655    -0.2954    -0.0495 C0            1 RES     \\n       6 C0          -0.8355     0.4846     0.1927 C0            1 RES     \\n       7 C1          -2.0915    -0.3292     0.0044 C1            1 RES     \\n       8 C1          -2.1447    -1.6886    -0.3148 C1            1 RES     \\n       9 S2          -3.7576    -2.1483    -0.4079 S2            1 RES     \\n      10 C1          -4.4082    -0.6416    -0.0511 C1            1 RES     \\n      11 C1          -3.3640     0.2480     0.1486 C1            1 RES     \\n      12 H3           5.3480     2.4497    -0.0498 H3            1 RES     \\n      13 H3           4.4263     1.8227    -1.4697 H3            1 RES     \\n      14 H3           3.5687     2.6551    -0.1056 H3            1 RES     \\n      15 H3           5.1397     0.0034     0.1065 H3            1 RES     \\n      16 H3           4.2333     0.7993     1.4419 H3            1 RES     \\n      17 H3           3.0033    -1.1181     0.4947 H3            1 RES     \\n      18 H3           3.0405    -0.3985    -1.1565 H3            1 RES     \\n      19 H3           1.6294     1.5003    -0.3966 H3            1 RES     \\n      20 H3           1.6709     0.8838     1.3050 H3            1 RES     \\n      21 H3           0.5050    -1.1793     0.6246 H3            1 RES     \\n      22 H3           0.4883    -0.6415    -1.1070 H3            1 RES     \\n      23 H3          -0.8385     0.8794     1.2322 H3            1 RES     \\n      24 H3          -0.8658     1.3446    -0.5122 H3            1 RES     \\n      25 H4          -1.3040    -2.3496    -0.4709 H4            1 RES     \\n      26 H4          -5.4613    -0.4032     0.0113 H4            1 RES     \\n      27 H5          -3.5199     1.2906     0.3939 H5            1 RES     \\n@<TRIPOS>BOND\\n       1        1        2 1\\n       2        1       12 1\\n       3        1       13 1\\n       4        1       14 1\\n       5        2        3 1\\n       6        2       15 1\\n       7        2       16 1\\n       8        3        4 1\\n       9        3       17 1\\n      10        3       18 1\\n      11        4        5 1\\n      12        4       19 1\\n      13        4       20 1\\n      14        5        6 1\\n      15        5       21 1\\n      16        5       22 1\\n      17        6        7 1\\n      18        6       23 1\\n      19        6       24 1\\n      20        7        8 1\\n      21        7       11 1\\n      22        8        9 1\\n      23        8       25 1\\n      24        9       10 1\\n      25       10       11 1\\n      26       10       26 1\\n      27       11       27 1\\n@<TRIPOS>SUBSTRUCTURE\\n       1 RES             1 RESIDUE    0 **** ROOT      0\\n\",\"mol2\");\n\tviewer_1699896532368093.setStyle({\"stick\": {\"radius\": 0.2, \"color\": \"grey\"}, \"sphere\": {\"scale\": 0.3, \"colorscheme\": {}}});\n\tviewer_1699896532368093.zoomTo();\nviewer_1699896532368093.render();\n});\n</script>",
      "text/html": [
       "<div id=\"3dmolviewer_1699896532368093\"  style=\"position: relative; width: 640px; height: 480px;\">\n",
       "        <p id=\"3dmolwarning_1699896532368093\" style=\"background-color:#ffcccc;color:black\">You appear to be running in JupyterLab (or JavaScript failed to load for some other reason).  You need to install the 3dmol extension: <br>\n",
       "        <tt>jupyter labextension install jupyterlab_3dmol</tt></p>\n",
       "        </div>\n",
       "<script>\n",
       "\n",
       "var loadScriptAsync = function(uri){\n",
       "  return new Promise((resolve, reject) => {\n",
       "    //this is to ignore the existence of requirejs amd\n",
       "    var savedexports, savedmodule;\n",
       "    if (typeof exports !== 'undefined') savedexports = exports;\n",
       "    else exports = {}\n",
       "    if (typeof module !== 'undefined') savedmodule = module;\n",
       "    else module = {}\n",
       "\n",
       "    var tag = document.createElement('script');\n",
       "    tag.src = uri;\n",
       "    tag.async = true;\n",
       "    tag.onload = () => {\n",
       "        exports = savedexports;\n",
       "        module = savedmodule;\n",
       "        resolve();\n",
       "    };\n",
       "  var firstScriptTag = document.getElementsByTagName('script')[0];\n",
       "  firstScriptTag.parentNode.insertBefore(tag, firstScriptTag);\n",
       "});\n",
       "};\n",
       "\n",
       "if(typeof $3Dmolpromise === 'undefined') {\n",
       "$3Dmolpromise = null;\n",
       "  $3Dmolpromise = loadScriptAsync('https://cdnjs.cloudflare.com/ajax/libs/3Dmol/2.0.4/3Dmol-min.js');\n",
       "}\n",
       "\n",
       "var viewer_1699896532368093 = null;\n",
       "var warn = document.getElementById(\"3dmolwarning_1699896532368093\");\n",
       "if(warn) {\n",
       "    warn.parentNode.removeChild(warn);\n",
       "}\n",
       "$3Dmolpromise.then(function() {\n",
       "viewer_1699896532368093 = $3Dmol.createViewer(document.getElementById(\"3dmolviewer_1699896532368093\"),{backgroundColor:\"white\"});\n",
       "viewer_1699896532368093.zoomTo();\n",
       "\tviewer_1699896532368093.addModel(\"@<TRIPOS>MOLECULE\\nRES\\n27 27 1 0 1\\nSMALL\\nNO_CHARGES\\n@<TRIPOS>CRYSIN\\n   15.8094    10.0046     7.9116    90.0000    90.0000    90.0000 1 1\\n@<TRIPOS>ATOM\\n       1 C0           4.3998     1.9691    -0.3697 C0            1 RES     \\n       2 C0           4.2504     0.6255     0.3437 C0            1 RES     \\n       3 C0           2.9945    -0.1602    -0.0713 C0            1 RES     \\n       4 C0           1.6874     0.5870     0.2333 C0            1 RES     \\n       5 C0           0.4655    -0.2954    -0.0495 C0            1 RES     \\n       6 C0          -0.8355     0.4846     0.1927 C0            1 RES     \\n       7 C1          -2.0915    -0.3292     0.0044 C1            1 RES     \\n       8 C1          -2.1447    -1.6886    -0.3148 C1            1 RES     \\n       9 S2          -3.7576    -2.1483    -0.4079 S2            1 RES     \\n      10 C1          -4.4082    -0.6416    -0.0511 C1            1 RES     \\n      11 C1          -3.3640     0.2480     0.1486 C1            1 RES     \\n      12 H3           5.3480     2.4497    -0.0498 H3            1 RES     \\n      13 H3           4.4263     1.8227    -1.4697 H3            1 RES     \\n      14 H3           3.5687     2.6551    -0.1056 H3            1 RES     \\n      15 H3           5.1397     0.0034     0.1065 H3            1 RES     \\n      16 H3           4.2333     0.7993     1.4419 H3            1 RES     \\n      17 H3           3.0033    -1.1181     0.4947 H3            1 RES     \\n      18 H3           3.0405    -0.3985    -1.1565 H3            1 RES     \\n      19 H3           1.6294     1.5003    -0.3966 H3            1 RES     \\n      20 H3           1.6709     0.8838     1.3050 H3            1 RES     \\n      21 H3           0.5050    -1.1793     0.6246 H3            1 RES     \\n      22 H3           0.4883    -0.6415    -1.1070 H3            1 RES     \\n      23 H3          -0.8385     0.8794     1.2322 H3            1 RES     \\n      24 H3          -0.8658     1.3446    -0.5122 H3            1 RES     \\n      25 H4          -1.3040    -2.3496    -0.4709 H4            1 RES     \\n      26 H4          -5.4613    -0.4032     0.0113 H4            1 RES     \\n      27 H5          -3.5199     1.2906     0.3939 H5            1 RES     \\n@<TRIPOS>BOND\\n       1        1        2 1\\n       2        1       12 1\\n       3        1       13 1\\n       4        1       14 1\\n       5        2        3 1\\n       6        2       15 1\\n       7        2       16 1\\n       8        3        4 1\\n       9        3       17 1\\n      10        3       18 1\\n      11        4        5 1\\n      12        4       19 1\\n      13        4       20 1\\n      14        5        6 1\\n      15        5       21 1\\n      16        5       22 1\\n      17        6        7 1\\n      18        6       23 1\\n      19        6       24 1\\n      20        7        8 1\\n      21        7       11 1\\n      22        8        9 1\\n      23        8       25 1\\n      24        9       10 1\\n      25       10       11 1\\n      26       10       26 1\\n      27       11       27 1\\n@<TRIPOS>SUBSTRUCTURE\\n       1 RES             1 RESIDUE    0 **** ROOT      0\\n\",\"mol2\");\n",
       "\tviewer_1699896532368093.setStyle({\"stick\": {\"radius\": 0.2, \"color\": \"grey\"}, \"sphere\": {\"scale\": 0.3, \"colorscheme\": {}}});\n",
       "\tviewer_1699896532368093.zoomTo();\n",
       "viewer_1699896532368093.render();\n",
       "});\n",
       "</script>"
      ]
     },
     "metadata": {},
     "output_type": "display_data"
    },
    {
     "data": {
      "text/plain": [
       "<py3Dmol.view at 0x1635a8ad0>"
      ]
     },
     "execution_count": 18,
     "metadata": {},
     "output_type": "execute_result"
    }
   ],
   "source": [
    "\n",
    "\n",
    "# get a parmed structure from openmm\n",
    "topology = molecule.to_topology()\n",
    "openmm_topology = topology.to_openmm()\n",
    "\n",
    "structure = pmd.openmm.load_topology(topology=openmm_topology, system=openmm_system)\n",
    "structure.bonds.sort(key=lambda x: x.atom1.idx)\n",
    "\n",
    "\n",
    "\n",
    "for i in range(len(molecule.atoms)):\n",
    "    if molecule.atoms[i].atomic_number == 6:\n",
    "        molecule.atoms[i].name = 'C'\n",
    "    if molecule.atoms[i].atomic_number == 1:\n",
    "        molecule.atoms[i].name = 'H'\n",
    "    if molecule.atoms[i].atomic_number == 7:\n",
    "        molecule.atoms[i].name = 'N'\n",
    "    if molecule.atoms[i].atomic_number == 16:\n",
    "        molecule.atoms[i].name = 'S'\n",
    "    if molecule.atoms[i].atomic_number == 8:\n",
    "        molecule.atoms[i].name = 'O'\n",
    "    if molecule.atoms[i].atomic_number == 9:\n",
    "        molecule.atoms[i].name = 'F'\n",
    "\n",
    "#generate type_map:\n",
    "Gopenmm = nx.Graph()\n",
    "Gparmed = nx.Graph()\n",
    "\n",
    "#openmm:\n",
    "for i in range(bond_forces.getNumBonds()):\n",
    "    Gopenmm.add_edge(bond_forces.getBondParameters(index=i)[0],bond_forces.getBondParameters(index=i)[1])\n",
    "#parmed\n",
    "for b in structure.bonds:\n",
    "    Gparmed.add_edge(b.atom1.idx,b.atom2.idx)\n",
    "\n",
    "particle_types = []\n",
    "type_map = dict()\n",
    "\n",
    "#nx.rooted_tree_isomorphism\n",
    "#in here we still need to check that one known index on one corresponds to the same index on the other....\n",
    "tree_openmm = nx.bfs_tree(Gopenmm,0)\n",
    "tree_parmed = nx.bfs_tree(Gparmed,0)\n",
    "if nx.is_isomorphic(Gopenmm,Gparmed):\n",
    "#if nx.isomorphism.tree_isomorphism(tree_openmm,tree_parmed):  <- want this work\n",
    "    for i in range(pair_forces.getNumParticles()):\n",
    "        pair_parms = pair_forces.getParticleParameters(index=i)\n",
    "        sigma = pair_parms[1]/pair_parms[1].unit\n",
    "        epsilon = pair_parms[2]/pair_parms[2].unit\n",
    "        if (sigma, epsilon) not in particle_types:\n",
    "            particle_types.append((sigma, epsilon))\n",
    "        type_map[molecule.atoms[i].molecule_atom_index] = \"\".join([molecule.atoms[i].name ,\n",
    "                                                                   str(particle_types.index((sigma, epsilon)))])\n",
    "\n",
    "\n",
    "#generate dictionaries:\n",
    "\n",
    "bond_types = []\n",
    "bond_dict = dict()\n",
    "\n",
    "for i in range(bond_forces.getNumBonds()):\n",
    "    bond_parms = bond_forces.getBondParameters(index=i)\n",
    "    l0 = bond_parms[2]/bond_parms[2].unit\n",
    "    k = bond_parms[3]/bond_parms[3].unit\n",
    "    bond_dict[type_map[bond_parms[0]],type_map[bond_parms[1]]] = {'k':k,'l0':l0}\n",
    "\n",
    "\n",
    "angle_types = []\n",
    "angle_dict = dict()\n",
    "\n",
    "for i in range(angle_forces.getNumAngles()):\n",
    "    angle_parms = angle_forces.getAngleParameters(index=i)\n",
    "    k = angle_parms[4]/angle_parms[4].unit\n",
    "    t0 = angle_parms[3]/angle_parms[3].unit\n",
    "    angle_dict[type_map[angle_parms[0]],type_map[angle_parms[1]],type_map[angle_parms[2]]] = {'k':k,'t0':t0}\n",
    "\n",
    "\n",
    "\n",
    "dihedral_types = []\n",
    "dihedral_dict = {}\n",
    "\n",
    "for i in range(torsion_forces.getNumTorsions()):\n",
    "    if i%6==0:\n",
    "        periodicity=[]\n",
    "        phase = []\n",
    "        k = []\n",
    "    dihedral_parms = torsion_forces.getTorsionParameters(index=i)\n",
    "    periodicity.append(dihedral_parms[4])\n",
    "    phase.append( dihedral_parms[5]/dihedral_parms[5].unit)\n",
    "    k.append(dihedral_parms[6]/dihedral_parms[6].unit)\n",
    "    dt = (type_map[dihedral_parms[0]],type_map[dihedral_parms[1]],type_map[dihedral_parms[2]],\n",
    "                  type_map[dihedral_parms[3]])\n",
    "\n",
    "\n",
    "    if periodicity[-1]==6:\n",
    "        dihedral_dict[dt] = {'periodicity':periodicity,'k':k,'phase':phase}\n",
    "\n",
    "\n",
    "nonbonded_types = []\n",
    "nonbonded_dict = {}\n",
    "\n",
    "for i in range(pair_forces.getNumParticles()):\n",
    "    nonbonded_parms = pair_forces.getParticleParameters(index=i)\n",
    "    charge = nonbonded_parms[0]/nonbonded_parms[0].unit\n",
    "    sigma = nonbonded_parms[1]/nonbonded_parms[1].unit\n",
    "    epsilon = nonbonded_parms[2]#/nonbonded_parms[2].unit\n",
    "    nonbonded_types.append((charge,sigma,epsilon))\n",
    "    nonbonded_dict[(type_map[i])]={'charge':charge,'sigma':sigma,'epsilon':epsilon}\n",
    "\n",
    "molecule.to_file('molecule.mol',file_format='mol')\n",
    "os.system('obabel molecule.mol -O intermediate.mol2')\n",
    "os.system('rm molecule.mol')\n",
    "\n",
    "test = mb.load('intermediate.mol2')\n",
    "\n",
    "for index in type_map:\n",
    "    test[index].name = type_map[index]\n",
    "\n",
    "os.system('rm intermediate.mol2')\n",
    "\n",
    "test.energy_minimize()\n",
    "\n",
    "test.visualize()"
   ]
  },
  {
   "cell_type": "code",
   "execution_count": 22,
   "id": "c0b46dcc",
   "metadata": {},
   "outputs": [
    {
     "data": {
      "text/plain": [
       "{'C0': {'charge': -0.09526515007019043,\n",
       "  'sigma': 0.3399669508423535,\n",
       "  'epsilon': Quantity(value=0.4577296, unit=kilojoule/mole)},\n",
       " 'C1': {'charge': 0.007520198822021484,\n",
       "  'sigma': 0.3399669508423535,\n",
       "  'epsilon': Quantity(value=0.359824, unit=kilojoule/mole)},\n",
       " 'S2': {'charge': 0.10220050811767578,\n",
       "  'sigma': 0.35635948725613575,\n",
       "  'epsilon': Quantity(value=1.046, unit=kilojoule/mole)},\n",
       " 'N3': {'charge': -0.3814876079559326,\n",
       "  'sigma': 0.3249998523775958,\n",
       "  'epsilon': Quantity(value=0.7112800000000001, unit=kilojoule/mole)},\n",
       " 'O4': {'charge': -0.49110841751098633,\n",
       "  'sigma': 0.2959921901149463,\n",
       "  'epsilon': Quantity(value=0.87864, unit=kilojoule/mole)},\n",
       " 'F5': {'charge': -0.11919379234313965,\n",
       "  'sigma': 0.3118145513491188,\n",
       "  'epsilon': Quantity(value=0.255224, unit=kilojoule/mole)},\n",
       " 'C6': {'charge': 0.21631240844726562,\n",
       "  'sigma': 0.3399669508423535,\n",
       "  'epsilon': Quantity(value=0.87864, unit=kilojoule/mole)},\n",
       " 'H7': {'charge': 0.03691279888153076,\n",
       "  'sigma': 0.2649532787749369,\n",
       "  'epsilon': Quantity(value=0.06568879999999999, unit=kilojoule/mole)},\n",
       " 'H8': {'charge': 0.06838500499725342,\n",
       "  'sigma': 0.2471353044121301,\n",
       "  'epsilon': Quantity(value=0.06568879999999999, unit=kilojoule/mole)},\n",
       " 'H9': {'charge': 0.16640782356262207,\n",
       "  'sigma': 0.25996424595335105,\n",
       "  'epsilon': Quantity(value=0.06276, unit=kilojoule/mole)}}"
      ]
     },
     "execution_count": 22,
     "metadata": {},
     "output_type": "execute_result"
    }
   ],
   "source": [
    "for i in range(pair_forces.getNumParticles()):\n",
    "    nonbonded_parms = pair_forces.getParticleParameters(index=i)\n",
    "    charge = nonbonded_parms[0]/nonbonded_parms[0].unit\n",
    "    sigma = nonbonded_parms[1]/nonbonded_parms[1].unit\n",
    "    epsilon = nonbonded_parms[2]#/nonbonded_parms[2].unit\n",
    "    nonbonded_types.append((charge,sigma,epsilon))\n",
    "    nonbonded_dict[(type_map[i])]={'charge':charge,'sigma':sigma,'epsilon':epsilon}\n",
    "nonbonded_dict"
   ]
  },
  {
   "cell_type": "code",
   "execution_count": 25,
   "id": "ee3d69a3",
   "metadata": {},
   "outputs": [],
   "source": [
    "mbuild_to_foyer_xml(\n",
    "    file_name=XML_FILEPATH,\n",
    "    compound=test,\n",
    "    bond_params=bond_dict,\n",
    "    angle_params=angle_dict,\n",
    "    dihedral_params=dihedral_dict,\n",
    "    dihedral_type=\"periodic\",\n",
    "    non_bonded_params=nonbonded_dict,\n",
    "    combining_rule=\"geometric\",\n",
    "    name=\"\",\n",
    "    version=\"\",\n",
    "    coulomb14scale=1.0,\n",
    "    lj14scale=1.0)\n",
    "\n",
    "test.save(TYPED_FILEPATH,overwrite=True)"
   ]
  },
  {
   "cell_type": "code",
   "execution_count": 26,
   "id": "c5558a11",
   "metadata": {},
   "outputs": [
    {
     "data": {
      "application/3dmoljs_load.v0": "<div id=\"3dmolviewer_16987756379561238\"  style=\"position: relative; width: 640px; height: 480px\">\n        <p id=\"3dmolwarning_16987756379561238\" style=\"background-color:#ffcccc;color:black\">You appear to be running in JupyterLab (or JavaScript failed to load for some other reason).  You need to install the 3dmol extension: <br>\n        <tt>jupyter labextension install jupyterlab_3dmol</tt></p>\n        </div>\n<script>\n\nvar loadScriptAsync = function(uri){\n  return new Promise((resolve, reject) => {\n    //this is to ignore the existence of requirejs amd\n    var savedexports, savedmodule;\n    if (typeof exports !== 'undefined') savedexports = exports;\n    else exports = {}\n    if (typeof module !== 'undefined') savedmodule = module;\n    else module = {}\n\n    var tag = document.createElement('script');\n    tag.src = uri;\n    tag.async = true;\n    tag.onload = () => {\n        exports = savedexports;\n        module = savedmodule;\n        resolve();\n    };\n  var firstScriptTag = document.getElementsByTagName('script')[0];\n  firstScriptTag.parentNode.insertBefore(tag, firstScriptTag);\n});\n};\n\nif(typeof $3Dmolpromise === 'undefined') {\n$3Dmolpromise = null;\n  $3Dmolpromise = loadScriptAsync('https://cdnjs.cloudflare.com/ajax/libs/3Dmol/2.0.1/3Dmol-min.js');\n}\n\nvar viewer_16987756379561238 = null;\nvar warn = document.getElementById(\"3dmolwarning_16987756379561238\");\nif(warn) {\n    warn.parentNode.removeChild(warn);\n}\n$3Dmolpromise.then(function() {\nviewer_16987756379561238 = $3Dmol.createViewer(document.getElementById(\"3dmolviewer_16987756379561238\"),{backgroundColor:\"white\"});\nviewer_16987756379561238.zoomTo();\n\tviewer_16987756379561238.addModel(\"@<TRIPOS>MOLECULE\\nCompound\\n187 198 1 0 1\\nSMALL\\nNO_CHARGES\\n@<TRIPOS>CRYSIN\\n   38.3646    22.0470    12.8668    90.0000    90.0000    90.0000  1  1\\n@<TRIPOS>ATOM\\n       1 C0         -16.8823    -1.4078    -0.1687 C0            1 Compound\\n       2 C0         -15.6930    -0.4851    -0.0588 C0            1 Compound\\n       3 C0         -14.4335    -1.2600     0.3067 C0            1 Compound\\n       4 C0         -13.2795    -0.3022     0.1770 C0            1 Compound\\n       5 C0         -12.0150    -0.8202     0.8230 C0            1 Compound\\n       6 C0         -10.8950     0.0616     0.2897 C0            1 Compound\\n       7 C0         -10.3630    -0.5520    -1.0299 C0            1 Compound\\n       8 C0          -9.0337    -1.1822    -0.7448 C0            1 Compound\\n       9 C0          -9.0185    -2.2440     0.3489 C0            1 Compound\\n      10 C0          -7.6232    -2.3520     0.9168 C0            1 Compound\\n      11 C0          -6.6348    -2.5972    -0.1911 C0            1 Compound\\n      12 C1          -5.7884    -1.4602    -0.7883 C1            1 Compound\\n      13 C1          -5.6912     0.0138    -0.7298 C1            1 Compound\\n      14 S2          -4.1019     0.3622    -1.0831 S2            1 Compound\\n      15 C1          -3.6735    -1.1142    -1.5311 C1            1 Compound\\n      16 C1          -4.6589    -2.0063    -1.3966 C1            1 Compound\\n      17 S2          -4.1879    -3.6606    -1.5740 S2            1 Compound\\n      18 C1          -2.6454    -3.0415    -1.4198 C1            1 Compound\\n      19 C1          -2.5081    -1.7130    -1.4722 C1            1 Compound\\n      20 N3          -1.3748    -1.2380    -0.9724 N3            1 Compound\\n      21 C0          -1.0022     0.1598    -0.7419 C0            1 Compound\\n      22 C0          -0.6671     1.2988    -1.7875 C0            1 Compound\\n      23 C0           0.4079     0.9191    -2.8774 C0            1 Compound\\n      24 C0           1.5077    -0.0538    -2.4442 C0            1 Compound\\n      25 C0          -0.0989     2.5354    -0.9628 C0            1 Compound\\n      26 C0          -0.9576     3.7881    -0.5617 C0            1 Compound\\n      27 C0          -0.3603     5.0987    -1.2034 C0            1 Compound\\n      28 C0          -1.0519     6.4405    -0.9163 C0            1 Compound\\n      29 C1          -0.8982    -2.3459    -0.3167 C1            1 Compound\\n      30 C1          -1.6182    -3.5056    -0.7147 C1            1 Compound\\n      31 C1          -1.3855    -4.7943    -0.2393 C1            1 Compound\\n      32 N3          -2.0529    -5.9193    -0.6080 N3            1 Compound\\n      33 S2          -1.2474    -7.0914     0.2412 S2            1 Compound\\n      34 N3          -0.0996    -6.2425     1.0762 N3            1 Compound\\n      35 C1          -0.3513    -4.9657     0.6831 C1            1 Compound\\n      36 C1           0.3107    -3.8287     1.1395 C1            1 Compound\\n      37 C1           0.0617    -2.4855     0.7219 C1            1 Compound\\n      38 N3           0.9187    -1.6149     1.4006 N3            1 Compound\\n      39 C0           1.2404    -0.1284     1.5263 C0            1 Compound\\n      40 C0           0.3795     0.8956     2.4430 C0            1 Compound\\n      41 C0          -1.1306     1.3242     2.2768 C0            1 Compound\\n      42 C0          -2.2937     0.3348     2.4007 C0            1 Compound\\n      43 C0           1.1230     2.3090     2.6117 C0            1 Compound\\n      44 C0           2.4375     2.7123     1.8828 C0            1 Compound\\n      45 C0           2.3080     3.8163     0.8075 C0            1 Compound\\n      46 C0           3.4895     4.7813     0.6341 C0            1 Compound\\n      47 C1           1.7926    -2.5144     1.8911 C1            1 Compound\\n      48 C1           1.4089    -3.7850     1.8694 C1            1 Compound\\n      49 S2           2.5520    -4.9745     2.1419 S2            1 Compound\\n      50 C1           3.6692    -3.6973     1.8964 C1            1 Compound\\n      51 C1           3.1259    -2.4788     1.9237 C1            1 Compound\\n      52 S2           4.1592    -1.4157     1.3345 S2            1 Compound\\n      53 C1           5.4809    -2.3605     1.1140 C1            1 Compound\\n      54 C1           6.8611    -1.7421     0.8257 C1            1 Compound\\n      55 C1           7.2248    -0.4502     0.4628 C1            1 Compound\\n      56 C1           8.6181     0.0397     0.2534 C1            1 Compound\\n      57 O4           9.6351    -0.6150     0.4118 O4            1 Compound\\n      58 C1           8.5785     1.4826    -0.0330 C1            1 Compound\\n      59 C1           9.6024     2.4441    -0.1076 C1            1 Compound\\n      60 C1           9.2523     3.8108    -0.2219 C1            1 Compound\\n      61 F5          10.2085     4.7701    -0.2455 F5            1 Compound\\n      62 C1           7.9070     4.1954    -0.2607 C1            1 Compound\\n      63 F5           7.5505     5.5062    -0.3015 F5            1 Compound\\n      64 C1           6.9185     3.2256    -0.2200 C1            1 Compound\\n      65 C1           7.2677     1.8584    -0.1247 C1            1 Compound\\n      66 C1           6.3596     0.6987     0.0820 C1            1 Compound\\n      67 C1           5.2328     1.1286     0.5850 C1            1 Compound\\n      68 C6           4.3729     1.6322    -0.4542 C6            1 Compound\\n      69 N3           3.7631     2.0093    -1.3579 N3            1 Compound\\n      70 C6           4.9345     1.0493     2.0761 C6            1 Compound\\n      71 N3           5.9098     1.7433     2.8883 N3            1 Compound\\n      72 C1           4.9286    -3.6955     1.2681 C1            1 Compound\\n      73 C0           5.1665    -4.9463     0.4333 C0            1 Compound\\n      74 C0           5.3401    -4.7528    -1.1091 C0            1 Compound\\n      75 C0           6.6402    -5.4337    -1.4702 C0            1 Compound\\n      76 C0           7.7483    -4.4735    -1.0761 C0            1 Compound\\n      77 C0           8.8634    -5.2038    -0.4144 C0            1 Compound\\n      78 C0           9.7898    -4.2807     0.4175 C0            1 Compound\\n      79 C0          10.9849    -5.1298     0.8233 C0            1 Compound\\n      80 C0          11.8805    -5.2999    -0.4242 C0            1 Compound\\n      81 C0          12.5630    -6.6555    -0.4517 C0            1 Compound\\n      82 C0          13.9445    -6.5967     0.1642 C0            1 Compound\\n      83 C0          14.5295    -7.9984     0.2043 C0            1 Compound\\n      84 C1          -6.5253     1.2028    -0.2926 C1            1 Compound\\n      85 C1          -6.2788     2.5526    -0.4479 C1            1 Compound\\n      86 C1          -7.2177     3.5821     0.0387 C1            1 Compound\\n      87 O4          -8.3648     3.3882     0.4048 O4            1 Compound\\n      88 C1          -6.5336     4.8634     0.0905 C1            1 Compound\\n      89 C1          -7.0069     6.1162     0.4874 C1            1 Compound\\n      90 C1          -6.0996     7.1878     0.5470 C1            1 Compound\\n      91 F5          -6.5342     8.4268     0.8882 F5            1 Compound\\n      92 C1          -4.7357     6.9660     0.2783 C1            1 Compound\\n      93 F5          -3.8432     7.9811     0.4059 F5            1 Compound\\n      94 C1          -4.3123     5.7020    -0.1684 C1            1 Compound\\n      95 C1          -5.2399     4.6837    -0.3253 C1            1 Compound\\n      96 C1          -5.1471     3.3666    -1.0137 C1            1 Compound\\n      97 C1          -4.3441     3.1374    -2.1209 C1            1 Compound\\n      98 C6          -3.3824     4.0887    -2.6205 C6            1 Compound\\n      99 N3          -2.6016     4.8070    -3.0746 N3            1 Compound\\n     100 C6          -4.7075     2.0943    -3.1156 C6            1 Compound\\n     101 N3          -4.0021     1.8889    -4.1691 N3            1 Compound\\n     102 H7         -16.7158    -2.1113    -1.0121 H7            1 Compound\\n     103 H7         -17.0151    -1.9740     0.7760 H7            1 Compound\\n     104 H7         -17.7839    -0.7962    -0.3720 H7            1 Compound\\n     105 H7         -15.8714     0.2767     0.7345 H7            1 Compound\\n     106 H7         -15.5620     0.0412    -1.0311 H7            1 Compound\\n     107 H7         -14.2484    -2.1107    -0.3899 H7            1 Compound\\n     108 H7         -14.5242    -1.6519     1.3430 H7            1 Compound\\n     109 H7         -13.4991     0.6689     0.6783 H7            1 Compound\\n     110 H7         -13.1365    -0.1116    -0.9125 H7            1 Compound\\n     111 H7         -11.8198    -1.8950     0.5966 H7            1 Compound\\n     112 H7         -12.1262    -0.7237     1.9241 H7            1 Compound\\n     113 H7         -10.0953     0.1738     1.0560 H7            1 Compound\\n     114 H7         -11.2385     1.1071     0.1320 H7            1 Compound\\n     115 H7         -10.1687     0.2565    -1.7655 H7            1 Compound\\n     116 H7         -11.0364    -1.3028    -1.5007 H7            1 Compound\\n     117 H7          -8.5093    -1.5071    -1.6664 H7            1 Compound\\n     118 H7          -8.4792    -0.3813    -0.3562 H7            1 Compound\\n     119 H7          -9.6423    -2.0139     1.2328 H7            1 Compound\\n     120 H7          -9.3596    -3.2064    -0.0861 H7            1 Compound\\n     121 H7          -7.6533    -3.2344     1.6017 H7            1 Compound\\n     122 H7          -7.2937    -1.4789     1.5259 H7            1 Compound\\n     123 H7          -7.0254    -3.3020    -0.9589 H7            1 Compound\\n     124 H7          -5.8801    -3.1866     0.3855 H7            1 Compound\\n     125 H8          -1.7138     0.5486    -0.0444 H8            1 Compound\\n     126 H8          -0.0779     0.0393    -0.3210 H8            1 Compound\\n     127 H7          -1.5590     1.6557    -2.3407 H7            1 Compound\\n     128 H7          -0.0908     0.5038    -3.7752 H7            1 Compound\\n     129 H7           0.9180     1.8428    -3.2532 H7            1 Compound\\n     130 H7           2.0369     0.3067    -1.5526 H7            1 Compound\\n     131 H7           1.0803    -1.0534    -2.2292 H7            1 Compound\\n     132 H7           2.2514    -0.1659    -3.2628 H7            1 Compound\\n     133 H7           0.7138     2.9752    -1.5490 H7            1 Compound\\n     134 H7           0.4282     2.1597    -0.0723 H7            1 Compound\\n     135 H7          -2.0185     3.5874    -0.7474 H7            1 Compound\\n     136 H7          -0.8965     3.9512     0.5370 H7            1 Compound\\n     137 H7          -0.2775     4.9841    -2.3019 H7            1 Compound\\n     138 H7           0.6680     5.2284    -0.8262 H7            1 Compound\\n     139 H7          -1.9875     6.5607    -1.4869 H7            1 Compound\\n     140 H7          -0.4231     7.2727    -1.2921 H7            1 Compound\\n     141 H7          -1.2225     6.5934     0.1713 H7            1 Compound\\n     142 H8           2.1592    -0.0795     2.1255 H8            1 Compound\\n     143 H8           1.6119     0.2881     0.5811 H8            1 Compound\\n     144 H7           0.3914     0.4079     3.4422 H7            1 Compound\\n     145 H7          -1.2544     1.9285     1.3754 H7            1 Compound\\n     146 H7          -1.3675     2.0783     3.0665 H7            1 Compound\\n     147 H7          -2.7623     0.3986     3.4094 H7            1 Compound\\n     148 H7          -3.1087     0.6788     1.7187 H7            1 Compound\\n     149 H7          -2.0137    -0.6999     2.1384 H7            1 Compound\\n     150 H7           0.4377     3.1745     2.4908 H7            1 Compound\\n     151 H7           1.3279     2.4038     3.6977 H7            1 Compound\\n     152 H7           3.1313     3.0935     2.6608 H7            1 Compound\\n     153 H7           2.8553     1.8459     1.4200 H7            1 Compound\\n     154 H7           2.1669     3.3615    -0.1699 H7            1 Compound\\n     155 H7           1.4341     4.4360     1.0486 H7            1 Compound\\n     156 H7           4.1961     4.7647     1.4865 H7            1 Compound\\n     157 H7           4.0141     4.6235    -0.3316 H7            1 Compound\\n     158 H7           3.0783     5.8116     0.5480 H7            1 Compound\\n     159 H9           7.6988    -2.3804     1.0202 H9            1 Compound\\n     160 H9          10.6397     2.1631    -0.0266 H9            1 Compound\\n     161 H9           5.9003     3.5608    -0.2102 H9            1 Compound\\n     162 H7           5.5300    -5.8555     0.9476 H7            1 Compound\\n     163 H7           4.1395    -5.3567     0.2876 H7            1 Compound\\n     164 H7           5.3078    -3.6777    -1.4246 H7            1 Compound\\n     165 H7           4.5394    -5.2634    -1.7017 H7            1 Compound\\n     166 H7           6.7428    -5.7298    -2.5305 H7            1 Compound\\n     167 H7           6.6555    -6.3957    -0.8969 H7            1 Compound\\n     168 H7           7.3734    -3.8360    -0.3050 H7            1 Compound\\n     169 H7           8.0421    -3.8272    -1.9343 H7            1 Compound\\n     170 H7           8.4435    -5.9170     0.3294 H7            1 Compound\\n     171 H7           9.3316    -5.7969    -1.2156 H7            1 Compound\\n     172 H7           9.2315    -3.9588     1.3254 H7            1 Compound\\n     173 H7          10.1288    -3.3650    -0.1191 H7            1 Compound\\n     174 H7          11.5659    -4.7188     1.6743 H7            1 Compound\\n     175 H7          10.5574    -6.0987     1.1795 H7            1 Compound\\n     176 H7          11.2820    -5.2911    -1.3484 H7            1 Compound\\n     177 H7          12.5555    -4.4280    -0.5666 H7            1 Compound\\n     178 H7          12.6903    -6.9662    -1.5122 H7            1 Compound\\n     179 H7          11.9088    -7.4224     0.0241 H7            1 Compound\\n     180 H7          14.5720    -5.9430    -0.4838 H7            1 Compound\\n     181 H7          13.9138    -6.1715     1.1890 H7            1 Compound\\n     182 H7          13.9376    -8.6202     0.9103 H7            1 Compound\\n     183 H7          14.4931    -8.4645    -0.8051 H7            1 Compound\\n     184 H7          15.5807    -7.9497     0.5466 H7            1 Compound\\n     185 H9          -7.4223     1.0646     0.2518 H9            1 Compound\\n     186 H9          -8.0509     6.2617     0.7267 H9            1 Compound\\n     187 H9          -3.3021     5.4959    -0.3879 H9            1 Compound\\n@<TRIPOS>BOND\\n       1        2        1 1\\n       2      102        1 1\\n       3      103        1 1\\n       4      104        1 1\\n       5        3        2 1\\n       6      105        2 1\\n       7      106        2 1\\n       8        4        3 1\\n       9      107        3 1\\n      10      108        3 1\\n      11        5        4 1\\n      12      109        4 1\\n      13      110        4 1\\n      14        6        5 1\\n      15      111        5 1\\n      16      112        5 1\\n      17        7        6 1\\n      18      113        6 1\\n      19      114        6 1\\n      20        8        7 1\\n      21      115        7 1\\n      22      116        7 1\\n      23        9        8 1\\n      24      117        8 1\\n      25      118        8 1\\n      26       10        9 1\\n      27      119        9 1\\n      28      120        9 1\\n      29       11       10 1\\n      30      121       10 1\\n      31      122       10 1\\n      32       12       11 1\\n      33      123       11 1\\n      34      124       11 1\\n      35       13       12 1\\n      36       16       12 1\\n      37       14       13 1\\n      38       84       13 1\\n      39       15       14 1\\n      40       16       15 1\\n      41       19       15 1\\n      42       17       16 1\\n      43       18       17 1\\n      44       19       18 1\\n      45       30       18 1\\n      46       20       19 1\\n      47       21       20 1\\n      48       29       20 1\\n      49       22       21 1\\n      50      125       21 1\\n      51      126       21 1\\n      52       23       22 1\\n      53       25       22 1\\n      54      127       22 1\\n      55       24       23 1\\n      56      128       23 1\\n      57      129       23 1\\n      58      130       24 1\\n      59      131       24 1\\n      60      132       24 1\\n      61       26       25 1\\n      62      133       25 1\\n      63      134       25 1\\n      64       27       26 1\\n      65      135       26 1\\n      66      136       26 1\\n      67       28       27 1\\n      68      137       27 1\\n      69      138       27 1\\n      70      139       28 1\\n      71      140       28 1\\n      72      141       28 1\\n      73       30       29 1\\n      74       37       29 1\\n      75       31       30 1\\n      76       32       31 1\\n      77       35       31 1\\n      78       33       32 1\\n      79       34       33 1\\n      80       35       34 1\\n      81       36       35 1\\n      82       37       36 1\\n      83       48       36 1\\n      84       38       37 1\\n      85       39       38 1\\n      86       47       38 1\\n      87       40       39 1\\n      88      142       39 1\\n      89      143       39 1\\n      90       41       40 1\\n      91       43       40 1\\n      92      144       40 1\\n      93       42       41 1\\n      94      145       41 1\\n      95      146       41 1\\n      96      147       42 1\\n      97      148       42 1\\n      98      149       42 1\\n      99       44       43 1\\n     100      150       43 1\\n     101      151       43 1\\n     102       45       44 1\\n     103      152       44 1\\n     104      153       44 1\\n     105       46       45 1\\n     106      154       45 1\\n     107      155       45 1\\n     108      156       46 1\\n     109      157       46 1\\n     110      158       46 1\\n     111       48       47 1\\n     112       51       47 1\\n     113       49       48 1\\n     114       50       49 1\\n     115       51       50 1\\n     116       72       50 1\\n     117       52       51 1\\n     118       53       52 1\\n     119       54       53 1\\n     120       72       53 1\\n     121       55       54 1\\n     122      159       54 1\\n     123       56       55 1\\n     124       66       55 1\\n     125       57       56 1\\n     126       58       56 1\\n     127       59       58 1\\n     128       65       58 1\\n     129       60       59 1\\n     130      160       59 1\\n     131       61       60 1\\n     132       62       60 1\\n     133       63       62 1\\n     134       64       62 1\\n     135       65       64 1\\n     136      161       64 1\\n     137       66       65 1\\n     138       67       66 1\\n     139       68       67 1\\n     140       70       67 1\\n     141       69       68 1\\n     142       71       70 1\\n     143       73       72 1\\n     144       74       73 1\\n     145      162       73 1\\n     146      163       73 1\\n     147       75       74 1\\n     148      164       74 1\\n     149      165       74 1\\n     150       76       75 1\\n     151      166       75 1\\n     152      167       75 1\\n     153       77       76 1\\n     154      168       76 1\\n     155      169       76 1\\n     156       78       77 1\\n     157      170       77 1\\n     158      171       77 1\\n     159       79       78 1\\n     160      172       78 1\\n     161      173       78 1\\n     162       80       79 1\\n     163      174       79 1\\n     164      175       79 1\\n     165       81       80 1\\n     166      176       80 1\\n     167      177       80 1\\n     168       82       81 1\\n     169      178       81 1\\n     170      179       81 1\\n     171       83       82 1\\n     172      180       82 1\\n     173      181       82 1\\n     174      182       83 1\\n     175      183       83 1\\n     176      184       83 1\\n     177       85       84 1\\n     178      185       84 1\\n     179       86       85 1\\n     180       96       85 1\\n     181       87       86 1\\n     182       88       86 1\\n     183       89       88 1\\n     184       95       88 1\\n     185       90       89 1\\n     186      186       89 1\\n     187       91       90 1\\n     188       92       90 1\\n     189       93       92 1\\n     190       94       92 1\\n     191       95       94 1\\n     192      187       94 1\\n     193       96       95 1\\n     194       97       96 1\\n     195       98       97 1\\n     196      100       97 1\\n     197       99       98 1\\n     198      101      100 1\\n@<TRIPOS>SUBSTRUCTURE\\n       1 Compound        1 RESIDUE    0 **** ROOT      0\\n\",\"mol2\");\n\tviewer_16987756379561238.setStyle({\"stick\": {\"radius\": 0.2, \"color\": \"grey\"}, \"sphere\": {\"scale\": 0.3, \"colorscheme\": {}}});\n\tviewer_16987756379561238.zoomTo();\nviewer_16987756379561238.render();\n});\n</script>",
      "text/html": [
       "<div id=\"3dmolviewer_16987756379561238\"  style=\"position: relative; width: 640px; height: 480px\">\n",
       "        <p id=\"3dmolwarning_16987756379561238\" style=\"background-color:#ffcccc;color:black\">You appear to be running in JupyterLab (or JavaScript failed to load for some other reason).  You need to install the 3dmol extension: <br>\n",
       "        <tt>jupyter labextension install jupyterlab_3dmol</tt></p>\n",
       "        </div>\n",
       "<script>\n",
       "\n",
       "var loadScriptAsync = function(uri){\n",
       "  return new Promise((resolve, reject) => {\n",
       "    //this is to ignore the existence of requirejs amd\n",
       "    var savedexports, savedmodule;\n",
       "    if (typeof exports !== 'undefined') savedexports = exports;\n",
       "    else exports = {}\n",
       "    if (typeof module !== 'undefined') savedmodule = module;\n",
       "    else module = {}\n",
       "\n",
       "    var tag = document.createElement('script');\n",
       "    tag.src = uri;\n",
       "    tag.async = true;\n",
       "    tag.onload = () => {\n",
       "        exports = savedexports;\n",
       "        module = savedmodule;\n",
       "        resolve();\n",
       "    };\n",
       "  var firstScriptTag = document.getElementsByTagName('script')[0];\n",
       "  firstScriptTag.parentNode.insertBefore(tag, firstScriptTag);\n",
       "});\n",
       "};\n",
       "\n",
       "if(typeof $3Dmolpromise === 'undefined') {\n",
       "$3Dmolpromise = null;\n",
       "  $3Dmolpromise = loadScriptAsync('https://cdnjs.cloudflare.com/ajax/libs/3Dmol/2.0.1/3Dmol-min.js');\n",
       "}\n",
       "\n",
       "var viewer_16987756379561238 = null;\n",
       "var warn = document.getElementById(\"3dmolwarning_16987756379561238\");\n",
       "if(warn) {\n",
       "    warn.parentNode.removeChild(warn);\n",
       "}\n",
       "$3Dmolpromise.then(function() {\n",
       "viewer_16987756379561238 = $3Dmol.createViewer(document.getElementById(\"3dmolviewer_16987756379561238\"),{backgroundColor:\"white\"});\n",
       "viewer_16987756379561238.zoomTo();\n",
       "\tviewer_16987756379561238.addModel(\"@<TRIPOS>MOLECULE\\nCompound\\n187 198 1 0 1\\nSMALL\\nNO_CHARGES\\n@<TRIPOS>CRYSIN\\n   38.3646    22.0470    12.8668    90.0000    90.0000    90.0000  1  1\\n@<TRIPOS>ATOM\\n       1 C0         -16.8823    -1.4078    -0.1687 C0            1 Compound\\n       2 C0         -15.6930    -0.4851    -0.0588 C0            1 Compound\\n       3 C0         -14.4335    -1.2600     0.3067 C0            1 Compound\\n       4 C0         -13.2795    -0.3022     0.1770 C0            1 Compound\\n       5 C0         -12.0150    -0.8202     0.8230 C0            1 Compound\\n       6 C0         -10.8950     0.0616     0.2897 C0            1 Compound\\n       7 C0         -10.3630    -0.5520    -1.0299 C0            1 Compound\\n       8 C0          -9.0337    -1.1822    -0.7448 C0            1 Compound\\n       9 C0          -9.0185    -2.2440     0.3489 C0            1 Compound\\n      10 C0          -7.6232    -2.3520     0.9168 C0            1 Compound\\n      11 C0          -6.6348    -2.5972    -0.1911 C0            1 Compound\\n      12 C1          -5.7884    -1.4602    -0.7883 C1            1 Compound\\n      13 C1          -5.6912     0.0138    -0.7298 C1            1 Compound\\n      14 S2          -4.1019     0.3622    -1.0831 S2            1 Compound\\n      15 C1          -3.6735    -1.1142    -1.5311 C1            1 Compound\\n      16 C1          -4.6589    -2.0063    -1.3966 C1            1 Compound\\n      17 S2          -4.1879    -3.6606    -1.5740 S2            1 Compound\\n      18 C1          -2.6454    -3.0415    -1.4198 C1            1 Compound\\n      19 C1          -2.5081    -1.7130    -1.4722 C1            1 Compound\\n      20 N3          -1.3748    -1.2380    -0.9724 N3            1 Compound\\n      21 C0          -1.0022     0.1598    -0.7419 C0            1 Compound\\n      22 C0          -0.6671     1.2988    -1.7875 C0            1 Compound\\n      23 C0           0.4079     0.9191    -2.8774 C0            1 Compound\\n      24 C0           1.5077    -0.0538    -2.4442 C0            1 Compound\\n      25 C0          -0.0989     2.5354    -0.9628 C0            1 Compound\\n      26 C0          -0.9576     3.7881    -0.5617 C0            1 Compound\\n      27 C0          -0.3603     5.0987    -1.2034 C0            1 Compound\\n      28 C0          -1.0519     6.4405    -0.9163 C0            1 Compound\\n      29 C1          -0.8982    -2.3459    -0.3167 C1            1 Compound\\n      30 C1          -1.6182    -3.5056    -0.7147 C1            1 Compound\\n      31 C1          -1.3855    -4.7943    -0.2393 C1            1 Compound\\n      32 N3          -2.0529    -5.9193    -0.6080 N3            1 Compound\\n      33 S2          -1.2474    -7.0914     0.2412 S2            1 Compound\\n      34 N3          -0.0996    -6.2425     1.0762 N3            1 Compound\\n      35 C1          -0.3513    -4.9657     0.6831 C1            1 Compound\\n      36 C1           0.3107    -3.8287     1.1395 C1            1 Compound\\n      37 C1           0.0617    -2.4855     0.7219 C1            1 Compound\\n      38 N3           0.9187    -1.6149     1.4006 N3            1 Compound\\n      39 C0           1.2404    -0.1284     1.5263 C0            1 Compound\\n      40 C0           0.3795     0.8956     2.4430 C0            1 Compound\\n      41 C0          -1.1306     1.3242     2.2768 C0            1 Compound\\n      42 C0          -2.2937     0.3348     2.4007 C0            1 Compound\\n      43 C0           1.1230     2.3090     2.6117 C0            1 Compound\\n      44 C0           2.4375     2.7123     1.8828 C0            1 Compound\\n      45 C0           2.3080     3.8163     0.8075 C0            1 Compound\\n      46 C0           3.4895     4.7813     0.6341 C0            1 Compound\\n      47 C1           1.7926    -2.5144     1.8911 C1            1 Compound\\n      48 C1           1.4089    -3.7850     1.8694 C1            1 Compound\\n      49 S2           2.5520    -4.9745     2.1419 S2            1 Compound\\n      50 C1           3.6692    -3.6973     1.8964 C1            1 Compound\\n      51 C1           3.1259    -2.4788     1.9237 C1            1 Compound\\n      52 S2           4.1592    -1.4157     1.3345 S2            1 Compound\\n      53 C1           5.4809    -2.3605     1.1140 C1            1 Compound\\n      54 C1           6.8611    -1.7421     0.8257 C1            1 Compound\\n      55 C1           7.2248    -0.4502     0.4628 C1            1 Compound\\n      56 C1           8.6181     0.0397     0.2534 C1            1 Compound\\n      57 O4           9.6351    -0.6150     0.4118 O4            1 Compound\\n      58 C1           8.5785     1.4826    -0.0330 C1            1 Compound\\n      59 C1           9.6024     2.4441    -0.1076 C1            1 Compound\\n      60 C1           9.2523     3.8108    -0.2219 C1            1 Compound\\n      61 F5          10.2085     4.7701    -0.2455 F5            1 Compound\\n      62 C1           7.9070     4.1954    -0.2607 C1            1 Compound\\n      63 F5           7.5505     5.5062    -0.3015 F5            1 Compound\\n      64 C1           6.9185     3.2256    -0.2200 C1            1 Compound\\n      65 C1           7.2677     1.8584    -0.1247 C1            1 Compound\\n      66 C1           6.3596     0.6987     0.0820 C1            1 Compound\\n      67 C1           5.2328     1.1286     0.5850 C1            1 Compound\\n      68 C6           4.3729     1.6322    -0.4542 C6            1 Compound\\n      69 N3           3.7631     2.0093    -1.3579 N3            1 Compound\\n      70 C6           4.9345     1.0493     2.0761 C6            1 Compound\\n      71 N3           5.9098     1.7433     2.8883 N3            1 Compound\\n      72 C1           4.9286    -3.6955     1.2681 C1            1 Compound\\n      73 C0           5.1665    -4.9463     0.4333 C0            1 Compound\\n      74 C0           5.3401    -4.7528    -1.1091 C0            1 Compound\\n      75 C0           6.6402    -5.4337    -1.4702 C0            1 Compound\\n      76 C0           7.7483    -4.4735    -1.0761 C0            1 Compound\\n      77 C0           8.8634    -5.2038    -0.4144 C0            1 Compound\\n      78 C0           9.7898    -4.2807     0.4175 C0            1 Compound\\n      79 C0          10.9849    -5.1298     0.8233 C0            1 Compound\\n      80 C0          11.8805    -5.2999    -0.4242 C0            1 Compound\\n      81 C0          12.5630    -6.6555    -0.4517 C0            1 Compound\\n      82 C0          13.9445    -6.5967     0.1642 C0            1 Compound\\n      83 C0          14.5295    -7.9984     0.2043 C0            1 Compound\\n      84 C1          -6.5253     1.2028    -0.2926 C1            1 Compound\\n      85 C1          -6.2788     2.5526    -0.4479 C1            1 Compound\\n      86 C1          -7.2177     3.5821     0.0387 C1            1 Compound\\n      87 O4          -8.3648     3.3882     0.4048 O4            1 Compound\\n      88 C1          -6.5336     4.8634     0.0905 C1            1 Compound\\n      89 C1          -7.0069     6.1162     0.4874 C1            1 Compound\\n      90 C1          -6.0996     7.1878     0.5470 C1            1 Compound\\n      91 F5          -6.5342     8.4268     0.8882 F5            1 Compound\\n      92 C1          -4.7357     6.9660     0.2783 C1            1 Compound\\n      93 F5          -3.8432     7.9811     0.4059 F5            1 Compound\\n      94 C1          -4.3123     5.7020    -0.1684 C1            1 Compound\\n      95 C1          -5.2399     4.6837    -0.3253 C1            1 Compound\\n      96 C1          -5.1471     3.3666    -1.0137 C1            1 Compound\\n      97 C1          -4.3441     3.1374    -2.1209 C1            1 Compound\\n      98 C6          -3.3824     4.0887    -2.6205 C6            1 Compound\\n      99 N3          -2.6016     4.8070    -3.0746 N3            1 Compound\\n     100 C6          -4.7075     2.0943    -3.1156 C6            1 Compound\\n     101 N3          -4.0021     1.8889    -4.1691 N3            1 Compound\\n     102 H7         -16.7158    -2.1113    -1.0121 H7            1 Compound\\n     103 H7         -17.0151    -1.9740     0.7760 H7            1 Compound\\n     104 H7         -17.7839    -0.7962    -0.3720 H7            1 Compound\\n     105 H7         -15.8714     0.2767     0.7345 H7            1 Compound\\n     106 H7         -15.5620     0.0412    -1.0311 H7            1 Compound\\n     107 H7         -14.2484    -2.1107    -0.3899 H7            1 Compound\\n     108 H7         -14.5242    -1.6519     1.3430 H7            1 Compound\\n     109 H7         -13.4991     0.6689     0.6783 H7            1 Compound\\n     110 H7         -13.1365    -0.1116    -0.9125 H7            1 Compound\\n     111 H7         -11.8198    -1.8950     0.5966 H7            1 Compound\\n     112 H7         -12.1262    -0.7237     1.9241 H7            1 Compound\\n     113 H7         -10.0953     0.1738     1.0560 H7            1 Compound\\n     114 H7         -11.2385     1.1071     0.1320 H7            1 Compound\\n     115 H7         -10.1687     0.2565    -1.7655 H7            1 Compound\\n     116 H7         -11.0364    -1.3028    -1.5007 H7            1 Compound\\n     117 H7          -8.5093    -1.5071    -1.6664 H7            1 Compound\\n     118 H7          -8.4792    -0.3813    -0.3562 H7            1 Compound\\n     119 H7          -9.6423    -2.0139     1.2328 H7            1 Compound\\n     120 H7          -9.3596    -3.2064    -0.0861 H7            1 Compound\\n     121 H7          -7.6533    -3.2344     1.6017 H7            1 Compound\\n     122 H7          -7.2937    -1.4789     1.5259 H7            1 Compound\\n     123 H7          -7.0254    -3.3020    -0.9589 H7            1 Compound\\n     124 H7          -5.8801    -3.1866     0.3855 H7            1 Compound\\n     125 H8          -1.7138     0.5486    -0.0444 H8            1 Compound\\n     126 H8          -0.0779     0.0393    -0.3210 H8            1 Compound\\n     127 H7          -1.5590     1.6557    -2.3407 H7            1 Compound\\n     128 H7          -0.0908     0.5038    -3.7752 H7            1 Compound\\n     129 H7           0.9180     1.8428    -3.2532 H7            1 Compound\\n     130 H7           2.0369     0.3067    -1.5526 H7            1 Compound\\n     131 H7           1.0803    -1.0534    -2.2292 H7            1 Compound\\n     132 H7           2.2514    -0.1659    -3.2628 H7            1 Compound\\n     133 H7           0.7138     2.9752    -1.5490 H7            1 Compound\\n     134 H7           0.4282     2.1597    -0.0723 H7            1 Compound\\n     135 H7          -2.0185     3.5874    -0.7474 H7            1 Compound\\n     136 H7          -0.8965     3.9512     0.5370 H7            1 Compound\\n     137 H7          -0.2775     4.9841    -2.3019 H7            1 Compound\\n     138 H7           0.6680     5.2284    -0.8262 H7            1 Compound\\n     139 H7          -1.9875     6.5607    -1.4869 H7            1 Compound\\n     140 H7          -0.4231     7.2727    -1.2921 H7            1 Compound\\n     141 H7          -1.2225     6.5934     0.1713 H7            1 Compound\\n     142 H8           2.1592    -0.0795     2.1255 H8            1 Compound\\n     143 H8           1.6119     0.2881     0.5811 H8            1 Compound\\n     144 H7           0.3914     0.4079     3.4422 H7            1 Compound\\n     145 H7          -1.2544     1.9285     1.3754 H7            1 Compound\\n     146 H7          -1.3675     2.0783     3.0665 H7            1 Compound\\n     147 H7          -2.7623     0.3986     3.4094 H7            1 Compound\\n     148 H7          -3.1087     0.6788     1.7187 H7            1 Compound\\n     149 H7          -2.0137    -0.6999     2.1384 H7            1 Compound\\n     150 H7           0.4377     3.1745     2.4908 H7            1 Compound\\n     151 H7           1.3279     2.4038     3.6977 H7            1 Compound\\n     152 H7           3.1313     3.0935     2.6608 H7            1 Compound\\n     153 H7           2.8553     1.8459     1.4200 H7            1 Compound\\n     154 H7           2.1669     3.3615    -0.1699 H7            1 Compound\\n     155 H7           1.4341     4.4360     1.0486 H7            1 Compound\\n     156 H7           4.1961     4.7647     1.4865 H7            1 Compound\\n     157 H7           4.0141     4.6235    -0.3316 H7            1 Compound\\n     158 H7           3.0783     5.8116     0.5480 H7            1 Compound\\n     159 H9           7.6988    -2.3804     1.0202 H9            1 Compound\\n     160 H9          10.6397     2.1631    -0.0266 H9            1 Compound\\n     161 H9           5.9003     3.5608    -0.2102 H9            1 Compound\\n     162 H7           5.5300    -5.8555     0.9476 H7            1 Compound\\n     163 H7           4.1395    -5.3567     0.2876 H7            1 Compound\\n     164 H7           5.3078    -3.6777    -1.4246 H7            1 Compound\\n     165 H7           4.5394    -5.2634    -1.7017 H7            1 Compound\\n     166 H7           6.7428    -5.7298    -2.5305 H7            1 Compound\\n     167 H7           6.6555    -6.3957    -0.8969 H7            1 Compound\\n     168 H7           7.3734    -3.8360    -0.3050 H7            1 Compound\\n     169 H7           8.0421    -3.8272    -1.9343 H7            1 Compound\\n     170 H7           8.4435    -5.9170     0.3294 H7            1 Compound\\n     171 H7           9.3316    -5.7969    -1.2156 H7            1 Compound\\n     172 H7           9.2315    -3.9588     1.3254 H7            1 Compound\\n     173 H7          10.1288    -3.3650    -0.1191 H7            1 Compound\\n     174 H7          11.5659    -4.7188     1.6743 H7            1 Compound\\n     175 H7          10.5574    -6.0987     1.1795 H7            1 Compound\\n     176 H7          11.2820    -5.2911    -1.3484 H7            1 Compound\\n     177 H7          12.5555    -4.4280    -0.5666 H7            1 Compound\\n     178 H7          12.6903    -6.9662    -1.5122 H7            1 Compound\\n     179 H7          11.9088    -7.4224     0.0241 H7            1 Compound\\n     180 H7          14.5720    -5.9430    -0.4838 H7            1 Compound\\n     181 H7          13.9138    -6.1715     1.1890 H7            1 Compound\\n     182 H7          13.9376    -8.6202     0.9103 H7            1 Compound\\n     183 H7          14.4931    -8.4645    -0.8051 H7            1 Compound\\n     184 H7          15.5807    -7.9497     0.5466 H7            1 Compound\\n     185 H9          -7.4223     1.0646     0.2518 H9            1 Compound\\n     186 H9          -8.0509     6.2617     0.7267 H9            1 Compound\\n     187 H9          -3.3021     5.4959    -0.3879 H9            1 Compound\\n@<TRIPOS>BOND\\n       1        2        1 1\\n       2      102        1 1\\n       3      103        1 1\\n       4      104        1 1\\n       5        3        2 1\\n       6      105        2 1\\n       7      106        2 1\\n       8        4        3 1\\n       9      107        3 1\\n      10      108        3 1\\n      11        5        4 1\\n      12      109        4 1\\n      13      110        4 1\\n      14        6        5 1\\n      15      111        5 1\\n      16      112        5 1\\n      17        7        6 1\\n      18      113        6 1\\n      19      114        6 1\\n      20        8        7 1\\n      21      115        7 1\\n      22      116        7 1\\n      23        9        8 1\\n      24      117        8 1\\n      25      118        8 1\\n      26       10        9 1\\n      27      119        9 1\\n      28      120        9 1\\n      29       11       10 1\\n      30      121       10 1\\n      31      122       10 1\\n      32       12       11 1\\n      33      123       11 1\\n      34      124       11 1\\n      35       13       12 1\\n      36       16       12 1\\n      37       14       13 1\\n      38       84       13 1\\n      39       15       14 1\\n      40       16       15 1\\n      41       19       15 1\\n      42       17       16 1\\n      43       18       17 1\\n      44       19       18 1\\n      45       30       18 1\\n      46       20       19 1\\n      47       21       20 1\\n      48       29       20 1\\n      49       22       21 1\\n      50      125       21 1\\n      51      126       21 1\\n      52       23       22 1\\n      53       25       22 1\\n      54      127       22 1\\n      55       24       23 1\\n      56      128       23 1\\n      57      129       23 1\\n      58      130       24 1\\n      59      131       24 1\\n      60      132       24 1\\n      61       26       25 1\\n      62      133       25 1\\n      63      134       25 1\\n      64       27       26 1\\n      65      135       26 1\\n      66      136       26 1\\n      67       28       27 1\\n      68      137       27 1\\n      69      138       27 1\\n      70      139       28 1\\n      71      140       28 1\\n      72      141       28 1\\n      73       30       29 1\\n      74       37       29 1\\n      75       31       30 1\\n      76       32       31 1\\n      77       35       31 1\\n      78       33       32 1\\n      79       34       33 1\\n      80       35       34 1\\n      81       36       35 1\\n      82       37       36 1\\n      83       48       36 1\\n      84       38       37 1\\n      85       39       38 1\\n      86       47       38 1\\n      87       40       39 1\\n      88      142       39 1\\n      89      143       39 1\\n      90       41       40 1\\n      91       43       40 1\\n      92      144       40 1\\n      93       42       41 1\\n      94      145       41 1\\n      95      146       41 1\\n      96      147       42 1\\n      97      148       42 1\\n      98      149       42 1\\n      99       44       43 1\\n     100      150       43 1\\n     101      151       43 1\\n     102       45       44 1\\n     103      152       44 1\\n     104      153       44 1\\n     105       46       45 1\\n     106      154       45 1\\n     107      155       45 1\\n     108      156       46 1\\n     109      157       46 1\\n     110      158       46 1\\n     111       48       47 1\\n     112       51       47 1\\n     113       49       48 1\\n     114       50       49 1\\n     115       51       50 1\\n     116       72       50 1\\n     117       52       51 1\\n     118       53       52 1\\n     119       54       53 1\\n     120       72       53 1\\n     121       55       54 1\\n     122      159       54 1\\n     123       56       55 1\\n     124       66       55 1\\n     125       57       56 1\\n     126       58       56 1\\n     127       59       58 1\\n     128       65       58 1\\n     129       60       59 1\\n     130      160       59 1\\n     131       61       60 1\\n     132       62       60 1\\n     133       63       62 1\\n     134       64       62 1\\n     135       65       64 1\\n     136      161       64 1\\n     137       66       65 1\\n     138       67       66 1\\n     139       68       67 1\\n     140       70       67 1\\n     141       69       68 1\\n     142       71       70 1\\n     143       73       72 1\\n     144       74       73 1\\n     145      162       73 1\\n     146      163       73 1\\n     147       75       74 1\\n     148      164       74 1\\n     149      165       74 1\\n     150       76       75 1\\n     151      166       75 1\\n     152      167       75 1\\n     153       77       76 1\\n     154      168       76 1\\n     155      169       76 1\\n     156       78       77 1\\n     157      170       77 1\\n     158      171       77 1\\n     159       79       78 1\\n     160      172       78 1\\n     161      173       78 1\\n     162       80       79 1\\n     163      174       79 1\\n     164      175       79 1\\n     165       81       80 1\\n     166      176       80 1\\n     167      177       80 1\\n     168       82       81 1\\n     169      178       81 1\\n     170      179       81 1\\n     171       83       82 1\\n     172      180       82 1\\n     173      181       82 1\\n     174      182       83 1\\n     175      183       83 1\\n     176      184       83 1\\n     177       85       84 1\\n     178      185       84 1\\n     179       86       85 1\\n     180       96       85 1\\n     181       87       86 1\\n     182       88       86 1\\n     183       89       88 1\\n     184       95       88 1\\n     185       90       89 1\\n     186      186       89 1\\n     187       91       90 1\\n     188       92       90 1\\n     189       93       92 1\\n     190       94       92 1\\n     191       95       94 1\\n     192      187       94 1\\n     193       96       95 1\\n     194       97       96 1\\n     195       98       97 1\\n     196      100       97 1\\n     197       99       98 1\\n     198      101      100 1\\n@<TRIPOS>SUBSTRUCTURE\\n       1 Compound        1 RESIDUE    0 **** ROOT      0\\n\",\"mol2\");\n",
       "\tviewer_16987756379561238.setStyle({\"stick\": {\"radius\": 0.2, \"color\": \"grey\"}, \"sphere\": {\"scale\": 0.3, \"colorscheme\": {}}});\n",
       "\tviewer_16987756379561238.zoomTo();\n",
       "viewer_16987756379561238.render();\n",
       "});\n",
       "</script>"
      ]
     },
     "metadata": {},
     "output_type": "display_data"
    },
    {
     "data": {
      "text/plain": [
       "<py3Dmol.view at 0x16bc6a340>"
      ]
     },
     "execution_count": 26,
     "metadata": {},
     "output_type": "execute_result"
    }
   ],
   "source": [
    "test = mb.load(\"typed_mol2/y6.mol2\")\n",
    "test.visualize()"
   ]
  },
  {
   "cell_type": "code",
   "execution_count": null,
   "id": "25da25c8",
   "metadata": {},
   "outputs": [],
   "source": []
  }
 ],
 "metadata": {
  "kernelspec": {
   "display_name": "Python 3 (ipykernel)",
   "language": "python",
   "name": "python3"
  },
  "language_info": {
   "codemirror_mode": {
    "name": "ipython",
    "version": 3
   },
   "file_extension": ".py",
   "mimetype": "text/x-python",
   "name": "python",
   "nbconvert_exporter": "python",
   "pygments_lexer": "ipython3",
   "version": "3.11.6"
  }
 },
 "nbformat": 4,
 "nbformat_minor": 5
}
