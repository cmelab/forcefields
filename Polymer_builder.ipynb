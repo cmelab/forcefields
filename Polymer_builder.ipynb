{
 "cells": [
  {
   "cell_type": "code",
   "execution_count": 10,
   "id": "b1914ea0",
   "metadata": {},
   "outputs": [],
   "source": [
    "import mbuild as mb\n",
    "import warnings \n",
    "import numpy\n",
    "from frag_classes import IDT, CPDT, DPP, BT, PT, FBT, thiophene, pyridine, ene_CPDT\n",
    "from r_classes import c11_bo,HD,ODD,C1BO,C3BO,C4BO,C5BO, test_ene_HD, C16\n",
    "from mon_classes import PIDTCPDT_C11BO, P3HT, PCPDTPT_HD, PDPPPyT_ODD, PCPDTFBT_C1_BO, PCPDTFBT_C3_BO, PCPDTFBT_C4_BO, PCPDTFBT_C5_BO, PIDTFBT_C11_BO, PCPDTFBT_C11_BO, PCPDTPT_ene_HD\n",
    "from mbuild.lib.recipes.polymer import Polymer\n",
    "import ipywidgets as widgets\n",
    "warnings.filterwarnings('ignore')\n",
    "\n",
    "\n",
    "def build_chain(monomer, length, min_energy):\n",
    "    chain = Polymer()\n",
    "    chain.add_monomer(compound=monomer,\n",
    "                 indices=monomer.bond_indices,\n",
    "                 separation=monomer.separation,\n",
    "                 replace=monomer.replace,\n",
    "                 orientation=monomer.orientations)\n",
    "    chain.build(n=length)\n",
    "    if min_energy == True:\n",
    "        chain.energy_minimize()\n",
    "    return chain"
   ]
  },
  {
   "cell_type": "code",
   "execution_count": 12,
   "id": "3c415f00",
   "metadata": {},
   "outputs": [
    {
     "data": {
      "application/3dmoljs_load.v0": "<div id=\"3dmolviewer_1686585828845865\"  style=\"position: relative; width: 640px; height: 480px\">\n        <p id=\"3dmolwarning_1686585828845865\" style=\"background-color:#ffcccc;color:black\">You appear to be running in JupyterLab (or JavaScript failed to load for some other reason).  You need to install the 3dmol extension: <br>\n        <tt>jupyter labextension install jupyterlab_3dmol</tt></p>\n        </div>\n<script>\n\nvar loadScriptAsync = function(uri){\n  return new Promise((resolve, reject) => {\n    //this is to ignore the existence of requirejs amd\n    var savedexports, savedmodule;\n    if (typeof exports !== 'undefined') savedexports = exports;\n    else exports = {}\n    if (typeof module !== 'undefined') savedmodule = module;\n    else module = {}\n\n    var tag = document.createElement('script');\n    tag.src = uri;\n    tag.async = true;\n    tag.onload = () => {\n        exports = savedexports;\n        module = savedmodule;\n        resolve();\n    };\n  var firstScriptTag = document.getElementsByTagName('script')[0];\n  firstScriptTag.parentNode.insertBefore(tag, firstScriptTag);\n});\n};\n\nif(typeof $3Dmolpromise === 'undefined') {\n$3Dmolpromise = null;\n  $3Dmolpromise = loadScriptAsync('https://cdnjs.cloudflare.com/ajax/libs/3Dmol/2.0.1/3Dmol-min.js');\n}\n\nvar viewer_1686585828845865 = null;\nvar warn = document.getElementById(\"3dmolwarning_1686585828845865\");\nif(warn) {\n    warn.parentNode.removeChild(warn);\n}\n$3Dmolpromise.then(function() {\nviewer_1686585828845865 = $3Dmol.createViewer(document.getElementById(\"3dmolviewer_1686585828845865\"),{backgroundColor:\"white\"});\nviewer_1686585828845865.zoomTo();\n\tviewer_1686585828845865.addModel(\"@<TRIPOS>MOLECULE\\nPolymer\\n79 80 2 0 1\\nBIOPOLYMER\\nNO_CHARGES\\n@<TRIPOS>CRYSIN\\n   44.1905    39.4627    43.1428    90.0000    90.0000    90.0000  1  1\\n@<TRIPOS>ATOM\\n       1 C           34.1672    30.6750    30.2503 C             1 Polymer \\n       2 C           32.7773    30.5394    29.6362 C             1 Polymer \\n       3 C           31.8542    29.7029    30.5303 C             1 Polymer \\n       4 C           30.4644    29.5671    29.8983 C             1 Polymer \\n       5 C           29.5341    28.7144    30.7749 C             1 Polymer \\n       6 C           28.1511    28.5311    30.1307 C             1 Polymer \\n       7 C           27.4190    29.8358    29.9692 C             1 Polymer \\n       8 C           27.0432    30.6399    31.0409 C             1 Polymer \\n       9 S           26.2572    31.9942    30.4319 S             1 Polymer \\n      10 C           26.3845    31.5761    28.8095 C             1 Polymer \\n      11 C           27.0476    30.3600    28.7212 C             1 Polymer \\n      12 H           34.8116    31.2820    29.5800 H             1 Polymer \\n      13 H           34.6311    29.6739    30.3790 H             1 Polymer \\n      14 H           34.1051    31.1794    31.2380 H             1 Polymer \\n      15 H           32.8727    30.0534    28.6406 H             1 Polymer \\n      16 H           32.3449    31.5544    29.4975 H             1 Polymer \\n      17 H           32.2953    28.6911    30.6674 H             1 Polymer \\n      18 H           31.7602    30.1913    31.5255 H             1 Polymer \\n      19 H           30.0278    30.5808    29.7635 H             1 Polymer \\n      20 H           30.5637    29.0854    28.9004 H             1 Polymer \\n      21 H           29.9887    27.7084    30.9080 H             1 Polymer \\n      22 H           29.4243    29.1794    31.7785 H             1 Polymer \\n      23 H           27.5354    27.8576    30.7650 H             1 Polymer \\n      24 H           28.2822    28.0402    29.1412 H             1 Polymer \\n      25 H           27.2584    29.8721    27.7788 H             1 Polymer \\n      26 H           27.2224    30.4308    32.0869 H             1 Polymer \\n      27 H           26.0145    32.1545    27.9738 H             1 Polymer \\n      28 C            4.1800     0.4828     0.5522 C             2 Polymer \\n      29 C            2.7740     0.2346     0.0173 C             2 Polymer \\n      30 C            1.8732    -0.4112     1.0797 C             2 Polymer \\n      31 C            0.4751    -0.6650     0.5095 C             2 Polymer \\n      32 C           -0.4852    -1.2559     1.5628 C             2 Polymer \\n      33 C           -1.8704    -1.5518     0.9578 C             2 Polymer \\n      34 C           -2.4811    -0.3043     0.3826 C             2 Polymer \\n      35 C           -2.8752     0.7903     1.1421 C             2 Polymer \\n      36 S           -3.4141     1.9823     0.0890 S             2 Polymer \\n      37 C           -3.1252     1.1378    -1.3426 C             2 Polymer \\n      38 C           -2.6462    -0.1232    -0.9957 C             2 Polymer \\n      39 H            4.7978     0.9589    -0.2393 H             2 Polymer \\n      40 H            4.6548    -0.4772     0.8453 H             2 Polymer \\n      41 H            4.1449     1.1601     1.4316 H             2 Polymer \\n      42 H            2.8419    -0.4271    -0.8739 H             2 Polymer \\n      43 H            2.3379     1.2081    -0.2933 H             2 Polymer \\n      44 H            2.3145    -1.3767     1.4106 H             2 Polymer \\n      45 H            1.7983     0.2705     1.9553 H             2 Polymer \\n      46 H            0.0673     0.3023     0.1418 H             2 Polymer \\n      47 H            0.5558    -1.3646    -0.3520 H             2 Polymer \\n      48 H           -0.0634    -2.2075     1.9533 H             2 Polymer \\n      49 H           -0.5893    -0.5453     2.4115 H             2 Polymer \\n      50 H           -2.5507    -1.9875     1.7203 H             2 Polymer \\n      51 H           -1.7322    -2.3082     0.1537 H             2 Polymer \\n      52 H           -2.3775    -0.8963    -1.6925 H             2 Polymer \\n      53 C            3.9021     2.1078    -3.5375 C             2 Polymer \\n      54 C            2.5492     2.1221    -4.2475 C             2 Polymer \\n      55 C            1.6022     1.0922    -3.6277 C             2 Polymer \\n      56 C            0.2203     1.1074    -4.2966 C             2 Polymer \\n      57 C           -0.6710     0.0347    -3.6594 C             2 Polymer \\n      58 C           -2.0975    -0.0092    -4.2447 C             2 Polymer \\n      59 C           -2.9002     1.2403    -3.9621 C             2 Polymer \\n      60 C           -3.3218     1.7127    -2.6979 C             2 Polymer \\n      61 S           -4.1314     3.1701    -2.9449 S             2 Polymer \\n      62 C           -3.9953     3.2096    -4.6127 C             2 Polymer \\n      63 C           -3.2955     2.0847    -5.0164 C             2 Polymer \\n      64 H            4.5781     2.8529    -4.0056 H             2 Polymer \\n      65 H            4.3702     1.1024    -3.6163 H             2 Polymer \\n      66 H            3.7765     2.3644    -2.4643 H             2 Polymer \\n      67 H            2.7009     1.8866    -5.3235 H             2 Polymer \\n      68 H            2.1093     3.1390    -4.1603 H             2 Polymer \\n      69 H            2.0529     0.0798    -3.7284 H             2 Polymer \\n      70 H            1.4760     1.3200    -2.5470 H             2 Polymer \\n      71 H           -0.2377     2.1114    -4.1602 H             2 Polymer \\n      72 H            0.3224     0.9015    -5.3846 H             2 Polymer \\n      73 H           -0.1997    -0.9581    -3.8290 H             2 Polymer \\n      74 H           -0.6917     0.2182    -2.5713 H             2 Polymer \\n      75 H           -2.6577    -0.8827    -3.8558 H             2 Polymer \\n      76 H           -2.0013    -0.1655    -5.3416 H             2 Polymer \\n      77 H           -3.0666     1.8888    -6.0559 H             2 Polymer \\n      78 H           -2.8263     0.8689     2.2200 H             2 Polymer \\n      79 H           -4.3789     3.9832    -5.2640 H             2 Polymer \\n@<TRIPOS>BOND\\n       1        2        1 1\\n       2       12        1 1\\n       3       13        1 1\\n       4       14        1 1\\n       5        3        2 1\\n       6       15        2 1\\n       7       16        2 1\\n       8        4        3 1\\n       9       17        3 1\\n      10       18        3 1\\n      11        5        4 1\\n      12       19        4 1\\n      13       20        4 1\\n      14        6        5 1\\n      15       21        5 1\\n      16       22        5 1\\n      17        7        6 1\\n      18       23        6 1\\n      19       24        6 1\\n      20        8        7 1\\n      21       11        7 1\\n      22        9        8 1\\n      23       26        8 1\\n      24       10        9 1\\n      25       11       10 1\\n      26       27       10 1\\n      27       25       11 1\\n      28       29       28 1\\n      29       39       28 1\\n      30       40       28 1\\n      31       41       28 1\\n      32       30       29 1\\n      33       42       29 1\\n      34       43       29 1\\n      35       31       30 1\\n      36       44       30 1\\n      37       45       30 1\\n      38       32       31 1\\n      39       46       31 1\\n      40       47       31 1\\n      41       33       32 1\\n      42       48       32 1\\n      43       49       32 1\\n      44       34       33 1\\n      45       50       33 1\\n      46       51       33 1\\n      47       35       34 1\\n      48       38       34 1\\n      49       36       35 1\\n      50       78       35 1\\n      51       37       36 1\\n      52       38       37 1\\n      53       60       37 1\\n      54       52       38 1\\n      55       54       53 1\\n      56       64       53 1\\n      57       65       53 1\\n      58       66       53 1\\n      59       55       54 1\\n      60       67       54 1\\n      61       68       54 1\\n      62       56       55 1\\n      63       69       55 1\\n      64       70       55 1\\n      65       57       56 1\\n      66       71       56 1\\n      67       72       56 1\\n      68       58       57 1\\n      69       73       57 1\\n      70       74       57 1\\n      71       59       58 1\\n      72       75       58 1\\n      73       76       58 1\\n      74       60       59 1\\n      75       63       59 1\\n      76       61       60 1\\n      77       62       61 1\\n      78       63       62 1\\n      79       79       62 1\\n      80       77       63 1\\n@<TRIPOS>SUBSTRUCTURE\\n       1 Polymer         1 RESIDUE    0 **** ROOT      0\\n       2 Polymer        28 RESIDUE    0 **** ROOT      0\\n\",\"mol2\");\n\tviewer_1686585828845865.setStyle({\"stick\": {\"radius\": 0.2, \"color\": \"grey\"}, \"sphere\": {\"scale\": 0.3, \"colorscheme\": {}}});\n\tviewer_1686585828845865.zoomTo();\nviewer_1686585828845865.render();\n});\n</script>",
      "text/html": [
       "<div id=\"3dmolviewer_1686585828845865\"  style=\"position: relative; width: 640px; height: 480px\">\n",
       "        <p id=\"3dmolwarning_1686585828845865\" style=\"background-color:#ffcccc;color:black\">You appear to be running in JupyterLab (or JavaScript failed to load for some other reason).  You need to install the 3dmol extension: <br>\n",
       "        <tt>jupyter labextension install jupyterlab_3dmol</tt></p>\n",
       "        </div>\n",
       "<script>\n",
       "\n",
       "var loadScriptAsync = function(uri){\n",
       "  return new Promise((resolve, reject) => {\n",
       "    //this is to ignore the existence of requirejs amd\n",
       "    var savedexports, savedmodule;\n",
       "    if (typeof exports !== 'undefined') savedexports = exports;\n",
       "    else exports = {}\n",
       "    if (typeof module !== 'undefined') savedmodule = module;\n",
       "    else module = {}\n",
       "\n",
       "    var tag = document.createElement('script');\n",
       "    tag.src = uri;\n",
       "    tag.async = true;\n",
       "    tag.onload = () => {\n",
       "        exports = savedexports;\n",
       "        module = savedmodule;\n",
       "        resolve();\n",
       "    };\n",
       "  var firstScriptTag = document.getElementsByTagName('script')[0];\n",
       "  firstScriptTag.parentNode.insertBefore(tag, firstScriptTag);\n",
       "});\n",
       "};\n",
       "\n",
       "if(typeof $3Dmolpromise === 'undefined') {\n",
       "$3Dmolpromise = null;\n",
       "  $3Dmolpromise = loadScriptAsync('https://cdnjs.cloudflare.com/ajax/libs/3Dmol/2.0.1/3Dmol-min.js');\n",
       "}\n",
       "\n",
       "var viewer_1686585828845865 = null;\n",
       "var warn = document.getElementById(\"3dmolwarning_1686585828845865\");\n",
       "if(warn) {\n",
       "    warn.parentNode.removeChild(warn);\n",
       "}\n",
       "$3Dmolpromise.then(function() {\n",
       "viewer_1686585828845865 = $3Dmol.createViewer(document.getElementById(\"3dmolviewer_1686585828845865\"),{backgroundColor:\"white\"});\n",
       "viewer_1686585828845865.zoomTo();\n",
       "\tviewer_1686585828845865.addModel(\"@<TRIPOS>MOLECULE\\nPolymer\\n79 80 2 0 1\\nBIOPOLYMER\\nNO_CHARGES\\n@<TRIPOS>CRYSIN\\n   44.1905    39.4627    43.1428    90.0000    90.0000    90.0000  1  1\\n@<TRIPOS>ATOM\\n       1 C           34.1672    30.6750    30.2503 C             1 Polymer \\n       2 C           32.7773    30.5394    29.6362 C             1 Polymer \\n       3 C           31.8542    29.7029    30.5303 C             1 Polymer \\n       4 C           30.4644    29.5671    29.8983 C             1 Polymer \\n       5 C           29.5341    28.7144    30.7749 C             1 Polymer \\n       6 C           28.1511    28.5311    30.1307 C             1 Polymer \\n       7 C           27.4190    29.8358    29.9692 C             1 Polymer \\n       8 C           27.0432    30.6399    31.0409 C             1 Polymer \\n       9 S           26.2572    31.9942    30.4319 S             1 Polymer \\n      10 C           26.3845    31.5761    28.8095 C             1 Polymer \\n      11 C           27.0476    30.3600    28.7212 C             1 Polymer \\n      12 H           34.8116    31.2820    29.5800 H             1 Polymer \\n      13 H           34.6311    29.6739    30.3790 H             1 Polymer \\n      14 H           34.1051    31.1794    31.2380 H             1 Polymer \\n      15 H           32.8727    30.0534    28.6406 H             1 Polymer \\n      16 H           32.3449    31.5544    29.4975 H             1 Polymer \\n      17 H           32.2953    28.6911    30.6674 H             1 Polymer \\n      18 H           31.7602    30.1913    31.5255 H             1 Polymer \\n      19 H           30.0278    30.5808    29.7635 H             1 Polymer \\n      20 H           30.5637    29.0854    28.9004 H             1 Polymer \\n      21 H           29.9887    27.7084    30.9080 H             1 Polymer \\n      22 H           29.4243    29.1794    31.7785 H             1 Polymer \\n      23 H           27.5354    27.8576    30.7650 H             1 Polymer \\n      24 H           28.2822    28.0402    29.1412 H             1 Polymer \\n      25 H           27.2584    29.8721    27.7788 H             1 Polymer \\n      26 H           27.2224    30.4308    32.0869 H             1 Polymer \\n      27 H           26.0145    32.1545    27.9738 H             1 Polymer \\n      28 C            4.1800     0.4828     0.5522 C             2 Polymer \\n      29 C            2.7740     0.2346     0.0173 C             2 Polymer \\n      30 C            1.8732    -0.4112     1.0797 C             2 Polymer \\n      31 C            0.4751    -0.6650     0.5095 C             2 Polymer \\n      32 C           -0.4852    -1.2559     1.5628 C             2 Polymer \\n      33 C           -1.8704    -1.5518     0.9578 C             2 Polymer \\n      34 C           -2.4811    -0.3043     0.3826 C             2 Polymer \\n      35 C           -2.8752     0.7903     1.1421 C             2 Polymer \\n      36 S           -3.4141     1.9823     0.0890 S             2 Polymer \\n      37 C           -3.1252     1.1378    -1.3426 C             2 Polymer \\n      38 C           -2.6462    -0.1232    -0.9957 C             2 Polymer \\n      39 H            4.7978     0.9589    -0.2393 H             2 Polymer \\n      40 H            4.6548    -0.4772     0.8453 H             2 Polymer \\n      41 H            4.1449     1.1601     1.4316 H             2 Polymer \\n      42 H            2.8419    -0.4271    -0.8739 H             2 Polymer \\n      43 H            2.3379     1.2081    -0.2933 H             2 Polymer \\n      44 H            2.3145    -1.3767     1.4106 H             2 Polymer \\n      45 H            1.7983     0.2705     1.9553 H             2 Polymer \\n      46 H            0.0673     0.3023     0.1418 H             2 Polymer \\n      47 H            0.5558    -1.3646    -0.3520 H             2 Polymer \\n      48 H           -0.0634    -2.2075     1.9533 H             2 Polymer \\n      49 H           -0.5893    -0.5453     2.4115 H             2 Polymer \\n      50 H           -2.5507    -1.9875     1.7203 H             2 Polymer \\n      51 H           -1.7322    -2.3082     0.1537 H             2 Polymer \\n      52 H           -2.3775    -0.8963    -1.6925 H             2 Polymer \\n      53 C            3.9021     2.1078    -3.5375 C             2 Polymer \\n      54 C            2.5492     2.1221    -4.2475 C             2 Polymer \\n      55 C            1.6022     1.0922    -3.6277 C             2 Polymer \\n      56 C            0.2203     1.1074    -4.2966 C             2 Polymer \\n      57 C           -0.6710     0.0347    -3.6594 C             2 Polymer \\n      58 C           -2.0975    -0.0092    -4.2447 C             2 Polymer \\n      59 C           -2.9002     1.2403    -3.9621 C             2 Polymer \\n      60 C           -3.3218     1.7127    -2.6979 C             2 Polymer \\n      61 S           -4.1314     3.1701    -2.9449 S             2 Polymer \\n      62 C           -3.9953     3.2096    -4.6127 C             2 Polymer \\n      63 C           -3.2955     2.0847    -5.0164 C             2 Polymer \\n      64 H            4.5781     2.8529    -4.0056 H             2 Polymer \\n      65 H            4.3702     1.1024    -3.6163 H             2 Polymer \\n      66 H            3.7765     2.3644    -2.4643 H             2 Polymer \\n      67 H            2.7009     1.8866    -5.3235 H             2 Polymer \\n      68 H            2.1093     3.1390    -4.1603 H             2 Polymer \\n      69 H            2.0529     0.0798    -3.7284 H             2 Polymer \\n      70 H            1.4760     1.3200    -2.5470 H             2 Polymer \\n      71 H           -0.2377     2.1114    -4.1602 H             2 Polymer \\n      72 H            0.3224     0.9015    -5.3846 H             2 Polymer \\n      73 H           -0.1997    -0.9581    -3.8290 H             2 Polymer \\n      74 H           -0.6917     0.2182    -2.5713 H             2 Polymer \\n      75 H           -2.6577    -0.8827    -3.8558 H             2 Polymer \\n      76 H           -2.0013    -0.1655    -5.3416 H             2 Polymer \\n      77 H           -3.0666     1.8888    -6.0559 H             2 Polymer \\n      78 H           -2.8263     0.8689     2.2200 H             2 Polymer \\n      79 H           -4.3789     3.9832    -5.2640 H             2 Polymer \\n@<TRIPOS>BOND\\n       1        2        1 1\\n       2       12        1 1\\n       3       13        1 1\\n       4       14        1 1\\n       5        3        2 1\\n       6       15        2 1\\n       7       16        2 1\\n       8        4        3 1\\n       9       17        3 1\\n      10       18        3 1\\n      11        5        4 1\\n      12       19        4 1\\n      13       20        4 1\\n      14        6        5 1\\n      15       21        5 1\\n      16       22        5 1\\n      17        7        6 1\\n      18       23        6 1\\n      19       24        6 1\\n      20        8        7 1\\n      21       11        7 1\\n      22        9        8 1\\n      23       26        8 1\\n      24       10        9 1\\n      25       11       10 1\\n      26       27       10 1\\n      27       25       11 1\\n      28       29       28 1\\n      29       39       28 1\\n      30       40       28 1\\n      31       41       28 1\\n      32       30       29 1\\n      33       42       29 1\\n      34       43       29 1\\n      35       31       30 1\\n      36       44       30 1\\n      37       45       30 1\\n      38       32       31 1\\n      39       46       31 1\\n      40       47       31 1\\n      41       33       32 1\\n      42       48       32 1\\n      43       49       32 1\\n      44       34       33 1\\n      45       50       33 1\\n      46       51       33 1\\n      47       35       34 1\\n      48       38       34 1\\n      49       36       35 1\\n      50       78       35 1\\n      51       37       36 1\\n      52       38       37 1\\n      53       60       37 1\\n      54       52       38 1\\n      55       54       53 1\\n      56       64       53 1\\n      57       65       53 1\\n      58       66       53 1\\n      59       55       54 1\\n      60       67       54 1\\n      61       68       54 1\\n      62       56       55 1\\n      63       69       55 1\\n      64       70       55 1\\n      65       57       56 1\\n      66       71       56 1\\n      67       72       56 1\\n      68       58       57 1\\n      69       73       57 1\\n      70       74       57 1\\n      71       59       58 1\\n      72       75       58 1\\n      73       76       58 1\\n      74       60       59 1\\n      75       63       59 1\\n      76       61       60 1\\n      77       62       61 1\\n      78       63       62 1\\n      79       79       62 1\\n      80       77       63 1\\n@<TRIPOS>SUBSTRUCTURE\\n       1 Polymer         1 RESIDUE    0 **** ROOT      0\\n       2 Polymer        28 RESIDUE    0 **** ROOT      0\\n\",\"mol2\");\n",
       "\tviewer_1686585828845865.setStyle({\"stick\": {\"radius\": 0.2, \"color\": \"grey\"}, \"sphere\": {\"scale\": 0.3, \"colorscheme\": {}}});\n",
       "\tviewer_1686585828845865.zoomTo();\n",
       "viewer_1686585828845865.render();\n",
       "});\n",
       "</script>"
      ]
     },
     "metadata": {},
     "output_type": "display_data"
    },
    {
     "data": {
      "text/plain": [
       "<py3Dmol.view at 0x1491b0d30>"
      ]
     },
     "execution_count": 12,
     "metadata": {},
     "output_type": "execute_result"
    }
   ],
   "source": [
    "fragment = P3HT()\n",
    "\n",
    "monomer = build_chain(fragment,1,min_energy=True)\n",
    "\n",
    "dimer = build_chain(fragment,2,min_energy=True)\n",
    "\n",
    "mon_dim = mb.Compound()\n",
    "mon_dim.add([monomer,dimer])\n",
    "monomer.translate([3,3,3])\n",
    "mon_dim.visualize()"
   ]
  },
  {
   "cell_type": "code",
   "execution_count": 13,
   "id": "7312699d",
   "metadata": {},
   "outputs": [],
   "source": [
    "mon_dim.save('mol2files/p3ht_md.mol2')"
   ]
  },
  {
   "cell_type": "code",
   "execution_count": 7,
   "id": "8f4bb467",
   "metadata": {},
   "outputs": [],
   "source": [
    "monomer.save('mol2files/P3HT_mon.mol2')\n",
    "dimer.save('mol2files/P3HT_dimer.mol2')"
   ]
  },
  {
   "cell_type": "code",
   "execution_count": null,
   "id": "38950e78",
   "metadata": {},
   "outputs": [],
   "source": [
    "mondimfilepath = '/Users/madilyn/Projects/repos/forcefields/mol2files/PIDTFBT_C11BO_MD.mol2'\n",
    "\n",
    "mon_dim.save(mondimfilepath,overwrite=True)"
   ]
  },
  {
   "cell_type": "code",
   "execution_count": null,
   "id": "45a95b0d",
   "metadata": {},
   "outputs": [],
   "source": []
  }
 ],
 "metadata": {
  "kernelspec": {
   "display_name": "Python 3 (ipykernel)",
   "language": "python",
   "name": "python3"
  },
  "language_info": {
   "codemirror_mode": {
    "name": "ipython",
    "version": 3
   },
   "file_extension": ".py",
   "mimetype": "text/x-python",
   "name": "python",
   "nbconvert_exporter": "python",
   "pygments_lexer": "ipython3",
   "version": "3.9.16"
  }
 },
 "nbformat": 4,
 "nbformat_minor": 5
}
