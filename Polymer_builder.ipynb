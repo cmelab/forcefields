{
 "cells": [
  {
   "cell_type": "code",
   "execution_count": 1,
   "id": "b1914ea0",
   "metadata": {},
   "outputs": [
    {
     "name": "stderr",
     "output_type": "stream",
     "text": [
      "Warning: importing 'simtk.openmm' is deprecated.  Import 'openmm' instead.\n"
     ]
    }
   ],
   "source": [
    "import mbuild as mb\n",
    "import warnings \n",
    "import numpy\n",
    "from frag_classes import IDT, CPDT, DPP, BT, PT, FBT, thiophene, pyridine, ene_CPDT\n",
    "from r_classes import c11_bo,HD,ODD,C1BO,C3BO,C4BO,C5BO, test_ene_HD, C16\n",
    "from mon_classes import PIDTCPDT_C11BO, P3HT, PCPDTPT_HD, PDPPPyT_ODD, PCPDTFBT_C1_BO, PCPDTFBT_C3_BO, PCPDTFBT_C4_BO, PCPDTFBT_C5_BO, PIDTFBT_C11_BO, PCPDTFBT_C11_BO, PCPDTPT_ene_HD\n",
    "from mbuild.lib.recipes.polymer import Polymer\n",
    "import ipywidgets as widgets\n",
    "warnings.filterwarnings('ignore')\n",
    "\n",
    "\n",
    "def build_chain(monomer, length, min_energy):\n",
    "    chain = Polymer()\n",
    "    chain.add_monomer(compound=monomer,\n",
    "                 indices=monomer.bond_indices,\n",
    "                 separation=monomer.separation,\n",
    "                 replace=monomer.replace,\n",
    "                 orientation=monomer.orientations)\n",
    "    chain.build(n=length)\n",
    "    if min_energy == True:\n",
    "        chain.energy_minimize()\n",
    "    return chain"
   ]
  },
  {
   "cell_type": "code",
   "execution_count": 2,
   "id": "3c415f00",
   "metadata": {},
   "outputs": [],
   "source": [
    "fragment = P3HT()\n",
    "\n",
    "monomer = build_chain(fragment,1,min_energy=True)\n",
    "\n",
    "dimer = build_chain(fragment,2,min_energy=True)"
   ]
  },
  {
   "cell_type": "code",
   "execution_count": 3,
   "id": "cae5e5fe",
   "metadata": {},
   "outputs": [
    {
     "data": {
      "application/3dmoljs_load.v0": "<div id=\"3dmolviewer_1686942634151606\"  style=\"position: relative; width: 640px; height: 480px\">\n        <p id=\"3dmolwarning_1686942634151606\" style=\"background-color:#ffcccc;color:black\">You appear to be running in JupyterLab (or JavaScript failed to load for some other reason).  You need to install the 3dmol extension: <br>\n        <tt>jupyter labextension install jupyterlab_3dmol</tt></p>\n        </div>\n<script>\n\nvar loadScriptAsync = function(uri){\n  return new Promise((resolve, reject) => {\n    //this is to ignore the existence of requirejs amd\n    var savedexports, savedmodule;\n    if (typeof exports !== 'undefined') savedexports = exports;\n    else exports = {}\n    if (typeof module !== 'undefined') savedmodule = module;\n    else module = {}\n\n    var tag = document.createElement('script');\n    tag.src = uri;\n    tag.async = true;\n    tag.onload = () => {\n        exports = savedexports;\n        module = savedmodule;\n        resolve();\n    };\n  var firstScriptTag = document.getElementsByTagName('script')[0];\n  firstScriptTag.parentNode.insertBefore(tag, firstScriptTag);\n});\n};\n\nif(typeof $3Dmolpromise === 'undefined') {\n$3Dmolpromise = null;\n  $3Dmolpromise = loadScriptAsync('https://cdnjs.cloudflare.com/ajax/libs/3Dmol/2.0.1/3Dmol-min.js');\n}\n\nvar viewer_1686942634151606 = null;\nvar warn = document.getElementById(\"3dmolwarning_1686942634151606\");\nif(warn) {\n    warn.parentNode.removeChild(warn);\n}\n$3Dmolpromise.then(function() {\nviewer_1686942634151606 = $3Dmol.createViewer(document.getElementById(\"3dmolviewer_1686942634151606\"),{backgroundColor:\"white\"});\nviewer_1686942634151606.zoomTo();\n\tviewer_1686942634151606.addModel(\"@<TRIPOS>MOLECULE\\nPolymer\\n79 80 2 0 1\\nBIOPOLYMER\\nNO_CHARGES\\n@<TRIPOS>CRYSIN\\n   74.1869    69.4553    73.1605    90.0000    90.0000    90.0000  1  1\\n@<TRIPOS>ATOM\\n       1 C           34.1692    30.6642    30.2506 C             1 Polymer \\n       2 C           32.7793    30.5351    29.6350 C             1 Polymer \\n       3 C           31.8550    29.6939    30.5232 C             1 Polymer \\n       4 C           30.4638    29.5651    29.8921 C             1 Polymer \\n       5 C           29.5332    28.7120    30.7676 C             1 Polymer \\n       6 C           28.1460    28.5358    30.1298 C             1 Polymer \\n       7 C           27.4191    29.8441    29.9732 C             1 Polymer \\n       8 C           27.0584    30.6528    31.0467 C             1 Polymer \\n       9 S           26.2725    32.0096    30.4429 S             1 Polymer \\n      10 C           26.3798    31.5862    28.8200 C             1 Polymer \\n      11 C           27.0361    30.3672    28.7281 C             1 Polymer \\n      12 H           34.8150    31.2757    29.5856 H             1 Polymer \\n      13 H           34.6318    29.6615    30.3719 H             1 Polymer \\n      14 H           34.1074    31.1611    31.2423 H             1 Polymer \\n      15 H           32.8741    30.0565    28.6358 H             1 Polymer \\n      16 H           32.3486    31.5520    29.5039 H             1 Polymer \\n      17 H           32.2942    28.6801    30.6530 H             1 Polymer \\n      18 H           31.7628    30.1757    31.5216 H             1 Polymer \\n      19 H           30.0302    30.5807    29.7628 H             1 Polymer \\n      20 H           30.5610    29.0881    28.8921 H             1 Polymer \\n      21 H           29.9846    27.7038    30.8954 H             1 Polymer \\n      22 H           29.4289    29.1741    31.7737 H             1 Polymer \\n      23 H           27.5317    27.8653    30.7675 H             1 Polymer \\n      24 H           28.2694    28.0450    29.1393 H             1 Polymer \\n      25 H           27.2341    29.8751    27.7849 H             1 Polymer \\n      26 H           27.2488    30.4462    32.0916 H             1 Polymer \\n      27 H           26.0030    32.1636    27.9871 H             1 Polymer \\n      28 C          -25.8340   -29.4879   -29.5162 C             2 Polymer \\n      29 C          -27.2570   -29.6924   -30.0232 C             2 Polymer \\n      30 C          -28.1357   -30.3860   -28.9731 C             2 Polymer \\n      31 C          -29.5489   -30.6133   -29.5194 C             2 Polymer \\n      32 C          -30.4867   -31.2367   -28.4647 C             2 Polymer \\n      33 C          -31.8786   -31.5387   -29.0505 C             2 Polymer \\n      34 C          -32.5052   -30.2983   -29.6204 C             2 Polymer \\n      35 C          -32.9098   -29.2034   -28.8645 C             2 Polymer \\n      36 S          -33.4572   -28.0190   -29.9251 S             2 Polymer \\n      37 C          -33.1559   -28.8676   -31.3530 C             2 Polymer \\n      38 C          -32.6703   -30.1218   -30.9968 C             2 Polymer \\n      39 H          -25.2332   -28.9734   -30.2951 H             2 Polymer \\n      40 H          -25.3612   -30.4685   -29.2926 H             2 Polymer \\n      41 H          -25.8366   -28.8634   -28.5975 H             2 Polymer \\n      42 H          -27.2189   -30.3067   -30.9493 H             2 Polymer \\n      43 H          -27.6917   -28.6998   -30.2672 H             2 Polymer \\n      44 H          -27.6911   -31.3680   -28.6981 H             2 Polymer \\n      45 H          -28.1865   -29.7471   -28.0647 H             2 Polymer \\n      46 H          -29.9622   -29.6335   -29.8451 H             2 Polymer \\n      47 H          -29.4873   -31.2825   -30.4080 H             2 Polymer \\n      48 H          -30.0501   -32.1910   -28.1000 H             2 Polymer \\n      49 H          -30.5828   -30.5421   -27.6009 H             2 Polymer \\n      50 H          -32.5458   -31.9848   -28.2830 H             2 Polymer \\n      51 H          -31.7415   -32.2917   -29.8587 H             2 Polymer \\n      52 H          -32.3912   -30.8962   -31.6881 H             2 Polymer \\n      53 C          -26.0791   -27.9204   -33.4595 C             2 Polymer \\n      54 C          -27.4064   -27.9411   -34.2155 C             2 Polymer \\n      55 C          -28.3901   -28.9092   -33.5532 C             2 Polymer \\n      56 C          -29.7491   -28.9264   -34.2672 C             2 Polymer \\n      57 C          -30.6623   -29.9637   -33.6045 C             2 Polymer \\n      58 C          -32.0753   -30.0257   -34.2221 C             2 Polymer \\n      59 C          -32.8925   -28.7806   -33.9672 C             2 Polymer \\n      60 C          -33.3403   -28.3022   -32.7144 C             2 Polymer \\n      61 S          -34.1575   -26.8540   -32.9855 S             2 Polymer \\n      62 C          -33.9932   -26.8269   -34.6516 C             2 Polymer \\n      63 C          -33.2767   -27.9487   -35.0352 C             2 Polymer \\n      64 H          -25.3736   -27.2257   -33.9617 H             2 Polymer \\n      65 H          -25.6268   -28.9351   -33.4405 H             2 Polymer \\n      66 H          -26.2358   -27.5744   -32.4154 H             2 Polymer \\n      67 H          -27.2222   -28.2612   -35.2636 H             2 Polymer \\n      68 H          -27.8329   -26.9147   -34.2218 H             2 Polymer \\n      69 H          -27.9493   -29.9312   -33.5673 H             2 Polymer \\n      70 H          -28.5501   -28.6024   -32.4980 H             2 Polymer \\n      71 H          -30.2066   -27.9147   -34.2007 H             2 Polymer \\n      72 H          -29.6142   -29.1928   -35.3385 H             2 Polymer \\n      73 H          -30.1912   -30.9636   -33.7215 H             2 Polymer \\n      74 H          -30.7069   -29.7338   -32.5253 H             2 Polymer \\n      75 H          -32.6394   -30.8969   -33.8355 H             2 Polymer \\n      76 H          -31.9553   -30.1982   -35.3150 H             2 Polymer \\n      77 H          -33.0280   -28.1513   -36.0690 H             2 Polymer \\n      78 H          -32.8617   -29.1202   -27.7878 H             2 Polymer \\n      79 H          -34.3719   -26.0620   -35.3153 H             2 Polymer \\n@<TRIPOS>BOND\\n       1        2        1 1\\n       2       12        1 1\\n       3       13        1 1\\n       4       14        1 1\\n       5        3        2 1\\n       6       15        2 1\\n       7       16        2 1\\n       8        4        3 1\\n       9       17        3 1\\n      10       18        3 1\\n      11        5        4 1\\n      12       19        4 1\\n      13       20        4 1\\n      14        6        5 1\\n      15       21        5 1\\n      16       22        5 1\\n      17        7        6 1\\n      18       23        6 1\\n      19       24        6 1\\n      20        8        7 1\\n      21       11        7 1\\n      22        9        8 1\\n      23       26        8 1\\n      24       10        9 1\\n      25       11       10 1\\n      26       27       10 1\\n      27       25       11 1\\n      28       29       28 1\\n      29       39       28 1\\n      30       40       28 1\\n      31       41       28 1\\n      32       30       29 1\\n      33       42       29 1\\n      34       43       29 1\\n      35       31       30 1\\n      36       44       30 1\\n      37       45       30 1\\n      38       32       31 1\\n      39       46       31 1\\n      40       47       31 1\\n      41       33       32 1\\n      42       48       32 1\\n      43       49       32 1\\n      44       34       33 1\\n      45       50       33 1\\n      46       51       33 1\\n      47       35       34 1\\n      48       38       34 1\\n      49       36       35 1\\n      50       78       35 1\\n      51       37       36 1\\n      52       38       37 1\\n      53       60       37 1\\n      54       52       38 1\\n      55       54       53 1\\n      56       64       53 1\\n      57       65       53 1\\n      58       66       53 1\\n      59       55       54 1\\n      60       67       54 1\\n      61       68       54 1\\n      62       56       55 1\\n      63       69       55 1\\n      64       70       55 1\\n      65       57       56 1\\n      66       71       56 1\\n      67       72       56 1\\n      68       58       57 1\\n      69       73       57 1\\n      70       74       57 1\\n      71       59       58 1\\n      72       75       58 1\\n      73       76       58 1\\n      74       60       59 1\\n      75       63       59 1\\n      76       61       60 1\\n      77       62       61 1\\n      78       63       62 1\\n      79       79       62 1\\n      80       77       63 1\\n@<TRIPOS>SUBSTRUCTURE\\n       1 Polymer         1 RESIDUE    0 **** ROOT      0\\n       2 Polymer        28 RESIDUE    0 **** ROOT      0\\n\",\"mol2\");\n\tviewer_1686942634151606.setStyle({\"stick\": {\"radius\": 0.2, \"color\": \"grey\"}, \"sphere\": {\"scale\": 0.3, \"colorscheme\": {}}});\n\tviewer_1686942634151606.zoomTo();\nviewer_1686942634151606.render();\n});\n</script>",
      "text/html": [
       "<div id=\"3dmolviewer_1686942634151606\"  style=\"position: relative; width: 640px; height: 480px\">\n",
       "        <p id=\"3dmolwarning_1686942634151606\" style=\"background-color:#ffcccc;color:black\">You appear to be running in JupyterLab (or JavaScript failed to load for some other reason).  You need to install the 3dmol extension: <br>\n",
       "        <tt>jupyter labextension install jupyterlab_3dmol</tt></p>\n",
       "        </div>\n",
       "<script>\n",
       "\n",
       "var loadScriptAsync = function(uri){\n",
       "  return new Promise((resolve, reject) => {\n",
       "    //this is to ignore the existence of requirejs amd\n",
       "    var savedexports, savedmodule;\n",
       "    if (typeof exports !== 'undefined') savedexports = exports;\n",
       "    else exports = {}\n",
       "    if (typeof module !== 'undefined') savedmodule = module;\n",
       "    else module = {}\n",
       "\n",
       "    var tag = document.createElement('script');\n",
       "    tag.src = uri;\n",
       "    tag.async = true;\n",
       "    tag.onload = () => {\n",
       "        exports = savedexports;\n",
       "        module = savedmodule;\n",
       "        resolve();\n",
       "    };\n",
       "  var firstScriptTag = document.getElementsByTagName('script')[0];\n",
       "  firstScriptTag.parentNode.insertBefore(tag, firstScriptTag);\n",
       "});\n",
       "};\n",
       "\n",
       "if(typeof $3Dmolpromise === 'undefined') {\n",
       "$3Dmolpromise = null;\n",
       "  $3Dmolpromise = loadScriptAsync('https://cdnjs.cloudflare.com/ajax/libs/3Dmol/2.0.1/3Dmol-min.js');\n",
       "}\n",
       "\n",
       "var viewer_1686942634151606 = null;\n",
       "var warn = document.getElementById(\"3dmolwarning_1686942634151606\");\n",
       "if(warn) {\n",
       "    warn.parentNode.removeChild(warn);\n",
       "}\n",
       "$3Dmolpromise.then(function() {\n",
       "viewer_1686942634151606 = $3Dmol.createViewer(document.getElementById(\"3dmolviewer_1686942634151606\"),{backgroundColor:\"white\"});\n",
       "viewer_1686942634151606.zoomTo();\n",
       "\tviewer_1686942634151606.addModel(\"@<TRIPOS>MOLECULE\\nPolymer\\n79 80 2 0 1\\nBIOPOLYMER\\nNO_CHARGES\\n@<TRIPOS>CRYSIN\\n   74.1869    69.4553    73.1605    90.0000    90.0000    90.0000  1  1\\n@<TRIPOS>ATOM\\n       1 C           34.1692    30.6642    30.2506 C             1 Polymer \\n       2 C           32.7793    30.5351    29.6350 C             1 Polymer \\n       3 C           31.8550    29.6939    30.5232 C             1 Polymer \\n       4 C           30.4638    29.5651    29.8921 C             1 Polymer \\n       5 C           29.5332    28.7120    30.7676 C             1 Polymer \\n       6 C           28.1460    28.5358    30.1298 C             1 Polymer \\n       7 C           27.4191    29.8441    29.9732 C             1 Polymer \\n       8 C           27.0584    30.6528    31.0467 C             1 Polymer \\n       9 S           26.2725    32.0096    30.4429 S             1 Polymer \\n      10 C           26.3798    31.5862    28.8200 C             1 Polymer \\n      11 C           27.0361    30.3672    28.7281 C             1 Polymer \\n      12 H           34.8150    31.2757    29.5856 H             1 Polymer \\n      13 H           34.6318    29.6615    30.3719 H             1 Polymer \\n      14 H           34.1074    31.1611    31.2423 H             1 Polymer \\n      15 H           32.8741    30.0565    28.6358 H             1 Polymer \\n      16 H           32.3486    31.5520    29.5039 H             1 Polymer \\n      17 H           32.2942    28.6801    30.6530 H             1 Polymer \\n      18 H           31.7628    30.1757    31.5216 H             1 Polymer \\n      19 H           30.0302    30.5807    29.7628 H             1 Polymer \\n      20 H           30.5610    29.0881    28.8921 H             1 Polymer \\n      21 H           29.9846    27.7038    30.8954 H             1 Polymer \\n      22 H           29.4289    29.1741    31.7737 H             1 Polymer \\n      23 H           27.5317    27.8653    30.7675 H             1 Polymer \\n      24 H           28.2694    28.0450    29.1393 H             1 Polymer \\n      25 H           27.2341    29.8751    27.7849 H             1 Polymer \\n      26 H           27.2488    30.4462    32.0916 H             1 Polymer \\n      27 H           26.0030    32.1636    27.9871 H             1 Polymer \\n      28 C          -25.8340   -29.4879   -29.5162 C             2 Polymer \\n      29 C          -27.2570   -29.6924   -30.0232 C             2 Polymer \\n      30 C          -28.1357   -30.3860   -28.9731 C             2 Polymer \\n      31 C          -29.5489   -30.6133   -29.5194 C             2 Polymer \\n      32 C          -30.4867   -31.2367   -28.4647 C             2 Polymer \\n      33 C          -31.8786   -31.5387   -29.0505 C             2 Polymer \\n      34 C          -32.5052   -30.2983   -29.6204 C             2 Polymer \\n      35 C          -32.9098   -29.2034   -28.8645 C             2 Polymer \\n      36 S          -33.4572   -28.0190   -29.9251 S             2 Polymer \\n      37 C          -33.1559   -28.8676   -31.3530 C             2 Polymer \\n      38 C          -32.6703   -30.1218   -30.9968 C             2 Polymer \\n      39 H          -25.2332   -28.9734   -30.2951 H             2 Polymer \\n      40 H          -25.3612   -30.4685   -29.2926 H             2 Polymer \\n      41 H          -25.8366   -28.8634   -28.5975 H             2 Polymer \\n      42 H          -27.2189   -30.3067   -30.9493 H             2 Polymer \\n      43 H          -27.6917   -28.6998   -30.2672 H             2 Polymer \\n      44 H          -27.6911   -31.3680   -28.6981 H             2 Polymer \\n      45 H          -28.1865   -29.7471   -28.0647 H             2 Polymer \\n      46 H          -29.9622   -29.6335   -29.8451 H             2 Polymer \\n      47 H          -29.4873   -31.2825   -30.4080 H             2 Polymer \\n      48 H          -30.0501   -32.1910   -28.1000 H             2 Polymer \\n      49 H          -30.5828   -30.5421   -27.6009 H             2 Polymer \\n      50 H          -32.5458   -31.9848   -28.2830 H             2 Polymer \\n      51 H          -31.7415   -32.2917   -29.8587 H             2 Polymer \\n      52 H          -32.3912   -30.8962   -31.6881 H             2 Polymer \\n      53 C          -26.0791   -27.9204   -33.4595 C             2 Polymer \\n      54 C          -27.4064   -27.9411   -34.2155 C             2 Polymer \\n      55 C          -28.3901   -28.9092   -33.5532 C             2 Polymer \\n      56 C          -29.7491   -28.9264   -34.2672 C             2 Polymer \\n      57 C          -30.6623   -29.9637   -33.6045 C             2 Polymer \\n      58 C          -32.0753   -30.0257   -34.2221 C             2 Polymer \\n      59 C          -32.8925   -28.7806   -33.9672 C             2 Polymer \\n      60 C          -33.3403   -28.3022   -32.7144 C             2 Polymer \\n      61 S          -34.1575   -26.8540   -32.9855 S             2 Polymer \\n      62 C          -33.9932   -26.8269   -34.6516 C             2 Polymer \\n      63 C          -33.2767   -27.9487   -35.0352 C             2 Polymer \\n      64 H          -25.3736   -27.2257   -33.9617 H             2 Polymer \\n      65 H          -25.6268   -28.9351   -33.4405 H             2 Polymer \\n      66 H          -26.2358   -27.5744   -32.4154 H             2 Polymer \\n      67 H          -27.2222   -28.2612   -35.2636 H             2 Polymer \\n      68 H          -27.8329   -26.9147   -34.2218 H             2 Polymer \\n      69 H          -27.9493   -29.9312   -33.5673 H             2 Polymer \\n      70 H          -28.5501   -28.6024   -32.4980 H             2 Polymer \\n      71 H          -30.2066   -27.9147   -34.2007 H             2 Polymer \\n      72 H          -29.6142   -29.1928   -35.3385 H             2 Polymer \\n      73 H          -30.1912   -30.9636   -33.7215 H             2 Polymer \\n      74 H          -30.7069   -29.7338   -32.5253 H             2 Polymer \\n      75 H          -32.6394   -30.8969   -33.8355 H             2 Polymer \\n      76 H          -31.9553   -30.1982   -35.3150 H             2 Polymer \\n      77 H          -33.0280   -28.1513   -36.0690 H             2 Polymer \\n      78 H          -32.8617   -29.1202   -27.7878 H             2 Polymer \\n      79 H          -34.3719   -26.0620   -35.3153 H             2 Polymer \\n@<TRIPOS>BOND\\n       1        2        1 1\\n       2       12        1 1\\n       3       13        1 1\\n       4       14        1 1\\n       5        3        2 1\\n       6       15        2 1\\n       7       16        2 1\\n       8        4        3 1\\n       9       17        3 1\\n      10       18        3 1\\n      11        5        4 1\\n      12       19        4 1\\n      13       20        4 1\\n      14        6        5 1\\n      15       21        5 1\\n      16       22        5 1\\n      17        7        6 1\\n      18       23        6 1\\n      19       24        6 1\\n      20        8        7 1\\n      21       11        7 1\\n      22        9        8 1\\n      23       26        8 1\\n      24       10        9 1\\n      25       11       10 1\\n      26       27       10 1\\n      27       25       11 1\\n      28       29       28 1\\n      29       39       28 1\\n      30       40       28 1\\n      31       41       28 1\\n      32       30       29 1\\n      33       42       29 1\\n      34       43       29 1\\n      35       31       30 1\\n      36       44       30 1\\n      37       45       30 1\\n      38       32       31 1\\n      39       46       31 1\\n      40       47       31 1\\n      41       33       32 1\\n      42       48       32 1\\n      43       49       32 1\\n      44       34       33 1\\n      45       50       33 1\\n      46       51       33 1\\n      47       35       34 1\\n      48       38       34 1\\n      49       36       35 1\\n      50       78       35 1\\n      51       37       36 1\\n      52       38       37 1\\n      53       60       37 1\\n      54       52       38 1\\n      55       54       53 1\\n      56       64       53 1\\n      57       65       53 1\\n      58       66       53 1\\n      59       55       54 1\\n      60       67       54 1\\n      61       68       54 1\\n      62       56       55 1\\n      63       69       55 1\\n      64       70       55 1\\n      65       57       56 1\\n      66       71       56 1\\n      67       72       56 1\\n      68       58       57 1\\n      69       73       57 1\\n      70       74       57 1\\n      71       59       58 1\\n      72       75       58 1\\n      73       76       58 1\\n      74       60       59 1\\n      75       63       59 1\\n      76       61       60 1\\n      77       62       61 1\\n      78       63       62 1\\n      79       79       62 1\\n      80       77       63 1\\n@<TRIPOS>SUBSTRUCTURE\\n       1 Polymer         1 RESIDUE    0 **** ROOT      0\\n       2 Polymer        28 RESIDUE    0 **** ROOT      0\\n\",\"mol2\");\n",
       "\tviewer_1686942634151606.setStyle({\"stick\": {\"radius\": 0.2, \"color\": \"grey\"}, \"sphere\": {\"scale\": 0.3, \"colorscheme\": {}}});\n",
       "\tviewer_1686942634151606.zoomTo();\n",
       "viewer_1686942634151606.render();\n",
       "});\n",
       "</script>"
      ]
     },
     "metadata": {},
     "output_type": "display_data"
    },
    {
     "data": {
      "text/plain": [
       "<py3Dmol.view at 0x1107ddfd0>"
      ]
     },
     "execution_count": 3,
     "metadata": {},
     "output_type": "execute_result"
    }
   ],
   "source": [
    "mon_dim = mb.Compound()\n",
    "mon_dim.add([monomer,dimer])\n",
    "monomer.translate([3,3,3])\n",
    "dimer.translate([-3,-3,-3])\n",
    "mon_dim.visualize()"
   ]
  },
  {
   "cell_type": "code",
   "execution_count": 5,
   "id": "7312699d",
   "metadata": {},
   "outputs": [],
   "source": [
    "mon_dim.save('sdf_files/p3ht.sdf',overwrite=True)"
   ]
  },
  {
   "cell_type": "code",
   "execution_count": null,
   "id": "8f4bb467",
   "metadata": {},
   "outputs": [],
   "source": [
    "monomer.save('mol2files/pidtcpdt_mon.mol2')\n",
    "dimer.save('mol2files/pidtcpdt_dim.mol2')\n",
    "monomer.save('sdf_files/pidtcpdt_mon.sdf')\n",
    "dimer.save('sdf_files/pidtcpdt_dim.sdf')"
   ]
  },
  {
   "cell_type": "code",
   "execution_count": null,
   "id": "f7cf3b82",
   "metadata": {},
   "outputs": [],
   "source": [
    "monomer.visualize()"
   ]
  },
  {
   "cell_type": "code",
   "execution_count": null,
   "id": "38950e78",
   "metadata": {},
   "outputs": [],
   "source": [
    "mondimfilepath = '/Users/madilyn/Projects/repos/forcefields/mol2files/PIDTFBT_C11BO_MD.mol2'\n",
    "\n",
    "mon_dim.save(mondimfilepath,overwrite=True)"
   ]
  },
  {
   "cell_type": "code",
   "execution_count": null,
   "id": "45a95b0d",
   "metadata": {},
   "outputs": [],
   "source": []
  }
 ],
 "metadata": {
  "kernelspec": {
   "display_name": "Python 3 (ipykernel)",
   "language": "python",
   "name": "python3"
  },
  "language_info": {
   "codemirror_mode": {
    "name": "ipython",
    "version": 3
   },
   "file_extension": ".py",
   "mimetype": "text/x-python",
   "name": "python",
   "nbconvert_exporter": "python",
   "pygments_lexer": "ipython3",
   "version": "3.9.16"
  }
 },
 "nbformat": 4,
 "nbformat_minor": 5
}
