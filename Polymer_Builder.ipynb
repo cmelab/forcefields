{
 "cells": [
  {
   "cell_type": "code",
   "execution_count": 1,
   "id": "22ddcf81",
   "metadata": {},
   "outputs": [
    {
     "name": "stderr",
     "output_type": "stream",
     "text": [
      "Warning: importing 'simtk.openmm' is deprecated.  Import 'openmm' instead.\n"
     ]
    }
   ],
   "source": [
    "import warnings \n",
    "warnings.filterwarnings('ignore')\n",
    "import mbuild as mb\n",
    "import numpy\n",
    "from mbuild.lib.recipes.polymer import Polymer\n",
    "\n",
    "\n",
    "## this function will build your polymer chain for you. You feed it an instance of a monomer class \n",
    "##that has the indices where the bonds need to be formed.\n",
    "def build_chain(monomer, length, min_energy):\n",
    "    chain = Polymer()\n",
    "    chain.add_monomer(compound=monomer,\n",
    "                 indices=monomer.bond_indices,\n",
    "                 separation=monomer.separation,\n",
    "                 replace=monomer.replace,\n",
    "                 orientation=monomer.orientations)\n",
    "    chain.build(n=length)\n",
    "    if min_energy == True:\n",
    "        chain.energy_minimize()\n",
    "    return chain"
   ]
  },
  {
   "cell_type": "markdown",
   "id": "273acfca",
   "metadata": {},
   "source": [
    "# Example: P3HT"
   ]
  },
  {
   "cell_type": "markdown",
   "id": "c6174f0e",
   "metadata": {},
   "source": [
    "### make class of the monomer: \n",
    "#### the self.orientations, self.separation and self.replace should all be the same, but you'll need to determine which atomic indices are where you want to form your polymerization bond. For P3HT we want to replace the two hydrogens at indices 24 and 25 with polymer bonds.  "
   ]
  },
  {
   "cell_type": "code",
   "execution_count": 2,
   "id": "6a77ac03",
   "metadata": {},
   "outputs": [],
   "source": [
    "class P3HT(mb.Compound):\n",
    "    def __init__(self):\n",
    "        super(P3HT,self).__init__()\n",
    "        self.add(mb.load(\"CCCCCCC1=C(SC(=C1))\",smiles=True))\n",
    "        self.bond_indices = [24,25]\n",
    "        self.orientations = [[0,0,1],[0,0,-1]]\n",
    "        self.separation = 0.14\n",
    "        self.replace = True"
   ]
  },
  {
   "cell_type": "markdown",
   "id": "c41a05ad",
   "metadata": {},
   "source": [
    "### Create an instance of the monomer from the class:"
   ]
  },
  {
   "cell_type": "code",
   "execution_count": 3,
   "id": "dbed2401",
   "metadata": {},
   "outputs": [
    {
     "data": {
      "application/3dmoljs_load.v0": "<div id=\"3dmolviewer_1688592092726586\"  style=\"position: relative; width: 640px; height: 480px\">\n        <p id=\"3dmolwarning_1688592092726586\" style=\"background-color:#ffcccc;color:black\">You appear to be running in JupyterLab (or JavaScript failed to load for some other reason).  You need to install the 3dmol extension: <br>\n        <tt>jupyter labextension install jupyterlab_3dmol</tt></p>\n        </div>\n<script>\n\nvar loadScriptAsync = function(uri){\n  return new Promise((resolve, reject) => {\n    //this is to ignore the existence of requirejs amd\n    var savedexports, savedmodule;\n    if (typeof exports !== 'undefined') savedexports = exports;\n    else exports = {}\n    if (typeof module !== 'undefined') savedmodule = module;\n    else module = {}\n\n    var tag = document.createElement('script');\n    tag.src = uri;\n    tag.async = true;\n    tag.onload = () => {\n        exports = savedexports;\n        module = savedmodule;\n        resolve();\n    };\n  var firstScriptTag = document.getElementsByTagName('script')[0];\n  firstScriptTag.parentNode.insertBefore(tag, firstScriptTag);\n});\n};\n\nif(typeof $3Dmolpromise === 'undefined') {\n$3Dmolpromise = null;\n  $3Dmolpromise = loadScriptAsync('https://cdnjs.cloudflare.com/ajax/libs/3Dmol/2.0.1/3Dmol-min.js');\n}\n\nvar viewer_1688592092726586 = null;\nvar warn = document.getElementById(\"3dmolwarning_1688592092726586\");\nif(warn) {\n    warn.parentNode.removeChild(warn);\n}\n$3Dmolpromise.then(function() {\nviewer_1688592092726586 = $3Dmol.createViewer(document.getElementById(\"3dmolviewer_1688592092726586\"),{backgroundColor:\"white\"});\nviewer_1688592092726586.zoomTo();\n\tviewer_1688592092726586.addModel(\"@<TRIPOS>MOLECULE\\nP3HT\\n27 27 1 0 1\\nSMALL\\nNO_CHARGES\\n@<TRIPOS>CRYSIN\\n   13.7896     9.6851     9.2242    90.0000    90.0000    90.0000  1  1\\n@<TRIPOS>ATOM\\n       1 C            4.1645     0.6569     0.1981 C             1 P3HT    \\n       2 C            2.7742     0.5277    -0.4173 C             1 P3HT    \\n       3 C            1.8457    -0.2980     0.4805 C             1 P3HT    \\n       4 C            0.4503    -0.4255    -0.1413 C             1 P3HT    \\n       5 C           -0.4827    -1.2449     0.7626 C             1 P3HT    \\n       6 C           -1.8650    -1.4598     0.1308 C             1 P3HT    \\n       7 C           -2.6390    -0.1761     0.0234 C             1 P3HT    \\n       8 C           -3.2734     0.4213     1.1077 C             1 P3HT    \\n       9 S           -3.9762     1.8504     0.5725 S             1 P3HT    \\n      10 C           -3.4826     1.7297    -1.0294 C             1 P3HT    \\n      11 C           -2.7522     0.5581    -1.1678 C             1 P3HT    \\n      12 H            4.8134     1.2585    -0.4727 H             1 P3HT    \\n      13 H            4.6230    -0.3464     0.3298 H             1 P3HT    \\n      14 H            4.1044     1.1654     1.1839 H             1 P3HT    \\n      15 H            2.8654     0.0396    -1.4122 H             1 P3HT    \\n      16 H            2.3492     1.5450    -0.5617 H             1 P3HT    \\n      17 H            2.2792    -1.3125     0.6237 H             1 P3HT    \\n      18 H            1.7616     0.1944     1.4746 H             1 P3HT    \\n      19 H            0.0257     0.5912    -0.2891 H             1 P3HT    \\n      20 H            0.5332    -0.9225    -1.1330 H             1 P3HT    \\n      21 H           -0.0266    -2.2426     0.9446 H             1 P3HT    \\n      22 H           -0.5956    -0.7393     1.7471 H             1 P3HT    \\n      23 H           -2.4401    -2.1718     0.7615 H             1 P3HT    \\n      24 H           -1.7542    -1.9277    -0.8719 H             1 P3HT    \\n      25 H           -3.3032     0.0380     2.1191 H             1 P3HT    \\n      26 H           -3.6907     2.4424    -1.8157 H             1 P3HT    \\n      27 H           -2.3084     0.2486    -2.1051 H             1 P3HT    \\n@<TRIPOS>BOND\\n       1        2        1 1\\n       2       12        1 1\\n       3       13        1 1\\n       4       14        1 1\\n       5        3        2 1\\n       6       15        2 1\\n       7       16        2 1\\n       8        4        3 1\\n       9       17        3 1\\n      10       18        3 1\\n      11        5        4 1\\n      12       19        4 1\\n      13       20        4 1\\n      14        6        5 1\\n      15       21        5 1\\n      16       22        5 1\\n      17        7        6 1\\n      18       23        6 1\\n      19       24        6 1\\n      20        8        7 1\\n      21       11        7 1\\n      22        9        8 1\\n      23       25        8 1\\n      24       10        9 1\\n      25       11       10 1\\n      26       26       10 1\\n      27       27       11 1\\n@<TRIPOS>SUBSTRUCTURE\\n       1 P3HT            1 RESIDUE    0 **** ROOT      0\\n\",\"mol2\");\n\tviewer_1688592092726586.setStyle({\"stick\": {\"radius\": 0.2, \"color\": \"grey\"}, \"sphere\": {\"scale\": 0.3, \"colorscheme\": {}}});\n\tviewer_1688592092726586.zoomTo();\nviewer_1688592092726586.render();\n});\n</script>",
      "text/html": [
       "<div id=\"3dmolviewer_1688592092726586\"  style=\"position: relative; width: 640px; height: 480px\">\n",
       "        <p id=\"3dmolwarning_1688592092726586\" style=\"background-color:#ffcccc;color:black\">You appear to be running in JupyterLab (or JavaScript failed to load for some other reason).  You need to install the 3dmol extension: <br>\n",
       "        <tt>jupyter labextension install jupyterlab_3dmol</tt></p>\n",
       "        </div>\n",
       "<script>\n",
       "\n",
       "var loadScriptAsync = function(uri){\n",
       "  return new Promise((resolve, reject) => {\n",
       "    //this is to ignore the existence of requirejs amd\n",
       "    var savedexports, savedmodule;\n",
       "    if (typeof exports !== 'undefined') savedexports = exports;\n",
       "    else exports = {}\n",
       "    if (typeof module !== 'undefined') savedmodule = module;\n",
       "    else module = {}\n",
       "\n",
       "    var tag = document.createElement('script');\n",
       "    tag.src = uri;\n",
       "    tag.async = true;\n",
       "    tag.onload = () => {\n",
       "        exports = savedexports;\n",
       "        module = savedmodule;\n",
       "        resolve();\n",
       "    };\n",
       "  var firstScriptTag = document.getElementsByTagName('script')[0];\n",
       "  firstScriptTag.parentNode.insertBefore(tag, firstScriptTag);\n",
       "});\n",
       "};\n",
       "\n",
       "if(typeof $3Dmolpromise === 'undefined') {\n",
       "$3Dmolpromise = null;\n",
       "  $3Dmolpromise = loadScriptAsync('https://cdnjs.cloudflare.com/ajax/libs/3Dmol/2.0.1/3Dmol-min.js');\n",
       "}\n",
       "\n",
       "var viewer_1688592092726586 = null;\n",
       "var warn = document.getElementById(\"3dmolwarning_1688592092726586\");\n",
       "if(warn) {\n",
       "    warn.parentNode.removeChild(warn);\n",
       "}\n",
       "$3Dmolpromise.then(function() {\n",
       "viewer_1688592092726586 = $3Dmol.createViewer(document.getElementById(\"3dmolviewer_1688592092726586\"),{backgroundColor:\"white\"});\n",
       "viewer_1688592092726586.zoomTo();\n",
       "\tviewer_1688592092726586.addModel(\"@<TRIPOS>MOLECULE\\nP3HT\\n27 27 1 0 1\\nSMALL\\nNO_CHARGES\\n@<TRIPOS>CRYSIN\\n   13.7896     9.6851     9.2242    90.0000    90.0000    90.0000  1  1\\n@<TRIPOS>ATOM\\n       1 C            4.1645     0.6569     0.1981 C             1 P3HT    \\n       2 C            2.7742     0.5277    -0.4173 C             1 P3HT    \\n       3 C            1.8457    -0.2980     0.4805 C             1 P3HT    \\n       4 C            0.4503    -0.4255    -0.1413 C             1 P3HT    \\n       5 C           -0.4827    -1.2449     0.7626 C             1 P3HT    \\n       6 C           -1.8650    -1.4598     0.1308 C             1 P3HT    \\n       7 C           -2.6390    -0.1761     0.0234 C             1 P3HT    \\n       8 C           -3.2734     0.4213     1.1077 C             1 P3HT    \\n       9 S           -3.9762     1.8504     0.5725 S             1 P3HT    \\n      10 C           -3.4826     1.7297    -1.0294 C             1 P3HT    \\n      11 C           -2.7522     0.5581    -1.1678 C             1 P3HT    \\n      12 H            4.8134     1.2585    -0.4727 H             1 P3HT    \\n      13 H            4.6230    -0.3464     0.3298 H             1 P3HT    \\n      14 H            4.1044     1.1654     1.1839 H             1 P3HT    \\n      15 H            2.8654     0.0396    -1.4122 H             1 P3HT    \\n      16 H            2.3492     1.5450    -0.5617 H             1 P3HT    \\n      17 H            2.2792    -1.3125     0.6237 H             1 P3HT    \\n      18 H            1.7616     0.1944     1.4746 H             1 P3HT    \\n      19 H            0.0257     0.5912    -0.2891 H             1 P3HT    \\n      20 H            0.5332    -0.9225    -1.1330 H             1 P3HT    \\n      21 H           -0.0266    -2.2426     0.9446 H             1 P3HT    \\n      22 H           -0.5956    -0.7393     1.7471 H             1 P3HT    \\n      23 H           -2.4401    -2.1718     0.7615 H             1 P3HT    \\n      24 H           -1.7542    -1.9277    -0.8719 H             1 P3HT    \\n      25 H           -3.3032     0.0380     2.1191 H             1 P3HT    \\n      26 H           -3.6907     2.4424    -1.8157 H             1 P3HT    \\n      27 H           -2.3084     0.2486    -2.1051 H             1 P3HT    \\n@<TRIPOS>BOND\\n       1        2        1 1\\n       2       12        1 1\\n       3       13        1 1\\n       4       14        1 1\\n       5        3        2 1\\n       6       15        2 1\\n       7       16        2 1\\n       8        4        3 1\\n       9       17        3 1\\n      10       18        3 1\\n      11        5        4 1\\n      12       19        4 1\\n      13       20        4 1\\n      14        6        5 1\\n      15       21        5 1\\n      16       22        5 1\\n      17        7        6 1\\n      18       23        6 1\\n      19       24        6 1\\n      20        8        7 1\\n      21       11        7 1\\n      22        9        8 1\\n      23       25        8 1\\n      24       10        9 1\\n      25       11       10 1\\n      26       26       10 1\\n      27       27       11 1\\n@<TRIPOS>SUBSTRUCTURE\\n       1 P3HT            1 RESIDUE    0 **** ROOT      0\\n\",\"mol2\");\n",
       "\tviewer_1688592092726586.setStyle({\"stick\": {\"radius\": 0.2, \"color\": \"grey\"}, \"sphere\": {\"scale\": 0.3, \"colorscheme\": {}}});\n",
       "\tviewer_1688592092726586.zoomTo();\n",
       "viewer_1688592092726586.render();\n",
       "});\n",
       "</script>"
      ]
     },
     "metadata": {},
     "output_type": "display_data"
    },
    {
     "data": {
      "text/plain": [
       "<py3Dmol.view at 0x13aa2edc0>"
      ]
     },
     "execution_count": 3,
     "metadata": {},
     "output_type": "execute_result"
    }
   ],
   "source": [
    "p3ht = P3HT()\n",
    "p3ht.visualize()"
   ]
  },
  {
   "cell_type": "code",
   "execution_count": 4,
   "id": "333b0c43",
   "metadata": {},
   "outputs": [
    {
     "data": {
      "application/3dmoljs_load.v0": "<div id=\"3dmolviewer_16885923315483038\"  style=\"position: relative; width: 640px; height: 480px\">\n        <p id=\"3dmolwarning_16885923315483038\" style=\"background-color:#ffcccc;color:black\">You appear to be running in JupyterLab (or JavaScript failed to load for some other reason).  You need to install the 3dmol extension: <br>\n        <tt>jupyter labextension install jupyterlab_3dmol</tt></p>\n        </div>\n<script>\n\nvar loadScriptAsync = function(uri){\n  return new Promise((resolve, reject) => {\n    //this is to ignore the existence of requirejs amd\n    var savedexports, savedmodule;\n    if (typeof exports !== 'undefined') savedexports = exports;\n    else exports = {}\n    if (typeof module !== 'undefined') savedmodule = module;\n    else module = {}\n\n    var tag = document.createElement('script');\n    tag.src = uri;\n    tag.async = true;\n    tag.onload = () => {\n        exports = savedexports;\n        module = savedmodule;\n        resolve();\n    };\n  var firstScriptTag = document.getElementsByTagName('script')[0];\n  firstScriptTag.parentNode.insertBefore(tag, firstScriptTag);\n});\n};\n\nif(typeof $3Dmolpromise === 'undefined') {\n$3Dmolpromise = null;\n  $3Dmolpromise = loadScriptAsync('https://cdnjs.cloudflare.com/ajax/libs/3Dmol/2.0.1/3Dmol-min.js');\n}\n\nvar viewer_16885923315483038 = null;\nvar warn = document.getElementById(\"3dmolwarning_16885923315483038\");\nif(warn) {\n    warn.parentNode.removeChild(warn);\n}\n$3Dmolpromise.then(function() {\nviewer_16885923315483038 = $3Dmol.createViewer(document.getElementById(\"3dmolviewer_16885923315483038\"),{backgroundColor:\"white\"});\nviewer_16885923315483038.zoomTo();\n\tviewer_16885923315483038.addModel(\"@<TRIPOS>MOLECULE\\nPolymer\\n127 131 1 0 1\\nSMALL\\nNO_CHARGES\\n@<TRIPOS>CRYSIN\\n   15.2500    15.6969    24.9600    90.0000    90.0000    90.0000  1  1\\n@<TRIPOS>ATOM\\n       1 C            4.3037     0.1902     1.1173 C             1 Polymer \\n       2 C            2.8470     0.1145     0.6758 C             1 Polymer \\n       3 C            1.9160    -0.3289     1.8131 C             1 Polymer \\n       4 C            0.4541    -0.3711     1.3387 C             1 Polymer \\n       5 C           -0.5230    -0.6051     2.5121 C             1 Polymer \\n       6 C           -1.9977    -0.6723     2.0631 C             1 Polymer \\n       7 C           -2.4097     0.5304     1.2339 C             1 Polymer \\n       8 C           -2.4882     1.8563     1.6440 C             1 Polymer \\n       9 S           -2.8909     2.8063     0.2876 S             1 Polymer \\n      10 C           -2.9323     1.5462    -0.8323 C             1 Polymer \\n      11 C           -2.7010     0.3743    -0.1107 C             1 Polymer \\n      12 H            4.9257     0.5523     0.2699 H             1 Polymer \\n      13 H            4.6676    -0.8118     1.4247 H             1 Polymer \\n      14 H            4.4132     0.9020     1.9627 H             1 Polymer \\n      15 H            2.7691    -0.5935    -0.1756 H             1 Polymer \\n      16 H            2.5445     1.1307     0.3457 H             1 Polymer \\n      17 H            2.2151    -1.3347     2.1827 H             1 Polymer \\n      18 H            2.0109     0.4041     2.6417 H             1 Polymer \\n      19 H            0.2105     0.6080     0.8740 H             1 Polymer \\n      20 H            0.3414    -1.1686     0.5704 H             1 Polymer \\n      21 H           -0.2680    -1.5640     3.0157 H             1 Polymer \\n      22 H           -0.4063     0.2197     3.2448 H             1 Polymer \\n      23 H           -2.6696    -0.7968     2.9367 H             1 Polymer \\n      24 H           -2.0940    -1.5944     1.4436 H             1 Polymer \\n      25 H           -2.6780    -0.6055    -0.5156 H             1 Polymer \\n      26 C            3.9240     1.7494    -2.7154 C             1 Polymer \\n      27 C            2.5888     1.5220    -3.4193 C             1 Polymer \\n      28 C            1.6726     0.6081    -2.5999 C             1 Polymer \\n      29 C            0.3134     0.3702    -3.2694 C             1 Polymer \\n      30 C           -0.5783    -0.5176    -2.3745 C             1 Polymer \\n      31 C           -2.0059    -0.7512    -2.9345 C             1 Polymer \\n      32 C           -2.7344     0.5695    -3.1887 C             1 Polymer \\n      33 C           -3.0981     1.6089    -2.3229 C             1 Polymer \\n      34 S           -3.6194     2.9172    -3.3416 S             1 Polymer \\n      35 C           -3.4106     2.1191    -4.8460 C             1 Polymer \\n      36 C           -2.9930     0.8563    -4.4976 C             1 Polymer \\n      37 H            4.5635     2.4128    -3.3360 H             1 Polymer \\n      38 H            4.4519     0.7831    -2.5692 H             1 Polymer \\n      39 H            3.7650     2.2331    -1.7286 H             1 Polymer \\n      40 H            2.7904     1.0559    -4.4043 H             1 Polymer \\n      41 H            2.0980     2.5092    -3.5639 H             1 Polymer \\n      42 H            2.1765    -0.3702    -2.4475 H             1 Polymer \\n      43 H            1.4880     1.0948    -1.6218 H             1 Polymer \\n      44 H           -0.1724     1.3593    -3.4196 H             1 Polymer \\n      45 H            0.4654    -0.1230    -4.2514 H             1 Polymer \\n      46 H           -0.0860    -1.5037    -2.2410 H             1 Polymer \\n      47 H           -0.6244    -0.0315    -1.3894 H             1 Polymer \\n      48 H           -2.6117    -1.4498    -2.3350 H             1 Polymer \\n      49 H           -1.8560    -1.3133    -3.8834 H             1 Polymer \\n      50 H           -2.7986     0.0938    -5.1674 H             1 Polymer \\n      51 C            3.6229     3.2381    -6.5725 C             1 Polymer \\n      52 C            2.3329     3.0406    -7.3649 C             1 Polymer \\n      53 C            1.4097     2.0328    -6.6765 C             1 Polymer \\n      54 C            0.1064     1.7956    -7.4478 C             1 Polymer \\n      55 C           -0.7355     0.7246    -6.7305 C             1 Polymer \\n      56 C           -2.1024     0.4401    -7.3964 C             1 Polymer \\n      57 C           -2.9875     1.6932    -7.3746 C             1 Polymer \\n      58 C           -3.5191     2.4968    -6.3268 C             1 Polymer \\n      59 S           -4.1577     3.8996    -7.1468 S             1 Polymer \\n      60 C           -3.7946     3.4031    -8.7679 C             1 Polymer \\n      61 C           -3.2428     2.1773    -8.6154 C             1 Polymer \\n      62 H            4.2817     3.9562    -7.1047 H             1 Polymer \\n      63 H            4.1633     2.2730    -6.4679 H             1 Polymer \\n      64 H            3.4003     3.6423    -5.5624 H             1 Polymer \\n      65 H            2.5975     2.6596    -8.3728 H             1 Polymer \\n      66 H            1.8175     4.0206    -7.4617 H             1 Polymer \\n      67 H            1.9487     1.0654    -6.5838 H             1 Polymer \\n      68 H            1.1509     2.4158    -5.6677 H             1 Polymer \\n      69 H           -0.4520     2.7569    -7.5034 H             1 Polymer \\n      70 H            0.3418     1.4432    -8.4730 H             1 Polymer \\n      71 H           -0.1569    -0.2225    -6.7080 H             1 Polymer \\n      72 H           -0.8677     1.0743    -5.6980 H             1 Polymer \\n      73 H           -2.6328    -0.4550    -7.0297 H             1 Polymer \\n      74 H           -1.8489     0.1078    -8.4265 H             1 Polymer \\n      75 H           -2.9469     1.5843    -9.3997 H             1 Polymer \\n      76 C            3.3727     4.6644   -10.4772 C             1 Polymer \\n      77 C            2.0937     4.5629   -11.3058 C             1 Polymer \\n      78 C            1.1238     3.5430   -10.7090 C             1 Polymer \\n      79 C           -0.1739     3.4281   -11.5205 C             1 Polymer \\n      80 C           -1.0477     2.3194   -10.9202 C             1 Polymer \\n      81 C           -2.4309     2.1596   -11.6023 C             1 Polymer \\n      82 C           -3.3083     3.3895   -11.3742 C             1 Polymer \\n      83 C           -3.8747     3.9818   -10.1961 C             1 Polymer \\n      84 S           -4.5538     5.4649   -10.7138 S             1 Polymer \\n      85 C           -4.1534     5.3168   -12.3764 C             1 Polymer \\n      86 C           -3.5486     4.1055   -12.5153 C             1 Polymer \\n      87 H            4.0665     5.3910   -10.9480 H             1 Polymer \\n      88 H            3.8782     3.6763   -10.4211 H             1 Polymer \\n      89 H            3.1404     5.0143    -9.4491 H             1 Polymer \\n      90 H            2.3612     4.2426   -12.3343 H             1 Polymer \\n      91 H            1.6116     5.5634   -11.3421 H             1 Polymer \\n      92 H            1.6310     2.5496   -10.6842 H             1 Polymer \\n      93 H            0.8699     3.8462    -9.6740 H             1 Polymer \\n      94 H           -0.7034     4.4054   -11.4797 H             1 Polymer \\n      95 H            0.0497     3.1788   -12.5799 H             1 Polymer \\n      96 H           -0.5028     1.3553   -11.0079 H             1 Polymer \\n      97 H           -1.1470     2.5626    -9.8538 H             1 Polymer \\n      98 H           -2.9754     1.2321   -11.3392 H             1 Polymer \\n      99 H           -2.2074     1.9858   -12.6768 H             1 Polymer \\n     100 H           -3.2131     3.7118   -13.4338 H             1 Polymer \\n     101 C            3.2910     6.1188   -14.3834 C             1 Polymer \\n     102 C            2.0147     6.3757   -15.1840 C             1 Polymer \\n     103 C            0.8555     5.5297   -14.6528 C             1 Polymer \\n     104 C           -0.4655     5.8209   -15.3909 C             1 Polymer \\n     105 C           -1.5381     4.8593   -14.8820 C             1 Polymer \\n     106 C           -2.9519     5.0535   -15.4957 C             1 Polymer \\n     107 C           -3.7896     6.1665   -14.8703 C             1 Polymer \\n     108 C           -4.3088     6.2645   -13.5292 C             1 Polymer \\n     109 S           -5.1643     7.7084   -13.4297 S             1 Polymer \\n     110 C           -4.9380     8.1997   -15.0225 C             1 Polymer \\n     111 C           -4.1667     7.2504   -15.6752 C             1 Polymer \\n     112 H            4.1219     6.7252   -14.7988 H             1 Polymer \\n     113 H            3.5756     5.0455   -14.4309 H             1 Polymer \\n     114 H            3.1431     6.4108   -13.3222 H             1 Polymer \\n     115 H            2.1957     6.1161   -16.2491 H             1 Polymer \\n     116 H            1.7577     7.4533   -15.1104 H             1 Polymer \\n     117 H            1.1248     4.4548   -14.7639 H             1 Polymer \\n     118 H            0.7048     5.7465   -13.5738 H             1 Polymer \\n     119 H           -0.7716     6.8719   -15.2057 H             1 Polymer \\n     120 H           -0.3334     5.6613   -16.4830 H             1 Polymer \\n     121 H           -1.1967     3.8328   -15.1474 H             1 Polymer \\n     122 H           -1.5566     4.9462   -13.7823 H             1 Polymer \\n     123 H           -3.5489     4.1222   -15.4183 H             1 Polymer \\n     124 H           -2.8223     5.1919   -16.5906 H             1 Polymer \\n     125 H           -3.8874     7.3430   -16.7151 H             1 Polymer \\n     126 H           -2.3021     2.2115     2.6486 H             1 Polymer \\n     127 H           -5.3243     9.1025   -15.4769 H             1 Polymer \\n@<TRIPOS>BOND\\n       1        2        1 1\\n       2       12        1 1\\n       3       13        1 1\\n       4       14        1 1\\n       5        3        2 1\\n       6       15        2 1\\n       7       16        2 1\\n       8        4        3 1\\n       9       17        3 1\\n      10       18        3 1\\n      11        5        4 1\\n      12       19        4 1\\n      13       20        4 1\\n      14        6        5 1\\n      15       21        5 1\\n      16       22        5 1\\n      17        7        6 1\\n      18       23        6 1\\n      19       24        6 1\\n      20        8        7 1\\n      21       11        7 1\\n      22        9        8 1\\n      23      126        8 1\\n      24       10        9 1\\n      25       11       10 1\\n      26       33       10 1\\n      27       25       11 1\\n      28       27       26 1\\n      29       37       26 1\\n      30       38       26 1\\n      31       39       26 1\\n      32       28       27 1\\n      33       40       27 1\\n      34       41       27 1\\n      35       29       28 1\\n      36       42       28 1\\n      37       43       28 1\\n      38       30       29 1\\n      39       44       29 1\\n      40       45       29 1\\n      41       31       30 1\\n      42       46       30 1\\n      43       47       30 1\\n      44       32       31 1\\n      45       48       31 1\\n      46       49       31 1\\n      47       33       32 1\\n      48       36       32 1\\n      49       34       33 1\\n      50       35       34 1\\n      51       36       35 1\\n      52       58       35 1\\n      53       50       36 1\\n      54       52       51 1\\n      55       62       51 1\\n      56       63       51 1\\n      57       64       51 1\\n      58       53       52 1\\n      59       65       52 1\\n      60       66       52 1\\n      61       54       53 1\\n      62       67       53 1\\n      63       68       53 1\\n      64       55       54 1\\n      65       69       54 1\\n      66       70       54 1\\n      67       56       55 1\\n      68       71       55 1\\n      69       72       55 1\\n      70       57       56 1\\n      71       73       56 1\\n      72       74       56 1\\n      73       58       57 1\\n      74       61       57 1\\n      75       59       58 1\\n      76       60       59 1\\n      77       61       60 1\\n      78       83       60 1\\n      79       75       61 1\\n      80       77       76 1\\n      81       87       76 1\\n      82       88       76 1\\n      83       89       76 1\\n      84       78       77 1\\n      85       90       77 1\\n      86       91       77 1\\n      87       79       78 1\\n      88       92       78 1\\n      89       93       78 1\\n      90       80       79 1\\n      91       94       79 1\\n      92       95       79 1\\n      93       81       80 1\\n      94       96       80 1\\n      95       97       80 1\\n      96       82       81 1\\n      97       98       81 1\\n      98       99       81 1\\n      99       83       82 1\\n     100       86       82 1\\n     101       84       83 1\\n     102       85       84 1\\n     103       86       85 1\\n     104      108       85 1\\n     105      100       86 1\\n     106      102      101 1\\n     107      112      101 1\\n     108      113      101 1\\n     109      114      101 1\\n     110      103      102 1\\n     111      115      102 1\\n     112      116      102 1\\n     113      104      103 1\\n     114      117      103 1\\n     115      118      103 1\\n     116      105      104 1\\n     117      119      104 1\\n     118      120      104 1\\n     119      106      105 1\\n     120      121      105 1\\n     121      122      105 1\\n     122      107      106 1\\n     123      123      106 1\\n     124      124      106 1\\n     125      108      107 1\\n     126      111      107 1\\n     127      109      108 1\\n     128      110      109 1\\n     129      111      110 1\\n     130      127      110 1\\n     131      125      111 1\\n@<TRIPOS>SUBSTRUCTURE\\n       1 Polymer         1 RESIDUE    0 **** ROOT      0\\n\",\"mol2\");\n\tviewer_16885923315483038.setStyle({\"stick\": {\"radius\": 0.2, \"color\": \"grey\"}, \"sphere\": {\"scale\": 0.3, \"colorscheme\": {}}});\n\tviewer_16885923315483038.zoomTo();\nviewer_16885923315483038.render();\n});\n</script>",
      "text/html": [
       "<div id=\"3dmolviewer_16885923315483038\"  style=\"position: relative; width: 640px; height: 480px\">\n",
       "        <p id=\"3dmolwarning_16885923315483038\" style=\"background-color:#ffcccc;color:black\">You appear to be running in JupyterLab (or JavaScript failed to load for some other reason).  You need to install the 3dmol extension: <br>\n",
       "        <tt>jupyter labextension install jupyterlab_3dmol</tt></p>\n",
       "        </div>\n",
       "<script>\n",
       "\n",
       "var loadScriptAsync = function(uri){\n",
       "  return new Promise((resolve, reject) => {\n",
       "    //this is to ignore the existence of requirejs amd\n",
       "    var savedexports, savedmodule;\n",
       "    if (typeof exports !== 'undefined') savedexports = exports;\n",
       "    else exports = {}\n",
       "    if (typeof module !== 'undefined') savedmodule = module;\n",
       "    else module = {}\n",
       "\n",
       "    var tag = document.createElement('script');\n",
       "    tag.src = uri;\n",
       "    tag.async = true;\n",
       "    tag.onload = () => {\n",
       "        exports = savedexports;\n",
       "        module = savedmodule;\n",
       "        resolve();\n",
       "    };\n",
       "  var firstScriptTag = document.getElementsByTagName('script')[0];\n",
       "  firstScriptTag.parentNode.insertBefore(tag, firstScriptTag);\n",
       "});\n",
       "};\n",
       "\n",
       "if(typeof $3Dmolpromise === 'undefined') {\n",
       "$3Dmolpromise = null;\n",
       "  $3Dmolpromise = loadScriptAsync('https://cdnjs.cloudflare.com/ajax/libs/3Dmol/2.0.1/3Dmol-min.js');\n",
       "}\n",
       "\n",
       "var viewer_16885923315483038 = null;\n",
       "var warn = document.getElementById(\"3dmolwarning_16885923315483038\");\n",
       "if(warn) {\n",
       "    warn.parentNode.removeChild(warn);\n",
       "}\n",
       "$3Dmolpromise.then(function() {\n",
       "viewer_16885923315483038 = $3Dmol.createViewer(document.getElementById(\"3dmolviewer_16885923315483038\"),{backgroundColor:\"white\"});\n",
       "viewer_16885923315483038.zoomTo();\n",
       "\tviewer_16885923315483038.addModel(\"@<TRIPOS>MOLECULE\\nPolymer\\n127 131 1 0 1\\nSMALL\\nNO_CHARGES\\n@<TRIPOS>CRYSIN\\n   15.2500    15.6969    24.9600    90.0000    90.0000    90.0000  1  1\\n@<TRIPOS>ATOM\\n       1 C            4.3037     0.1902     1.1173 C             1 Polymer \\n       2 C            2.8470     0.1145     0.6758 C             1 Polymer \\n       3 C            1.9160    -0.3289     1.8131 C             1 Polymer \\n       4 C            0.4541    -0.3711     1.3387 C             1 Polymer \\n       5 C           -0.5230    -0.6051     2.5121 C             1 Polymer \\n       6 C           -1.9977    -0.6723     2.0631 C             1 Polymer \\n       7 C           -2.4097     0.5304     1.2339 C             1 Polymer \\n       8 C           -2.4882     1.8563     1.6440 C             1 Polymer \\n       9 S           -2.8909     2.8063     0.2876 S             1 Polymer \\n      10 C           -2.9323     1.5462    -0.8323 C             1 Polymer \\n      11 C           -2.7010     0.3743    -0.1107 C             1 Polymer \\n      12 H            4.9257     0.5523     0.2699 H             1 Polymer \\n      13 H            4.6676    -0.8118     1.4247 H             1 Polymer \\n      14 H            4.4132     0.9020     1.9627 H             1 Polymer \\n      15 H            2.7691    -0.5935    -0.1756 H             1 Polymer \\n      16 H            2.5445     1.1307     0.3457 H             1 Polymer \\n      17 H            2.2151    -1.3347     2.1827 H             1 Polymer \\n      18 H            2.0109     0.4041     2.6417 H             1 Polymer \\n      19 H            0.2105     0.6080     0.8740 H             1 Polymer \\n      20 H            0.3414    -1.1686     0.5704 H             1 Polymer \\n      21 H           -0.2680    -1.5640     3.0157 H             1 Polymer \\n      22 H           -0.4063     0.2197     3.2448 H             1 Polymer \\n      23 H           -2.6696    -0.7968     2.9367 H             1 Polymer \\n      24 H           -2.0940    -1.5944     1.4436 H             1 Polymer \\n      25 H           -2.6780    -0.6055    -0.5156 H             1 Polymer \\n      26 C            3.9240     1.7494    -2.7154 C             1 Polymer \\n      27 C            2.5888     1.5220    -3.4193 C             1 Polymer \\n      28 C            1.6726     0.6081    -2.5999 C             1 Polymer \\n      29 C            0.3134     0.3702    -3.2694 C             1 Polymer \\n      30 C           -0.5783    -0.5176    -2.3745 C             1 Polymer \\n      31 C           -2.0059    -0.7512    -2.9345 C             1 Polymer \\n      32 C           -2.7344     0.5695    -3.1887 C             1 Polymer \\n      33 C           -3.0981     1.6089    -2.3229 C             1 Polymer \\n      34 S           -3.6194     2.9172    -3.3416 S             1 Polymer \\n      35 C           -3.4106     2.1191    -4.8460 C             1 Polymer \\n      36 C           -2.9930     0.8563    -4.4976 C             1 Polymer \\n      37 H            4.5635     2.4128    -3.3360 H             1 Polymer \\n      38 H            4.4519     0.7831    -2.5692 H             1 Polymer \\n      39 H            3.7650     2.2331    -1.7286 H             1 Polymer \\n      40 H            2.7904     1.0559    -4.4043 H             1 Polymer \\n      41 H            2.0980     2.5092    -3.5639 H             1 Polymer \\n      42 H            2.1765    -0.3702    -2.4475 H             1 Polymer \\n      43 H            1.4880     1.0948    -1.6218 H             1 Polymer \\n      44 H           -0.1724     1.3593    -3.4196 H             1 Polymer \\n      45 H            0.4654    -0.1230    -4.2514 H             1 Polymer \\n      46 H           -0.0860    -1.5037    -2.2410 H             1 Polymer \\n      47 H           -0.6244    -0.0315    -1.3894 H             1 Polymer \\n      48 H           -2.6117    -1.4498    -2.3350 H             1 Polymer \\n      49 H           -1.8560    -1.3133    -3.8834 H             1 Polymer \\n      50 H           -2.7986     0.0938    -5.1674 H             1 Polymer \\n      51 C            3.6229     3.2381    -6.5725 C             1 Polymer \\n      52 C            2.3329     3.0406    -7.3649 C             1 Polymer \\n      53 C            1.4097     2.0328    -6.6765 C             1 Polymer \\n      54 C            0.1064     1.7956    -7.4478 C             1 Polymer \\n      55 C           -0.7355     0.7246    -6.7305 C             1 Polymer \\n      56 C           -2.1024     0.4401    -7.3964 C             1 Polymer \\n      57 C           -2.9875     1.6932    -7.3746 C             1 Polymer \\n      58 C           -3.5191     2.4968    -6.3268 C             1 Polymer \\n      59 S           -4.1577     3.8996    -7.1468 S             1 Polymer \\n      60 C           -3.7946     3.4031    -8.7679 C             1 Polymer \\n      61 C           -3.2428     2.1773    -8.6154 C             1 Polymer \\n      62 H            4.2817     3.9562    -7.1047 H             1 Polymer \\n      63 H            4.1633     2.2730    -6.4679 H             1 Polymer \\n      64 H            3.4003     3.6423    -5.5624 H             1 Polymer \\n      65 H            2.5975     2.6596    -8.3728 H             1 Polymer \\n      66 H            1.8175     4.0206    -7.4617 H             1 Polymer \\n      67 H            1.9487     1.0654    -6.5838 H             1 Polymer \\n      68 H            1.1509     2.4158    -5.6677 H             1 Polymer \\n      69 H           -0.4520     2.7569    -7.5034 H             1 Polymer \\n      70 H            0.3418     1.4432    -8.4730 H             1 Polymer \\n      71 H           -0.1569    -0.2225    -6.7080 H             1 Polymer \\n      72 H           -0.8677     1.0743    -5.6980 H             1 Polymer \\n      73 H           -2.6328    -0.4550    -7.0297 H             1 Polymer \\n      74 H           -1.8489     0.1078    -8.4265 H             1 Polymer \\n      75 H           -2.9469     1.5843    -9.3997 H             1 Polymer \\n      76 C            3.3727     4.6644   -10.4772 C             1 Polymer \\n      77 C            2.0937     4.5629   -11.3058 C             1 Polymer \\n      78 C            1.1238     3.5430   -10.7090 C             1 Polymer \\n      79 C           -0.1739     3.4281   -11.5205 C             1 Polymer \\n      80 C           -1.0477     2.3194   -10.9202 C             1 Polymer \\n      81 C           -2.4309     2.1596   -11.6023 C             1 Polymer \\n      82 C           -3.3083     3.3895   -11.3742 C             1 Polymer \\n      83 C           -3.8747     3.9818   -10.1961 C             1 Polymer \\n      84 S           -4.5538     5.4649   -10.7138 S             1 Polymer \\n      85 C           -4.1534     5.3168   -12.3764 C             1 Polymer \\n      86 C           -3.5486     4.1055   -12.5153 C             1 Polymer \\n      87 H            4.0665     5.3910   -10.9480 H             1 Polymer \\n      88 H            3.8782     3.6763   -10.4211 H             1 Polymer \\n      89 H            3.1404     5.0143    -9.4491 H             1 Polymer \\n      90 H            2.3612     4.2426   -12.3343 H             1 Polymer \\n      91 H            1.6116     5.5634   -11.3421 H             1 Polymer \\n      92 H            1.6310     2.5496   -10.6842 H             1 Polymer \\n      93 H            0.8699     3.8462    -9.6740 H             1 Polymer \\n      94 H           -0.7034     4.4054   -11.4797 H             1 Polymer \\n      95 H            0.0497     3.1788   -12.5799 H             1 Polymer \\n      96 H           -0.5028     1.3553   -11.0079 H             1 Polymer \\n      97 H           -1.1470     2.5626    -9.8538 H             1 Polymer \\n      98 H           -2.9754     1.2321   -11.3392 H             1 Polymer \\n      99 H           -2.2074     1.9858   -12.6768 H             1 Polymer \\n     100 H           -3.2131     3.7118   -13.4338 H             1 Polymer \\n     101 C            3.2910     6.1188   -14.3834 C             1 Polymer \\n     102 C            2.0147     6.3757   -15.1840 C             1 Polymer \\n     103 C            0.8555     5.5297   -14.6528 C             1 Polymer \\n     104 C           -0.4655     5.8209   -15.3909 C             1 Polymer \\n     105 C           -1.5381     4.8593   -14.8820 C             1 Polymer \\n     106 C           -2.9519     5.0535   -15.4957 C             1 Polymer \\n     107 C           -3.7896     6.1665   -14.8703 C             1 Polymer \\n     108 C           -4.3088     6.2645   -13.5292 C             1 Polymer \\n     109 S           -5.1643     7.7084   -13.4297 S             1 Polymer \\n     110 C           -4.9380     8.1997   -15.0225 C             1 Polymer \\n     111 C           -4.1667     7.2504   -15.6752 C             1 Polymer \\n     112 H            4.1219     6.7252   -14.7988 H             1 Polymer \\n     113 H            3.5756     5.0455   -14.4309 H             1 Polymer \\n     114 H            3.1431     6.4108   -13.3222 H             1 Polymer \\n     115 H            2.1957     6.1161   -16.2491 H             1 Polymer \\n     116 H            1.7577     7.4533   -15.1104 H             1 Polymer \\n     117 H            1.1248     4.4548   -14.7639 H             1 Polymer \\n     118 H            0.7048     5.7465   -13.5738 H             1 Polymer \\n     119 H           -0.7716     6.8719   -15.2057 H             1 Polymer \\n     120 H           -0.3334     5.6613   -16.4830 H             1 Polymer \\n     121 H           -1.1967     3.8328   -15.1474 H             1 Polymer \\n     122 H           -1.5566     4.9462   -13.7823 H             1 Polymer \\n     123 H           -3.5489     4.1222   -15.4183 H             1 Polymer \\n     124 H           -2.8223     5.1919   -16.5906 H             1 Polymer \\n     125 H           -3.8874     7.3430   -16.7151 H             1 Polymer \\n     126 H           -2.3021     2.2115     2.6486 H             1 Polymer \\n     127 H           -5.3243     9.1025   -15.4769 H             1 Polymer \\n@<TRIPOS>BOND\\n       1        2        1 1\\n       2       12        1 1\\n       3       13        1 1\\n       4       14        1 1\\n       5        3        2 1\\n       6       15        2 1\\n       7       16        2 1\\n       8        4        3 1\\n       9       17        3 1\\n      10       18        3 1\\n      11        5        4 1\\n      12       19        4 1\\n      13       20        4 1\\n      14        6        5 1\\n      15       21        5 1\\n      16       22        5 1\\n      17        7        6 1\\n      18       23        6 1\\n      19       24        6 1\\n      20        8        7 1\\n      21       11        7 1\\n      22        9        8 1\\n      23      126        8 1\\n      24       10        9 1\\n      25       11       10 1\\n      26       33       10 1\\n      27       25       11 1\\n      28       27       26 1\\n      29       37       26 1\\n      30       38       26 1\\n      31       39       26 1\\n      32       28       27 1\\n      33       40       27 1\\n      34       41       27 1\\n      35       29       28 1\\n      36       42       28 1\\n      37       43       28 1\\n      38       30       29 1\\n      39       44       29 1\\n      40       45       29 1\\n      41       31       30 1\\n      42       46       30 1\\n      43       47       30 1\\n      44       32       31 1\\n      45       48       31 1\\n      46       49       31 1\\n      47       33       32 1\\n      48       36       32 1\\n      49       34       33 1\\n      50       35       34 1\\n      51       36       35 1\\n      52       58       35 1\\n      53       50       36 1\\n      54       52       51 1\\n      55       62       51 1\\n      56       63       51 1\\n      57       64       51 1\\n      58       53       52 1\\n      59       65       52 1\\n      60       66       52 1\\n      61       54       53 1\\n      62       67       53 1\\n      63       68       53 1\\n      64       55       54 1\\n      65       69       54 1\\n      66       70       54 1\\n      67       56       55 1\\n      68       71       55 1\\n      69       72       55 1\\n      70       57       56 1\\n      71       73       56 1\\n      72       74       56 1\\n      73       58       57 1\\n      74       61       57 1\\n      75       59       58 1\\n      76       60       59 1\\n      77       61       60 1\\n      78       83       60 1\\n      79       75       61 1\\n      80       77       76 1\\n      81       87       76 1\\n      82       88       76 1\\n      83       89       76 1\\n      84       78       77 1\\n      85       90       77 1\\n      86       91       77 1\\n      87       79       78 1\\n      88       92       78 1\\n      89       93       78 1\\n      90       80       79 1\\n      91       94       79 1\\n      92       95       79 1\\n      93       81       80 1\\n      94       96       80 1\\n      95       97       80 1\\n      96       82       81 1\\n      97       98       81 1\\n      98       99       81 1\\n      99       83       82 1\\n     100       86       82 1\\n     101       84       83 1\\n     102       85       84 1\\n     103       86       85 1\\n     104      108       85 1\\n     105      100       86 1\\n     106      102      101 1\\n     107      112      101 1\\n     108      113      101 1\\n     109      114      101 1\\n     110      103      102 1\\n     111      115      102 1\\n     112      116      102 1\\n     113      104      103 1\\n     114      117      103 1\\n     115      118      103 1\\n     116      105      104 1\\n     117      119      104 1\\n     118      120      104 1\\n     119      106      105 1\\n     120      121      105 1\\n     121      122      105 1\\n     122      107      106 1\\n     123      123      106 1\\n     124      124      106 1\\n     125      108      107 1\\n     126      111      107 1\\n     127      109      108 1\\n     128      110      109 1\\n     129      111      110 1\\n     130      127      110 1\\n     131      125      111 1\\n@<TRIPOS>SUBSTRUCTURE\\n       1 Polymer         1 RESIDUE    0 **** ROOT      0\\n\",\"mol2\");\n",
       "\tviewer_16885923315483038.setStyle({\"stick\": {\"radius\": 0.2, \"color\": \"grey\"}, \"sphere\": {\"scale\": 0.3, \"colorscheme\": {}}});\n",
       "\tviewer_16885923315483038.zoomTo();\n",
       "viewer_16885923315483038.render();\n",
       "});\n",
       "</script>"
      ]
     },
     "metadata": {},
     "output_type": "display_data"
    },
    {
     "data": {
      "text/plain": [
       "<py3Dmol.view at 0x13ba14c40>"
      ]
     },
     "execution_count": 4,
     "metadata": {},
     "output_type": "execute_result"
    }
   ],
   "source": [
    "polymer = build_chain(monomer=p3ht,length=5,min_energy=True)\n",
    "polymer.visualize()"
   ]
  },
  {
   "cell_type": "code",
   "execution_count": null,
   "id": "ef002e8b",
   "metadata": {},
   "outputs": [],
   "source": []
  }
 ],
 "metadata": {
  "kernelspec": {
   "display_name": "Python 3 (ipykernel)",
   "language": "python",
   "name": "python3"
  },
  "language_info": {
   "codemirror_mode": {
    "name": "ipython",
    "version": 3
   },
   "file_extension": ".py",
   "mimetype": "text/x-python",
   "name": "python",
   "nbconvert_exporter": "python",
   "pygments_lexer": "ipython3",
   "version": "3.9.16"
  }
 },
 "nbformat": 4,
 "nbformat_minor": 5
}
