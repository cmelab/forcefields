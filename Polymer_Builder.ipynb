{
 "cells": [
  {
   "cell_type": "code",
   "execution_count": 1,
   "id": "22ddcf81",
   "metadata": {},
   "outputs": [
    {
     "name": "stderr",
     "output_type": "stream",
     "text": [
      "Warning: importing 'simtk.openmm' is deprecated.  Import 'openmm' instead.\n"
     ]
    }
   ],
   "source": [
    "import warnings \n",
    "warnings.filterwarnings('ignore')\n",
    "import mbuild as mb\n",
    "import numpy\n",
    "from mbuild.lib.recipes.polymer import Polymer\n",
    "\n",
    "def term_H(polymer,fragment):\n",
    "    if polymer[-2].name == 'H' and polymer[-1].name == 'H':\n",
    "        polymer[-2].name = fragment[-2].name\n",
    "        polymer[-1].name = fragment[-1].name\n",
    "    else:\n",
    "        print('Cant solve this')\n",
    "\n",
    "## this function will build your polymer chain for you. You feed it an instance of a monomer class \n",
    "##that has the indices where the bonds need to be formed.\n",
    "def build_chain(monomer, length,bond_indices, separation,replace,orientations,min_energy):\n",
    "    chain = Polymer()\n",
    "    chain.add_monomer(compound=monomer,\n",
    "                 indices=bond_indices,\n",
    "                 separation=separation,\n",
    "                 replace=replace,\n",
    "                 orientation=orientations)\n",
    "    chain.build(n=length)\n",
    "    term_H(polymer=chain,fragment=monomer)\n",
    "    if min_energy == True:\n",
    "        chain.energy_minimize()\n",
    "    return chain\n",
    "\n"
   ]
  },
  {
   "cell_type": "code",
   "execution_count": null,
   "id": "ff57c1a6",
   "metadata": {},
   "outputs": [],
   "source": [
    "pol = build_chain(monomer=mb.load('typed_mol2/PCPDTFBT_C4BO.mol2'),\n",
    "                      length=5,\n",
    "                      bond_indices=[-2,-1],\n",
    "                      separation=0.14,\n",
    "                      replace=True,\n",
    "                      orientations=[[0,0,1],[0,0,-1]],\n",
    "                      min_energy=True)\n",
    "pol.visualize()"
   ]
  },
  {
   "cell_type": "code",
   "execution_count": null,
   "id": "fd5c627e",
   "metadata": {},
   "outputs": [],
   "source": [
    "#pol.save('typed_mol2/test.mol2',overwrite=True)"
   ]
  },
  {
   "cell_type": "code",
   "execution_count": null,
   "id": "2190bdb2",
   "metadata": {},
   "outputs": [],
   "source": [
    "fragment = mb.load('typed_mol2/PCPDTPT_HD.mol2.mol2')\n",
    "fragment.visualize()"
   ]
  },
  {
   "cell_type": "code",
   "execution_count": null,
   "id": "7fdc709f",
   "metadata": {},
   "outputs": [],
   "source": [
    "for i in range(fragment.n_particles):\n",
    "    print(i, fragment[i].name)"
   ]
  },
  {
   "cell_type": "code",
   "execution_count": null,
   "id": "94855242",
   "metadata": {},
   "outputs": [],
   "source": [
    "for i in range(polymer.n_particles):\n",
    "    print(i,polymer[i].name)"
   ]
  },
  {
   "cell_type": "markdown",
   "id": "273acfca",
   "metadata": {},
   "source": [
    "# Example: P3HT"
   ]
  },
  {
   "cell_type": "markdown",
   "id": "c6174f0e",
   "metadata": {},
   "source": [
    "### make class of the monomer: \n",
    "#### the self.orientations, self.separation and self.replace should all be the same, but you'll need to determine which atomic indices are where you want to form your polymerization bond. For P3HT we want to replace the two hydrogens at indices 24 and 25 with polymer bonds.  "
   ]
  },
  {
   "cell_type": "code",
   "execution_count": null,
   "id": "6a77ac03",
   "metadata": {},
   "outputs": [],
   "source": [
    "class P3HT(mb.Compound):\n",
    "    def __init__(self):\n",
    "        super(P3HT,self).__init__()\n",
    "        self.add(mb.load(\"CCCCCCC1=C(SC(=C1))\",smiles=True))\n",
    "        self.bond_indices = [24,25]\n",
    "        self.orientations = [[0,0,1],[0,0,-1]]\n",
    "        self.separation = 0.14\n",
    "        self.replace = True"
   ]
  },
  {
   "cell_type": "markdown",
   "id": "c41a05ad",
   "metadata": {},
   "source": [
    "### Create an instance of the monomer from the class:"
   ]
  },
  {
   "cell_type": "code",
   "execution_count": null,
   "id": "dbed2401",
   "metadata": {},
   "outputs": [],
   "source": [
    "p3ht = P3HT()\n",
    "p3ht.visualize()"
   ]
  },
  {
   "cell_type": "code",
   "execution_count": null,
   "id": "333b0c43",
   "metadata": {},
   "outputs": [],
   "source": [
    "polymer = build_chain(monomer=p3ht,length=5,min_energy=True)\n",
    "polymer.visualize()"
   ]
  },
  {
   "cell_type": "code",
   "execution_count": null,
   "id": "ef002e8b",
   "metadata": {},
   "outputs": [],
   "source": []
  }
 ],
 "metadata": {
  "kernelspec": {
   "display_name": "Python 3 (ipykernel)",
   "language": "python",
   "name": "python3"
  },
  "language_info": {
   "codemirror_mode": {
    "name": "ipython",
    "version": 3
   },
   "file_extension": ".py",
   "mimetype": "text/x-python",
   "name": "python",
   "nbconvert_exporter": "python",
   "pygments_lexer": "ipython3",
   "version": "3.9.16"
  }
 },
 "nbformat": 4,
 "nbformat_minor": 5
}
