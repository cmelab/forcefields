{
 "cells": [
  {
   "cell_type": "code",
   "execution_count": 1,
   "id": "538feb4b",
   "metadata": {
    "scrolled": true
   },
   "outputs": [
    {
     "name": "stderr",
     "output_type": "stream",
     "text": [
      "Warning: importing 'simtk.openmm' is deprecated.  Import 'openmm' instead.\n",
      "/Users/madilyn/miniconda3/envs/espaloma/lib/python3.9/site-packages/qcelemental/models/results.py:788: DeprecationWarning: ResultProtocols has been renamed to AtomicResultProtocols and will be removed as soon as v0.13.0\n",
      "  warn(\n",
      "/Users/madilyn/miniconda3/envs/espaloma/lib/python3.9/site-packages/qcelemental/models/results.py:788: DeprecationWarning: ResultProtocols has been renamed to AtomicResultProtocols and will be removed as soon as v0.13.0\n",
      "  warn(\n",
      "LICENSE: Could not open license file \"oe_license.txt\" in local directory\n",
      "LICENSE: N.B. OE_LICENSE environment variable is not set\n",
      "LICENSE: N.B. OE_DIR environment variable is not set\n",
      "LICENSE: No product keys!\n",
      "LICENSE: No product keys!\n",
      "LICENSE: No product keys!\n",
      "Warning: Unable to load toolkit 'OpenEye Toolkit'. The Open Force Field Toolkit does not require the OpenEye Toolkits, and can use RDKit/AmberTools instead. However, if you have a valid license for the OpenEye Toolkits, consider installing them for faster performance and additional file format support: https://docs.eyesopen.com/toolkits/python/quickstart-python/linuxosx.html OpenEye offers free Toolkit licenses for academics: https://www.eyesopen.com/academic-licensing\n",
      "LICENSE: No product keys!\n"
     ]
    }
   ],
   "source": [
    "from writers import foyer_xml_writer\n",
    "from writers.foyer_xml_writer import parmed_to_foyer_xml, mbuild_to_foyer_xml\n",
    "\n",
    "\n",
    "import ele\n",
    "import espaloma as esp\n",
    "import forcefield_utilities as ffutils\n",
    "import foyer\n",
    "import gmso\n",
    "import mbuild as mb\n",
    "from mbuild.lib.recipes import Polymer\n",
    "from mbuild.formats.hoomd_forcefield import create_hoomd_forcefield\n",
    "import numpy as np\n",
    "from openff.toolkit.topology import Molecule\n",
    "import torch\n",
    "\n",
    "\n",
    "import os\n",
    "import warnings\n",
    "warnings.filterwarnings(\"ignore\")\n",
    "\n",
    "if not os.path.exists(\"espaloma_model.pt\"):\n",
    "    os.system(\"wget http://data.wangyq.net/espaloma_model.pt\")"
   ]
  },
  {
   "cell_type": "code",
   "execution_count": 2,
   "id": "c3eebc8a",
   "metadata": {
    "scrolled": true
   },
   "outputs": [
    {
     "data": {
      "application/3dmoljs_load.v0": "<div id=\"3dmolviewer_1669658155354335\"  style=\"position: relative; width: 640px; height: 480px\">\n        <p id=\"3dmolwarning_1669658155354335\" style=\"background-color:#ffcccc;color:black\">You appear to be running in JupyterLab (or JavaScript failed to load for some other reason).  You need to install the 3dmol extension: <br>\n        <tt>jupyter labextension install jupyterlab_3dmol</tt></p>\n        </div>\n<script>\n\nvar loadScriptAsync = function(uri){\n  return new Promise((resolve, reject) => {\n    var tag = document.createElement('script');\n    tag.src = uri;\n    tag.async = true;\n    tag.onload = () => {\n      resolve();\n    };\n  var firstScriptTag = document.getElementsByTagName('script')[0];\n  firstScriptTag.parentNode.insertBefore(tag, firstScriptTag);\n});\n};\n\nif(typeof $3Dmolpromise === 'undefined') {\n$3Dmolpromise = null;\n  $3Dmolpromise = loadScriptAsync('https://cdn.jsdelivr.net/npm/3dmol@latest/build/3Dmol-min.min.js');\n}\n\nvar viewer_1669658155354335 = null;\nvar warn = document.getElementById(\"3dmolwarning_1669658155354335\");\nif(warn) {\n    warn.parentNode.removeChild(warn);\n}\n$3Dmolpromise.then(function() {\nviewer_1669658155354335 = $3Dmol.createViewer($(\"#3dmolviewer_1669658155354335\"),{backgroundColor:\"white\"});\nviewer_1669658155354335.zoomTo();\n\tviewer_1669658155354335.addModel(\"@<TRIPOS>MOLECULE\\nRES\\n9 9 1 0 1\\nSMALL\\nNO_CHARGES\\n@<TRIPOS>CRYSIN\\n    9.6125     8.2934     5.3538    90.0000    90.0000    90.0000  1  1\\n@<TRIPOS>ATOM\\n       1 C            0.6984    -0.6804    -0.0481 C             1 RES     \\n       2 C           -0.6978    -0.6802     0.0590 C             1 RES     \\n       3 C           -1.2527     0.5915     0.0914 C             1 RES     \\n       4 S           -0.0008     1.7078    -0.0136 S             1 RES     \\n       5 C            1.2521     0.5911    -0.1008 C             1 RES     \\n       6 H            1.2897    -1.5856    -0.0862 H             1 RES     \\n       7 H           -1.2882    -1.5852     0.1114 H             1 RES     \\n       8 H           -2.3066     0.8209     0.1704 H             1 RES     \\n       9 H            2.3059     0.8202    -0.1834 H             1 RES     \\n@<TRIPOS>BOND\\n       1        2        1 1\\n       2        5        1 1\\n       3        6        1 1\\n       4        3        2 1\\n       5        7        2 1\\n       6        4        3 1\\n       7        8        3 1\\n       8        5        4 1\\n       9        9        5 1\\n@<TRIPOS>SUBSTRUCTURE\\n       1 RES             1 RESIDUE    0 **** ROOT      0\\n\",\"mol2\");\n\tviewer_1669658155354335.setStyle({\"stick\": {\"radius\": 0.2, \"color\": \"grey\"}, \"sphere\": {\"scale\": 0.3, \"colorscheme\": {}}});\n\tviewer_1669658155354335.zoomTo();\nviewer_1669658155354335.render();\n});\n</script>",
      "text/html": [
       "<div id=\"3dmolviewer_1669658155354335\"  style=\"position: relative; width: 640px; height: 480px\">\n",
       "        <p id=\"3dmolwarning_1669658155354335\" style=\"background-color:#ffcccc;color:black\">You appear to be running in JupyterLab (or JavaScript failed to load for some other reason).  You need to install the 3dmol extension: <br>\n",
       "        <tt>jupyter labextension install jupyterlab_3dmol</tt></p>\n",
       "        </div>\n",
       "<script>\n",
       "\n",
       "var loadScriptAsync = function(uri){\n",
       "  return new Promise((resolve, reject) => {\n",
       "    var tag = document.createElement('script');\n",
       "    tag.src = uri;\n",
       "    tag.async = true;\n",
       "    tag.onload = () => {\n",
       "      resolve();\n",
       "    };\n",
       "  var firstScriptTag = document.getElementsByTagName('script')[0];\n",
       "  firstScriptTag.parentNode.insertBefore(tag, firstScriptTag);\n",
       "});\n",
       "};\n",
       "\n",
       "if(typeof $3Dmolpromise === 'undefined') {\n",
       "$3Dmolpromise = null;\n",
       "  $3Dmolpromise = loadScriptAsync('https://cdn.jsdelivr.net/npm/3dmol@latest/build/3Dmol-min.min.js');\n",
       "}\n",
       "\n",
       "var viewer_1669658155354335 = null;\n",
       "var warn = document.getElementById(\"3dmolwarning_1669658155354335\");\n",
       "if(warn) {\n",
       "    warn.parentNode.removeChild(warn);\n",
       "}\n",
       "$3Dmolpromise.then(function() {\n",
       "viewer_1669658155354335 = $3Dmol.createViewer($(\"#3dmolviewer_1669658155354335\"),{backgroundColor:\"white\"});\n",
       "viewer_1669658155354335.zoomTo();\n",
       "\tviewer_1669658155354335.addModel(\"@<TRIPOS>MOLECULE\\nRES\\n9 9 1 0 1\\nSMALL\\nNO_CHARGES\\n@<TRIPOS>CRYSIN\\n    9.6125     8.2934     5.3538    90.0000    90.0000    90.0000  1  1\\n@<TRIPOS>ATOM\\n       1 C            0.6984    -0.6804    -0.0481 C             1 RES     \\n       2 C           -0.6978    -0.6802     0.0590 C             1 RES     \\n       3 C           -1.2527     0.5915     0.0914 C             1 RES     \\n       4 S           -0.0008     1.7078    -0.0136 S             1 RES     \\n       5 C            1.2521     0.5911    -0.1008 C             1 RES     \\n       6 H            1.2897    -1.5856    -0.0862 H             1 RES     \\n       7 H           -1.2882    -1.5852     0.1114 H             1 RES     \\n       8 H           -2.3066     0.8209     0.1704 H             1 RES     \\n       9 H            2.3059     0.8202    -0.1834 H             1 RES     \\n@<TRIPOS>BOND\\n       1        2        1 1\\n       2        5        1 1\\n       3        6        1 1\\n       4        3        2 1\\n       5        7        2 1\\n       6        4        3 1\\n       7        8        3 1\\n       8        5        4 1\\n       9        9        5 1\\n@<TRIPOS>SUBSTRUCTURE\\n       1 RES             1 RESIDUE    0 **** ROOT      0\\n\",\"mol2\");\n",
       "\tviewer_1669658155354335.setStyle({\"stick\": {\"radius\": 0.2, \"color\": \"grey\"}, \"sphere\": {\"scale\": 0.3, \"colorscheme\": {}}});\n",
       "\tviewer_1669658155354335.zoomTo();\n",
       "viewer_1669658155354335.render();\n",
       "});\n",
       "</script>"
      ]
     },
     "metadata": {},
     "output_type": "display_data"
    }
   ],
   "source": [
    "# Use espaloma to find the FF parameters for Benzene\n",
    "smiles = \"c1ccsc1\"\n",
    "thiophene = mb.load(smiles, smiles=True)\n",
    "thiophene.visualize().show()\n",
    "\n",
    "molecule = Molecule.from_smiles(smiles) #molecule is benzene\n",
    "molecule_graph = esp.Graph(molecule)\n",
    "\n",
    "espaloma_model = torch.load(\"espaloma_model.pt\")\n",
    "espaloma_model(molecule_graph.heterograph)\n",
    "openmm_system = esp.graphs.deploy.openmm_system_from_graph(molecule_graph)\n",
    "\n",
    "# Store the results for each in something more accessible\n",
    "pair_forces = openmm_system.getForces()[1]\n",
    "angle_forces = openmm_system.getForces()[3]\n",
    "bond_forces = openmm_system.getForces()[2]\n",
    "torsion_forces = openmm_system.getForces()[0]"
   ]
  },
  {
   "cell_type": "code",
   "execution_count": 3,
   "id": "ec6cfe57",
   "metadata": {},
   "outputs": [],
   "source": [
    "# get a parmed structure from openmm \n",
    "import parmed as pmd\n",
    "topology = molecule.to_topology()\n",
    "openmm_topology = topology.to_openmm()\n",
    "\n",
    "structure = pmd.openmm.load_topology(topology=openmm_topology, system=openmm_system)\n",
    "structure.bonds.sort(key=lambda x: x.atom1.idx)"
   ]
  },
  {
   "cell_type": "code",
   "execution_count": null,
   "id": "22e9adf9",
   "metadata": {},
   "outputs": [],
   "source": [
    "#structure.bonds"
   ]
  },
  {
   "cell_type": "code",
   "execution_count": 4,
   "id": "1b98eb25",
   "metadata": {},
   "outputs": [],
   "source": [
    "# step 1: how to get bond parameters\n",
    "\n",
    "bond_parameters = {}\n",
    "\n",
    "for bond in structure.bonds:\n",
    "    bond_parameters[(bond.atom1.name, bond.atom2.name)] = {\"k\":[bond.type.k] , \"l0\":[bond.type.req]}"
   ]
  },
  {
   "cell_type": "code",
   "execution_count": null,
   "id": "8dafbf64",
   "metadata": {
    "scrolled": true
   },
   "outputs": [],
   "source": [
    "#bond_parameters"
   ]
  },
  {
   "cell_type": "code",
   "execution_count": null,
   "id": "c2512b1c",
   "metadata": {},
   "outputs": [],
   "source": [
    "#structure.angles"
   ]
  },
  {
   "cell_type": "code",
   "execution_count": 5,
   "id": "11e32418",
   "metadata": {},
   "outputs": [],
   "source": [
    "# step 2: get angle parameters\n",
    "\n",
    "angle_parameters = {}\n",
    "\n",
    "for angle in structure.angles:\n",
    "    angle_parameters[(angle.atom1.name, angle.atom2.name,angle.atom3.name)] = {\"k\":[angle.type.k], \n",
    "                                                                               \"t0\":[angle.type.theteq]}"
   ]
  },
  {
   "cell_type": "code",
   "execution_count": null,
   "id": "e30185cd",
   "metadata": {
    "scrolled": true
   },
   "outputs": [],
   "source": [
    "#angle_parameters"
   ]
  },
  {
   "cell_type": "code",
   "execution_count": null,
   "id": "1d751789",
   "metadata": {},
   "outputs": [],
   "source": [
    "#structure.dihedrals"
   ]
  },
  {
   "cell_type": "code",
   "execution_count": 6,
   "id": "61937fe9",
   "metadata": {},
   "outputs": [],
   "source": [
    "# step 3: dihedral parameters\n",
    "\n",
    "dihedral_parameters = {}\n",
    "\n",
    "for dihedral in structure.dihedrals:\n",
    "    dihedral_parameters[(dihedral.atom1.name, dihedral.atom2.name,dihedral.atom3.name,\n",
    "                         dihedral.atom4.name)] = {\"periodicity\":[dihedral.type.per],\n",
    "                                                  \"k\":[dihedral.type.phi_k],\"phase\":[dihedral.type.phase]}"
   ]
  },
  {
   "cell_type": "code",
   "execution_count": null,
   "id": "47f0ca72",
   "metadata": {
    "scrolled": false
   },
   "outputs": [],
   "source": [
    "#dihedral_parameters\n",
    "#structure.adjusts"
   ]
  },
  {
   "cell_type": "code",
   "execution_count": 7,
   "id": "06b23b34",
   "metadata": {},
   "outputs": [],
   "source": [
    "# step 4: non-bonding parameters\n",
    "#non_bonded_parameters = {\n",
    "#    \"A\": {\"sigma\": 1.0, \"epsilon\": 1.0, \"charge\": 0}\n",
    "#}\n",
    "\n",
    "nonbonded_parameters = {}\n",
    "\n",
    "for nonbonded in structure.adjusts:\n",
    "    nonbonded_parameters[(nonbonded.atom1.name,nonbonded.atom2.name)] = {\"sigma\":[nonbonded.type.rmin],\n",
    "                                                  \"epsilon\":[nonbonded.type.epsilon],\"charge\":[nonbonded.type.chgscale]}"
   ]
  },
  {
   "cell_type": "code",
   "execution_count": null,
   "id": "c09cf7dc",
   "metadata": {},
   "outputs": [],
   "source": [
    "#nonbonded_parameters"
   ]
  },
  {
   "cell_type": "code",
   "execution_count": 8,
   "id": "3734a7f4",
   "metadata": {},
   "outputs": [],
   "source": [
    "mbuild_to_foyer_xml(\n",
    "    file_name=\"thiophene_esp.xml\",\n",
    "    compound=thiophene,\n",
    "    bond_params=bond_parameters,\n",
    "    angle_params=angle_parameters,\n",
    "    dihedral_params=dihedral_parameters,\n",
    "    dihedral_type=\"periodic\",\n",
    "    non_bonded_params=nonbonded_parameters,\n",
    "    combining_rule=\"geometric\",\n",
    "    name=\"\",\n",
    "    version=\"\",\n",
    "    coulomb14scale=1.0,\n",
    "    lj14scale=1.0)"
   ]
  },
  {
   "cell_type": "code",
   "execution_count": null,
   "id": "5851dd5c",
   "metadata": {},
   "outputs": [],
   "source": [
    "structure.atoms"
   ]
  },
  {
   "cell_type": "code",
   "execution_count": null,
   "id": "61488d12",
   "metadata": {},
   "outputs": [],
   "source": []
  }
 ],
 "metadata": {
  "kernelspec": {
   "display_name": "Python 3 (ipykernel)",
   "language": "python",
   "name": "python3"
  },
  "language_info": {
   "codemirror_mode": {
    "name": "ipython",
    "version": 3
   },
   "file_extension": ".py",
   "mimetype": "text/x-python",
   "name": "python",
   "nbconvert_exporter": "python",
   "pygments_lexer": "ipython3",
   "version": "3.9.13"
  }
 },
 "nbformat": 4,
 "nbformat_minor": 5
}
