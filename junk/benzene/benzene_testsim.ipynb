{
 "cells": [
  {
   "cell_type": "code",
   "execution_count": 1,
   "id": "228de95e",
   "metadata": {},
   "outputs": [
    {
     "name": "stderr",
     "output_type": "stream",
     "text": [
      "Warning: importing 'simtk.openmm' is deprecated.  Import 'openmm' instead.\n"
     ]
    }
   ],
   "source": [
    "import mbuild as mb\n",
    "import warnings \n",
    "warnings.filterwarnings('ignore')\n",
    "import hoomd\n",
    "import foyer\n",
    "import gsd.hoomd\n",
    "from mbuild.formats.hoomd_forcefield import create_hoomd_forcefield"
   ]
  },
  {
   "cell_type": "code",
   "execution_count": 2,
   "id": "2f157532",
   "metadata": {},
   "outputs": [
    {
     "data": {
      "application/3dmoljs_load.v0": "<div id=\"3dmolviewer_1671752491625359\"  style=\"position: relative; width: 640px; height: 480px\">\n        <p id=\"3dmolwarning_1671752491625359\" style=\"background-color:#ffcccc;color:black\">You appear to be running in JupyterLab (or JavaScript failed to load for some other reason).  You need to install the 3dmol extension: <br>\n        <tt>jupyter labextension install jupyterlab_3dmol</tt></p>\n        </div>\n<script>\n\nvar loadScriptAsync = function(uri){\n  return new Promise((resolve, reject) => {\n    var tag = document.createElement('script');\n    tag.src = uri;\n    tag.async = true;\n    tag.onload = () => {\n      resolve();\n    };\n  var firstScriptTag = document.getElementsByTagName('script')[0];\n  firstScriptTag.parentNode.insertBefore(tag, firstScriptTag);\n});\n};\n\nif(typeof $3Dmolpromise === 'undefined') {\n$3Dmolpromise = null;\n  $3Dmolpromise = loadScriptAsync('https://cdn.jsdelivr.net/npm/3dmol@latest/build/3Dmol-min.min.js');\n}\n\nvar viewer_1671752491625359 = null;\nvar warn = document.getElementById(\"3dmolwarning_1671752491625359\");\nif(warn) {\n    warn.parentNode.removeChild(warn);\n}\n$3Dmolpromise.then(function() {\nviewer_1671752491625359 = $3Dmol.createViewer($(\"#3dmolviewer_1671752491625359\"),{backgroundColor:\"white\"});\nviewer_1671752491625359.zoomTo();\n\tviewer_1671752491625359.addModel(\"@<TRIPOS>MOLECULE\\nRES\\n12 12 1 0 1\\nSMALL\\nNO_CHARGES\\n@<TRIPOS>CRYSIN\\n    9.3455     9.9325     5.5369    90.0000    90.0000    90.0000  1  1\\n@<TRIPOS>ATOM\\n       1 C           -1.2250     0.6633    -0.1287 C             1 RES     \\n       2 C           -1.1950    -0.7272     0.0226 C             1 RES     \\n       3 C            0.0300    -1.3905     0.1513 C             1 RES     \\n       4 C            1.2250    -0.6633     0.1287 C             1 RES     \\n       5 C            1.1950     0.7272    -0.0226 C             1 RES     \\n       6 C           -0.0300     1.3905    -0.1513 C             1 RES     \\n       7 H           -2.1728     1.1765    -0.2283 H             1 RES     \\n       8 H           -2.1195    -1.2897     0.0401 H             1 RES     \\n       9 H            0.0533    -2.4662     0.2684 H             1 RES     \\n      10 H            2.1728    -1.1765     0.2283 H             1 RES     \\n      11 H            2.1195     1.2897    -0.0401 H             1 RES     \\n      12 H           -0.0533     2.4662    -0.2684 H             1 RES     \\n@<TRIPOS>BOND\\n       1        2        1 1\\n       2        6        1 1\\n       3        7        1 1\\n       4        3        2 1\\n       5        8        2 1\\n       6        4        3 1\\n       7        9        3 1\\n       8        5        4 1\\n       9       10        4 1\\n      10        6        5 1\\n      11       11        5 1\\n      12       12        6 1\\n@<TRIPOS>SUBSTRUCTURE\\n       1 RES             1 RESIDUE    0 **** ROOT      0\\n\",\"mol2\");\n\tviewer_1671752491625359.setStyle({\"stick\": {\"radius\": 0.2, \"color\": \"grey\"}, \"sphere\": {\"scale\": 0.3, \"colorscheme\": {}}});\n\tviewer_1671752491625359.zoomTo();\nviewer_1671752491625359.render();\n});\n</script>",
      "text/html": [
       "<div id=\"3dmolviewer_1671752491625359\"  style=\"position: relative; width: 640px; height: 480px\">\n",
       "        <p id=\"3dmolwarning_1671752491625359\" style=\"background-color:#ffcccc;color:black\">You appear to be running in JupyterLab (or JavaScript failed to load for some other reason).  You need to install the 3dmol extension: <br>\n",
       "        <tt>jupyter labextension install jupyterlab_3dmol</tt></p>\n",
       "        </div>\n",
       "<script>\n",
       "\n",
       "var loadScriptAsync = function(uri){\n",
       "  return new Promise((resolve, reject) => {\n",
       "    var tag = document.createElement('script');\n",
       "    tag.src = uri;\n",
       "    tag.async = true;\n",
       "    tag.onload = () => {\n",
       "      resolve();\n",
       "    };\n",
       "  var firstScriptTag = document.getElementsByTagName('script')[0];\n",
       "  firstScriptTag.parentNode.insertBefore(tag, firstScriptTag);\n",
       "});\n",
       "};\n",
       "\n",
       "if(typeof $3Dmolpromise === 'undefined') {\n",
       "$3Dmolpromise = null;\n",
       "  $3Dmolpromise = loadScriptAsync('https://cdn.jsdelivr.net/npm/3dmol@latest/build/3Dmol-min.min.js');\n",
       "}\n",
       "\n",
       "var viewer_1671752491625359 = null;\n",
       "var warn = document.getElementById(\"3dmolwarning_1671752491625359\");\n",
       "if(warn) {\n",
       "    warn.parentNode.removeChild(warn);\n",
       "}\n",
       "$3Dmolpromise.then(function() {\n",
       "viewer_1671752491625359 = $3Dmol.createViewer($(\"#3dmolviewer_1671752491625359\"),{backgroundColor:\"white\"});\n",
       "viewer_1671752491625359.zoomTo();\n",
       "\tviewer_1671752491625359.addModel(\"@<TRIPOS>MOLECULE\\nRES\\n12 12 1 0 1\\nSMALL\\nNO_CHARGES\\n@<TRIPOS>CRYSIN\\n    9.3455     9.9325     5.5369    90.0000    90.0000    90.0000  1  1\\n@<TRIPOS>ATOM\\n       1 C           -1.2250     0.6633    -0.1287 C             1 RES     \\n       2 C           -1.1950    -0.7272     0.0226 C             1 RES     \\n       3 C            0.0300    -1.3905     0.1513 C             1 RES     \\n       4 C            1.2250    -0.6633     0.1287 C             1 RES     \\n       5 C            1.1950     0.7272    -0.0226 C             1 RES     \\n       6 C           -0.0300     1.3905    -0.1513 C             1 RES     \\n       7 H           -2.1728     1.1765    -0.2283 H             1 RES     \\n       8 H           -2.1195    -1.2897     0.0401 H             1 RES     \\n       9 H            0.0533    -2.4662     0.2684 H             1 RES     \\n      10 H            2.1728    -1.1765     0.2283 H             1 RES     \\n      11 H            2.1195     1.2897    -0.0401 H             1 RES     \\n      12 H           -0.0533     2.4662    -0.2684 H             1 RES     \\n@<TRIPOS>BOND\\n       1        2        1 1\\n       2        6        1 1\\n       3        7        1 1\\n       4        3        2 1\\n       5        8        2 1\\n       6        4        3 1\\n       7        9        3 1\\n       8        5        4 1\\n       9       10        4 1\\n      10        6        5 1\\n      11       11        5 1\\n      12       12        6 1\\n@<TRIPOS>SUBSTRUCTURE\\n       1 RES             1 RESIDUE    0 **** ROOT      0\\n\",\"mol2\");\n",
       "\tviewer_1671752491625359.setStyle({\"stick\": {\"radius\": 0.2, \"color\": \"grey\"}, \"sphere\": {\"scale\": 0.3, \"colorscheme\": {}}});\n",
       "\tviewer_1671752491625359.zoomTo();\n",
       "viewer_1671752491625359.render();\n",
       "});\n",
       "</script>"
      ]
     },
     "metadata": {},
     "output_type": "display_data"
    },
    {
     "data": {
      "text/plain": [
       "<py3Dmol.view at 0x145f6c5e0>"
      ]
     },
     "execution_count": 2,
     "metadata": {},
     "output_type": "execute_result"
    }
   ],
   "source": [
    "benzene = mb.load('c1ccccc1',smiles=True)\n",
    "benzene.visualize()"
   ]
  },
  {
   "cell_type": "code",
   "execution_count": 3,
   "id": "5b20b550",
   "metadata": {},
   "outputs": [
    {
     "data": {
      "application/3dmoljs_load.v0": "<div id=\"3dmolviewer_1671752491723679\"  style=\"position: relative; width: 640px; height: 480px\">\n        <p id=\"3dmolwarning_1671752491723679\" style=\"background-color:#ffcccc;color:black\">You appear to be running in JupyterLab (or JavaScript failed to load for some other reason).  You need to install the 3dmol extension: <br>\n        <tt>jupyter labextension install jupyterlab_3dmol</tt></p>\n        </div>\n<script>\n\nvar loadScriptAsync = function(uri){\n  return new Promise((resolve, reject) => {\n    var tag = document.createElement('script');\n    tag.src = uri;\n    tag.async = true;\n    tag.onload = () => {\n      resolve();\n    };\n  var firstScriptTag = document.getElementsByTagName('script')[0];\n  firstScriptTag.parentNode.insertBefore(tag, firstScriptTag);\n});\n};\n\nif(typeof $3Dmolpromise === 'undefined') {\n$3Dmolpromise = null;\n  $3Dmolpromise = loadScriptAsync('https://cdn.jsdelivr.net/npm/3dmol@latest/build/3Dmol-min.min.js');\n}\n\nvar viewer_1671752491723679 = null;\nvar warn = document.getElementById(\"3dmolwarning_1671752491723679\");\nif(warn) {\n    warn.parentNode.removeChild(warn);\n}\n$3Dmolpromise.then(function() {\nviewer_1671752491723679 = $3Dmol.createViewer($(\"#3dmolviewer_1671752491723679\"),{backgroundColor:\"white\"});\nviewer_1671752491723679.zoomTo();\n\tviewer_1671752491723679.addModel(\"@<TRIPOS>MOLECULE\\nRES\\n12 12 1 0 1\\nSMALL\\nNO_CHARGES\\n@<TRIPOS>CRYSIN\\n  234.9593   234.9593   234.9593    90.0000    90.0000    90.0000  1  1\\n@<TRIPOS>ATOM\\n       1 C            5.4435    24.0625   220.3463 C             1 RES     \\n       2 C            4.3280    23.3875   219.8390 C             1 RES     \\n       3 C            3.1009    24.0500   219.7268 C             1 RES     \\n       4 C            2.9893    25.3875   220.1219 C             1 RES     \\n       5 C            4.1048    26.0624   220.6292 C             1 RES     \\n       6 C            5.3320    25.3999   220.7414 C             1 RES     \\n       7 H            6.3928    23.5499   220.4331 H             1 RES     \\n       8 H            4.4143    22.3528   219.5333 H             1 RES     \\n       9 H            2.2378    23.5279   219.3343 H             1 RES     \\n      10 H            2.0400    25.9000   220.0351 H             1 RES     \\n      11 H            4.0185    27.0971   220.9348 H             1 RES     \\n      12 H            6.1950    25.9221   221.1338 H             1 RES     \\n@<TRIPOS>BOND\\n       1        2        1 1\\n       2        6        1 1\\n       3        7        1 1\\n       4        3        2 1\\n       5        8        2 1\\n       6        4        3 1\\n       7        9        3 1\\n       8        5        4 1\\n       9       10        4 1\\n      10        6        5 1\\n      11       11        5 1\\n      12       12        6 1\\n@<TRIPOS>SUBSTRUCTURE\\n       1 RES             1 RESIDUE    0 **** ROOT      0\\n\",\"mol2\");\n\tviewer_1671752491723679.setStyle({\"stick\": {\"radius\": 0.2, \"color\": \"grey\"}, \"sphere\": {\"scale\": 0.3, \"colorscheme\": {}}});\n\tviewer_1671752491723679.zoomTo();\nviewer_1671752491723679.render();\n});\n</script>",
      "text/html": [
       "<div id=\"3dmolviewer_1671752491723679\"  style=\"position: relative; width: 640px; height: 480px\">\n",
       "        <p id=\"3dmolwarning_1671752491723679\" style=\"background-color:#ffcccc;color:black\">You appear to be running in JupyterLab (or JavaScript failed to load for some other reason).  You need to install the 3dmol extension: <br>\n",
       "        <tt>jupyter labextension install jupyterlab_3dmol</tt></p>\n",
       "        </div>\n",
       "<script>\n",
       "\n",
       "var loadScriptAsync = function(uri){\n",
       "  return new Promise((resolve, reject) => {\n",
       "    var tag = document.createElement('script');\n",
       "    tag.src = uri;\n",
       "    tag.async = true;\n",
       "    tag.onload = () => {\n",
       "      resolve();\n",
       "    };\n",
       "  var firstScriptTag = document.getElementsByTagName('script')[0];\n",
       "  firstScriptTag.parentNode.insertBefore(tag, firstScriptTag);\n",
       "});\n",
       "};\n",
       "\n",
       "if(typeof $3Dmolpromise === 'undefined') {\n",
       "$3Dmolpromise = null;\n",
       "  $3Dmolpromise = loadScriptAsync('https://cdn.jsdelivr.net/npm/3dmol@latest/build/3Dmol-min.min.js');\n",
       "}\n",
       "\n",
       "var viewer_1671752491723679 = null;\n",
       "var warn = document.getElementById(\"3dmolwarning_1671752491723679\");\n",
       "if(warn) {\n",
       "    warn.parentNode.removeChild(warn);\n",
       "}\n",
       "$3Dmolpromise.then(function() {\n",
       "viewer_1671752491723679 = $3Dmol.createViewer($(\"#3dmolviewer_1671752491723679\"),{backgroundColor:\"white\"});\n",
       "viewer_1671752491723679.zoomTo();\n",
       "\tviewer_1671752491723679.addModel(\"@<TRIPOS>MOLECULE\\nRES\\n12 12 1 0 1\\nSMALL\\nNO_CHARGES\\n@<TRIPOS>CRYSIN\\n  234.9593   234.9593   234.9593    90.0000    90.0000    90.0000  1  1\\n@<TRIPOS>ATOM\\n       1 C            5.4435    24.0625   220.3463 C             1 RES     \\n       2 C            4.3280    23.3875   219.8390 C             1 RES     \\n       3 C            3.1009    24.0500   219.7268 C             1 RES     \\n       4 C            2.9893    25.3875   220.1219 C             1 RES     \\n       5 C            4.1048    26.0624   220.6292 C             1 RES     \\n       6 C            5.3320    25.3999   220.7414 C             1 RES     \\n       7 H            6.3928    23.5499   220.4331 H             1 RES     \\n       8 H            4.4143    22.3528   219.5333 H             1 RES     \\n       9 H            2.2378    23.5279   219.3343 H             1 RES     \\n      10 H            2.0400    25.9000   220.0351 H             1 RES     \\n      11 H            4.0185    27.0971   220.9348 H             1 RES     \\n      12 H            6.1950    25.9221   221.1338 H             1 RES     \\n@<TRIPOS>BOND\\n       1        2        1 1\\n       2        6        1 1\\n       3        7        1 1\\n       4        3        2 1\\n       5        8        2 1\\n       6        4        3 1\\n       7        9        3 1\\n       8        5        4 1\\n       9       10        4 1\\n      10        6        5 1\\n      11       11        5 1\\n      12       12        6 1\\n@<TRIPOS>SUBSTRUCTURE\\n       1 RES             1 RESIDUE    0 **** ROOT      0\\n\",\"mol2\");\n",
       "\tviewer_1671752491723679.setStyle({\"stick\": {\"radius\": 0.2, \"color\": \"grey\"}, \"sphere\": {\"scale\": 0.3, \"colorscheme\": {}}});\n",
       "\tviewer_1671752491723679.zoomTo();\n",
       "viewer_1671752491723679.render();\n",
       "});\n",
       "</script>"
      ]
     },
     "metadata": {},
     "output_type": "display_data"
    },
    {
     "data": {
      "text/plain": [
       "<py3Dmol.view at 0x146132850>"
      ]
     },
     "execution_count": 3,
     "metadata": {},
     "output_type": "execute_result"
    }
   ],
   "source": [
    "box = mb.fill_box(compound = benzene,\n",
    "                 n_compounds=1, \n",
    "                 density=0.01)\n",
    "box.visualize()"
   ]
  },
  {
   "cell_type": "code",
   "execution_count": 4,
   "id": "1e1892a4",
   "metadata": {},
   "outputs": [],
   "source": [
    "esp = foyer.Forcefield(forcefield_files=\"/Users/madilyn/Projects/repos/forcefields/benzene_esp.xml\")"
   ]
  },
  {
   "cell_type": "code",
   "execution_count": 5,
   "id": "fd38ec83",
   "metadata": {},
   "outputs": [
    {
     "ename": "FoyerError",
     "evalue": "Found no types for atom 0 (6).",
     "output_type": "error",
     "traceback": [
      "\u001b[0;31m---------------------------------------------------------------------------\u001b[0m",
      "\u001b[0;31mFoyerError\u001b[0m                                Traceback (most recent call last)",
      "Cell \u001b[0;32mIn [5], line 1\u001b[0m\n\u001b[0;32m----> 1\u001b[0m box_typed \u001b[38;5;241m=\u001b[39m \u001b[43mesp\u001b[49m\u001b[38;5;241;43m.\u001b[39;49m\u001b[43mapply\u001b[49m\u001b[43m(\u001b[49m\u001b[43mbox\u001b[49m\u001b[43m)\u001b[49m\n",
      "File \u001b[0;32m~/miniconda3/envs/esp/lib/python3.9/site-packages/foyer/forcefield.py:780\u001b[0m, in \u001b[0;36mForcefield.apply\u001b[0;34m(self, structure, references_file, use_residue_map, assert_bond_params, assert_angle_params, assert_dihedral_params, assert_improper_params, verbose, *args, **kwargs)\u001b[0m\n\u001b[1;32m    777\u001b[0m     \u001b[38;5;28;01mif\u001b[39;00m \u001b[38;5;28misinstance\u001b[39m(structure, mb\u001b[38;5;241m.\u001b[39mCompound):\n\u001b[1;32m    778\u001b[0m         structure \u001b[38;5;241m=\u001b[39m structure\u001b[38;5;241m.\u001b[39mto_parmed(\u001b[38;5;241m*\u001b[39m\u001b[38;5;241m*\u001b[39mkwargs)\n\u001b[0;32m--> 780\u001b[0m typemap \u001b[38;5;241m=\u001b[39m \u001b[38;5;28;43mself\u001b[39;49m\u001b[38;5;241;43m.\u001b[39;49m\u001b[43mrun_atomtyping\u001b[49m\u001b[43m(\u001b[49m\n\u001b[1;32m    781\u001b[0m \u001b[43m    \u001b[49m\u001b[43mstructure\u001b[49m\u001b[43m,\u001b[49m\u001b[43m \u001b[49m\u001b[43muse_residue_map\u001b[49m\u001b[38;5;241;43m=\u001b[39;49m\u001b[43muse_residue_map\u001b[49m\u001b[43m,\u001b[49m\u001b[43m \u001b[49m\u001b[38;5;241;43m*\u001b[39;49m\u001b[38;5;241;43m*\u001b[39;49m\u001b[43mkwargs\u001b[49m\n\u001b[1;32m    782\u001b[0m \u001b[43m\u001b[49m\u001b[43m)\u001b[49m\n\u001b[1;32m    784\u001b[0m \u001b[38;5;28mself\u001b[39m\u001b[38;5;241m.\u001b[39m_apply_typemap(structure, typemap)\n\u001b[1;32m    786\u001b[0m structure \u001b[38;5;241m=\u001b[39m \u001b[38;5;28mself\u001b[39m\u001b[38;5;241m.\u001b[39mparametrize_system(\n\u001b[1;32m    787\u001b[0m     structure\u001b[38;5;241m=\u001b[39mstructure,\n\u001b[1;32m    788\u001b[0m     references_file\u001b[38;5;241m=\u001b[39mreferences_file,\n\u001b[0;32m   (...)\u001b[0m\n\u001b[1;32m    795\u001b[0m     \u001b[38;5;241m*\u001b[39m\u001b[38;5;241m*\u001b[39mkwargs,\n\u001b[1;32m    796\u001b[0m )\n",
      "File \u001b[0;32m~/miniconda3/envs/esp/lib/python3.9/site-packages/foyer/forcefield.py:853\u001b[0m, in \u001b[0;36mForcefield.run_atomtyping\u001b[0;34m(self, structure, use_residue_map, **kwargs)\u001b[0m\n\u001b[1;32m    848\u001b[0m     \u001b[38;5;28;01mif\u001b[39;00m (\n\u001b[1;32m    849\u001b[0m         structure\u001b[38;5;241m.\u001b[39mresidues[res_id]\u001b[38;5;241m.\u001b[39mname\n\u001b[1;32m    850\u001b[0m         \u001b[38;5;129;01mnot\u001b[39;00m \u001b[38;5;129;01min\u001b[39;00m residue_map\u001b[38;5;241m.\u001b[39mkeys()\n\u001b[1;32m    851\u001b[0m     ):\n\u001b[1;32m    852\u001b[0m         tmp_res \u001b[38;5;241m=\u001b[39m _structure_from_residue(res, structure)\n\u001b[0;32m--> 853\u001b[0m         typemap \u001b[38;5;241m=\u001b[39m \u001b[43mfind_atomtypes\u001b[49m\u001b[43m(\u001b[49m\u001b[43mtmp_res\u001b[49m\u001b[43m,\u001b[49m\u001b[43m \u001b[49m\u001b[43mforcefield\u001b[49m\u001b[38;5;241;43m=\u001b[39;49m\u001b[38;5;28;43mself\u001b[39;49m\u001b[43m)\u001b[49m\n\u001b[1;32m    854\u001b[0m         residue_map[res\u001b[38;5;241m.\u001b[39mname] \u001b[38;5;241m=\u001b[39m typemap\n\u001b[1;32m    856\u001b[0m typemap \u001b[38;5;241m=\u001b[39m _unwrap_typemap(structure, residue_map)\n",
      "File \u001b[0;32m~/miniconda3/envs/esp/lib/python3.9/site-packages/foyer/atomtyper.py:145\u001b[0m, in \u001b[0;36mfind_atomtypes\u001b[0;34m(structure, forcefield, max_iter)\u001b[0m\n\u001b[1;32m    142\u001b[0m rules \u001b[38;5;241m=\u001b[39m subrules\n\u001b[1;32m    144\u001b[0m _iterate_rules(rules, topology_graph, typemap, max_iter\u001b[38;5;241m=\u001b[39mmax_iter)\n\u001b[0;32m--> 145\u001b[0m \u001b[43m_resolve_atomtypes\u001b[49m\u001b[43m(\u001b[49m\u001b[43mtopology_graph\u001b[49m\u001b[43m,\u001b[49m\u001b[43m \u001b[49m\u001b[43mtypemap\u001b[49m\u001b[43m)\u001b[49m\n\u001b[1;32m    147\u001b[0m \u001b[38;5;28;01mreturn\u001b[39;00m typemap\n",
      "File \u001b[0;32m~/miniconda3/envs/esp/lib/python3.9/site-packages/foyer/atomtyper.py:225\u001b[0m, in \u001b[0;36m_resolve_atomtypes\u001b[0;34m(topology_graph, typemap)\u001b[0m\n\u001b[1;32m    218\u001b[0m     \u001b[38;5;28;01mraise\u001b[39;00m FoyerError(\n\u001b[1;32m    219\u001b[0m         \u001b[38;5;124m\"\u001b[39m\u001b[38;5;124mFound multiple types for atom \u001b[39m\u001b[38;5;132;01m{}\u001b[39;00m\u001b[38;5;124m (\u001b[39m\u001b[38;5;132;01m{}\u001b[39;00m\u001b[38;5;124m): \u001b[39m\u001b[38;5;132;01m{}\u001b[39;00m\u001b[38;5;124m.\u001b[39m\u001b[38;5;124m\"\u001b[39m\u001b[38;5;241m.\u001b[39mformat(\n\u001b[1;32m    220\u001b[0m             atom_id, atoms[atom_id]\u001b[38;5;241m.\u001b[39matomic_number, atomtype\n\u001b[1;32m    221\u001b[0m         )\n\u001b[1;32m    222\u001b[0m     )\n\u001b[1;32m    223\u001b[0m \u001b[38;5;28;01melse\u001b[39;00m:\n\u001b[0;32m--> 225\u001b[0m     \u001b[38;5;28;01mraise\u001b[39;00m FoyerError(\n\u001b[1;32m    226\u001b[0m         \u001b[38;5;124m\"\u001b[39m\u001b[38;5;124mFound no types for atom \u001b[39m\u001b[38;5;132;01m{}\u001b[39;00m\u001b[38;5;124m (\u001b[39m\u001b[38;5;132;01m{}\u001b[39;00m\u001b[38;5;124m).\u001b[39m\u001b[38;5;124m\"\u001b[39m\u001b[38;5;241m.\u001b[39mformat(\n\u001b[1;32m    227\u001b[0m             atom_id, atoms[atom_id]\u001b[38;5;241m.\u001b[39matomic_number\n\u001b[1;32m    228\u001b[0m         )\n\u001b[1;32m    229\u001b[0m     )\n",
      "\u001b[0;31mFoyerError\u001b[0m: Found no types for atom 0 (6)."
     ]
    }
   ],
   "source": [
    "box_typed = esp.apply(box)"
   ]
  },
  {
   "cell_type": "code",
   "execution_count": null,
   "id": "316d3992",
   "metadata": {},
   "outputs": [],
   "source": []
  }
 ],
 "metadata": {
  "kernelspec": {
   "display_name": "Python 3 (ipykernel)",
   "language": "python",
   "name": "python3"
  },
  "language_info": {
   "codemirror_mode": {
    "name": "ipython",
    "version": 3
   },
   "file_extension": ".py",
   "mimetype": "text/x-python",
   "name": "python",
   "nbconvert_exporter": "python",
   "pygments_lexer": "ipython3",
   "version": "3.9.13"
  }
 },
 "nbformat": 4,
 "nbformat_minor": 5
}
