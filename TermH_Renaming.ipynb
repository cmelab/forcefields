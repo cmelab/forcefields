{
 "cells": [
  {
   "cell_type": "code",
   "execution_count": null,
   "id": "cd016b2f",
   "metadata": {},
   "outputs": [],
   "source": [
    "import warnings \n",
    "warnings.filterwarnings('ignore')\n",
    "import mbuild as mb\n",
    "import numpy\n",
    "from mbuild.lib.recipes.polymer import Polymer\n",
    "\n",
    "def term_H(polymer,fragment):\n",
    "    if polymer[-2].name == 'H' and polymer[-1].name == 'H':\n",
    "        polymer[-2].name = fragment[-2].name\n",
    "        polymer[-1].name = fragment[-1].name\n",
    "    else:\n",
    "        print('Cant solve this')\n",
    "\n",
    "## this function will build your polymer chain for you. You feed it an instance of a monomer class \n",
    "##that has the indices where the bonds need to be formed.\n",
    "def build_chain(monomer, length,bond_indices, separation,replace,orientations,min_energy):\n",
    "    chain = Polymer()\n",
    "    chain.add_monomer(compound=monomer,\n",
    "                 indices=bond_indices,\n",
    "                 separation=separation,\n",
    "                 replace=replace,\n",
    "                 orientation=orientations)\n",
    "    chain.build(n=length)\n",
    "    term_H(polymer=chain,fragment=monomer)\n",
    "    if min_energy == True:\n",
    "        chain.energy_minimize()\n",
    "    return chain\n",
    "\n"
   ]
  },
  {
   "cell_type": "code",
   "execution_count": null,
   "id": "f68e698c",
   "metadata": {},
   "outputs": [],
   "source": [
    "mon = mb.load('typed_mol2/PCPDTPT_HD.mol2.mol2')\n",
    "mon.visualize()"
   ]
  },
  {
   "cell_type": "code",
   "execution_count": null,
   "id": "93fda100",
   "metadata": {},
   "outputs": [],
   "source": [
    "pol = build_chain(monomer=mb.load('typed_mol2/PCPDTFBT_C4BO.mol2'),\n",
    "                      length=5,\n",
    "                      bond_indices=[-2,-1],\n",
    "                      separation=0.14,\n",
    "                      replace=True,\n",
    "                      orientations=[[0,0,1],[0,0,-1]],\n",
    "                      min_energy=True)\n",
    "pol.visualize()"
   ]
  },
  {
   "cell_type": "code",
   "execution_count": null,
   "id": "b18e4e22",
   "metadata": {},
   "outputs": [],
   "source": [
    "for i in range(mon.n_particles):\n",
    "    print(i, mon[i].name)"
   ]
  },
  {
   "cell_type": "code",
   "execution_count": null,
   "id": "f13e9465",
   "metadata": {},
   "outputs": [],
   "source": [
    "for i in range(pol.n_particles):\n",
    "    print(i,pol[i].name)"
   ]
  }
 ],
 "metadata": {
  "kernelspec": {
   "display_name": "Python 3 (ipykernel)",
   "language": "python",
   "name": "python3"
  },
  "language_info": {
   "codemirror_mode": {
    "name": "ipython",
    "version": 3
   },
   "file_extension": ".py",
   "mimetype": "text/x-python",
   "name": "python",
   "nbconvert_exporter": "python",
   "pygments_lexer": "ipython3",
   "version": "3.9.16"
  }
 },
 "nbformat": 4,
 "nbformat_minor": 5
}
